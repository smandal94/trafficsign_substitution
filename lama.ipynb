{
  "nbformat": 4,
  "nbformat_minor": 0,
  "metadata": {
    "colab": {
      "provenance": []
    },
    "kernelspec": {
      "name": "python3",
      "display_name": "Python 3"
    },
    "language_info": {
      "name": "python"
    },
    "accelerator": "GPU",
    "gpuClass": "standard"
  },
  "cells": [
    {
      "cell_type": "code",
      "execution_count": null,
      "metadata": {
        "colab": {
          "base_uri": "https://localhost:8080/"
        },
        "id": "fkfJSNBtIpjF",
        "outputId": "52963969-e5d7-4368-f830-69e59bc8f220"
      },
      "outputs": [
        {
          "output_type": "stream",
          "name": "stdout",
          "text": [
            "/content/drive/MyDrive/traffic_sign_substitution/lama\n",
            "/content/drive/MyDrive/traffic_sign_substitution/lama\n",
            "Sun Feb 19 05:07:41 2023       \n",
            "+-----------------------------------------------------------------------------+\n",
            "| NVIDIA-SMI 510.47.03    Driver Version: 510.47.03    CUDA Version: 11.6     |\n",
            "|-------------------------------+----------------------+----------------------+\n",
            "| GPU  Name        Persistence-M| Bus-Id        Disp.A | Volatile Uncorr. ECC |\n",
            "| Fan  Temp  Perf  Pwr:Usage/Cap|         Memory-Usage | GPU-Util  Compute M. |\n",
            "|                               |                      |               MIG M. |\n",
            "|===============================+======================+======================|\n",
            "|   0  Tesla T4            Off  | 00000000:00:04.0 Off |                    0 |\n",
            "| N/A   40C    P0    25W /  70W |      0MiB / 15360MiB |      0%      Default |\n",
            "|                               |                      |                  N/A |\n",
            "+-------------------------------+----------------------+----------------------+\n",
            "                                                                               \n",
            "+-----------------------------------------------------------------------------+\n",
            "| Processes:                                                                  |\n",
            "|  GPU   GI   CI        PID   Type   Process name                  GPU Memory |\n",
            "|        ID   ID                                                   Usage      |\n",
            "|=============================================================================|\n",
            "|  No running processes found                                                 |\n",
            "+-----------------------------------------------------------------------------+\n",
            "Looking in indexes: https://pypi.org/simple, https://us-python.pkg.dev/colab-wheels/public/simple/\n",
            "Requirement already satisfied: pyyaml in /usr/local/lib/python3.8/dist-packages (from -r requirements.txt (line 1)) (6.0)\n",
            "Requirement already satisfied: tqdm in /usr/local/lib/python3.8/dist-packages (from -r requirements.txt (line 2)) (4.64.1)\n",
            "Requirement already satisfied: numpy in /usr/local/lib/python3.8/dist-packages (from -r requirements.txt (line 3)) (1.21.6)\n",
            "Collecting easydict==1.9.0\n",
            "  Downloading easydict-1.9.tar.gz (6.4 kB)\n",
            "  Preparing metadata (setup.py) ... \u001b[?25l\u001b[?25hdone\n",
            "Collecting scikit-image==0.17.2\n",
            "  Downloading scikit_image-0.17.2-cp38-cp38-manylinux1_x86_64.whl (12.4 MB)\n",
            "\u001b[2K     \u001b[90m━━━━━━━━━━━━━━━━━━━━━━━━━━━━━━━━━━━━━━━━\u001b[0m \u001b[32m12.4/12.4 MB\u001b[0m \u001b[31m62.7 MB/s\u001b[0m eta \u001b[36m0:00:00\u001b[0m\n",
            "\u001b[?25hCollecting scikit-learn==0.24.2\n",
            "  Downloading scikit_learn-0.24.2-cp38-cp38-manylinux2010_x86_64.whl (24.9 MB)\n",
            "\u001b[2K     \u001b[90m━━━━━━━━━━━━━━━━━━━━━━━━━━━━━━━━━━━━━━━━\u001b[0m \u001b[32m24.9/24.9 MB\u001b[0m \u001b[31m50.0 MB/s\u001b[0m eta \u001b[36m0:00:00\u001b[0m\n",
            "\u001b[?25hRequirement already satisfied: opencv-python in /usr/local/lib/python3.8/dist-packages (from -r requirements.txt (line 7)) (4.6.0.66)\n",
            "Requirement already satisfied: tensorflow in /usr/local/lib/python3.8/dist-packages (from -r requirements.txt (line 8)) (2.11.0)\n",
            "Requirement already satisfied: joblib in /usr/local/lib/python3.8/dist-packages (from -r requirements.txt (line 9)) (1.2.0)\n",
            "Requirement already satisfied: matplotlib in /usr/local/lib/python3.8/dist-packages (from -r requirements.txt (line 10)) (3.2.2)\n",
            "Requirement already satisfied: pandas in /usr/local/lib/python3.8/dist-packages (from -r requirements.txt (line 11)) (1.3.5)\n",
            "Collecting albumentations==0.5.2\n",
            "  Downloading albumentations-0.5.2-py3-none-any.whl (72 kB)\n",
            "\u001b[2K     \u001b[90m━━━━━━━━━━━━━━━━━━━━━━━━━━━━━━━━━━━━━━━━\u001b[0m \u001b[32m72.2/72.2 KB\u001b[0m \u001b[31m10.4 MB/s\u001b[0m eta \u001b[36m0:00:00\u001b[0m\n",
            "\u001b[?25hCollecting hydra-core==1.1.0\n",
            "  Downloading hydra_core-1.1.0-py3-none-any.whl (144 kB)\n",
            "\u001b[2K     \u001b[90m━━━━━━━━━━━━━━━━━━━━━━━━━━━━━━━━━━━━━━\u001b[0m \u001b[32m144.6/144.6 KB\u001b[0m \u001b[31m17.9 MB/s\u001b[0m eta \u001b[36m0:00:00\u001b[0m\n",
            "\u001b[?25hCollecting pytorch-lightning==1.2.9\n",
            "  Downloading pytorch_lightning-1.2.9-py3-none-any.whl (841 kB)\n",
            "\u001b[2K     \u001b[90m━━━━━━━━━━━━━━━━━━━━━━━━━━━━━━━━━━━━━━\u001b[0m \u001b[32m841.9/841.9 KB\u001b[0m \u001b[31m56.6 MB/s\u001b[0m eta \u001b[36m0:00:00\u001b[0m\n",
            "\u001b[?25hRequirement already satisfied: tabulate in /usr/local/lib/python3.8/dist-packages (from -r requirements.txt (line 15)) (0.8.10)\n",
            "Collecting kornia==0.5.0\n",
            "  Downloading kornia-0.5.0-py2.py3-none-any.whl (271 kB)\n",
            "\u001b[2K     \u001b[90m━━━━━━━━━━━━━━━━━━━━━━━━━━━━━━━━━━━━━━\u001b[0m \u001b[32m271.5/271.5 KB\u001b[0m \u001b[31m29.6 MB/s\u001b[0m eta \u001b[36m0:00:00\u001b[0m\n",
            "\u001b[?25hCollecting webdataset\n",
            "  Downloading webdataset-0.2.33-py3-none-any.whl (51 kB)\n",
            "\u001b[2K     \u001b[90m━━━━━━━━━━━━━━━━━━━━━━━━━━━━━━━━━━━━━━━━\u001b[0m \u001b[32m51.1/51.1 KB\u001b[0m \u001b[31m3.9 MB/s\u001b[0m eta \u001b[36m0:00:00\u001b[0m\n",
            "\u001b[?25hRequirement already satisfied: packaging in /usr/local/lib/python3.8/dist-packages (from -r requirements.txt (line 18)) (23.0)\n",
            "Collecting wldhx.yadisk-direct\n",
            "  Downloading wldhx.yadisk_direct-0.0.6-py3-none-any.whl (4.5 kB)\n",
            "Requirement already satisfied: imageio>=2.3.0 in /usr/local/lib/python3.8/dist-packages (from scikit-image==0.17.2->-r requirements.txt (line 5)) (2.9.0)\n",
            "Requirement already satisfied: PyWavelets>=1.1.1 in /usr/local/lib/python3.8/dist-packages (from scikit-image==0.17.2->-r requirements.txt (line 5)) (1.4.1)\n",
            "Requirement already satisfied: tifffile>=2019.7.26 in /usr/local/lib/python3.8/dist-packages (from scikit-image==0.17.2->-r requirements.txt (line 5)) (2023.2.3)\n",
            "Requirement already satisfied: scipy>=1.0.1 in /usr/local/lib/python3.8/dist-packages (from scikit-image==0.17.2->-r requirements.txt (line 5)) (1.7.3)\n",
            "Requirement already satisfied: networkx>=2.0 in /usr/local/lib/python3.8/dist-packages (from scikit-image==0.17.2->-r requirements.txt (line 5)) (3.0)\n",
            "Requirement already satisfied: pillow!=7.1.0,!=7.1.1,>=4.3.0 in /usr/local/lib/python3.8/dist-packages (from scikit-image==0.17.2->-r requirements.txt (line 5)) (7.1.2)\n",
            "Requirement already satisfied: threadpoolctl>=2.0.0 in /usr/local/lib/python3.8/dist-packages (from scikit-learn==0.24.2->-r requirements.txt (line 6)) (3.1.0)\n",
            "Requirement already satisfied: imgaug>=0.4.0 in /usr/local/lib/python3.8/dist-packages (from albumentations==0.5.2->-r requirements.txt (line 12)) (0.4.0)\n",
            "Requirement already satisfied: opencv-python-headless>=4.1.1 in /usr/local/lib/python3.8/dist-packages (from albumentations==0.5.2->-r requirements.txt (line 12)) (4.7.0.68)\n",
            "Requirement already satisfied: importlib-resources in /usr/local/lib/python3.8/dist-packages (from hydra-core==1.1.0->-r requirements.txt (line 13)) (5.10.2)\n",
            "Collecting omegaconf==2.1.*\n",
            "  Downloading omegaconf-2.1.2-py3-none-any.whl (74 kB)\n",
            "\u001b[2K     \u001b[90m━━━━━━━━━━━━━━━━━━━━━━━━━━━━━━━━━━━━━━━━\u001b[0m \u001b[32m74.7/74.7 KB\u001b[0m \u001b[31m9.2 MB/s\u001b[0m eta \u001b[36m0:00:00\u001b[0m\n",
            "\u001b[?25hCollecting antlr4-python3-runtime==4.8\n",
            "  Downloading antlr4-python3-runtime-4.8.tar.gz (112 kB)\n",
            "\u001b[2K     \u001b[90m━━━━━━━━━━━━━━━━━━━━━━━━━━━━━━━━━━━━━━\u001b[0m \u001b[32m112.4/112.4 KB\u001b[0m \u001b[31m15.1 MB/s\u001b[0m eta \u001b[36m0:00:00\u001b[0m\n",
            "\u001b[?25h  Preparing metadata (setup.py) ... \u001b[?25l\u001b[?25hdone\n",
            "Requirement already satisfied: torch>=1.4 in /usr/local/lib/python3.8/dist-packages (from pytorch-lightning==1.2.9->-r requirements.txt (line 14)) (1.13.1+cu116)\n",
            "Requirement already satisfied: tensorboard!=2.5.0,>=2.2.0 in /usr/local/lib/python3.8/dist-packages (from pytorch-lightning==1.2.9->-r requirements.txt (line 14)) (2.11.2)\n",
            "Collecting future>=0.17.1\n",
            "  Downloading future-0.18.3.tar.gz (840 kB)\n",
            "\u001b[2K     \u001b[90m━━━━━━━━━━━━━━━━━━━━━━━━━━━━━━━━━━━━━━\u001b[0m \u001b[32m840.9/840.9 KB\u001b[0m \u001b[31m65.4 MB/s\u001b[0m eta \u001b[36m0:00:00\u001b[0m\n",
            "\u001b[?25h  Preparing metadata (setup.py) ... \u001b[?25l\u001b[?25hdone\n",
            "Collecting torchmetrics==0.2.0\n",
            "  Downloading torchmetrics-0.2.0-py3-none-any.whl (176 kB)\n",
            "\u001b[2K     \u001b[90m━━━━━━━━━━━━━━━━━━━━━━━━━━━━━━━━━━━━━━\u001b[0m \u001b[32m176.9/176.9 KB\u001b[0m \u001b[31m21.4 MB/s\u001b[0m eta \u001b[36m0:00:00\u001b[0m\n",
            "\u001b[?25hRequirement already satisfied: fsspec[http]>=0.8.1 in /usr/local/lib/python3.8/dist-packages (from pytorch-lightning==1.2.9->-r requirements.txt (line 14)) (2023.1.0)\n",
            "Requirement already satisfied: tensorflow-estimator<2.12,>=2.11.0 in /usr/local/lib/python3.8/dist-packages (from tensorflow->-r requirements.txt (line 8)) (2.11.0)\n",
            "Requirement already satisfied: setuptools in /usr/local/lib/python3.8/dist-packages (from tensorflow->-r requirements.txt (line 8)) (57.4.0)\n",
            "Requirement already satisfied: grpcio<2.0,>=1.24.3 in /usr/local/lib/python3.8/dist-packages (from tensorflow->-r requirements.txt (line 8)) (1.51.1)\n",
            "Requirement already satisfied: protobuf<3.20,>=3.9.2 in /usr/local/lib/python3.8/dist-packages (from tensorflow->-r requirements.txt (line 8)) (3.19.6)\n",
            "Requirement already satisfied: tensorflow-io-gcs-filesystem>=0.23.1 in /usr/local/lib/python3.8/dist-packages (from tensorflow->-r requirements.txt (line 8)) (0.30.0)\n",
            "Requirement already satisfied: wrapt>=1.11.0 in /usr/local/lib/python3.8/dist-packages (from tensorflow->-r requirements.txt (line 8)) (1.14.1)\n",
            "Requirement already satisfied: keras<2.12,>=2.11.0 in /usr/local/lib/python3.8/dist-packages (from tensorflow->-r requirements.txt (line 8)) (2.11.0)\n",
            "Requirement already satisfied: typing-extensions>=3.6.6 in /usr/local/lib/python3.8/dist-packages (from tensorflow->-r requirements.txt (line 8)) (4.5.0)\n",
            "Requirement already satisfied: flatbuffers>=2.0 in /usr/local/lib/python3.8/dist-packages (from tensorflow->-r requirements.txt (line 8)) (23.1.21)\n",
            "Requirement already satisfied: termcolor>=1.1.0 in /usr/local/lib/python3.8/dist-packages (from tensorflow->-r requirements.txt (line 8)) (2.2.0)\n",
            "Requirement already satisfied: astunparse>=1.6.0 in /usr/local/lib/python3.8/dist-packages (from tensorflow->-r requirements.txt (line 8)) (1.6.3)\n",
            "Requirement already satisfied: gast<=0.4.0,>=0.2.1 in /usr/local/lib/python3.8/dist-packages (from tensorflow->-r requirements.txt (line 8)) (0.4.0)\n",
            "Requirement already satisfied: opt-einsum>=2.3.2 in /usr/local/lib/python3.8/dist-packages (from tensorflow->-r requirements.txt (line 8)) (3.3.0)\n",
            "Requirement already satisfied: six>=1.12.0 in /usr/local/lib/python3.8/dist-packages (from tensorflow->-r requirements.txt (line 8)) (1.15.0)\n",
            "Requirement already satisfied: h5py>=2.9.0 in /usr/local/lib/python3.8/dist-packages (from tensorflow->-r requirements.txt (line 8)) (3.1.0)\n",
            "Requirement already satisfied: google-pasta>=0.1.1 in /usr/local/lib/python3.8/dist-packages (from tensorflow->-r requirements.txt (line 8)) (0.2.0)\n",
            "Requirement already satisfied: libclang>=13.0.0 in /usr/local/lib/python3.8/dist-packages (from tensorflow->-r requirements.txt (line 8)) (15.0.6.1)\n",
            "Requirement already satisfied: absl-py>=1.0.0 in /usr/local/lib/python3.8/dist-packages (from tensorflow->-r requirements.txt (line 8)) (1.4.0)\n",
            "Requirement already satisfied: python-dateutil>=2.1 in /usr/local/lib/python3.8/dist-packages (from matplotlib->-r requirements.txt (line 10)) (2.8.2)\n",
            "Requirement already satisfied: kiwisolver>=1.0.1 in /usr/local/lib/python3.8/dist-packages (from matplotlib->-r requirements.txt (line 10)) (1.4.4)\n",
            "Requirement already satisfied: pyparsing!=2.0.4,!=2.1.2,!=2.1.6,>=2.0.1 in /usr/local/lib/python3.8/dist-packages (from matplotlib->-r requirements.txt (line 10)) (3.0.9)\n",
            "Requirement already satisfied: cycler>=0.10 in /usr/local/lib/python3.8/dist-packages (from matplotlib->-r requirements.txt (line 10)) (0.11.0)\n",
            "Requirement already satisfied: pytz>=2017.3 in /usr/local/lib/python3.8/dist-packages (from pandas->-r requirements.txt (line 11)) (2022.7.1)\n",
            "Collecting braceexpand\n",
            "  Downloading braceexpand-0.1.7-py2.py3-none-any.whl (5.9 kB)\n",
            "Requirement already satisfied: requests in /usr/local/lib/python3.8/dist-packages (from wldhx.yadisk-direct->-r requirements.txt (line 20)) (2.25.1)\n",
            "Requirement already satisfied: wheel<1.0,>=0.23.0 in /usr/local/lib/python3.8/dist-packages (from astunparse>=1.6.0->tensorflow->-r requirements.txt (line 8)) (0.38.4)\n",
            "Requirement already satisfied: aiohttp!=4.0.0a0,!=4.0.0a1 in /usr/local/lib/python3.8/dist-packages (from fsspec[http]>=0.8.1->pytorch-lightning==1.2.9->-r requirements.txt (line 14)) (3.8.4)\n",
            "Requirement already satisfied: Shapely in /usr/local/lib/python3.8/dist-packages (from imgaug>=0.4.0->albumentations==0.5.2->-r requirements.txt (line 12)) (2.0.1)\n",
            "Requirement already satisfied: tensorboard-plugin-wit>=1.6.0 in /usr/local/lib/python3.8/dist-packages (from tensorboard!=2.5.0,>=2.2.0->pytorch-lightning==1.2.9->-r requirements.txt (line 14)) (1.8.1)\n",
            "Requirement already satisfied: google-auth-oauthlib<0.5,>=0.4.1 in /usr/local/lib/python3.8/dist-packages (from tensorboard!=2.5.0,>=2.2.0->pytorch-lightning==1.2.9->-r requirements.txt (line 14)) (0.4.6)\n",
            "Requirement already satisfied: werkzeug>=1.0.1 in /usr/local/lib/python3.8/dist-packages (from tensorboard!=2.5.0,>=2.2.0->pytorch-lightning==1.2.9->-r requirements.txt (line 14)) (1.0.1)\n",
            "Requirement already satisfied: google-auth<3,>=1.6.3 in /usr/local/lib/python3.8/dist-packages (from tensorboard!=2.5.0,>=2.2.0->pytorch-lightning==1.2.9->-r requirements.txt (line 14)) (2.16.0)\n",
            "Requirement already satisfied: markdown>=2.6.8 in /usr/local/lib/python3.8/dist-packages (from tensorboard!=2.5.0,>=2.2.0->pytorch-lightning==1.2.9->-r requirements.txt (line 14)) (3.4.1)\n",
            "Requirement already satisfied: tensorboard-data-server<0.7.0,>=0.6.0 in /usr/local/lib/python3.8/dist-packages (from tensorboard!=2.5.0,>=2.2.0->pytorch-lightning==1.2.9->-r requirements.txt (line 14)) (0.6.1)\n",
            "Requirement already satisfied: urllib3<1.27,>=1.21.1 in /usr/local/lib/python3.8/dist-packages (from requests->wldhx.yadisk-direct->-r requirements.txt (line 20)) (1.24.3)\n",
            "Requirement already satisfied: chardet<5,>=3.0.2 in /usr/local/lib/python3.8/dist-packages (from requests->wldhx.yadisk-direct->-r requirements.txt (line 20)) (4.0.0)\n",
            "Requirement already satisfied: certifi>=2017.4.17 in /usr/local/lib/python3.8/dist-packages (from requests->wldhx.yadisk-direct->-r requirements.txt (line 20)) (2022.12.7)\n",
            "Requirement already satisfied: idna<3,>=2.5 in /usr/local/lib/python3.8/dist-packages (from requests->wldhx.yadisk-direct->-r requirements.txt (line 20)) (2.10)\n",
            "Requirement already satisfied: zipp>=3.1.0 in /usr/local/lib/python3.8/dist-packages (from importlib-resources->hydra-core==1.1.0->-r requirements.txt (line 13)) (3.13.0)\n",
            "Requirement already satisfied: yarl<2.0,>=1.0 in /usr/local/lib/python3.8/dist-packages (from aiohttp!=4.0.0a0,!=4.0.0a1->fsspec[http]>=0.8.1->pytorch-lightning==1.2.9->-r requirements.txt (line 14)) (1.8.2)\n",
            "Requirement already satisfied: async-timeout<5.0,>=4.0.0a3 in /usr/local/lib/python3.8/dist-packages (from aiohttp!=4.0.0a0,!=4.0.0a1->fsspec[http]>=0.8.1->pytorch-lightning==1.2.9->-r requirements.txt (line 14)) (4.0.2)\n",
            "Requirement already satisfied: aiosignal>=1.1.2 in /usr/local/lib/python3.8/dist-packages (from aiohttp!=4.0.0a0,!=4.0.0a1->fsspec[http]>=0.8.1->pytorch-lightning==1.2.9->-r requirements.txt (line 14)) (1.3.1)\n",
            "Requirement already satisfied: charset-normalizer<4.0,>=2.0 in /usr/local/lib/python3.8/dist-packages (from aiohttp!=4.0.0a0,!=4.0.0a1->fsspec[http]>=0.8.1->pytorch-lightning==1.2.9->-r requirements.txt (line 14)) (3.0.1)\n",
            "Requirement already satisfied: attrs>=17.3.0 in /usr/local/lib/python3.8/dist-packages (from aiohttp!=4.0.0a0,!=4.0.0a1->fsspec[http]>=0.8.1->pytorch-lightning==1.2.9->-r requirements.txt (line 14)) (22.2.0)\n",
            "Requirement already satisfied: multidict<7.0,>=4.5 in /usr/local/lib/python3.8/dist-packages (from aiohttp!=4.0.0a0,!=4.0.0a1->fsspec[http]>=0.8.1->pytorch-lightning==1.2.9->-r requirements.txt (line 14)) (6.0.4)\n",
            "Requirement already satisfied: frozenlist>=1.1.1 in /usr/local/lib/python3.8/dist-packages (from aiohttp!=4.0.0a0,!=4.0.0a1->fsspec[http]>=0.8.1->pytorch-lightning==1.2.9->-r requirements.txt (line 14)) (1.3.3)\n",
            "Requirement already satisfied: rsa<5,>=3.1.4 in /usr/local/lib/python3.8/dist-packages (from google-auth<3,>=1.6.3->tensorboard!=2.5.0,>=2.2.0->pytorch-lightning==1.2.9->-r requirements.txt (line 14)) (4.9)\n",
            "Requirement already satisfied: pyasn1-modules>=0.2.1 in /usr/local/lib/python3.8/dist-packages (from google-auth<3,>=1.6.3->tensorboard!=2.5.0,>=2.2.0->pytorch-lightning==1.2.9->-r requirements.txt (line 14)) (0.2.8)\n",
            "Requirement already satisfied: cachetools<6.0,>=2.0.0 in /usr/local/lib/python3.8/dist-packages (from google-auth<3,>=1.6.3->tensorboard!=2.5.0,>=2.2.0->pytorch-lightning==1.2.9->-r requirements.txt (line 14)) (5.3.0)\n",
            "Requirement already satisfied: requests-oauthlib>=0.7.0 in /usr/local/lib/python3.8/dist-packages (from google-auth-oauthlib<0.5,>=0.4.1->tensorboard!=2.5.0,>=2.2.0->pytorch-lightning==1.2.9->-r requirements.txt (line 14)) (1.3.1)\n",
            "Requirement already satisfied: importlib-metadata>=4.4 in /usr/local/lib/python3.8/dist-packages (from markdown>=2.6.8->tensorboard!=2.5.0,>=2.2.0->pytorch-lightning==1.2.9->-r requirements.txt (line 14)) (6.0.0)\n",
            "Requirement already satisfied: pyasn1<0.5.0,>=0.4.6 in /usr/local/lib/python3.8/dist-packages (from pyasn1-modules>=0.2.1->google-auth<3,>=1.6.3->tensorboard!=2.5.0,>=2.2.0->pytorch-lightning==1.2.9->-r requirements.txt (line 14)) (0.4.8)\n",
            "Requirement already satisfied: oauthlib>=3.0.0 in /usr/local/lib/python3.8/dist-packages (from requests-oauthlib>=0.7.0->google-auth-oauthlib<0.5,>=0.4.1->tensorboard!=2.5.0,>=2.2.0->pytorch-lightning==1.2.9->-r requirements.txt (line 14)) (3.2.2)\n",
            "Building wheels for collected packages: easydict, antlr4-python3-runtime, future\n",
            "  Building wheel for easydict (setup.py) ... \u001b[?25l\u001b[?25hdone\n",
            "  Created wheel for easydict: filename=easydict-1.9-py3-none-any.whl size=6360 sha256=49daa8eaa3376c2de49e2adb852d21a3a16cca17afaae759ed7df3b129465426\n",
            "  Stored in directory: /root/.cache/pip/wheels/d3/e0/e9/305e348717e399665119bd012510d51ff4f22d709ff60c3096\n",
            "  Building wheel for antlr4-python3-runtime (setup.py) ... \u001b[?25l\u001b[?25hdone\n",
            "  Created wheel for antlr4-python3-runtime: filename=antlr4_python3_runtime-4.8-py3-none-any.whl size=141231 sha256=027e856c03a236d59b177d9ba3e7b48989b65e1598009e7a231dd73a11916272\n",
            "  Stored in directory: /root/.cache/pip/wheels/c8/d0/ab/d43c02eaddc5b9004db86950802442ad9a26f279c619e28da0\n",
            "  Building wheel for future (setup.py) ... \u001b[?25l\u001b[?25hdone\n",
            "  Created wheel for future: filename=future-0.18.3-py3-none-any.whl size=492036 sha256=c70fa81a82130dd50f8aba98b6859133a128a13c5a0560f021bd66f71957cb7e\n",
            "  Stored in directory: /root/.cache/pip/wheels/a0/0b/ee/e6994fadb42c1354dcccb139b0bf2795271bddfe6253ccdf11\n",
            "Successfully built easydict antlr4-python3-runtime future\n",
            "Installing collected packages: easydict, braceexpand, antlr4-python3-runtime, webdataset, omegaconf, future, wldhx.yadisk-direct, torchmetrics, scikit-learn, kornia, hydra-core, scikit-image, pytorch-lightning, albumentations\n",
            "  Attempting uninstall: easydict\n",
            "    Found existing installation: easydict 1.10\n",
            "    Uninstalling easydict-1.10:\n",
            "      Successfully uninstalled easydict-1.10\n",
            "  Attempting uninstall: future\n",
            "    Found existing installation: future 0.16.0\n",
            "    Uninstalling future-0.16.0:\n",
            "      Successfully uninstalled future-0.16.0\n",
            "  Attempting uninstall: scikit-learn\n",
            "    Found existing installation: scikit-learn 1.0.2\n",
            "    Uninstalling scikit-learn-1.0.2:\n",
            "      Successfully uninstalled scikit-learn-1.0.2\n",
            "  Attempting uninstall: scikit-image\n",
            "    Found existing installation: scikit-image 0.18.3\n",
            "    Uninstalling scikit-image-0.18.3:\n",
            "      Successfully uninstalled scikit-image-0.18.3\n",
            "  Attempting uninstall: albumentations\n",
            "    Found existing installation: albumentations 1.2.1\n",
            "    Uninstalling albumentations-1.2.1:\n",
            "      Successfully uninstalled albumentations-1.2.1\n",
            "\u001b[31mERROR: pip's dependency resolver does not currently take into account all the packages that are installed. This behaviour is the source of the following dependency conflicts.\n",
            "yellowbrick 1.5 requires scikit-learn>=1.0.0, but you have scikit-learn 0.24.2 which is incompatible.\u001b[0m\u001b[31m\n",
            "\u001b[0mSuccessfully installed albumentations-0.5.2 antlr4-python3-runtime-4.8 braceexpand-0.1.7 easydict-1.9 future-0.18.3 hydra-core-1.1.0 kornia-0.5.0 omegaconf-2.1.2 pytorch-lightning-1.2.9 scikit-image-0.17.2 scikit-learn-0.24.2 torchmetrics-0.2.0 webdataset-0.2.33 wldhx.yadisk-direct-0.0.6\n",
            "Looking in indexes: https://pypi.org/simple, https://us-python.pkg.dev/colab-wheels/public/simple/\n",
            "Collecting pytorch-lightning==1.6.5\n",
            "  Downloading pytorch_lightning-1.6.5-py3-none-any.whl (585 kB)\n",
            "\u001b[2K     \u001b[90m━━━━━━━━━━━━━━━━━━━━━━━━━━━━━━━━━━━━━━\u001b[0m \u001b[32m585.9/585.9 KB\u001b[0m \u001b[31m14.9 MB/s\u001b[0m eta \u001b[36m0:00:00\u001b[0m\n",
            "\u001b[?25hRequirement already satisfied: packaging>=17.0 in /usr/local/lib/python3.8/dist-packages (from pytorch-lightning==1.6.5) (23.0)\n",
            "Requirement already satisfied: numpy>=1.17.2 in /usr/local/lib/python3.8/dist-packages (from pytorch-lightning==1.6.5) (1.21.6)\n",
            "Requirement already satisfied: tqdm>=4.57.0 in /usr/local/lib/python3.8/dist-packages (from pytorch-lightning==1.6.5) (4.64.1)\n",
            "Collecting pyDeprecate>=0.3.1\n",
            "  Downloading pyDeprecate-0.3.2-py3-none-any.whl (10 kB)\n",
            "Requirement already satisfied: fsspec[http]!=2021.06.0,>=2021.05.0 in /usr/local/lib/python3.8/dist-packages (from pytorch-lightning==1.6.5) (2023.1.0)\n",
            "Requirement already satisfied: typing-extensions>=4.0.0 in /usr/local/lib/python3.8/dist-packages (from pytorch-lightning==1.6.5) (4.5.0)\n",
            "Requirement already satisfied: protobuf<=3.20.1 in /usr/local/lib/python3.8/dist-packages (from pytorch-lightning==1.6.5) (3.19.6)\n",
            "Requirement already satisfied: torch>=1.8.* in /usr/local/lib/python3.8/dist-packages (from pytorch-lightning==1.6.5) (1.13.1+cu116)\n",
            "Requirement already satisfied: tensorboard>=2.2.0 in /usr/local/lib/python3.8/dist-packages (from pytorch-lightning==1.6.5) (2.11.2)\n",
            "Requirement already satisfied: PyYAML>=5.4 in /usr/local/lib/python3.8/dist-packages (from pytorch-lightning==1.6.5) (6.0)\n",
            "Collecting torchmetrics>=0.4.1\n",
            "  Downloading torchmetrics-0.11.1-py3-none-any.whl (517 kB)\n",
            "\u001b[2K     \u001b[90m━━━━━━━━━━━━━━━━━━━━━━━━━━━━━━━━━━━━━━\u001b[0m \u001b[32m517.2/517.2 KB\u001b[0m \u001b[31m51.9 MB/s\u001b[0m eta \u001b[36m0:00:00\u001b[0m\n",
            "\u001b[?25hRequirement already satisfied: requests in /usr/local/lib/python3.8/dist-packages (from fsspec[http]!=2021.06.0,>=2021.05.0->pytorch-lightning==1.6.5) (2.25.1)\n",
            "Requirement already satisfied: aiohttp!=4.0.0a0,!=4.0.0a1 in /usr/local/lib/python3.8/dist-packages (from fsspec[http]!=2021.06.0,>=2021.05.0->pytorch-lightning==1.6.5) (3.8.4)\n",
            "Requirement already satisfied: google-auth-oauthlib<0.5,>=0.4.1 in /usr/local/lib/python3.8/dist-packages (from tensorboard>=2.2.0->pytorch-lightning==1.6.5) (0.4.6)\n",
            "Requirement already satisfied: werkzeug>=1.0.1 in /usr/local/lib/python3.8/dist-packages (from tensorboard>=2.2.0->pytorch-lightning==1.6.5) (1.0.1)\n",
            "Requirement already satisfied: tensorboard-data-server<0.7.0,>=0.6.0 in /usr/local/lib/python3.8/dist-packages (from tensorboard>=2.2.0->pytorch-lightning==1.6.5) (0.6.1)\n",
            "Requirement already satisfied: google-auth<3,>=1.6.3 in /usr/local/lib/python3.8/dist-packages (from tensorboard>=2.2.0->pytorch-lightning==1.6.5) (2.16.0)\n",
            "Requirement already satisfied: setuptools>=41.0.0 in /usr/local/lib/python3.8/dist-packages (from tensorboard>=2.2.0->pytorch-lightning==1.6.5) (57.4.0)\n",
            "Requirement already satisfied: tensorboard-plugin-wit>=1.6.0 in /usr/local/lib/python3.8/dist-packages (from tensorboard>=2.2.0->pytorch-lightning==1.6.5) (1.8.1)\n",
            "Requirement already satisfied: grpcio>=1.24.3 in /usr/local/lib/python3.8/dist-packages (from tensorboard>=2.2.0->pytorch-lightning==1.6.5) (1.51.1)\n",
            "Requirement already satisfied: markdown>=2.6.8 in /usr/local/lib/python3.8/dist-packages (from tensorboard>=2.2.0->pytorch-lightning==1.6.5) (3.4.1)\n",
            "Requirement already satisfied: wheel>=0.26 in /usr/local/lib/python3.8/dist-packages (from tensorboard>=2.2.0->pytorch-lightning==1.6.5) (0.38.4)\n",
            "Requirement already satisfied: absl-py>=0.4 in /usr/local/lib/python3.8/dist-packages (from tensorboard>=2.2.0->pytorch-lightning==1.6.5) (1.4.0)\n",
            "Requirement already satisfied: yarl<2.0,>=1.0 in /usr/local/lib/python3.8/dist-packages (from aiohttp!=4.0.0a0,!=4.0.0a1->fsspec[http]!=2021.06.0,>=2021.05.0->pytorch-lightning==1.6.5) (1.8.2)\n",
            "Requirement already satisfied: attrs>=17.3.0 in /usr/local/lib/python3.8/dist-packages (from aiohttp!=4.0.0a0,!=4.0.0a1->fsspec[http]!=2021.06.0,>=2021.05.0->pytorch-lightning==1.6.5) (22.2.0)\n",
            "Requirement already satisfied: multidict<7.0,>=4.5 in /usr/local/lib/python3.8/dist-packages (from aiohttp!=4.0.0a0,!=4.0.0a1->fsspec[http]!=2021.06.0,>=2021.05.0->pytorch-lightning==1.6.5) (6.0.4)\n",
            "Requirement already satisfied: frozenlist>=1.1.1 in /usr/local/lib/python3.8/dist-packages (from aiohttp!=4.0.0a0,!=4.0.0a1->fsspec[http]!=2021.06.0,>=2021.05.0->pytorch-lightning==1.6.5) (1.3.3)\n",
            "Requirement already satisfied: aiosignal>=1.1.2 in /usr/local/lib/python3.8/dist-packages (from aiohttp!=4.0.0a0,!=4.0.0a1->fsspec[http]!=2021.06.0,>=2021.05.0->pytorch-lightning==1.6.5) (1.3.1)\n",
            "Requirement already satisfied: async-timeout<5.0,>=4.0.0a3 in /usr/local/lib/python3.8/dist-packages (from aiohttp!=4.0.0a0,!=4.0.0a1->fsspec[http]!=2021.06.0,>=2021.05.0->pytorch-lightning==1.6.5) (4.0.2)\n",
            "Requirement already satisfied: charset-normalizer<4.0,>=2.0 in /usr/local/lib/python3.8/dist-packages (from aiohttp!=4.0.0a0,!=4.0.0a1->fsspec[http]!=2021.06.0,>=2021.05.0->pytorch-lightning==1.6.5) (3.0.1)\n",
            "Requirement already satisfied: cachetools<6.0,>=2.0.0 in /usr/local/lib/python3.8/dist-packages (from google-auth<3,>=1.6.3->tensorboard>=2.2.0->pytorch-lightning==1.6.5) (5.3.0)\n",
            "Requirement already satisfied: rsa<5,>=3.1.4 in /usr/local/lib/python3.8/dist-packages (from google-auth<3,>=1.6.3->tensorboard>=2.2.0->pytorch-lightning==1.6.5) (4.9)\n",
            "Requirement already satisfied: pyasn1-modules>=0.2.1 in /usr/local/lib/python3.8/dist-packages (from google-auth<3,>=1.6.3->tensorboard>=2.2.0->pytorch-lightning==1.6.5) (0.2.8)\n",
            "Requirement already satisfied: six>=1.9.0 in /usr/local/lib/python3.8/dist-packages (from google-auth<3,>=1.6.3->tensorboard>=2.2.0->pytorch-lightning==1.6.5) (1.15.0)\n",
            "Requirement already satisfied: requests-oauthlib>=0.7.0 in /usr/local/lib/python3.8/dist-packages (from google-auth-oauthlib<0.5,>=0.4.1->tensorboard>=2.2.0->pytorch-lightning==1.6.5) (1.3.1)\n",
            "Requirement already satisfied: importlib-metadata>=4.4 in /usr/local/lib/python3.8/dist-packages (from markdown>=2.6.8->tensorboard>=2.2.0->pytorch-lightning==1.6.5) (6.0.0)\n",
            "Requirement already satisfied: idna<3,>=2.5 in /usr/local/lib/python3.8/dist-packages (from requests->fsspec[http]!=2021.06.0,>=2021.05.0->pytorch-lightning==1.6.5) (2.10)\n",
            "Requirement already satisfied: urllib3<1.27,>=1.21.1 in /usr/local/lib/python3.8/dist-packages (from requests->fsspec[http]!=2021.06.0,>=2021.05.0->pytorch-lightning==1.6.5) (1.24.3)\n",
            "Requirement already satisfied: certifi>=2017.4.17 in /usr/local/lib/python3.8/dist-packages (from requests->fsspec[http]!=2021.06.0,>=2021.05.0->pytorch-lightning==1.6.5) (2022.12.7)\n",
            "Requirement already satisfied: chardet<5,>=3.0.2 in /usr/local/lib/python3.8/dist-packages (from requests->fsspec[http]!=2021.06.0,>=2021.05.0->pytorch-lightning==1.6.5) (4.0.0)\n",
            "Requirement already satisfied: zipp>=0.5 in /usr/local/lib/python3.8/dist-packages (from importlib-metadata>=4.4->markdown>=2.6.8->tensorboard>=2.2.0->pytorch-lightning==1.6.5) (3.13.0)\n",
            "Requirement already satisfied: pyasn1<0.5.0,>=0.4.6 in /usr/local/lib/python3.8/dist-packages (from pyasn1-modules>=0.2.1->google-auth<3,>=1.6.3->tensorboard>=2.2.0->pytorch-lightning==1.6.5) (0.4.8)\n",
            "Requirement already satisfied: oauthlib>=3.0.0 in /usr/local/lib/python3.8/dist-packages (from requests-oauthlib>=0.7.0->google-auth-oauthlib<0.5,>=0.4.1->tensorboard>=2.2.0->pytorch-lightning==1.6.5) (3.2.2)\n",
            "Installing collected packages: pyDeprecate, torchmetrics, pytorch-lightning\n",
            "  Attempting uninstall: torchmetrics\n",
            "    Found existing installation: torchmetrics 0.2.0\n",
            "    Uninstalling torchmetrics-0.2.0:\n",
            "      Successfully uninstalled torchmetrics-0.2.0\n",
            "  Attempting uninstall: pytorch-lightning\n",
            "    Found existing installation: pytorch-lightning 1.2.9\n",
            "    Uninstalling pytorch-lightning-1.2.9:\n",
            "      Successfully uninstalled pytorch-lightning-1.2.9\n",
            "Successfully installed pyDeprecate-0.3.2 pytorch-lightning-1.6.5 torchmetrics-0.11.1\n",
            "pytorch-lightning==1.6.5\n",
            "torch @ https://download.pytorch.org/whl/cu116/torch-1.13.1%2Bcu116-cp38-cp38-linux_x86_64.whl\n",
            "torchaudio @ https://download.pytorch.org/whl/cu116/torchaudio-0.13.1%2Bcu116-cp38-cp38-linux_x86_64.whl\n",
            "torchvision @ https://download.pytorch.org/whl/cu116/torchvision-0.14.1%2Bcu116-cp38-cp38-linux_x86_64.whl\n"
          ]
        }
      ],
      "source": [
        "%cd /content/drive/MyDrive/traffic_sign_substitution/lama\n",
        "!pwd\n",
        "!nvidia-smi\n",
        "!pip install -r requirements.txt\n",
        "!pip install pytorch-lightning==1.6.5\n",
        "!pip freeze | grep pytorch\n",
        "import glob"
      ]
    },
    {
      "cell_type": "code",
      "source": [
        "!export TORCH_HOME=$(pwd) && export PYTHONPATH=$(pwd)\n",
        "!pwd\n",
        "!python3 predict.py refine=True model.path=$(pwd)/big-lama indir=$(pwd)/DFG_test_images outdir=$(pwd)/output"
      ],
      "metadata": {
        "colab": {
          "base_uri": "https://localhost:8080/"
        },
        "id": "cqGFKveDI6cj",
        "outputId": "88b0824b-87ae-4f7e-a930-1cb137cf7217"
      },
      "execution_count": null,
      "outputs": [
        {
          "output_type": "stream",
          "name": "stdout",
          "text": [
            "\u001b[1;30;43mStreaming output truncated to the last 5000 lines.\u001b[0m\n",
            "Refining scale 2 using scale 1 ...current loss: 0.0258: 100% 15/15 [00:11<00:00,  1.42it/s]\u001b[A\n",
            " 80% 599/746 [1:57:01<28:34, 11.66s/it]\n",
            "  0% 0/15 [00:00<?, ?it/s]\u001b[A\n",
            "                          \u001b[A\n",
            "  0% 0/15 [00:00<?, ?it/s]\u001b[A\n",
            "Refining scale 2 using scale 1 ...current loss: 0.0252:   0% 0/15 [00:00<?, ?it/s]\u001b[A\n",
            "Refining scale 2 using scale 1 ...current loss: 0.0252:   7% 1/15 [00:00<00:08,  1.58it/s]\u001b[A\n",
            "Refining scale 2 using scale 1 ...current loss: 0.0389:   7% 1/15 [00:01<00:08,  1.58it/s]\u001b[A\n",
            "Refining scale 2 using scale 1 ...current loss: 0.0389:  13% 2/15 [00:01<00:09,  1.38it/s]\u001b[A\n",
            "Refining scale 2 using scale 1 ...current loss: 0.0268:  13% 2/15 [00:01<00:09,  1.38it/s]\u001b[A\n",
            "Refining scale 2 using scale 1 ...current loss: 0.0268:  20% 3/15 [00:02<00:08,  1.33it/s]\u001b[A\n",
            "Refining scale 2 using scale 1 ...current loss: 0.0200:  20% 3/15 [00:02<00:08,  1.33it/s]\u001b[A\n",
            "Refining scale 2 using scale 1 ...current loss: 0.0200:  27% 4/15 [00:02<00:08,  1.31it/s]\u001b[A\n",
            "Refining scale 2 using scale 1 ...current loss: 0.0188:  27% 4/15 [00:03<00:08,  1.31it/s]\u001b[A\n",
            "Refining scale 2 using scale 1 ...current loss: 0.0188:  33% 5/15 [00:03<00:07,  1.30it/s]\u001b[A\n",
            "Refining scale 2 using scale 1 ...current loss: 0.0185:  33% 5/15 [00:04<00:07,  1.30it/s]\u001b[A\n",
            "Refining scale 2 using scale 1 ...current loss: 0.0185:  40% 6/15 [00:04<00:06,  1.29it/s]\u001b[A\n",
            "Refining scale 2 using scale 1 ...current loss: 0.0166:  40% 6/15 [00:05<00:06,  1.29it/s]\u001b[A\n",
            "Refining scale 2 using scale 1 ...current loss: 0.0166:  47% 7/15 [00:05<00:06,  1.28it/s]\u001b[A\n",
            "Refining scale 2 using scale 1 ...current loss: 0.0151:  47% 7/15 [00:05<00:06,  1.28it/s]\u001b[A\n",
            "Refining scale 2 using scale 1 ...current loss: 0.0151:  53% 8/15 [00:06<00:05,  1.28it/s]\u001b[A\n",
            "Refining scale 2 using scale 1 ...current loss: 0.0146:  53% 8/15 [00:06<00:05,  1.28it/s]\u001b[A\n",
            "Refining scale 2 using scale 1 ...current loss: 0.0146:  60% 9/15 [00:06<00:04,  1.28it/s]\u001b[A\n",
            "Refining scale 2 using scale 1 ...current loss: 0.0142:  60% 9/15 [00:07<00:04,  1.28it/s]\u001b[A\n",
            "Refining scale 2 using scale 1 ...current loss: 0.0142:  67% 10/15 [00:07<00:03,  1.28it/s]\u001b[A\n",
            "Refining scale 2 using scale 1 ...current loss: 0.0133:  67% 10/15 [00:08<00:03,  1.28it/s]\u001b[A\n",
            "Refining scale 2 using scale 1 ...current loss: 0.0133:  73% 11/15 [00:08<00:03,  1.28it/s]\u001b[A\n",
            "Refining scale 2 using scale 1 ...current loss: 0.0127:  73% 11/15 [00:08<00:03,  1.28it/s]\u001b[A\n",
            "Refining scale 2 using scale 1 ...current loss: 0.0127:  80% 12/15 [00:09<00:02,  1.28it/s]\u001b[A\n",
            "Refining scale 2 using scale 1 ...current loss: 0.0123:  80% 12/15 [00:09<00:02,  1.28it/s]\u001b[A\n",
            "Refining scale 2 using scale 1 ...current loss: 0.0123:  87% 13/15 [00:10<00:01,  1.27it/s]\u001b[A\n",
            "Refining scale 2 using scale 1 ...current loss: 0.0119:  87% 13/15 [00:10<00:01,  1.27it/s]\u001b[A\n",
            "Refining scale 2 using scale 1 ...current loss: 0.0119:  93% 14/15 [00:10<00:00,  1.27it/s]\u001b[A\n",
            "Refining scale 2 using scale 1 ...current loss: 0.0115:  93% 14/15 [00:11<00:00,  1.27it/s]\u001b[A\n",
            "Refining scale 2 using scale 1 ...current loss: 0.0115: 100% 15/15 [00:11<00:00,  1.41it/s]\u001b[A\n",
            " 80% 600/746 [1:57:12<28:21, 11.66s/it]\n",
            "  0% 0/15 [00:00<?, ?it/s]\u001b[A\n",
            "                          \u001b[A\n",
            "  0% 0/15 [00:00<?, ?it/s]\u001b[A\n",
            "Refining scale 2 using scale 1 ...current loss: nan:   0% 0/15 [00:00<?, ?it/s]\u001b[A\n",
            "Refining scale 2 using scale 1 ...current loss: nan:   7% 1/15 [00:00<00:08,  1.57it/s]\u001b[A\n",
            "Refining scale 2 using scale 1 ...current loss: nan:   7% 1/15 [00:01<00:08,  1.57it/s]\u001b[A\n",
            "Refining scale 2 using scale 1 ...current loss: nan:  13% 2/15 [00:01<00:09,  1.37it/s]\u001b[A\n",
            "Refining scale 2 using scale 1 ...current loss: nan:  13% 2/15 [00:01<00:09,  1.37it/s]\u001b[A\n",
            "Refining scale 2 using scale 1 ...current loss: nan:  20% 3/15 [00:02<00:09,  1.33it/s]\u001b[A\n",
            "Refining scale 2 using scale 1 ...current loss: nan:  20% 3/15 [00:02<00:09,  1.33it/s]\u001b[A\n",
            "Refining scale 2 using scale 1 ...current loss: nan:  27% 4/15 [00:02<00:08,  1.31it/s]\u001b[A\n",
            "Refining scale 2 using scale 1 ...current loss: nan:  27% 4/15 [00:03<00:08,  1.31it/s]\u001b[A\n",
            "Refining scale 2 using scale 1 ...current loss: nan:  33% 5/15 [00:03<00:07,  1.29it/s]\u001b[A\n",
            "Refining scale 2 using scale 1 ...current loss: nan:  33% 5/15 [00:04<00:07,  1.29it/s]\u001b[A\n",
            "Refining scale 2 using scale 1 ...current loss: nan:  40% 6/15 [00:04<00:06,  1.29it/s]\u001b[A\n",
            "Refining scale 2 using scale 1 ...current loss: nan:  40% 6/15 [00:05<00:06,  1.29it/s]\u001b[A\n",
            "Refining scale 2 using scale 1 ...current loss: nan:  47% 7/15 [00:05<00:06,  1.28it/s]\u001b[A\n",
            "Refining scale 2 using scale 1 ...current loss: nan:  47% 7/15 [00:05<00:06,  1.28it/s]\u001b[A\n",
            "Refining scale 2 using scale 1 ...current loss: nan:  53% 8/15 [00:06<00:05,  1.28it/s]\u001b[A\n",
            "Refining scale 2 using scale 1 ...current loss: nan:  53% 8/15 [00:06<00:05,  1.28it/s]\u001b[A\n",
            "Refining scale 2 using scale 1 ...current loss: nan:  60% 9/15 [00:06<00:04,  1.28it/s]\u001b[A\n",
            "Refining scale 2 using scale 1 ...current loss: nan:  60% 9/15 [00:07<00:04,  1.28it/s]\u001b[A\n",
            "Refining scale 2 using scale 1 ...current loss: nan:  67% 10/15 [00:07<00:03,  1.28it/s]\u001b[A\n",
            "Refining scale 2 using scale 1 ...current loss: nan:  67% 10/15 [00:08<00:03,  1.28it/s]\u001b[A\n",
            "Refining scale 2 using scale 1 ...current loss: nan:  73% 11/15 [00:08<00:03,  1.28it/s]\u001b[A\n",
            "Refining scale 2 using scale 1 ...current loss: nan:  73% 11/15 [00:09<00:03,  1.28it/s]\u001b[A\n",
            "Refining scale 2 using scale 1 ...current loss: nan:  80% 12/15 [00:09<00:02,  1.28it/s]\u001b[A\n",
            "Refining scale 2 using scale 1 ...current loss: nan:  80% 12/15 [00:09<00:02,  1.28it/s]\u001b[A\n",
            "Refining scale 2 using scale 1 ...current loss: nan:  87% 13/15 [00:10<00:01,  1.28it/s]\u001b[A\n",
            "Refining scale 2 using scale 1 ...current loss: nan:  87% 13/15 [00:10<00:01,  1.28it/s]\u001b[A\n",
            "Refining scale 2 using scale 1 ...current loss: nan:  93% 14/15 [00:10<00:00,  1.28it/s]\u001b[A\n",
            "Refining scale 2 using scale 1 ...current loss: nan:  93% 14/15 [00:11<00:00,  1.28it/s]\u001b[A\n",
            "Refining scale 2 using scale 1 ...current loss: nan: 100% 15/15 [00:11<00:00,  1.42it/s]\u001b[A\n",
            " 81% 601/746 [1:57:24<28:12, 11.67s/it]\n",
            "  0% 0/15 [00:00<?, ?it/s]\u001b[A\n",
            "                          \u001b[A\n",
            "  0% 0/15 [00:00<?, ?it/s]\u001b[A\n",
            "Refining scale 2 using scale 1 ...current loss: 0.0430:   0% 0/15 [00:00<?, ?it/s]\u001b[A\n",
            "Refining scale 2 using scale 1 ...current loss: 0.0430:   7% 1/15 [00:00<00:08,  1.58it/s]\u001b[A\n",
            "Refining scale 2 using scale 1 ...current loss: 0.0299:   7% 1/15 [00:01<00:08,  1.58it/s]\u001b[A\n",
            "Refining scale 2 using scale 1 ...current loss: 0.0299:  13% 2/15 [00:01<00:09,  1.38it/s]\u001b[A\n",
            "Refining scale 2 using scale 1 ...current loss: 0.0296:  13% 2/15 [00:01<00:09,  1.38it/s]\u001b[A\n",
            "Refining scale 2 using scale 1 ...current loss: 0.0296:  20% 3/15 [00:02<00:09,  1.33it/s]\u001b[A\n",
            "Refining scale 2 using scale 1 ...current loss: 0.0236:  20% 3/15 [00:02<00:09,  1.33it/s]\u001b[A\n",
            "Refining scale 2 using scale 1 ...current loss: 0.0236:  27% 4/15 [00:02<00:08,  1.31it/s]\u001b[A\n",
            "Refining scale 2 using scale 1 ...current loss: 0.0205:  27% 4/15 [00:03<00:08,  1.31it/s]\u001b[A\n",
            "Refining scale 2 using scale 1 ...current loss: 0.0205:  33% 5/15 [00:03<00:07,  1.29it/s]\u001b[A\n",
            "Refining scale 2 using scale 1 ...current loss: 0.0202:  33% 5/15 [00:04<00:07,  1.29it/s]\u001b[A\n",
            "Refining scale 2 using scale 1 ...current loss: 0.0202:  40% 6/15 [00:04<00:06,  1.29it/s]\u001b[A\n",
            "Refining scale 2 using scale 1 ...current loss: 0.0190:  40% 6/15 [00:05<00:06,  1.29it/s]\u001b[A\n",
            "Refining scale 2 using scale 1 ...current loss: 0.0190:  47% 7/15 [00:05<00:06,  1.28it/s]\u001b[A\n",
            "Refining scale 2 using scale 1 ...current loss: 0.0177:  47% 7/15 [00:05<00:06,  1.28it/s]\u001b[A\n",
            "Refining scale 2 using scale 1 ...current loss: 0.0177:  53% 8/15 [00:06<00:05,  1.28it/s]\u001b[A\n",
            "Refining scale 2 using scale 1 ...current loss: 0.0171:  53% 8/15 [00:06<00:05,  1.28it/s]\u001b[A\n",
            "Refining scale 2 using scale 1 ...current loss: 0.0171:  60% 9/15 [00:06<00:04,  1.28it/s]\u001b[A\n",
            "Refining scale 2 using scale 1 ...current loss: 0.0166:  60% 9/15 [00:07<00:04,  1.28it/s]\u001b[A\n",
            "Refining scale 2 using scale 1 ...current loss: 0.0166:  67% 10/15 [00:07<00:03,  1.28it/s]\u001b[A\n",
            "Refining scale 2 using scale 1 ...current loss: 0.0156:  67% 10/15 [00:08<00:03,  1.28it/s]\u001b[A\n",
            "Refining scale 2 using scale 1 ...current loss: 0.0156:  73% 11/15 [00:08<00:03,  1.28it/s]\u001b[A\n",
            "Refining scale 2 using scale 1 ...current loss: 0.0148:  73% 11/15 [00:09<00:03,  1.28it/s]\u001b[A\n",
            "Refining scale 2 using scale 1 ...current loss: 0.0148:  80% 12/15 [00:09<00:02,  1.28it/s]\u001b[A\n",
            "Refining scale 2 using scale 1 ...current loss: 0.0142:  80% 12/15 [00:09<00:02,  1.28it/s]\u001b[A\n",
            "Refining scale 2 using scale 1 ...current loss: 0.0142:  87% 13/15 [00:10<00:01,  1.28it/s]\u001b[A\n",
            "Refining scale 2 using scale 1 ...current loss: 0.0137:  87% 13/15 [00:10<00:01,  1.28it/s]\u001b[A\n",
            "Refining scale 2 using scale 1 ...current loss: 0.0137:  93% 14/15 [00:10<00:00,  1.28it/s]\u001b[A\n",
            "Refining scale 2 using scale 1 ...current loss: 0.0132:  93% 14/15 [00:11<00:00,  1.28it/s]\u001b[A\n",
            "Refining scale 2 using scale 1 ...current loss: 0.0132: 100% 15/15 [00:11<00:00,  1.42it/s]\u001b[A\n",
            " 81% 602/746 [1:57:36<28:00, 11.67s/it]\n",
            "  0% 0/15 [00:00<?, ?it/s]\u001b[A\n",
            "                          \u001b[A\n",
            "  0% 0/15 [00:00<?, ?it/s]\u001b[A\n",
            "Refining scale 2 using scale 1 ...current loss: nan:   0% 0/15 [00:00<?, ?it/s]\u001b[A\n",
            "Refining scale 2 using scale 1 ...current loss: nan:   7% 1/15 [00:00<00:08,  1.58it/s]\u001b[A\n",
            "Refining scale 2 using scale 1 ...current loss: nan:   7% 1/15 [00:01<00:08,  1.58it/s]\u001b[A\n",
            "Refining scale 2 using scale 1 ...current loss: nan:  13% 2/15 [00:01<00:09,  1.38it/s]\u001b[A\n",
            "Refining scale 2 using scale 1 ...current loss: nan:  13% 2/15 [00:01<00:09,  1.38it/s]\u001b[A\n",
            "Refining scale 2 using scale 1 ...current loss: nan:  20% 3/15 [00:02<00:09,  1.33it/s]\u001b[A\n",
            "Refining scale 2 using scale 1 ...current loss: nan:  20% 3/15 [00:02<00:09,  1.33it/s]\u001b[A\n",
            "Refining scale 2 using scale 1 ...current loss: nan:  27% 4/15 [00:02<00:08,  1.31it/s]\u001b[A\n",
            "Refining scale 2 using scale 1 ...current loss: nan:  27% 4/15 [00:03<00:08,  1.31it/s]\u001b[A\n",
            "Refining scale 2 using scale 1 ...current loss: nan:  33% 5/15 [00:03<00:07,  1.30it/s]\u001b[A\n",
            "Refining scale 2 using scale 1 ...current loss: nan:  33% 5/15 [00:04<00:07,  1.30it/s]\u001b[A\n",
            "Refining scale 2 using scale 1 ...current loss: nan:  40% 6/15 [00:04<00:06,  1.29it/s]\u001b[A\n",
            "Refining scale 2 using scale 1 ...current loss: nan:  40% 6/15 [00:05<00:06,  1.29it/s]\u001b[A\n",
            "Refining scale 2 using scale 1 ...current loss: nan:  47% 7/15 [00:05<00:06,  1.29it/s]\u001b[A\n",
            "Refining scale 2 using scale 1 ...current loss: nan:  47% 7/15 [00:05<00:06,  1.29it/s]\u001b[A\n",
            "Refining scale 2 using scale 1 ...current loss: nan:  53% 8/15 [00:06<00:05,  1.28it/s]\u001b[A\n",
            "Refining scale 2 using scale 1 ...current loss: nan:  53% 8/15 [00:06<00:05,  1.28it/s]\u001b[A\n",
            "Refining scale 2 using scale 1 ...current loss: nan:  60% 9/15 [00:06<00:04,  1.28it/s]\u001b[A\n",
            "Refining scale 2 using scale 1 ...current loss: nan:  60% 9/15 [00:07<00:04,  1.28it/s]\u001b[A\n",
            "Refining scale 2 using scale 1 ...current loss: nan:  67% 10/15 [00:07<00:03,  1.27it/s]\u001b[A\n",
            "Refining scale 2 using scale 1 ...current loss: nan:  67% 10/15 [00:08<00:03,  1.27it/s]\u001b[A\n",
            "Refining scale 2 using scale 1 ...current loss: nan:  73% 11/15 [00:08<00:03,  1.27it/s]\u001b[A\n",
            "Refining scale 2 using scale 1 ...current loss: nan:  73% 11/15 [00:09<00:03,  1.27it/s]\u001b[A\n",
            "Refining scale 2 using scale 1 ...current loss: nan:  80% 12/15 [00:09<00:02,  1.27it/s]\u001b[A\n",
            "Refining scale 2 using scale 1 ...current loss: nan:  80% 12/15 [00:09<00:02,  1.27it/s]\u001b[A\n",
            "Refining scale 2 using scale 1 ...current loss: nan:  87% 13/15 [00:10<00:01,  1.27it/s]\u001b[A\n",
            "Refining scale 2 using scale 1 ...current loss: nan:  87% 13/15 [00:10<00:01,  1.27it/s]\u001b[A\n",
            "Refining scale 2 using scale 1 ...current loss: nan:  93% 14/15 [00:10<00:00,  1.27it/s]\u001b[A\n",
            "Refining scale 2 using scale 1 ...current loss: nan:  93% 14/15 [00:11<00:00,  1.27it/s]\u001b[A\n",
            "Refining scale 2 using scale 1 ...current loss: nan: 100% 15/15 [00:11<00:00,  1.42it/s]\u001b[A\n",
            " 81% 603/746 [1:57:47<27:47, 11.66s/it]\n",
            "  0% 0/15 [00:00<?, ?it/s]\u001b[A\n",
            "                          \u001b[A\n",
            "  0% 0/15 [00:00<?, ?it/s]\u001b[A\n",
            "Refining scale 2 using scale 1 ...current loss: nan:   0% 0/15 [00:00<?, ?it/s]\u001b[A\n",
            "Refining scale 2 using scale 1 ...current loss: nan:   7% 1/15 [00:00<00:08,  1.58it/s]\u001b[A\n",
            "Refining scale 2 using scale 1 ...current loss: nan:   7% 1/15 [00:01<00:08,  1.58it/s]\u001b[A\n",
            "Refining scale 2 using scale 1 ...current loss: nan:  13% 2/15 [00:01<00:09,  1.38it/s]\u001b[A\n",
            "Refining scale 2 using scale 1 ...current loss: nan:  13% 2/15 [00:01<00:09,  1.38it/s]\u001b[A\n",
            "Refining scale 2 using scale 1 ...current loss: nan:  20% 3/15 [00:02<00:09,  1.33it/s]\u001b[A\n",
            "Refining scale 2 using scale 1 ...current loss: nan:  20% 3/15 [00:02<00:09,  1.33it/s]\u001b[A\n",
            "Refining scale 2 using scale 1 ...current loss: nan:  27% 4/15 [00:02<00:08,  1.31it/s]\u001b[A\n",
            "Refining scale 2 using scale 1 ...current loss: nan:  27% 4/15 [00:03<00:08,  1.31it/s]\u001b[A\n",
            "Refining scale 2 using scale 1 ...current loss: nan:  33% 5/15 [00:03<00:07,  1.29it/s]\u001b[A\n",
            "Refining scale 2 using scale 1 ...current loss: nan:  33% 5/15 [00:04<00:07,  1.29it/s]\u001b[A\n",
            "Refining scale 2 using scale 1 ...current loss: nan:  40% 6/15 [00:04<00:06,  1.29it/s]\u001b[A\n",
            "Refining scale 2 using scale 1 ...current loss: nan:  40% 6/15 [00:05<00:06,  1.29it/s]\u001b[A\n",
            "Refining scale 2 using scale 1 ...current loss: nan:  47% 7/15 [00:05<00:06,  1.28it/s]\u001b[A\n",
            "Refining scale 2 using scale 1 ...current loss: nan:  47% 7/15 [00:05<00:06,  1.28it/s]\u001b[A\n",
            "Refining scale 2 using scale 1 ...current loss: nan:  53% 8/15 [00:06<00:05,  1.28it/s]\u001b[A\n",
            "Refining scale 2 using scale 1 ...current loss: nan:  53% 8/15 [00:06<00:05,  1.28it/s]\u001b[A\n",
            "Refining scale 2 using scale 1 ...current loss: nan:  60% 9/15 [00:06<00:04,  1.28it/s]\u001b[A\n",
            "Refining scale 2 using scale 1 ...current loss: nan:  60% 9/15 [00:07<00:04,  1.28it/s]\u001b[A\n",
            "Refining scale 2 using scale 1 ...current loss: nan:  67% 10/15 [00:07<00:03,  1.28it/s]\u001b[A\n",
            "Refining scale 2 using scale 1 ...current loss: nan:  67% 10/15 [00:08<00:03,  1.28it/s]\u001b[A\n",
            "Refining scale 2 using scale 1 ...current loss: nan:  73% 11/15 [00:08<00:03,  1.28it/s]\u001b[A\n",
            "Refining scale 2 using scale 1 ...current loss: nan:  73% 11/15 [00:09<00:03,  1.28it/s]\u001b[A\n",
            "Refining scale 2 using scale 1 ...current loss: nan:  80% 12/15 [00:09<00:02,  1.28it/s]\u001b[A\n",
            "Refining scale 2 using scale 1 ...current loss: nan:  80% 12/15 [00:09<00:02,  1.28it/s]\u001b[A\n",
            "Refining scale 2 using scale 1 ...current loss: nan:  87% 13/15 [00:10<00:01,  1.27it/s]\u001b[A\n",
            "Refining scale 2 using scale 1 ...current loss: nan:  87% 13/15 [00:10<00:01,  1.27it/s]\u001b[A\n",
            "Refining scale 2 using scale 1 ...current loss: nan:  93% 14/15 [00:10<00:00,  1.27it/s]\u001b[A\n",
            "Refining scale 2 using scale 1 ...current loss: nan:  93% 14/15 [00:11<00:00,  1.27it/s]\u001b[A\n",
            "Refining scale 2 using scale 1 ...current loss: nan: 100% 15/15 [00:11<00:00,  1.41it/s]\u001b[A\n",
            " 81% 604/746 [1:57:59<27:36, 11.66s/it]\n",
            "  0% 0/15 [00:00<?, ?it/s]\u001b[A\n",
            "                          \u001b[A\n",
            "  0% 0/15 [00:00<?, ?it/s]\u001b[A\n",
            "Refining scale 2 using scale 1 ...current loss: 0.0571:   0% 0/15 [00:00<?, ?it/s]\u001b[A\n",
            "Refining scale 2 using scale 1 ...current loss: 0.0571:   7% 1/15 [00:00<00:08,  1.57it/s]\u001b[A\n",
            "Refining scale 2 using scale 1 ...current loss: 0.0454:   7% 1/15 [00:01<00:08,  1.57it/s]\u001b[A\n",
            "Refining scale 2 using scale 1 ...current loss: 0.0454:  13% 2/15 [00:01<00:09,  1.37it/s]\u001b[A\n",
            "Refining scale 2 using scale 1 ...current loss: 0.0400:  13% 2/15 [00:01<00:09,  1.37it/s]\u001b[A\n",
            "Refining scale 2 using scale 1 ...current loss: 0.0400:  20% 3/15 [00:02<00:09,  1.32it/s]\u001b[A\n",
            "Refining scale 2 using scale 1 ...current loss: 0.0352:  20% 3/15 [00:02<00:09,  1.32it/s]\u001b[A\n",
            "Refining scale 2 using scale 1 ...current loss: 0.0352:  27% 4/15 [00:03<00:08,  1.30it/s]\u001b[A\n",
            "Refining scale 2 using scale 1 ...current loss: 0.0310:  27% 4/15 [00:03<00:08,  1.30it/s]\u001b[A\n",
            "Refining scale 2 using scale 1 ...current loss: 0.0310:  33% 5/15 [00:03<00:07,  1.29it/s]\u001b[A\n",
            "Refining scale 2 using scale 1 ...current loss: 0.0272:  33% 5/15 [00:04<00:07,  1.29it/s]\u001b[A\n",
            "Refining scale 2 using scale 1 ...current loss: 0.0272:  40% 6/15 [00:04<00:06,  1.29it/s]\u001b[A\n",
            "Refining scale 2 using scale 1 ...current loss: 0.0253:  40% 6/15 [00:05<00:06,  1.29it/s]\u001b[A\n",
            "Refining scale 2 using scale 1 ...current loss: 0.0253:  47% 7/15 [00:05<00:06,  1.28it/s]\u001b[A\n",
            "Refining scale 2 using scale 1 ...current loss: 0.0240:  47% 7/15 [00:05<00:06,  1.28it/s]\u001b[A\n",
            "Refining scale 2 using scale 1 ...current loss: 0.0240:  53% 8/15 [00:06<00:05,  1.28it/s]\u001b[A\n",
            "Refining scale 2 using scale 1 ...current loss: 0.0229:  53% 8/15 [00:06<00:05,  1.28it/s]\u001b[A\n",
            "Refining scale 2 using scale 1 ...current loss: 0.0229:  60% 9/15 [00:06<00:04,  1.28it/s]\u001b[A\n",
            "Refining scale 2 using scale 1 ...current loss: 0.0224:  60% 9/15 [00:07<00:04,  1.28it/s]\u001b[A\n",
            "Refining scale 2 using scale 1 ...current loss: 0.0224:  67% 10/15 [00:07<00:03,  1.28it/s]\u001b[A\n",
            "Refining scale 2 using scale 1 ...current loss: 0.0216:  67% 10/15 [00:08<00:03,  1.28it/s]\u001b[A\n",
            "Refining scale 2 using scale 1 ...current loss: 0.0216:  73% 11/15 [00:08<00:03,  1.28it/s]\u001b[A\n",
            "Refining scale 2 using scale 1 ...current loss: 0.0211:  73% 11/15 [00:09<00:03,  1.28it/s]\u001b[A\n",
            "Refining scale 2 using scale 1 ...current loss: 0.0211:  80% 12/15 [00:09<00:02,  1.28it/s]\u001b[A\n",
            "Refining scale 2 using scale 1 ...current loss: 0.0198:  80% 12/15 [00:09<00:02,  1.28it/s]\u001b[A\n",
            "Refining scale 2 using scale 1 ...current loss: 0.0198:  87% 13/15 [00:10<00:01,  1.28it/s]\u001b[A\n",
            "Refining scale 2 using scale 1 ...current loss: 0.0197:  87% 13/15 [00:10<00:01,  1.28it/s]\u001b[A\n",
            "Refining scale 2 using scale 1 ...current loss: 0.0197:  93% 14/15 [00:10<00:00,  1.28it/s]\u001b[A\n",
            "Refining scale 2 using scale 1 ...current loss: 0.0189:  93% 14/15 [00:11<00:00,  1.28it/s]\u001b[A\n",
            "Refining scale 2 using scale 1 ...current loss: 0.0189: 100% 15/15 [00:11<00:00,  1.42it/s]\u001b[A\n",
            " 81% 605/746 [1:58:11<27:25, 11.67s/it]\n",
            "  0% 0/15 [00:00<?, ?it/s]\u001b[A\n",
            "                          \u001b[A\n",
            "  0% 0/15 [00:00<?, ?it/s]\u001b[A\n",
            "Refining scale 2 using scale 1 ...current loss: nan:   0% 0/15 [00:00<?, ?it/s]\u001b[A\n",
            "Refining scale 2 using scale 1 ...current loss: nan:   7% 1/15 [00:00<00:08,  1.58it/s]\u001b[A\n",
            "Refining scale 2 using scale 1 ...current loss: nan:   7% 1/15 [00:01<00:08,  1.58it/s]\u001b[A\n",
            "Refining scale 2 using scale 1 ...current loss: nan:  13% 2/15 [00:01<00:09,  1.38it/s]\u001b[A\n",
            "Refining scale 2 using scale 1 ...current loss: nan:  13% 2/15 [00:01<00:09,  1.38it/s]\u001b[A\n",
            "Refining scale 2 using scale 1 ...current loss: nan:  20% 3/15 [00:02<00:09,  1.33it/s]\u001b[A\n",
            "Refining scale 2 using scale 1 ...current loss: nan:  20% 3/15 [00:02<00:09,  1.33it/s]\u001b[A\n",
            "Refining scale 2 using scale 1 ...current loss: nan:  27% 4/15 [00:02<00:08,  1.30it/s]\u001b[A\n",
            "Refining scale 2 using scale 1 ...current loss: nan:  27% 4/15 [00:03<00:08,  1.30it/s]\u001b[A\n",
            "Refining scale 2 using scale 1 ...current loss: nan:  33% 5/15 [00:03<00:07,  1.29it/s]\u001b[A\n",
            "Refining scale 2 using scale 1 ...current loss: nan:  33% 5/15 [00:04<00:07,  1.29it/s]\u001b[A\n",
            "Refining scale 2 using scale 1 ...current loss: nan:  40% 6/15 [00:04<00:07,  1.28it/s]\u001b[A\n",
            "Refining scale 2 using scale 1 ...current loss: nan:  40% 6/15 [00:05<00:07,  1.28it/s]\u001b[A\n",
            "Refining scale 2 using scale 1 ...current loss: nan:  47% 7/15 [00:05<00:06,  1.28it/s]\u001b[A\n",
            "Refining scale 2 using scale 1 ...current loss: nan:  47% 7/15 [00:05<00:06,  1.28it/s]\u001b[A\n",
            "Refining scale 2 using scale 1 ...current loss: nan:  53% 8/15 [00:06<00:05,  1.28it/s]\u001b[A\n",
            "Refining scale 2 using scale 1 ...current loss: nan:  53% 8/15 [00:06<00:05,  1.28it/s]\u001b[A\n",
            "Refining scale 2 using scale 1 ...current loss: nan:  60% 9/15 [00:06<00:04,  1.28it/s]\u001b[A\n",
            "Refining scale 2 using scale 1 ...current loss: nan:  60% 9/15 [00:07<00:04,  1.28it/s]\u001b[A\n",
            "Refining scale 2 using scale 1 ...current loss: nan:  67% 10/15 [00:07<00:03,  1.28it/s]\u001b[A\n",
            "Refining scale 2 using scale 1 ...current loss: nan:  67% 10/15 [00:08<00:03,  1.28it/s]\u001b[A\n",
            "Refining scale 2 using scale 1 ...current loss: nan:  73% 11/15 [00:08<00:03,  1.28it/s]\u001b[A\n",
            "Refining scale 2 using scale 1 ...current loss: nan:  73% 11/15 [00:09<00:03,  1.28it/s]\u001b[A\n",
            "Refining scale 2 using scale 1 ...current loss: nan:  80% 12/15 [00:09<00:02,  1.28it/s]\u001b[A\n",
            "Refining scale 2 using scale 1 ...current loss: nan:  80% 12/15 [00:09<00:02,  1.28it/s]\u001b[A\n",
            "Refining scale 2 using scale 1 ...current loss: nan:  87% 13/15 [00:10<00:01,  1.28it/s]\u001b[A\n",
            "Refining scale 2 using scale 1 ...current loss: nan:  87% 13/15 [00:10<00:01,  1.28it/s]\u001b[A\n",
            "Refining scale 2 using scale 1 ...current loss: nan:  93% 14/15 [00:10<00:00,  1.28it/s]\u001b[A\n",
            "Refining scale 2 using scale 1 ...current loss: nan:  93% 14/15 [00:11<00:00,  1.28it/s]\u001b[A\n",
            "Refining scale 2 using scale 1 ...current loss: nan: 100% 15/15 [00:11<00:00,  1.42it/s]\u001b[A\n",
            " 81% 606/746 [1:58:22<27:13, 11.67s/it]\n",
            "  0% 0/15 [00:00<?, ?it/s]\u001b[A\n",
            "                          \u001b[A\n",
            "  0% 0/15 [00:00<?, ?it/s]\u001b[A\n",
            "Refining scale 2 using scale 1 ...current loss: 0.1639:   0% 0/15 [00:00<?, ?it/s]\u001b[A\n",
            "Refining scale 2 using scale 1 ...current loss: 0.1639:   7% 1/15 [00:00<00:08,  1.58it/s]\u001b[A\n",
            "Refining scale 2 using scale 1 ...current loss: 0.1460:   7% 1/15 [00:01<00:08,  1.58it/s]\u001b[A\n",
            "Refining scale 2 using scale 1 ...current loss: 0.1460:  13% 2/15 [00:01<00:09,  1.38it/s]\u001b[A\n",
            "Refining scale 2 using scale 1 ...current loss: 0.0868:  13% 2/15 [00:01<00:09,  1.38it/s]\u001b[A\n",
            "Refining scale 2 using scale 1 ...current loss: 0.0868:  20% 3/15 [00:02<00:09,  1.33it/s]\u001b[A\n",
            "Refining scale 2 using scale 1 ...current loss: 0.1210:  20% 3/15 [00:02<00:09,  1.33it/s]\u001b[A\n",
            "Refining scale 2 using scale 1 ...current loss: 0.1210:  27% 4/15 [00:02<00:08,  1.31it/s]\u001b[A\n",
            "Refining scale 2 using scale 1 ...current loss: 0.0615:  27% 4/15 [00:03<00:08,  1.31it/s]\u001b[A\n",
            "Refining scale 2 using scale 1 ...current loss: 0.0615:  33% 5/15 [00:03<00:07,  1.30it/s]\u001b[A\n",
            "Refining scale 2 using scale 1 ...current loss: 0.1001:  33% 5/15 [00:04<00:07,  1.30it/s]\u001b[A\n",
            "Refining scale 2 using scale 1 ...current loss: 0.1001:  40% 6/15 [00:04<00:06,  1.29it/s]\u001b[A\n",
            "Refining scale 2 using scale 1 ...current loss: 0.0681:  40% 6/15 [00:05<00:06,  1.29it/s]\u001b[A\n",
            "Refining scale 2 using scale 1 ...current loss: 0.0681:  47% 7/15 [00:05<00:06,  1.28it/s]\u001b[A\n",
            "Refining scale 2 using scale 1 ...current loss: 0.0559:  47% 7/15 [00:05<00:06,  1.28it/s]\u001b[A\n",
            "Refining scale 2 using scale 1 ...current loss: 0.0559:  53% 8/15 [00:06<00:05,  1.28it/s]\u001b[A\n",
            "Refining scale 2 using scale 1 ...current loss: 0.0625:  53% 8/15 [00:06<00:05,  1.28it/s]\u001b[A\n",
            "Refining scale 2 using scale 1 ...current loss: 0.0625:  60% 9/15 [00:06<00:04,  1.27it/s]\u001b[A\n",
            "Refining scale 2 using scale 1 ...current loss: 0.0553:  60% 9/15 [00:07<00:04,  1.27it/s]\u001b[A\n",
            "Refining scale 2 using scale 1 ...current loss: 0.0553:  67% 10/15 [00:07<00:03,  1.27it/s]\u001b[A\n",
            "Refining scale 2 using scale 1 ...current loss: 0.0447:  67% 10/15 [00:08<00:03,  1.27it/s]\u001b[A\n",
            "Refining scale 2 using scale 1 ...current loss: 0.0447:  73% 11/15 [00:08<00:03,  1.27it/s]\u001b[A\n",
            "Refining scale 2 using scale 1 ...current loss: 0.0454:  73% 11/15 [00:09<00:03,  1.27it/s]\u001b[A\n",
            "Refining scale 2 using scale 1 ...current loss: 0.0454:  80% 12/15 [00:09<00:02,  1.27it/s]\u001b[A\n",
            "Refining scale 2 using scale 1 ...current loss: 0.0426:  80% 12/15 [00:09<00:02,  1.27it/s]\u001b[A\n",
            "Refining scale 2 using scale 1 ...current loss: 0.0426:  87% 13/15 [00:10<00:01,  1.27it/s]\u001b[A\n",
            "Refining scale 2 using scale 1 ...current loss: 0.0358:  87% 13/15 [00:10<00:01,  1.27it/s]\u001b[A\n",
            "Refining scale 2 using scale 1 ...current loss: 0.0358:  93% 14/15 [00:10<00:00,  1.27it/s]\u001b[A\n",
            "Refining scale 2 using scale 1 ...current loss: 0.0356:  93% 14/15 [00:11<00:00,  1.27it/s]\u001b[A\n",
            "Refining scale 2 using scale 1 ...current loss: 0.0356: 100% 15/15 [00:11<00:00,  1.41it/s]\u001b[A\n",
            " 81% 607/746 [1:58:34<27:01, 11.66s/it]\n",
            "  0% 0/15 [00:00<?, ?it/s]\u001b[A\n",
            "                          \u001b[A\n",
            "  0% 0/15 [00:00<?, ?it/s]\u001b[A\n",
            "Refining scale 2 using scale 1 ...current loss: 0.0182:   0% 0/15 [00:00<?, ?it/s]\u001b[A\n",
            "Refining scale 2 using scale 1 ...current loss: 0.0182:   7% 1/15 [00:00<00:08,  1.58it/s]\u001b[A\n",
            "Refining scale 2 using scale 1 ...current loss: 0.0305:   7% 1/15 [00:01<00:08,  1.58it/s]\u001b[A\n",
            "Refining scale 2 using scale 1 ...current loss: 0.0305:  13% 2/15 [00:01<00:09,  1.38it/s]\u001b[A\n",
            "Refining scale 2 using scale 1 ...current loss: 0.0192:  13% 2/15 [00:01<00:09,  1.38it/s]\u001b[A\n",
            "Refining scale 2 using scale 1 ...current loss: 0.0192:  20% 3/15 [00:02<00:09,  1.33it/s]\u001b[A\n",
            "Refining scale 2 using scale 1 ...current loss: 0.0116:  20% 3/15 [00:02<00:09,  1.33it/s]\u001b[A\n",
            "Refining scale 2 using scale 1 ...current loss: 0.0116:  27% 4/15 [00:02<00:08,  1.31it/s]\u001b[A\n",
            "Refining scale 2 using scale 1 ...current loss: 0.0120:  27% 4/15 [00:03<00:08,  1.31it/s]\u001b[A\n",
            "Refining scale 2 using scale 1 ...current loss: 0.0120:  33% 5/15 [00:03<00:07,  1.30it/s]\u001b[A\n",
            "Refining scale 2 using scale 1 ...current loss: 0.0104:  33% 5/15 [00:04<00:07,  1.30it/s]\u001b[A\n",
            "Refining scale 2 using scale 1 ...current loss: 0.0104:  40% 6/15 [00:04<00:06,  1.29it/s]\u001b[A\n",
            "Refining scale 2 using scale 1 ...current loss: 0.0088:  40% 6/15 [00:05<00:06,  1.29it/s]\u001b[A\n",
            "Refining scale 2 using scale 1 ...current loss: 0.0088:  47% 7/15 [00:05<00:06,  1.28it/s]\u001b[A\n",
            "Refining scale 2 using scale 1 ...current loss: 0.0103:  47% 7/15 [00:05<00:06,  1.28it/s]\u001b[A\n",
            "Refining scale 2 using scale 1 ...current loss: 0.0103:  53% 8/15 [00:06<00:05,  1.28it/s]\u001b[A\n",
            "Refining scale 2 using scale 1 ...current loss: 0.0089:  53% 8/15 [00:06<00:05,  1.28it/s]\u001b[A\n",
            "Refining scale 2 using scale 1 ...current loss: 0.0089:  60% 9/15 [00:06<00:04,  1.28it/s]\u001b[A\n",
            "Refining scale 2 using scale 1 ...current loss: 0.0082:  60% 9/15 [00:07<00:04,  1.28it/s]\u001b[A\n",
            "Refining scale 2 using scale 1 ...current loss: 0.0082:  67% 10/15 [00:07<00:03,  1.28it/s]\u001b[A\n",
            "Refining scale 2 using scale 1 ...current loss: 0.0079:  67% 10/15 [00:08<00:03,  1.28it/s]\u001b[A\n",
            "Refining scale 2 using scale 1 ...current loss: 0.0079:  73% 11/15 [00:08<00:03,  1.28it/s]\u001b[A\n",
            "Refining scale 2 using scale 1 ...current loss: 0.0082:  73% 11/15 [00:09<00:03,  1.28it/s]\u001b[A\n",
            "Refining scale 2 using scale 1 ...current loss: 0.0082:  80% 12/15 [00:09<00:02,  1.28it/s]\u001b[A\n",
            "Refining scale 2 using scale 1 ...current loss: 0.0080:  80% 12/15 [00:09<00:02,  1.28it/s]\u001b[A\n",
            "Refining scale 2 using scale 1 ...current loss: 0.0080:  87% 13/15 [00:10<00:01,  1.27it/s]\u001b[A\n",
            "Refining scale 2 using scale 1 ...current loss: 0.0062:  87% 13/15 [00:10<00:01,  1.27it/s]\u001b[A\n",
            "Refining scale 2 using scale 1 ...current loss: 0.0062:  93% 14/15 [00:10<00:00,  1.27it/s]\u001b[A\n",
            "Refining scale 2 using scale 1 ...current loss: 0.0066:  93% 14/15 [00:11<00:00,  1.27it/s]\u001b[A\n",
            "Refining scale 2 using scale 1 ...current loss: 0.0066: 100% 15/15 [00:11<00:00,  1.42it/s]\u001b[A\n",
            " 82% 608/746 [1:58:46<26:49, 11.66s/it]\n",
            "  0% 0/15 [00:00<?, ?it/s]\u001b[A\n",
            "                          \u001b[A\n",
            "  0% 0/15 [00:00<?, ?it/s]\u001b[A\n",
            "Refining scale 2 using scale 1 ...current loss: nan:   0% 0/15 [00:00<?, ?it/s]\u001b[A\n",
            "Refining scale 2 using scale 1 ...current loss: nan:   7% 1/15 [00:00<00:08,  1.57it/s]\u001b[A\n",
            "Refining scale 2 using scale 1 ...current loss: nan:   7% 1/15 [00:01<00:08,  1.57it/s]\u001b[A\n",
            "Refining scale 2 using scale 1 ...current loss: nan:  13% 2/15 [00:01<00:09,  1.37it/s]\u001b[A\n",
            "Refining scale 2 using scale 1 ...current loss: nan:  13% 2/15 [00:01<00:09,  1.37it/s]\u001b[A\n",
            "Refining scale 2 using scale 1 ...current loss: nan:  20% 3/15 [00:02<00:09,  1.33it/s]\u001b[A\n",
            "Refining scale 2 using scale 1 ...current loss: nan:  20% 3/15 [00:02<00:09,  1.33it/s]\u001b[A\n",
            "Refining scale 2 using scale 1 ...current loss: nan:  27% 4/15 [00:02<00:08,  1.31it/s]\u001b[A\n",
            "Refining scale 2 using scale 1 ...current loss: nan:  27% 4/15 [00:03<00:08,  1.31it/s]\u001b[A\n",
            "Refining scale 2 using scale 1 ...current loss: nan:  33% 5/15 [00:03<00:07,  1.29it/s]\u001b[A\n",
            "Refining scale 2 using scale 1 ...current loss: nan:  33% 5/15 [00:04<00:07,  1.29it/s]\u001b[A\n",
            "Refining scale 2 using scale 1 ...current loss: nan:  40% 6/15 [00:04<00:06,  1.29it/s]\u001b[A\n",
            "Refining scale 2 using scale 1 ...current loss: nan:  40% 6/15 [00:05<00:06,  1.29it/s]\u001b[A\n",
            "Refining scale 2 using scale 1 ...current loss: nan:  47% 7/15 [00:05<00:06,  1.29it/s]\u001b[A\n",
            "Refining scale 2 using scale 1 ...current loss: nan:  47% 7/15 [00:05<00:06,  1.29it/s]\u001b[A\n",
            "Refining scale 2 using scale 1 ...current loss: nan:  53% 8/15 [00:06<00:05,  1.28it/s]\u001b[A\n",
            "Refining scale 2 using scale 1 ...current loss: nan:  53% 8/15 [00:06<00:05,  1.28it/s]\u001b[A\n",
            "Refining scale 2 using scale 1 ...current loss: nan:  60% 9/15 [00:06<00:04,  1.28it/s]\u001b[A\n",
            "Refining scale 2 using scale 1 ...current loss: nan:  60% 9/15 [00:07<00:04,  1.28it/s]\u001b[A\n",
            "Refining scale 2 using scale 1 ...current loss: nan:  67% 10/15 [00:07<00:03,  1.28it/s]\u001b[A\n",
            "Refining scale 2 using scale 1 ...current loss: nan:  67% 10/15 [00:08<00:03,  1.28it/s]\u001b[A\n",
            "Refining scale 2 using scale 1 ...current loss: nan:  73% 11/15 [00:08<00:03,  1.28it/s]\u001b[A\n",
            "Refining scale 2 using scale 1 ...current loss: nan:  73% 11/15 [00:08<00:03,  1.28it/s]\u001b[A\n",
            "Refining scale 2 using scale 1 ...current loss: nan:  80% 12/15 [00:09<00:02,  1.28it/s]\u001b[A\n",
            "Refining scale 2 using scale 1 ...current loss: nan:  80% 12/15 [00:09<00:02,  1.28it/s]\u001b[A\n",
            "Refining scale 2 using scale 1 ...current loss: nan:  87% 13/15 [00:10<00:01,  1.28it/s]\u001b[A\n",
            "Refining scale 2 using scale 1 ...current loss: nan:  87% 13/15 [00:10<00:01,  1.28it/s]\u001b[A\n",
            "Refining scale 2 using scale 1 ...current loss: nan:  93% 14/15 [00:10<00:00,  1.28it/s]\u001b[A\n",
            "Refining scale 2 using scale 1 ...current loss: nan:  93% 14/15 [00:11<00:00,  1.28it/s]\u001b[A\n",
            "Refining scale 2 using scale 1 ...current loss: nan: 100% 15/15 [00:11<00:00,  1.42it/s]\u001b[A\n",
            " 82% 609/746 [1:58:57<26:37, 11.66s/it]\n",
            "  0% 0/15 [00:00<?, ?it/s]\u001b[A\n",
            "                          \u001b[A\n",
            "  0% 0/15 [00:00<?, ?it/s]\u001b[A\n",
            "Refining scale 2 using scale 1 ...current loss: 0.0722:   0% 0/15 [00:00<?, ?it/s]\u001b[A\n",
            "Refining scale 2 using scale 1 ...current loss: 0.0722:   7% 1/15 [00:00<00:08,  1.58it/s]\u001b[A\n",
            "Refining scale 2 using scale 1 ...current loss: 0.1149:   7% 1/15 [00:01<00:08,  1.58it/s]\u001b[A\n",
            "Refining scale 2 using scale 1 ...current loss: 0.1149:  13% 2/15 [00:01<00:09,  1.38it/s]\u001b[A\n",
            "Refining scale 2 using scale 1 ...current loss: 0.0658:  13% 2/15 [00:01<00:09,  1.38it/s]\u001b[A\n",
            "Refining scale 2 using scale 1 ...current loss: 0.0658:  20% 3/15 [00:02<00:09,  1.33it/s]\u001b[A\n",
            "Refining scale 2 using scale 1 ...current loss: 0.0569:  20% 3/15 [00:02<00:09,  1.33it/s]\u001b[A\n",
            "Refining scale 2 using scale 1 ...current loss: 0.0569:  27% 4/15 [00:02<00:08,  1.30it/s]\u001b[A\n",
            "Refining scale 2 using scale 1 ...current loss: 0.0567:  27% 4/15 [00:03<00:08,  1.30it/s]\u001b[A\n",
            "Refining scale 2 using scale 1 ...current loss: 0.0567:  33% 5/15 [00:03<00:07,  1.29it/s]\u001b[A\n",
            "Refining scale 2 using scale 1 ...current loss: 0.0470:  33% 5/15 [00:04<00:07,  1.29it/s]\u001b[A\n",
            "Refining scale 2 using scale 1 ...current loss: 0.0470:  40% 6/15 [00:04<00:07,  1.29it/s]\u001b[A\n",
            "Refining scale 2 using scale 1 ...current loss: 0.0494:  40% 6/15 [00:05<00:07,  1.29it/s]\u001b[A\n",
            "Refining scale 2 using scale 1 ...current loss: 0.0494:  47% 7/15 [00:05<00:06,  1.28it/s]\u001b[A\n",
            "Refining scale 2 using scale 1 ...current loss: 0.0464:  47% 7/15 [00:05<00:06,  1.28it/s]\u001b[A\n",
            "Refining scale 2 using scale 1 ...current loss: 0.0464:  53% 8/15 [00:06<00:05,  1.28it/s]\u001b[A\n",
            "Refining scale 2 using scale 1 ...current loss: 0.0418:  53% 8/15 [00:06<00:05,  1.28it/s]\u001b[A\n",
            "Refining scale 2 using scale 1 ...current loss: 0.0418:  60% 9/15 [00:06<00:04,  1.28it/s]\u001b[A\n",
            "Refining scale 2 using scale 1 ...current loss: 0.0409:  60% 9/15 [00:07<00:04,  1.28it/s]\u001b[A\n",
            "Refining scale 2 using scale 1 ...current loss: 0.0409:  67% 10/15 [00:07<00:03,  1.28it/s]\u001b[A\n",
            "Refining scale 2 using scale 1 ...current loss: 0.0400:  67% 10/15 [00:08<00:03,  1.28it/s]\u001b[A\n",
            "Refining scale 2 using scale 1 ...current loss: 0.0400:  73% 11/15 [00:08<00:03,  1.28it/s]\u001b[A\n",
            "Refining scale 2 using scale 1 ...current loss: 0.0372:  73% 11/15 [00:09<00:03,  1.28it/s]\u001b[A\n",
            "Refining scale 2 using scale 1 ...current loss: 0.0372:  80% 12/15 [00:09<00:02,  1.28it/s]\u001b[A\n",
            "Refining scale 2 using scale 1 ...current loss: 0.0362:  80% 12/15 [00:09<00:02,  1.28it/s]\u001b[A\n",
            "Refining scale 2 using scale 1 ...current loss: 0.0362:  87% 13/15 [00:10<00:01,  1.28it/s]\u001b[A\n",
            "Refining scale 2 using scale 1 ...current loss: 0.0351:  87% 13/15 [00:10<00:01,  1.28it/s]\u001b[A\n",
            "Refining scale 2 using scale 1 ...current loss: 0.0351:  93% 14/15 [00:10<00:00,  1.28it/s]\u001b[A\n",
            "Refining scale 2 using scale 1 ...current loss: 0.0338:  93% 14/15 [00:11<00:00,  1.28it/s]\u001b[A\n",
            "Refining scale 2 using scale 1 ...current loss: 0.0338: 100% 15/15 [00:11<00:00,  1.42it/s]\u001b[A\n",
            " 82% 610/746 [1:59:09<26:26, 11.66s/it]\n",
            "  0% 0/15 [00:00<?, ?it/s]\u001b[A\n",
            "                          \u001b[A\n",
            "  0% 0/15 [00:00<?, ?it/s]\u001b[A\n",
            "Refining scale 2 using scale 1 ...current loss: 0.0591:   0% 0/15 [00:00<?, ?it/s]\u001b[A\n",
            "Refining scale 2 using scale 1 ...current loss: 0.0591:   7% 1/15 [00:00<00:08,  1.58it/s]\u001b[A\n",
            "Refining scale 2 using scale 1 ...current loss: 0.0490:   7% 1/15 [00:01<00:08,  1.58it/s]\u001b[A\n",
            "Refining scale 2 using scale 1 ...current loss: 0.0490:  13% 2/15 [00:01<00:09,  1.38it/s]\u001b[A\n",
            "Refining scale 2 using scale 1 ...current loss: 0.0412:  13% 2/15 [00:01<00:09,  1.38it/s]\u001b[A\n",
            "Refining scale 2 using scale 1 ...current loss: 0.0412:  20% 3/15 [00:02<00:09,  1.33it/s]\u001b[A\n",
            "Refining scale 2 using scale 1 ...current loss: 0.0365:  20% 3/15 [00:02<00:09,  1.33it/s]\u001b[A\n",
            "Refining scale 2 using scale 1 ...current loss: 0.0365:  27% 4/15 [00:02<00:08,  1.31it/s]\u001b[A\n",
            "Refining scale 2 using scale 1 ...current loss: 0.0332:  27% 4/15 [00:03<00:08,  1.31it/s]\u001b[A\n",
            "Refining scale 2 using scale 1 ...current loss: 0.0332:  33% 5/15 [00:03<00:07,  1.30it/s]\u001b[A\n",
            "Refining scale 2 using scale 1 ...current loss: 0.0310:  33% 5/15 [00:04<00:07,  1.30it/s]\u001b[A\n",
            "Refining scale 2 using scale 1 ...current loss: 0.0310:  40% 6/15 [00:04<00:06,  1.29it/s]\u001b[A\n",
            "Refining scale 2 using scale 1 ...current loss: 0.0287:  40% 6/15 [00:05<00:06,  1.29it/s]\u001b[A\n",
            "Refining scale 2 using scale 1 ...current loss: 0.0287:  47% 7/15 [00:05<00:06,  1.28it/s]\u001b[A\n",
            "Refining scale 2 using scale 1 ...current loss: 0.0263:  47% 7/15 [00:05<00:06,  1.28it/s]\u001b[A\n",
            "Refining scale 2 using scale 1 ...current loss: 0.0263:  53% 8/15 [00:06<00:05,  1.28it/s]\u001b[A\n",
            "Refining scale 2 using scale 1 ...current loss: 0.0246:  53% 8/15 [00:06<00:05,  1.28it/s]\u001b[A\n",
            "Refining scale 2 using scale 1 ...current loss: 0.0246:  60% 9/15 [00:06<00:04,  1.28it/s]\u001b[A\n",
            "Refining scale 2 using scale 1 ...current loss: 0.0235:  60% 9/15 [00:07<00:04,  1.28it/s]\u001b[A\n",
            "Refining scale 2 using scale 1 ...current loss: 0.0235:  67% 10/15 [00:07<00:03,  1.28it/s]\u001b[A\n",
            "Refining scale 2 using scale 1 ...current loss: 0.0223:  67% 10/15 [00:08<00:03,  1.28it/s]\u001b[A\n",
            "Refining scale 2 using scale 1 ...current loss: 0.0223:  73% 11/15 [00:08<00:03,  1.27it/s]\u001b[A\n",
            "Refining scale 2 using scale 1 ...current loss: 0.0215:  73% 11/15 [00:09<00:03,  1.27it/s]\u001b[A\n",
            "Refining scale 2 using scale 1 ...current loss: 0.0215:  80% 12/15 [00:09<00:02,  1.27it/s]\u001b[A\n",
            "Refining scale 2 using scale 1 ...current loss: 0.0207:  80% 12/15 [00:09<00:02,  1.27it/s]\u001b[A\n",
            "Refining scale 2 using scale 1 ...current loss: 0.0207:  87% 13/15 [00:10<00:01,  1.27it/s]\u001b[A\n",
            "Refining scale 2 using scale 1 ...current loss: 0.0201:  87% 13/15 [00:10<00:01,  1.27it/s]\u001b[A\n",
            "Refining scale 2 using scale 1 ...current loss: 0.0201:  93% 14/15 [00:10<00:00,  1.28it/s]\u001b[A\n",
            "Refining scale 2 using scale 1 ...current loss: 0.0195:  93% 14/15 [00:11<00:00,  1.28it/s]\u001b[A\n",
            "Refining scale 2 using scale 1 ...current loss: 0.0195: 100% 15/15 [00:11<00:00,  1.42it/s]\u001b[A\n",
            " 82% 611/746 [1:59:21<26:13, 11.66s/it]\n",
            "  0% 0/15 [00:00<?, ?it/s]\u001b[A\n",
            "                          \u001b[A\n",
            "  0% 0/15 [00:00<?, ?it/s]\u001b[A\n",
            "Refining scale 2 using scale 1 ...current loss: nan:   0% 0/15 [00:00<?, ?it/s]\u001b[A\n",
            "Refining scale 2 using scale 1 ...current loss: nan:   7% 1/15 [00:00<00:08,  1.58it/s]\u001b[A\n",
            "Refining scale 2 using scale 1 ...current loss: nan:   7% 1/15 [00:01<00:08,  1.58it/s]\u001b[A\n",
            "Refining scale 2 using scale 1 ...current loss: nan:  13% 2/15 [00:01<00:09,  1.38it/s]\u001b[A\n",
            "Refining scale 2 using scale 1 ...current loss: nan:  13% 2/15 [00:01<00:09,  1.38it/s]\u001b[A\n",
            "Refining scale 2 using scale 1 ...current loss: nan:  20% 3/15 [00:02<00:08,  1.33it/s]\u001b[A\n",
            "Refining scale 2 using scale 1 ...current loss: nan:  20% 3/15 [00:02<00:08,  1.33it/s]\u001b[A\n",
            "Refining scale 2 using scale 1 ...current loss: nan:  27% 4/15 [00:02<00:08,  1.31it/s]\u001b[A\n",
            "Refining scale 2 using scale 1 ...current loss: nan:  27% 4/15 [00:03<00:08,  1.31it/s]\u001b[A\n",
            "Refining scale 2 using scale 1 ...current loss: nan:  33% 5/15 [00:03<00:07,  1.30it/s]\u001b[A\n",
            "Refining scale 2 using scale 1 ...current loss: nan:  33% 5/15 [00:04<00:07,  1.30it/s]\u001b[A\n",
            "Refining scale 2 using scale 1 ...current loss: nan:  40% 6/15 [00:04<00:06,  1.29it/s]\u001b[A\n",
            "Refining scale 2 using scale 1 ...current loss: nan:  40% 6/15 [00:05<00:06,  1.29it/s]\u001b[A\n",
            "Refining scale 2 using scale 1 ...current loss: nan:  47% 7/15 [00:05<00:06,  1.28it/s]\u001b[A\n",
            "Refining scale 2 using scale 1 ...current loss: nan:  47% 7/15 [00:05<00:06,  1.28it/s]\u001b[A\n",
            "Refining scale 2 using scale 1 ...current loss: nan:  53% 8/15 [00:06<00:05,  1.28it/s]\u001b[A\n",
            "Refining scale 2 using scale 1 ...current loss: nan:  53% 8/15 [00:06<00:05,  1.28it/s]\u001b[A\n",
            "Refining scale 2 using scale 1 ...current loss: nan:  60% 9/15 [00:06<00:04,  1.28it/s]\u001b[A\n",
            "Refining scale 2 using scale 1 ...current loss: nan:  60% 9/15 [00:07<00:04,  1.28it/s]\u001b[A\n",
            "Refining scale 2 using scale 1 ...current loss: nan:  67% 10/15 [00:07<00:03,  1.28it/s]\u001b[A\n",
            "Refining scale 2 using scale 1 ...current loss: nan:  67% 10/15 [00:08<00:03,  1.28it/s]\u001b[A\n",
            "Refining scale 2 using scale 1 ...current loss: nan:  73% 11/15 [00:08<00:03,  1.28it/s]\u001b[A\n",
            "Refining scale 2 using scale 1 ...current loss: nan:  73% 11/15 [00:08<00:03,  1.28it/s]\u001b[A\n",
            "Refining scale 2 using scale 1 ...current loss: nan:  80% 12/15 [00:09<00:02,  1.28it/s]\u001b[A\n",
            "Refining scale 2 using scale 1 ...current loss: nan:  80% 12/15 [00:09<00:02,  1.28it/s]\u001b[A\n",
            "Refining scale 2 using scale 1 ...current loss: nan:  87% 13/15 [00:10<00:01,  1.27it/s]\u001b[A\n",
            "Refining scale 2 using scale 1 ...current loss: nan:  87% 13/15 [00:10<00:01,  1.27it/s]\u001b[A\n",
            "Refining scale 2 using scale 1 ...current loss: nan:  93% 14/15 [00:10<00:00,  1.28it/s]\u001b[A\n",
            "Refining scale 2 using scale 1 ...current loss: nan:  93% 14/15 [00:11<00:00,  1.28it/s]\u001b[A\n",
            "Refining scale 2 using scale 1 ...current loss: nan: 100% 15/15 [00:11<00:00,  1.42it/s]\u001b[A\n",
            " 82% 612/746 [1:59:32<26:02, 11.66s/it]\n",
            "  0% 0/15 [00:00<?, ?it/s]\u001b[A\n",
            "                          \u001b[A\n",
            "  0% 0/15 [00:00<?, ?it/s]\u001b[A\n",
            "Refining scale 2 using scale 1 ...current loss: 0.0200:   0% 0/15 [00:00<?, ?it/s]\u001b[A\n",
            "Refining scale 2 using scale 1 ...current loss: 0.0200:   7% 1/15 [00:00<00:08,  1.57it/s]\u001b[A\n",
            "Refining scale 2 using scale 1 ...current loss: 0.0140:   7% 1/15 [00:01<00:08,  1.57it/s]\u001b[A\n",
            "Refining scale 2 using scale 1 ...current loss: 0.0140:  13% 2/15 [00:01<00:09,  1.38it/s]\u001b[A\n",
            "Refining scale 2 using scale 1 ...current loss: 0.0098:  13% 2/15 [00:01<00:09,  1.38it/s]\u001b[A\n",
            "Refining scale 2 using scale 1 ...current loss: 0.0098:  20% 3/15 [00:02<00:09,  1.33it/s]\u001b[A\n",
            "Refining scale 2 using scale 1 ...current loss: 0.0096:  20% 3/15 [00:02<00:09,  1.33it/s]\u001b[A\n",
            "Refining scale 2 using scale 1 ...current loss: 0.0096:  27% 4/15 [00:02<00:08,  1.31it/s]\u001b[A\n",
            "Refining scale 2 using scale 1 ...current loss: 0.0090:  27% 4/15 [00:03<00:08,  1.31it/s]\u001b[A\n",
            "Refining scale 2 using scale 1 ...current loss: 0.0090:  33% 5/15 [00:03<00:07,  1.30it/s]\u001b[A\n",
            "Refining scale 2 using scale 1 ...current loss: 0.0084:  33% 5/15 [00:04<00:07,  1.30it/s]\u001b[A\n",
            "Refining scale 2 using scale 1 ...current loss: 0.0084:  40% 6/15 [00:04<00:06,  1.29it/s]\u001b[A\n",
            "Refining scale 2 using scale 1 ...current loss: 0.0081:  40% 6/15 [00:05<00:06,  1.29it/s]\u001b[A\n",
            "Refining scale 2 using scale 1 ...current loss: 0.0081:  47% 7/15 [00:05<00:06,  1.29it/s]\u001b[A\n",
            "Refining scale 2 using scale 1 ...current loss: 0.0076:  47% 7/15 [00:05<00:06,  1.29it/s]\u001b[A\n",
            "Refining scale 2 using scale 1 ...current loss: 0.0076:  53% 8/15 [00:06<00:05,  1.28it/s]\u001b[A\n",
            "Refining scale 2 using scale 1 ...current loss: 0.0074:  53% 8/15 [00:06<00:05,  1.28it/s]\u001b[A\n",
            "Refining scale 2 using scale 1 ...current loss: 0.0074:  60% 9/15 [00:06<00:04,  1.28it/s]\u001b[A\n",
            "Refining scale 2 using scale 1 ...current loss: 0.0072:  60% 9/15 [00:07<00:04,  1.28it/s]\u001b[A\n",
            "Refining scale 2 using scale 1 ...current loss: 0.0072:  67% 10/15 [00:07<00:03,  1.28it/s]\u001b[A\n",
            "Refining scale 2 using scale 1 ...current loss: 0.0069:  67% 10/15 [00:08<00:03,  1.28it/s]\u001b[A\n",
            "Refining scale 2 using scale 1 ...current loss: 0.0069:  73% 11/15 [00:08<00:03,  1.28it/s]\u001b[A\n",
            "Refining scale 2 using scale 1 ...current loss: 0.0067:  73% 11/15 [00:08<00:03,  1.28it/s]\u001b[A\n",
            "Refining scale 2 using scale 1 ...current loss: 0.0067:  80% 12/15 [00:09<00:02,  1.28it/s]\u001b[A\n",
            "Refining scale 2 using scale 1 ...current loss: 0.0066:  80% 12/15 [00:09<00:02,  1.28it/s]\u001b[A\n",
            "Refining scale 2 using scale 1 ...current loss: 0.0066:  87% 13/15 [00:10<00:01,  1.28it/s]\u001b[A\n",
            "Refining scale 2 using scale 1 ...current loss: 0.0063:  87% 13/15 [00:10<00:01,  1.28it/s]\u001b[A\n",
            "Refining scale 2 using scale 1 ...current loss: 0.0063:  93% 14/15 [00:10<00:00,  1.28it/s]\u001b[A\n",
            "Refining scale 2 using scale 1 ...current loss: 0.0062:  93% 14/15 [00:11<00:00,  1.28it/s]\u001b[A\n",
            "Refining scale 2 using scale 1 ...current loss: 0.0062: 100% 15/15 [00:11<00:00,  1.42it/s]\u001b[A\n",
            " 82% 613/746 [1:59:44<25:52, 11.67s/it]\n",
            "  0% 0/15 [00:00<?, ?it/s]\u001b[A\n",
            "                          \u001b[A\n",
            "  0% 0/15 [00:00<?, ?it/s]\u001b[A\n",
            "Refining scale 2 using scale 1 ...current loss: 0.0345:   0% 0/15 [00:00<?, ?it/s]\u001b[A\n",
            "Refining scale 2 using scale 1 ...current loss: 0.0345:   7% 1/15 [00:00<00:08,  1.57it/s]\u001b[A\n",
            "Refining scale 2 using scale 1 ...current loss: 0.0264:   7% 1/15 [00:01<00:08,  1.57it/s]\u001b[A\n",
            "Refining scale 2 using scale 1 ...current loss: 0.0264:  13% 2/15 [00:01<00:09,  1.36it/s]\u001b[A\n",
            "Refining scale 2 using scale 1 ...current loss: 0.0202:  13% 2/15 [00:01<00:09,  1.36it/s]\u001b[A\n",
            "Refining scale 2 using scale 1 ...current loss: 0.0202:  20% 3/15 [00:02<00:09,  1.33it/s]\u001b[A\n",
            "Refining scale 2 using scale 1 ...current loss: 0.0178:  20% 3/15 [00:02<00:09,  1.33it/s]\u001b[A\n",
            "Refining scale 2 using scale 1 ...current loss: 0.0178:  27% 4/15 [00:02<00:08,  1.31it/s]\u001b[A\n",
            "Refining scale 2 using scale 1 ...current loss: 0.0161:  27% 4/15 [00:03<00:08,  1.31it/s]\u001b[A\n",
            "Refining scale 2 using scale 1 ...current loss: 0.0161:  33% 5/15 [00:03<00:07,  1.29it/s]\u001b[A\n",
            "Refining scale 2 using scale 1 ...current loss: 0.0155:  33% 5/15 [00:04<00:07,  1.29it/s]\u001b[A\n",
            "Refining scale 2 using scale 1 ...current loss: 0.0155:  40% 6/15 [00:04<00:07,  1.28it/s]\u001b[A\n",
            "Refining scale 2 using scale 1 ...current loss: 0.0141:  40% 6/15 [00:05<00:07,  1.28it/s]\u001b[A\n",
            "Refining scale 2 using scale 1 ...current loss: 0.0141:  47% 7/15 [00:05<00:06,  1.28it/s]\u001b[A\n",
            "Refining scale 2 using scale 1 ...current loss: 0.0135:  47% 7/15 [00:05<00:06,  1.28it/s]\u001b[A\n",
            "Refining scale 2 using scale 1 ...current loss: 0.0135:  53% 8/15 [00:06<00:05,  1.28it/s]\u001b[A\n",
            "Refining scale 2 using scale 1 ...current loss: 0.0124:  53% 8/15 [00:06<00:05,  1.28it/s]\u001b[A\n",
            "Refining scale 2 using scale 1 ...current loss: 0.0124:  60% 9/15 [00:06<00:04,  1.28it/s]\u001b[A\n",
            "Refining scale 2 using scale 1 ...current loss: 0.0118:  60% 9/15 [00:07<00:04,  1.28it/s]\u001b[A\n",
            "Refining scale 2 using scale 1 ...current loss: 0.0118:  67% 10/15 [00:07<00:03,  1.28it/s]\u001b[A\n",
            "Refining scale 2 using scale 1 ...current loss: 0.0112:  67% 10/15 [00:08<00:03,  1.28it/s]\u001b[A\n",
            "Refining scale 2 using scale 1 ...current loss: 0.0112:  73% 11/15 [00:08<00:03,  1.28it/s]\u001b[A\n",
            "Refining scale 2 using scale 1 ...current loss: 0.0107:  73% 11/15 [00:09<00:03,  1.28it/s]\u001b[A\n",
            "Refining scale 2 using scale 1 ...current loss: 0.0107:  80% 12/15 [00:09<00:02,  1.28it/s]\u001b[A\n",
            "Refining scale 2 using scale 1 ...current loss: 0.0102:  80% 12/15 [00:09<00:02,  1.28it/s]\u001b[A\n",
            "Refining scale 2 using scale 1 ...current loss: 0.0102:  87% 13/15 [00:10<00:01,  1.28it/s]\u001b[A\n",
            "Refining scale 2 using scale 1 ...current loss: 0.0097:  87% 13/15 [00:10<00:01,  1.28it/s]\u001b[A\n",
            "Refining scale 2 using scale 1 ...current loss: 0.0097:  93% 14/15 [00:10<00:00,  1.28it/s]\u001b[A\n",
            "Refining scale 2 using scale 1 ...current loss: 0.0093:  93% 14/15 [00:11<00:00,  1.28it/s]\u001b[A\n",
            "Refining scale 2 using scale 1 ...current loss: 0.0093: 100% 15/15 [00:11<00:00,  1.42it/s]\u001b[A\n",
            " 82% 614/746 [1:59:56<25:39, 11.66s/it]\n",
            "  0% 0/15 [00:00<?, ?it/s]\u001b[A\n",
            "                          \u001b[A\n",
            "  0% 0/15 [00:00<?, ?it/s]\u001b[A\n",
            "Refining scale 2 using scale 1 ...current loss: 0.0105:   0% 0/15 [00:00<?, ?it/s]\u001b[A\n",
            "Refining scale 2 using scale 1 ...current loss: 0.0105:   7% 1/15 [00:00<00:08,  1.58it/s]\u001b[A\n",
            "Refining scale 2 using scale 1 ...current loss: 0.0080:   7% 1/15 [00:01<00:08,  1.58it/s]\u001b[A\n",
            "Refining scale 2 using scale 1 ...current loss: 0.0080:  13% 2/15 [00:01<00:09,  1.38it/s]\u001b[A\n",
            "Refining scale 2 using scale 1 ...current loss: 0.0070:  13% 2/15 [00:01<00:09,  1.38it/s]\u001b[A\n",
            "Refining scale 2 using scale 1 ...current loss: 0.0070:  20% 3/15 [00:02<00:09,  1.33it/s]\u001b[A\n",
            "Refining scale 2 using scale 1 ...current loss: 0.0065:  20% 3/15 [00:02<00:09,  1.33it/s]\u001b[A\n",
            "Refining scale 2 using scale 1 ...current loss: 0.0065:  27% 4/15 [00:02<00:08,  1.31it/s]\u001b[A\n",
            "Refining scale 2 using scale 1 ...current loss: 0.0061:  27% 4/15 [00:03<00:08,  1.31it/s]\u001b[A\n",
            "Refining scale 2 using scale 1 ...current loss: 0.0061:  33% 5/15 [00:03<00:07,  1.30it/s]\u001b[A\n",
            "Refining scale 2 using scale 1 ...current loss: 0.0058:  33% 5/15 [00:04<00:07,  1.30it/s]\u001b[A\n",
            "Refining scale 2 using scale 1 ...current loss: 0.0058:  40% 6/15 [00:04<00:06,  1.29it/s]\u001b[A\n",
            "Refining scale 2 using scale 1 ...current loss: 0.0055:  40% 6/15 [00:05<00:06,  1.29it/s]\u001b[A\n",
            "Refining scale 2 using scale 1 ...current loss: 0.0055:  47% 7/15 [00:05<00:06,  1.28it/s]\u001b[A\n",
            "Refining scale 2 using scale 1 ...current loss: 0.0053:  47% 7/15 [00:05<00:06,  1.28it/s]\u001b[A\n",
            "Refining scale 2 using scale 1 ...current loss: 0.0053:  53% 8/15 [00:06<00:05,  1.28it/s]\u001b[A\n",
            "Refining scale 2 using scale 1 ...current loss: 0.0051:  53% 8/15 [00:06<00:05,  1.28it/s]\u001b[A\n",
            "Refining scale 2 using scale 1 ...current loss: 0.0051:  60% 9/15 [00:06<00:04,  1.27it/s]\u001b[A\n",
            "Refining scale 2 using scale 1 ...current loss: 0.0049:  60% 9/15 [00:07<00:04,  1.27it/s]\u001b[A\n",
            "Refining scale 2 using scale 1 ...current loss: 0.0049:  67% 10/15 [00:07<00:03,  1.27it/s]\u001b[A\n",
            "Refining scale 2 using scale 1 ...current loss: 0.0047:  67% 10/15 [00:08<00:03,  1.27it/s]\u001b[A\n",
            "Refining scale 2 using scale 1 ...current loss: 0.0047:  73% 11/15 [00:08<00:03,  1.27it/s]\u001b[A\n",
            "Refining scale 2 using scale 1 ...current loss: 0.0046:  73% 11/15 [00:09<00:03,  1.27it/s]\u001b[A\n",
            "Refining scale 2 using scale 1 ...current loss: 0.0046:  80% 12/15 [00:09<00:02,  1.27it/s]\u001b[A\n",
            "Refining scale 2 using scale 1 ...current loss: 0.0045:  80% 12/15 [00:09<00:02,  1.27it/s]\u001b[A\n",
            "Refining scale 2 using scale 1 ...current loss: 0.0045:  87% 13/15 [00:10<00:01,  1.27it/s]\u001b[A\n",
            "Refining scale 2 using scale 1 ...current loss: 0.0043:  87% 13/15 [00:10<00:01,  1.27it/s]\u001b[A\n",
            "Refining scale 2 using scale 1 ...current loss: 0.0043:  93% 14/15 [00:10<00:00,  1.27it/s]\u001b[A\n",
            "Refining scale 2 using scale 1 ...current loss: 0.0042:  93% 14/15 [00:11<00:00,  1.27it/s]\u001b[A\n",
            "Refining scale 2 using scale 1 ...current loss: 0.0042: 100% 15/15 [00:11<00:00,  1.42it/s]\u001b[A\n",
            " 82% 615/746 [2:00:07<25:28, 11.66s/it]\n",
            "  0% 0/15 [00:00<?, ?it/s]\u001b[A\n",
            "                          \u001b[A\n",
            "  0% 0/15 [00:00<?, ?it/s]\u001b[A\n",
            "Refining scale 2 using scale 1 ...current loss: 0.0180:   0% 0/15 [00:00<?, ?it/s]\u001b[A\n",
            "Refining scale 2 using scale 1 ...current loss: 0.0180:   7% 1/15 [00:00<00:08,  1.59it/s]\u001b[A\n",
            "Refining scale 2 using scale 1 ...current loss: 0.0116:   7% 1/15 [00:01<00:08,  1.59it/s]\u001b[A\n",
            "Refining scale 2 using scale 1 ...current loss: 0.0116:  13% 2/15 [00:01<00:09,  1.39it/s]\u001b[A\n",
            "Refining scale 2 using scale 1 ...current loss: 0.0108:  13% 2/15 [00:01<00:09,  1.39it/s]\u001b[A\n",
            "Refining scale 2 using scale 1 ...current loss: 0.0108:  20% 3/15 [00:02<00:09,  1.33it/s]\u001b[A\n",
            "Refining scale 2 using scale 1 ...current loss: 0.0095:  20% 3/15 [00:02<00:09,  1.33it/s]\u001b[A\n",
            "Refining scale 2 using scale 1 ...current loss: 0.0095:  27% 4/15 [00:02<00:08,  1.31it/s]\u001b[A\n",
            "Refining scale 2 using scale 1 ...current loss: 0.0090:  27% 4/15 [00:03<00:08,  1.31it/s]\u001b[A\n",
            "Refining scale 2 using scale 1 ...current loss: 0.0090:  33% 5/15 [00:03<00:07,  1.30it/s]\u001b[A\n",
            "Refining scale 2 using scale 1 ...current loss: 0.0085:  33% 5/15 [00:04<00:07,  1.30it/s]\u001b[A\n",
            "Refining scale 2 using scale 1 ...current loss: 0.0085:  40% 6/15 [00:04<00:06,  1.29it/s]\u001b[A\n",
            "Refining scale 2 using scale 1 ...current loss: 0.0080:  40% 6/15 [00:05<00:06,  1.29it/s]\u001b[A\n",
            "Refining scale 2 using scale 1 ...current loss: 0.0080:  47% 7/15 [00:05<00:06,  1.29it/s]\u001b[A\n",
            "Refining scale 2 using scale 1 ...current loss: 0.0076:  47% 7/15 [00:05<00:06,  1.29it/s]\u001b[A\n",
            "Refining scale 2 using scale 1 ...current loss: 0.0076:  53% 8/15 [00:06<00:05,  1.28it/s]\u001b[A\n",
            "Refining scale 2 using scale 1 ...current loss: 0.0071:  53% 8/15 [00:06<00:05,  1.28it/s]\u001b[A\n",
            "Refining scale 2 using scale 1 ...current loss: 0.0071:  60% 9/15 [00:06<00:04,  1.28it/s]\u001b[A\n",
            "Refining scale 2 using scale 1 ...current loss: 0.0067:  60% 9/15 [00:07<00:04,  1.28it/s]\u001b[A\n",
            "Refining scale 2 using scale 1 ...current loss: 0.0067:  67% 10/15 [00:07<00:03,  1.28it/s]\u001b[A\n",
            "Refining scale 2 using scale 1 ...current loss: 0.0064:  67% 10/15 [00:08<00:03,  1.28it/s]\u001b[A\n",
            "Refining scale 2 using scale 1 ...current loss: 0.0064:  73% 11/15 [00:08<00:03,  1.28it/s]\u001b[A\n",
            "Refining scale 2 using scale 1 ...current loss: 0.0061:  73% 11/15 [00:09<00:03,  1.28it/s]\u001b[A\n",
            "Refining scale 2 using scale 1 ...current loss: 0.0061:  80% 12/15 [00:09<00:02,  1.27it/s]\u001b[A\n",
            "Refining scale 2 using scale 1 ...current loss: 0.0059:  80% 12/15 [00:09<00:02,  1.27it/s]\u001b[A\n",
            "Refining scale 2 using scale 1 ...current loss: 0.0059:  87% 13/15 [00:10<00:01,  1.27it/s]\u001b[A\n",
            "Refining scale 2 using scale 1 ...current loss: 0.0057:  87% 13/15 [00:10<00:01,  1.27it/s]\u001b[A\n",
            "Refining scale 2 using scale 1 ...current loss: 0.0057:  93% 14/15 [00:10<00:00,  1.27it/s]\u001b[A\n",
            "Refining scale 2 using scale 1 ...current loss: 0.0056:  93% 14/15 [00:11<00:00,  1.27it/s]\u001b[A\n",
            "Refining scale 2 using scale 1 ...current loss: 0.0056: 100% 15/15 [00:11<00:00,  1.41it/s]\u001b[A\n",
            " 83% 616/746 [2:00:19<25:16, 11.66s/it]\n",
            "  0% 0/15 [00:00<?, ?it/s]\u001b[A\n",
            "                          \u001b[A\n",
            "  0% 0/15 [00:00<?, ?it/s]\u001b[A\n",
            "Refining scale 2 using scale 1 ...current loss: nan:   0% 0/15 [00:00<?, ?it/s]\u001b[A\n",
            "Refining scale 2 using scale 1 ...current loss: nan:   7% 1/15 [00:00<00:08,  1.56it/s]\u001b[A\n",
            "Refining scale 2 using scale 1 ...current loss: nan:   7% 1/15 [00:01<00:08,  1.56it/s]\u001b[A\n",
            "Refining scale 2 using scale 1 ...current loss: nan:  13% 2/15 [00:01<00:09,  1.37it/s]\u001b[A\n",
            "Refining scale 2 using scale 1 ...current loss: nan:  13% 2/15 [00:01<00:09,  1.37it/s]\u001b[A\n",
            "Refining scale 2 using scale 1 ...current loss: nan:  20% 3/15 [00:02<00:09,  1.32it/s]\u001b[A\n",
            "Refining scale 2 using scale 1 ...current loss: nan:  20% 3/15 [00:02<00:09,  1.32it/s]\u001b[A\n",
            "Refining scale 2 using scale 1 ...current loss: nan:  27% 4/15 [00:02<00:08,  1.31it/s]\u001b[A\n",
            "Refining scale 2 using scale 1 ...current loss: nan:  27% 4/15 [00:03<00:08,  1.31it/s]\u001b[A\n",
            "Refining scale 2 using scale 1 ...current loss: nan:  33% 5/15 [00:03<00:07,  1.29it/s]\u001b[A\n",
            "Refining scale 2 using scale 1 ...current loss: nan:  33% 5/15 [00:04<00:07,  1.29it/s]\u001b[A\n",
            "Refining scale 2 using scale 1 ...current loss: nan:  40% 6/15 [00:04<00:06,  1.29it/s]\u001b[A\n",
            "Refining scale 2 using scale 1 ...current loss: nan:  40% 6/15 [00:05<00:06,  1.29it/s]\u001b[A\n",
            "Refining scale 2 using scale 1 ...current loss: nan:  47% 7/15 [00:05<00:06,  1.28it/s]\u001b[A\n",
            "Refining scale 2 using scale 1 ...current loss: nan:  47% 7/15 [00:05<00:06,  1.28it/s]\u001b[A\n",
            "Refining scale 2 using scale 1 ...current loss: nan:  53% 8/15 [00:06<00:05,  1.28it/s]\u001b[A\n",
            "Refining scale 2 using scale 1 ...current loss: nan:  53% 8/15 [00:06<00:05,  1.28it/s]\u001b[A\n",
            "Refining scale 2 using scale 1 ...current loss: nan:  60% 9/15 [00:06<00:04,  1.28it/s]\u001b[A\n",
            "Refining scale 2 using scale 1 ...current loss: nan:  60% 9/15 [00:07<00:04,  1.28it/s]\u001b[A\n",
            "Refining scale 2 using scale 1 ...current loss: nan:  67% 10/15 [00:07<00:03,  1.28it/s]\u001b[A\n",
            "Refining scale 2 using scale 1 ...current loss: nan:  67% 10/15 [00:08<00:03,  1.28it/s]\u001b[A\n",
            "Refining scale 2 using scale 1 ...current loss: nan:  73% 11/15 [00:08<00:03,  1.28it/s]\u001b[A\n",
            "Refining scale 2 using scale 1 ...current loss: nan:  73% 11/15 [00:09<00:03,  1.28it/s]\u001b[A\n",
            "Refining scale 2 using scale 1 ...current loss: nan:  80% 12/15 [00:09<00:02,  1.28it/s]\u001b[A\n",
            "Refining scale 2 using scale 1 ...current loss: nan:  80% 12/15 [00:09<00:02,  1.28it/s]\u001b[A\n",
            "Refining scale 2 using scale 1 ...current loss: nan:  87% 13/15 [00:10<00:01,  1.28it/s]\u001b[A\n",
            "Refining scale 2 using scale 1 ...current loss: nan:  87% 13/15 [00:10<00:01,  1.28it/s]\u001b[A\n",
            "Refining scale 2 using scale 1 ...current loss: nan:  93% 14/15 [00:10<00:00,  1.28it/s]\u001b[A\n",
            "Refining scale 2 using scale 1 ...current loss: nan:  93% 14/15 [00:11<00:00,  1.28it/s]\u001b[A\n",
            "Refining scale 2 using scale 1 ...current loss: nan: 100% 15/15 [00:11<00:00,  1.42it/s]\u001b[A\n",
            " 83% 617/746 [2:00:31<25:06, 11.68s/it]\n",
            "  0% 0/15 [00:00<?, ?it/s]\u001b[A\n",
            "                          \u001b[A\n",
            "  0% 0/15 [00:00<?, ?it/s]\u001b[A\n",
            "Refining scale 2 using scale 1 ...current loss: nan:   0% 0/15 [00:00<?, ?it/s]\u001b[A\n",
            "Refining scale 2 using scale 1 ...current loss: nan:   7% 1/15 [00:00<00:08,  1.57it/s]\u001b[A\n",
            "Refining scale 2 using scale 1 ...current loss: nan:   7% 1/15 [00:01<00:08,  1.57it/s]\u001b[A\n",
            "Refining scale 2 using scale 1 ...current loss: nan:  13% 2/15 [00:01<00:09,  1.38it/s]\u001b[A\n",
            "Refining scale 2 using scale 1 ...current loss: nan:  13% 2/15 [00:01<00:09,  1.38it/s]\u001b[A\n",
            "Refining scale 2 using scale 1 ...current loss: nan:  20% 3/15 [00:02<00:09,  1.33it/s]\u001b[A\n",
            "Refining scale 2 using scale 1 ...current loss: nan:  20% 3/15 [00:02<00:09,  1.33it/s]\u001b[A\n",
            "Refining scale 2 using scale 1 ...current loss: nan:  27% 4/15 [00:03<00:08,  1.30it/s]\u001b[A\n",
            "Refining scale 2 using scale 1 ...current loss: nan:  27% 4/15 [00:03<00:08,  1.30it/s]\u001b[A\n",
            "Refining scale 2 using scale 1 ...current loss: nan:  33% 5/15 [00:03<00:07,  1.29it/s]\u001b[A\n",
            "Refining scale 2 using scale 1 ...current loss: nan:  33% 5/15 [00:04<00:07,  1.29it/s]\u001b[A\n",
            "Refining scale 2 using scale 1 ...current loss: nan:  40% 6/15 [00:04<00:07,  1.28it/s]\u001b[A\n",
            "Refining scale 2 using scale 1 ...current loss: nan:  40% 6/15 [00:05<00:07,  1.28it/s]\u001b[A\n",
            "Refining scale 2 using scale 1 ...current loss: nan:  47% 7/15 [00:05<00:06,  1.28it/s]\u001b[A\n",
            "Refining scale 2 using scale 1 ...current loss: nan:  47% 7/15 [00:05<00:06,  1.28it/s]\u001b[A\n",
            "Refining scale 2 using scale 1 ...current loss: nan:  53% 8/15 [00:06<00:05,  1.28it/s]\u001b[A\n",
            "Refining scale 2 using scale 1 ...current loss: nan:  53% 8/15 [00:06<00:05,  1.28it/s]\u001b[A\n",
            "Refining scale 2 using scale 1 ...current loss: nan:  60% 9/15 [00:06<00:04,  1.28it/s]\u001b[A\n",
            "Refining scale 2 using scale 1 ...current loss: nan:  60% 9/15 [00:07<00:04,  1.28it/s]\u001b[A\n",
            "Refining scale 2 using scale 1 ...current loss: nan:  67% 10/15 [00:07<00:03,  1.28it/s]\u001b[A\n",
            "Refining scale 2 using scale 1 ...current loss: nan:  67% 10/15 [00:08<00:03,  1.28it/s]\u001b[A\n",
            "Refining scale 2 using scale 1 ...current loss: nan:  73% 11/15 [00:08<00:03,  1.28it/s]\u001b[A\n",
            "Refining scale 2 using scale 1 ...current loss: nan:  73% 11/15 [00:09<00:03,  1.28it/s]\u001b[A\n",
            "Refining scale 2 using scale 1 ...current loss: nan:  80% 12/15 [00:09<00:02,  1.28it/s]\u001b[A\n",
            "Refining scale 2 using scale 1 ...current loss: nan:  80% 12/15 [00:09<00:02,  1.28it/s]\u001b[A\n",
            "Refining scale 2 using scale 1 ...current loss: nan:  87% 13/15 [00:10<00:01,  1.28it/s]\u001b[A\n",
            "Refining scale 2 using scale 1 ...current loss: nan:  87% 13/15 [00:10<00:01,  1.28it/s]\u001b[A\n",
            "Refining scale 2 using scale 1 ...current loss: nan:  93% 14/15 [00:10<00:00,  1.28it/s]\u001b[A\n",
            "Refining scale 2 using scale 1 ...current loss: nan:  93% 14/15 [00:11<00:00,  1.28it/s]\u001b[A\n",
            "Refining scale 2 using scale 1 ...current loss: nan: 100% 15/15 [00:11<00:00,  1.42it/s]\u001b[A\n",
            " 83% 618/746 [2:00:42<24:56, 11.69s/it]\n",
            "  0% 0/15 [00:00<?, ?it/s]\u001b[A\n",
            "                          \u001b[A\n",
            "  0% 0/15 [00:00<?, ?it/s]\u001b[A\n",
            "Refining scale 2 using scale 1 ...current loss: 0.0552:   0% 0/15 [00:00<?, ?it/s]\u001b[A\n",
            "Refining scale 2 using scale 1 ...current loss: 0.0552:   7% 1/15 [00:00<00:08,  1.58it/s]\u001b[A\n",
            "Refining scale 2 using scale 1 ...current loss: 0.0373:   7% 1/15 [00:01<00:08,  1.58it/s]\u001b[A\n",
            "Refining scale 2 using scale 1 ...current loss: 0.0373:  13% 2/15 [00:01<00:09,  1.38it/s]\u001b[A\n",
            "Refining scale 2 using scale 1 ...current loss: 0.0338:  13% 2/15 [00:01<00:09,  1.38it/s]\u001b[A\n",
            "Refining scale 2 using scale 1 ...current loss: 0.0338:  20% 3/15 [00:02<00:09,  1.33it/s]\u001b[A\n",
            "Refining scale 2 using scale 1 ...current loss: 0.0304:  20% 3/15 [00:02<00:09,  1.33it/s]\u001b[A\n",
            "Refining scale 2 using scale 1 ...current loss: 0.0304:  27% 4/15 [00:02<00:08,  1.31it/s]\u001b[A\n",
            "Refining scale 2 using scale 1 ...current loss: 0.0282:  27% 4/15 [00:03<00:08,  1.31it/s]\u001b[A\n",
            "Refining scale 2 using scale 1 ...current loss: 0.0282:  33% 5/15 [00:03<00:07,  1.30it/s]\u001b[A\n",
            "Refining scale 2 using scale 1 ...current loss: 0.0260:  33% 5/15 [00:04<00:07,  1.30it/s]\u001b[A\n",
            "Refining scale 2 using scale 1 ...current loss: 0.0260:  40% 6/15 [00:04<00:07,  1.29it/s]\u001b[A\n",
            "Refining scale 2 using scale 1 ...current loss: 0.0242:  40% 6/15 [00:05<00:07,  1.29it/s]\u001b[A\n",
            "Refining scale 2 using scale 1 ...current loss: 0.0242:  47% 7/15 [00:05<00:06,  1.28it/s]\u001b[A\n",
            "Refining scale 2 using scale 1 ...current loss: 0.0231:  47% 7/15 [00:05<00:06,  1.28it/s]\u001b[A\n",
            "Refining scale 2 using scale 1 ...current loss: 0.0231:  53% 8/15 [00:06<00:05,  1.28it/s]\u001b[A\n",
            "Refining scale 2 using scale 1 ...current loss: 0.0224:  53% 8/15 [00:06<00:05,  1.28it/s]\u001b[A\n",
            "Refining scale 2 using scale 1 ...current loss: 0.0224:  60% 9/15 [00:06<00:04,  1.27it/s]\u001b[A\n",
            "Refining scale 2 using scale 1 ...current loss: 0.0219:  60% 9/15 [00:07<00:04,  1.27it/s]\u001b[A\n",
            "Refining scale 2 using scale 1 ...current loss: 0.0219:  67% 10/15 [00:07<00:03,  1.27it/s]\u001b[A\n",
            "Refining scale 2 using scale 1 ...current loss: 0.0213:  67% 10/15 [00:08<00:03,  1.27it/s]\u001b[A\n",
            "Refining scale 2 using scale 1 ...current loss: 0.0213:  73% 11/15 [00:08<00:03,  1.27it/s]\u001b[A\n",
            "Refining scale 2 using scale 1 ...current loss: 0.0207:  73% 11/15 [00:09<00:03,  1.27it/s]\u001b[A\n",
            "Refining scale 2 using scale 1 ...current loss: 0.0207:  80% 12/15 [00:09<00:02,  1.27it/s]\u001b[A\n",
            "Refining scale 2 using scale 1 ...current loss: 0.0201:  80% 12/15 [00:09<00:02,  1.27it/s]\u001b[A\n",
            "Refining scale 2 using scale 1 ...current loss: 0.0201:  87% 13/15 [00:10<00:01,  1.27it/s]\u001b[A\n",
            "Refining scale 2 using scale 1 ...current loss: 0.0196:  87% 13/15 [00:10<00:01,  1.27it/s]\u001b[A\n",
            "Refining scale 2 using scale 1 ...current loss: 0.0196:  93% 14/15 [00:10<00:00,  1.28it/s]\u001b[A\n",
            "Refining scale 2 using scale 1 ...current loss: 0.0191:  93% 14/15 [00:11<00:00,  1.28it/s]\u001b[A\n",
            "Refining scale 2 using scale 1 ...current loss: 0.0191: 100% 15/15 [00:11<00:00,  1.42it/s]\u001b[A\n",
            " 83% 619/746 [2:00:54<24:43, 11.68s/it]\n",
            "  0% 0/15 [00:00<?, ?it/s]\u001b[A\n",
            "                          \u001b[A\n",
            "  0% 0/15 [00:00<?, ?it/s]\u001b[A\n",
            "Refining scale 2 using scale 1 ...current loss: nan:   0% 0/15 [00:00<?, ?it/s]\u001b[A\n",
            "Refining scale 2 using scale 1 ...current loss: nan:   7% 1/15 [00:00<00:08,  1.58it/s]\u001b[A\n",
            "Refining scale 2 using scale 1 ...current loss: nan:   7% 1/15 [00:01<00:08,  1.58it/s]\u001b[A\n",
            "Refining scale 2 using scale 1 ...current loss: nan:  13% 2/15 [00:01<00:09,  1.38it/s]\u001b[A\n",
            "Refining scale 2 using scale 1 ...current loss: nan:  13% 2/15 [00:01<00:09,  1.38it/s]\u001b[A\n",
            "Refining scale 2 using scale 1 ...current loss: nan:  20% 3/15 [00:02<00:09,  1.33it/s]\u001b[A\n",
            "Refining scale 2 using scale 1 ...current loss: nan:  20% 3/15 [00:02<00:09,  1.33it/s]\u001b[A\n",
            "Refining scale 2 using scale 1 ...current loss: nan:  27% 4/15 [00:02<00:08,  1.31it/s]\u001b[A\n",
            "Refining scale 2 using scale 1 ...current loss: nan:  27% 4/15 [00:03<00:08,  1.31it/s]\u001b[A\n",
            "Refining scale 2 using scale 1 ...current loss: nan:  33% 5/15 [00:03<00:07,  1.30it/s]\u001b[A\n",
            "Refining scale 2 using scale 1 ...current loss: nan:  33% 5/15 [00:04<00:07,  1.30it/s]\u001b[A\n",
            "Refining scale 2 using scale 1 ...current loss: nan:  40% 6/15 [00:04<00:06,  1.29it/s]\u001b[A\n",
            "Refining scale 2 using scale 1 ...current loss: nan:  40% 6/15 [00:05<00:06,  1.29it/s]\u001b[A\n",
            "Refining scale 2 using scale 1 ...current loss: nan:  47% 7/15 [00:05<00:06,  1.29it/s]\u001b[A\n",
            "Refining scale 2 using scale 1 ...current loss: nan:  47% 7/15 [00:05<00:06,  1.29it/s]\u001b[A\n",
            "Refining scale 2 using scale 1 ...current loss: nan:  53% 8/15 [00:06<00:05,  1.28it/s]\u001b[A\n",
            "Refining scale 2 using scale 1 ...current loss: nan:  53% 8/15 [00:06<00:05,  1.28it/s]\u001b[A\n",
            "Refining scale 2 using scale 1 ...current loss: nan:  60% 9/15 [00:06<00:04,  1.28it/s]\u001b[A\n",
            "Refining scale 2 using scale 1 ...current loss: nan:  60% 9/15 [00:07<00:04,  1.28it/s]\u001b[A\n",
            "Refining scale 2 using scale 1 ...current loss: nan:  67% 10/15 [00:07<00:03,  1.28it/s]\u001b[A\n",
            "Refining scale 2 using scale 1 ...current loss: nan:  67% 10/15 [00:08<00:03,  1.28it/s]\u001b[A\n",
            "Refining scale 2 using scale 1 ...current loss: nan:  73% 11/15 [00:08<00:03,  1.27it/s]\u001b[A\n",
            "Refining scale 2 using scale 1 ...current loss: nan:  73% 11/15 [00:09<00:03,  1.27it/s]\u001b[A\n",
            "Refining scale 2 using scale 1 ...current loss: nan:  80% 12/15 [00:09<00:02,  1.27it/s]\u001b[A\n",
            "Refining scale 2 using scale 1 ...current loss: nan:  80% 12/15 [00:09<00:02,  1.27it/s]\u001b[A\n",
            "Refining scale 2 using scale 1 ...current loss: nan:  87% 13/15 [00:10<00:01,  1.27it/s]\u001b[A\n",
            "Refining scale 2 using scale 1 ...current loss: nan:  87% 13/15 [00:10<00:01,  1.27it/s]\u001b[A\n",
            "Refining scale 2 using scale 1 ...current loss: nan:  93% 14/15 [00:10<00:00,  1.27it/s]\u001b[A\n",
            "Refining scale 2 using scale 1 ...current loss: nan:  93% 14/15 [00:11<00:00,  1.27it/s]\u001b[A\n",
            "Refining scale 2 using scale 1 ...current loss: nan: 100% 15/15 [00:11<00:00,  1.41it/s]\u001b[A\n",
            " 83% 620/746 [2:01:06<24:31, 11.68s/it]\n",
            "  0% 0/15 [00:00<?, ?it/s]\u001b[A\n",
            "                          \u001b[A\n",
            "  0% 0/15 [00:00<?, ?it/s]\u001b[A\n",
            "Refining scale 2 using scale 1 ...current loss: 0.0609:   0% 0/15 [00:00<?, ?it/s]\u001b[A\n",
            "Refining scale 2 using scale 1 ...current loss: 0.0609:   7% 1/15 [00:00<00:08,  1.57it/s]\u001b[A\n",
            "Refining scale 2 using scale 1 ...current loss: 0.0512:   7% 1/15 [00:01<00:08,  1.57it/s]\u001b[A\n",
            "Refining scale 2 using scale 1 ...current loss: 0.0512:  13% 2/15 [00:01<00:09,  1.38it/s]\u001b[A\n",
            "Refining scale 2 using scale 1 ...current loss: 0.0440:  13% 2/15 [00:01<00:09,  1.38it/s]\u001b[A\n",
            "Refining scale 2 using scale 1 ...current loss: 0.0440:  20% 3/15 [00:02<00:09,  1.33it/s]\u001b[A\n",
            "Refining scale 2 using scale 1 ...current loss: 0.0388:  20% 3/15 [00:02<00:09,  1.33it/s]\u001b[A\n",
            "Refining scale 2 using scale 1 ...current loss: 0.0388:  27% 4/15 [00:02<00:08,  1.31it/s]\u001b[A\n",
            "Refining scale 2 using scale 1 ...current loss: 0.0364:  27% 4/15 [00:03<00:08,  1.31it/s]\u001b[A\n",
            "Refining scale 2 using scale 1 ...current loss: 0.0364:  33% 5/15 [00:03<00:07,  1.30it/s]\u001b[A\n",
            "Refining scale 2 using scale 1 ...current loss: 0.0345:  33% 5/15 [00:04<00:07,  1.30it/s]\u001b[A\n",
            "Refining scale 2 using scale 1 ...current loss: 0.0345:  40% 6/15 [00:04<00:06,  1.29it/s]\u001b[A\n",
            "Refining scale 2 using scale 1 ...current loss: 0.0328:  40% 6/15 [00:05<00:06,  1.29it/s]\u001b[A\n",
            "Refining scale 2 using scale 1 ...current loss: 0.0328:  47% 7/15 [00:05<00:06,  1.29it/s]\u001b[A\n",
            "Refining scale 2 using scale 1 ...current loss: 0.0310:  47% 7/15 [00:05<00:06,  1.29it/s]\u001b[A\n",
            "Refining scale 2 using scale 1 ...current loss: 0.0310:  53% 8/15 [00:06<00:05,  1.28it/s]\u001b[A\n",
            "Refining scale 2 using scale 1 ...current loss: 0.0297:  53% 8/15 [00:06<00:05,  1.28it/s]\u001b[A\n",
            "Refining scale 2 using scale 1 ...current loss: 0.0297:  60% 9/15 [00:06<00:04,  1.28it/s]\u001b[A\n",
            "Refining scale 2 using scale 1 ...current loss: 0.0287:  60% 9/15 [00:07<00:04,  1.28it/s]\u001b[A\n",
            "Refining scale 2 using scale 1 ...current loss: 0.0287:  67% 10/15 [00:07<00:03,  1.28it/s]\u001b[A\n",
            "Refining scale 2 using scale 1 ...current loss: 0.0276:  67% 10/15 [00:08<00:03,  1.28it/s]\u001b[A\n",
            "Refining scale 2 using scale 1 ...current loss: 0.0276:  73% 11/15 [00:08<00:03,  1.28it/s]\u001b[A\n",
            "Refining scale 2 using scale 1 ...current loss: 0.0266:  73% 11/15 [00:08<00:03,  1.28it/s]\u001b[A\n",
            "Refining scale 2 using scale 1 ...current loss: 0.0266:  80% 12/15 [00:09<00:02,  1.28it/s]\u001b[A\n",
            "Refining scale 2 using scale 1 ...current loss: 0.0255:  80% 12/15 [00:09<00:02,  1.28it/s]\u001b[A\n",
            "Refining scale 2 using scale 1 ...current loss: 0.0255:  87% 13/15 [00:10<00:01,  1.28it/s]\u001b[A\n",
            "Refining scale 2 using scale 1 ...current loss: 0.0246:  87% 13/15 [00:10<00:01,  1.28it/s]\u001b[A\n",
            "Refining scale 2 using scale 1 ...current loss: 0.0246:  93% 14/15 [00:10<00:00,  1.28it/s]\u001b[A\n",
            "Refining scale 2 using scale 1 ...current loss: 0.0237:  93% 14/15 [00:11<00:00,  1.28it/s]\u001b[A\n",
            "Refining scale 2 using scale 1 ...current loss: 0.0237: 100% 15/15 [00:11<00:00,  1.42it/s]\u001b[A\n",
            " 83% 621/746 [2:01:17<24:20, 11.69s/it]\n",
            "  0% 0/15 [00:00<?, ?it/s]\u001b[A\n",
            "                          \u001b[A\n",
            "  0% 0/15 [00:00<?, ?it/s]\u001b[A\n",
            "Refining scale 2 using scale 1 ...current loss: 0.0309:   0% 0/15 [00:00<?, ?it/s]\u001b[A\n",
            "Refining scale 2 using scale 1 ...current loss: 0.0309:   7% 1/15 [00:00<00:08,  1.58it/s]\u001b[A\n",
            "Refining scale 2 using scale 1 ...current loss: 0.0330:   7% 1/15 [00:01<00:08,  1.58it/s]\u001b[A\n",
            "Refining scale 2 using scale 1 ...current loss: 0.0330:  13% 2/15 [00:01<00:09,  1.38it/s]\u001b[A\n",
            "Refining scale 2 using scale 1 ...current loss: 0.0273:  13% 2/15 [00:01<00:09,  1.38it/s]\u001b[A\n",
            "Refining scale 2 using scale 1 ...current loss: 0.0273:  20% 3/15 [00:02<00:09,  1.32it/s]\u001b[A\n",
            "Refining scale 2 using scale 1 ...current loss: 0.0235:  20% 3/15 [00:02<00:09,  1.32it/s]\u001b[A\n",
            "Refining scale 2 using scale 1 ...current loss: 0.0235:  27% 4/15 [00:02<00:08,  1.31it/s]\u001b[A\n",
            "Refining scale 2 using scale 1 ...current loss: 0.0216:  27% 4/15 [00:03<00:08,  1.31it/s]\u001b[A\n",
            "Refining scale 2 using scale 1 ...current loss: 0.0216:  33% 5/15 [00:03<00:07,  1.29it/s]\u001b[A\n",
            "Refining scale 2 using scale 1 ...current loss: 0.0200:  33% 5/15 [00:04<00:07,  1.29it/s]\u001b[A\n",
            "Refining scale 2 using scale 1 ...current loss: 0.0200:  40% 6/15 [00:04<00:07,  1.28it/s]\u001b[A\n",
            "Refining scale 2 using scale 1 ...current loss: 0.0187:  40% 6/15 [00:05<00:07,  1.28it/s]\u001b[A\n",
            "Refining scale 2 using scale 1 ...current loss: 0.0187:  47% 7/15 [00:05<00:06,  1.28it/s]\u001b[A\n",
            "Refining scale 2 using scale 1 ...current loss: 0.0180:  47% 7/15 [00:05<00:06,  1.28it/s]\u001b[A\n",
            "Refining scale 2 using scale 1 ...current loss: 0.0180:  53% 8/15 [00:06<00:05,  1.28it/s]\u001b[A\n",
            "Refining scale 2 using scale 1 ...current loss: 0.0172:  53% 8/15 [00:06<00:05,  1.28it/s]\u001b[A\n",
            "Refining scale 2 using scale 1 ...current loss: 0.0172:  60% 9/15 [00:06<00:04,  1.28it/s]\u001b[A\n",
            "Refining scale 2 using scale 1 ...current loss: 0.0164:  60% 9/15 [00:07<00:04,  1.28it/s]\u001b[A\n",
            "Refining scale 2 using scale 1 ...current loss: 0.0164:  67% 10/15 [00:07<00:03,  1.28it/s]\u001b[A\n",
            "Refining scale 2 using scale 1 ...current loss: 0.0158:  67% 10/15 [00:08<00:03,  1.28it/s]\u001b[A\n",
            "Refining scale 2 using scale 1 ...current loss: 0.0158:  73% 11/15 [00:08<00:03,  1.28it/s]\u001b[A\n",
            "Refining scale 2 using scale 1 ...current loss: 0.0154:  73% 11/15 [00:09<00:03,  1.28it/s]\u001b[A\n",
            "Refining scale 2 using scale 1 ...current loss: 0.0154:  80% 12/15 [00:09<00:02,  1.28it/s]\u001b[A\n",
            "Refining scale 2 using scale 1 ...current loss: 0.0149:  80% 12/15 [00:09<00:02,  1.28it/s]\u001b[A\n",
            "Refining scale 2 using scale 1 ...current loss: 0.0149:  87% 13/15 [00:10<00:01,  1.27it/s]\u001b[A\n",
            "Refining scale 2 using scale 1 ...current loss: 0.0146:  87% 13/15 [00:10<00:01,  1.27it/s]\u001b[A\n",
            "Refining scale 2 using scale 1 ...current loss: 0.0146:  93% 14/15 [00:10<00:00,  1.27it/s]\u001b[A\n",
            "Refining scale 2 using scale 1 ...current loss: 0.0142:  93% 14/15 [00:11<00:00,  1.27it/s]\u001b[A\n",
            "Refining scale 2 using scale 1 ...current loss: 0.0142: 100% 15/15 [00:11<00:00,  1.41it/s]\u001b[A\n",
            " 83% 622/746 [2:01:29<24:10, 11.70s/it]\n",
            "  0% 0/15 [00:00<?, ?it/s]\u001b[A\n",
            "                          \u001b[A\n",
            "  0% 0/15 [00:00<?, ?it/s]\u001b[A\n",
            "Refining scale 2 using scale 1 ...current loss: 0.0558:   0% 0/15 [00:00<?, ?it/s]\u001b[A\n",
            "Refining scale 2 using scale 1 ...current loss: 0.0558:   7% 1/15 [00:00<00:08,  1.58it/s]\u001b[A\n",
            "Refining scale 2 using scale 1 ...current loss: 0.0457:   7% 1/15 [00:01<00:08,  1.58it/s]\u001b[A\n",
            "Refining scale 2 using scale 1 ...current loss: 0.0457:  13% 2/15 [00:01<00:09,  1.38it/s]\u001b[A\n",
            "Refining scale 2 using scale 1 ...current loss: 0.0400:  13% 2/15 [00:01<00:09,  1.38it/s]\u001b[A\n",
            "Refining scale 2 using scale 1 ...current loss: 0.0400:  20% 3/15 [00:02<00:09,  1.33it/s]\u001b[A\n",
            "Refining scale 2 using scale 1 ...current loss: 0.0375:  20% 3/15 [00:02<00:09,  1.33it/s]\u001b[A\n",
            "Refining scale 2 using scale 1 ...current loss: 0.0375:  27% 4/15 [00:02<00:08,  1.31it/s]\u001b[A\n",
            "Refining scale 2 using scale 1 ...current loss: 0.0349:  27% 4/15 [00:03<00:08,  1.31it/s]\u001b[A\n",
            "Refining scale 2 using scale 1 ...current loss: 0.0349:  33% 5/15 [00:03<00:07,  1.29it/s]\u001b[A\n",
            "Refining scale 2 using scale 1 ...current loss: 0.0328:  33% 5/15 [00:04<00:07,  1.29it/s]\u001b[A\n",
            "Refining scale 2 using scale 1 ...current loss: 0.0328:  40% 6/15 [00:04<00:07,  1.29it/s]\u001b[A\n",
            "Refining scale 2 using scale 1 ...current loss: 0.0306:  40% 6/15 [00:05<00:07,  1.29it/s]\u001b[A\n",
            "Refining scale 2 using scale 1 ...current loss: 0.0306:  47% 7/15 [00:05<00:06,  1.28it/s]\u001b[A\n",
            "Refining scale 2 using scale 1 ...current loss: 0.0294:  47% 7/15 [00:05<00:06,  1.28it/s]\u001b[A\n",
            "Refining scale 2 using scale 1 ...current loss: 0.0294:  53% 8/15 [00:06<00:05,  1.28it/s]\u001b[A\n",
            "Refining scale 2 using scale 1 ...current loss: 0.0280:  53% 8/15 [00:06<00:05,  1.28it/s]\u001b[A\n",
            "Refining scale 2 using scale 1 ...current loss: 0.0280:  60% 9/15 [00:06<00:04,  1.28it/s]\u001b[A\n",
            "Refining scale 2 using scale 1 ...current loss: 0.0267:  60% 9/15 [00:07<00:04,  1.28it/s]\u001b[A\n",
            "Refining scale 2 using scale 1 ...current loss: 0.0267:  67% 10/15 [00:07<00:03,  1.27it/s]\u001b[A\n",
            "Refining scale 2 using scale 1 ...current loss: 0.0255:  67% 10/15 [00:08<00:03,  1.27it/s]\u001b[A\n",
            "Refining scale 2 using scale 1 ...current loss: 0.0255:  73% 11/15 [00:08<00:03,  1.27it/s]\u001b[A\n",
            "Refining scale 2 using scale 1 ...current loss: 0.0244:  73% 11/15 [00:09<00:03,  1.27it/s]\u001b[A\n",
            "Refining scale 2 using scale 1 ...current loss: 0.0244:  80% 12/15 [00:09<00:02,  1.27it/s]\u001b[A\n",
            "Refining scale 2 using scale 1 ...current loss: 0.0236:  80% 12/15 [00:09<00:02,  1.27it/s]\u001b[A\n",
            "Refining scale 2 using scale 1 ...current loss: 0.0236:  87% 13/15 [00:10<00:01,  1.28it/s]\u001b[A\n",
            "Refining scale 2 using scale 1 ...current loss: 0.0227:  87% 13/15 [00:10<00:01,  1.28it/s]\u001b[A\n",
            "Refining scale 2 using scale 1 ...current loss: 0.0227:  93% 14/15 [00:10<00:00,  1.27it/s]\u001b[A\n",
            "Refining scale 2 using scale 1 ...current loss: 0.0219:  93% 14/15 [00:11<00:00,  1.27it/s]\u001b[A\n",
            "Refining scale 2 using scale 1 ...current loss: 0.0219: 100% 15/15 [00:11<00:00,  1.42it/s]\u001b[A\n",
            " 84% 623/746 [2:01:41<23:57, 11.69s/it]\n",
            "  0% 0/15 [00:00<?, ?it/s]\u001b[A\n",
            "                          \u001b[A\n",
            "  0% 0/15 [00:00<?, ?it/s]\u001b[A\n",
            "Refining scale 2 using scale 1 ...current loss: 0.0375:   0% 0/15 [00:00<?, ?it/s]\u001b[A\n",
            "Refining scale 2 using scale 1 ...current loss: 0.0375:   7% 1/15 [00:00<00:08,  1.58it/s]\u001b[A\n",
            "Refining scale 2 using scale 1 ...current loss: 0.0295:   7% 1/15 [00:01<00:08,  1.58it/s]\u001b[A\n",
            "Refining scale 2 using scale 1 ...current loss: 0.0295:  13% 2/15 [00:01<00:09,  1.39it/s]\u001b[A\n",
            "Refining scale 2 using scale 1 ...current loss: 0.0243:  13% 2/15 [00:01<00:09,  1.39it/s]\u001b[A\n",
            "Refining scale 2 using scale 1 ...current loss: 0.0243:  20% 3/15 [00:02<00:09,  1.33it/s]\u001b[A\n",
            "Refining scale 2 using scale 1 ...current loss: 0.0206:  20% 3/15 [00:02<00:09,  1.33it/s]\u001b[A\n",
            "Refining scale 2 using scale 1 ...current loss: 0.0206:  27% 4/15 [00:02<00:08,  1.31it/s]\u001b[A\n",
            "Refining scale 2 using scale 1 ...current loss: 0.0193:  27% 4/15 [00:03<00:08,  1.31it/s]\u001b[A\n",
            "Refining scale 2 using scale 1 ...current loss: 0.0193:  33% 5/15 [00:03<00:07,  1.30it/s]\u001b[A\n",
            "Refining scale 2 using scale 1 ...current loss: 0.0180:  33% 5/15 [00:04<00:07,  1.30it/s]\u001b[A\n",
            "Refining scale 2 using scale 1 ...current loss: 0.0180:  40% 6/15 [00:04<00:06,  1.29it/s]\u001b[A\n",
            "Refining scale 2 using scale 1 ...current loss: 0.0170:  40% 6/15 [00:05<00:06,  1.29it/s]\u001b[A\n",
            "Refining scale 2 using scale 1 ...current loss: 0.0170:  47% 7/15 [00:05<00:06,  1.29it/s]\u001b[A\n",
            "Refining scale 2 using scale 1 ...current loss: 0.0164:  47% 7/15 [00:05<00:06,  1.29it/s]\u001b[A\n",
            "Refining scale 2 using scale 1 ...current loss: 0.0164:  53% 8/15 [00:06<00:05,  1.28it/s]\u001b[A\n",
            "Refining scale 2 using scale 1 ...current loss: 0.0155:  53% 8/15 [00:06<00:05,  1.28it/s]\u001b[A\n",
            "Refining scale 2 using scale 1 ...current loss: 0.0155:  60% 9/15 [00:06<00:04,  1.28it/s]\u001b[A\n",
            "Refining scale 2 using scale 1 ...current loss: 0.0147:  60% 9/15 [00:07<00:04,  1.28it/s]\u001b[A\n",
            "Refining scale 2 using scale 1 ...current loss: 0.0147:  67% 10/15 [00:07<00:03,  1.27it/s]\u001b[A\n",
            "Refining scale 2 using scale 1 ...current loss: 0.0141:  67% 10/15 [00:08<00:03,  1.27it/s]\u001b[A\n",
            "Refining scale 2 using scale 1 ...current loss: 0.0141:  73% 11/15 [00:08<00:03,  1.27it/s]\u001b[A\n",
            "Refining scale 2 using scale 1 ...current loss: 0.0135:  73% 11/15 [00:09<00:03,  1.27it/s]\u001b[A\n",
            "Refining scale 2 using scale 1 ...current loss: 0.0135:  80% 12/15 [00:09<00:02,  1.27it/s]\u001b[A\n",
            "Refining scale 2 using scale 1 ...current loss: 0.0130:  80% 12/15 [00:09<00:02,  1.27it/s]\u001b[A\n",
            "Refining scale 2 using scale 1 ...current loss: 0.0130:  87% 13/15 [00:10<00:01,  1.27it/s]\u001b[A\n",
            "Refining scale 2 using scale 1 ...current loss: 0.0126:  87% 13/15 [00:10<00:01,  1.27it/s]\u001b[A\n",
            "Refining scale 2 using scale 1 ...current loss: 0.0126:  93% 14/15 [00:10<00:00,  1.27it/s]\u001b[A\n",
            "Refining scale 2 using scale 1 ...current loss: 0.0122:  93% 14/15 [00:11<00:00,  1.27it/s]\u001b[A\n",
            "Refining scale 2 using scale 1 ...current loss: 0.0122: 100% 15/15 [00:11<00:00,  1.41it/s]\u001b[A\n",
            " 84% 624/746 [2:01:52<23:44, 11.68s/it]\n",
            "  0% 0/15 [00:00<?, ?it/s]\u001b[A\n",
            "                          \u001b[A\n",
            "  0% 0/15 [00:00<?, ?it/s]\u001b[A\n",
            "Refining scale 2 using scale 1 ...current loss: 0.0228:   0% 0/15 [00:00<?, ?it/s]\u001b[A\n",
            "Refining scale 2 using scale 1 ...current loss: 0.0228:   7% 1/15 [00:00<00:08,  1.58it/s]\u001b[A\n",
            "Refining scale 2 using scale 1 ...current loss: 0.0273:   7% 1/15 [00:01<00:08,  1.58it/s]\u001b[A\n",
            "Refining scale 2 using scale 1 ...current loss: 0.0273:  13% 2/15 [00:01<00:09,  1.38it/s]\u001b[A\n",
            "Refining scale 2 using scale 1 ...current loss: 0.0157:  13% 2/15 [00:01<00:09,  1.38it/s]\u001b[A\n",
            "Refining scale 2 using scale 1 ...current loss: 0.0157:  20% 3/15 [00:02<00:09,  1.33it/s]\u001b[A\n",
            "Refining scale 2 using scale 1 ...current loss: 0.0160:  20% 3/15 [00:02<00:09,  1.33it/s]\u001b[A\n",
            "Refining scale 2 using scale 1 ...current loss: 0.0160:  27% 4/15 [00:02<00:08,  1.31it/s]\u001b[A\n",
            "Refining scale 2 using scale 1 ...current loss: 0.0153:  27% 4/15 [00:03<00:08,  1.31it/s]\u001b[A\n",
            "Refining scale 2 using scale 1 ...current loss: 0.0153:  33% 5/15 [00:03<00:07,  1.30it/s]\u001b[A\n",
            "Refining scale 2 using scale 1 ...current loss: 0.0129:  33% 5/15 [00:04<00:07,  1.30it/s]\u001b[A\n",
            "Refining scale 2 using scale 1 ...current loss: 0.0129:  40% 6/15 [00:04<00:06,  1.29it/s]\u001b[A\n",
            "Refining scale 2 using scale 1 ...current loss: 0.0128:  40% 6/15 [00:05<00:06,  1.29it/s]\u001b[A\n",
            "Refining scale 2 using scale 1 ...current loss: 0.0128:  47% 7/15 [00:05<00:06,  1.29it/s]\u001b[A\n",
            "Refining scale 2 using scale 1 ...current loss: 0.0120:  47% 7/15 [00:05<00:06,  1.29it/s]\u001b[A\n",
            "Refining scale 2 using scale 1 ...current loss: 0.0120:  53% 8/15 [00:06<00:05,  1.28it/s]\u001b[A\n",
            "Refining scale 2 using scale 1 ...current loss: 0.0112:  53% 8/15 [00:06<00:05,  1.28it/s]\u001b[A\n",
            "Refining scale 2 using scale 1 ...current loss: 0.0112:  60% 9/15 [00:06<00:04,  1.28it/s]\u001b[A\n",
            "Refining scale 2 using scale 1 ...current loss: 0.0110:  60% 9/15 [00:07<00:04,  1.28it/s]\u001b[A\n",
            "Refining scale 2 using scale 1 ...current loss: 0.0110:  67% 10/15 [00:07<00:03,  1.28it/s]\u001b[A\n",
            "Refining scale 2 using scale 1 ...current loss: 0.0107:  67% 10/15 [00:08<00:03,  1.28it/s]\u001b[A\n",
            "Refining scale 2 using scale 1 ...current loss: 0.0107:  73% 11/15 [00:08<00:03,  1.28it/s]\u001b[A\n",
            "Refining scale 2 using scale 1 ...current loss: 0.0102:  73% 11/15 [00:09<00:03,  1.28it/s]\u001b[A\n",
            "Refining scale 2 using scale 1 ...current loss: 0.0102:  80% 12/15 [00:09<00:02,  1.28it/s]\u001b[A\n",
            "Refining scale 2 using scale 1 ...current loss: 0.0099:  80% 12/15 [00:09<00:02,  1.28it/s]\u001b[A\n",
            "Refining scale 2 using scale 1 ...current loss: 0.0099:  87% 13/15 [00:10<00:01,  1.27it/s]\u001b[A\n",
            "Refining scale 2 using scale 1 ...current loss: 0.0097:  87% 13/15 [00:10<00:01,  1.27it/s]\u001b[A\n",
            "Refining scale 2 using scale 1 ...current loss: 0.0097:  93% 14/15 [00:10<00:00,  1.27it/s]\u001b[A\n",
            "Refining scale 2 using scale 1 ...current loss: 0.0093:  93% 14/15 [00:11<00:00,  1.27it/s]\u001b[A\n",
            "Refining scale 2 using scale 1 ...current loss: 0.0093: 100% 15/15 [00:11<00:00,  1.41it/s]\u001b[A\n",
            " 84% 625/746 [2:02:04<23:34, 11.69s/it]\n",
            "  0% 0/15 [00:00<?, ?it/s]\u001b[A\n",
            "                          \u001b[A\n",
            "  0% 0/15 [00:00<?, ?it/s]\u001b[A\n",
            "Refining scale 2 using scale 1 ...current loss: nan:   0% 0/15 [00:00<?, ?it/s]\u001b[A\n",
            "Refining scale 2 using scale 1 ...current loss: nan:   7% 1/15 [00:00<00:08,  1.56it/s]\u001b[A\n",
            "Refining scale 2 using scale 1 ...current loss: nan:   7% 1/15 [00:01<00:08,  1.56it/s]\u001b[A\n",
            "Refining scale 2 using scale 1 ...current loss: nan:  13% 2/15 [00:01<00:09,  1.37it/s]\u001b[A\n",
            "Refining scale 2 using scale 1 ...current loss: nan:  13% 2/15 [00:01<00:09,  1.37it/s]\u001b[A\n",
            "Refining scale 2 using scale 1 ...current loss: nan:  20% 3/15 [00:02<00:09,  1.32it/s]\u001b[A\n",
            "Refining scale 2 using scale 1 ...current loss: nan:  20% 3/15 [00:02<00:09,  1.32it/s]\u001b[A\n",
            "Refining scale 2 using scale 1 ...current loss: nan:  27% 4/15 [00:03<00:08,  1.30it/s]\u001b[A\n",
            "Refining scale 2 using scale 1 ...current loss: nan:  27% 4/15 [00:03<00:08,  1.30it/s]\u001b[A\n",
            "Refining scale 2 using scale 1 ...current loss: nan:  33% 5/15 [00:03<00:07,  1.29it/s]\u001b[A\n",
            "Refining scale 2 using scale 1 ...current loss: nan:  33% 5/15 [00:04<00:07,  1.29it/s]\u001b[A\n",
            "Refining scale 2 using scale 1 ...current loss: nan:  40% 6/15 [00:04<00:06,  1.29it/s]\u001b[A\n",
            "Refining scale 2 using scale 1 ...current loss: nan:  40% 6/15 [00:05<00:06,  1.29it/s]\u001b[A\n",
            "Refining scale 2 using scale 1 ...current loss: nan:  47% 7/15 [00:05<00:06,  1.28it/s]\u001b[A\n",
            "Refining scale 2 using scale 1 ...current loss: nan:  47% 7/15 [00:05<00:06,  1.28it/s]\u001b[A\n",
            "Refining scale 2 using scale 1 ...current loss: nan:  53% 8/15 [00:06<00:05,  1.28it/s]\u001b[A\n",
            "Refining scale 2 using scale 1 ...current loss: nan:  53% 8/15 [00:06<00:05,  1.28it/s]\u001b[A\n",
            "Refining scale 2 using scale 1 ...current loss: nan:  60% 9/15 [00:06<00:04,  1.28it/s]\u001b[A\n",
            "Refining scale 2 using scale 1 ...current loss: nan:  60% 9/15 [00:07<00:04,  1.28it/s]\u001b[A\n",
            "Refining scale 2 using scale 1 ...current loss: nan:  67% 10/15 [00:07<00:03,  1.28it/s]\u001b[A\n",
            "Refining scale 2 using scale 1 ...current loss: nan:  67% 10/15 [00:08<00:03,  1.28it/s]\u001b[A\n",
            "Refining scale 2 using scale 1 ...current loss: nan:  73% 11/15 [00:08<00:03,  1.28it/s]\u001b[A\n",
            "Refining scale 2 using scale 1 ...current loss: nan:  73% 11/15 [00:09<00:03,  1.28it/s]\u001b[A\n",
            "Refining scale 2 using scale 1 ...current loss: nan:  80% 12/15 [00:09<00:02,  1.28it/s]\u001b[A\n",
            "Refining scale 2 using scale 1 ...current loss: nan:  80% 12/15 [00:09<00:02,  1.28it/s]\u001b[A\n",
            "Refining scale 2 using scale 1 ...current loss: nan:  87% 13/15 [00:10<00:01,  1.28it/s]\u001b[A\n",
            "Refining scale 2 using scale 1 ...current loss: nan:  87% 13/15 [00:10<00:01,  1.28it/s]\u001b[A\n",
            "Refining scale 2 using scale 1 ...current loss: nan:  93% 14/15 [00:10<00:00,  1.28it/s]\u001b[A\n",
            "Refining scale 2 using scale 1 ...current loss: nan:  93% 14/15 [00:11<00:00,  1.28it/s]\u001b[A\n",
            "Refining scale 2 using scale 1 ...current loss: nan: 100% 15/15 [00:11<00:00,  1.42it/s]\u001b[A\n",
            " 84% 626/746 [2:02:16<23:22, 11.69s/it]\n",
            "  0% 0/15 [00:00<?, ?it/s]\u001b[A\n",
            "                          \u001b[A\n",
            "  0% 0/15 [00:00<?, ?it/s]\u001b[A\n",
            "Refining scale 2 using scale 1 ...current loss: 0.0368:   0% 0/15 [00:00<?, ?it/s]\u001b[A\n",
            "Refining scale 2 using scale 1 ...current loss: 0.0368:   7% 1/15 [00:00<00:08,  1.59it/s]\u001b[A\n",
            "Refining scale 2 using scale 1 ...current loss: 0.0301:   7% 1/15 [00:01<00:08,  1.59it/s]\u001b[A\n",
            "Refining scale 2 using scale 1 ...current loss: 0.0301:  13% 2/15 [00:01<00:09,  1.39it/s]\u001b[A\n",
            "Refining scale 2 using scale 1 ...current loss: 0.0246:  13% 2/15 [00:01<00:09,  1.39it/s]\u001b[A\n",
            "Refining scale 2 using scale 1 ...current loss: 0.0246:  20% 3/15 [00:02<00:09,  1.33it/s]\u001b[A\n",
            "Refining scale 2 using scale 1 ...current loss: 0.0223:  20% 3/15 [00:02<00:09,  1.33it/s]\u001b[A\n",
            "Refining scale 2 using scale 1 ...current loss: 0.0223:  27% 4/15 [00:02<00:08,  1.31it/s]\u001b[A\n",
            "Refining scale 2 using scale 1 ...current loss: 0.0204:  27% 4/15 [00:03<00:08,  1.31it/s]\u001b[A\n",
            "Refining scale 2 using scale 1 ...current loss: 0.0204:  33% 5/15 [00:03<00:07,  1.29it/s]\u001b[A\n",
            "Refining scale 2 using scale 1 ...current loss: 0.0192:  33% 5/15 [00:04<00:07,  1.29it/s]\u001b[A\n",
            "Refining scale 2 using scale 1 ...current loss: 0.0192:  40% 6/15 [00:04<00:06,  1.29it/s]\u001b[A\n",
            "Refining scale 2 using scale 1 ...current loss: 0.0182:  40% 6/15 [00:05<00:06,  1.29it/s]\u001b[A\n",
            "Refining scale 2 using scale 1 ...current loss: 0.0182:  47% 7/15 [00:05<00:06,  1.28it/s]\u001b[A\n",
            "Refining scale 2 using scale 1 ...current loss: 0.0172:  47% 7/15 [00:05<00:06,  1.28it/s]\u001b[A\n",
            "Refining scale 2 using scale 1 ...current loss: 0.0172:  53% 8/15 [00:06<00:05,  1.28it/s]\u001b[A\n",
            "Refining scale 2 using scale 1 ...current loss: 0.0165:  53% 8/15 [00:06<00:05,  1.28it/s]\u001b[A\n",
            "Refining scale 2 using scale 1 ...current loss: 0.0165:  60% 9/15 [00:06<00:04,  1.28it/s]\u001b[A\n",
            "Refining scale 2 using scale 1 ...current loss: 0.0157:  60% 9/15 [00:07<00:04,  1.28it/s]\u001b[A\n",
            "Refining scale 2 using scale 1 ...current loss: 0.0157:  67% 10/15 [00:07<00:03,  1.28it/s]\u001b[A\n",
            "Refining scale 2 using scale 1 ...current loss: 0.0152:  67% 10/15 [00:08<00:03,  1.28it/s]\u001b[A\n",
            "Refining scale 2 using scale 1 ...current loss: 0.0152:  73% 11/15 [00:08<00:03,  1.28it/s]\u001b[A\n",
            "Refining scale 2 using scale 1 ...current loss: 0.0145:  73% 11/15 [00:09<00:03,  1.28it/s]\u001b[A\n",
            "Refining scale 2 using scale 1 ...current loss: 0.0145:  80% 12/15 [00:09<00:02,  1.28it/s]\u001b[A\n",
            "Refining scale 2 using scale 1 ...current loss: 0.0140:  80% 12/15 [00:09<00:02,  1.28it/s]\u001b[A\n",
            "Refining scale 2 using scale 1 ...current loss: 0.0140:  87% 13/15 [00:10<00:01,  1.28it/s]\u001b[A\n",
            "Refining scale 2 using scale 1 ...current loss: 0.0136:  87% 13/15 [00:10<00:01,  1.28it/s]\u001b[A\n",
            "Refining scale 2 using scale 1 ...current loss: 0.0136:  93% 14/15 [00:10<00:00,  1.28it/s]\u001b[A\n",
            "Refining scale 2 using scale 1 ...current loss: 0.0131:  93% 14/15 [00:11<00:00,  1.28it/s]\u001b[A\n",
            "Refining scale 2 using scale 1 ...current loss: 0.0131: 100% 15/15 [00:11<00:00,  1.42it/s]\u001b[A\n",
            " 84% 627/746 [2:02:28<23:09, 11.67s/it]\n",
            "  0% 0/15 [00:00<?, ?it/s]\u001b[A\n",
            "                          \u001b[A\n",
            "  0% 0/15 [00:00<?, ?it/s]\u001b[A\n",
            "Refining scale 2 using scale 1 ...current loss: nan:   0% 0/15 [00:00<?, ?it/s]\u001b[A\n",
            "Refining scale 2 using scale 1 ...current loss: nan:   7% 1/15 [00:00<00:08,  1.58it/s]\u001b[A\n",
            "Refining scale 2 using scale 1 ...current loss: nan:   7% 1/15 [00:01<00:08,  1.58it/s]\u001b[A\n",
            "Refining scale 2 using scale 1 ...current loss: nan:  13% 2/15 [00:01<00:09,  1.38it/s]\u001b[A\n",
            "Refining scale 2 using scale 1 ...current loss: nan:  13% 2/15 [00:01<00:09,  1.38it/s]\u001b[A\n",
            "Refining scale 2 using scale 1 ...current loss: nan:  20% 3/15 [00:02<00:08,  1.33it/s]\u001b[A\n",
            "Refining scale 2 using scale 1 ...current loss: nan:  20% 3/15 [00:02<00:08,  1.33it/s]\u001b[A\n",
            "Refining scale 2 using scale 1 ...current loss: nan:  27% 4/15 [00:02<00:08,  1.31it/s]\u001b[A\n",
            "Refining scale 2 using scale 1 ...current loss: nan:  27% 4/15 [00:03<00:08,  1.31it/s]\u001b[A\n",
            "Refining scale 2 using scale 1 ...current loss: nan:  33% 5/15 [00:03<00:07,  1.30it/s]\u001b[A\n",
            "Refining scale 2 using scale 1 ...current loss: nan:  33% 5/15 [00:04<00:07,  1.30it/s]\u001b[A\n",
            "Refining scale 2 using scale 1 ...current loss: nan:  40% 6/15 [00:04<00:06,  1.29it/s]\u001b[A\n",
            "Refining scale 2 using scale 1 ...current loss: nan:  40% 6/15 [00:05<00:06,  1.29it/s]\u001b[A\n",
            "Refining scale 2 using scale 1 ...current loss: nan:  47% 7/15 [00:05<00:06,  1.29it/s]\u001b[A\n",
            "Refining scale 2 using scale 1 ...current loss: nan:  47% 7/15 [00:05<00:06,  1.29it/s]\u001b[A\n",
            "Refining scale 2 using scale 1 ...current loss: nan:  53% 8/15 [00:06<00:05,  1.29it/s]\u001b[A\n",
            "Refining scale 2 using scale 1 ...current loss: nan:  53% 8/15 [00:06<00:05,  1.29it/s]\u001b[A\n",
            "Refining scale 2 using scale 1 ...current loss: nan:  60% 9/15 [00:06<00:04,  1.28it/s]\u001b[A\n",
            "Refining scale 2 using scale 1 ...current loss: nan:  60% 9/15 [00:07<00:04,  1.28it/s]\u001b[A\n",
            "Refining scale 2 using scale 1 ...current loss: nan:  67% 10/15 [00:07<00:03,  1.28it/s]\u001b[A\n",
            "Refining scale 2 using scale 1 ...current loss: nan:  67% 10/15 [00:08<00:03,  1.28it/s]\u001b[A\n",
            "Refining scale 2 using scale 1 ...current loss: nan:  73% 11/15 [00:08<00:03,  1.28it/s]\u001b[A\n",
            "Refining scale 2 using scale 1 ...current loss: nan:  73% 11/15 [00:08<00:03,  1.28it/s]\u001b[A\n",
            "Refining scale 2 using scale 1 ...current loss: nan:  80% 12/15 [00:09<00:02,  1.27it/s]\u001b[A\n",
            "Refining scale 2 using scale 1 ...current loss: nan:  80% 12/15 [00:09<00:02,  1.27it/s]\u001b[A\n",
            "Refining scale 2 using scale 1 ...current loss: nan:  87% 13/15 [00:10<00:01,  1.28it/s]\u001b[A\n",
            "Refining scale 2 using scale 1 ...current loss: nan:  87% 13/15 [00:10<00:01,  1.28it/s]\u001b[A\n",
            "Refining scale 2 using scale 1 ...current loss: nan:  93% 14/15 [00:10<00:00,  1.27it/s]\u001b[A\n",
            "Refining scale 2 using scale 1 ...current loss: nan:  93% 14/15 [00:11<00:00,  1.27it/s]\u001b[A\n",
            "Refining scale 2 using scale 1 ...current loss: nan: 100% 15/15 [00:11<00:00,  1.42it/s]\u001b[A\n",
            " 84% 628/746 [2:02:39<22:54, 11.65s/it]\n",
            "  0% 0/15 [00:00<?, ?it/s]\u001b[A\n",
            "                          \u001b[A\n",
            "  0% 0/15 [00:00<?, ?it/s]\u001b[A\n",
            "Refining scale 2 using scale 1 ...current loss: 0.0615:   0% 0/15 [00:00<?, ?it/s]\u001b[A\n",
            "Refining scale 2 using scale 1 ...current loss: 0.0615:   7% 1/15 [00:00<00:08,  1.58it/s]\u001b[A\n",
            "Refining scale 2 using scale 1 ...current loss: 0.0504:   7% 1/15 [00:01<00:08,  1.58it/s]\u001b[A\n",
            "Refining scale 2 using scale 1 ...current loss: 0.0504:  13% 2/15 [00:01<00:09,  1.38it/s]\u001b[A\n",
            "Refining scale 2 using scale 1 ...current loss: 0.0422:  13% 2/15 [00:01<00:09,  1.38it/s]\u001b[A\n",
            "Refining scale 2 using scale 1 ...current loss: 0.0422:  20% 3/15 [00:02<00:09,  1.33it/s]\u001b[A\n",
            "Refining scale 2 using scale 1 ...current loss: 0.0357:  20% 3/15 [00:02<00:09,  1.33it/s]\u001b[A\n",
            "Refining scale 2 using scale 1 ...current loss: 0.0357:  27% 4/15 [00:02<00:08,  1.31it/s]\u001b[A\n",
            "Refining scale 2 using scale 1 ...current loss: 0.0325:  27% 4/15 [00:03<00:08,  1.31it/s]\u001b[A\n",
            "Refining scale 2 using scale 1 ...current loss: 0.0325:  33% 5/15 [00:03<00:07,  1.30it/s]\u001b[A\n",
            "Refining scale 2 using scale 1 ...current loss: 0.0298:  33% 5/15 [00:04<00:07,  1.30it/s]\u001b[A\n",
            "Refining scale 2 using scale 1 ...current loss: 0.0298:  40% 6/15 [00:04<00:06,  1.29it/s]\u001b[A\n",
            "Refining scale 2 using scale 1 ...current loss: 0.0282:  40% 6/15 [00:05<00:06,  1.29it/s]\u001b[A\n",
            "Refining scale 2 using scale 1 ...current loss: 0.0282:  47% 7/15 [00:05<00:06,  1.29it/s]\u001b[A\n",
            "Refining scale 2 using scale 1 ...current loss: 0.0271:  47% 7/15 [00:05<00:06,  1.29it/s]\u001b[A\n",
            "Refining scale 2 using scale 1 ...current loss: 0.0271:  53% 8/15 [00:06<00:05,  1.28it/s]\u001b[A\n",
            "Refining scale 2 using scale 1 ...current loss: 0.0257:  53% 8/15 [00:06<00:05,  1.28it/s]\u001b[A\n",
            "Refining scale 2 using scale 1 ...current loss: 0.0257:  60% 9/15 [00:06<00:04,  1.28it/s]\u001b[A\n",
            "Refining scale 2 using scale 1 ...current loss: 0.0246:  60% 9/15 [00:07<00:04,  1.28it/s]\u001b[A\n",
            "Refining scale 2 using scale 1 ...current loss: 0.0246:  67% 10/15 [00:07<00:03,  1.28it/s]\u001b[A\n",
            "Refining scale 2 using scale 1 ...current loss: 0.0234:  67% 10/15 [00:08<00:03,  1.28it/s]\u001b[A\n",
            "Refining scale 2 using scale 1 ...current loss: 0.0234:  73% 11/15 [00:08<00:03,  1.28it/s]\u001b[A\n",
            "Refining scale 2 using scale 1 ...current loss: 0.0222:  73% 11/15 [00:08<00:03,  1.28it/s]\u001b[A\n",
            "Refining scale 2 using scale 1 ...current loss: 0.0222:  80% 12/15 [00:09<00:02,  1.28it/s]\u001b[A\n",
            "Refining scale 2 using scale 1 ...current loss: 0.0213:  80% 12/15 [00:09<00:02,  1.28it/s]\u001b[A\n",
            "Refining scale 2 using scale 1 ...current loss: 0.0213:  87% 13/15 [00:10<00:01,  1.28it/s]\u001b[A\n",
            "Refining scale 2 using scale 1 ...current loss: 0.0204:  87% 13/15 [00:10<00:01,  1.28it/s]\u001b[A\n",
            "Refining scale 2 using scale 1 ...current loss: 0.0204:  93% 14/15 [00:10<00:00,  1.27it/s]\u001b[A\n",
            "Refining scale 2 using scale 1 ...current loss: 0.0197:  93% 14/15 [00:11<00:00,  1.27it/s]\u001b[A\n",
            "Refining scale 2 using scale 1 ...current loss: 0.0197: 100% 15/15 [00:11<00:00,  1.42it/s]\u001b[A\n",
            " 84% 629/746 [2:02:51<22:42, 11.65s/it]\n",
            "  0% 0/15 [00:00<?, ?it/s]\u001b[A\n",
            "                          \u001b[A\n",
            "  0% 0/15 [00:00<?, ?it/s]\u001b[A\n",
            "Refining scale 2 using scale 1 ...current loss: 0.1132:   0% 0/15 [00:00<?, ?it/s]\u001b[A\n",
            "Refining scale 2 using scale 1 ...current loss: 0.1132:   7% 1/15 [00:00<00:08,  1.56it/s]\u001b[A\n",
            "Refining scale 2 using scale 1 ...current loss: 0.0604:   7% 1/15 [00:01<00:08,  1.56it/s]\u001b[A\n",
            "Refining scale 2 using scale 1 ...current loss: 0.0604:  13% 2/15 [00:01<00:09,  1.37it/s]\u001b[A\n",
            "Refining scale 2 using scale 1 ...current loss: 0.0556:  13% 2/15 [00:01<00:09,  1.37it/s]\u001b[A\n",
            "Refining scale 2 using scale 1 ...current loss: 0.0556:  20% 3/15 [00:02<00:09,  1.32it/s]\u001b[A\n",
            "Refining scale 2 using scale 1 ...current loss: 0.0462:  20% 3/15 [00:02<00:09,  1.32it/s]\u001b[A\n",
            "Refining scale 2 using scale 1 ...current loss: 0.0462:  27% 4/15 [00:03<00:08,  1.31it/s]\u001b[A\n",
            "Refining scale 2 using scale 1 ...current loss: 0.0399:  27% 4/15 [00:03<00:08,  1.31it/s]\u001b[A\n",
            "Refining scale 2 using scale 1 ...current loss: 0.0399:  33% 5/15 [00:03<00:07,  1.30it/s]\u001b[A\n",
            "Refining scale 2 using scale 1 ...current loss: 0.0374:  33% 5/15 [00:04<00:07,  1.30it/s]\u001b[A\n",
            "Refining scale 2 using scale 1 ...current loss: 0.0374:  40% 6/15 [00:04<00:06,  1.29it/s]\u001b[A\n",
            "Refining scale 2 using scale 1 ...current loss: 0.0362:  40% 6/15 [00:05<00:06,  1.29it/s]\u001b[A\n",
            "Refining scale 2 using scale 1 ...current loss: 0.0362:  47% 7/15 [00:05<00:06,  1.29it/s]\u001b[A\n",
            "Refining scale 2 using scale 1 ...current loss: 0.0347:  47% 7/15 [00:05<00:06,  1.29it/s]\u001b[A\n",
            "Refining scale 2 using scale 1 ...current loss: 0.0347:  53% 8/15 [00:06<00:05,  1.28it/s]\u001b[A\n",
            "Refining scale 2 using scale 1 ...current loss: 0.0329:  53% 8/15 [00:06<00:05,  1.28it/s]\u001b[A\n",
            "Refining scale 2 using scale 1 ...current loss: 0.0329:  60% 9/15 [00:06<00:04,  1.28it/s]\u001b[A\n",
            "Refining scale 2 using scale 1 ...current loss: 0.0320:  60% 9/15 [00:07<00:04,  1.28it/s]\u001b[A\n",
            "Refining scale 2 using scale 1 ...current loss: 0.0320:  67% 10/15 [00:07<00:03,  1.28it/s]\u001b[A\n",
            "Refining scale 2 using scale 1 ...current loss: 0.0308:  67% 10/15 [00:08<00:03,  1.28it/s]\u001b[A\n",
            "Refining scale 2 using scale 1 ...current loss: 0.0308:  73% 11/15 [00:08<00:03,  1.28it/s]\u001b[A\n",
            "Refining scale 2 using scale 1 ...current loss: 0.0297:  73% 11/15 [00:09<00:03,  1.28it/s]\u001b[A\n",
            "Refining scale 2 using scale 1 ...current loss: 0.0297:  80% 12/15 [00:09<00:02,  1.28it/s]\u001b[A\n",
            "Refining scale 2 using scale 1 ...current loss: 0.0286:  80% 12/15 [00:09<00:02,  1.28it/s]\u001b[A\n",
            "Refining scale 2 using scale 1 ...current loss: 0.0286:  87% 13/15 [00:10<00:01,  1.28it/s]\u001b[A\n",
            "Refining scale 2 using scale 1 ...current loss: 0.0276:  87% 13/15 [00:10<00:01,  1.28it/s]\u001b[A\n",
            "Refining scale 2 using scale 1 ...current loss: 0.0276:  93% 14/15 [00:10<00:00,  1.28it/s]\u001b[A\n",
            "Refining scale 2 using scale 1 ...current loss: 0.0267:  93% 14/15 [00:11<00:00,  1.28it/s]\u001b[A\n",
            "Refining scale 2 using scale 1 ...current loss: 0.0267: 100% 15/15 [00:11<00:00,  1.42it/s]\u001b[A\n",
            " 84% 630/746 [2:03:02<22:32, 11.66s/it]\n",
            "  0% 0/15 [00:00<?, ?it/s]\u001b[A\n",
            "                          \u001b[A\n",
            "  0% 0/15 [00:00<?, ?it/s]\u001b[A\n",
            "Refining scale 2 using scale 1 ...current loss: 0.0681:   0% 0/15 [00:00<?, ?it/s]\u001b[A\n",
            "Refining scale 2 using scale 1 ...current loss: 0.0681:   7% 1/15 [00:00<00:08,  1.58it/s]\u001b[A\n",
            "Refining scale 2 using scale 1 ...current loss: 0.0594:   7% 1/15 [00:01<00:08,  1.58it/s]\u001b[A\n",
            "Refining scale 2 using scale 1 ...current loss: 0.0594:  13% 2/15 [00:01<00:09,  1.38it/s]\u001b[A\n",
            "Refining scale 2 using scale 1 ...current loss: 0.0466:  13% 2/15 [00:01<00:09,  1.38it/s]\u001b[A\n",
            "Refining scale 2 using scale 1 ...current loss: 0.0466:  20% 3/15 [00:02<00:09,  1.33it/s]\u001b[A\n",
            "Refining scale 2 using scale 1 ...current loss: 0.0426:  20% 3/15 [00:02<00:09,  1.33it/s]\u001b[A\n",
            "Refining scale 2 using scale 1 ...current loss: 0.0426:  27% 4/15 [00:02<00:08,  1.30it/s]\u001b[A\n",
            "Refining scale 2 using scale 1 ...current loss: 0.0396:  27% 4/15 [00:03<00:08,  1.30it/s]\u001b[A\n",
            "Refining scale 2 using scale 1 ...current loss: 0.0396:  33% 5/15 [00:03<00:07,  1.29it/s]\u001b[A\n",
            "Refining scale 2 using scale 1 ...current loss: 0.0368:  33% 5/15 [00:04<00:07,  1.29it/s]\u001b[A\n",
            "Refining scale 2 using scale 1 ...current loss: 0.0368:  40% 6/15 [00:04<00:06,  1.29it/s]\u001b[A\n",
            "Refining scale 2 using scale 1 ...current loss: 0.0344:  40% 6/15 [00:05<00:06,  1.29it/s]\u001b[A\n",
            "Refining scale 2 using scale 1 ...current loss: 0.0344:  47% 7/15 [00:05<00:06,  1.28it/s]\u001b[A\n",
            "Refining scale 2 using scale 1 ...current loss: 0.0325:  47% 7/15 [00:05<00:06,  1.28it/s]\u001b[A\n",
            "Refining scale 2 using scale 1 ...current loss: 0.0325:  53% 8/15 [00:06<00:05,  1.28it/s]\u001b[A\n",
            "Refining scale 2 using scale 1 ...current loss: 0.0310:  53% 8/15 [00:06<00:05,  1.28it/s]\u001b[A\n",
            "Refining scale 2 using scale 1 ...current loss: 0.0310:  60% 9/15 [00:06<00:04,  1.28it/s]\u001b[A\n",
            "Refining scale 2 using scale 1 ...current loss: 0.0298:  60% 9/15 [00:07<00:04,  1.28it/s]\u001b[A\n",
            "Refining scale 2 using scale 1 ...current loss: 0.0298:  67% 10/15 [00:07<00:03,  1.27it/s]\u001b[A\n",
            "Refining scale 2 using scale 1 ...current loss: 0.0288:  67% 10/15 [00:08<00:03,  1.27it/s]\u001b[A\n",
            "Refining scale 2 using scale 1 ...current loss: 0.0288:  73% 11/15 [00:08<00:03,  1.28it/s]\u001b[A\n",
            "Refining scale 2 using scale 1 ...current loss: 0.0274:  73% 11/15 [00:09<00:03,  1.28it/s]\u001b[A\n",
            "Refining scale 2 using scale 1 ...current loss: 0.0274:  80% 12/15 [00:09<00:02,  1.28it/s]\u001b[A\n",
            "Refining scale 2 using scale 1 ...current loss: 0.0263:  80% 12/15 [00:09<00:02,  1.28it/s]\u001b[A\n",
            "Refining scale 2 using scale 1 ...current loss: 0.0263:  87% 13/15 [00:10<00:01,  1.28it/s]\u001b[A\n",
            "Refining scale 2 using scale 1 ...current loss: 0.0256:  87% 13/15 [00:10<00:01,  1.28it/s]\u001b[A\n",
            "Refining scale 2 using scale 1 ...current loss: 0.0256:  93% 14/15 [00:10<00:00,  1.28it/s]\u001b[A\n",
            "Refining scale 2 using scale 1 ...current loss: 0.0246:  93% 14/15 [00:11<00:00,  1.28it/s]\u001b[A\n",
            "Refining scale 2 using scale 1 ...current loss: 0.0246: 100% 15/15 [00:11<00:00,  1.42it/s]\u001b[A\n",
            " 85% 631/746 [2:03:14<22:20, 11.66s/it]\n",
            "  0% 0/15 [00:00<?, ?it/s]\u001b[A\n",
            "                          \u001b[A\n",
            "  0% 0/15 [00:00<?, ?it/s]\u001b[A\n",
            "Refining scale 2 using scale 1 ...current loss: nan:   0% 0/15 [00:00<?, ?it/s]\u001b[A\n",
            "Refining scale 2 using scale 1 ...current loss: nan:   7% 1/15 [00:00<00:08,  1.57it/s]\u001b[A\n",
            "Refining scale 2 using scale 1 ...current loss: nan:   7% 1/15 [00:01<00:08,  1.57it/s]\u001b[A\n",
            "Refining scale 2 using scale 1 ...current loss: nan:  13% 2/15 [00:01<00:09,  1.38it/s]\u001b[A\n",
            "Refining scale 2 using scale 1 ...current loss: nan:  13% 2/15 [00:01<00:09,  1.38it/s]\u001b[A\n",
            "Refining scale 2 using scale 1 ...current loss: nan:  20% 3/15 [00:02<00:09,  1.33it/s]\u001b[A\n",
            "Refining scale 2 using scale 1 ...current loss: nan:  20% 3/15 [00:02<00:09,  1.33it/s]\u001b[A\n",
            "Refining scale 2 using scale 1 ...current loss: nan:  27% 4/15 [00:02<00:08,  1.31it/s]\u001b[A\n",
            "Refining scale 2 using scale 1 ...current loss: nan:  27% 4/15 [00:03<00:08,  1.31it/s]\u001b[A\n",
            "Refining scale 2 using scale 1 ...current loss: nan:  33% 5/15 [00:03<00:07,  1.30it/s]\u001b[A\n",
            "Refining scale 2 using scale 1 ...current loss: nan:  33% 5/15 [00:04<00:07,  1.30it/s]\u001b[A\n",
            "Refining scale 2 using scale 1 ...current loss: nan:  40% 6/15 [00:04<00:06,  1.29it/s]\u001b[A\n",
            "Refining scale 2 using scale 1 ...current loss: nan:  40% 6/15 [00:05<00:06,  1.29it/s]\u001b[A\n",
            "Refining scale 2 using scale 1 ...current loss: nan:  47% 7/15 [00:05<00:06,  1.29it/s]\u001b[A\n",
            "Refining scale 2 using scale 1 ...current loss: nan:  47% 7/15 [00:05<00:06,  1.29it/s]\u001b[A\n",
            "Refining scale 2 using scale 1 ...current loss: nan:  53% 8/15 [00:06<00:05,  1.28it/s]\u001b[A\n",
            "Refining scale 2 using scale 1 ...current loss: nan:  53% 8/15 [00:06<00:05,  1.28it/s]\u001b[A\n",
            "Refining scale 2 using scale 1 ...current loss: nan:  60% 9/15 [00:06<00:04,  1.28it/s]\u001b[A\n",
            "Refining scale 2 using scale 1 ...current loss: nan:  60% 9/15 [00:07<00:04,  1.28it/s]\u001b[A\n",
            "Refining scale 2 using scale 1 ...current loss: nan:  67% 10/15 [00:07<00:03,  1.27it/s]\u001b[A\n",
            "Refining scale 2 using scale 1 ...current loss: nan:  67% 10/15 [00:08<00:03,  1.27it/s]\u001b[A\n",
            "Refining scale 2 using scale 1 ...current loss: nan:  73% 11/15 [00:08<00:03,  1.27it/s]\u001b[A\n",
            "Refining scale 2 using scale 1 ...current loss: nan:  73% 11/15 [00:09<00:03,  1.27it/s]\u001b[A\n",
            "Refining scale 2 using scale 1 ...current loss: nan:  80% 12/15 [00:09<00:02,  1.27it/s]\u001b[A\n",
            "Refining scale 2 using scale 1 ...current loss: nan:  80% 12/15 [00:09<00:02,  1.27it/s]\u001b[A\n",
            "Refining scale 2 using scale 1 ...current loss: nan:  87% 13/15 [00:10<00:01,  1.27it/s]\u001b[A\n",
            "Refining scale 2 using scale 1 ...current loss: nan:  87% 13/15 [00:10<00:01,  1.27it/s]\u001b[A\n",
            "Refining scale 2 using scale 1 ...current loss: nan:  93% 14/15 [00:10<00:00,  1.27it/s]\u001b[A\n",
            "Refining scale 2 using scale 1 ...current loss: nan:  93% 14/15 [00:11<00:00,  1.27it/s]\u001b[A\n",
            "Refining scale 2 using scale 1 ...current loss: nan: 100% 15/15 [00:11<00:00,  1.42it/s]\u001b[A\n",
            " 85% 632/746 [2:03:26<22:08, 11.65s/it]\n",
            "  0% 0/15 [00:00<?, ?it/s]\u001b[A\n",
            "                          \u001b[A\n",
            "  0% 0/15 [00:00<?, ?it/s]\u001b[A\n",
            "Refining scale 2 using scale 1 ...current loss: nan:   0% 0/15 [00:00<?, ?it/s]\u001b[A\n",
            "Refining scale 2 using scale 1 ...current loss: nan:   7% 1/15 [00:00<00:08,  1.58it/s]\u001b[A\n",
            "Refining scale 2 using scale 1 ...current loss: nan:   7% 1/15 [00:01<00:08,  1.58it/s]\u001b[A\n",
            "Refining scale 2 using scale 1 ...current loss: nan:  13% 2/15 [00:01<00:09,  1.38it/s]\u001b[A\n",
            "Refining scale 2 using scale 1 ...current loss: nan:  13% 2/15 [00:01<00:09,  1.38it/s]\u001b[A\n",
            "Refining scale 2 using scale 1 ...current loss: nan:  20% 3/15 [00:02<00:09,  1.33it/s]\u001b[A\n",
            "Refining scale 2 using scale 1 ...current loss: nan:  20% 3/15 [00:02<00:09,  1.33it/s]\u001b[A\n",
            "Refining scale 2 using scale 1 ...current loss: nan:  27% 4/15 [00:02<00:08,  1.31it/s]\u001b[A\n",
            "Refining scale 2 using scale 1 ...current loss: nan:  27% 4/15 [00:03<00:08,  1.31it/s]\u001b[A\n",
            "Refining scale 2 using scale 1 ...current loss: nan:  33% 5/15 [00:03<00:07,  1.30it/s]\u001b[A\n",
            "Refining scale 2 using scale 1 ...current loss: nan:  33% 5/15 [00:04<00:07,  1.30it/s]\u001b[A\n",
            "Refining scale 2 using scale 1 ...current loss: nan:  40% 6/15 [00:04<00:06,  1.29it/s]\u001b[A\n",
            "Refining scale 2 using scale 1 ...current loss: nan:  40% 6/15 [00:05<00:06,  1.29it/s]\u001b[A\n",
            "Refining scale 2 using scale 1 ...current loss: nan:  47% 7/15 [00:05<00:06,  1.29it/s]\u001b[A\n",
            "Refining scale 2 using scale 1 ...current loss: nan:  47% 7/15 [00:05<00:06,  1.29it/s]\u001b[A\n",
            "Refining scale 2 using scale 1 ...current loss: nan:  53% 8/15 [00:06<00:05,  1.28it/s]\u001b[A\n",
            "Refining scale 2 using scale 1 ...current loss: nan:  53% 8/15 [00:06<00:05,  1.28it/s]\u001b[A\n",
            "Refining scale 2 using scale 1 ...current loss: nan:  60% 9/15 [00:06<00:04,  1.28it/s]\u001b[A\n",
            "Refining scale 2 using scale 1 ...current loss: nan:  60% 9/15 [00:07<00:04,  1.28it/s]\u001b[A\n",
            "Refining scale 2 using scale 1 ...current loss: nan:  67% 10/15 [00:07<00:03,  1.28it/s]\u001b[A\n",
            "Refining scale 2 using scale 1 ...current loss: nan:  67% 10/15 [00:08<00:03,  1.28it/s]\u001b[A\n",
            "Refining scale 2 using scale 1 ...current loss: nan:  73% 11/15 [00:08<00:03,  1.28it/s]\u001b[A\n",
            "Refining scale 2 using scale 1 ...current loss: nan:  73% 11/15 [00:08<00:03,  1.28it/s]\u001b[A\n",
            "Refining scale 2 using scale 1 ...current loss: nan:  80% 12/15 [00:09<00:02,  1.28it/s]\u001b[A\n",
            "Refining scale 2 using scale 1 ...current loss: nan:  80% 12/15 [00:09<00:02,  1.28it/s]\u001b[A\n",
            "Refining scale 2 using scale 1 ...current loss: nan:  87% 13/15 [00:10<00:01,  1.28it/s]\u001b[A\n",
            "Refining scale 2 using scale 1 ...current loss: nan:  87% 13/15 [00:10<00:01,  1.28it/s]\u001b[A\n",
            "Refining scale 2 using scale 1 ...current loss: nan:  93% 14/15 [00:10<00:00,  1.27it/s]\u001b[A\n",
            "Refining scale 2 using scale 1 ...current loss: nan:  93% 14/15 [00:11<00:00,  1.27it/s]\u001b[A\n",
            "Refining scale 2 using scale 1 ...current loss: nan: 100% 15/15 [00:11<00:00,  1.42it/s]\u001b[A\n",
            " 85% 633/746 [2:03:37<21:56, 11.65s/it]\n",
            "  0% 0/15 [00:00<?, ?it/s]\u001b[A\n",
            "                          \u001b[A\n",
            "  0% 0/15 [00:00<?, ?it/s]\u001b[A\n",
            "Refining scale 2 using scale 1 ...current loss: 0.0267:   0% 0/15 [00:00<?, ?it/s]\u001b[A\n",
            "Refining scale 2 using scale 1 ...current loss: 0.0267:   7% 1/15 [00:00<00:08,  1.57it/s]\u001b[A\n",
            "Refining scale 2 using scale 1 ...current loss: 0.0221:   7% 1/15 [00:01<00:08,  1.57it/s]\u001b[A\n",
            "Refining scale 2 using scale 1 ...current loss: 0.0221:  13% 2/15 [00:01<00:09,  1.38it/s]\u001b[A\n",
            "Refining scale 2 using scale 1 ...current loss: 0.0204:  13% 2/15 [00:01<00:09,  1.38it/s]\u001b[A\n",
            "Refining scale 2 using scale 1 ...current loss: 0.0204:  20% 3/15 [00:02<00:09,  1.33it/s]\u001b[A\n",
            "Refining scale 2 using scale 1 ...current loss: 0.0181:  20% 3/15 [00:02<00:09,  1.33it/s]\u001b[A\n",
            "Refining scale 2 using scale 1 ...current loss: 0.0181:  27% 4/15 [00:03<00:08,  1.30it/s]\u001b[A\n",
            "Refining scale 2 using scale 1 ...current loss: 0.0170:  27% 4/15 [00:03<00:08,  1.30it/s]\u001b[A\n",
            "Refining scale 2 using scale 1 ...current loss: 0.0170:  33% 5/15 [00:03<00:07,  1.29it/s]\u001b[A\n",
            "Refining scale 2 using scale 1 ...current loss: 0.0159:  33% 5/15 [00:04<00:07,  1.29it/s]\u001b[A\n",
            "Refining scale 2 using scale 1 ...current loss: 0.0159:  40% 6/15 [00:04<00:06,  1.29it/s]\u001b[A\n",
            "Refining scale 2 using scale 1 ...current loss: 0.0150:  40% 6/15 [00:05<00:06,  1.29it/s]\u001b[A\n",
            "Refining scale 2 using scale 1 ...current loss: 0.0150:  47% 7/15 [00:05<00:06,  1.28it/s]\u001b[A\n",
            "Refining scale 2 using scale 1 ...current loss: 0.0144:  47% 7/15 [00:05<00:06,  1.28it/s]\u001b[A\n",
            "Refining scale 2 using scale 1 ...current loss: 0.0144:  53% 8/15 [00:06<00:05,  1.28it/s]\u001b[A\n",
            "Refining scale 2 using scale 1 ...current loss: 0.0140:  53% 8/15 [00:06<00:05,  1.28it/s]\u001b[A\n",
            "Refining scale 2 using scale 1 ...current loss: 0.0140:  60% 9/15 [00:06<00:04,  1.28it/s]\u001b[A\n",
            "Refining scale 2 using scale 1 ...current loss: 0.0135:  60% 9/15 [00:07<00:04,  1.28it/s]\u001b[A\n",
            "Refining scale 2 using scale 1 ...current loss: 0.0135:  67% 10/15 [00:07<00:03,  1.28it/s]\u001b[A\n",
            "Refining scale 2 using scale 1 ...current loss: 0.0130:  67% 10/15 [00:08<00:03,  1.28it/s]\u001b[A\n",
            "Refining scale 2 using scale 1 ...current loss: 0.0130:  73% 11/15 [00:08<00:03,  1.28it/s]\u001b[A\n",
            "Refining scale 2 using scale 1 ...current loss: 0.0125:  73% 11/15 [00:09<00:03,  1.28it/s]\u001b[A\n",
            "Refining scale 2 using scale 1 ...current loss: 0.0125:  80% 12/15 [00:09<00:02,  1.28it/s]\u001b[A\n",
            "Refining scale 2 using scale 1 ...current loss: 0.0122:  80% 12/15 [00:09<00:02,  1.28it/s]\u001b[A\n",
            "Refining scale 2 using scale 1 ...current loss: 0.0122:  87% 13/15 [00:10<00:01,  1.28it/s]\u001b[A\n",
            "Refining scale 2 using scale 1 ...current loss: 0.0119:  87% 13/15 [00:10<00:01,  1.28it/s]\u001b[A\n",
            "Refining scale 2 using scale 1 ...current loss: 0.0119:  93% 14/15 [00:10<00:00,  1.28it/s]\u001b[A\n",
            "Refining scale 2 using scale 1 ...current loss: 0.0115:  93% 14/15 [00:11<00:00,  1.28it/s]\u001b[A\n",
            "Refining scale 2 using scale 1 ...current loss: 0.0115: 100% 15/15 [00:11<00:00,  1.42it/s]\u001b[A\n",
            " 85% 634/746 [2:03:49<21:46, 11.67s/it]\n",
            "  0% 0/15 [00:00<?, ?it/s]\u001b[A\n",
            "                          \u001b[A\n",
            "  0% 0/15 [00:00<?, ?it/s]\u001b[A\n",
            "Refining scale 2 using scale 1 ...current loss: 0.0212:   0% 0/15 [00:00<?, ?it/s]\u001b[A\n",
            "Refining scale 2 using scale 1 ...current loss: 0.0212:   7% 1/15 [00:00<00:08,  1.57it/s]\u001b[A\n",
            "Refining scale 2 using scale 1 ...current loss: 0.0181:   7% 1/15 [00:01<00:08,  1.57it/s]\u001b[A\n",
            "Refining scale 2 using scale 1 ...current loss: 0.0181:  13% 2/15 [00:01<00:09,  1.38it/s]\u001b[A\n",
            "Refining scale 2 using scale 1 ...current loss: 0.0164:  13% 2/15 [00:01<00:09,  1.38it/s]\u001b[A\n",
            "Refining scale 2 using scale 1 ...current loss: 0.0164:  20% 3/15 [00:02<00:09,  1.33it/s]\u001b[A\n",
            "Refining scale 2 using scale 1 ...current loss: 0.0148:  20% 3/15 [00:02<00:09,  1.33it/s]\u001b[A\n",
            "Refining scale 2 using scale 1 ...current loss: 0.0148:  27% 4/15 [00:02<00:08,  1.30it/s]\u001b[A\n",
            "Refining scale 2 using scale 1 ...current loss: 0.0134:  27% 4/15 [00:03<00:08,  1.30it/s]\u001b[A\n",
            "Refining scale 2 using scale 1 ...current loss: 0.0134:  33% 5/15 [00:03<00:07,  1.29it/s]\u001b[A\n",
            "Refining scale 2 using scale 1 ...current loss: 0.0125:  33% 5/15 [00:04<00:07,  1.29it/s]\u001b[A\n",
            "Refining scale 2 using scale 1 ...current loss: 0.0125:  40% 6/15 [00:04<00:07,  1.28it/s]\u001b[A\n",
            "Refining scale 2 using scale 1 ...current loss: 0.0120:  40% 6/15 [00:05<00:07,  1.28it/s]\u001b[A\n",
            "Refining scale 2 using scale 1 ...current loss: 0.0120:  47% 7/15 [00:05<00:06,  1.28it/s]\u001b[A\n",
            "Refining scale 2 using scale 1 ...current loss: 0.0115:  47% 7/15 [00:05<00:06,  1.28it/s]\u001b[A\n",
            "Refining scale 2 using scale 1 ...current loss: 0.0115:  53% 8/15 [00:06<00:05,  1.28it/s]\u001b[A\n",
            "Refining scale 2 using scale 1 ...current loss: 0.0110:  53% 8/15 [00:06<00:05,  1.28it/s]\u001b[A\n",
            "Refining scale 2 using scale 1 ...current loss: 0.0110:  60% 9/15 [00:06<00:04,  1.28it/s]\u001b[A\n",
            "Refining scale 2 using scale 1 ...current loss: 0.0106:  60% 9/15 [00:07<00:04,  1.28it/s]\u001b[A\n",
            "Refining scale 2 using scale 1 ...current loss: 0.0106:  67% 10/15 [00:07<00:03,  1.28it/s]\u001b[A\n",
            "Refining scale 2 using scale 1 ...current loss: 0.0103:  67% 10/15 [00:08<00:03,  1.28it/s]\u001b[A\n",
            "Refining scale 2 using scale 1 ...current loss: 0.0103:  73% 11/15 [00:08<00:03,  1.28it/s]\u001b[A\n",
            "Refining scale 2 using scale 1 ...current loss: 0.0100:  73% 11/15 [00:09<00:03,  1.28it/s]\u001b[A\n",
            "Refining scale 2 using scale 1 ...current loss: 0.0100:  80% 12/15 [00:09<00:02,  1.28it/s]\u001b[A\n",
            "Refining scale 2 using scale 1 ...current loss: 0.0097:  80% 12/15 [00:09<00:02,  1.28it/s]\u001b[A\n",
            "Refining scale 2 using scale 1 ...current loss: 0.0097:  87% 13/15 [00:10<00:01,  1.27it/s]\u001b[A\n",
            "Refining scale 2 using scale 1 ...current loss: 0.0094:  87% 13/15 [00:10<00:01,  1.27it/s]\u001b[A\n",
            "Refining scale 2 using scale 1 ...current loss: 0.0094:  93% 14/15 [00:10<00:00,  1.28it/s]\u001b[A\n",
            "Refining scale 2 using scale 1 ...current loss: 0.0091:  93% 14/15 [00:11<00:00,  1.28it/s]\u001b[A\n",
            "Refining scale 2 using scale 1 ...current loss: 0.0091: 100% 15/15 [00:11<00:00,  1.42it/s]\u001b[A\n",
            " 85% 635/746 [2:04:01<21:34, 11.66s/it]\n",
            "  0% 0/15 [00:00<?, ?it/s]\u001b[A\n",
            "                          \u001b[A\n",
            "  0% 0/15 [00:00<?, ?it/s]\u001b[A\n",
            "Refining scale 2 using scale 1 ...current loss: 0.0476:   0% 0/15 [00:00<?, ?it/s]\u001b[A\n",
            "Refining scale 2 using scale 1 ...current loss: 0.0476:   7% 1/15 [00:00<00:08,  1.57it/s]\u001b[A\n",
            "Refining scale 2 using scale 1 ...current loss: 0.0401:   7% 1/15 [00:01<00:08,  1.57it/s]\u001b[A\n",
            "Refining scale 2 using scale 1 ...current loss: 0.0401:  13% 2/15 [00:01<00:09,  1.38it/s]\u001b[A\n",
            "Refining scale 2 using scale 1 ...current loss: 0.0321:  13% 2/15 [00:01<00:09,  1.38it/s]\u001b[A\n",
            "Refining scale 2 using scale 1 ...current loss: 0.0321:  20% 3/15 [00:02<00:09,  1.33it/s]\u001b[A\n",
            "Refining scale 2 using scale 1 ...current loss: 0.0294:  20% 3/15 [00:02<00:09,  1.33it/s]\u001b[A\n",
            "Refining scale 2 using scale 1 ...current loss: 0.0294:  27% 4/15 [00:02<00:08,  1.31it/s]\u001b[A\n",
            "Refining scale 2 using scale 1 ...current loss: 0.0277:  27% 4/15 [00:03<00:08,  1.31it/s]\u001b[A\n",
            "Refining scale 2 using scale 1 ...current loss: 0.0277:  33% 5/15 [00:03<00:07,  1.29it/s]\u001b[A\n",
            "Refining scale 2 using scale 1 ...current loss: 0.0254:  33% 5/15 [00:04<00:07,  1.29it/s]\u001b[A\n",
            "Refining scale 2 using scale 1 ...current loss: 0.0254:  40% 6/15 [00:04<00:06,  1.29it/s]\u001b[A\n",
            "Refining scale 2 using scale 1 ...current loss: 0.0246:  40% 6/15 [00:05<00:06,  1.29it/s]\u001b[A\n",
            "Refining scale 2 using scale 1 ...current loss: 0.0246:  47% 7/15 [00:05<00:06,  1.28it/s]\u001b[A\n",
            "Refining scale 2 using scale 1 ...current loss: 0.0232:  47% 7/15 [00:05<00:06,  1.28it/s]\u001b[A\n",
            "Refining scale 2 using scale 1 ...current loss: 0.0232:  53% 8/15 [00:06<00:05,  1.28it/s]\u001b[A\n",
            "Refining scale 2 using scale 1 ...current loss: 0.0220:  53% 8/15 [00:06<00:05,  1.28it/s]\u001b[A\n",
            "Refining scale 2 using scale 1 ...current loss: 0.0220:  60% 9/15 [00:06<00:04,  1.27it/s]\u001b[A\n",
            "Refining scale 2 using scale 1 ...current loss: 0.0213:  60% 9/15 [00:07<00:04,  1.27it/s]\u001b[A\n",
            "Refining scale 2 using scale 1 ...current loss: 0.0213:  67% 10/15 [00:07<00:03,  1.27it/s]\u001b[A\n",
            "Refining scale 2 using scale 1 ...current loss: 0.0204:  67% 10/15 [00:08<00:03,  1.27it/s]\u001b[A\n",
            "Refining scale 2 using scale 1 ...current loss: 0.0204:  73% 11/15 [00:08<00:03,  1.27it/s]\u001b[A\n",
            "Refining scale 2 using scale 1 ...current loss: 0.0198:  73% 11/15 [00:09<00:03,  1.27it/s]\u001b[A\n",
            "Refining scale 2 using scale 1 ...current loss: 0.0198:  80% 12/15 [00:09<00:02,  1.27it/s]\u001b[A\n",
            "Refining scale 2 using scale 1 ...current loss: 0.0193:  80% 12/15 [00:09<00:02,  1.27it/s]\u001b[A\n",
            "Refining scale 2 using scale 1 ...current loss: 0.0193:  87% 13/15 [00:10<00:01,  1.27it/s]\u001b[A\n",
            "Refining scale 2 using scale 1 ...current loss: 0.0187:  87% 13/15 [00:10<00:01,  1.27it/s]\u001b[A\n",
            "Refining scale 2 using scale 1 ...current loss: 0.0187:  93% 14/15 [00:10<00:00,  1.27it/s]\u001b[A\n",
            "Refining scale 2 using scale 1 ...current loss: 0.0182:  93% 14/15 [00:11<00:00,  1.27it/s]\u001b[A\n",
            "Refining scale 2 using scale 1 ...current loss: 0.0182: 100% 15/15 [00:11<00:00,  1.42it/s]\u001b[A\n",
            " 85% 636/746 [2:04:12<21:23, 11.67s/it]\n",
            "  0% 0/15 [00:00<?, ?it/s]\u001b[A\n",
            "                          \u001b[A\n",
            "  0% 0/15 [00:00<?, ?it/s]\u001b[A\n",
            "Refining scale 2 using scale 1 ...current loss: nan:   0% 0/15 [00:00<?, ?it/s]\u001b[A\n",
            "Refining scale 2 using scale 1 ...current loss: nan:   7% 1/15 [00:00<00:08,  1.59it/s]\u001b[A\n",
            "Refining scale 2 using scale 1 ...current loss: nan:   7% 1/15 [00:01<00:08,  1.59it/s]\u001b[A\n",
            "Refining scale 2 using scale 1 ...current loss: nan:  13% 2/15 [00:01<00:09,  1.38it/s]\u001b[A\n",
            "Refining scale 2 using scale 1 ...current loss: nan:  13% 2/15 [00:01<00:09,  1.38it/s]\u001b[A\n",
            "Refining scale 2 using scale 1 ...current loss: nan:  20% 3/15 [00:02<00:08,  1.33it/s]\u001b[A\n",
            "Refining scale 2 using scale 1 ...current loss: nan:  20% 3/15 [00:02<00:08,  1.33it/s]\u001b[A\n",
            "Refining scale 2 using scale 1 ...current loss: nan:  27% 4/15 [00:02<00:08,  1.31it/s]\u001b[A\n",
            "Refining scale 2 using scale 1 ...current loss: nan:  27% 4/15 [00:03<00:08,  1.31it/s]\u001b[A\n",
            "Refining scale 2 using scale 1 ...current loss: nan:  33% 5/15 [00:03<00:07,  1.30it/s]\u001b[A\n",
            "Refining scale 2 using scale 1 ...current loss: nan:  33% 5/15 [00:04<00:07,  1.30it/s]\u001b[A\n",
            "Refining scale 2 using scale 1 ...current loss: nan:  40% 6/15 [00:04<00:06,  1.29it/s]\u001b[A\n",
            "Refining scale 2 using scale 1 ...current loss: nan:  40% 6/15 [00:05<00:06,  1.29it/s]\u001b[A\n",
            "Refining scale 2 using scale 1 ...current loss: nan:  47% 7/15 [00:05<00:06,  1.29it/s]\u001b[A\n",
            "Refining scale 2 using scale 1 ...current loss: nan:  47% 7/15 [00:05<00:06,  1.29it/s]\u001b[A\n",
            "Refining scale 2 using scale 1 ...current loss: nan:  53% 8/15 [00:06<00:05,  1.28it/s]\u001b[A\n",
            "Refining scale 2 using scale 1 ...current loss: nan:  53% 8/15 [00:06<00:05,  1.28it/s]\u001b[A\n",
            "Refining scale 2 using scale 1 ...current loss: nan:  60% 9/15 [00:06<00:04,  1.28it/s]\u001b[A\n",
            "Refining scale 2 using scale 1 ...current loss: nan:  60% 9/15 [00:07<00:04,  1.28it/s]\u001b[A\n",
            "Refining scale 2 using scale 1 ...current loss: nan:  67% 10/15 [00:07<00:03,  1.28it/s]\u001b[A\n",
            "Refining scale 2 using scale 1 ...current loss: nan:  67% 10/15 [00:08<00:03,  1.28it/s]\u001b[A\n",
            "Refining scale 2 using scale 1 ...current loss: nan:  73% 11/15 [00:08<00:03,  1.28it/s]\u001b[A\n",
            "Refining scale 2 using scale 1 ...current loss: nan:  73% 11/15 [00:08<00:03,  1.28it/s]\u001b[A\n",
            "Refining scale 2 using scale 1 ...current loss: nan:  80% 12/15 [00:09<00:02,  1.28it/s]\u001b[A\n",
            "Refining scale 2 using scale 1 ...current loss: nan:  80% 12/15 [00:09<00:02,  1.28it/s]\u001b[A\n",
            "Refining scale 2 using scale 1 ...current loss: nan:  87% 13/15 [00:10<00:01,  1.27it/s]\u001b[A\n",
            "Refining scale 2 using scale 1 ...current loss: nan:  87% 13/15 [00:10<00:01,  1.27it/s]\u001b[A\n",
            "Refining scale 2 using scale 1 ...current loss: nan:  93% 14/15 [00:10<00:00,  1.27it/s]\u001b[A\n",
            "Refining scale 2 using scale 1 ...current loss: nan:  93% 14/15 [00:11<00:00,  1.27it/s]\u001b[A\n",
            "Refining scale 2 using scale 1 ...current loss: nan: 100% 15/15 [00:11<00:00,  1.41it/s]\u001b[A\n",
            " 85% 637/746 [2:04:24<21:10, 11.66s/it]\n",
            "  0% 0/15 [00:00<?, ?it/s]\u001b[A\n",
            "                          \u001b[A\n",
            "  0% 0/15 [00:00<?, ?it/s]\u001b[A\n",
            "Refining scale 2 using scale 1 ...current loss: 0.0339:   0% 0/15 [00:00<?, ?it/s]\u001b[A\n",
            "Refining scale 2 using scale 1 ...current loss: 0.0339:   7% 1/15 [00:00<00:08,  1.58it/s]\u001b[A\n",
            "Refining scale 2 using scale 1 ...current loss: 0.0234:   7% 1/15 [00:01<00:08,  1.58it/s]\u001b[A\n",
            "Refining scale 2 using scale 1 ...current loss: 0.0234:  13% 2/15 [00:01<00:09,  1.38it/s]\u001b[A\n",
            "Refining scale 2 using scale 1 ...current loss: 0.0138:  13% 2/15 [00:01<00:09,  1.38it/s]\u001b[A\n",
            "Refining scale 2 using scale 1 ...current loss: 0.0138:  20% 3/15 [00:02<00:09,  1.32it/s]\u001b[A\n",
            "Refining scale 2 using scale 1 ...current loss: 0.0143:  20% 3/15 [00:02<00:09,  1.32it/s]\u001b[A\n",
            "Refining scale 2 using scale 1 ...current loss: 0.0143:  27% 4/15 [00:03<00:08,  1.30it/s]\u001b[A\n",
            "Refining scale 2 using scale 1 ...current loss: 0.0144:  27% 4/15 [00:03<00:08,  1.30it/s]\u001b[A\n",
            "Refining scale 2 using scale 1 ...current loss: 0.0144:  33% 5/15 [00:03<00:07,  1.29it/s]\u001b[A\n",
            "Refining scale 2 using scale 1 ...current loss: 0.0125:  33% 5/15 [00:04<00:07,  1.29it/s]\u001b[A\n",
            "Refining scale 2 using scale 1 ...current loss: 0.0125:  40% 6/15 [00:04<00:06,  1.29it/s]\u001b[A\n",
            "Refining scale 2 using scale 1 ...current loss: 0.0100:  40% 6/15 [00:05<00:06,  1.29it/s]\u001b[A\n",
            "Refining scale 2 using scale 1 ...current loss: 0.0100:  47% 7/15 [00:05<00:06,  1.28it/s]\u001b[A\n",
            "Refining scale 2 using scale 1 ...current loss: 0.0097:  47% 7/15 [00:05<00:06,  1.28it/s]\u001b[A\n",
            "Refining scale 2 using scale 1 ...current loss: 0.0097:  53% 8/15 [00:06<00:05,  1.28it/s]\u001b[A\n",
            "Refining scale 2 using scale 1 ...current loss: 0.0099:  53% 8/15 [00:06<00:05,  1.28it/s]\u001b[A\n",
            "Refining scale 2 using scale 1 ...current loss: 0.0099:  60% 9/15 [00:06<00:04,  1.28it/s]\u001b[A\n",
            "Refining scale 2 using scale 1 ...current loss: 0.0083:  60% 9/15 [00:07<00:04,  1.28it/s]\u001b[A\n",
            "Refining scale 2 using scale 1 ...current loss: 0.0083:  67% 10/15 [00:07<00:03,  1.28it/s]\u001b[A\n",
            "Refining scale 2 using scale 1 ...current loss: 0.0062:  67% 10/15 [00:08<00:03,  1.28it/s]\u001b[A\n",
            "Refining scale 2 using scale 1 ...current loss: 0.0062:  73% 11/15 [00:08<00:03,  1.28it/s]\u001b[A\n",
            "Refining scale 2 using scale 1 ...current loss: 0.0072:  73% 11/15 [00:09<00:03,  1.28it/s]\u001b[A\n",
            "Refining scale 2 using scale 1 ...current loss: 0.0072:  80% 12/15 [00:09<00:02,  1.28it/s]\u001b[A\n",
            "Refining scale 2 using scale 1 ...current loss: 0.0072:  80% 12/15 [00:09<00:02,  1.28it/s]\u001b[A\n",
            "Refining scale 2 using scale 1 ...current loss: 0.0072:  87% 13/15 [00:10<00:01,  1.28it/s]\u001b[A\n",
            "Refining scale 2 using scale 1 ...current loss: 0.0074:  87% 13/15 [00:10<00:01,  1.28it/s]\u001b[A\n",
            "Refining scale 2 using scale 1 ...current loss: 0.0074:  93% 14/15 [00:10<00:00,  1.28it/s]\u001b[A\n",
            "Refining scale 2 using scale 1 ...current loss: 0.0069:  93% 14/15 [00:11<00:00,  1.28it/s]\u001b[A\n",
            "Refining scale 2 using scale 1 ...current loss: 0.0069: 100% 15/15 [00:11<00:00,  1.42it/s]\u001b[A\n",
            " 86% 638/746 [2:04:36<21:00, 11.68s/it]\n",
            "  0% 0/15 [00:00<?, ?it/s]\u001b[A\n",
            "                          \u001b[A\n",
            "  0% 0/15 [00:00<?, ?it/s]\u001b[A\n",
            "Refining scale 2 using scale 1 ...current loss: 0.0244:   0% 0/15 [00:00<?, ?it/s]\u001b[A\n",
            "Refining scale 2 using scale 1 ...current loss: 0.0244:   7% 1/15 [00:00<00:08,  1.58it/s]\u001b[A\n",
            "Refining scale 2 using scale 1 ...current loss: 0.0190:   7% 1/15 [00:01<00:08,  1.58it/s]\u001b[A\n",
            "Refining scale 2 using scale 1 ...current loss: 0.0190:  13% 2/15 [00:01<00:09,  1.38it/s]\u001b[A\n",
            "Refining scale 2 using scale 1 ...current loss: 0.0162:  13% 2/15 [00:01<00:09,  1.38it/s]\u001b[A\n",
            "Refining scale 2 using scale 1 ...current loss: 0.0162:  20% 3/15 [00:02<00:09,  1.33it/s]\u001b[A\n",
            "Refining scale 2 using scale 1 ...current loss: 0.0160:  20% 3/15 [00:02<00:09,  1.33it/s]\u001b[A\n",
            "Refining scale 2 using scale 1 ...current loss: 0.0160:  27% 4/15 [00:02<00:08,  1.31it/s]\u001b[A\n",
            "Refining scale 2 using scale 1 ...current loss: 0.0163:  27% 4/15 [00:03<00:08,  1.31it/s]\u001b[A\n",
            "Refining scale 2 using scale 1 ...current loss: 0.0163:  33% 5/15 [00:03<00:07,  1.29it/s]\u001b[A\n",
            "Refining scale 2 using scale 1 ...current loss: 0.0150:  33% 5/15 [00:04<00:07,  1.29it/s]\u001b[A\n",
            "Refining scale 2 using scale 1 ...current loss: 0.0150:  40% 6/15 [00:04<00:06,  1.29it/s]\u001b[A\n",
            "Refining scale 2 using scale 1 ...current loss: 0.0146:  40% 6/15 [00:05<00:06,  1.29it/s]\u001b[A\n",
            "Refining scale 2 using scale 1 ...current loss: 0.0146:  47% 7/15 [00:05<00:06,  1.28it/s]\u001b[A\n",
            "Refining scale 2 using scale 1 ...current loss: 0.0142:  47% 7/15 [00:05<00:06,  1.28it/s]\u001b[A\n",
            "Refining scale 2 using scale 1 ...current loss: 0.0142:  53% 8/15 [00:06<00:05,  1.28it/s]\u001b[A\n",
            "Refining scale 2 using scale 1 ...current loss: 0.0142:  53% 8/15 [00:06<00:05,  1.28it/s]\u001b[A\n",
            "Refining scale 2 using scale 1 ...current loss: 0.0142:  60% 9/15 [00:06<00:04,  1.28it/s]\u001b[A\n",
            "Refining scale 2 using scale 1 ...current loss: 0.0135:  60% 9/15 [00:07<00:04,  1.28it/s]\u001b[A\n",
            "Refining scale 2 using scale 1 ...current loss: 0.0135:  67% 10/15 [00:07<00:03,  1.27it/s]\u001b[A\n",
            "Refining scale 2 using scale 1 ...current loss: 0.0131:  67% 10/15 [00:08<00:03,  1.27it/s]\u001b[A\n",
            "Refining scale 2 using scale 1 ...current loss: 0.0131:  73% 11/15 [00:08<00:03,  1.28it/s]\u001b[A\n",
            "Refining scale 2 using scale 1 ...current loss: 0.0128:  73% 11/15 [00:09<00:03,  1.28it/s]\u001b[A\n",
            "Refining scale 2 using scale 1 ...current loss: 0.0128:  80% 12/15 [00:09<00:02,  1.27it/s]\u001b[A\n",
            "Refining scale 2 using scale 1 ...current loss: 0.0124:  80% 12/15 [00:09<00:02,  1.27it/s]\u001b[A\n",
            "Refining scale 2 using scale 1 ...current loss: 0.0124:  87% 13/15 [00:10<00:01,  1.27it/s]\u001b[A\n",
            "Refining scale 2 using scale 1 ...current loss: 0.0120:  87% 13/15 [00:10<00:01,  1.27it/s]\u001b[A\n",
            "Refining scale 2 using scale 1 ...current loss: 0.0120:  93% 14/15 [00:10<00:00,  1.28it/s]\u001b[A\n",
            "Refining scale 2 using scale 1 ...current loss: 0.0118:  93% 14/15 [00:11<00:00,  1.28it/s]\u001b[A\n",
            "Refining scale 2 using scale 1 ...current loss: 0.0118: 100% 15/15 [00:11<00:00,  1.42it/s]\u001b[A\n",
            " 86% 639/746 [2:04:47<20:48, 11.67s/it]\n",
            "  0% 0/15 [00:00<?, ?it/s]\u001b[A\n",
            "                          \u001b[A\n",
            "  0% 0/15 [00:00<?, ?it/s]\u001b[A\n",
            "Refining scale 2 using scale 1 ...current loss: 0.0938:   0% 0/15 [00:00<?, ?it/s]\u001b[A\n",
            "Refining scale 2 using scale 1 ...current loss: 0.0938:   7% 1/15 [00:00<00:08,  1.58it/s]\u001b[A\n",
            "Refining scale 2 using scale 1 ...current loss: 0.0578:   7% 1/15 [00:01<00:08,  1.58it/s]\u001b[A\n",
            "Refining scale 2 using scale 1 ...current loss: 0.0578:  13% 2/15 [00:01<00:09,  1.38it/s]\u001b[A\n",
            "Refining scale 2 using scale 1 ...current loss: 0.0588:  13% 2/15 [00:01<00:09,  1.38it/s]\u001b[A\n",
            "Refining scale 2 using scale 1 ...current loss: 0.0588:  20% 3/15 [00:02<00:09,  1.33it/s]\u001b[A\n",
            "Refining scale 2 using scale 1 ...current loss: 0.0504:  20% 3/15 [00:02<00:09,  1.33it/s]\u001b[A\n",
            "Refining scale 2 using scale 1 ...current loss: 0.0504:  27% 4/15 [00:02<00:08,  1.31it/s]\u001b[A\n",
            "Refining scale 2 using scale 1 ...current loss: 0.0443:  27% 4/15 [00:03<00:08,  1.31it/s]\u001b[A\n",
            "Refining scale 2 using scale 1 ...current loss: 0.0443:  33% 5/15 [00:03<00:07,  1.30it/s]\u001b[A\n",
            "Refining scale 2 using scale 1 ...current loss: 0.0419:  33% 5/15 [00:04<00:07,  1.30it/s]\u001b[A\n",
            "Refining scale 2 using scale 1 ...current loss: 0.0419:  40% 6/15 [00:04<00:06,  1.29it/s]\u001b[A\n",
            "Refining scale 2 using scale 1 ...current loss: 0.0394:  40% 6/15 [00:05<00:06,  1.29it/s]\u001b[A\n",
            "Refining scale 2 using scale 1 ...current loss: 0.0394:  47% 7/15 [00:05<00:06,  1.28it/s]\u001b[A\n",
            "Refining scale 2 using scale 1 ...current loss: 0.0367:  47% 7/15 [00:05<00:06,  1.28it/s]\u001b[A\n",
            "Refining scale 2 using scale 1 ...current loss: 0.0367:  53% 8/15 [00:06<00:05,  1.28it/s]\u001b[A\n",
            "Refining scale 2 using scale 1 ...current loss: 0.0348:  53% 8/15 [00:06<00:05,  1.28it/s]\u001b[A\n",
            "Refining scale 2 using scale 1 ...current loss: 0.0348:  60% 9/15 [00:06<00:04,  1.28it/s]\u001b[A\n",
            "Refining scale 2 using scale 1 ...current loss: 0.0335:  60% 9/15 [00:07<00:04,  1.28it/s]\u001b[A\n",
            "Refining scale 2 using scale 1 ...current loss: 0.0335:  67% 10/15 [00:07<00:03,  1.28it/s]\u001b[A\n",
            "Refining scale 2 using scale 1 ...current loss: 0.0322:  67% 10/15 [00:08<00:03,  1.28it/s]\u001b[A\n",
            "Refining scale 2 using scale 1 ...current loss: 0.0322:  73% 11/15 [00:08<00:03,  1.28it/s]\u001b[A\n",
            "Refining scale 2 using scale 1 ...current loss: 0.0310:  73% 11/15 [00:09<00:03,  1.28it/s]\u001b[A\n",
            "Refining scale 2 using scale 1 ...current loss: 0.0310:  80% 12/15 [00:09<00:02,  1.27it/s]\u001b[A\n",
            "Refining scale 2 using scale 1 ...current loss: 0.0297:  80% 12/15 [00:09<00:02,  1.27it/s]\u001b[A\n",
            "Refining scale 2 using scale 1 ...current loss: 0.0297:  87% 13/15 [00:10<00:01,  1.27it/s]\u001b[A\n",
            "Refining scale 2 using scale 1 ...current loss: 0.0287:  87% 13/15 [00:10<00:01,  1.27it/s]\u001b[A\n",
            "Refining scale 2 using scale 1 ...current loss: 0.0287:  93% 14/15 [00:10<00:00,  1.27it/s]\u001b[A\n",
            "Refining scale 2 using scale 1 ...current loss: 0.0276:  93% 14/15 [00:11<00:00,  1.27it/s]\u001b[A\n",
            "Refining scale 2 using scale 1 ...current loss: 0.0276: 100% 15/15 [00:11<00:00,  1.41it/s]\u001b[A\n",
            " 86% 640/746 [2:04:59<20:36, 11.66s/it]\n",
            "  0% 0/15 [00:00<?, ?it/s]\u001b[A\n",
            "                          \u001b[A\n",
            "  0% 0/15 [00:00<?, ?it/s]\u001b[A\n",
            "Refining scale 2 using scale 1 ...current loss: nan:   0% 0/15 [00:00<?, ?it/s]\u001b[A\n",
            "Refining scale 2 using scale 1 ...current loss: nan:   7% 1/15 [00:00<00:08,  1.57it/s]\u001b[A\n",
            "Refining scale 2 using scale 1 ...current loss: nan:   7% 1/15 [00:01<00:08,  1.57it/s]\u001b[A\n",
            "Refining scale 2 using scale 1 ...current loss: nan:  13% 2/15 [00:01<00:09,  1.38it/s]\u001b[A\n",
            "Refining scale 2 using scale 1 ...current loss: nan:  13% 2/15 [00:01<00:09,  1.38it/s]\u001b[A\n",
            "Refining scale 2 using scale 1 ...current loss: nan:  20% 3/15 [00:02<00:09,  1.33it/s]\u001b[A\n",
            "Refining scale 2 using scale 1 ...current loss: nan:  20% 3/15 [00:02<00:09,  1.33it/s]\u001b[A\n",
            "Refining scale 2 using scale 1 ...current loss: nan:  27% 4/15 [00:02<00:08,  1.31it/s]\u001b[A\n",
            "Refining scale 2 using scale 1 ...current loss: nan:  27% 4/15 [00:03<00:08,  1.31it/s]\u001b[A\n",
            "Refining scale 2 using scale 1 ...current loss: nan:  33% 5/15 [00:03<00:07,  1.30it/s]\u001b[A\n",
            "Refining scale 2 using scale 1 ...current loss: nan:  33% 5/15 [00:04<00:07,  1.30it/s]\u001b[A\n",
            "Refining scale 2 using scale 1 ...current loss: nan:  40% 6/15 [00:04<00:06,  1.29it/s]\u001b[A\n",
            "Refining scale 2 using scale 1 ...current loss: nan:  40% 6/15 [00:05<00:06,  1.29it/s]\u001b[A\n",
            "Refining scale 2 using scale 1 ...current loss: nan:  47% 7/15 [00:05<00:06,  1.28it/s]\u001b[A\n",
            "Refining scale 2 using scale 1 ...current loss: nan:  47% 7/15 [00:05<00:06,  1.28it/s]\u001b[A\n",
            "Refining scale 2 using scale 1 ...current loss: nan:  53% 8/15 [00:06<00:05,  1.28it/s]\u001b[A\n",
            "Refining scale 2 using scale 1 ...current loss: nan:  53% 8/15 [00:06<00:05,  1.28it/s]\u001b[A\n",
            "Refining scale 2 using scale 1 ...current loss: nan:  60% 9/15 [00:06<00:04,  1.28it/s]\u001b[A\n",
            "Refining scale 2 using scale 1 ...current loss: nan:  60% 9/15 [00:07<00:04,  1.28it/s]\u001b[A\n",
            "Refining scale 2 using scale 1 ...current loss: nan:  67% 10/15 [00:07<00:03,  1.28it/s]\u001b[A\n",
            "Refining scale 2 using scale 1 ...current loss: nan:  67% 10/15 [00:08<00:03,  1.28it/s]\u001b[A\n",
            "Refining scale 2 using scale 1 ...current loss: nan:  73% 11/15 [00:08<00:03,  1.27it/s]\u001b[A\n",
            "Refining scale 2 using scale 1 ...current loss: nan:  73% 11/15 [00:09<00:03,  1.27it/s]\u001b[A\n",
            "Refining scale 2 using scale 1 ...current loss: nan:  80% 12/15 [00:09<00:02,  1.28it/s]\u001b[A\n",
            "Refining scale 2 using scale 1 ...current loss: nan:  80% 12/15 [00:09<00:02,  1.28it/s]\u001b[A\n",
            "Refining scale 2 using scale 1 ...current loss: nan:  87% 13/15 [00:10<00:01,  1.27it/s]\u001b[A\n",
            "Refining scale 2 using scale 1 ...current loss: nan:  87% 13/15 [00:10<00:01,  1.27it/s]\u001b[A\n",
            "Refining scale 2 using scale 1 ...current loss: nan:  93% 14/15 [00:10<00:00,  1.27it/s]\u001b[A\n",
            "Refining scale 2 using scale 1 ...current loss: nan:  93% 14/15 [00:11<00:00,  1.27it/s]\u001b[A\n",
            "Refining scale 2 using scale 1 ...current loss: nan: 100% 15/15 [00:11<00:00,  1.41it/s]\u001b[A\n",
            " 86% 641/746 [2:05:11<20:24, 11.66s/it]\n",
            "  0% 0/15 [00:00<?, ?it/s]\u001b[A\n",
            "                          \u001b[A\n",
            "  0% 0/15 [00:00<?, ?it/s]\u001b[A\n",
            "Refining scale 2 using scale 1 ...current loss: 0.0537:   0% 0/15 [00:00<?, ?it/s]\u001b[A\n",
            "Refining scale 2 using scale 1 ...current loss: 0.0537:   7% 1/15 [00:00<00:08,  1.56it/s]\u001b[A\n",
            "Refining scale 2 using scale 1 ...current loss: 0.0354:   7% 1/15 [00:01<00:08,  1.56it/s]\u001b[A\n",
            "Refining scale 2 using scale 1 ...current loss: 0.0354:  13% 2/15 [00:01<00:09,  1.37it/s]\u001b[A\n",
            "Refining scale 2 using scale 1 ...current loss: 0.0308:  13% 2/15 [00:01<00:09,  1.37it/s]\u001b[A\n",
            "Refining scale 2 using scale 1 ...current loss: 0.0308:  20% 3/15 [00:02<00:09,  1.32it/s]\u001b[A\n",
            "Refining scale 2 using scale 1 ...current loss: 0.0280:  20% 3/15 [00:02<00:09,  1.32it/s]\u001b[A\n",
            "Refining scale 2 using scale 1 ...current loss: 0.0280:  27% 4/15 [00:03<00:08,  1.30it/s]\u001b[A\n",
            "Refining scale 2 using scale 1 ...current loss: 0.0260:  27% 4/15 [00:03<00:08,  1.30it/s]\u001b[A\n",
            "Refining scale 2 using scale 1 ...current loss: 0.0260:  33% 5/15 [00:03<00:07,  1.29it/s]\u001b[A\n",
            "Refining scale 2 using scale 1 ...current loss: 0.0240:  33% 5/15 [00:04<00:07,  1.29it/s]\u001b[A\n",
            "Refining scale 2 using scale 1 ...current loss: 0.0240:  40% 6/15 [00:04<00:06,  1.29it/s]\u001b[A\n",
            "Refining scale 2 using scale 1 ...current loss: 0.0220:  40% 6/15 [00:05<00:06,  1.29it/s]\u001b[A\n",
            "Refining scale 2 using scale 1 ...current loss: 0.0220:  47% 7/15 [00:05<00:06,  1.28it/s]\u001b[A\n",
            "Refining scale 2 using scale 1 ...current loss: 0.0200:  47% 7/15 [00:05<00:06,  1.28it/s]\u001b[A\n",
            "Refining scale 2 using scale 1 ...current loss: 0.0200:  53% 8/15 [00:06<00:05,  1.28it/s]\u001b[A\n",
            "Refining scale 2 using scale 1 ...current loss: 0.0188:  53% 8/15 [00:06<00:05,  1.28it/s]\u001b[A\n",
            "Refining scale 2 using scale 1 ...current loss: 0.0188:  60% 9/15 [00:06<00:04,  1.28it/s]\u001b[A\n",
            "Refining scale 2 using scale 1 ...current loss: 0.0173:  60% 9/15 [00:07<00:04,  1.28it/s]\u001b[A\n",
            "Refining scale 2 using scale 1 ...current loss: 0.0173:  67% 10/15 [00:07<00:03,  1.28it/s]\u001b[A\n",
            "Refining scale 2 using scale 1 ...current loss: 0.0164:  67% 10/15 [00:08<00:03,  1.28it/s]\u001b[A\n",
            "Refining scale 2 using scale 1 ...current loss: 0.0164:  73% 11/15 [00:08<00:03,  1.28it/s]\u001b[A\n",
            "Refining scale 2 using scale 1 ...current loss: 0.0151:  73% 11/15 [00:09<00:03,  1.28it/s]\u001b[A\n",
            "Refining scale 2 using scale 1 ...current loss: 0.0151:  80% 12/15 [00:09<00:02,  1.28it/s]\u001b[A\n",
            "Refining scale 2 using scale 1 ...current loss: 0.0140:  80% 12/15 [00:09<00:02,  1.28it/s]\u001b[A\n",
            "Refining scale 2 using scale 1 ...current loss: 0.0140:  87% 13/15 [00:10<00:01,  1.28it/s]\u001b[A\n",
            "Refining scale 2 using scale 1 ...current loss: 0.0138:  87% 13/15 [00:10<00:01,  1.28it/s]\u001b[A\n",
            "Refining scale 2 using scale 1 ...current loss: 0.0138:  93% 14/15 [00:10<00:00,  1.28it/s]\u001b[A\n",
            "Refining scale 2 using scale 1 ...current loss: 0.0128:  93% 14/15 [00:11<00:00,  1.28it/s]\u001b[A\n",
            "Refining scale 2 using scale 1 ...current loss: 0.0128: 100% 15/15 [00:11<00:00,  1.42it/s]\u001b[A\n",
            " 86% 642/746 [2:05:22<20:13, 11.67s/it]\n",
            "  0% 0/15 [00:00<?, ?it/s]\u001b[A\n",
            "                          \u001b[A\n",
            "  0% 0/15 [00:00<?, ?it/s]\u001b[A\n",
            "Refining scale 2 using scale 1 ...current loss: 0.1282:   0% 0/15 [00:00<?, ?it/s]\u001b[A\n",
            "Refining scale 2 using scale 1 ...current loss: 0.1282:   7% 1/15 [00:00<00:08,  1.57it/s]\u001b[A\n",
            "Refining scale 2 using scale 1 ...current loss: 0.0980:   7% 1/15 [00:01<00:08,  1.57it/s]\u001b[A\n",
            "Refining scale 2 using scale 1 ...current loss: 0.0980:  13% 2/15 [00:01<00:09,  1.38it/s]\u001b[A\n",
            "Refining scale 2 using scale 1 ...current loss: 0.0658:  13% 2/15 [00:01<00:09,  1.38it/s]\u001b[A\n",
            "Refining scale 2 using scale 1 ...current loss: 0.0658:  20% 3/15 [00:02<00:09,  1.33it/s]\u001b[A\n",
            "Refining scale 2 using scale 1 ...current loss: 0.0609:  20% 3/15 [00:02<00:09,  1.33it/s]\u001b[A\n",
            "Refining scale 2 using scale 1 ...current loss: 0.0609:  27% 4/15 [00:03<00:08,  1.30it/s]\u001b[A\n",
            "Refining scale 2 using scale 1 ...current loss: 0.0535:  27% 4/15 [00:03<00:08,  1.30it/s]\u001b[A\n",
            "Refining scale 2 using scale 1 ...current loss: 0.0535:  33% 5/15 [00:03<00:07,  1.29it/s]\u001b[A\n",
            "Refining scale 2 using scale 1 ...current loss: 0.0454:  33% 5/15 [00:04<00:07,  1.29it/s]\u001b[A\n",
            "Refining scale 2 using scale 1 ...current loss: 0.0454:  40% 6/15 [00:04<00:07,  1.28it/s]\u001b[A\n",
            "Refining scale 2 using scale 1 ...current loss: 0.0440:  40% 6/15 [00:05<00:07,  1.28it/s]\u001b[A\n",
            "Refining scale 2 using scale 1 ...current loss: 0.0440:  47% 7/15 [00:05<00:06,  1.28it/s]\u001b[A\n",
            "Refining scale 2 using scale 1 ...current loss: 0.0411:  47% 7/15 [00:05<00:06,  1.28it/s]\u001b[A\n",
            "Refining scale 2 using scale 1 ...current loss: 0.0411:  53% 8/15 [00:06<00:05,  1.28it/s]\u001b[A\n",
            "Refining scale 2 using scale 1 ...current loss: 0.0394:  53% 8/15 [00:06<00:05,  1.28it/s]\u001b[A\n",
            "Refining scale 2 using scale 1 ...current loss: 0.0394:  60% 9/15 [00:06<00:04,  1.28it/s]\u001b[A\n",
            "Refining scale 2 using scale 1 ...current loss: 0.0368:  60% 9/15 [00:07<00:04,  1.28it/s]\u001b[A\n",
            "Refining scale 2 using scale 1 ...current loss: 0.0368:  67% 10/15 [00:07<00:03,  1.27it/s]\u001b[A\n",
            "Refining scale 2 using scale 1 ...current loss: 0.0356:  67% 10/15 [00:08<00:03,  1.27it/s]\u001b[A\n",
            "Refining scale 2 using scale 1 ...current loss: 0.0356:  73% 11/15 [00:08<00:03,  1.28it/s]\u001b[A\n",
            "Refining scale 2 using scale 1 ...current loss: 0.0345:  73% 11/15 [00:09<00:03,  1.28it/s]\u001b[A\n",
            "Refining scale 2 using scale 1 ...current loss: 0.0345:  80% 12/15 [00:09<00:02,  1.28it/s]\u001b[A\n",
            "Refining scale 2 using scale 1 ...current loss: 0.0326:  80% 12/15 [00:09<00:02,  1.28it/s]\u001b[A\n",
            "Refining scale 2 using scale 1 ...current loss: 0.0326:  87% 13/15 [00:10<00:01,  1.27it/s]\u001b[A\n",
            "Refining scale 2 using scale 1 ...current loss: 0.0317:  87% 13/15 [00:10<00:01,  1.27it/s]\u001b[A\n",
            "Refining scale 2 using scale 1 ...current loss: 0.0317:  93% 14/15 [00:10<00:00,  1.27it/s]\u001b[A\n",
            "Refining scale 2 using scale 1 ...current loss: 0.0309:  93% 14/15 [00:11<00:00,  1.27it/s]\u001b[A\n",
            "Refining scale 2 using scale 1 ...current loss: 0.0309: 100% 15/15 [00:11<00:00,  1.42it/s]\u001b[A\n",
            " 86% 643/746 [2:05:34<20:01, 11.67s/it]\n",
            "  0% 0/15 [00:00<?, ?it/s]\u001b[A\n",
            "                          \u001b[A\n",
            "  0% 0/15 [00:00<?, ?it/s]\u001b[A\n",
            "Refining scale 2 using scale 1 ...current loss: 0.0257:   0% 0/15 [00:00<?, ?it/s]\u001b[A\n",
            "Refining scale 2 using scale 1 ...current loss: 0.0257:   7% 1/15 [00:00<00:08,  1.58it/s]\u001b[A\n",
            "Refining scale 2 using scale 1 ...current loss: 0.0232:   7% 1/15 [00:01<00:08,  1.58it/s]\u001b[A\n",
            "Refining scale 2 using scale 1 ...current loss: 0.0232:  13% 2/15 [00:01<00:09,  1.38it/s]\u001b[A\n",
            "Refining scale 2 using scale 1 ...current loss: 0.0205:  13% 2/15 [00:01<00:09,  1.38it/s]\u001b[A\n",
            "Refining scale 2 using scale 1 ...current loss: 0.0205:  20% 3/15 [00:02<00:09,  1.33it/s]\u001b[A\n",
            "Refining scale 2 using scale 1 ...current loss: 0.0192:  20% 3/15 [00:02<00:09,  1.33it/s]\u001b[A\n",
            "Refining scale 2 using scale 1 ...current loss: 0.0192:  27% 4/15 [00:02<00:08,  1.31it/s]\u001b[A\n",
            "Refining scale 2 using scale 1 ...current loss: 0.0180:  27% 4/15 [00:03<00:08,  1.31it/s]\u001b[A\n",
            "Refining scale 2 using scale 1 ...current loss: 0.0180:  33% 5/15 [00:03<00:07,  1.29it/s]\u001b[A\n",
            "Refining scale 2 using scale 1 ...current loss: 0.0169:  33% 5/15 [00:04<00:07,  1.29it/s]\u001b[A\n",
            "Refining scale 2 using scale 1 ...current loss: 0.0169:  40% 6/15 [00:04<00:06,  1.29it/s]\u001b[A\n",
            "Refining scale 2 using scale 1 ...current loss: 0.0158:  40% 6/15 [00:05<00:06,  1.29it/s]\u001b[A\n",
            "Refining scale 2 using scale 1 ...current loss: 0.0158:  47% 7/15 [00:05<00:06,  1.28it/s]\u001b[A\n",
            "Refining scale 2 using scale 1 ...current loss: 0.0149:  47% 7/15 [00:05<00:06,  1.28it/s]\u001b[A\n",
            "Refining scale 2 using scale 1 ...current loss: 0.0149:  53% 8/15 [00:06<00:05,  1.28it/s]\u001b[A\n",
            "Refining scale 2 using scale 1 ...current loss: 0.0142:  53% 8/15 [00:06<00:05,  1.28it/s]\u001b[A\n",
            "Refining scale 2 using scale 1 ...current loss: 0.0142:  60% 9/15 [00:06<00:04,  1.28it/s]\u001b[A\n",
            "Refining scale 2 using scale 1 ...current loss: 0.0136:  60% 9/15 [00:07<00:04,  1.28it/s]\u001b[A\n",
            "Refining scale 2 using scale 1 ...current loss: 0.0136:  67% 10/15 [00:07<00:03,  1.27it/s]\u001b[A\n",
            "Refining scale 2 using scale 1 ...current loss: 0.0131:  67% 10/15 [00:08<00:03,  1.27it/s]\u001b[A\n",
            "Refining scale 2 using scale 1 ...current loss: 0.0131:  73% 11/15 [00:08<00:03,  1.27it/s]\u001b[A\n",
            "Refining scale 2 using scale 1 ...current loss: 0.0127:  73% 11/15 [00:09<00:03,  1.27it/s]\u001b[A\n",
            "Refining scale 2 using scale 1 ...current loss: 0.0127:  80% 12/15 [00:09<00:02,  1.27it/s]\u001b[A\n",
            "Refining scale 2 using scale 1 ...current loss: 0.0124:  80% 12/15 [00:09<00:02,  1.27it/s]\u001b[A\n",
            "Refining scale 2 using scale 1 ...current loss: 0.0124:  87% 13/15 [00:10<00:01,  1.27it/s]\u001b[A\n",
            "Refining scale 2 using scale 1 ...current loss: 0.0121:  87% 13/15 [00:10<00:01,  1.27it/s]\u001b[A\n",
            "Refining scale 2 using scale 1 ...current loss: 0.0121:  93% 14/15 [00:10<00:00,  1.27it/s]\u001b[A\n",
            "Refining scale 2 using scale 1 ...current loss: 0.0115:  93% 14/15 [00:11<00:00,  1.27it/s]\u001b[A\n",
            "Refining scale 2 using scale 1 ...current loss: 0.0115: 100% 15/15 [00:11<00:00,  1.42it/s]\u001b[A\n",
            " 86% 644/746 [2:05:46<19:49, 11.66s/it]\n",
            "  0% 0/15 [00:00<?, ?it/s]\u001b[A\n",
            "                          \u001b[A\n",
            "  0% 0/15 [00:00<?, ?it/s]\u001b[A\n",
            "Refining scale 2 using scale 1 ...current loss: 0.0642:   0% 0/15 [00:00<?, ?it/s]\u001b[A\n",
            "Refining scale 2 using scale 1 ...current loss: 0.0642:   7% 1/15 [00:00<00:08,  1.58it/s]\u001b[A\n",
            "Refining scale 2 using scale 1 ...current loss: 0.0414:   7% 1/15 [00:01<00:08,  1.58it/s]\u001b[A\n",
            "Refining scale 2 using scale 1 ...current loss: 0.0414:  13% 2/15 [00:01<00:09,  1.38it/s]\u001b[A\n",
            "Refining scale 2 using scale 1 ...current loss: 0.0369:  13% 2/15 [00:01<00:09,  1.38it/s]\u001b[A\n",
            "Refining scale 2 using scale 1 ...current loss: 0.0369:  20% 3/15 [00:02<00:09,  1.33it/s]\u001b[A\n",
            "Refining scale 2 using scale 1 ...current loss: 0.0338:  20% 3/15 [00:02<00:09,  1.33it/s]\u001b[A\n",
            "Refining scale 2 using scale 1 ...current loss: 0.0338:  27% 4/15 [00:02<00:08,  1.31it/s]\u001b[A\n",
            "Refining scale 2 using scale 1 ...current loss: 0.0306:  27% 4/15 [00:03<00:08,  1.31it/s]\u001b[A\n",
            "Refining scale 2 using scale 1 ...current loss: 0.0306:  33% 5/15 [00:03<00:07,  1.30it/s]\u001b[A\n",
            "Refining scale 2 using scale 1 ...current loss: 0.0286:  33% 5/15 [00:04<00:07,  1.30it/s]\u001b[A\n",
            "Refining scale 2 using scale 1 ...current loss: 0.0286:  40% 6/15 [00:04<00:06,  1.29it/s]\u001b[A\n",
            "Refining scale 2 using scale 1 ...current loss: 0.0273:  40% 6/15 [00:05<00:06,  1.29it/s]\u001b[A\n",
            "Refining scale 2 using scale 1 ...current loss: 0.0273:  47% 7/15 [00:05<00:06,  1.29it/s]\u001b[A\n",
            "Refining scale 2 using scale 1 ...current loss: 0.0260:  47% 7/15 [00:05<00:06,  1.29it/s]\u001b[A\n",
            "Refining scale 2 using scale 1 ...current loss: 0.0260:  53% 8/15 [00:06<00:05,  1.28it/s]\u001b[A\n",
            "Refining scale 2 using scale 1 ...current loss: 0.0251:  53% 8/15 [00:06<00:05,  1.28it/s]\u001b[A\n",
            "Refining scale 2 using scale 1 ...current loss: 0.0251:  60% 9/15 [00:06<00:04,  1.28it/s]\u001b[A\n",
            "Refining scale 2 using scale 1 ...current loss: 0.0244:  60% 9/15 [00:07<00:04,  1.28it/s]\u001b[A\n",
            "Refining scale 2 using scale 1 ...current loss: 0.0244:  67% 10/15 [00:07<00:03,  1.28it/s]\u001b[A\n",
            "Refining scale 2 using scale 1 ...current loss: 0.0239:  67% 10/15 [00:08<00:03,  1.28it/s]\u001b[A\n",
            "Refining scale 2 using scale 1 ...current loss: 0.0239:  73% 11/15 [00:08<00:03,  1.28it/s]\u001b[A\n",
            "Refining scale 2 using scale 1 ...current loss: 0.0232:  73% 11/15 [00:08<00:03,  1.28it/s]\u001b[A\n",
            "Refining scale 2 using scale 1 ...current loss: 0.0232:  80% 12/15 [00:09<00:02,  1.27it/s]\u001b[A\n",
            "Refining scale 2 using scale 1 ...current loss: 0.0227:  80% 12/15 [00:09<00:02,  1.27it/s]\u001b[A\n",
            "Refining scale 2 using scale 1 ...current loss: 0.0227:  87% 13/15 [00:10<00:01,  1.27it/s]\u001b[A\n",
            "Refining scale 2 using scale 1 ...current loss: 0.0223:  87% 13/15 [00:10<00:01,  1.27it/s]\u001b[A\n",
            "Refining scale 2 using scale 1 ...current loss: 0.0223:  93% 14/15 [00:10<00:00,  1.27it/s]\u001b[A\n",
            "Refining scale 2 using scale 1 ...current loss: 0.0218:  93% 14/15 [00:11<00:00,  1.27it/s]\u001b[A\n",
            "Refining scale 2 using scale 1 ...current loss: 0.0218: 100% 15/15 [00:11<00:00,  1.41it/s]\u001b[A\n",
            " 86% 645/746 [2:05:57<19:37, 11.66s/it]\n",
            "  0% 0/15 [00:00<?, ?it/s]\u001b[A\n",
            "                          \u001b[A\n",
            "  0% 0/15 [00:00<?, ?it/s]\u001b[A\n",
            "Refining scale 2 using scale 1 ...current loss: nan:   0% 0/15 [00:00<?, ?it/s]\u001b[A\n",
            "Refining scale 2 using scale 1 ...current loss: nan:   7% 1/15 [00:00<00:08,  1.57it/s]\u001b[A\n",
            "Refining scale 2 using scale 1 ...current loss: nan:   7% 1/15 [00:01<00:08,  1.57it/s]\u001b[A\n",
            "Refining scale 2 using scale 1 ...current loss: nan:  13% 2/15 [00:01<00:09,  1.38it/s]\u001b[A\n",
            "Refining scale 2 using scale 1 ...current loss: nan:  13% 2/15 [00:01<00:09,  1.38it/s]\u001b[A\n",
            "Refining scale 2 using scale 1 ...current loss: nan:  20% 3/15 [00:02<00:09,  1.33it/s]\u001b[A\n",
            "Refining scale 2 using scale 1 ...current loss: nan:  20% 3/15 [00:02<00:09,  1.33it/s]\u001b[A\n",
            "Refining scale 2 using scale 1 ...current loss: nan:  27% 4/15 [00:02<00:08,  1.31it/s]\u001b[A\n",
            "Refining scale 2 using scale 1 ...current loss: nan:  27% 4/15 [00:03<00:08,  1.31it/s]\u001b[A\n",
            "Refining scale 2 using scale 1 ...current loss: nan:  33% 5/15 [00:03<00:07,  1.30it/s]\u001b[A\n",
            "Refining scale 2 using scale 1 ...current loss: nan:  33% 5/15 [00:04<00:07,  1.30it/s]\u001b[A\n",
            "Refining scale 2 using scale 1 ...current loss: nan:  40% 6/15 [00:04<00:06,  1.29it/s]\u001b[A\n",
            "Refining scale 2 using scale 1 ...current loss: nan:  40% 6/15 [00:05<00:06,  1.29it/s]\u001b[A\n",
            "Refining scale 2 using scale 1 ...current loss: nan:  47% 7/15 [00:05<00:06,  1.29it/s]\u001b[A\n",
            "Refining scale 2 using scale 1 ...current loss: nan:  47% 7/15 [00:05<00:06,  1.29it/s]\u001b[A\n",
            "Refining scale 2 using scale 1 ...current loss: nan:  53% 8/15 [00:06<00:05,  1.28it/s]\u001b[A\n",
            "Refining scale 2 using scale 1 ...current loss: nan:  53% 8/15 [00:06<00:05,  1.28it/s]\u001b[A\n",
            "Refining scale 2 using scale 1 ...current loss: nan:  60% 9/15 [00:06<00:04,  1.28it/s]\u001b[A\n",
            "Refining scale 2 using scale 1 ...current loss: nan:  60% 9/15 [00:07<00:04,  1.28it/s]\u001b[A\n",
            "Refining scale 2 using scale 1 ...current loss: nan:  67% 10/15 [00:07<00:03,  1.28it/s]\u001b[A\n",
            "Refining scale 2 using scale 1 ...current loss: nan:  67% 10/15 [00:08<00:03,  1.28it/s]\u001b[A\n",
            "Refining scale 2 using scale 1 ...current loss: nan:  73% 11/15 [00:08<00:03,  1.28it/s]\u001b[A\n",
            "Refining scale 2 using scale 1 ...current loss: nan:  73% 11/15 [00:08<00:03,  1.28it/s]\u001b[A\n",
            "Refining scale 2 using scale 1 ...current loss: nan:  80% 12/15 [00:09<00:02,  1.28it/s]\u001b[A\n",
            "Refining scale 2 using scale 1 ...current loss: nan:  80% 12/15 [00:09<00:02,  1.28it/s]\u001b[A\n",
            "Refining scale 2 using scale 1 ...current loss: nan:  87% 13/15 [00:10<00:01,  1.28it/s]\u001b[A\n",
            "Refining scale 2 using scale 1 ...current loss: nan:  87% 13/15 [00:10<00:01,  1.28it/s]\u001b[A\n",
            "Refining scale 2 using scale 1 ...current loss: nan:  93% 14/15 [00:10<00:00,  1.28it/s]\u001b[A\n",
            "Refining scale 2 using scale 1 ...current loss: nan:  93% 14/15 [00:11<00:00,  1.28it/s]\u001b[A\n",
            "Refining scale 2 using scale 1 ...current loss: nan: 100% 15/15 [00:11<00:00,  1.42it/s]\u001b[A\n",
            " 87% 646/746 [2:06:09<19:27, 11.68s/it]\n",
            "  0% 0/15 [00:00<?, ?it/s]\u001b[A\n",
            "                          \u001b[A\n",
            "  0% 0/15 [00:00<?, ?it/s]\u001b[A\n",
            "Refining scale 2 using scale 1 ...current loss: 0.0305:   0% 0/15 [00:00<?, ?it/s]\u001b[A\n",
            "Refining scale 2 using scale 1 ...current loss: 0.0305:   7% 1/15 [00:00<00:08,  1.56it/s]\u001b[A\n",
            "Refining scale 2 using scale 1 ...current loss: 0.0255:   7% 1/15 [00:01<00:08,  1.56it/s]\u001b[A\n",
            "Refining scale 2 using scale 1 ...current loss: 0.0255:  13% 2/15 [00:01<00:09,  1.37it/s]\u001b[A\n",
            "Refining scale 2 using scale 1 ...current loss: 0.0214:  13% 2/15 [00:01<00:09,  1.37it/s]\u001b[A\n",
            "Refining scale 2 using scale 1 ...current loss: 0.0214:  20% 3/15 [00:02<00:09,  1.33it/s]\u001b[A\n",
            "Refining scale 2 using scale 1 ...current loss: 0.0197:  20% 3/15 [00:02<00:09,  1.33it/s]\u001b[A\n",
            "Refining scale 2 using scale 1 ...current loss: 0.0197:  27% 4/15 [00:02<00:08,  1.31it/s]\u001b[A\n",
            "Refining scale 2 using scale 1 ...current loss: 0.0181:  27% 4/15 [00:03<00:08,  1.31it/s]\u001b[A\n",
            "Refining scale 2 using scale 1 ...current loss: 0.0181:  33% 5/15 [00:03<00:07,  1.29it/s]\u001b[A\n",
            "Refining scale 2 using scale 1 ...current loss: 0.0174:  33% 5/15 [00:04<00:07,  1.29it/s]\u001b[A\n",
            "Refining scale 2 using scale 1 ...current loss: 0.0174:  40% 6/15 [00:04<00:07,  1.28it/s]\u001b[A\n",
            "Refining scale 2 using scale 1 ...current loss: 0.0165:  40% 6/15 [00:05<00:07,  1.28it/s]\u001b[A\n",
            "Refining scale 2 using scale 1 ...current loss: 0.0165:  47% 7/15 [00:05<00:06,  1.28it/s]\u001b[A\n",
            "Refining scale 2 using scale 1 ...current loss: 0.0157:  47% 7/15 [00:05<00:06,  1.28it/s]\u001b[A\n",
            "Refining scale 2 using scale 1 ...current loss: 0.0157:  53% 8/15 [00:06<00:05,  1.28it/s]\u001b[A\n",
            "Refining scale 2 using scale 1 ...current loss: 0.0149:  53% 8/15 [00:06<00:05,  1.28it/s]\u001b[A\n",
            "Refining scale 2 using scale 1 ...current loss: 0.0149:  60% 9/15 [00:06<00:04,  1.28it/s]\u001b[A\n",
            "Refining scale 2 using scale 1 ...current loss: 0.0143:  60% 9/15 [00:07<00:04,  1.28it/s]\u001b[A\n",
            "Refining scale 2 using scale 1 ...current loss: 0.0143:  67% 10/15 [00:07<00:03,  1.28it/s]\u001b[A\n",
            "Refining scale 2 using scale 1 ...current loss: 0.0137:  67% 10/15 [00:08<00:03,  1.28it/s]\u001b[A\n",
            "Refining scale 2 using scale 1 ...current loss: 0.0137:  73% 11/15 [00:08<00:03,  1.28it/s]\u001b[A\n",
            "Refining scale 2 using scale 1 ...current loss: 0.0132:  73% 11/15 [00:09<00:03,  1.28it/s]\u001b[A\n",
            "Refining scale 2 using scale 1 ...current loss: 0.0132:  80% 12/15 [00:09<00:02,  1.28it/s]\u001b[A\n",
            "Refining scale 2 using scale 1 ...current loss: 0.0127:  80% 12/15 [00:09<00:02,  1.28it/s]\u001b[A\n",
            "Refining scale 2 using scale 1 ...current loss: 0.0127:  87% 13/15 [00:10<00:01,  1.28it/s]\u001b[A\n",
            "Refining scale 2 using scale 1 ...current loss: 0.0124:  87% 13/15 [00:10<00:01,  1.28it/s]\u001b[A\n",
            "Refining scale 2 using scale 1 ...current loss: 0.0124:  93% 14/15 [00:10<00:00,  1.28it/s]\u001b[A\n",
            "Refining scale 2 using scale 1 ...current loss: 0.0120:  93% 14/15 [00:11<00:00,  1.28it/s]\u001b[A\n",
            "Refining scale 2 using scale 1 ...current loss: 0.0120: 100% 15/15 [00:11<00:00,  1.42it/s]\u001b[A\n",
            " 87% 647/746 [2:06:21<19:16, 11.68s/it]\n",
            "  0% 0/15 [00:00<?, ?it/s]\u001b[A\n",
            "                          \u001b[A\n",
            "  0% 0/15 [00:00<?, ?it/s]\u001b[A\n",
            "Refining scale 2 using scale 1 ...current loss: 0.0340:   0% 0/15 [00:00<?, ?it/s]\u001b[A\n",
            "Refining scale 2 using scale 1 ...current loss: 0.0340:   7% 1/15 [00:00<00:08,  1.58it/s]\u001b[A\n",
            "Refining scale 2 using scale 1 ...current loss: 0.0252:   7% 1/15 [00:01<00:08,  1.58it/s]\u001b[A\n",
            "Refining scale 2 using scale 1 ...current loss: 0.0252:  13% 2/15 [00:01<00:09,  1.38it/s]\u001b[A\n",
            "Refining scale 2 using scale 1 ...current loss: 0.0233:  13% 2/15 [00:01<00:09,  1.38it/s]\u001b[A\n",
            "Refining scale 2 using scale 1 ...current loss: 0.0233:  20% 3/15 [00:02<00:09,  1.33it/s]\u001b[A\n",
            "Refining scale 2 using scale 1 ...current loss: 0.0217:  20% 3/15 [00:02<00:09,  1.33it/s]\u001b[A\n",
            "Refining scale 2 using scale 1 ...current loss: 0.0217:  27% 4/15 [00:02<00:08,  1.31it/s]\u001b[A\n",
            "Refining scale 2 using scale 1 ...current loss: 0.0201:  27% 4/15 [00:03<00:08,  1.31it/s]\u001b[A\n",
            "Refining scale 2 using scale 1 ...current loss: 0.0201:  33% 5/15 [00:03<00:07,  1.30it/s]\u001b[A\n",
            "Refining scale 2 using scale 1 ...current loss: 0.0191:  33% 5/15 [00:04<00:07,  1.30it/s]\u001b[A\n",
            "Refining scale 2 using scale 1 ...current loss: 0.0191:  40% 6/15 [00:04<00:07,  1.28it/s]\u001b[A\n",
            "Refining scale 2 using scale 1 ...current loss: 0.0177:  40% 6/15 [00:05<00:07,  1.28it/s]\u001b[A\n",
            "Refining scale 2 using scale 1 ...current loss: 0.0177:  47% 7/15 [00:05<00:06,  1.28it/s]\u001b[A\n",
            "Refining scale 2 using scale 1 ...current loss: 0.0167:  47% 7/15 [00:05<00:06,  1.28it/s]\u001b[A\n",
            "Refining scale 2 using scale 1 ...current loss: 0.0167:  53% 8/15 [00:06<00:05,  1.28it/s]\u001b[A\n",
            "Refining scale 2 using scale 1 ...current loss: 0.0159:  53% 8/15 [00:06<00:05,  1.28it/s]\u001b[A\n",
            "Refining scale 2 using scale 1 ...current loss: 0.0159:  60% 9/15 [00:06<00:04,  1.28it/s]\u001b[A\n",
            "Refining scale 2 using scale 1 ...current loss: 0.0152:  60% 9/15 [00:07<00:04,  1.28it/s]\u001b[A\n",
            "Refining scale 2 using scale 1 ...current loss: 0.0152:  67% 10/15 [00:07<00:03,  1.27it/s]\u001b[A\n",
            "Refining scale 2 using scale 1 ...current loss: 0.0145:  67% 10/15 [00:08<00:03,  1.27it/s]\u001b[A\n",
            "Refining scale 2 using scale 1 ...current loss: 0.0145:  73% 11/15 [00:08<00:03,  1.27it/s]\u001b[A\n",
            "Refining scale 2 using scale 1 ...current loss: 0.0139:  73% 11/15 [00:09<00:03,  1.27it/s]\u001b[A\n",
            "Refining scale 2 using scale 1 ...current loss: 0.0139:  80% 12/15 [00:09<00:02,  1.27it/s]\u001b[A\n",
            "Refining scale 2 using scale 1 ...current loss: 0.0132:  80% 12/15 [00:09<00:02,  1.27it/s]\u001b[A\n",
            "Refining scale 2 using scale 1 ...current loss: 0.0132:  87% 13/15 [00:10<00:01,  1.27it/s]\u001b[A\n",
            "Refining scale 2 using scale 1 ...current loss: 0.0130:  87% 13/15 [00:10<00:01,  1.27it/s]\u001b[A\n",
            "Refining scale 2 using scale 1 ...current loss: 0.0130:  93% 14/15 [00:10<00:00,  1.27it/s]\u001b[A\n",
            "Refining scale 2 using scale 1 ...current loss: 0.0125:  93% 14/15 [00:11<00:00,  1.27it/s]\u001b[A\n",
            "Refining scale 2 using scale 1 ...current loss: 0.0125: 100% 15/15 [00:11<00:00,  1.42it/s]\u001b[A\n",
            " 87% 648/746 [2:06:32<19:04, 11.68s/it]\n",
            "  0% 0/15 [00:00<?, ?it/s]\u001b[A\n",
            "                          \u001b[A\n",
            "  0% 0/15 [00:00<?, ?it/s]\u001b[A\n",
            "Refining scale 2 using scale 1 ...current loss: nan:   0% 0/15 [00:00<?, ?it/s]\u001b[A\n",
            "Refining scale 2 using scale 1 ...current loss: nan:   7% 1/15 [00:00<00:08,  1.58it/s]\u001b[A\n",
            "Refining scale 2 using scale 1 ...current loss: nan:   7% 1/15 [00:01<00:08,  1.58it/s]\u001b[A\n",
            "Refining scale 2 using scale 1 ...current loss: nan:  13% 2/15 [00:01<00:09,  1.38it/s]\u001b[A\n",
            "Refining scale 2 using scale 1 ...current loss: nan:  13% 2/15 [00:01<00:09,  1.38it/s]\u001b[A\n",
            "Refining scale 2 using scale 1 ...current loss: nan:  20% 3/15 [00:02<00:09,  1.33it/s]\u001b[A\n",
            "Refining scale 2 using scale 1 ...current loss: nan:  20% 3/15 [00:02<00:09,  1.33it/s]\u001b[A\n",
            "Refining scale 2 using scale 1 ...current loss: nan:  27% 4/15 [00:02<00:08,  1.31it/s]\u001b[A\n",
            "Refining scale 2 using scale 1 ...current loss: nan:  27% 4/15 [00:03<00:08,  1.31it/s]\u001b[A\n",
            "Refining scale 2 using scale 1 ...current loss: nan:  33% 5/15 [00:03<00:07,  1.30it/s]\u001b[A\n",
            "Refining scale 2 using scale 1 ...current loss: nan:  33% 5/15 [00:04<00:07,  1.30it/s]\u001b[A\n",
            "Refining scale 2 using scale 1 ...current loss: nan:  40% 6/15 [00:04<00:06,  1.29it/s]\u001b[A\n",
            "Refining scale 2 using scale 1 ...current loss: nan:  40% 6/15 [00:05<00:06,  1.29it/s]\u001b[A\n",
            "Refining scale 2 using scale 1 ...current loss: nan:  47% 7/15 [00:05<00:06,  1.29it/s]\u001b[A\n",
            "Refining scale 2 using scale 1 ...current loss: nan:  47% 7/15 [00:05<00:06,  1.29it/s]\u001b[A\n",
            "Refining scale 2 using scale 1 ...current loss: nan:  53% 8/15 [00:06<00:05,  1.28it/s]\u001b[A\n",
            "Refining scale 2 using scale 1 ...current loss: nan:  53% 8/15 [00:06<00:05,  1.28it/s]\u001b[A\n",
            "Refining scale 2 using scale 1 ...current loss: nan:  60% 9/15 [00:06<00:04,  1.28it/s]\u001b[A\n",
            "Refining scale 2 using scale 1 ...current loss: nan:  60% 9/15 [00:07<00:04,  1.28it/s]\u001b[A\n",
            "Refining scale 2 using scale 1 ...current loss: nan:  67% 10/15 [00:07<00:03,  1.28it/s]\u001b[A\n",
            "Refining scale 2 using scale 1 ...current loss: nan:  67% 10/15 [00:08<00:03,  1.28it/s]\u001b[A\n",
            "Refining scale 2 using scale 1 ...current loss: nan:  73% 11/15 [00:08<00:03,  1.28it/s]\u001b[A\n",
            "Refining scale 2 using scale 1 ...current loss: nan:  73% 11/15 [00:08<00:03,  1.28it/s]\u001b[A\n",
            "Refining scale 2 using scale 1 ...current loss: nan:  80% 12/15 [00:09<00:02,  1.28it/s]\u001b[A\n",
            "Refining scale 2 using scale 1 ...current loss: nan:  80% 12/15 [00:09<00:02,  1.28it/s]\u001b[A\n",
            "Refining scale 2 using scale 1 ...current loss: nan:  87% 13/15 [00:10<00:01,  1.27it/s]\u001b[A\n",
            "Refining scale 2 using scale 1 ...current loss: nan:  87% 13/15 [00:10<00:01,  1.27it/s]\u001b[A\n",
            "Refining scale 2 using scale 1 ...current loss: nan:  93% 14/15 [00:10<00:00,  1.27it/s]\u001b[A\n",
            "Refining scale 2 using scale 1 ...current loss: nan:  93% 14/15 [00:11<00:00,  1.27it/s]\u001b[A\n",
            "Refining scale 2 using scale 1 ...current loss: nan: 100% 15/15 [00:11<00:00,  1.41it/s]\u001b[A\n",
            " 87% 649/746 [2:06:44<18:52, 11.67s/it]\n",
            "  0% 0/15 [00:00<?, ?it/s]\u001b[A\n",
            "                          \u001b[A\n",
            "  0% 0/15 [00:00<?, ?it/s]\u001b[A\n",
            "Refining scale 2 using scale 1 ...current loss: 0.0150:   0% 0/15 [00:00<?, ?it/s]\u001b[A\n",
            "Refining scale 2 using scale 1 ...current loss: 0.0150:   7% 1/15 [00:00<00:08,  1.57it/s]\u001b[A\n",
            "Refining scale 2 using scale 1 ...current loss: 0.0176:   7% 1/15 [00:01<00:08,  1.57it/s]\u001b[A\n",
            "Refining scale 2 using scale 1 ...current loss: 0.0176:  13% 2/15 [00:01<00:09,  1.38it/s]\u001b[A\n",
            "Refining scale 2 using scale 1 ...current loss: 0.0135:  13% 2/15 [00:01<00:09,  1.38it/s]\u001b[A\n",
            "Refining scale 2 using scale 1 ...current loss: 0.0135:  20% 3/15 [00:02<00:09,  1.33it/s]\u001b[A\n",
            "Refining scale 2 using scale 1 ...current loss: 0.0133:  20% 3/15 [00:02<00:09,  1.33it/s]\u001b[A\n",
            "Refining scale 2 using scale 1 ...current loss: 0.0133:  27% 4/15 [00:02<00:08,  1.31it/s]\u001b[A\n",
            "Refining scale 2 using scale 1 ...current loss: 0.0124:  27% 4/15 [00:03<00:08,  1.31it/s]\u001b[A\n",
            "Refining scale 2 using scale 1 ...current loss: 0.0124:  33% 5/15 [00:03<00:07,  1.30it/s]\u001b[A\n",
            "Refining scale 2 using scale 1 ...current loss: 0.0116:  33% 5/15 [00:04<00:07,  1.30it/s]\u001b[A\n",
            "Refining scale 2 using scale 1 ...current loss: 0.0116:  40% 6/15 [00:04<00:06,  1.29it/s]\u001b[A\n",
            "Refining scale 2 using scale 1 ...current loss: 0.0112:  40% 6/15 [00:05<00:06,  1.29it/s]\u001b[A\n",
            "Refining scale 2 using scale 1 ...current loss: 0.0112:  47% 7/15 [00:05<00:06,  1.28it/s]\u001b[A\n",
            "Refining scale 2 using scale 1 ...current loss: 0.0106:  47% 7/15 [00:05<00:06,  1.28it/s]\u001b[A\n",
            "Refining scale 2 using scale 1 ...current loss: 0.0106:  53% 8/15 [00:06<00:05,  1.28it/s]\u001b[A\n",
            "Refining scale 2 using scale 1 ...current loss: 0.0102:  53% 8/15 [00:06<00:05,  1.28it/s]\u001b[A\n",
            "Refining scale 2 using scale 1 ...current loss: 0.0102:  60% 9/15 [00:06<00:04,  1.28it/s]\u001b[A\n",
            "Refining scale 2 using scale 1 ...current loss: 0.0098:  60% 9/15 [00:07<00:04,  1.28it/s]\u001b[A\n",
            "Refining scale 2 using scale 1 ...current loss: 0.0098:  67% 10/15 [00:07<00:03,  1.28it/s]\u001b[A\n",
            "Refining scale 2 using scale 1 ...current loss: 0.0095:  67% 10/15 [00:08<00:03,  1.28it/s]\u001b[A\n",
            "Refining scale 2 using scale 1 ...current loss: 0.0095:  73% 11/15 [00:08<00:03,  1.28it/s]\u001b[A\n",
            "Refining scale 2 using scale 1 ...current loss: 0.0091:  73% 11/15 [00:09<00:03,  1.28it/s]\u001b[A\n",
            "Refining scale 2 using scale 1 ...current loss: 0.0091:  80% 12/15 [00:09<00:02,  1.28it/s]\u001b[A\n",
            "Refining scale 2 using scale 1 ...current loss: 0.0087:  80% 12/15 [00:09<00:02,  1.28it/s]\u001b[A\n",
            "Refining scale 2 using scale 1 ...current loss: 0.0087:  87% 13/15 [00:10<00:01,  1.27it/s]\u001b[A\n",
            "Refining scale 2 using scale 1 ...current loss: 0.0085:  87% 13/15 [00:10<00:01,  1.27it/s]\u001b[A\n",
            "Refining scale 2 using scale 1 ...current loss: 0.0085:  93% 14/15 [00:10<00:00,  1.27it/s]\u001b[A\n",
            "Refining scale 2 using scale 1 ...current loss: 0.0083:  93% 14/15 [00:11<00:00,  1.27it/s]\u001b[A\n",
            "Refining scale 2 using scale 1 ...current loss: 0.0083: 100% 15/15 [00:11<00:00,  1.41it/s]\u001b[A\n",
            " 87% 650/746 [2:06:56<18:42, 11.69s/it]\n",
            "  0% 0/15 [00:00<?, ?it/s]\u001b[A\n",
            "                          \u001b[A\n",
            "  0% 0/15 [00:00<?, ?it/s]\u001b[A\n",
            "Refining scale 2 using scale 1 ...current loss: 0.0816:   0% 0/15 [00:00<?, ?it/s]\u001b[A\n",
            "Refining scale 2 using scale 1 ...current loss: 0.0816:   7% 1/15 [00:00<00:08,  1.57it/s]\u001b[A\n",
            "Refining scale 2 using scale 1 ...current loss: 0.0721:   7% 1/15 [00:01<00:08,  1.57it/s]\u001b[A\n",
            "Refining scale 2 using scale 1 ...current loss: 0.0721:  13% 2/15 [00:01<00:09,  1.37it/s]\u001b[A\n",
            "Refining scale 2 using scale 1 ...current loss: 0.0655:  13% 2/15 [00:01<00:09,  1.37it/s]\u001b[A\n",
            "Refining scale 2 using scale 1 ...current loss: 0.0655:  20% 3/15 [00:02<00:09,  1.32it/s]\u001b[A\n",
            "Refining scale 2 using scale 1 ...current loss: 0.0605:  20% 3/15 [00:02<00:09,  1.32it/s]\u001b[A\n",
            "Refining scale 2 using scale 1 ...current loss: 0.0605:  27% 4/15 [00:03<00:08,  1.30it/s]\u001b[A\n",
            "Refining scale 2 using scale 1 ...current loss: 0.0568:  27% 4/15 [00:03<00:08,  1.30it/s]\u001b[A\n",
            "Refining scale 2 using scale 1 ...current loss: 0.0568:  33% 5/15 [00:03<00:07,  1.29it/s]\u001b[A\n",
            "Refining scale 2 using scale 1 ...current loss: 0.0536:  33% 5/15 [00:04<00:07,  1.29it/s]\u001b[A\n",
            "Refining scale 2 using scale 1 ...current loss: 0.0536:  40% 6/15 [00:04<00:06,  1.29it/s]\u001b[A\n",
            "Refining scale 2 using scale 1 ...current loss: 0.0510:  40% 6/15 [00:05<00:06,  1.29it/s]\u001b[A\n",
            "Refining scale 2 using scale 1 ...current loss: 0.0510:  47% 7/15 [00:05<00:06,  1.28it/s]\u001b[A\n",
            "Refining scale 2 using scale 1 ...current loss: 0.0488:  47% 7/15 [00:05<00:06,  1.28it/s]\u001b[A\n",
            "Refining scale 2 using scale 1 ...current loss: 0.0488:  53% 8/15 [00:06<00:05,  1.28it/s]\u001b[A\n",
            "Refining scale 2 using scale 1 ...current loss: 0.0467:  53% 8/15 [00:06<00:05,  1.28it/s]\u001b[A\n",
            "Refining scale 2 using scale 1 ...current loss: 0.0467:  60% 9/15 [00:06<00:04,  1.28it/s]\u001b[A\n",
            "Refining scale 2 using scale 1 ...current loss: 0.0448:  60% 9/15 [00:07<00:04,  1.28it/s]\u001b[A\n",
            "Refining scale 2 using scale 1 ...current loss: 0.0448:  67% 10/15 [00:07<00:03,  1.28it/s]\u001b[A\n",
            "Refining scale 2 using scale 1 ...current loss: 0.0431:  67% 10/15 [00:08<00:03,  1.28it/s]\u001b[A\n",
            "Refining scale 2 using scale 1 ...current loss: 0.0431:  73% 11/15 [00:08<00:03,  1.27it/s]\u001b[A\n",
            "Refining scale 2 using scale 1 ...current loss: 0.0417:  73% 11/15 [00:09<00:03,  1.27it/s]\u001b[A\n",
            "Refining scale 2 using scale 1 ...current loss: 0.0417:  80% 12/15 [00:09<00:02,  1.27it/s]\u001b[A\n",
            "Refining scale 2 using scale 1 ...current loss: 0.0402:  80% 12/15 [00:09<00:02,  1.27it/s]\u001b[A\n",
            "Refining scale 2 using scale 1 ...current loss: 0.0402:  87% 13/15 [00:10<00:01,  1.28it/s]\u001b[A\n",
            "Refining scale 2 using scale 1 ...current loss: 0.0387:  87% 13/15 [00:10<00:01,  1.28it/s]\u001b[A\n",
            "Refining scale 2 using scale 1 ...current loss: 0.0387:  93% 14/15 [00:10<00:00,  1.28it/s]\u001b[A\n",
            "Refining scale 2 using scale 1 ...current loss: 0.0376:  93% 14/15 [00:11<00:00,  1.28it/s]\u001b[A\n",
            "Refining scale 2 using scale 1 ...current loss: 0.0376: 100% 15/15 [00:11<00:00,  1.42it/s]\u001b[A\n",
            " 87% 651/746 [2:07:08<18:30, 11.69s/it]\n",
            "  0% 0/15 [00:00<?, ?it/s]\u001b[A\n",
            "                          \u001b[A\n",
            "  0% 0/15 [00:00<?, ?it/s]\u001b[A\n",
            "Refining scale 2 using scale 1 ...current loss: 0.0792:   0% 0/15 [00:00<?, ?it/s]\u001b[A\n",
            "Refining scale 2 using scale 1 ...current loss: 0.0792:   7% 1/15 [00:00<00:08,  1.58it/s]\u001b[A\n",
            "Refining scale 2 using scale 1 ...current loss: 0.0573:   7% 1/15 [00:01<00:08,  1.58it/s]\u001b[A\n",
            "Refining scale 2 using scale 1 ...current loss: 0.0573:  13% 2/15 [00:01<00:09,  1.38it/s]\u001b[A\n",
            "Refining scale 2 using scale 1 ...current loss: 0.0476:  13% 2/15 [00:01<00:09,  1.38it/s]\u001b[A\n",
            "Refining scale 2 using scale 1 ...current loss: 0.0476:  20% 3/15 [00:02<00:09,  1.33it/s]\u001b[A\n",
            "Refining scale 2 using scale 1 ...current loss: 0.0420:  20% 3/15 [00:02<00:09,  1.33it/s]\u001b[A\n",
            "Refining scale 2 using scale 1 ...current loss: 0.0420:  27% 4/15 [00:02<00:08,  1.31it/s]\u001b[A\n",
            "Refining scale 2 using scale 1 ...current loss: 0.0375:  27% 4/15 [00:03<00:08,  1.31it/s]\u001b[A\n",
            "Refining scale 2 using scale 1 ...current loss: 0.0375:  33% 5/15 [00:03<00:07,  1.30it/s]\u001b[A\n",
            "Refining scale 2 using scale 1 ...current loss: 0.0340:  33% 5/15 [00:04<00:07,  1.30it/s]\u001b[A\n",
            "Refining scale 2 using scale 1 ...current loss: 0.0340:  40% 6/15 [00:04<00:06,  1.29it/s]\u001b[A\n",
            "Refining scale 2 using scale 1 ...current loss: 0.0315:  40% 6/15 [00:05<00:06,  1.29it/s]\u001b[A\n",
            "Refining scale 2 using scale 1 ...current loss: 0.0315:  47% 7/15 [00:05<00:06,  1.28it/s]\u001b[A\n",
            "Refining scale 2 using scale 1 ...current loss: 0.0291:  47% 7/15 [00:05<00:06,  1.28it/s]\u001b[A\n",
            "Refining scale 2 using scale 1 ...current loss: 0.0291:  53% 8/15 [00:06<00:05,  1.28it/s]\u001b[A\n",
            "Refining scale 2 using scale 1 ...current loss: 0.0275:  53% 8/15 [00:06<00:05,  1.28it/s]\u001b[A\n",
            "Refining scale 2 using scale 1 ...current loss: 0.0275:  60% 9/15 [00:06<00:04,  1.27it/s]\u001b[A\n",
            "Refining scale 2 using scale 1 ...current loss: 0.0265:  60% 9/15 [00:07<00:04,  1.27it/s]\u001b[A\n",
            "Refining scale 2 using scale 1 ...current loss: 0.0265:  67% 10/15 [00:07<00:03,  1.27it/s]\u001b[A\n",
            "Refining scale 2 using scale 1 ...current loss: 0.0258:  67% 10/15 [00:08<00:03,  1.27it/s]\u001b[A\n",
            "Refining scale 2 using scale 1 ...current loss: 0.0258:  73% 11/15 [00:08<00:03,  1.27it/s]\u001b[A\n",
            "Refining scale 2 using scale 1 ...current loss: 0.0244:  73% 11/15 [00:09<00:03,  1.27it/s]\u001b[A\n",
            "Refining scale 2 using scale 1 ...current loss: 0.0244:  80% 12/15 [00:09<00:02,  1.27it/s]\u001b[A\n",
            "Refining scale 2 using scale 1 ...current loss: 0.0241:  80% 12/15 [00:09<00:02,  1.27it/s]\u001b[A\n",
            "Refining scale 2 using scale 1 ...current loss: 0.0241:  87% 13/15 [00:10<00:01,  1.27it/s]\u001b[A\n",
            "Refining scale 2 using scale 1 ...current loss: 0.0229:  87% 13/15 [00:10<00:01,  1.27it/s]\u001b[A\n",
            "Refining scale 2 using scale 1 ...current loss: 0.0229:  93% 14/15 [00:10<00:00,  1.27it/s]\u001b[A\n",
            "Refining scale 2 using scale 1 ...current loss: 0.0227:  93% 14/15 [00:11<00:00,  1.27it/s]\u001b[A\n",
            "Refining scale 2 using scale 1 ...current loss: 0.0227: 100% 15/15 [00:11<00:00,  1.42it/s]\u001b[A\n",
            " 87% 652/746 [2:07:19<18:18, 11.69s/it]\n",
            "  0% 0/15 [00:00<?, ?it/s]\u001b[A\n",
            "                          \u001b[A\n",
            "  0% 0/15 [00:00<?, ?it/s]\u001b[A\n",
            "Refining scale 2 using scale 1 ...current loss: 0.0755:   0% 0/15 [00:00<?, ?it/s]\u001b[A\n",
            "Refining scale 2 using scale 1 ...current loss: 0.0755:   7% 1/15 [00:00<00:08,  1.58it/s]\u001b[A\n",
            "Refining scale 2 using scale 1 ...current loss: 0.0755:   7% 1/15 [00:01<00:08,  1.58it/s]\u001b[A\n",
            "Refining scale 2 using scale 1 ...current loss: 0.0755:  13% 2/15 [00:01<00:09,  1.38it/s]\u001b[A\n",
            "Refining scale 2 using scale 1 ...current loss: 0.0619:  13% 2/15 [00:01<00:09,  1.38it/s]\u001b[A\n",
            "Refining scale 2 using scale 1 ...current loss: 0.0619:  20% 3/15 [00:02<00:09,  1.33it/s]\u001b[A\n",
            "Refining scale 2 using scale 1 ...current loss: 0.0497:  20% 3/15 [00:02<00:09,  1.33it/s]\u001b[A\n",
            "Refining scale 2 using scale 1 ...current loss: 0.0497:  27% 4/15 [00:02<00:08,  1.31it/s]\u001b[A\n",
            "Refining scale 2 using scale 1 ...current loss: 0.0475:  27% 4/15 [00:03<00:08,  1.31it/s]\u001b[A\n",
            "Refining scale 2 using scale 1 ...current loss: 0.0475:  33% 5/15 [00:03<00:07,  1.30it/s]\u001b[A\n",
            "Refining scale 2 using scale 1 ...current loss: 0.0465:  33% 5/15 [00:04<00:07,  1.30it/s]\u001b[A\n",
            "Refining scale 2 using scale 1 ...current loss: 0.0465:  40% 6/15 [00:04<00:06,  1.29it/s]\u001b[A\n",
            "Refining scale 2 using scale 1 ...current loss: 0.0413:  40% 6/15 [00:05<00:06,  1.29it/s]\u001b[A\n",
            "Refining scale 2 using scale 1 ...current loss: 0.0413:  47% 7/15 [00:05<00:06,  1.28it/s]\u001b[A\n",
            "Refining scale 2 using scale 1 ...current loss: 0.0387:  47% 7/15 [00:05<00:06,  1.28it/s]\u001b[A\n",
            "Refining scale 2 using scale 1 ...current loss: 0.0387:  53% 8/15 [00:06<00:05,  1.28it/s]\u001b[A\n",
            "Refining scale 2 using scale 1 ...current loss: 0.0369:  53% 8/15 [00:06<00:05,  1.28it/s]\u001b[A\n",
            "Refining scale 2 using scale 1 ...current loss: 0.0369:  60% 9/15 [00:06<00:04,  1.28it/s]\u001b[A\n",
            "Refining scale 2 using scale 1 ...current loss: 0.0347:  60% 9/15 [00:07<00:04,  1.28it/s]\u001b[A\n",
            "Refining scale 2 using scale 1 ...current loss: 0.0347:  67% 10/15 [00:07<00:03,  1.28it/s]\u001b[A\n",
            "Refining scale 2 using scale 1 ...current loss: 0.0335:  67% 10/15 [00:08<00:03,  1.28it/s]\u001b[A\n",
            "Refining scale 2 using scale 1 ...current loss: 0.0335:  73% 11/15 [00:08<00:03,  1.27it/s]\u001b[A\n",
            "Refining scale 2 using scale 1 ...current loss: 0.0320:  73% 11/15 [00:09<00:03,  1.27it/s]\u001b[A\n",
            "Refining scale 2 using scale 1 ...current loss: 0.0320:  80% 12/15 [00:09<00:02,  1.27it/s]\u001b[A\n",
            "Refining scale 2 using scale 1 ...current loss: 0.0307:  80% 12/15 [00:09<00:02,  1.27it/s]\u001b[A\n",
            "Refining scale 2 using scale 1 ...current loss: 0.0307:  87% 13/15 [00:10<00:01,  1.27it/s]\u001b[A\n",
            "Refining scale 2 using scale 1 ...current loss: 0.0296:  87% 13/15 [00:10<00:01,  1.27it/s]\u001b[A\n",
            "Refining scale 2 using scale 1 ...current loss: 0.0296:  93% 14/15 [00:10<00:00,  1.27it/s]\u001b[A\n",
            "Refining scale 2 using scale 1 ...current loss: 0.0286:  93% 14/15 [00:11<00:00,  1.27it/s]\u001b[A\n",
            "Refining scale 2 using scale 1 ...current loss: 0.0286: 100% 15/15 [00:11<00:00,  1.41it/s]\u001b[A\n",
            " 88% 653/746 [2:07:31<18:06, 11.68s/it]\n",
            "  0% 0/15 [00:00<?, ?it/s]\u001b[A\n",
            "                          \u001b[A\n",
            "  0% 0/15 [00:00<?, ?it/s]\u001b[A\n",
            "Refining scale 2 using scale 1 ...current loss: nan:   0% 0/15 [00:00<?, ?it/s]\u001b[A\n",
            "Refining scale 2 using scale 1 ...current loss: nan:   7% 1/15 [00:00<00:08,  1.58it/s]\u001b[A\n",
            "Refining scale 2 using scale 1 ...current loss: nan:   7% 1/15 [00:01<00:08,  1.58it/s]\u001b[A\n",
            "Refining scale 2 using scale 1 ...current loss: nan:  13% 2/15 [00:01<00:09,  1.38it/s]\u001b[A\n",
            "Refining scale 2 using scale 1 ...current loss: nan:  13% 2/15 [00:01<00:09,  1.38it/s]\u001b[A\n",
            "Refining scale 2 using scale 1 ...current loss: nan:  20% 3/15 [00:02<00:09,  1.33it/s]\u001b[A\n",
            "Refining scale 2 using scale 1 ...current loss: nan:  20% 3/15 [00:02<00:09,  1.33it/s]\u001b[A\n",
            "Refining scale 2 using scale 1 ...current loss: nan:  27% 4/15 [00:02<00:08,  1.31it/s]\u001b[A\n",
            "Refining scale 2 using scale 1 ...current loss: nan:  27% 4/15 [00:03<00:08,  1.31it/s]\u001b[A\n",
            "Refining scale 2 using scale 1 ...current loss: nan:  33% 5/15 [00:03<00:07,  1.30it/s]\u001b[A\n",
            "Refining scale 2 using scale 1 ...current loss: nan:  33% 5/15 [00:04<00:07,  1.30it/s]\u001b[A\n",
            "Refining scale 2 using scale 1 ...current loss: nan:  40% 6/15 [00:04<00:06,  1.29it/s]\u001b[A\n",
            "Refining scale 2 using scale 1 ...current loss: nan:  40% 6/15 [00:05<00:06,  1.29it/s]\u001b[A\n",
            "Refining scale 2 using scale 1 ...current loss: nan:  47% 7/15 [00:05<00:06,  1.29it/s]\u001b[A\n",
            "Refining scale 2 using scale 1 ...current loss: nan:  47% 7/15 [00:05<00:06,  1.29it/s]\u001b[A\n",
            "Refining scale 2 using scale 1 ...current loss: nan:  53% 8/15 [00:06<00:05,  1.28it/s]\u001b[A\n",
            "Refining scale 2 using scale 1 ...current loss: nan:  53% 8/15 [00:06<00:05,  1.28it/s]\u001b[A\n",
            "Refining scale 2 using scale 1 ...current loss: nan:  60% 9/15 [00:06<00:04,  1.28it/s]\u001b[A\n",
            "Refining scale 2 using scale 1 ...current loss: nan:  60% 9/15 [00:07<00:04,  1.28it/s]\u001b[A\n",
            "Refining scale 2 using scale 1 ...current loss: nan:  67% 10/15 [00:07<00:03,  1.28it/s]\u001b[A\n",
            "Refining scale 2 using scale 1 ...current loss: nan:  67% 10/15 [00:08<00:03,  1.28it/s]\u001b[A\n",
            "Refining scale 2 using scale 1 ...current loss: nan:  73% 11/15 [00:08<00:03,  1.28it/s]\u001b[A\n",
            "Refining scale 2 using scale 1 ...current loss: nan:  73% 11/15 [00:09<00:03,  1.28it/s]\u001b[A\n",
            "Refining scale 2 using scale 1 ...current loss: nan:  80% 12/15 [00:09<00:02,  1.28it/s]\u001b[A\n",
            "Refining scale 2 using scale 1 ...current loss: nan:  80% 12/15 [00:09<00:02,  1.28it/s]\u001b[A\n",
            "Refining scale 2 using scale 1 ...current loss: nan:  87% 13/15 [00:10<00:01,  1.27it/s]\u001b[A\n",
            "Refining scale 2 using scale 1 ...current loss: nan:  87% 13/15 [00:10<00:01,  1.27it/s]\u001b[A\n",
            "Refining scale 2 using scale 1 ...current loss: nan:  93% 14/15 [00:10<00:00,  1.27it/s]\u001b[A\n",
            "Refining scale 2 using scale 1 ...current loss: nan:  93% 14/15 [00:11<00:00,  1.27it/s]\u001b[A\n",
            "Refining scale 2 using scale 1 ...current loss: nan: 100% 15/15 [00:11<00:00,  1.41it/s]\u001b[A\n",
            " 88% 654/746 [2:07:43<17:56, 11.70s/it]\n",
            "  0% 0/15 [00:00<?, ?it/s]\u001b[A\n",
            "                          \u001b[A\n",
            "  0% 0/15 [00:00<?, ?it/s]\u001b[A\n",
            "Refining scale 2 using scale 1 ...current loss: nan:   0% 0/15 [00:00<?, ?it/s]\u001b[A\n",
            "Refining scale 2 using scale 1 ...current loss: nan:   7% 1/15 [00:00<00:08,  1.57it/s]\u001b[A\n",
            "Refining scale 2 using scale 1 ...current loss: nan:   7% 1/15 [00:01<00:08,  1.57it/s]\u001b[A\n",
            "Refining scale 2 using scale 1 ...current loss: nan:  13% 2/15 [00:01<00:09,  1.38it/s]\u001b[A\n",
            "Refining scale 2 using scale 1 ...current loss: nan:  13% 2/15 [00:01<00:09,  1.38it/s]\u001b[A\n",
            "Refining scale 2 using scale 1 ...current loss: nan:  20% 3/15 [00:02<00:09,  1.32it/s]\u001b[A\n",
            "Refining scale 2 using scale 1 ...current loss: nan:  20% 3/15 [00:02<00:09,  1.32it/s]\u001b[A\n",
            "Refining scale 2 using scale 1 ...current loss: nan:  27% 4/15 [00:03<00:08,  1.30it/s]\u001b[A\n",
            "Refining scale 2 using scale 1 ...current loss: nan:  27% 4/15 [00:03<00:08,  1.30it/s]\u001b[A\n",
            "Refining scale 2 using scale 1 ...current loss: nan:  33% 5/15 [00:03<00:07,  1.29it/s]\u001b[A\n",
            "Refining scale 2 using scale 1 ...current loss: nan:  33% 5/15 [00:04<00:07,  1.29it/s]\u001b[A\n",
            "Refining scale 2 using scale 1 ...current loss: nan:  40% 6/15 [00:04<00:07,  1.28it/s]\u001b[A\n",
            "Refining scale 2 using scale 1 ...current loss: nan:  40% 6/15 [00:05<00:07,  1.28it/s]\u001b[A\n",
            "Refining scale 2 using scale 1 ...current loss: nan:  47% 7/15 [00:05<00:06,  1.28it/s]\u001b[A\n",
            "Refining scale 2 using scale 1 ...current loss: nan:  47% 7/15 [00:05<00:06,  1.28it/s]\u001b[A\n",
            "Refining scale 2 using scale 1 ...current loss: nan:  53% 8/15 [00:06<00:05,  1.28it/s]\u001b[A\n",
            "Refining scale 2 using scale 1 ...current loss: nan:  53% 8/15 [00:06<00:05,  1.28it/s]\u001b[A\n",
            "Refining scale 2 using scale 1 ...current loss: nan:  60% 9/15 [00:06<00:04,  1.28it/s]\u001b[A\n",
            "Refining scale 2 using scale 1 ...current loss: nan:  60% 9/15 [00:07<00:04,  1.28it/s]\u001b[A\n",
            "Refining scale 2 using scale 1 ...current loss: nan:  67% 10/15 [00:07<00:03,  1.27it/s]\u001b[A\n",
            "Refining scale 2 using scale 1 ...current loss: nan:  67% 10/15 [00:08<00:03,  1.27it/s]\u001b[A\n",
            "Refining scale 2 using scale 1 ...current loss: nan:  73% 11/15 [00:08<00:03,  1.28it/s]\u001b[A\n",
            "Refining scale 2 using scale 1 ...current loss: nan:  73% 11/15 [00:09<00:03,  1.28it/s]\u001b[A\n",
            "Refining scale 2 using scale 1 ...current loss: nan:  80% 12/15 [00:09<00:02,  1.27it/s]\u001b[A\n",
            "Refining scale 2 using scale 1 ...current loss: nan:  80% 12/15 [00:09<00:02,  1.27it/s]\u001b[A\n",
            "Refining scale 2 using scale 1 ...current loss: nan:  87% 13/15 [00:10<00:01,  1.27it/s]\u001b[A\n",
            "Refining scale 2 using scale 1 ...current loss: nan:  87% 13/15 [00:10<00:01,  1.27it/s]\u001b[A\n",
            "Refining scale 2 using scale 1 ...current loss: nan:  93% 14/15 [00:10<00:00,  1.28it/s]\u001b[A\n",
            "Refining scale 2 using scale 1 ...current loss: nan:  93% 14/15 [00:11<00:00,  1.28it/s]\u001b[A\n",
            "Refining scale 2 using scale 1 ...current loss: nan: 100% 15/15 [00:11<00:00,  1.42it/s]\u001b[A\n",
            " 88% 655/746 [2:07:54<17:44, 11.70s/it]\n",
            "  0% 0/15 [00:00<?, ?it/s]\u001b[A\n",
            "                          \u001b[A\n",
            "  0% 0/15 [00:00<?, ?it/s]\u001b[A\n",
            "Refining scale 2 using scale 1 ...current loss: 0.0174:   0% 0/15 [00:00<?, ?it/s]\u001b[A\n",
            "Refining scale 2 using scale 1 ...current loss: 0.0174:   7% 1/15 [00:00<00:08,  1.58it/s]\u001b[A\n",
            "Refining scale 2 using scale 1 ...current loss: 0.0172:   7% 1/15 [00:01<00:08,  1.58it/s]\u001b[A\n",
            "Refining scale 2 using scale 1 ...current loss: 0.0172:  13% 2/15 [00:01<00:09,  1.38it/s]\u001b[A\n",
            "Refining scale 2 using scale 1 ...current loss: 0.0146:  13% 2/15 [00:01<00:09,  1.38it/s]\u001b[A\n",
            "Refining scale 2 using scale 1 ...current loss: 0.0146:  20% 3/15 [00:02<00:09,  1.33it/s]\u001b[A\n",
            "Refining scale 2 using scale 1 ...current loss: 0.0140:  20% 3/15 [00:02<00:09,  1.33it/s]\u001b[A\n",
            "Refining scale 2 using scale 1 ...current loss: 0.0140:  27% 4/15 [00:02<00:08,  1.31it/s]\u001b[A\n",
            "Refining scale 2 using scale 1 ...current loss: 0.0130:  27% 4/15 [00:03<00:08,  1.31it/s]\u001b[A\n",
            "Refining scale 2 using scale 1 ...current loss: 0.0130:  33% 5/15 [00:03<00:07,  1.29it/s]\u001b[A\n",
            "Refining scale 2 using scale 1 ...current loss: 0.0128:  33% 5/15 [00:04<00:07,  1.29it/s]\u001b[A\n",
            "Refining scale 2 using scale 1 ...current loss: 0.0128:  40% 6/15 [00:04<00:07,  1.28it/s]\u001b[A\n",
            "Refining scale 2 using scale 1 ...current loss: 0.0121:  40% 6/15 [00:05<00:07,  1.28it/s]\u001b[A\n",
            "Refining scale 2 using scale 1 ...current loss: 0.0121:  47% 7/15 [00:05<00:06,  1.28it/s]\u001b[A\n",
            "Refining scale 2 using scale 1 ...current loss: 0.0118:  47% 7/15 [00:05<00:06,  1.28it/s]\u001b[A\n",
            "Refining scale 2 using scale 1 ...current loss: 0.0118:  53% 8/15 [00:06<00:05,  1.28it/s]\u001b[A\n",
            "Refining scale 2 using scale 1 ...current loss: 0.0113:  53% 8/15 [00:06<00:05,  1.28it/s]\u001b[A\n",
            "Refining scale 2 using scale 1 ...current loss: 0.0113:  60% 9/15 [00:06<00:04,  1.27it/s]\u001b[A\n",
            "Refining scale 2 using scale 1 ...current loss: 0.0110:  60% 9/15 [00:07<00:04,  1.27it/s]\u001b[A\n",
            "Refining scale 2 using scale 1 ...current loss: 0.0110:  67% 10/15 [00:07<00:03,  1.27it/s]\u001b[A\n",
            "Refining scale 2 using scale 1 ...current loss: 0.0106:  67% 10/15 [00:08<00:03,  1.27it/s]\u001b[A\n",
            "Refining scale 2 using scale 1 ...current loss: 0.0106:  73% 11/15 [00:08<00:03,  1.27it/s]\u001b[A\n",
            "Refining scale 2 using scale 1 ...current loss: 0.0103:  73% 11/15 [00:09<00:03,  1.27it/s]\u001b[A\n",
            "Refining scale 2 using scale 1 ...current loss: 0.0103:  80% 12/15 [00:09<00:02,  1.27it/s]\u001b[A\n",
            "Refining scale 2 using scale 1 ...current loss: 0.0100:  80% 12/15 [00:09<00:02,  1.27it/s]\u001b[A\n",
            "Refining scale 2 using scale 1 ...current loss: 0.0100:  87% 13/15 [00:10<00:01,  1.27it/s]\u001b[A\n",
            "Refining scale 2 using scale 1 ...current loss: 0.0097:  87% 13/15 [00:10<00:01,  1.27it/s]\u001b[A\n",
            "Refining scale 2 using scale 1 ...current loss: 0.0097:  93% 14/15 [00:10<00:00,  1.27it/s]\u001b[A\n",
            "Refining scale 2 using scale 1 ...current loss: 0.0094:  93% 14/15 [00:11<00:00,  1.27it/s]\u001b[A\n",
            "Refining scale 2 using scale 1 ...current loss: 0.0094: 100% 15/15 [00:11<00:00,  1.42it/s]\u001b[A\n",
            " 88% 656/746 [2:08:06<17:32, 11.69s/it]\n",
            "  0% 0/15 [00:00<?, ?it/s]\u001b[A\n",
            "                          \u001b[A\n",
            "  0% 0/15 [00:00<?, ?it/s]\u001b[A\n",
            "Refining scale 2 using scale 1 ...current loss: nan:   0% 0/15 [00:00<?, ?it/s]\u001b[A\n",
            "Refining scale 2 using scale 1 ...current loss: nan:   7% 1/15 [00:00<00:08,  1.58it/s]\u001b[A\n",
            "Refining scale 2 using scale 1 ...current loss: nan:   7% 1/15 [00:01<00:08,  1.58it/s]\u001b[A\n",
            "Refining scale 2 using scale 1 ...current loss: nan:  13% 2/15 [00:01<00:09,  1.38it/s]\u001b[A\n",
            "Refining scale 2 using scale 1 ...current loss: nan:  13% 2/15 [00:01<00:09,  1.38it/s]\u001b[A\n",
            "Refining scale 2 using scale 1 ...current loss: nan:  20% 3/15 [00:02<00:09,  1.33it/s]\u001b[A\n",
            "Refining scale 2 using scale 1 ...current loss: nan:  20% 3/15 [00:02<00:09,  1.33it/s]\u001b[A\n",
            "Refining scale 2 using scale 1 ...current loss: nan:  27% 4/15 [00:02<00:08,  1.31it/s]\u001b[A\n",
            "Refining scale 2 using scale 1 ...current loss: nan:  27% 4/15 [00:03<00:08,  1.31it/s]\u001b[A\n",
            "Refining scale 2 using scale 1 ...current loss: nan:  33% 5/15 [00:03<00:07,  1.30it/s]\u001b[A\n",
            "Refining scale 2 using scale 1 ...current loss: nan:  33% 5/15 [00:04<00:07,  1.30it/s]\u001b[A\n",
            "Refining scale 2 using scale 1 ...current loss: nan:  40% 6/15 [00:04<00:06,  1.29it/s]\u001b[A\n",
            "Refining scale 2 using scale 1 ...current loss: nan:  40% 6/15 [00:05<00:06,  1.29it/s]\u001b[A\n",
            "Refining scale 2 using scale 1 ...current loss: nan:  47% 7/15 [00:05<00:06,  1.29it/s]\u001b[A\n",
            "Refining scale 2 using scale 1 ...current loss: nan:  47% 7/15 [00:05<00:06,  1.29it/s]\u001b[A\n",
            "Refining scale 2 using scale 1 ...current loss: nan:  53% 8/15 [00:06<00:05,  1.28it/s]\u001b[A\n",
            "Refining scale 2 using scale 1 ...current loss: nan:  53% 8/15 [00:06<00:05,  1.28it/s]\u001b[A\n",
            "Refining scale 2 using scale 1 ...current loss: nan:  60% 9/15 [00:06<00:04,  1.28it/s]\u001b[A\n",
            "Refining scale 2 using scale 1 ...current loss: nan:  60% 9/15 [00:07<00:04,  1.28it/s]\u001b[A\n",
            "Refining scale 2 using scale 1 ...current loss: nan:  67% 10/15 [00:07<00:03,  1.28it/s]\u001b[A\n",
            "Refining scale 2 using scale 1 ...current loss: nan:  67% 10/15 [00:08<00:03,  1.28it/s]\u001b[A\n",
            "Refining scale 2 using scale 1 ...current loss: nan:  73% 11/15 [00:08<00:03,  1.28it/s]\u001b[A\n",
            "Refining scale 2 using scale 1 ...current loss: nan:  73% 11/15 [00:08<00:03,  1.28it/s]\u001b[A\n",
            "Refining scale 2 using scale 1 ...current loss: nan:  80% 12/15 [00:09<00:02,  1.27it/s]\u001b[A\n",
            "Refining scale 2 using scale 1 ...current loss: nan:  80% 12/15 [00:09<00:02,  1.27it/s]\u001b[A\n",
            "Refining scale 2 using scale 1 ...current loss: nan:  87% 13/15 [00:10<00:01,  1.27it/s]\u001b[A\n",
            "Refining scale 2 using scale 1 ...current loss: nan:  87% 13/15 [00:10<00:01,  1.27it/s]\u001b[A\n",
            "Refining scale 2 using scale 1 ...current loss: nan:  93% 14/15 [00:10<00:00,  1.27it/s]\u001b[A\n",
            "Refining scale 2 using scale 1 ...current loss: nan:  93% 14/15 [00:11<00:00,  1.27it/s]\u001b[A\n",
            "Refining scale 2 using scale 1 ...current loss: nan: 100% 15/15 [00:11<00:00,  1.42it/s]\u001b[A\n",
            " 88% 657/746 [2:08:18<17:19, 11.68s/it]\n",
            "  0% 0/15 [00:00<?, ?it/s]\u001b[A\n",
            "                          \u001b[A\n",
            "  0% 0/15 [00:00<?, ?it/s]\u001b[A\n",
            "Refining scale 2 using scale 1 ...current loss: nan:   0% 0/15 [00:00<?, ?it/s]\u001b[A\n",
            "Refining scale 2 using scale 1 ...current loss: nan:   7% 1/15 [00:00<00:08,  1.58it/s]\u001b[A\n",
            "Refining scale 2 using scale 1 ...current loss: nan:   7% 1/15 [00:01<00:08,  1.58it/s]\u001b[A\n",
            "Refining scale 2 using scale 1 ...current loss: nan:  13% 2/15 [00:01<00:09,  1.38it/s]\u001b[A\n",
            "Refining scale 2 using scale 1 ...current loss: nan:  13% 2/15 [00:01<00:09,  1.38it/s]\u001b[A\n",
            "Refining scale 2 using scale 1 ...current loss: nan:  20% 3/15 [00:02<00:09,  1.33it/s]\u001b[A\n",
            "Refining scale 2 using scale 1 ...current loss: nan:  20% 3/15 [00:02<00:09,  1.33it/s]\u001b[A\n",
            "Refining scale 2 using scale 1 ...current loss: nan:  27% 4/15 [00:02<00:08,  1.31it/s]\u001b[A\n",
            "Refining scale 2 using scale 1 ...current loss: nan:  27% 4/15 [00:03<00:08,  1.31it/s]\u001b[A\n",
            "Refining scale 2 using scale 1 ...current loss: nan:  33% 5/15 [00:03<00:07,  1.29it/s]\u001b[A\n",
            "Refining scale 2 using scale 1 ...current loss: nan:  33% 5/15 [00:04<00:07,  1.29it/s]\u001b[A\n",
            "Refining scale 2 using scale 1 ...current loss: nan:  40% 6/15 [00:04<00:06,  1.29it/s]\u001b[A\n",
            "Refining scale 2 using scale 1 ...current loss: nan:  40% 6/15 [00:05<00:06,  1.29it/s]\u001b[A\n",
            "Refining scale 2 using scale 1 ...current loss: nan:  47% 7/15 [00:05<00:06,  1.28it/s]\u001b[A\n",
            "Refining scale 2 using scale 1 ...current loss: nan:  47% 7/15 [00:05<00:06,  1.28it/s]\u001b[A\n",
            "Refining scale 2 using scale 1 ...current loss: nan:  53% 8/15 [00:06<00:05,  1.28it/s]\u001b[A\n",
            "Refining scale 2 using scale 1 ...current loss: nan:  53% 8/15 [00:06<00:05,  1.28it/s]\u001b[A\n",
            "Refining scale 2 using scale 1 ...current loss: nan:  60% 9/15 [00:06<00:04,  1.28it/s]\u001b[A\n",
            "Refining scale 2 using scale 1 ...current loss: nan:  60% 9/15 [00:07<00:04,  1.28it/s]\u001b[A\n",
            "Refining scale 2 using scale 1 ...current loss: nan:  67% 10/15 [00:07<00:03,  1.28it/s]\u001b[A\n",
            "Refining scale 2 using scale 1 ...current loss: nan:  67% 10/15 [00:08<00:03,  1.28it/s]\u001b[A\n",
            "Refining scale 2 using scale 1 ...current loss: nan:  73% 11/15 [00:08<00:03,  1.28it/s]\u001b[A\n",
            "Refining scale 2 using scale 1 ...current loss: nan:  73% 11/15 [00:09<00:03,  1.28it/s]\u001b[A\n",
            "Refining scale 2 using scale 1 ...current loss: nan:  80% 12/15 [00:09<00:02,  1.28it/s]\u001b[A\n",
            "Refining scale 2 using scale 1 ...current loss: nan:  80% 12/15 [00:09<00:02,  1.28it/s]\u001b[A\n",
            "Refining scale 2 using scale 1 ...current loss: nan:  87% 13/15 [00:10<00:01,  1.28it/s]\u001b[A\n",
            "Refining scale 2 using scale 1 ...current loss: nan:  87% 13/15 [00:10<00:01,  1.28it/s]\u001b[A\n",
            "Refining scale 2 using scale 1 ...current loss: nan:  93% 14/15 [00:10<00:00,  1.28it/s]\u001b[A\n",
            "Refining scale 2 using scale 1 ...current loss: nan:  93% 14/15 [00:11<00:00,  1.28it/s]\u001b[A\n",
            "Refining scale 2 using scale 1 ...current loss: nan: 100% 15/15 [00:11<00:00,  1.41it/s]\u001b[A\n",
            " 88% 658/746 [2:08:29<17:07, 11.67s/it]\n",
            "  0% 0/15 [00:00<?, ?it/s]\u001b[A\n",
            "                          \u001b[A\n",
            "  0% 0/15 [00:00<?, ?it/s]\u001b[A\n",
            "Refining scale 2 using scale 1 ...current loss: 0.0899:   0% 0/15 [00:00<?, ?it/s]\u001b[A\n",
            "Refining scale 2 using scale 1 ...current loss: 0.0899:   7% 1/15 [00:00<00:09,  1.55it/s]\u001b[A\n",
            "Refining scale 2 using scale 1 ...current loss: 0.0643:   7% 1/15 [00:01<00:09,  1.55it/s]\u001b[A\n",
            "Refining scale 2 using scale 1 ...current loss: 0.0643:  13% 2/15 [00:01<00:09,  1.37it/s]\u001b[A\n",
            "Refining scale 2 using scale 1 ...current loss: 0.0497:  13% 2/15 [00:01<00:09,  1.37it/s]\u001b[A\n",
            "Refining scale 2 using scale 1 ...current loss: 0.0497:  20% 3/15 [00:02<00:09,  1.32it/s]\u001b[A\n",
            "Refining scale 2 using scale 1 ...current loss: 0.0458:  20% 3/15 [00:02<00:09,  1.32it/s]\u001b[A\n",
            "Refining scale 2 using scale 1 ...current loss: 0.0458:  27% 4/15 [00:03<00:08,  1.31it/s]\u001b[A\n",
            "Refining scale 2 using scale 1 ...current loss: 0.0429:  27% 4/15 [00:03<00:08,  1.31it/s]\u001b[A\n",
            "Refining scale 2 using scale 1 ...current loss: 0.0429:  33% 5/15 [00:03<00:07,  1.29it/s]\u001b[A\n",
            "Refining scale 2 using scale 1 ...current loss: 0.0388:  33% 5/15 [00:04<00:07,  1.29it/s]\u001b[A\n",
            "Refining scale 2 using scale 1 ...current loss: 0.0388:  40% 6/15 [00:04<00:06,  1.29it/s]\u001b[A\n",
            "Refining scale 2 using scale 1 ...current loss: 0.0363:  40% 6/15 [00:05<00:06,  1.29it/s]\u001b[A\n",
            "Refining scale 2 using scale 1 ...current loss: 0.0363:  47% 7/15 [00:05<00:06,  1.28it/s]\u001b[A\n",
            "Refining scale 2 using scale 1 ...current loss: 0.0349:  47% 7/15 [00:05<00:06,  1.28it/s]\u001b[A\n",
            "Refining scale 2 using scale 1 ...current loss: 0.0349:  53% 8/15 [00:06<00:05,  1.28it/s]\u001b[A\n",
            "Refining scale 2 using scale 1 ...current loss: 0.0336:  53% 8/15 [00:06<00:05,  1.28it/s]\u001b[A\n",
            "Refining scale 2 using scale 1 ...current loss: 0.0336:  60% 9/15 [00:06<00:04,  1.28it/s]\u001b[A\n",
            "Refining scale 2 using scale 1 ...current loss: 0.0322:  60% 9/15 [00:07<00:04,  1.28it/s]\u001b[A\n",
            "Refining scale 2 using scale 1 ...current loss: 0.0322:  67% 10/15 [00:07<00:03,  1.28it/s]\u001b[A\n",
            "Refining scale 2 using scale 1 ...current loss: 0.0303:  67% 10/15 [00:08<00:03,  1.28it/s]\u001b[A\n",
            "Refining scale 2 using scale 1 ...current loss: 0.0303:  73% 11/15 [00:08<00:03,  1.28it/s]\u001b[A\n",
            "Refining scale 2 using scale 1 ...current loss: 0.0292:  73% 11/15 [00:09<00:03,  1.28it/s]\u001b[A\n",
            "Refining scale 2 using scale 1 ...current loss: 0.0292:  80% 12/15 [00:09<00:02,  1.28it/s]\u001b[A\n",
            "Refining scale 2 using scale 1 ...current loss: 0.0282:  80% 12/15 [00:09<00:02,  1.28it/s]\u001b[A\n",
            "Refining scale 2 using scale 1 ...current loss: 0.0282:  87% 13/15 [00:10<00:01,  1.27it/s]\u001b[A\n",
            "Refining scale 2 using scale 1 ...current loss: 0.0270:  87% 13/15 [00:10<00:01,  1.27it/s]\u001b[A\n",
            "Refining scale 2 using scale 1 ...current loss: 0.0270:  93% 14/15 [00:10<00:00,  1.27it/s]\u001b[A\n",
            "Refining scale 2 using scale 1 ...current loss: 0.0259:  93% 14/15 [00:11<00:00,  1.27it/s]\u001b[A\n",
            "Refining scale 2 using scale 1 ...current loss: 0.0259: 100% 15/15 [00:11<00:00,  1.42it/s]\u001b[A\n",
            " 88% 659/746 [2:08:41<16:56, 11.69s/it]\n",
            "  0% 0/15 [00:00<?, ?it/s]\u001b[A\n",
            "                          \u001b[A\n",
            "  0% 0/15 [00:00<?, ?it/s]\u001b[A\n",
            "Refining scale 2 using scale 1 ...current loss: nan:   0% 0/15 [00:00<?, ?it/s]\u001b[A\n",
            "Refining scale 2 using scale 1 ...current loss: nan:   7% 1/15 [00:00<00:08,  1.58it/s]\u001b[A\n",
            "Refining scale 2 using scale 1 ...current loss: nan:   7% 1/15 [00:01<00:08,  1.58it/s]\u001b[A\n",
            "Refining scale 2 using scale 1 ...current loss: nan:  13% 2/15 [00:01<00:09,  1.38it/s]\u001b[A\n",
            "Refining scale 2 using scale 1 ...current loss: nan:  13% 2/15 [00:01<00:09,  1.38it/s]\u001b[A\n",
            "Refining scale 2 using scale 1 ...current loss: nan:  20% 3/15 [00:02<00:09,  1.32it/s]\u001b[A\n",
            "Refining scale 2 using scale 1 ...current loss: nan:  20% 3/15 [00:02<00:09,  1.32it/s]\u001b[A\n",
            "Refining scale 2 using scale 1 ...current loss: nan:  27% 4/15 [00:02<00:08,  1.30it/s]\u001b[A\n",
            "Refining scale 2 using scale 1 ...current loss: nan:  27% 4/15 [00:03<00:08,  1.30it/s]\u001b[A\n",
            "Refining scale 2 using scale 1 ...current loss: nan:  33% 5/15 [00:03<00:07,  1.29it/s]\u001b[A\n",
            "Refining scale 2 using scale 1 ...current loss: nan:  33% 5/15 [00:04<00:07,  1.29it/s]\u001b[A\n",
            "Refining scale 2 using scale 1 ...current loss: nan:  40% 6/15 [00:04<00:07,  1.28it/s]\u001b[A\n",
            "Refining scale 2 using scale 1 ...current loss: nan:  40% 6/15 [00:05<00:07,  1.28it/s]\u001b[A\n",
            "Refining scale 2 using scale 1 ...current loss: nan:  47% 7/15 [00:05<00:06,  1.28it/s]\u001b[A\n",
            "Refining scale 2 using scale 1 ...current loss: nan:  47% 7/15 [00:05<00:06,  1.28it/s]\u001b[A\n",
            "Refining scale 2 using scale 1 ...current loss: nan:  53% 8/15 [00:06<00:05,  1.27it/s]\u001b[A\n",
            "Refining scale 2 using scale 1 ...current loss: nan:  53% 8/15 [00:06<00:05,  1.27it/s]\u001b[A\n",
            "Refining scale 2 using scale 1 ...current loss: nan:  60% 9/15 [00:06<00:04,  1.27it/s]\u001b[A\n",
            "Refining scale 2 using scale 1 ...current loss: nan:  60% 9/15 [00:07<00:04,  1.27it/s]\u001b[A\n",
            "Refining scale 2 using scale 1 ...current loss: nan:  67% 10/15 [00:07<00:03,  1.27it/s]\u001b[A\n",
            "Refining scale 2 using scale 1 ...current loss: nan:  67% 10/15 [00:08<00:03,  1.27it/s]\u001b[A\n",
            "Refining scale 2 using scale 1 ...current loss: nan:  73% 11/15 [00:08<00:03,  1.27it/s]\u001b[A\n",
            "Refining scale 2 using scale 1 ...current loss: nan:  73% 11/15 [00:09<00:03,  1.27it/s]\u001b[A\n",
            "Refining scale 2 using scale 1 ...current loss: nan:  80% 12/15 [00:09<00:02,  1.27it/s]\u001b[A\n",
            "Refining scale 2 using scale 1 ...current loss: nan:  80% 12/15 [00:09<00:02,  1.27it/s]\u001b[A\n",
            "Refining scale 2 using scale 1 ...current loss: nan:  87% 13/15 [00:10<00:01,  1.27it/s]\u001b[A\n",
            "Refining scale 2 using scale 1 ...current loss: nan:  87% 13/15 [00:10<00:01,  1.27it/s]\u001b[A\n",
            "Refining scale 2 using scale 1 ...current loss: nan:  93% 14/15 [00:10<00:00,  1.27it/s]\u001b[A\n",
            "Refining scale 2 using scale 1 ...current loss: nan:  93% 14/15 [00:11<00:00,  1.27it/s]\u001b[A\n",
            "Refining scale 2 using scale 1 ...current loss: nan: 100% 15/15 [00:11<00:00,  1.41it/s]\u001b[A\n",
            " 88% 660/746 [2:08:53<16:44, 11.68s/it]\n",
            "  0% 0/15 [00:00<?, ?it/s]\u001b[A\n",
            "                          \u001b[A\n",
            "  0% 0/15 [00:00<?, ?it/s]\u001b[A\n",
            "Refining scale 2 using scale 1 ...current loss: 0.0384:   0% 0/15 [00:00<?, ?it/s]\u001b[A\n",
            "Refining scale 2 using scale 1 ...current loss: 0.0384:   7% 1/15 [00:00<00:08,  1.57it/s]\u001b[A\n",
            "Refining scale 2 using scale 1 ...current loss: 0.0287:   7% 1/15 [00:01<00:08,  1.57it/s]\u001b[A\n",
            "Refining scale 2 using scale 1 ...current loss: 0.0287:  13% 2/15 [00:01<00:09,  1.38it/s]\u001b[A\n",
            "Refining scale 2 using scale 1 ...current loss: 0.0244:  13% 2/15 [00:01<00:09,  1.38it/s]\u001b[A\n",
            "Refining scale 2 using scale 1 ...current loss: 0.0244:  20% 3/15 [00:02<00:09,  1.33it/s]\u001b[A\n",
            "Refining scale 2 using scale 1 ...current loss: 0.0227:  20% 3/15 [00:02<00:09,  1.33it/s]\u001b[A\n",
            "Refining scale 2 using scale 1 ...current loss: 0.0227:  27% 4/15 [00:02<00:08,  1.30it/s]\u001b[A\n",
            "Refining scale 2 using scale 1 ...current loss: 0.0215:  27% 4/15 [00:03<00:08,  1.30it/s]\u001b[A\n",
            "Refining scale 2 using scale 1 ...current loss: 0.0215:  33% 5/15 [00:03<00:07,  1.29it/s]\u001b[A\n",
            "Refining scale 2 using scale 1 ...current loss: 0.0208:  33% 5/15 [00:04<00:07,  1.29it/s]\u001b[A\n",
            "Refining scale 2 using scale 1 ...current loss: 0.0208:  40% 6/15 [00:04<00:06,  1.29it/s]\u001b[A\n",
            "Refining scale 2 using scale 1 ...current loss: 0.0200:  40% 6/15 [00:05<00:06,  1.29it/s]\u001b[A\n",
            "Refining scale 2 using scale 1 ...current loss: 0.0200:  47% 7/15 [00:05<00:06,  1.28it/s]\u001b[A\n",
            "Refining scale 2 using scale 1 ...current loss: 0.0193:  47% 7/15 [00:05<00:06,  1.28it/s]\u001b[A\n",
            "Refining scale 2 using scale 1 ...current loss: 0.0193:  53% 8/15 [00:06<00:05,  1.28it/s]\u001b[A\n",
            "Refining scale 2 using scale 1 ...current loss: 0.0186:  53% 8/15 [00:06<00:05,  1.28it/s]\u001b[A\n",
            "Refining scale 2 using scale 1 ...current loss: 0.0186:  60% 9/15 [00:06<00:04,  1.27it/s]\u001b[A\n",
            "Refining scale 2 using scale 1 ...current loss: 0.0180:  60% 9/15 [00:07<00:04,  1.27it/s]\u001b[A\n",
            "Refining scale 2 using scale 1 ...current loss: 0.0180:  67% 10/15 [00:07<00:03,  1.27it/s]\u001b[A\n",
            "Refining scale 2 using scale 1 ...current loss: 0.0175:  67% 10/15 [00:08<00:03,  1.27it/s]\u001b[A\n",
            "Refining scale 2 using scale 1 ...current loss: 0.0175:  73% 11/15 [00:08<00:03,  1.27it/s]\u001b[A\n",
            "Refining scale 2 using scale 1 ...current loss: 0.0169:  73% 11/15 [00:09<00:03,  1.27it/s]\u001b[A\n",
            "Refining scale 2 using scale 1 ...current loss: 0.0169:  80% 12/15 [00:09<00:02,  1.27it/s]\u001b[A\n",
            "Refining scale 2 using scale 1 ...current loss: 0.0162:  80% 12/15 [00:09<00:02,  1.27it/s]\u001b[A\n",
            "Refining scale 2 using scale 1 ...current loss: 0.0162:  87% 13/15 [00:10<00:01,  1.27it/s]\u001b[A\n",
            "Refining scale 2 using scale 1 ...current loss: 0.0157:  87% 13/15 [00:10<00:01,  1.27it/s]\u001b[A\n",
            "Refining scale 2 using scale 1 ...current loss: 0.0157:  93% 14/15 [00:10<00:00,  1.27it/s]\u001b[A\n",
            "Refining scale 2 using scale 1 ...current loss: 0.0151:  93% 14/15 [00:11<00:00,  1.27it/s]\u001b[A\n",
            "Refining scale 2 using scale 1 ...current loss: 0.0151: 100% 15/15 [00:11<00:00,  1.41it/s]\u001b[A\n",
            " 89% 661/746 [2:09:04<16:32, 11.68s/it]\n",
            "  0% 0/15 [00:00<?, ?it/s]\u001b[A\n",
            "                          \u001b[A\n",
            "  0% 0/15 [00:00<?, ?it/s]\u001b[A\n",
            "Refining scale 2 using scale 1 ...current loss: 0.0852:   0% 0/15 [00:00<?, ?it/s]\u001b[A\n",
            "Refining scale 2 using scale 1 ...current loss: 0.0852:   7% 1/15 [00:00<00:08,  1.59it/s]\u001b[A\n",
            "Refining scale 2 using scale 1 ...current loss: 0.0759:   7% 1/15 [00:01<00:08,  1.59it/s]\u001b[A\n",
            "Refining scale 2 using scale 1 ...current loss: 0.0759:  13% 2/15 [00:01<00:09,  1.38it/s]\u001b[A\n",
            "Refining scale 2 using scale 1 ...current loss: 0.0658:  13% 2/15 [00:01<00:09,  1.38it/s]\u001b[A\n",
            "Refining scale 2 using scale 1 ...current loss: 0.0658:  20% 3/15 [00:02<00:09,  1.33it/s]\u001b[A\n",
            "Refining scale 2 using scale 1 ...current loss: 0.0611:  20% 3/15 [00:02<00:09,  1.33it/s]\u001b[A\n",
            "Refining scale 2 using scale 1 ...current loss: 0.0611:  27% 4/15 [00:02<00:08,  1.31it/s]\u001b[A\n",
            "Refining scale 2 using scale 1 ...current loss: 0.0548:  27% 4/15 [00:03<00:08,  1.31it/s]\u001b[A\n",
            "Refining scale 2 using scale 1 ...current loss: 0.0548:  33% 5/15 [00:03<00:07,  1.30it/s]\u001b[A\n",
            "Refining scale 2 using scale 1 ...current loss: 0.0512:  33% 5/15 [00:04<00:07,  1.30it/s]\u001b[A\n",
            "Refining scale 2 using scale 1 ...current loss: 0.0512:  40% 6/15 [00:04<00:06,  1.29it/s]\u001b[A\n",
            "Refining scale 2 using scale 1 ...current loss: 0.0473:  40% 6/15 [00:05<00:06,  1.29it/s]\u001b[A\n",
            "Refining scale 2 using scale 1 ...current loss: 0.0473:  47% 7/15 [00:05<00:06,  1.28it/s]\u001b[A\n",
            "Refining scale 2 using scale 1 ...current loss: 0.0446:  47% 7/15 [00:05<00:06,  1.28it/s]\u001b[A\n",
            "Refining scale 2 using scale 1 ...current loss: 0.0446:  53% 8/15 [00:06<00:05,  1.28it/s]\u001b[A\n",
            "Refining scale 2 using scale 1 ...current loss: 0.0425:  53% 8/15 [00:06<00:05,  1.28it/s]\u001b[A\n",
            "Refining scale 2 using scale 1 ...current loss: 0.0425:  60% 9/15 [00:06<00:04,  1.28it/s]\u001b[A\n",
            "Refining scale 2 using scale 1 ...current loss: 0.0405:  60% 9/15 [00:07<00:04,  1.28it/s]\u001b[A\n",
            "Refining scale 2 using scale 1 ...current loss: 0.0405:  67% 10/15 [00:07<00:03,  1.28it/s]\u001b[A\n",
            "Refining scale 2 using scale 1 ...current loss: 0.0391:  67% 10/15 [00:08<00:03,  1.28it/s]\u001b[A\n",
            "Refining scale 2 using scale 1 ...current loss: 0.0391:  73% 11/15 [00:08<00:03,  1.28it/s]\u001b[A\n",
            "Refining scale 2 using scale 1 ...current loss: 0.0379:  73% 11/15 [00:09<00:03,  1.28it/s]\u001b[A\n",
            "Refining scale 2 using scale 1 ...current loss: 0.0379:  80% 12/15 [00:09<00:02,  1.27it/s]\u001b[A\n",
            "Refining scale 2 using scale 1 ...current loss: 0.0368:  80% 12/15 [00:09<00:02,  1.27it/s]\u001b[A\n",
            "Refining scale 2 using scale 1 ...current loss: 0.0368:  87% 13/15 [00:10<00:01,  1.27it/s]\u001b[A\n",
            "Refining scale 2 using scale 1 ...current loss: 0.0358:  87% 13/15 [00:10<00:01,  1.27it/s]\u001b[A\n",
            "Refining scale 2 using scale 1 ...current loss: 0.0358:  93% 14/15 [00:10<00:00,  1.27it/s]\u001b[A\n",
            "Refining scale 2 using scale 1 ...current loss: 0.0350:  93% 14/15 [00:11<00:00,  1.27it/s]\u001b[A\n",
            "Refining scale 2 using scale 1 ...current loss: 0.0350: 100% 15/15 [00:11<00:00,  1.41it/s]\u001b[A\n",
            " 89% 662/746 [2:09:16<16:21, 11.68s/it]\n",
            "  0% 0/15 [00:00<?, ?it/s]\u001b[A\n",
            "                          \u001b[A\n",
            "  0% 0/15 [00:00<?, ?it/s]\u001b[A\n",
            "Refining scale 2 using scale 1 ...current loss: 0.0766:   0% 0/15 [00:00<?, ?it/s]\u001b[A\n",
            "Refining scale 2 using scale 1 ...current loss: 0.0766:   7% 1/15 [00:00<00:08,  1.56it/s]\u001b[A\n",
            "Refining scale 2 using scale 1 ...current loss: 0.0674:   7% 1/15 [00:01<00:08,  1.56it/s]\u001b[A\n",
            "Refining scale 2 using scale 1 ...current loss: 0.0674:  13% 2/15 [00:01<00:09,  1.37it/s]\u001b[A\n",
            "Refining scale 2 using scale 1 ...current loss: 0.0616:  13% 2/15 [00:01<00:09,  1.37it/s]\u001b[A\n",
            "Refining scale 2 using scale 1 ...current loss: 0.0616:  20% 3/15 [00:02<00:09,  1.33it/s]\u001b[A\n",
            "Refining scale 2 using scale 1 ...current loss: 0.0580:  20% 3/15 [00:02<00:09,  1.33it/s]\u001b[A\n",
            "Refining scale 2 using scale 1 ...current loss: 0.0580:  27% 4/15 [00:02<00:08,  1.31it/s]\u001b[A\n",
            "Refining scale 2 using scale 1 ...current loss: 0.0548:  27% 4/15 [00:03<00:08,  1.31it/s]\u001b[A\n",
            "Refining scale 2 using scale 1 ...current loss: 0.0548:  33% 5/15 [00:03<00:07,  1.29it/s]\u001b[A\n",
            "Refining scale 2 using scale 1 ...current loss: 0.0519:  33% 5/15 [00:04<00:07,  1.29it/s]\u001b[A\n",
            "Refining scale 2 using scale 1 ...current loss: 0.0519:  40% 6/15 [00:04<00:06,  1.29it/s]\u001b[A\n",
            "Refining scale 2 using scale 1 ...current loss: 0.0493:  40% 6/15 [00:05<00:06,  1.29it/s]\u001b[A\n",
            "Refining scale 2 using scale 1 ...current loss: 0.0493:  47% 7/15 [00:05<00:06,  1.28it/s]\u001b[A\n",
            "Refining scale 2 using scale 1 ...current loss: 0.0477:  47% 7/15 [00:05<00:06,  1.28it/s]\u001b[A\n",
            "Refining scale 2 using scale 1 ...current loss: 0.0477:  53% 8/15 [00:06<00:05,  1.28it/s]\u001b[A\n",
            "Refining scale 2 using scale 1 ...current loss: 0.0461:  53% 8/15 [00:06<00:05,  1.28it/s]\u001b[A\n",
            "Refining scale 2 using scale 1 ...current loss: 0.0461:  60% 9/15 [00:06<00:04,  1.28it/s]\u001b[A\n",
            "Refining scale 2 using scale 1 ...current loss: 0.0444:  60% 9/15 [00:07<00:04,  1.28it/s]\u001b[A\n",
            "Refining scale 2 using scale 1 ...current loss: 0.0444:  67% 10/15 [00:07<00:03,  1.28it/s]\u001b[A\n",
            "Refining scale 2 using scale 1 ...current loss: 0.0429:  67% 10/15 [00:08<00:03,  1.28it/s]\u001b[A\n",
            "Refining scale 2 using scale 1 ...current loss: 0.0429:  73% 11/15 [00:08<00:03,  1.28it/s]\u001b[A\n",
            "Refining scale 2 using scale 1 ...current loss: 0.0417:  73% 11/15 [00:09<00:03,  1.28it/s]\u001b[A\n",
            "Refining scale 2 using scale 1 ...current loss: 0.0417:  80% 12/15 [00:09<00:02,  1.28it/s]\u001b[A\n",
            "Refining scale 2 using scale 1 ...current loss: 0.0406:  80% 12/15 [00:09<00:02,  1.28it/s]\u001b[A\n",
            "Refining scale 2 using scale 1 ...current loss: 0.0406:  87% 13/15 [00:10<00:01,  1.28it/s]\u001b[A\n",
            "Refining scale 2 using scale 1 ...current loss: 0.0395:  87% 13/15 [00:10<00:01,  1.28it/s]\u001b[A\n",
            "Refining scale 2 using scale 1 ...current loss: 0.0395:  93% 14/15 [00:10<00:00,  1.27it/s]\u001b[A\n",
            "Refining scale 2 using scale 1 ...current loss: 0.0386:  93% 14/15 [00:11<00:00,  1.27it/s]\u001b[A\n",
            "Refining scale 2 using scale 1 ...current loss: 0.0386: 100% 15/15 [00:11<00:00,  1.42it/s]\u001b[A\n",
            " 89% 663/746 [2:09:28<16:10, 11.69s/it]\n",
            "  0% 0/15 [00:00<?, ?it/s]\u001b[A\n",
            "                          \u001b[A\n",
            "  0% 0/15 [00:00<?, ?it/s]\u001b[A\n",
            "Refining scale 2 using scale 1 ...current loss: 0.0672:   0% 0/15 [00:00<?, ?it/s]\u001b[A\n",
            "Refining scale 2 using scale 1 ...current loss: 0.0672:   7% 1/15 [00:00<00:08,  1.57it/s]\u001b[A\n",
            "Refining scale 2 using scale 1 ...current loss: 0.0441:   7% 1/15 [00:01<00:08,  1.57it/s]\u001b[A\n",
            "Refining scale 2 using scale 1 ...current loss: 0.0441:  13% 2/15 [00:01<00:09,  1.38it/s]\u001b[A\n",
            "Refining scale 2 using scale 1 ...current loss: 0.0416:  13% 2/15 [00:01<00:09,  1.38it/s]\u001b[A\n",
            "Refining scale 2 using scale 1 ...current loss: 0.0416:  20% 3/15 [00:02<00:09,  1.33it/s]\u001b[A\n",
            "Refining scale 2 using scale 1 ...current loss: 0.0389:  20% 3/15 [00:02<00:09,  1.33it/s]\u001b[A\n",
            "Refining scale 2 using scale 1 ...current loss: 0.0389:  27% 4/15 [00:02<00:08,  1.31it/s]\u001b[A\n",
            "Refining scale 2 using scale 1 ...current loss: 0.0357:  27% 4/15 [00:03<00:08,  1.31it/s]\u001b[A\n",
            "Refining scale 2 using scale 1 ...current loss: 0.0357:  33% 5/15 [00:03<00:07,  1.29it/s]\u001b[A\n",
            "Refining scale 2 using scale 1 ...current loss: 0.0335:  33% 5/15 [00:04<00:07,  1.29it/s]\u001b[A\n",
            "Refining scale 2 using scale 1 ...current loss: 0.0335:  40% 6/15 [00:04<00:07,  1.28it/s]\u001b[A\n",
            "Refining scale 2 using scale 1 ...current loss: 0.0316:  40% 6/15 [00:05<00:07,  1.28it/s]\u001b[A\n",
            "Refining scale 2 using scale 1 ...current loss: 0.0316:  47% 7/15 [00:05<00:06,  1.28it/s]\u001b[A\n",
            "Refining scale 2 using scale 1 ...current loss: 0.0307:  47% 7/15 [00:05<00:06,  1.28it/s]\u001b[A\n",
            "Refining scale 2 using scale 1 ...current loss: 0.0307:  53% 8/15 [00:06<00:05,  1.27it/s]\u001b[A\n",
            "Refining scale 2 using scale 1 ...current loss: 0.0296:  53% 8/15 [00:06<00:05,  1.27it/s]\u001b[A\n",
            "Refining scale 2 using scale 1 ...current loss: 0.0296:  60% 9/15 [00:06<00:04,  1.27it/s]\u001b[A\n",
            "Refining scale 2 using scale 1 ...current loss: 0.0285:  60% 9/15 [00:07<00:04,  1.27it/s]\u001b[A\n",
            "Refining scale 2 using scale 1 ...current loss: 0.0285:  67% 10/15 [00:07<00:03,  1.28it/s]\u001b[A\n",
            "Refining scale 2 using scale 1 ...current loss: 0.0279:  67% 10/15 [00:08<00:03,  1.28it/s]\u001b[A\n",
            "Refining scale 2 using scale 1 ...current loss: 0.0279:  73% 11/15 [00:08<00:03,  1.27it/s]\u001b[A\n",
            "Refining scale 2 using scale 1 ...current loss: 0.0272:  73% 11/15 [00:09<00:03,  1.27it/s]\u001b[A\n",
            "Refining scale 2 using scale 1 ...current loss: 0.0272:  80% 12/15 [00:09<00:02,  1.27it/s]\u001b[A\n",
            "Refining scale 2 using scale 1 ...current loss: 0.0264:  80% 12/15 [00:09<00:02,  1.27it/s]\u001b[A\n",
            "Refining scale 2 using scale 1 ...current loss: 0.0264:  87% 13/15 [00:10<00:01,  1.27it/s]\u001b[A\n",
            "Refining scale 2 using scale 1 ...current loss: 0.0259:  87% 13/15 [00:10<00:01,  1.27it/s]\u001b[A\n",
            "Refining scale 2 using scale 1 ...current loss: 0.0259:  93% 14/15 [00:10<00:00,  1.28it/s]\u001b[A\n",
            "Refining scale 2 using scale 1 ...current loss: 0.0251:  93% 14/15 [00:11<00:00,  1.28it/s]\u001b[A\n",
            "Refining scale 2 using scale 1 ...current loss: 0.0251: 100% 15/15 [00:11<00:00,  1.42it/s]\u001b[A\n",
            " 89% 664/746 [2:09:39<15:57, 11.68s/it]\n",
            "  0% 0/15 [00:00<?, ?it/s]\u001b[A\n",
            "                          \u001b[A\n",
            "  0% 0/15 [00:00<?, ?it/s]\u001b[A\n",
            "Refining scale 2 using scale 1 ...current loss: 0.0776:   0% 0/15 [00:00<?, ?it/s]\u001b[A\n",
            "Refining scale 2 using scale 1 ...current loss: 0.0776:   7% 1/15 [00:00<00:08,  1.58it/s]\u001b[A\n",
            "Refining scale 2 using scale 1 ...current loss: 0.0570:   7% 1/15 [00:01<00:08,  1.58it/s]\u001b[A\n",
            "Refining scale 2 using scale 1 ...current loss: 0.0570:  13% 2/15 [00:01<00:09,  1.38it/s]\u001b[A\n",
            "Refining scale 2 using scale 1 ...current loss: 0.0549:  13% 2/15 [00:01<00:09,  1.38it/s]\u001b[A\n",
            "Refining scale 2 using scale 1 ...current loss: 0.0549:  20% 3/15 [00:02<00:09,  1.33it/s]\u001b[A\n",
            "Refining scale 2 using scale 1 ...current loss: 0.0515:  20% 3/15 [00:02<00:09,  1.33it/s]\u001b[A\n",
            "Refining scale 2 using scale 1 ...current loss: 0.0515:  27% 4/15 [00:02<00:08,  1.31it/s]\u001b[A\n",
            "Refining scale 2 using scale 1 ...current loss: 0.0508:  27% 4/15 [00:03<00:08,  1.31it/s]\u001b[A\n",
            "Refining scale 2 using scale 1 ...current loss: 0.0508:  33% 5/15 [00:03<00:07,  1.30it/s]\u001b[A\n",
            "Refining scale 2 using scale 1 ...current loss: 0.0485:  33% 5/15 [00:04<00:07,  1.30it/s]\u001b[A\n",
            "Refining scale 2 using scale 1 ...current loss: 0.0485:  40% 6/15 [00:04<00:06,  1.29it/s]\u001b[A\n",
            "Refining scale 2 using scale 1 ...current loss: 0.0461:  40% 6/15 [00:05<00:06,  1.29it/s]\u001b[A\n",
            "Refining scale 2 using scale 1 ...current loss: 0.0461:  47% 7/15 [00:05<00:06,  1.29it/s]\u001b[A\n",
            "Refining scale 2 using scale 1 ...current loss: 0.0454:  47% 7/15 [00:05<00:06,  1.29it/s]\u001b[A\n",
            "Refining scale 2 using scale 1 ...current loss: 0.0454:  53% 8/15 [00:06<00:05,  1.28it/s]\u001b[A\n",
            "Refining scale 2 using scale 1 ...current loss: 0.0447:  53% 8/15 [00:06<00:05,  1.28it/s]\u001b[A\n",
            "Refining scale 2 using scale 1 ...current loss: 0.0447:  60% 9/15 [00:06<00:04,  1.28it/s]\u001b[A\n",
            "Refining scale 2 using scale 1 ...current loss: 0.0434:  60% 9/15 [00:07<00:04,  1.28it/s]\u001b[A\n",
            "Refining scale 2 using scale 1 ...current loss: 0.0434:  67% 10/15 [00:07<00:03,  1.27it/s]\u001b[A\n",
            "Refining scale 2 using scale 1 ...current loss: 0.0418:  67% 10/15 [00:08<00:03,  1.27it/s]\u001b[A\n",
            "Refining scale 2 using scale 1 ...current loss: 0.0418:  73% 11/15 [00:08<00:03,  1.27it/s]\u001b[A\n",
            "Refining scale 2 using scale 1 ...current loss: 0.0406:  73% 11/15 [00:09<00:03,  1.27it/s]\u001b[A\n",
            "Refining scale 2 using scale 1 ...current loss: 0.0406:  80% 12/15 [00:09<00:02,  1.27it/s]\u001b[A\n",
            "Refining scale 2 using scale 1 ...current loss: 0.0398:  80% 12/15 [00:09<00:02,  1.27it/s]\u001b[A\n",
            "Refining scale 2 using scale 1 ...current loss: 0.0398:  87% 13/15 [00:10<00:01,  1.27it/s]\u001b[A\n",
            "Refining scale 2 using scale 1 ...current loss: 0.0387:  87% 13/15 [00:10<00:01,  1.27it/s]\u001b[A\n",
            "Refining scale 2 using scale 1 ...current loss: 0.0387:  93% 14/15 [00:10<00:00,  1.27it/s]\u001b[A\n",
            "Refining scale 2 using scale 1 ...current loss: 0.0376:  93% 14/15 [00:11<00:00,  1.27it/s]\u001b[A\n",
            "Refining scale 2 using scale 1 ...current loss: 0.0376: 100% 15/15 [00:11<00:00,  1.41it/s]\u001b[A\n",
            " 89% 665/746 [2:09:51<15:45, 11.67s/it]\n",
            "  0% 0/15 [00:00<?, ?it/s]\u001b[A\n",
            "                          \u001b[A\n",
            "  0% 0/15 [00:00<?, ?it/s]\u001b[A\n",
            "Refining scale 2 using scale 1 ...current loss: 0.0443:   0% 0/15 [00:00<?, ?it/s]\u001b[A\n",
            "Refining scale 2 using scale 1 ...current loss: 0.0443:   7% 1/15 [00:00<00:08,  1.58it/s]\u001b[A\n",
            "Refining scale 2 using scale 1 ...current loss: 0.0391:   7% 1/15 [00:01<00:08,  1.58it/s]\u001b[A\n",
            "Refining scale 2 using scale 1 ...current loss: 0.0391:  13% 2/15 [00:01<00:09,  1.38it/s]\u001b[A\n",
            "Refining scale 2 using scale 1 ...current loss: 0.0350:  13% 2/15 [00:01<00:09,  1.38it/s]\u001b[A\n",
            "Refining scale 2 using scale 1 ...current loss: 0.0350:  20% 3/15 [00:02<00:09,  1.33it/s]\u001b[A\n",
            "Refining scale 2 using scale 1 ...current loss: 0.0328:  20% 3/15 [00:02<00:09,  1.33it/s]\u001b[A\n",
            "Refining scale 2 using scale 1 ...current loss: 0.0328:  27% 4/15 [00:02<00:08,  1.31it/s]\u001b[A\n",
            "Refining scale 2 using scale 1 ...current loss: 0.0309:  27% 4/15 [00:03<00:08,  1.31it/s]\u001b[A\n",
            "Refining scale 2 using scale 1 ...current loss: 0.0309:  33% 5/15 [00:03<00:07,  1.30it/s]\u001b[A\n",
            "Refining scale 2 using scale 1 ...current loss: 0.0289:  33% 5/15 [00:04<00:07,  1.30it/s]\u001b[A\n",
            "Refining scale 2 using scale 1 ...current loss: 0.0289:  40% 6/15 [00:04<00:06,  1.29it/s]\u001b[A\n",
            "Refining scale 2 using scale 1 ...current loss: 0.0276:  40% 6/15 [00:05<00:06,  1.29it/s]\u001b[A\n",
            "Refining scale 2 using scale 1 ...current loss: 0.0276:  47% 7/15 [00:05<00:06,  1.29it/s]\u001b[A\n",
            "Refining scale 2 using scale 1 ...current loss: 0.0263:  47% 7/15 [00:05<00:06,  1.29it/s]\u001b[A\n",
            "Refining scale 2 using scale 1 ...current loss: 0.0263:  53% 8/15 [00:06<00:05,  1.28it/s]\u001b[A\n",
            "Refining scale 2 using scale 1 ...current loss: 0.0252:  53% 8/15 [00:06<00:05,  1.28it/s]\u001b[A\n",
            "Refining scale 2 using scale 1 ...current loss: 0.0252:  60% 9/15 [00:06<00:04,  1.28it/s]\u001b[A\n",
            "Refining scale 2 using scale 1 ...current loss: 0.0243:  60% 9/15 [00:07<00:04,  1.28it/s]\u001b[A\n",
            "Refining scale 2 using scale 1 ...current loss: 0.0243:  67% 10/15 [00:07<00:03,  1.28it/s]\u001b[A\n",
            "Refining scale 2 using scale 1 ...current loss: 0.0235:  67% 10/15 [00:08<00:03,  1.28it/s]\u001b[A\n",
            "Refining scale 2 using scale 1 ...current loss: 0.0235:  73% 11/15 [00:08<00:03,  1.28it/s]\u001b[A\n",
            "Refining scale 2 using scale 1 ...current loss: 0.0228:  73% 11/15 [00:09<00:03,  1.28it/s]\u001b[A\n",
            "Refining scale 2 using scale 1 ...current loss: 0.0228:  80% 12/15 [00:09<00:02,  1.27it/s]\u001b[A\n",
            "Refining scale 2 using scale 1 ...current loss: 0.0221:  80% 12/15 [00:09<00:02,  1.27it/s]\u001b[A\n",
            "Refining scale 2 using scale 1 ...current loss: 0.0221:  87% 13/15 [00:10<00:01,  1.27it/s]\u001b[A\n",
            "Refining scale 2 using scale 1 ...current loss: 0.0215:  87% 13/15 [00:10<00:01,  1.27it/s]\u001b[A\n",
            "Refining scale 2 using scale 1 ...current loss: 0.0215:  93% 14/15 [00:10<00:00,  1.27it/s]\u001b[A\n",
            "Refining scale 2 using scale 1 ...current loss: 0.0210:  93% 14/15 [00:11<00:00,  1.27it/s]\u001b[A\n",
            "Refining scale 2 using scale 1 ...current loss: 0.0210: 100% 15/15 [00:11<00:00,  1.41it/s]\u001b[A\n",
            " 89% 666/746 [2:10:03<15:39, 11.74s/it]\n",
            "  0% 0/15 [00:00<?, ?it/s]\u001b[A\n",
            "                          \u001b[A\n",
            "  0% 0/15 [00:00<?, ?it/s]\u001b[A\n",
            "Refining scale 2 using scale 1 ...current loss: nan:   0% 0/15 [00:00<?, ?it/s]\u001b[A\n",
            "Refining scale 2 using scale 1 ...current loss: nan:   7% 1/15 [00:00<00:08,  1.56it/s]\u001b[A\n",
            "Refining scale 2 using scale 1 ...current loss: nan:   7% 1/15 [00:01<00:08,  1.56it/s]\u001b[A\n",
            "Refining scale 2 using scale 1 ...current loss: nan:  13% 2/15 [00:01<00:09,  1.37it/s]\u001b[A\n",
            "Refining scale 2 using scale 1 ...current loss: nan:  13% 2/15 [00:01<00:09,  1.37it/s]\u001b[A\n",
            "Refining scale 2 using scale 1 ...current loss: nan:  20% 3/15 [00:02<00:09,  1.33it/s]\u001b[A\n",
            "Refining scale 2 using scale 1 ...current loss: nan:  20% 3/15 [00:02<00:09,  1.33it/s]\u001b[A\n",
            "Refining scale 2 using scale 1 ...current loss: nan:  27% 4/15 [00:02<00:08,  1.31it/s]\u001b[A\n",
            "Refining scale 2 using scale 1 ...current loss: nan:  27% 4/15 [00:03<00:08,  1.31it/s]\u001b[A\n",
            "Refining scale 2 using scale 1 ...current loss: nan:  33% 5/15 [00:03<00:07,  1.30it/s]\u001b[A\n",
            "Refining scale 2 using scale 1 ...current loss: nan:  33% 5/15 [00:04<00:07,  1.30it/s]\u001b[A\n",
            "Refining scale 2 using scale 1 ...current loss: nan:  40% 6/15 [00:04<00:06,  1.29it/s]\u001b[A\n",
            "Refining scale 2 using scale 1 ...current loss: nan:  40% 6/15 [00:05<00:06,  1.29it/s]\u001b[A\n",
            "Refining scale 2 using scale 1 ...current loss: nan:  47% 7/15 [00:05<00:06,  1.29it/s]\u001b[A\n",
            "Refining scale 2 using scale 1 ...current loss: nan:  47% 7/15 [00:05<00:06,  1.29it/s]\u001b[A\n",
            "Refining scale 2 using scale 1 ...current loss: nan:  53% 8/15 [00:06<00:05,  1.28it/s]\u001b[A\n",
            "Refining scale 2 using scale 1 ...current loss: nan:  53% 8/15 [00:06<00:05,  1.28it/s]\u001b[A\n",
            "Refining scale 2 using scale 1 ...current loss: nan:  60% 9/15 [00:06<00:04,  1.28it/s]\u001b[A\n",
            "Refining scale 2 using scale 1 ...current loss: nan:  60% 9/15 [00:07<00:04,  1.28it/s]\u001b[A\n",
            "Refining scale 2 using scale 1 ...current loss: nan:  67% 10/15 [00:07<00:03,  1.28it/s]\u001b[A\n",
            "Refining scale 2 using scale 1 ...current loss: nan:  67% 10/15 [00:08<00:03,  1.28it/s]\u001b[A\n",
            "Refining scale 2 using scale 1 ...current loss: nan:  73% 11/15 [00:08<00:03,  1.28it/s]\u001b[A\n",
            "Refining scale 2 using scale 1 ...current loss: nan:  73% 11/15 [00:08<00:03,  1.28it/s]\u001b[A\n",
            "Refining scale 2 using scale 1 ...current loss: nan:  80% 12/15 [00:09<00:02,  1.28it/s]\u001b[A\n",
            "Refining scale 2 using scale 1 ...current loss: nan:  80% 12/15 [00:09<00:02,  1.28it/s]\u001b[A\n",
            "Refining scale 2 using scale 1 ...current loss: nan:  87% 13/15 [00:10<00:01,  1.28it/s]\u001b[A\n",
            "Refining scale 2 using scale 1 ...current loss: nan:  87% 13/15 [00:10<00:01,  1.28it/s]\u001b[A\n",
            "Refining scale 2 using scale 1 ...current loss: nan:  93% 14/15 [00:10<00:00,  1.28it/s]\u001b[A\n",
            "Refining scale 2 using scale 1 ...current loss: nan:  93% 14/15 [00:11<00:00,  1.28it/s]\u001b[A\n",
            "Refining scale 2 using scale 1 ...current loss: nan: 100% 15/15 [00:11<00:00,  1.42it/s]\u001b[A\n",
            " 89% 667/746 [2:10:15<15:26, 11.72s/it]\n",
            "  0% 0/15 [00:00<?, ?it/s]\u001b[A\n",
            "                          \u001b[A\n",
            "  0% 0/15 [00:00<?, ?it/s]\u001b[A\n",
            "Refining scale 2 using scale 1 ...current loss: 0.0591:   0% 0/15 [00:00<?, ?it/s]\u001b[A\n",
            "Refining scale 2 using scale 1 ...current loss: 0.0591:   7% 1/15 [00:00<00:08,  1.57it/s]\u001b[A\n",
            "Refining scale 2 using scale 1 ...current loss: 0.0415:   7% 1/15 [00:01<00:08,  1.57it/s]\u001b[A\n",
            "Refining scale 2 using scale 1 ...current loss: 0.0415:  13% 2/15 [00:01<00:09,  1.38it/s]\u001b[A\n",
            "Refining scale 2 using scale 1 ...current loss: 0.0296:  13% 2/15 [00:01<00:09,  1.38it/s]\u001b[A\n",
            "Refining scale 2 using scale 1 ...current loss: 0.0296:  20% 3/15 [00:02<00:09,  1.33it/s]\u001b[A\n",
            "Refining scale 2 using scale 1 ...current loss: 0.0240:  20% 3/15 [00:02<00:09,  1.33it/s]\u001b[A\n",
            "Refining scale 2 using scale 1 ...current loss: 0.0240:  27% 4/15 [00:02<00:08,  1.31it/s]\u001b[A\n",
            "Refining scale 2 using scale 1 ...current loss: 0.0224:  27% 4/15 [00:03<00:08,  1.31it/s]\u001b[A\n",
            "Refining scale 2 using scale 1 ...current loss: 0.0224:  33% 5/15 [00:03<00:07,  1.29it/s]\u001b[A\n",
            "Refining scale 2 using scale 1 ...current loss: 0.0217:  33% 5/15 [00:04<00:07,  1.29it/s]\u001b[A\n",
            "Refining scale 2 using scale 1 ...current loss: 0.0217:  40% 6/15 [00:04<00:07,  1.29it/s]\u001b[A\n",
            "Refining scale 2 using scale 1 ...current loss: 0.0209:  40% 6/15 [00:05<00:07,  1.29it/s]\u001b[A\n",
            "Refining scale 2 using scale 1 ...current loss: 0.0209:  47% 7/15 [00:05<00:06,  1.28it/s]\u001b[A\n",
            "Refining scale 2 using scale 1 ...current loss: 0.0200:  47% 7/15 [00:05<00:06,  1.28it/s]\u001b[A\n",
            "Refining scale 2 using scale 1 ...current loss: 0.0200:  53% 8/15 [00:06<00:05,  1.28it/s]\u001b[A\n",
            "Refining scale 2 using scale 1 ...current loss: 0.0194:  53% 8/15 [00:06<00:05,  1.28it/s]\u001b[A\n",
            "Refining scale 2 using scale 1 ...current loss: 0.0194:  60% 9/15 [00:06<00:04,  1.28it/s]\u001b[A\n",
            "Refining scale 2 using scale 1 ...current loss: 0.0187:  60% 9/15 [00:07<00:04,  1.28it/s]\u001b[A\n",
            "Refining scale 2 using scale 1 ...current loss: 0.0187:  67% 10/15 [00:07<00:03,  1.28it/s]\u001b[A\n",
            "Refining scale 2 using scale 1 ...current loss: 0.0184:  67% 10/15 [00:08<00:03,  1.28it/s]\u001b[A\n",
            "Refining scale 2 using scale 1 ...current loss: 0.0184:  73% 11/15 [00:08<00:03,  1.28it/s]\u001b[A\n",
            "Refining scale 2 using scale 1 ...current loss: 0.0181:  73% 11/15 [00:09<00:03,  1.28it/s]\u001b[A\n",
            "Refining scale 2 using scale 1 ...current loss: 0.0181:  80% 12/15 [00:09<00:02,  1.28it/s]\u001b[A\n",
            "Refining scale 2 using scale 1 ...current loss: 0.0177:  80% 12/15 [00:09<00:02,  1.28it/s]\u001b[A\n",
            "Refining scale 2 using scale 1 ...current loss: 0.0177:  87% 13/15 [00:10<00:01,  1.28it/s]\u001b[A\n",
            "Refining scale 2 using scale 1 ...current loss: 0.0172:  87% 13/15 [00:10<00:01,  1.28it/s]\u001b[A\n",
            "Refining scale 2 using scale 1 ...current loss: 0.0172:  93% 14/15 [00:10<00:00,  1.28it/s]\u001b[A\n",
            "Refining scale 2 using scale 1 ...current loss: 0.0168:  93% 14/15 [00:11<00:00,  1.28it/s]\u001b[A\n",
            "Refining scale 2 using scale 1 ...current loss: 0.0168: 100% 15/15 [00:11<00:00,  1.42it/s]\u001b[A\n",
            " 90% 668/746 [2:10:26<15:13, 11.71s/it]\n",
            "  0% 0/15 [00:00<?, ?it/s]\u001b[A\n",
            "                          \u001b[A\n",
            "  0% 0/15 [00:00<?, ?it/s]\u001b[A\n",
            "Refining scale 2 using scale 1 ...current loss: 0.0266:   0% 0/15 [00:00<?, ?it/s]\u001b[A\n",
            "Refining scale 2 using scale 1 ...current loss: 0.0266:   7% 1/15 [00:00<00:08,  1.58it/s]\u001b[A\n",
            "Refining scale 2 using scale 1 ...current loss: 0.0229:   7% 1/15 [00:01<00:08,  1.58it/s]\u001b[A\n",
            "Refining scale 2 using scale 1 ...current loss: 0.0229:  13% 2/15 [00:01<00:09,  1.39it/s]\u001b[A\n",
            "Refining scale 2 using scale 1 ...current loss: 0.0207:  13% 2/15 [00:01<00:09,  1.39it/s]\u001b[A\n",
            "Refining scale 2 using scale 1 ...current loss: 0.0207:  20% 3/15 [00:02<00:09,  1.33it/s]\u001b[A\n",
            "Refining scale 2 using scale 1 ...current loss: 0.0191:  20% 3/15 [00:02<00:09,  1.33it/s]\u001b[A\n",
            "Refining scale 2 using scale 1 ...current loss: 0.0191:  27% 4/15 [00:02<00:08,  1.31it/s]\u001b[A\n",
            "Refining scale 2 using scale 1 ...current loss: 0.0181:  27% 4/15 [00:03<00:08,  1.31it/s]\u001b[A\n",
            "Refining scale 2 using scale 1 ...current loss: 0.0181:  33% 5/15 [00:03<00:07,  1.30it/s]\u001b[A\n",
            "Refining scale 2 using scale 1 ...current loss: 0.0170:  33% 5/15 [00:04<00:07,  1.30it/s]\u001b[A\n",
            "Refining scale 2 using scale 1 ...current loss: 0.0170:  40% 6/15 [00:04<00:06,  1.29it/s]\u001b[A\n",
            "Refining scale 2 using scale 1 ...current loss: 0.0163:  40% 6/15 [00:05<00:06,  1.29it/s]\u001b[A\n",
            "Refining scale 2 using scale 1 ...current loss: 0.0163:  47% 7/15 [00:05<00:06,  1.28it/s]\u001b[A\n",
            "Refining scale 2 using scale 1 ...current loss: 0.0156:  47% 7/15 [00:05<00:06,  1.28it/s]\u001b[A\n",
            "Refining scale 2 using scale 1 ...current loss: 0.0156:  53% 8/15 [00:06<00:05,  1.28it/s]\u001b[A\n",
            "Refining scale 2 using scale 1 ...current loss: 0.0149:  53% 8/15 [00:06<00:05,  1.28it/s]\u001b[A\n",
            "Refining scale 2 using scale 1 ...current loss: 0.0149:  60% 9/15 [00:06<00:04,  1.28it/s]\u001b[A\n",
            "Refining scale 2 using scale 1 ...current loss: 0.0143:  60% 9/15 [00:07<00:04,  1.28it/s]\u001b[A\n",
            "Refining scale 2 using scale 1 ...current loss: 0.0143:  67% 10/15 [00:07<00:03,  1.28it/s]\u001b[A\n",
            "Refining scale 2 using scale 1 ...current loss: 0.0138:  67% 10/15 [00:08<00:03,  1.28it/s]\u001b[A\n",
            "Refining scale 2 using scale 1 ...current loss: 0.0138:  73% 11/15 [00:08<00:03,  1.27it/s]\u001b[A\n",
            "Refining scale 2 using scale 1 ...current loss: 0.0134:  73% 11/15 [00:09<00:03,  1.27it/s]\u001b[A\n",
            "Refining scale 2 using scale 1 ...current loss: 0.0134:  80% 12/15 [00:09<00:02,  1.28it/s]\u001b[A\n",
            "Refining scale 2 using scale 1 ...current loss: 0.0129:  80% 12/15 [00:09<00:02,  1.28it/s]\u001b[A\n",
            "Refining scale 2 using scale 1 ...current loss: 0.0129:  87% 13/15 [00:10<00:01,  1.28it/s]\u001b[A\n",
            "Refining scale 2 using scale 1 ...current loss: 0.0125:  87% 13/15 [00:10<00:01,  1.28it/s]\u001b[A\n",
            "Refining scale 2 using scale 1 ...current loss: 0.0125:  93% 14/15 [00:10<00:00,  1.28it/s]\u001b[A\n",
            "Refining scale 2 using scale 1 ...current loss: 0.0121:  93% 14/15 [00:11<00:00,  1.28it/s]\u001b[A\n",
            "Refining scale 2 using scale 1 ...current loss: 0.0121: 100% 15/15 [00:11<00:00,  1.42it/s]\u001b[A\n",
            " 90% 669/746 [2:10:38<15:00, 11.70s/it]\n",
            "  0% 0/15 [00:00<?, ?it/s]\u001b[A\n",
            "                          \u001b[A\n",
            "  0% 0/15 [00:00<?, ?it/s]\u001b[A\n",
            "Refining scale 2 using scale 1 ...current loss: 0.0764:   0% 0/15 [00:00<?, ?it/s]\u001b[A\n",
            "Refining scale 2 using scale 1 ...current loss: 0.0764:   7% 1/15 [00:00<00:08,  1.58it/s]\u001b[A\n",
            "Refining scale 2 using scale 1 ...current loss: 0.0340:   7% 1/15 [00:01<00:08,  1.58it/s]\u001b[A\n",
            "Refining scale 2 using scale 1 ...current loss: 0.0340:  13% 2/15 [00:01<00:09,  1.38it/s]\u001b[A\n",
            "Refining scale 2 using scale 1 ...current loss: 0.0319:  13% 2/15 [00:01<00:09,  1.38it/s]\u001b[A\n",
            "Refining scale 2 using scale 1 ...current loss: 0.0319:  20% 3/15 [00:02<00:08,  1.34it/s]\u001b[A\n",
            "Refining scale 2 using scale 1 ...current loss: 0.0292:  20% 3/15 [00:02<00:08,  1.34it/s]\u001b[A\n",
            "Refining scale 2 using scale 1 ...current loss: 0.0292:  27% 4/15 [00:02<00:08,  1.31it/s]\u001b[A\n",
            "Refining scale 2 using scale 1 ...current loss: 0.0269:  27% 4/15 [00:03<00:08,  1.31it/s]\u001b[A\n",
            "Refining scale 2 using scale 1 ...current loss: 0.0269:  33% 5/15 [00:03<00:07,  1.30it/s]\u001b[A\n",
            "Refining scale 2 using scale 1 ...current loss: 0.0248:  33% 5/15 [00:04<00:07,  1.30it/s]\u001b[A\n",
            "Refining scale 2 using scale 1 ...current loss: 0.0248:  40% 6/15 [00:04<00:06,  1.29it/s]\u001b[A\n",
            "Refining scale 2 using scale 1 ...current loss: 0.0236:  40% 6/15 [00:05<00:06,  1.29it/s]\u001b[A\n",
            "Refining scale 2 using scale 1 ...current loss: 0.0236:  47% 7/15 [00:05<00:06,  1.28it/s]\u001b[A\n",
            "Refining scale 2 using scale 1 ...current loss: 0.0227:  47% 7/15 [00:05<00:06,  1.28it/s]\u001b[A\n",
            "Refining scale 2 using scale 1 ...current loss: 0.0227:  53% 8/15 [00:06<00:05,  1.28it/s]\u001b[A\n",
            "Refining scale 2 using scale 1 ...current loss: 0.0218:  53% 8/15 [00:06<00:05,  1.28it/s]\u001b[A\n",
            "Refining scale 2 using scale 1 ...current loss: 0.0218:  60% 9/15 [00:06<00:04,  1.28it/s]\u001b[A\n",
            "Refining scale 2 using scale 1 ...current loss: 0.0209:  60% 9/15 [00:07<00:04,  1.28it/s]\u001b[A\n",
            "Refining scale 2 using scale 1 ...current loss: 0.0209:  67% 10/15 [00:07<00:03,  1.27it/s]\u001b[A\n",
            "Refining scale 2 using scale 1 ...current loss: 0.0202:  67% 10/15 [00:08<00:03,  1.27it/s]\u001b[A\n",
            "Refining scale 2 using scale 1 ...current loss: 0.0202:  73% 11/15 [00:08<00:03,  1.27it/s]\u001b[A\n",
            "Refining scale 2 using scale 1 ...current loss: 0.0195:  73% 11/15 [00:09<00:03,  1.27it/s]\u001b[A\n",
            "Refining scale 2 using scale 1 ...current loss: 0.0195:  80% 12/15 [00:09<00:02,  1.27it/s]\u001b[A\n",
            "Refining scale 2 using scale 1 ...current loss: 0.0189:  80% 12/15 [00:09<00:02,  1.27it/s]\u001b[A\n",
            "Refining scale 2 using scale 1 ...current loss: 0.0189:  87% 13/15 [00:10<00:01,  1.27it/s]\u001b[A\n",
            "Refining scale 2 using scale 1 ...current loss: 0.0183:  87% 13/15 [00:10<00:01,  1.27it/s]\u001b[A\n",
            "Refining scale 2 using scale 1 ...current loss: 0.0183:  93% 14/15 [00:10<00:00,  1.27it/s]\u001b[A\n",
            "Refining scale 2 using scale 1 ...current loss: 0.0178:  93% 14/15 [00:11<00:00,  1.27it/s]\u001b[A\n",
            "Refining scale 2 using scale 1 ...current loss: 0.0178: 100% 15/15 [00:11<00:00,  1.41it/s]\u001b[A\n",
            " 90% 670/746 [2:10:50<14:48, 11.69s/it]\n",
            "  0% 0/15 [00:00<?, ?it/s]\u001b[A\n",
            "                          \u001b[A\n",
            "  0% 0/15 [00:00<?, ?it/s]\u001b[A\n",
            "Refining scale 2 using scale 1 ...current loss: 0.0289:   0% 0/15 [00:00<?, ?it/s]\u001b[A\n",
            "Refining scale 2 using scale 1 ...current loss: 0.0289:   7% 1/15 [00:00<00:08,  1.57it/s]\u001b[A\n",
            "Refining scale 2 using scale 1 ...current loss: 0.0172:   7% 1/15 [00:01<00:08,  1.57it/s]\u001b[A\n",
            "Refining scale 2 using scale 1 ...current loss: 0.0172:  13% 2/15 [00:01<00:09,  1.38it/s]\u001b[A\n",
            "Refining scale 2 using scale 1 ...current loss: 0.0157:  13% 2/15 [00:01<00:09,  1.38it/s]\u001b[A\n",
            "Refining scale 2 using scale 1 ...current loss: 0.0157:  20% 3/15 [00:02<00:09,  1.33it/s]\u001b[A\n",
            "Refining scale 2 using scale 1 ...current loss: 0.0125:  20% 3/15 [00:02<00:09,  1.33it/s]\u001b[A\n",
            "Refining scale 2 using scale 1 ...current loss: 0.0125:  27% 4/15 [00:02<00:08,  1.31it/s]\u001b[A\n",
            "Refining scale 2 using scale 1 ...current loss: 0.0125:  27% 4/15 [00:03<00:08,  1.31it/s]\u001b[A\n",
            "Refining scale 2 using scale 1 ...current loss: 0.0125:  33% 5/15 [00:03<00:07,  1.30it/s]\u001b[A\n",
            "Refining scale 2 using scale 1 ...current loss: 0.0102:  33% 5/15 [00:04<00:07,  1.30it/s]\u001b[A\n",
            "Refining scale 2 using scale 1 ...current loss: 0.0102:  40% 6/15 [00:04<00:06,  1.29it/s]\u001b[A\n",
            "Refining scale 2 using scale 1 ...current loss: 0.0108:  40% 6/15 [00:05<00:06,  1.29it/s]\u001b[A\n",
            "Refining scale 2 using scale 1 ...current loss: 0.0108:  47% 7/15 [00:05<00:06,  1.28it/s]\u001b[A\n",
            "Refining scale 2 using scale 1 ...current loss: 0.0094:  47% 7/15 [00:05<00:06,  1.28it/s]\u001b[A\n",
            "Refining scale 2 using scale 1 ...current loss: 0.0094:  53% 8/15 [00:06<00:05,  1.28it/s]\u001b[A\n",
            "Refining scale 2 using scale 1 ...current loss: 0.0080:  53% 8/15 [00:06<00:05,  1.28it/s]\u001b[A\n",
            "Refining scale 2 using scale 1 ...current loss: 0.0080:  60% 9/15 [00:06<00:04,  1.28it/s]\u001b[A\n",
            "Refining scale 2 using scale 1 ...current loss: 0.0081:  60% 9/15 [00:07<00:04,  1.28it/s]\u001b[A\n",
            "Refining scale 2 using scale 1 ...current loss: 0.0081:  67% 10/15 [00:07<00:03,  1.28it/s]\u001b[A\n",
            "Refining scale 2 using scale 1 ...current loss: 0.0076:  67% 10/15 [00:08<00:03,  1.28it/s]\u001b[A\n",
            "Refining scale 2 using scale 1 ...current loss: 0.0076:  73% 11/15 [00:08<00:03,  1.28it/s]\u001b[A\n",
            "Refining scale 2 using scale 1 ...current loss: 0.0068:  73% 11/15 [00:09<00:03,  1.28it/s]\u001b[A\n",
            "Refining scale 2 using scale 1 ...current loss: 0.0068:  80% 12/15 [00:09<00:02,  1.28it/s]\u001b[A\n",
            "Refining scale 2 using scale 1 ...current loss: 0.0068:  80% 12/15 [00:09<00:02,  1.28it/s]\u001b[A\n",
            "Refining scale 2 using scale 1 ...current loss: 0.0068:  87% 13/15 [00:10<00:01,  1.28it/s]\u001b[A\n",
            "Refining scale 2 using scale 1 ...current loss: 0.0066:  87% 13/15 [00:10<00:01,  1.28it/s]\u001b[A\n",
            "Refining scale 2 using scale 1 ...current loss: 0.0066:  93% 14/15 [00:10<00:00,  1.27it/s]\u001b[A\n",
            "Refining scale 2 using scale 1 ...current loss: 0.0063:  93% 14/15 [00:11<00:00,  1.27it/s]\u001b[A\n",
            "Refining scale 2 using scale 1 ...current loss: 0.0063: 100% 15/15 [00:11<00:00,  1.42it/s]\u001b[A\n",
            " 90% 671/746 [2:11:01<14:37, 11.70s/it]\n",
            "  0% 0/15 [00:00<?, ?it/s]\u001b[A\n",
            "                          \u001b[A\n",
            "  0% 0/15 [00:00<?, ?it/s]\u001b[A\n",
            "Refining scale 2 using scale 1 ...current loss: nan:   0% 0/15 [00:00<?, ?it/s]\u001b[A\n",
            "Refining scale 2 using scale 1 ...current loss: nan:   7% 1/15 [00:00<00:08,  1.58it/s]\u001b[A\n",
            "Refining scale 2 using scale 1 ...current loss: nan:   7% 1/15 [00:01<00:08,  1.58it/s]\u001b[A\n",
            "Refining scale 2 using scale 1 ...current loss: nan:  13% 2/15 [00:01<00:09,  1.37it/s]\u001b[A\n",
            "Refining scale 2 using scale 1 ...current loss: nan:  13% 2/15 [00:01<00:09,  1.37it/s]\u001b[A\n",
            "Refining scale 2 using scale 1 ...current loss: nan:  20% 3/15 [00:02<00:09,  1.33it/s]\u001b[A\n",
            "Refining scale 2 using scale 1 ...current loss: nan:  20% 3/15 [00:02<00:09,  1.33it/s]\u001b[A\n",
            "Refining scale 2 using scale 1 ...current loss: nan:  27% 4/15 [00:02<00:08,  1.31it/s]\u001b[A\n",
            "Refining scale 2 using scale 1 ...current loss: nan:  27% 4/15 [00:03<00:08,  1.31it/s]\u001b[A\n",
            "Refining scale 2 using scale 1 ...current loss: nan:  33% 5/15 [00:03<00:07,  1.29it/s]\u001b[A\n",
            "Refining scale 2 using scale 1 ...current loss: nan:  33% 5/15 [00:04<00:07,  1.29it/s]\u001b[A\n",
            "Refining scale 2 using scale 1 ...current loss: nan:  40% 6/15 [00:04<00:07,  1.29it/s]\u001b[A\n",
            "Refining scale 2 using scale 1 ...current loss: nan:  40% 6/15 [00:05<00:07,  1.29it/s]\u001b[A\n",
            "Refining scale 2 using scale 1 ...current loss: nan:  47% 7/15 [00:05<00:06,  1.28it/s]\u001b[A\n",
            "Refining scale 2 using scale 1 ...current loss: nan:  47% 7/15 [00:05<00:06,  1.28it/s]\u001b[A\n",
            "Refining scale 2 using scale 1 ...current loss: nan:  53% 8/15 [00:06<00:05,  1.28it/s]\u001b[A\n",
            "Refining scale 2 using scale 1 ...current loss: nan:  53% 8/15 [00:06<00:05,  1.28it/s]\u001b[A\n",
            "Refining scale 2 using scale 1 ...current loss: nan:  60% 9/15 [00:06<00:04,  1.28it/s]\u001b[A\n",
            "Refining scale 2 using scale 1 ...current loss: nan:  60% 9/15 [00:07<00:04,  1.28it/s]\u001b[A\n",
            "Refining scale 2 using scale 1 ...current loss: nan:  67% 10/15 [00:07<00:03,  1.28it/s]\u001b[A\n",
            "Refining scale 2 using scale 1 ...current loss: nan:  67% 10/15 [00:08<00:03,  1.28it/s]\u001b[A\n",
            "Refining scale 2 using scale 1 ...current loss: nan:  73% 11/15 [00:08<00:03,  1.28it/s]\u001b[A\n",
            "Refining scale 2 using scale 1 ...current loss: nan:  73% 11/15 [00:09<00:03,  1.28it/s]\u001b[A\n",
            "Refining scale 2 using scale 1 ...current loss: nan:  80% 12/15 [00:09<00:02,  1.28it/s]\u001b[A\n",
            "Refining scale 2 using scale 1 ...current loss: nan:  80% 12/15 [00:09<00:02,  1.28it/s]\u001b[A\n",
            "Refining scale 2 using scale 1 ...current loss: nan:  87% 13/15 [00:10<00:01,  1.28it/s]\u001b[A\n",
            "Refining scale 2 using scale 1 ...current loss: nan:  87% 13/15 [00:10<00:01,  1.28it/s]\u001b[A\n",
            "Refining scale 2 using scale 1 ...current loss: nan:  93% 14/15 [00:10<00:00,  1.28it/s]\u001b[A\n",
            "Refining scale 2 using scale 1 ...current loss: nan:  93% 14/15 [00:11<00:00,  1.28it/s]\u001b[A\n",
            "Refining scale 2 using scale 1 ...current loss: nan: 100% 15/15 [00:11<00:00,  1.42it/s]\u001b[A\n",
            " 90% 672/746 [2:11:13<14:25, 11.69s/it]\n",
            "  0% 0/15 [00:00<?, ?it/s]\u001b[A\n",
            "                          \u001b[A\n",
            "  0% 0/15 [00:00<?, ?it/s]\u001b[A\n",
            "Refining scale 2 using scale 1 ...current loss: 0.0399:   0% 0/15 [00:00<?, ?it/s]\u001b[A\n",
            "Refining scale 2 using scale 1 ...current loss: 0.0399:   7% 1/15 [00:00<00:08,  1.58it/s]\u001b[A\n",
            "Refining scale 2 using scale 1 ...current loss: 0.0271:   7% 1/15 [00:01<00:08,  1.58it/s]\u001b[A\n",
            "Refining scale 2 using scale 1 ...current loss: 0.0271:  13% 2/15 [00:01<00:09,  1.38it/s]\u001b[A\n",
            "Refining scale 2 using scale 1 ...current loss: 0.0235:  13% 2/15 [00:01<00:09,  1.38it/s]\u001b[A\n",
            "Refining scale 2 using scale 1 ...current loss: 0.0235:  20% 3/15 [00:02<00:09,  1.33it/s]\u001b[A\n",
            "Refining scale 2 using scale 1 ...current loss: 0.0207:  20% 3/15 [00:02<00:09,  1.33it/s]\u001b[A\n",
            "Refining scale 2 using scale 1 ...current loss: 0.0207:  27% 4/15 [00:02<00:08,  1.31it/s]\u001b[A\n",
            "Refining scale 2 using scale 1 ...current loss: 0.0187:  27% 4/15 [00:03<00:08,  1.31it/s]\u001b[A\n",
            "Refining scale 2 using scale 1 ...current loss: 0.0187:  33% 5/15 [00:03<00:07,  1.30it/s]\u001b[A\n",
            "Refining scale 2 using scale 1 ...current loss: 0.0166:  33% 5/15 [00:04<00:07,  1.30it/s]\u001b[A\n",
            "Refining scale 2 using scale 1 ...current loss: 0.0166:  40% 6/15 [00:04<00:06,  1.29it/s]\u001b[A\n",
            "Refining scale 2 using scale 1 ...current loss: 0.0159:  40% 6/15 [00:05<00:06,  1.29it/s]\u001b[A\n",
            "Refining scale 2 using scale 1 ...current loss: 0.0159:  47% 7/15 [00:05<00:06,  1.28it/s]\u001b[A\n",
            "Refining scale 2 using scale 1 ...current loss: 0.0146:  47% 7/15 [00:05<00:06,  1.28it/s]\u001b[A\n",
            "Refining scale 2 using scale 1 ...current loss: 0.0146:  53% 8/15 [00:06<00:05,  1.28it/s]\u001b[A\n",
            "Refining scale 2 using scale 1 ...current loss: 0.0137:  53% 8/15 [00:06<00:05,  1.28it/s]\u001b[A\n",
            "Refining scale 2 using scale 1 ...current loss: 0.0137:  60% 9/15 [00:06<00:04,  1.28it/s]\u001b[A\n",
            "Refining scale 2 using scale 1 ...current loss: 0.0133:  60% 9/15 [00:07<00:04,  1.28it/s]\u001b[A\n",
            "Refining scale 2 using scale 1 ...current loss: 0.0133:  67% 10/15 [00:07<00:03,  1.27it/s]\u001b[A\n",
            "Refining scale 2 using scale 1 ...current loss: 0.0126:  67% 10/15 [00:08<00:03,  1.27it/s]\u001b[A\n",
            "Refining scale 2 using scale 1 ...current loss: 0.0126:  73% 11/15 [00:08<00:03,  1.27it/s]\u001b[A\n",
            "Refining scale 2 using scale 1 ...current loss: 0.0122:  73% 11/15 [00:09<00:03,  1.27it/s]\u001b[A\n",
            "Refining scale 2 using scale 1 ...current loss: 0.0122:  80% 12/15 [00:09<00:02,  1.27it/s]\u001b[A\n",
            "Refining scale 2 using scale 1 ...current loss: 0.0117:  80% 12/15 [00:09<00:02,  1.27it/s]\u001b[A\n",
            "Refining scale 2 using scale 1 ...current loss: 0.0117:  87% 13/15 [00:10<00:01,  1.27it/s]\u001b[A\n",
            "Refining scale 2 using scale 1 ...current loss: 0.0115:  87% 13/15 [00:10<00:01,  1.27it/s]\u001b[A\n",
            "Refining scale 2 using scale 1 ...current loss: 0.0115:  93% 14/15 [00:10<00:00,  1.28it/s]\u001b[A\n",
            "Refining scale 2 using scale 1 ...current loss: 0.0110:  93% 14/15 [00:11<00:00,  1.28it/s]\u001b[A\n",
            "Refining scale 2 using scale 1 ...current loss: 0.0110: 100% 15/15 [00:11<00:00,  1.42it/s]\u001b[A\n",
            " 90% 673/746 [2:11:25<14:12, 11.67s/it]\n",
            "  0% 0/15 [00:00<?, ?it/s]\u001b[A\n",
            "                          \u001b[A\n",
            "  0% 0/15 [00:00<?, ?it/s]\u001b[A\n",
            "Refining scale 2 using scale 1 ...current loss: nan:   0% 0/15 [00:00<?, ?it/s]\u001b[A\n",
            "Refining scale 2 using scale 1 ...current loss: nan:   7% 1/15 [00:00<00:08,  1.58it/s]\u001b[A\n",
            "Refining scale 2 using scale 1 ...current loss: nan:   7% 1/15 [00:01<00:08,  1.58it/s]\u001b[A\n",
            "Refining scale 2 using scale 1 ...current loss: nan:  13% 2/15 [00:01<00:09,  1.38it/s]\u001b[A\n",
            "Refining scale 2 using scale 1 ...current loss: nan:  13% 2/15 [00:01<00:09,  1.38it/s]\u001b[A\n",
            "Refining scale 2 using scale 1 ...current loss: nan:  20% 3/15 [00:02<00:09,  1.33it/s]\u001b[A\n",
            "Refining scale 2 using scale 1 ...current loss: nan:  20% 3/15 [00:02<00:09,  1.33it/s]\u001b[A\n",
            "Refining scale 2 using scale 1 ...current loss: nan:  27% 4/15 [00:02<00:08,  1.31it/s]\u001b[A\n",
            "Refining scale 2 using scale 1 ...current loss: nan:  27% 4/15 [00:03<00:08,  1.31it/s]\u001b[A\n",
            "Refining scale 2 using scale 1 ...current loss: nan:  33% 5/15 [00:03<00:07,  1.30it/s]\u001b[A\n",
            "Refining scale 2 using scale 1 ...current loss: nan:  33% 5/15 [00:04<00:07,  1.30it/s]\u001b[A\n",
            "Refining scale 2 using scale 1 ...current loss: nan:  40% 6/15 [00:04<00:06,  1.29it/s]\u001b[A\n",
            "Refining scale 2 using scale 1 ...current loss: nan:  40% 6/15 [00:05<00:06,  1.29it/s]\u001b[A\n",
            "Refining scale 2 using scale 1 ...current loss: nan:  47% 7/15 [00:05<00:06,  1.28it/s]\u001b[A\n",
            "Refining scale 2 using scale 1 ...current loss: nan:  47% 7/15 [00:05<00:06,  1.28it/s]\u001b[A\n",
            "Refining scale 2 using scale 1 ...current loss: nan:  53% 8/15 [00:06<00:05,  1.28it/s]\u001b[A\n",
            "Refining scale 2 using scale 1 ...current loss: nan:  53% 8/15 [00:06<00:05,  1.28it/s]\u001b[A\n",
            "Refining scale 2 using scale 1 ...current loss: nan:  60% 9/15 [00:06<00:04,  1.28it/s]\u001b[A\n",
            "Refining scale 2 using scale 1 ...current loss: nan:  60% 9/15 [00:07<00:04,  1.28it/s]\u001b[A\n",
            "Refining scale 2 using scale 1 ...current loss: nan:  67% 10/15 [00:07<00:03,  1.28it/s]\u001b[A\n",
            "Refining scale 2 using scale 1 ...current loss: nan:  67% 10/15 [00:08<00:03,  1.28it/s]\u001b[A\n",
            "Refining scale 2 using scale 1 ...current loss: nan:  73% 11/15 [00:08<00:03,  1.28it/s]\u001b[A\n",
            "Refining scale 2 using scale 1 ...current loss: nan:  73% 11/15 [00:09<00:03,  1.28it/s]\u001b[A\n",
            "Refining scale 2 using scale 1 ...current loss: nan:  80% 12/15 [00:09<00:02,  1.27it/s]\u001b[A\n",
            "Refining scale 2 using scale 1 ...current loss: nan:  80% 12/15 [00:09<00:02,  1.27it/s]\u001b[A\n",
            "Refining scale 2 using scale 1 ...current loss: nan:  87% 13/15 [00:10<00:01,  1.27it/s]\u001b[A\n",
            "Refining scale 2 using scale 1 ...current loss: nan:  87% 13/15 [00:10<00:01,  1.27it/s]\u001b[A\n",
            "Refining scale 2 using scale 1 ...current loss: nan:  93% 14/15 [00:10<00:00,  1.27it/s]\u001b[A\n",
            "Refining scale 2 using scale 1 ...current loss: nan:  93% 14/15 [00:11<00:00,  1.27it/s]\u001b[A\n",
            "Refining scale 2 using scale 1 ...current loss: nan: 100% 15/15 [00:11<00:00,  1.41it/s]\u001b[A\n",
            " 90% 674/746 [2:11:36<14:00, 11.67s/it]\n",
            "  0% 0/15 [00:00<?, ?it/s]\u001b[A\n",
            "                          \u001b[A\n",
            "  0% 0/15 [00:00<?, ?it/s]\u001b[A\n",
            "Refining scale 2 using scale 1 ...current loss: 0.1038:   0% 0/15 [00:00<?, ?it/s]\u001b[A\n",
            "Refining scale 2 using scale 1 ...current loss: 0.1038:   7% 1/15 [00:00<00:08,  1.58it/s]\u001b[A\n",
            "Refining scale 2 using scale 1 ...current loss: 0.0374:   7% 1/15 [00:01<00:08,  1.58it/s]\u001b[A\n",
            "Refining scale 2 using scale 1 ...current loss: 0.0374:  13% 2/15 [00:01<00:09,  1.39it/s]\u001b[A\n",
            "Refining scale 2 using scale 1 ...current loss: 0.0290:  13% 2/15 [00:01<00:09,  1.39it/s]\u001b[A\n",
            "Refining scale 2 using scale 1 ...current loss: 0.0290:  20% 3/15 [00:02<00:09,  1.33it/s]\u001b[A\n",
            "Refining scale 2 using scale 1 ...current loss: 0.0211:  20% 3/15 [00:02<00:09,  1.33it/s]\u001b[A\n",
            "Refining scale 2 using scale 1 ...current loss: 0.0211:  27% 4/15 [00:02<00:08,  1.31it/s]\u001b[A\n",
            "Refining scale 2 using scale 1 ...current loss: 0.0216:  27% 4/15 [00:03<00:08,  1.31it/s]\u001b[A\n",
            "Refining scale 2 using scale 1 ...current loss: 0.0216:  33% 5/15 [00:03<00:07,  1.30it/s]\u001b[A\n",
            "Refining scale 2 using scale 1 ...current loss: 0.0212:  33% 5/15 [00:04<00:07,  1.30it/s]\u001b[A\n",
            "Refining scale 2 using scale 1 ...current loss: 0.0212:  40% 6/15 [00:04<00:06,  1.29it/s]\u001b[A\n",
            "Refining scale 2 using scale 1 ...current loss: 0.0189:  40% 6/15 [00:05<00:06,  1.29it/s]\u001b[A\n",
            "Refining scale 2 using scale 1 ...current loss: 0.0189:  47% 7/15 [00:05<00:06,  1.29it/s]\u001b[A\n",
            "Refining scale 2 using scale 1 ...current loss: 0.0188:  47% 7/15 [00:05<00:06,  1.29it/s]\u001b[A\n",
            "Refining scale 2 using scale 1 ...current loss: 0.0188:  53% 8/15 [00:06<00:05,  1.28it/s]\u001b[A\n",
            "Refining scale 2 using scale 1 ...current loss: 0.0183:  53% 8/15 [00:06<00:05,  1.28it/s]\u001b[A\n",
            "Refining scale 2 using scale 1 ...current loss: 0.0183:  60% 9/15 [00:06<00:04,  1.28it/s]\u001b[A\n",
            "Refining scale 2 using scale 1 ...current loss: 0.0168:  60% 9/15 [00:07<00:04,  1.28it/s]\u001b[A\n",
            "Refining scale 2 using scale 1 ...current loss: 0.0168:  67% 10/15 [00:07<00:03,  1.28it/s]\u001b[A\n",
            "Refining scale 2 using scale 1 ...current loss: 0.0160:  67% 10/15 [00:08<00:03,  1.28it/s]\u001b[A\n",
            "Refining scale 2 using scale 1 ...current loss: 0.0160:  73% 11/15 [00:08<00:03,  1.28it/s]\u001b[A\n",
            "Refining scale 2 using scale 1 ...current loss: 0.0161:  73% 11/15 [00:08<00:03,  1.28it/s]\u001b[A\n",
            "Refining scale 2 using scale 1 ...current loss: 0.0161:  80% 12/15 [00:09<00:02,  1.28it/s]\u001b[A\n",
            "Refining scale 2 using scale 1 ...current loss: 0.0159:  80% 12/15 [00:09<00:02,  1.28it/s]\u001b[A\n",
            "Refining scale 2 using scale 1 ...current loss: 0.0159:  87% 13/15 [00:10<00:01,  1.28it/s]\u001b[A\n",
            "Refining scale 2 using scale 1 ...current loss: 0.0154:  87% 13/15 [00:10<00:01,  1.28it/s]\u001b[A\n",
            "Refining scale 2 using scale 1 ...current loss: 0.0154:  93% 14/15 [00:10<00:00,  1.27it/s]\u001b[A\n",
            "Refining scale 2 using scale 1 ...current loss: 0.0151:  93% 14/15 [00:11<00:00,  1.27it/s]\u001b[A\n",
            "Refining scale 2 using scale 1 ...current loss: 0.0151: 100% 15/15 [00:11<00:00,  1.41it/s]\u001b[A\n",
            " 90% 675/746 [2:11:48<13:49, 11.68s/it]\n",
            "  0% 0/15 [00:00<?, ?it/s]\u001b[A\n",
            "                          \u001b[A\n",
            "  0% 0/15 [00:00<?, ?it/s]\u001b[A\n",
            "Refining scale 2 using scale 1 ...current loss: 0.1293:   0% 0/15 [00:00<?, ?it/s]\u001b[A\n",
            "Refining scale 2 using scale 1 ...current loss: 0.1293:   7% 1/15 [00:00<00:08,  1.57it/s]\u001b[A\n",
            "Refining scale 2 using scale 1 ...current loss: 0.1031:   7% 1/15 [00:01<00:08,  1.57it/s]\u001b[A\n",
            "Refining scale 2 using scale 1 ...current loss: 0.1031:  13% 2/15 [00:01<00:09,  1.38it/s]\u001b[A\n",
            "Refining scale 2 using scale 1 ...current loss: 0.0957:  13% 2/15 [00:01<00:09,  1.38it/s]\u001b[A\n",
            "Refining scale 2 using scale 1 ...current loss: 0.0957:  20% 3/15 [00:02<00:09,  1.33it/s]\u001b[A\n",
            "Refining scale 2 using scale 1 ...current loss: 0.0893:  20% 3/15 [00:02<00:09,  1.33it/s]\u001b[A\n",
            "Refining scale 2 using scale 1 ...current loss: 0.0893:  27% 4/15 [00:02<00:08,  1.30it/s]\u001b[A\n",
            "Refining scale 2 using scale 1 ...current loss: 0.0822:  27% 4/15 [00:03<00:08,  1.30it/s]\u001b[A\n",
            "Refining scale 2 using scale 1 ...current loss: 0.0822:  33% 5/15 [00:03<00:07,  1.29it/s]\u001b[A\n",
            "Refining scale 2 using scale 1 ...current loss: 0.0763:  33% 5/15 [00:04<00:07,  1.29it/s]\u001b[A\n",
            "Refining scale 2 using scale 1 ...current loss: 0.0763:  40% 6/15 [00:04<00:06,  1.29it/s]\u001b[A\n",
            "Refining scale 2 using scale 1 ...current loss: 0.0727:  40% 6/15 [00:05<00:06,  1.29it/s]\u001b[A\n",
            "Refining scale 2 using scale 1 ...current loss: 0.0727:  47% 7/15 [00:05<00:06,  1.28it/s]\u001b[A\n",
            "Refining scale 2 using scale 1 ...current loss: 0.0687:  47% 7/15 [00:05<00:06,  1.28it/s]\u001b[A\n",
            "Refining scale 2 using scale 1 ...current loss: 0.0687:  53% 8/15 [00:06<00:05,  1.28it/s]\u001b[A\n",
            "Refining scale 2 using scale 1 ...current loss: 0.0657:  53% 8/15 [00:06<00:05,  1.28it/s]\u001b[A\n",
            "Refining scale 2 using scale 1 ...current loss: 0.0657:  60% 9/15 [00:06<00:04,  1.28it/s]\u001b[A\n",
            "Refining scale 2 using scale 1 ...current loss: 0.0635:  60% 9/15 [00:07<00:04,  1.28it/s]\u001b[A\n",
            "Refining scale 2 using scale 1 ...current loss: 0.0635:  67% 10/15 [00:07<00:03,  1.28it/s]\u001b[A\n",
            "Refining scale 2 using scale 1 ...current loss: 0.0611:  67% 10/15 [00:08<00:03,  1.28it/s]\u001b[A\n",
            "Refining scale 2 using scale 1 ...current loss: 0.0611:  73% 11/15 [00:08<00:03,  1.28it/s]\u001b[A\n",
            "Refining scale 2 using scale 1 ...current loss: 0.0589:  73% 11/15 [00:09<00:03,  1.28it/s]\u001b[A\n",
            "Refining scale 2 using scale 1 ...current loss: 0.0589:  80% 12/15 [00:09<00:02,  1.28it/s]\u001b[A\n",
            "Refining scale 2 using scale 1 ...current loss: 0.0577:  80% 12/15 [00:09<00:02,  1.28it/s]\u001b[A\n",
            "Refining scale 2 using scale 1 ...current loss: 0.0577:  87% 13/15 [00:10<00:01,  1.28it/s]\u001b[A\n",
            "Refining scale 2 using scale 1 ...current loss: 0.0552:  87% 13/15 [00:10<00:01,  1.28it/s]\u001b[A\n",
            "Refining scale 2 using scale 1 ...current loss: 0.0552:  93% 14/15 [00:10<00:00,  1.27it/s]\u001b[A\n",
            "Refining scale 2 using scale 1 ...current loss: 0.0542:  93% 14/15 [00:11<00:00,  1.27it/s]\u001b[A\n",
            "Refining scale 2 using scale 1 ...current loss: 0.0542: 100% 15/15 [00:11<00:00,  1.41it/s]\u001b[A\n",
            " 91% 676/746 [2:12:00<13:37, 11.68s/it]\n",
            "  0% 0/15 [00:00<?, ?it/s]\u001b[A\n",
            "                          \u001b[A\n",
            "  0% 0/15 [00:00<?, ?it/s]\u001b[A\n",
            "Refining scale 2 using scale 1 ...current loss: 0.1183:   0% 0/15 [00:00<?, ?it/s]\u001b[A\n",
            "Refining scale 2 using scale 1 ...current loss: 0.1183:   7% 1/15 [00:00<00:08,  1.58it/s]\u001b[A\n",
            "Refining scale 2 using scale 1 ...current loss: 0.0846:   7% 1/15 [00:01<00:08,  1.58it/s]\u001b[A\n",
            "Refining scale 2 using scale 1 ...current loss: 0.0846:  13% 2/15 [00:01<00:09,  1.38it/s]\u001b[A\n",
            "Refining scale 2 using scale 1 ...current loss: 0.0670:  13% 2/15 [00:01<00:09,  1.38it/s]\u001b[A\n",
            "Refining scale 2 using scale 1 ...current loss: 0.0670:  20% 3/15 [00:02<00:09,  1.33it/s]\u001b[A\n",
            "Refining scale 2 using scale 1 ...current loss: 0.0582:  20% 3/15 [00:02<00:09,  1.33it/s]\u001b[A\n",
            "Refining scale 2 using scale 1 ...current loss: 0.0582:  27% 4/15 [00:02<00:08,  1.31it/s]\u001b[A\n",
            "Refining scale 2 using scale 1 ...current loss: 0.0541:  27% 4/15 [00:03<00:08,  1.31it/s]\u001b[A\n",
            "Refining scale 2 using scale 1 ...current loss: 0.0541:  33% 5/15 [00:03<00:07,  1.29it/s]\u001b[A\n",
            "Refining scale 2 using scale 1 ...current loss: 0.0517:  33% 5/15 [00:04<00:07,  1.29it/s]\u001b[A\n",
            "Refining scale 2 using scale 1 ...current loss: 0.0517:  40% 6/15 [00:04<00:07,  1.28it/s]\u001b[A\n",
            "Refining scale 2 using scale 1 ...current loss: 0.0488:  40% 6/15 [00:05<00:07,  1.28it/s]\u001b[A\n",
            "Refining scale 2 using scale 1 ...current loss: 0.0488:  47% 7/15 [00:05<00:06,  1.28it/s]\u001b[A\n",
            "Refining scale 2 using scale 1 ...current loss: 0.0457:  47% 7/15 [00:05<00:06,  1.28it/s]\u001b[A\n",
            "Refining scale 2 using scale 1 ...current loss: 0.0457:  53% 8/15 [00:06<00:05,  1.28it/s]\u001b[A\n",
            "Refining scale 2 using scale 1 ...current loss: 0.0437:  53% 8/15 [00:06<00:05,  1.28it/s]\u001b[A\n",
            "Refining scale 2 using scale 1 ...current loss: 0.0437:  60% 9/15 [00:06<00:04,  1.27it/s]\u001b[A\n",
            "Refining scale 2 using scale 1 ...current loss: 0.0424:  60% 9/15 [00:07<00:04,  1.27it/s]\u001b[A\n",
            "Refining scale 2 using scale 1 ...current loss: 0.0424:  67% 10/15 [00:07<00:03,  1.27it/s]\u001b[A\n",
            "Refining scale 2 using scale 1 ...current loss: 0.0411:  67% 10/15 [00:08<00:03,  1.27it/s]\u001b[A\n",
            "Refining scale 2 using scale 1 ...current loss: 0.0411:  73% 11/15 [00:08<00:03,  1.27it/s]\u001b[A\n",
            "Refining scale 2 using scale 1 ...current loss: 0.0398:  73% 11/15 [00:09<00:03,  1.27it/s]\u001b[A\n",
            "Refining scale 2 using scale 1 ...current loss: 0.0398:  80% 12/15 [00:09<00:02,  1.27it/s]\u001b[A\n",
            "Refining scale 2 using scale 1 ...current loss: 0.0389:  80% 12/15 [00:09<00:02,  1.27it/s]\u001b[A\n",
            "Refining scale 2 using scale 1 ...current loss: 0.0389:  87% 13/15 [00:10<00:01,  1.27it/s]\u001b[A\n",
            "Refining scale 2 using scale 1 ...current loss: 0.0376:  87% 13/15 [00:10<00:01,  1.27it/s]\u001b[A\n",
            "Refining scale 2 using scale 1 ...current loss: 0.0376:  93% 14/15 [00:10<00:00,  1.27it/s]\u001b[A\n",
            "Refining scale 2 using scale 1 ...current loss: 0.0363:  93% 14/15 [00:11<00:00,  1.27it/s]\u001b[A\n",
            "Refining scale 2 using scale 1 ...current loss: 0.0363: 100% 15/15 [00:11<00:00,  1.42it/s]\u001b[A\n",
            " 91% 677/746 [2:12:11<13:26, 11.68s/it]\n",
            "  0% 0/15 [00:00<?, ?it/s]\u001b[A\n",
            "                          \u001b[A\n",
            "  0% 0/15 [00:00<?, ?it/s]\u001b[A\n",
            "Refining scale 2 using scale 1 ...current loss: 0.1671:   0% 0/15 [00:00<?, ?it/s]\u001b[A\n",
            "Refining scale 2 using scale 1 ...current loss: 0.1671:   7% 1/15 [00:00<00:08,  1.58it/s]\u001b[A\n",
            "Refining scale 2 using scale 1 ...current loss: 0.0783:   7% 1/15 [00:01<00:08,  1.58it/s]\u001b[A\n",
            "Refining scale 2 using scale 1 ...current loss: 0.0783:  13% 2/15 [00:01<00:09,  1.38it/s]\u001b[A\n",
            "Refining scale 2 using scale 1 ...current loss: 0.0599:  13% 2/15 [00:01<00:09,  1.38it/s]\u001b[A\n",
            "Refining scale 2 using scale 1 ...current loss: 0.0599:  20% 3/15 [00:02<00:09,  1.33it/s]\u001b[A\n",
            "Refining scale 2 using scale 1 ...current loss: 0.0590:  20% 3/15 [00:02<00:09,  1.33it/s]\u001b[A\n",
            "Refining scale 2 using scale 1 ...current loss: 0.0590:  27% 4/15 [00:02<00:08,  1.31it/s]\u001b[A\n",
            "Refining scale 2 using scale 1 ...current loss: 0.0550:  27% 4/15 [00:03<00:08,  1.31it/s]\u001b[A\n",
            "Refining scale 2 using scale 1 ...current loss: 0.0550:  33% 5/15 [00:03<00:07,  1.30it/s]\u001b[A\n",
            "Refining scale 2 using scale 1 ...current loss: 0.0503:  33% 5/15 [00:04<00:07,  1.30it/s]\u001b[A\n",
            "Refining scale 2 using scale 1 ...current loss: 0.0503:  40% 6/15 [00:04<00:06,  1.29it/s]\u001b[A\n",
            "Refining scale 2 using scale 1 ...current loss: 0.0478:  40% 6/15 [00:05<00:06,  1.29it/s]\u001b[A\n",
            "Refining scale 2 using scale 1 ...current loss: 0.0478:  47% 7/15 [00:05<00:06,  1.28it/s]\u001b[A\n",
            "Refining scale 2 using scale 1 ...current loss: 0.0462:  47% 7/15 [00:05<00:06,  1.28it/s]\u001b[A\n",
            "Refining scale 2 using scale 1 ...current loss: 0.0462:  53% 8/15 [00:06<00:05,  1.28it/s]\u001b[A\n",
            "Refining scale 2 using scale 1 ...current loss: 0.0449:  53% 8/15 [00:06<00:05,  1.28it/s]\u001b[A\n",
            "Refining scale 2 using scale 1 ...current loss: 0.0449:  60% 9/15 [00:06<00:04,  1.28it/s]\u001b[A\n",
            "Refining scale 2 using scale 1 ...current loss: 0.0434:  60% 9/15 [00:07<00:04,  1.28it/s]\u001b[A\n",
            "Refining scale 2 using scale 1 ...current loss: 0.0434:  67% 10/15 [00:07<00:03,  1.28it/s]\u001b[A\n",
            "Refining scale 2 using scale 1 ...current loss: 0.0414:  67% 10/15 [00:08<00:03,  1.28it/s]\u001b[A\n",
            "Refining scale 2 using scale 1 ...current loss: 0.0414:  73% 11/15 [00:08<00:03,  1.27it/s]\u001b[A\n",
            "Refining scale 2 using scale 1 ...current loss: 0.0396:  73% 11/15 [00:09<00:03,  1.27it/s]\u001b[A\n",
            "Refining scale 2 using scale 1 ...current loss: 0.0396:  80% 12/15 [00:09<00:02,  1.27it/s]\u001b[A\n",
            "Refining scale 2 using scale 1 ...current loss: 0.0383:  80% 12/15 [00:09<00:02,  1.27it/s]\u001b[A\n",
            "Refining scale 2 using scale 1 ...current loss: 0.0383:  87% 13/15 [00:10<00:01,  1.27it/s]\u001b[A\n",
            "Refining scale 2 using scale 1 ...current loss: 0.0374:  87% 13/15 [00:10<00:01,  1.27it/s]\u001b[A\n",
            "Refining scale 2 using scale 1 ...current loss: 0.0374:  93% 14/15 [00:10<00:00,  1.27it/s]\u001b[A\n",
            "Refining scale 2 using scale 1 ...current loss: 0.0366:  93% 14/15 [00:11<00:00,  1.27it/s]\u001b[A\n",
            "Refining scale 2 using scale 1 ...current loss: 0.0366: 100% 15/15 [00:11<00:00,  1.41it/s]\u001b[A\n",
            " 91% 678/746 [2:12:23<13:13, 11.67s/it]\n",
            "  0% 0/15 [00:00<?, ?it/s]\u001b[A\n",
            "                          \u001b[A\n",
            "  0% 0/15 [00:00<?, ?it/s]\u001b[A\n",
            "Refining scale 2 using scale 1 ...current loss: 0.0251:   0% 0/15 [00:00<?, ?it/s]\u001b[A\n",
            "Refining scale 2 using scale 1 ...current loss: 0.0251:   7% 1/15 [00:00<00:08,  1.58it/s]\u001b[A\n",
            "Refining scale 2 using scale 1 ...current loss: 0.0241:   7% 1/15 [00:01<00:08,  1.58it/s]\u001b[A\n",
            "Refining scale 2 using scale 1 ...current loss: 0.0241:  13% 2/15 [00:01<00:09,  1.38it/s]\u001b[A\n",
            "Refining scale 2 using scale 1 ...current loss: 0.0221:  13% 2/15 [00:01<00:09,  1.38it/s]\u001b[A\n",
            "Refining scale 2 using scale 1 ...current loss: 0.0221:  20% 3/15 [00:02<00:09,  1.33it/s]\u001b[A\n",
            "Refining scale 2 using scale 1 ...current loss: 0.0206:  20% 3/15 [00:02<00:09,  1.33it/s]\u001b[A\n",
            "Refining scale 2 using scale 1 ...current loss: 0.0206:  27% 4/15 [00:02<00:08,  1.31it/s]\u001b[A\n",
            "Refining scale 2 using scale 1 ...current loss: 0.0197:  27% 4/15 [00:03<00:08,  1.31it/s]\u001b[A\n",
            "Refining scale 2 using scale 1 ...current loss: 0.0197:  33% 5/15 [00:03<00:07,  1.30it/s]\u001b[A\n",
            "Refining scale 2 using scale 1 ...current loss: 0.0190:  33% 5/15 [00:04<00:07,  1.30it/s]\u001b[A\n",
            "Refining scale 2 using scale 1 ...current loss: 0.0190:  40% 6/15 [00:04<00:06,  1.29it/s]\u001b[A\n",
            "Refining scale 2 using scale 1 ...current loss: 0.0183:  40% 6/15 [00:05<00:06,  1.29it/s]\u001b[A\n",
            "Refining scale 2 using scale 1 ...current loss: 0.0183:  47% 7/15 [00:05<00:06,  1.28it/s]\u001b[A\n",
            "Refining scale 2 using scale 1 ...current loss: 0.0176:  47% 7/15 [00:05<00:06,  1.28it/s]\u001b[A\n",
            "Refining scale 2 using scale 1 ...current loss: 0.0176:  53% 8/15 [00:06<00:05,  1.28it/s]\u001b[A\n",
            "Refining scale 2 using scale 1 ...current loss: 0.0171:  53% 8/15 [00:06<00:05,  1.28it/s]\u001b[A\n",
            "Refining scale 2 using scale 1 ...current loss: 0.0171:  60% 9/15 [00:06<00:04,  1.28it/s]\u001b[A\n",
            "Refining scale 2 using scale 1 ...current loss: 0.0165:  60% 9/15 [00:07<00:04,  1.28it/s]\u001b[A\n",
            "Refining scale 2 using scale 1 ...current loss: 0.0165:  67% 10/15 [00:07<00:03,  1.28it/s]\u001b[A\n",
            "Refining scale 2 using scale 1 ...current loss: 0.0158:  67% 10/15 [00:08<00:03,  1.28it/s]\u001b[A\n",
            "Refining scale 2 using scale 1 ...current loss: 0.0158:  73% 11/15 [00:08<00:03,  1.28it/s]\u001b[A\n",
            "Refining scale 2 using scale 1 ...current loss: 0.0154:  73% 11/15 [00:08<00:03,  1.28it/s]\u001b[A\n",
            "Refining scale 2 using scale 1 ...current loss: 0.0154:  80% 12/15 [00:09<00:02,  1.27it/s]\u001b[A\n",
            "Refining scale 2 using scale 1 ...current loss: 0.0149:  80% 12/15 [00:09<00:02,  1.27it/s]\u001b[A\n",
            "Refining scale 2 using scale 1 ...current loss: 0.0149:  87% 13/15 [00:10<00:01,  1.27it/s]\u001b[A\n",
            "Refining scale 2 using scale 1 ...current loss: 0.0145:  87% 13/15 [00:10<00:01,  1.27it/s]\u001b[A\n",
            "Refining scale 2 using scale 1 ...current loss: 0.0145:  93% 14/15 [00:10<00:00,  1.27it/s]\u001b[A\n",
            "Refining scale 2 using scale 1 ...current loss: 0.0142:  93% 14/15 [00:11<00:00,  1.27it/s]\u001b[A\n",
            "Refining scale 2 using scale 1 ...current loss: 0.0142: 100% 15/15 [00:11<00:00,  1.41it/s]\u001b[A\n",
            " 91% 679/746 [2:12:35<13:01, 11.67s/it]\n",
            "  0% 0/15 [00:00<?, ?it/s]\u001b[A\n",
            "                          \u001b[A\n",
            "  0% 0/15 [00:00<?, ?it/s]\u001b[A\n",
            "Refining scale 2 using scale 1 ...current loss: 0.0538:   0% 0/15 [00:00<?, ?it/s]\u001b[A\n",
            "Refining scale 2 using scale 1 ...current loss: 0.0538:   7% 1/15 [00:00<00:08,  1.57it/s]\u001b[A\n",
            "Refining scale 2 using scale 1 ...current loss: 0.0426:   7% 1/15 [00:01<00:08,  1.57it/s]\u001b[A\n",
            "Refining scale 2 using scale 1 ...current loss: 0.0426:  13% 2/15 [00:01<00:09,  1.37it/s]\u001b[A\n",
            "Refining scale 2 using scale 1 ...current loss: 0.0346:  13% 2/15 [00:01<00:09,  1.37it/s]\u001b[A\n",
            "Refining scale 2 using scale 1 ...current loss: 0.0346:  20% 3/15 [00:02<00:09,  1.32it/s]\u001b[A\n",
            "Refining scale 2 using scale 1 ...current loss: 0.0311:  20% 3/15 [00:02<00:09,  1.32it/s]\u001b[A\n",
            "Refining scale 2 using scale 1 ...current loss: 0.0311:  27% 4/15 [00:03<00:08,  1.30it/s]\u001b[A\n",
            "Refining scale 2 using scale 1 ...current loss: 0.0282:  27% 4/15 [00:03<00:08,  1.30it/s]\u001b[A\n",
            "Refining scale 2 using scale 1 ...current loss: 0.0282:  33% 5/15 [00:03<00:07,  1.29it/s]\u001b[A\n",
            "Refining scale 2 using scale 1 ...current loss: 0.0262:  33% 5/15 [00:04<00:07,  1.29it/s]\u001b[A\n",
            "Refining scale 2 using scale 1 ...current loss: 0.0262:  40% 6/15 [00:04<00:06,  1.29it/s]\u001b[A\n",
            "Refining scale 2 using scale 1 ...current loss: 0.0242:  40% 6/15 [00:05<00:06,  1.29it/s]\u001b[A\n",
            "Refining scale 2 using scale 1 ...current loss: 0.0242:  47% 7/15 [00:05<00:06,  1.28it/s]\u001b[A\n",
            "Refining scale 2 using scale 1 ...current loss: 0.0228:  47% 7/15 [00:05<00:06,  1.28it/s]\u001b[A\n",
            "Refining scale 2 using scale 1 ...current loss: 0.0228:  53% 8/15 [00:06<00:05,  1.28it/s]\u001b[A\n",
            "Refining scale 2 using scale 1 ...current loss: 0.0216:  53% 8/15 [00:06<00:05,  1.28it/s]\u001b[A\n",
            "Refining scale 2 using scale 1 ...current loss: 0.0216:  60% 9/15 [00:06<00:04,  1.28it/s]\u001b[A\n",
            "Refining scale 2 using scale 1 ...current loss: 0.0205:  60% 9/15 [00:07<00:04,  1.28it/s]\u001b[A\n",
            "Refining scale 2 using scale 1 ...current loss: 0.0205:  67% 10/15 [00:07<00:03,  1.28it/s]\u001b[A\n",
            "Refining scale 2 using scale 1 ...current loss: 0.0196:  67% 10/15 [00:08<00:03,  1.28it/s]\u001b[A\n",
            "Refining scale 2 using scale 1 ...current loss: 0.0196:  73% 11/15 [00:08<00:03,  1.28it/s]\u001b[A\n",
            "Refining scale 2 using scale 1 ...current loss: 0.0187:  73% 11/15 [00:09<00:03,  1.28it/s]\u001b[A\n",
            "Refining scale 2 using scale 1 ...current loss: 0.0187:  80% 12/15 [00:09<00:02,  1.28it/s]\u001b[A\n",
            "Refining scale 2 using scale 1 ...current loss: 0.0181:  80% 12/15 [00:09<00:02,  1.28it/s]\u001b[A\n",
            "Refining scale 2 using scale 1 ...current loss: 0.0181:  87% 13/15 [00:10<00:01,  1.28it/s]\u001b[A\n",
            "Refining scale 2 using scale 1 ...current loss: 0.0174:  87% 13/15 [00:10<00:01,  1.28it/s]\u001b[A\n",
            "Refining scale 2 using scale 1 ...current loss: 0.0174:  93% 14/15 [00:10<00:00,  1.28it/s]\u001b[A\n",
            "Refining scale 2 using scale 1 ...current loss: 0.0168:  93% 14/15 [00:11<00:00,  1.28it/s]\u001b[A\n",
            "Refining scale 2 using scale 1 ...current loss: 0.0168: 100% 15/15 [00:11<00:00,  1.42it/s]\u001b[A\n",
            " 91% 680/746 [2:12:46<12:49, 11.67s/it]\n",
            "  0% 0/15 [00:00<?, ?it/s]\u001b[A\n",
            "                          \u001b[A\n",
            "  0% 0/15 [00:00<?, ?it/s]\u001b[A\n",
            "Refining scale 2 using scale 1 ...current loss: nan:   0% 0/15 [00:00<?, ?it/s]\u001b[A\n",
            "Refining scale 2 using scale 1 ...current loss: nan:   7% 1/15 [00:00<00:08,  1.58it/s]\u001b[A\n",
            "Refining scale 2 using scale 1 ...current loss: nan:   7% 1/15 [00:01<00:08,  1.58it/s]\u001b[A\n",
            "Refining scale 2 using scale 1 ...current loss: nan:  13% 2/15 [00:01<00:09,  1.38it/s]\u001b[A\n",
            "Refining scale 2 using scale 1 ...current loss: nan:  13% 2/15 [00:01<00:09,  1.38it/s]\u001b[A\n",
            "Refining scale 2 using scale 1 ...current loss: nan:  20% 3/15 [00:02<00:09,  1.33it/s]\u001b[A\n",
            "Refining scale 2 using scale 1 ...current loss: nan:  20% 3/15 [00:02<00:09,  1.33it/s]\u001b[A\n",
            "Refining scale 2 using scale 1 ...current loss: nan:  27% 4/15 [00:02<00:08,  1.31it/s]\u001b[A\n",
            "Refining scale 2 using scale 1 ...current loss: nan:  27% 4/15 [00:03<00:08,  1.31it/s]\u001b[A\n",
            "Refining scale 2 using scale 1 ...current loss: nan:  33% 5/15 [00:03<00:07,  1.29it/s]\u001b[A\n",
            "Refining scale 2 using scale 1 ...current loss: nan:  33% 5/15 [00:04<00:07,  1.29it/s]\u001b[A\n",
            "Refining scale 2 using scale 1 ...current loss: nan:  40% 6/15 [00:04<00:06,  1.29it/s]\u001b[A\n",
            "Refining scale 2 using scale 1 ...current loss: nan:  40% 6/15 [00:05<00:06,  1.29it/s]\u001b[A\n",
            "Refining scale 2 using scale 1 ...current loss: nan:  47% 7/15 [00:05<00:06,  1.28it/s]\u001b[A\n",
            "Refining scale 2 using scale 1 ...current loss: nan:  47% 7/15 [00:05<00:06,  1.28it/s]\u001b[A\n",
            "Refining scale 2 using scale 1 ...current loss: nan:  53% 8/15 [00:06<00:05,  1.28it/s]\u001b[A\n",
            "Refining scale 2 using scale 1 ...current loss: nan:  53% 8/15 [00:06<00:05,  1.28it/s]\u001b[A\n",
            "Refining scale 2 using scale 1 ...current loss: nan:  60% 9/15 [00:06<00:04,  1.28it/s]\u001b[A\n",
            "Refining scale 2 using scale 1 ...current loss: nan:  60% 9/15 [00:07<00:04,  1.28it/s]\u001b[A\n",
            "Refining scale 2 using scale 1 ...current loss: nan:  67% 10/15 [00:07<00:03,  1.28it/s]\u001b[A\n",
            "Refining scale 2 using scale 1 ...current loss: nan:  67% 10/15 [00:08<00:03,  1.28it/s]\u001b[A\n",
            "Refining scale 2 using scale 1 ...current loss: nan:  73% 11/15 [00:08<00:03,  1.28it/s]\u001b[A\n",
            "Refining scale 2 using scale 1 ...current loss: nan:  73% 11/15 [00:09<00:03,  1.28it/s]\u001b[A\n",
            "Refining scale 2 using scale 1 ...current loss: nan:  80% 12/15 [00:09<00:02,  1.28it/s]\u001b[A\n",
            "Refining scale 2 using scale 1 ...current loss: nan:  80% 12/15 [00:09<00:02,  1.28it/s]\u001b[A\n",
            "Refining scale 2 using scale 1 ...current loss: nan:  87% 13/15 [00:10<00:01,  1.28it/s]\u001b[A\n",
            "Refining scale 2 using scale 1 ...current loss: nan:  87% 13/15 [00:10<00:01,  1.28it/s]\u001b[A\n",
            "Refining scale 2 using scale 1 ...current loss: nan:  93% 14/15 [00:10<00:00,  1.28it/s]\u001b[A\n",
            "Refining scale 2 using scale 1 ...current loss: nan:  93% 14/15 [00:11<00:00,  1.28it/s]\u001b[A\n",
            "Refining scale 2 using scale 1 ...current loss: nan: 100% 15/15 [00:11<00:00,  1.42it/s]\u001b[A\n",
            " 91% 681/746 [2:12:58<12:37, 11.65s/it]\n",
            "  0% 0/15 [00:00<?, ?it/s]\u001b[A\n",
            "                          \u001b[A\n",
            "  0% 0/15 [00:00<?, ?it/s]\u001b[A\n",
            "Refining scale 2 using scale 1 ...current loss: 0.0536:   0% 0/15 [00:00<?, ?it/s]\u001b[A\n",
            "Refining scale 2 using scale 1 ...current loss: 0.0536:   7% 1/15 [00:00<00:08,  1.58it/s]\u001b[A\n",
            "Refining scale 2 using scale 1 ...current loss: 0.0342:   7% 1/15 [00:01<00:08,  1.58it/s]\u001b[A\n",
            "Refining scale 2 using scale 1 ...current loss: 0.0342:  13% 2/15 [00:01<00:09,  1.38it/s]\u001b[A\n",
            "Refining scale 2 using scale 1 ...current loss: 0.0302:  13% 2/15 [00:01<00:09,  1.38it/s]\u001b[A\n",
            "Refining scale 2 using scale 1 ...current loss: 0.0302:  20% 3/15 [00:02<00:09,  1.33it/s]\u001b[A\n",
            "Refining scale 2 using scale 1 ...current loss: 0.0262:  20% 3/15 [00:02<00:09,  1.33it/s]\u001b[A\n",
            "Refining scale 2 using scale 1 ...current loss: 0.0262:  27% 4/15 [00:02<00:08,  1.31it/s]\u001b[A\n",
            "Refining scale 2 using scale 1 ...current loss: 0.0224:  27% 4/15 [00:03<00:08,  1.31it/s]\u001b[A\n",
            "Refining scale 2 using scale 1 ...current loss: 0.0224:  33% 5/15 [00:03<00:07,  1.30it/s]\u001b[A\n",
            "Refining scale 2 using scale 1 ...current loss: 0.0208:  33% 5/15 [00:04<00:07,  1.30it/s]\u001b[A\n",
            "Refining scale 2 using scale 1 ...current loss: 0.0208:  40% 6/15 [00:04<00:06,  1.29it/s]\u001b[A\n",
            "Refining scale 2 using scale 1 ...current loss: 0.0195:  40% 6/15 [00:05<00:06,  1.29it/s]\u001b[A\n",
            "Refining scale 2 using scale 1 ...current loss: 0.0195:  47% 7/15 [00:05<00:06,  1.29it/s]\u001b[A\n",
            "Refining scale 2 using scale 1 ...current loss: 0.0184:  47% 7/15 [00:05<00:06,  1.29it/s]\u001b[A\n",
            "Refining scale 2 using scale 1 ...current loss: 0.0184:  53% 8/15 [00:06<00:05,  1.28it/s]\u001b[A\n",
            "Refining scale 2 using scale 1 ...current loss: 0.0176:  53% 8/15 [00:06<00:05,  1.28it/s]\u001b[A\n",
            "Refining scale 2 using scale 1 ...current loss: 0.0176:  60% 9/15 [00:06<00:04,  1.28it/s]\u001b[A\n",
            "Refining scale 2 using scale 1 ...current loss: 0.0168:  60% 9/15 [00:07<00:04,  1.28it/s]\u001b[A\n",
            "Refining scale 2 using scale 1 ...current loss: 0.0168:  67% 10/15 [00:07<00:03,  1.28it/s]\u001b[A\n",
            "Refining scale 2 using scale 1 ...current loss: 0.0161:  67% 10/15 [00:08<00:03,  1.28it/s]\u001b[A\n",
            "Refining scale 2 using scale 1 ...current loss: 0.0161:  73% 11/15 [00:08<00:03,  1.28it/s]\u001b[A\n",
            "Refining scale 2 using scale 1 ...current loss: 0.0157:  73% 11/15 [00:09<00:03,  1.28it/s]\u001b[A\n",
            "Refining scale 2 using scale 1 ...current loss: 0.0157:  80% 12/15 [00:09<00:02,  1.27it/s]\u001b[A\n",
            "Refining scale 2 using scale 1 ...current loss: 0.0150:  80% 12/15 [00:09<00:02,  1.27it/s]\u001b[A\n",
            "Refining scale 2 using scale 1 ...current loss: 0.0150:  87% 13/15 [00:10<00:01,  1.27it/s]\u001b[A\n",
            "Refining scale 2 using scale 1 ...current loss: 0.0149:  87% 13/15 [00:10<00:01,  1.27it/s]\u001b[A\n",
            "Refining scale 2 using scale 1 ...current loss: 0.0149:  93% 14/15 [00:10<00:00,  1.27it/s]\u001b[A\n",
            "Refining scale 2 using scale 1 ...current loss: 0.0141:  93% 14/15 [00:11<00:00,  1.27it/s]\u001b[A\n",
            "Refining scale 2 using scale 1 ...current loss: 0.0141: 100% 15/15 [00:11<00:00,  1.42it/s]\u001b[A\n",
            " 91% 682/746 [2:13:10<12:25, 11.65s/it]\n",
            "  0% 0/15 [00:00<?, ?it/s]\u001b[A\n",
            "                          \u001b[A\n",
            "  0% 0/15 [00:00<?, ?it/s]\u001b[A\n",
            "Refining scale 2 using scale 1 ...current loss: 0.0702:   0% 0/15 [00:00<?, ?it/s]\u001b[A\n",
            "Refining scale 2 using scale 1 ...current loss: 0.0702:   7% 1/15 [00:00<00:08,  1.59it/s]\u001b[A\n",
            "Refining scale 2 using scale 1 ...current loss: 0.0568:   7% 1/15 [00:01<00:08,  1.59it/s]\u001b[A\n",
            "Refining scale 2 using scale 1 ...current loss: 0.0568:  13% 2/15 [00:01<00:09,  1.39it/s]\u001b[A\n",
            "Refining scale 2 using scale 1 ...current loss: 0.0485:  13% 2/15 [00:01<00:09,  1.39it/s]\u001b[A\n",
            "Refining scale 2 using scale 1 ...current loss: 0.0485:  20% 3/15 [00:02<00:09,  1.33it/s]\u001b[A\n",
            "Refining scale 2 using scale 1 ...current loss: 0.0442:  20% 3/15 [00:02<00:09,  1.33it/s]\u001b[A\n",
            "Refining scale 2 using scale 1 ...current loss: 0.0442:  27% 4/15 [00:02<00:08,  1.31it/s]\u001b[A\n",
            "Refining scale 2 using scale 1 ...current loss: 0.0410:  27% 4/15 [00:03<00:08,  1.31it/s]\u001b[A\n",
            "Refining scale 2 using scale 1 ...current loss: 0.0410:  33% 5/15 [00:03<00:07,  1.30it/s]\u001b[A\n",
            "Refining scale 2 using scale 1 ...current loss: 0.0375:  33% 5/15 [00:04<00:07,  1.30it/s]\u001b[A\n",
            "Refining scale 2 using scale 1 ...current loss: 0.0375:  40% 6/15 [00:04<00:06,  1.29it/s]\u001b[A\n",
            "Refining scale 2 using scale 1 ...current loss: 0.0353:  40% 6/15 [00:05<00:06,  1.29it/s]\u001b[A\n",
            "Refining scale 2 using scale 1 ...current loss: 0.0353:  47% 7/15 [00:05<00:06,  1.28it/s]\u001b[A\n",
            "Refining scale 2 using scale 1 ...current loss: 0.0339:  47% 7/15 [00:05<00:06,  1.28it/s]\u001b[A\n",
            "Refining scale 2 using scale 1 ...current loss: 0.0339:  53% 8/15 [00:06<00:05,  1.28it/s]\u001b[A\n",
            "Refining scale 2 using scale 1 ...current loss: 0.0322:  53% 8/15 [00:06<00:05,  1.28it/s]\u001b[A\n",
            "Refining scale 2 using scale 1 ...current loss: 0.0322:  60% 9/15 [00:06<00:04,  1.28it/s]\u001b[A\n",
            "Refining scale 2 using scale 1 ...current loss: 0.0308:  60% 9/15 [00:07<00:04,  1.28it/s]\u001b[A\n",
            "Refining scale 2 using scale 1 ...current loss: 0.0308:  67% 10/15 [00:07<00:03,  1.28it/s]\u001b[A\n",
            "Refining scale 2 using scale 1 ...current loss: 0.0298:  67% 10/15 [00:08<00:03,  1.28it/s]\u001b[A\n",
            "Refining scale 2 using scale 1 ...current loss: 0.0298:  73% 11/15 [00:08<00:03,  1.28it/s]\u001b[A\n",
            "Refining scale 2 using scale 1 ...current loss: 0.0286:  73% 11/15 [00:08<00:03,  1.28it/s]\u001b[A\n",
            "Refining scale 2 using scale 1 ...current loss: 0.0286:  80% 12/15 [00:09<00:02,  1.28it/s]\u001b[A\n",
            "Refining scale 2 using scale 1 ...current loss: 0.0276:  80% 12/15 [00:09<00:02,  1.28it/s]\u001b[A\n",
            "Refining scale 2 using scale 1 ...current loss: 0.0276:  87% 13/15 [00:10<00:01,  1.28it/s]\u001b[A\n",
            "Refining scale 2 using scale 1 ...current loss: 0.0268:  87% 13/15 [00:10<00:01,  1.28it/s]\u001b[A\n",
            "Refining scale 2 using scale 1 ...current loss: 0.0268:  93% 14/15 [00:10<00:00,  1.27it/s]\u001b[A\n",
            "Refining scale 2 using scale 1 ...current loss: 0.0262:  93% 14/15 [00:11<00:00,  1.27it/s]\u001b[A\n",
            "Refining scale 2 using scale 1 ...current loss: 0.0262: 100% 15/15 [00:11<00:00,  1.41it/s]\u001b[A\n",
            " 92% 683/746 [2:13:21<12:13, 11.64s/it]\n",
            "  0% 0/15 [00:00<?, ?it/s]\u001b[A\n",
            "                          \u001b[A\n",
            "  0% 0/15 [00:00<?, ?it/s]\u001b[A\n",
            "Refining scale 2 using scale 1 ...current loss: nan:   0% 0/15 [00:00<?, ?it/s]\u001b[A\n",
            "Refining scale 2 using scale 1 ...current loss: nan:   7% 1/15 [00:00<00:08,  1.57it/s]\u001b[A\n",
            "Refining scale 2 using scale 1 ...current loss: nan:   7% 1/15 [00:01<00:08,  1.57it/s]\u001b[A\n",
            "Refining scale 2 using scale 1 ...current loss: nan:  13% 2/15 [00:01<00:09,  1.38it/s]\u001b[A\n",
            "Refining scale 2 using scale 1 ...current loss: nan:  13% 2/15 [00:01<00:09,  1.38it/s]\u001b[A\n",
            "Refining scale 2 using scale 1 ...current loss: nan:  20% 3/15 [00:02<00:09,  1.33it/s]\u001b[A\n",
            "Refining scale 2 using scale 1 ...current loss: nan:  20% 3/15 [00:02<00:09,  1.33it/s]\u001b[A\n",
            "Refining scale 2 using scale 1 ...current loss: nan:  27% 4/15 [00:02<00:08,  1.31it/s]\u001b[A\n",
            "Refining scale 2 using scale 1 ...current loss: nan:  27% 4/15 [00:03<00:08,  1.31it/s]\u001b[A\n",
            "Refining scale 2 using scale 1 ...current loss: nan:  33% 5/15 [00:03<00:07,  1.30it/s]\u001b[A\n",
            "Refining scale 2 using scale 1 ...current loss: nan:  33% 5/15 [00:04<00:07,  1.30it/s]\u001b[A\n",
            "Refining scale 2 using scale 1 ...current loss: nan:  40% 6/15 [00:04<00:06,  1.29it/s]\u001b[A\n",
            "Refining scale 2 using scale 1 ...current loss: nan:  40% 6/15 [00:05<00:06,  1.29it/s]\u001b[A\n",
            "Refining scale 2 using scale 1 ...current loss: nan:  47% 7/15 [00:05<00:06,  1.29it/s]\u001b[A\n",
            "Refining scale 2 using scale 1 ...current loss: nan:  47% 7/15 [00:05<00:06,  1.29it/s]\u001b[A\n",
            "Refining scale 2 using scale 1 ...current loss: nan:  53% 8/15 [00:06<00:05,  1.28it/s]\u001b[A\n",
            "Refining scale 2 using scale 1 ...current loss: nan:  53% 8/15 [00:06<00:05,  1.28it/s]\u001b[A\n",
            "Refining scale 2 using scale 1 ...current loss: nan:  60% 9/15 [00:06<00:04,  1.28it/s]\u001b[A\n",
            "Refining scale 2 using scale 1 ...current loss: nan:  60% 9/15 [00:07<00:04,  1.28it/s]\u001b[A\n",
            "Refining scale 2 using scale 1 ...current loss: nan:  67% 10/15 [00:07<00:03,  1.28it/s]\u001b[A\n",
            "Refining scale 2 using scale 1 ...current loss: nan:  67% 10/15 [00:08<00:03,  1.28it/s]\u001b[A\n",
            "Refining scale 2 using scale 1 ...current loss: nan:  73% 11/15 [00:08<00:03,  1.28it/s]\u001b[A\n",
            "Refining scale 2 using scale 1 ...current loss: nan:  73% 11/15 [00:08<00:03,  1.28it/s]\u001b[A\n",
            "Refining scale 2 using scale 1 ...current loss: nan:  80% 12/15 [00:09<00:02,  1.28it/s]\u001b[A\n",
            "Refining scale 2 using scale 1 ...current loss: nan:  80% 12/15 [00:09<00:02,  1.28it/s]\u001b[A\n",
            "Refining scale 2 using scale 1 ...current loss: nan:  87% 13/15 [00:10<00:01,  1.28it/s]\u001b[A\n",
            "Refining scale 2 using scale 1 ...current loss: nan:  87% 13/15 [00:10<00:01,  1.28it/s]\u001b[A\n",
            "Refining scale 2 using scale 1 ...current loss: nan:  93% 14/15 [00:10<00:00,  1.28it/s]\u001b[A\n",
            "Refining scale 2 using scale 1 ...current loss: nan:  93% 14/15 [00:11<00:00,  1.28it/s]\u001b[A\n",
            "Refining scale 2 using scale 1 ...current loss: nan: 100% 15/15 [00:11<00:00,  1.42it/s]\u001b[A\n",
            " 92% 684/746 [2:13:33<12:02, 11.65s/it]\n",
            "  0% 0/15 [00:00<?, ?it/s]\u001b[A\n",
            "                          \u001b[A\n",
            "  0% 0/15 [00:00<?, ?it/s]\u001b[A\n",
            "Refining scale 2 using scale 1 ...current loss: 0.0229:   0% 0/15 [00:00<?, ?it/s]\u001b[A\n",
            "Refining scale 2 using scale 1 ...current loss: 0.0229:   7% 1/15 [00:00<00:08,  1.58it/s]\u001b[A\n",
            "Refining scale 2 using scale 1 ...current loss: 0.0195:   7% 1/15 [00:01<00:08,  1.58it/s]\u001b[A\n",
            "Refining scale 2 using scale 1 ...current loss: 0.0195:  13% 2/15 [00:01<00:09,  1.38it/s]\u001b[A\n",
            "Refining scale 2 using scale 1 ...current loss: 0.0179:  13% 2/15 [00:01<00:09,  1.38it/s]\u001b[A\n",
            "Refining scale 2 using scale 1 ...current loss: 0.0179:  20% 3/15 [00:02<00:09,  1.33it/s]\u001b[A\n",
            "Refining scale 2 using scale 1 ...current loss: 0.0172:  20% 3/15 [00:02<00:09,  1.33it/s]\u001b[A\n",
            "Refining scale 2 using scale 1 ...current loss: 0.0172:  27% 4/15 [00:02<00:08,  1.30it/s]\u001b[A\n",
            "Refining scale 2 using scale 1 ...current loss: 0.0158:  27% 4/15 [00:03<00:08,  1.30it/s]\u001b[A\n",
            "Refining scale 2 using scale 1 ...current loss: 0.0158:  33% 5/15 [00:03<00:07,  1.29it/s]\u001b[A\n",
            "Refining scale 2 using scale 1 ...current loss: 0.0144:  33% 5/15 [00:04<00:07,  1.29it/s]\u001b[A\n",
            "Refining scale 2 using scale 1 ...current loss: 0.0144:  40% 6/15 [00:04<00:07,  1.28it/s]\u001b[A\n",
            "Refining scale 2 using scale 1 ...current loss: 0.0136:  40% 6/15 [00:05<00:07,  1.28it/s]\u001b[A\n",
            "Refining scale 2 using scale 1 ...current loss: 0.0136:  47% 7/15 [00:05<00:06,  1.28it/s]\u001b[A\n",
            "Refining scale 2 using scale 1 ...current loss: 0.0133:  47% 7/15 [00:05<00:06,  1.28it/s]\u001b[A\n",
            "Refining scale 2 using scale 1 ...current loss: 0.0133:  53% 8/15 [00:06<00:05,  1.28it/s]\u001b[A\n",
            "Refining scale 2 using scale 1 ...current loss: 0.0128:  53% 8/15 [00:06<00:05,  1.28it/s]\u001b[A\n",
            "Refining scale 2 using scale 1 ...current loss: 0.0128:  60% 9/15 [00:06<00:04,  1.27it/s]\u001b[A\n",
            "Refining scale 2 using scale 1 ...current loss: 0.0120:  60% 9/15 [00:07<00:04,  1.27it/s]\u001b[A\n",
            "Refining scale 2 using scale 1 ...current loss: 0.0120:  67% 10/15 [00:07<00:03,  1.27it/s]\u001b[A\n",
            "Refining scale 2 using scale 1 ...current loss: 0.0114:  67% 10/15 [00:08<00:03,  1.27it/s]\u001b[A\n",
            "Refining scale 2 using scale 1 ...current loss: 0.0114:  73% 11/15 [00:08<00:03,  1.27it/s]\u001b[A\n",
            "Refining scale 2 using scale 1 ...current loss: 0.0109:  73% 11/15 [00:09<00:03,  1.27it/s]\u001b[A\n",
            "Refining scale 2 using scale 1 ...current loss: 0.0109:  80% 12/15 [00:09<00:02,  1.27it/s]\u001b[A\n",
            "Refining scale 2 using scale 1 ...current loss: 0.0105:  80% 12/15 [00:09<00:02,  1.27it/s]\u001b[A\n",
            "Refining scale 2 using scale 1 ...current loss: 0.0105:  87% 13/15 [00:10<00:01,  1.27it/s]\u001b[A\n",
            "Refining scale 2 using scale 1 ...current loss: 0.0101:  87% 13/15 [00:10<00:01,  1.27it/s]\u001b[A\n",
            "Refining scale 2 using scale 1 ...current loss: 0.0101:  93% 14/15 [00:10<00:00,  1.27it/s]\u001b[A\n",
            "Refining scale 2 using scale 1 ...current loss: 0.0099:  93% 14/15 [00:11<00:00,  1.27it/s]\u001b[A\n",
            "Refining scale 2 using scale 1 ...current loss: 0.0099: 100% 15/15 [00:11<00:00,  1.42it/s]\u001b[A\n",
            " 92% 685/746 [2:13:45<11:50, 11.65s/it]\n",
            "  0% 0/15 [00:00<?, ?it/s]\u001b[A\n",
            "                          \u001b[A\n",
            "  0% 0/15 [00:00<?, ?it/s]\u001b[A\n",
            "Refining scale 2 using scale 1 ...current loss: 0.0102:   0% 0/15 [00:00<?, ?it/s]\u001b[A\n",
            "Refining scale 2 using scale 1 ...current loss: 0.0102:   7% 1/15 [00:00<00:08,  1.58it/s]\u001b[A\n",
            "Refining scale 2 using scale 1 ...current loss: 0.0089:   7% 1/15 [00:01<00:08,  1.58it/s]\u001b[A\n",
            "Refining scale 2 using scale 1 ...current loss: 0.0089:  13% 2/15 [00:01<00:09,  1.38it/s]\u001b[A\n",
            "Refining scale 2 using scale 1 ...current loss: 0.0094:  13% 2/15 [00:01<00:09,  1.38it/s]\u001b[A\n",
            "Refining scale 2 using scale 1 ...current loss: 0.0094:  20% 3/15 [00:02<00:09,  1.33it/s]\u001b[A\n",
            "Refining scale 2 using scale 1 ...current loss: 0.0080:  20% 3/15 [00:02<00:09,  1.33it/s]\u001b[A\n",
            "Refining scale 2 using scale 1 ...current loss: 0.0080:  27% 4/15 [00:02<00:08,  1.31it/s]\u001b[A\n",
            "Refining scale 2 using scale 1 ...current loss: 0.0077:  27% 4/15 [00:03<00:08,  1.31it/s]\u001b[A\n",
            "Refining scale 2 using scale 1 ...current loss: 0.0077:  33% 5/15 [00:03<00:07,  1.30it/s]\u001b[A\n",
            "Refining scale 2 using scale 1 ...current loss: 0.0074:  33% 5/15 [00:04<00:07,  1.30it/s]\u001b[A\n",
            "Refining scale 2 using scale 1 ...current loss: 0.0074:  40% 6/15 [00:04<00:06,  1.29it/s]\u001b[A\n",
            "Refining scale 2 using scale 1 ...current loss: 0.0072:  40% 6/15 [00:05<00:06,  1.29it/s]\u001b[A\n",
            "Refining scale 2 using scale 1 ...current loss: 0.0072:  47% 7/15 [00:05<00:06,  1.28it/s]\u001b[A\n",
            "Refining scale 2 using scale 1 ...current loss: 0.0069:  47% 7/15 [00:05<00:06,  1.28it/s]\u001b[A\n",
            "Refining scale 2 using scale 1 ...current loss: 0.0069:  53% 8/15 [00:06<00:05,  1.28it/s]\u001b[A\n",
            "Refining scale 2 using scale 1 ...current loss: 0.0067:  53% 8/15 [00:06<00:05,  1.28it/s]\u001b[A\n",
            "Refining scale 2 using scale 1 ...current loss: 0.0067:  60% 9/15 [00:06<00:04,  1.28it/s]\u001b[A\n",
            "Refining scale 2 using scale 1 ...current loss: 0.0065:  60% 9/15 [00:07<00:04,  1.28it/s]\u001b[A\n",
            "Refining scale 2 using scale 1 ...current loss: 0.0065:  67% 10/15 [00:07<00:03,  1.27it/s]\u001b[A\n",
            "Refining scale 2 using scale 1 ...current loss: 0.0064:  67% 10/15 [00:08<00:03,  1.27it/s]\u001b[A\n",
            "Refining scale 2 using scale 1 ...current loss: 0.0064:  73% 11/15 [00:08<00:03,  1.27it/s]\u001b[A\n",
            "Refining scale 2 using scale 1 ...current loss: 0.0062:  73% 11/15 [00:09<00:03,  1.27it/s]\u001b[A\n",
            "Refining scale 2 using scale 1 ...current loss: 0.0062:  80% 12/15 [00:09<00:02,  1.27it/s]\u001b[A\n",
            "Refining scale 2 using scale 1 ...current loss: 0.0061:  80% 12/15 [00:09<00:02,  1.27it/s]\u001b[A\n",
            "Refining scale 2 using scale 1 ...current loss: 0.0061:  87% 13/15 [00:10<00:01,  1.27it/s]\u001b[A\n",
            "Refining scale 2 using scale 1 ...current loss: 0.0060:  87% 13/15 [00:10<00:01,  1.27it/s]\u001b[A\n",
            "Refining scale 2 using scale 1 ...current loss: 0.0060:  93% 14/15 [00:10<00:00,  1.27it/s]\u001b[A\n",
            "Refining scale 2 using scale 1 ...current loss: 0.0059:  93% 14/15 [00:11<00:00,  1.27it/s]\u001b[A\n",
            "Refining scale 2 using scale 1 ...current loss: 0.0059: 100% 15/15 [00:11<00:00,  1.41it/s]\u001b[A\n",
            " 92% 686/746 [2:13:56<11:38, 11.65s/it]\n",
            "  0% 0/15 [00:00<?, ?it/s]\u001b[A\n",
            "                          \u001b[A\n",
            "  0% 0/15 [00:00<?, ?it/s]\u001b[A\n",
            "Refining scale 2 using scale 1 ...current loss: 0.0330:   0% 0/15 [00:00<?, ?it/s]\u001b[A\n",
            "Refining scale 2 using scale 1 ...current loss: 0.0330:   7% 1/15 [00:00<00:08,  1.58it/s]\u001b[A\n",
            "Refining scale 2 using scale 1 ...current loss: 0.0328:   7% 1/15 [00:01<00:08,  1.58it/s]\u001b[A\n",
            "Refining scale 2 using scale 1 ...current loss: 0.0328:  13% 2/15 [00:01<00:09,  1.38it/s]\u001b[A\n",
            "Refining scale 2 using scale 1 ...current loss: 0.0201:  13% 2/15 [00:01<00:09,  1.38it/s]\u001b[A\n",
            "Refining scale 2 using scale 1 ...current loss: 0.0201:  20% 3/15 [00:02<00:09,  1.33it/s]\u001b[A\n",
            "Refining scale 2 using scale 1 ...current loss: 0.0197:  20% 3/15 [00:02<00:09,  1.33it/s]\u001b[A\n",
            "Refining scale 2 using scale 1 ...current loss: 0.0197:  27% 4/15 [00:02<00:08,  1.31it/s]\u001b[A\n",
            "Refining scale 2 using scale 1 ...current loss: 0.0183:  27% 4/15 [00:03<00:08,  1.31it/s]\u001b[A\n",
            "Refining scale 2 using scale 1 ...current loss: 0.0183:  33% 5/15 [00:03<00:07,  1.30it/s]\u001b[A\n",
            "Refining scale 2 using scale 1 ...current loss: 0.0172:  33% 5/15 [00:04<00:07,  1.30it/s]\u001b[A\n",
            "Refining scale 2 using scale 1 ...current loss: 0.0172:  40% 6/15 [00:04<00:06,  1.29it/s]\u001b[A\n",
            "Refining scale 2 using scale 1 ...current loss: 0.0152:  40% 6/15 [00:05<00:06,  1.29it/s]\u001b[A\n",
            "Refining scale 2 using scale 1 ...current loss: 0.0152:  47% 7/15 [00:05<00:06,  1.28it/s]\u001b[A\n",
            "Refining scale 2 using scale 1 ...current loss: 0.0146:  47% 7/15 [00:05<00:06,  1.28it/s]\u001b[A\n",
            "Refining scale 2 using scale 1 ...current loss: 0.0146:  53% 8/15 [00:06<00:05,  1.28it/s]\u001b[A\n",
            "Refining scale 2 using scale 1 ...current loss: 0.0150:  53% 8/15 [00:06<00:05,  1.28it/s]\u001b[A\n",
            "Refining scale 2 using scale 1 ...current loss: 0.0150:  60% 9/15 [00:06<00:04,  1.28it/s]\u001b[A\n",
            "Refining scale 2 using scale 1 ...current loss: 0.0120:  60% 9/15 [00:07<00:04,  1.28it/s]\u001b[A\n",
            "Refining scale 2 using scale 1 ...current loss: 0.0120:  67% 10/15 [00:07<00:03,  1.28it/s]\u001b[A\n",
            "Refining scale 2 using scale 1 ...current loss: 0.0127:  67% 10/15 [00:08<00:03,  1.28it/s]\u001b[A\n",
            "Refining scale 2 using scale 1 ...current loss: 0.0127:  73% 11/15 [00:08<00:03,  1.28it/s]\u001b[A\n",
            "Refining scale 2 using scale 1 ...current loss: 0.0113:  73% 11/15 [00:09<00:03,  1.28it/s]\u001b[A\n",
            "Refining scale 2 using scale 1 ...current loss: 0.0113:  80% 12/15 [00:09<00:02,  1.27it/s]\u001b[A\n",
            "Refining scale 2 using scale 1 ...current loss: 0.0111:  80% 12/15 [00:09<00:02,  1.27it/s]\u001b[A\n",
            "Refining scale 2 using scale 1 ...current loss: 0.0111:  87% 13/15 [00:10<00:01,  1.27it/s]\u001b[A\n",
            "Refining scale 2 using scale 1 ...current loss: 0.0112:  87% 13/15 [00:10<00:01,  1.27it/s]\u001b[A\n",
            "Refining scale 2 using scale 1 ...current loss: 0.0112:  93% 14/15 [00:10<00:00,  1.27it/s]\u001b[A\n",
            "Refining scale 2 using scale 1 ...current loss: 0.0105:  93% 14/15 [00:11<00:00,  1.27it/s]\u001b[A\n",
            "Refining scale 2 using scale 1 ...current loss: 0.0105: 100% 15/15 [00:11<00:00,  1.42it/s]\u001b[A\n",
            " 92% 687/746 [2:14:08<11:27, 11.65s/it]\n",
            "  0% 0/15 [00:00<?, ?it/s]\u001b[A\n",
            "                          \u001b[A\n",
            "  0% 0/15 [00:00<?, ?it/s]\u001b[A\n",
            "Refining scale 2 using scale 1 ...current loss: 0.0244:   0% 0/15 [00:00<?, ?it/s]\u001b[A\n",
            "Refining scale 2 using scale 1 ...current loss: 0.0244:   7% 1/15 [00:00<00:08,  1.58it/s]\u001b[A\n",
            "Refining scale 2 using scale 1 ...current loss: 0.0222:   7% 1/15 [00:01<00:08,  1.58it/s]\u001b[A\n",
            "Refining scale 2 using scale 1 ...current loss: 0.0222:  13% 2/15 [00:01<00:09,  1.38it/s]\u001b[A\n",
            "Refining scale 2 using scale 1 ...current loss: 0.0194:  13% 2/15 [00:01<00:09,  1.38it/s]\u001b[A\n",
            "Refining scale 2 using scale 1 ...current loss: 0.0194:  20% 3/15 [00:02<00:09,  1.32it/s]\u001b[A\n",
            "Refining scale 2 using scale 1 ...current loss: 0.0178:  20% 3/15 [00:02<00:09,  1.32it/s]\u001b[A\n",
            "Refining scale 2 using scale 1 ...current loss: 0.0178:  27% 4/15 [00:02<00:08,  1.30it/s]\u001b[A\n",
            "Refining scale 2 using scale 1 ...current loss: 0.0162:  27% 4/15 [00:03<00:08,  1.30it/s]\u001b[A\n",
            "Refining scale 2 using scale 1 ...current loss: 0.0162:  33% 5/15 [00:03<00:07,  1.29it/s]\u001b[A\n",
            "Refining scale 2 using scale 1 ...current loss: 0.0154:  33% 5/15 [00:04<00:07,  1.29it/s]\u001b[A\n",
            "Refining scale 2 using scale 1 ...current loss: 0.0154:  40% 6/15 [00:04<00:07,  1.28it/s]\u001b[A\n",
            "Refining scale 2 using scale 1 ...current loss: 0.0146:  40% 6/15 [00:05<00:07,  1.28it/s]\u001b[A\n",
            "Refining scale 2 using scale 1 ...current loss: 0.0146:  47% 7/15 [00:05<00:06,  1.28it/s]\u001b[A\n",
            "Refining scale 2 using scale 1 ...current loss: 0.0140:  47% 7/15 [00:05<00:06,  1.28it/s]\u001b[A\n",
            "Refining scale 2 using scale 1 ...current loss: 0.0140:  53% 8/15 [00:06<00:05,  1.28it/s]\u001b[A\n",
            "Refining scale 2 using scale 1 ...current loss: 0.0135:  53% 8/15 [00:06<00:05,  1.28it/s]\u001b[A\n",
            "Refining scale 2 using scale 1 ...current loss: 0.0135:  60% 9/15 [00:06<00:04,  1.28it/s]\u001b[A\n",
            "Refining scale 2 using scale 1 ...current loss: 0.0131:  60% 9/15 [00:07<00:04,  1.28it/s]\u001b[A\n",
            "Refining scale 2 using scale 1 ...current loss: 0.0131:  67% 10/15 [00:07<00:03,  1.28it/s]\u001b[A\n",
            "Refining scale 2 using scale 1 ...current loss: 0.0126:  67% 10/15 [00:08<00:03,  1.28it/s]\u001b[A\n",
            "Refining scale 2 using scale 1 ...current loss: 0.0126:  73% 11/15 [00:08<00:03,  1.28it/s]\u001b[A\n",
            "Refining scale 2 using scale 1 ...current loss: 0.0122:  73% 11/15 [00:09<00:03,  1.28it/s]\u001b[A\n",
            "Refining scale 2 using scale 1 ...current loss: 0.0122:  80% 12/15 [00:09<00:02,  1.28it/s]\u001b[A\n",
            "Refining scale 2 using scale 1 ...current loss: 0.0118:  80% 12/15 [00:09<00:02,  1.28it/s]\u001b[A\n",
            "Refining scale 2 using scale 1 ...current loss: 0.0118:  87% 13/15 [00:10<00:01,  1.28it/s]\u001b[A\n",
            "Refining scale 2 using scale 1 ...current loss: 0.0115:  87% 13/15 [00:10<00:01,  1.28it/s]\u001b[A\n",
            "Refining scale 2 using scale 1 ...current loss: 0.0115:  93% 14/15 [00:10<00:00,  1.28it/s]\u001b[A\n",
            "Refining scale 2 using scale 1 ...current loss: 0.0112:  93% 14/15 [00:11<00:00,  1.28it/s]\u001b[A\n",
            "Refining scale 2 using scale 1 ...current loss: 0.0112: 100% 15/15 [00:11<00:00,  1.42it/s]\u001b[A\n",
            " 92% 688/746 [2:14:20<11:16, 11.67s/it]\n",
            "  0% 0/15 [00:00<?, ?it/s]\u001b[A\n",
            "                          \u001b[A\n",
            "  0% 0/15 [00:00<?, ?it/s]\u001b[A\n",
            "Refining scale 2 using scale 1 ...current loss: nan:   0% 0/15 [00:00<?, ?it/s]\u001b[A\n",
            "Refining scale 2 using scale 1 ...current loss: nan:   7% 1/15 [00:00<00:08,  1.57it/s]\u001b[A\n",
            "Refining scale 2 using scale 1 ...current loss: nan:   7% 1/15 [00:01<00:08,  1.57it/s]\u001b[A\n",
            "Refining scale 2 using scale 1 ...current loss: nan:  13% 2/15 [00:01<00:09,  1.38it/s]\u001b[A\n",
            "Refining scale 2 using scale 1 ...current loss: nan:  13% 2/15 [00:01<00:09,  1.38it/s]\u001b[A\n",
            "Refining scale 2 using scale 1 ...current loss: nan:  20% 3/15 [00:02<00:09,  1.32it/s]\u001b[A\n",
            "Refining scale 2 using scale 1 ...current loss: nan:  20% 3/15 [00:02<00:09,  1.32it/s]\u001b[A\n",
            "Refining scale 2 using scale 1 ...current loss: nan:  27% 4/15 [00:03<00:08,  1.30it/s]\u001b[A\n",
            "Refining scale 2 using scale 1 ...current loss: nan:  27% 4/15 [00:03<00:08,  1.30it/s]\u001b[A\n",
            "Refining scale 2 using scale 1 ...current loss: nan:  33% 5/15 [00:03<00:07,  1.30it/s]\u001b[A\n",
            "Refining scale 2 using scale 1 ...current loss: nan:  33% 5/15 [00:04<00:07,  1.30it/s]\u001b[A\n",
            "Refining scale 2 using scale 1 ...current loss: nan:  40% 6/15 [00:04<00:06,  1.29it/s]\u001b[A\n",
            "Refining scale 2 using scale 1 ...current loss: nan:  40% 6/15 [00:05<00:06,  1.29it/s]\u001b[A\n",
            "Refining scale 2 using scale 1 ...current loss: nan:  47% 7/15 [00:05<00:06,  1.28it/s]\u001b[A\n",
            "Refining scale 2 using scale 1 ...current loss: nan:  47% 7/15 [00:05<00:06,  1.28it/s]\u001b[A\n",
            "Refining scale 2 using scale 1 ...current loss: nan:  53% 8/15 [00:06<00:05,  1.28it/s]\u001b[A\n",
            "Refining scale 2 using scale 1 ...current loss: nan:  53% 8/15 [00:06<00:05,  1.28it/s]\u001b[A\n",
            "Refining scale 2 using scale 1 ...current loss: nan:  60% 9/15 [00:06<00:04,  1.27it/s]\u001b[A\n",
            "Refining scale 2 using scale 1 ...current loss: nan:  60% 9/15 [00:07<00:04,  1.27it/s]\u001b[A\n",
            "Refining scale 2 using scale 1 ...current loss: nan:  67% 10/15 [00:07<00:03,  1.28it/s]\u001b[A\n",
            "Refining scale 2 using scale 1 ...current loss: nan:  67% 10/15 [00:08<00:03,  1.28it/s]\u001b[A\n",
            "Refining scale 2 using scale 1 ...current loss: nan:  73% 11/15 [00:08<00:03,  1.28it/s]\u001b[A\n",
            "Refining scale 2 using scale 1 ...current loss: nan:  73% 11/15 [00:09<00:03,  1.28it/s]\u001b[A\n",
            "Refining scale 2 using scale 1 ...current loss: nan:  80% 12/15 [00:09<00:02,  1.28it/s]\u001b[A\n",
            "Refining scale 2 using scale 1 ...current loss: nan:  80% 12/15 [00:09<00:02,  1.28it/s]\u001b[A\n",
            "Refining scale 2 using scale 1 ...current loss: nan:  87% 13/15 [00:10<00:01,  1.28it/s]\u001b[A\n",
            "Refining scale 2 using scale 1 ...current loss: nan:  87% 13/15 [00:10<00:01,  1.28it/s]\u001b[A\n",
            "Refining scale 2 using scale 1 ...current loss: nan:  93% 14/15 [00:10<00:00,  1.28it/s]\u001b[A\n",
            "Refining scale 2 using scale 1 ...current loss: nan:  93% 14/15 [00:11<00:00,  1.28it/s]\u001b[A\n",
            "Refining scale 2 using scale 1 ...current loss: nan: 100% 15/15 [00:11<00:00,  1.42it/s]\u001b[A\n",
            " 92% 689/746 [2:14:31<11:04, 11.67s/it]\n",
            "  0% 0/15 [00:00<?, ?it/s]\u001b[A\n",
            "                          \u001b[A\n",
            "  0% 0/15 [00:00<?, ?it/s]\u001b[A\n",
            "Refining scale 2 using scale 1 ...current loss: 0.0431:   0% 0/15 [00:00<?, ?it/s]\u001b[A\n",
            "Refining scale 2 using scale 1 ...current loss: 0.0431:   7% 1/15 [00:00<00:08,  1.58it/s]\u001b[A\n",
            "Refining scale 2 using scale 1 ...current loss: 0.0371:   7% 1/15 [00:01<00:08,  1.58it/s]\u001b[A\n",
            "Refining scale 2 using scale 1 ...current loss: 0.0371:  13% 2/15 [00:01<00:09,  1.38it/s]\u001b[A\n",
            "Refining scale 2 using scale 1 ...current loss: 0.0335:  13% 2/15 [00:01<00:09,  1.38it/s]\u001b[A\n",
            "Refining scale 2 using scale 1 ...current loss: 0.0335:  20% 3/15 [00:02<00:09,  1.33it/s]\u001b[A\n",
            "Refining scale 2 using scale 1 ...current loss: 0.0302:  20% 3/15 [00:02<00:09,  1.33it/s]\u001b[A\n",
            "Refining scale 2 using scale 1 ...current loss: 0.0302:  27% 4/15 [00:02<00:08,  1.30it/s]\u001b[A\n",
            "Refining scale 2 using scale 1 ...current loss: 0.0274:  27% 4/15 [00:03<00:08,  1.30it/s]\u001b[A\n",
            "Refining scale 2 using scale 1 ...current loss: 0.0274:  33% 5/15 [00:03<00:07,  1.29it/s]\u001b[A\n",
            "Refining scale 2 using scale 1 ...current loss: 0.0250:  33% 5/15 [00:04<00:07,  1.29it/s]\u001b[A\n",
            "Refining scale 2 using scale 1 ...current loss: 0.0250:  40% 6/15 [00:04<00:06,  1.29it/s]\u001b[A\n",
            "Refining scale 2 using scale 1 ...current loss: 0.0230:  40% 6/15 [00:05<00:06,  1.29it/s]\u001b[A\n",
            "Refining scale 2 using scale 1 ...current loss: 0.0230:  47% 7/15 [00:05<00:06,  1.28it/s]\u001b[A\n",
            "Refining scale 2 using scale 1 ...current loss: 0.0211:  47% 7/15 [00:05<00:06,  1.28it/s]\u001b[A\n",
            "Refining scale 2 using scale 1 ...current loss: 0.0211:  53% 8/15 [00:06<00:05,  1.28it/s]\u001b[A\n",
            "Refining scale 2 using scale 1 ...current loss: 0.0202:  53% 8/15 [00:06<00:05,  1.28it/s]\u001b[A\n",
            "Refining scale 2 using scale 1 ...current loss: 0.0202:  60% 9/15 [00:06<00:04,  1.27it/s]\u001b[A\n",
            "Refining scale 2 using scale 1 ...current loss: 0.0194:  60% 9/15 [00:07<00:04,  1.27it/s]\u001b[A\n",
            "Refining scale 2 using scale 1 ...current loss: 0.0194:  67% 10/15 [00:07<00:03,  1.27it/s]\u001b[A\n",
            "Refining scale 2 using scale 1 ...current loss: 0.0186:  67% 10/15 [00:08<00:03,  1.27it/s]\u001b[A\n",
            "Refining scale 2 using scale 1 ...current loss: 0.0186:  73% 11/15 [00:08<00:03,  1.27it/s]\u001b[A\n",
            "Refining scale 2 using scale 1 ...current loss: 0.0177:  73% 11/15 [00:09<00:03,  1.27it/s]\u001b[A\n",
            "Refining scale 2 using scale 1 ...current loss: 0.0177:  80% 12/15 [00:09<00:02,  1.27it/s]\u001b[A\n",
            "Refining scale 2 using scale 1 ...current loss: 0.0170:  80% 12/15 [00:09<00:02,  1.27it/s]\u001b[A\n",
            "Refining scale 2 using scale 1 ...current loss: 0.0170:  87% 13/15 [00:10<00:01,  1.27it/s]\u001b[A\n",
            "Refining scale 2 using scale 1 ...current loss: 0.0164:  87% 13/15 [00:10<00:01,  1.27it/s]\u001b[A\n",
            "Refining scale 2 using scale 1 ...current loss: 0.0164:  93% 14/15 [00:10<00:00,  1.27it/s]\u001b[A\n",
            "Refining scale 2 using scale 1 ...current loss: 0.0158:  93% 14/15 [00:11<00:00,  1.27it/s]\u001b[A\n",
            "Refining scale 2 using scale 1 ...current loss: 0.0158: 100% 15/15 [00:11<00:00,  1.41it/s]\u001b[A\n",
            " 92% 690/746 [2:14:43<10:53, 11.67s/it]\n",
            "  0% 0/15 [00:00<?, ?it/s]\u001b[A\n",
            "                          \u001b[A\n",
            "  0% 0/15 [00:00<?, ?it/s]\u001b[A\n",
            "Refining scale 2 using scale 1 ...current loss: 0.0419:   0% 0/15 [00:00<?, ?it/s]\u001b[A\n",
            "Refining scale 2 using scale 1 ...current loss: 0.0419:   7% 1/15 [00:00<00:08,  1.58it/s]\u001b[A\n",
            "Refining scale 2 using scale 1 ...current loss: 0.0330:   7% 1/15 [00:01<00:08,  1.58it/s]\u001b[A\n",
            "Refining scale 2 using scale 1 ...current loss: 0.0330:  13% 2/15 [00:01<00:09,  1.38it/s]\u001b[A\n",
            "Refining scale 2 using scale 1 ...current loss: 0.0293:  13% 2/15 [00:01<00:09,  1.38it/s]\u001b[A\n",
            "Refining scale 2 using scale 1 ...current loss: 0.0293:  20% 3/15 [00:02<00:09,  1.33it/s]\u001b[A\n",
            "Refining scale 2 using scale 1 ...current loss: 0.0263:  20% 3/15 [00:02<00:09,  1.33it/s]\u001b[A\n",
            "Refining scale 2 using scale 1 ...current loss: 0.0263:  27% 4/15 [00:02<00:08,  1.31it/s]\u001b[A\n",
            "Refining scale 2 using scale 1 ...current loss: 0.0246:  27% 4/15 [00:03<00:08,  1.31it/s]\u001b[A\n",
            "Refining scale 2 using scale 1 ...current loss: 0.0246:  33% 5/15 [00:03<00:07,  1.29it/s]\u001b[A\n",
            "Refining scale 2 using scale 1 ...current loss: 0.0232:  33% 5/15 [00:04<00:07,  1.29it/s]\u001b[A\n",
            "Refining scale 2 using scale 1 ...current loss: 0.0232:  40% 6/15 [00:04<00:06,  1.29it/s]\u001b[A\n",
            "Refining scale 2 using scale 1 ...current loss: 0.0221:  40% 6/15 [00:05<00:06,  1.29it/s]\u001b[A\n",
            "Refining scale 2 using scale 1 ...current loss: 0.0221:  47% 7/15 [00:05<00:06,  1.28it/s]\u001b[A\n",
            "Refining scale 2 using scale 1 ...current loss: 0.0210:  47% 7/15 [00:05<00:06,  1.28it/s]\u001b[A\n",
            "Refining scale 2 using scale 1 ...current loss: 0.0210:  53% 8/15 [00:06<00:05,  1.28it/s]\u001b[A\n",
            "Refining scale 2 using scale 1 ...current loss: 0.0202:  53% 8/15 [00:06<00:05,  1.28it/s]\u001b[A\n",
            "Refining scale 2 using scale 1 ...current loss: 0.0202:  60% 9/15 [00:06<00:04,  1.28it/s]\u001b[A\n",
            "Refining scale 2 using scale 1 ...current loss: 0.0195:  60% 9/15 [00:07<00:04,  1.28it/s]\u001b[A\n",
            "Refining scale 2 using scale 1 ...current loss: 0.0195:  67% 10/15 [00:07<00:03,  1.28it/s]\u001b[A\n",
            "Refining scale 2 using scale 1 ...current loss: 0.0188:  67% 10/15 [00:08<00:03,  1.28it/s]\u001b[A\n",
            "Refining scale 2 using scale 1 ...current loss: 0.0188:  73% 11/15 [00:08<00:03,  1.27it/s]\u001b[A\n",
            "Refining scale 2 using scale 1 ...current loss: 0.0181:  73% 11/15 [00:09<00:03,  1.27it/s]\u001b[A\n",
            "Refining scale 2 using scale 1 ...current loss: 0.0181:  80% 12/15 [00:09<00:02,  1.27it/s]\u001b[A\n",
            "Refining scale 2 using scale 1 ...current loss: 0.0175:  80% 12/15 [00:09<00:02,  1.27it/s]\u001b[A\n",
            "Refining scale 2 using scale 1 ...current loss: 0.0175:  87% 13/15 [00:10<00:01,  1.27it/s]\u001b[A\n",
            "Refining scale 2 using scale 1 ...current loss: 0.0169:  87% 13/15 [00:10<00:01,  1.27it/s]\u001b[A\n",
            "Refining scale 2 using scale 1 ...current loss: 0.0169:  93% 14/15 [00:10<00:00,  1.27it/s]\u001b[A\n",
            "Refining scale 2 using scale 1 ...current loss: 0.0164:  93% 14/15 [00:11<00:00,  1.27it/s]\u001b[A\n",
            "Refining scale 2 using scale 1 ...current loss: 0.0164: 100% 15/15 [00:11<00:00,  1.42it/s]\u001b[A\n",
            " 93% 691/746 [2:14:55<10:42, 11.67s/it]\n",
            "  0% 0/15 [00:00<?, ?it/s]\u001b[A\n",
            "                          \u001b[A\n",
            "  0% 0/15 [00:00<?, ?it/s]\u001b[A\n",
            "Refining scale 2 using scale 1 ...current loss: 0.1618:   0% 0/15 [00:00<?, ?it/s]\u001b[A\n",
            "Refining scale 2 using scale 1 ...current loss: 0.1618:   7% 1/15 [00:00<00:09,  1.55it/s]\u001b[A\n",
            "Refining scale 2 using scale 1 ...current loss: 0.0908:   7% 1/15 [00:01<00:09,  1.55it/s]\u001b[A\n",
            "Refining scale 2 using scale 1 ...current loss: 0.0908:  13% 2/15 [00:01<00:09,  1.37it/s]\u001b[A\n",
            "Refining scale 2 using scale 1 ...current loss: 0.0782:  13% 2/15 [00:01<00:09,  1.37it/s]\u001b[A\n",
            "Refining scale 2 using scale 1 ...current loss: 0.0782:  20% 3/15 [00:02<00:09,  1.32it/s]\u001b[A\n",
            "Refining scale 2 using scale 1 ...current loss: 0.0683:  20% 3/15 [00:02<00:09,  1.32it/s]\u001b[A\n",
            "Refining scale 2 using scale 1 ...current loss: 0.0683:  27% 4/15 [00:03<00:08,  1.30it/s]\u001b[A\n",
            "Refining scale 2 using scale 1 ...current loss: 0.0589:  27% 4/15 [00:03<00:08,  1.30it/s]\u001b[A\n",
            "Refining scale 2 using scale 1 ...current loss: 0.0589:  33% 5/15 [00:03<00:07,  1.29it/s]\u001b[A\n",
            "Refining scale 2 using scale 1 ...current loss: 0.0496:  33% 5/15 [00:04<00:07,  1.29it/s]\u001b[A\n",
            "Refining scale 2 using scale 1 ...current loss: 0.0496:  40% 6/15 [00:04<00:06,  1.29it/s]\u001b[A\n",
            "Refining scale 2 using scale 1 ...current loss: 0.0385:  40% 6/15 [00:05<00:06,  1.29it/s]\u001b[A\n",
            "Refining scale 2 using scale 1 ...current loss: 0.0385:  47% 7/15 [00:05<00:06,  1.28it/s]\u001b[A\n",
            "Refining scale 2 using scale 1 ...current loss: 0.0340:  47% 7/15 [00:05<00:06,  1.28it/s]\u001b[A\n",
            "Refining scale 2 using scale 1 ...current loss: 0.0340:  53% 8/15 [00:06<00:05,  1.28it/s]\u001b[A\n",
            "Refining scale 2 using scale 1 ...current loss: 0.0325:  53% 8/15 [00:06<00:05,  1.28it/s]\u001b[A\n",
            "Refining scale 2 using scale 1 ...current loss: 0.0325:  60% 9/15 [00:06<00:04,  1.28it/s]\u001b[A\n",
            "Refining scale 2 using scale 1 ...current loss: 0.0286:  60% 9/15 [00:07<00:04,  1.28it/s]\u001b[A\n",
            "Refining scale 2 using scale 1 ...current loss: 0.0286:  67% 10/15 [00:07<00:03,  1.28it/s]\u001b[A\n",
            "Refining scale 2 using scale 1 ...current loss: 0.0268:  67% 10/15 [00:08<00:03,  1.28it/s]\u001b[A\n",
            "Refining scale 2 using scale 1 ...current loss: 0.0268:  73% 11/15 [00:08<00:03,  1.28it/s]\u001b[A\n",
            "Refining scale 2 using scale 1 ...current loss: 0.0267:  73% 11/15 [00:09<00:03,  1.28it/s]\u001b[A\n",
            "Refining scale 2 using scale 1 ...current loss: 0.0267:  80% 12/15 [00:09<00:02,  1.28it/s]\u001b[A\n",
            "Refining scale 2 using scale 1 ...current loss: 0.0262:  80% 12/15 [00:09<00:02,  1.28it/s]\u001b[A\n",
            "Refining scale 2 using scale 1 ...current loss: 0.0262:  87% 13/15 [00:10<00:01,  1.28it/s]\u001b[A\n",
            "Refining scale 2 using scale 1 ...current loss: 0.0256:  87% 13/15 [00:10<00:01,  1.28it/s]\u001b[A\n",
            "Refining scale 2 using scale 1 ...current loss: 0.0256:  93% 14/15 [00:10<00:00,  1.27it/s]\u001b[A\n",
            "Refining scale 2 using scale 1 ...current loss: 0.0249:  93% 14/15 [00:11<00:00,  1.27it/s]\u001b[A\n",
            "Refining scale 2 using scale 1 ...current loss: 0.0249: 100% 15/15 [00:11<00:00,  1.42it/s]\u001b[A\n",
            " 93% 692/746 [2:15:06<10:30, 11.68s/it]\n",
            "  0% 0/15 [00:00<?, ?it/s]\u001b[A\n",
            "                          \u001b[A\n",
            "  0% 0/15 [00:00<?, ?it/s]\u001b[A\n",
            "Refining scale 2 using scale 1 ...current loss: nan:   0% 0/15 [00:00<?, ?it/s]\u001b[A\n",
            "Refining scale 2 using scale 1 ...current loss: nan:   7% 1/15 [00:00<00:08,  1.57it/s]\u001b[A\n",
            "Refining scale 2 using scale 1 ...current loss: nan:   7% 1/15 [00:01<00:08,  1.57it/s]\u001b[A\n",
            "Refining scale 2 using scale 1 ...current loss: nan:  13% 2/15 [00:01<00:09,  1.38it/s]\u001b[A\n",
            "Refining scale 2 using scale 1 ...current loss: nan:  13% 2/15 [00:01<00:09,  1.38it/s]\u001b[A\n",
            "Refining scale 2 using scale 1 ...current loss: nan:  20% 3/15 [00:02<00:09,  1.33it/s]\u001b[A\n",
            "Refining scale 2 using scale 1 ...current loss: nan:  20% 3/15 [00:02<00:09,  1.33it/s]\u001b[A\n",
            "Refining scale 2 using scale 1 ...current loss: nan:  27% 4/15 [00:02<00:08,  1.30it/s]\u001b[A\n",
            "Refining scale 2 using scale 1 ...current loss: nan:  27% 4/15 [00:03<00:08,  1.30it/s]\u001b[A\n",
            "Refining scale 2 using scale 1 ...current loss: nan:  33% 5/15 [00:03<00:07,  1.29it/s]\u001b[A\n",
            "Refining scale 2 using scale 1 ...current loss: nan:  33% 5/15 [00:04<00:07,  1.29it/s]\u001b[A\n",
            "Refining scale 2 using scale 1 ...current loss: nan:  40% 6/15 [00:04<00:07,  1.28it/s]\u001b[A\n",
            "Refining scale 2 using scale 1 ...current loss: nan:  40% 6/15 [00:05<00:07,  1.28it/s]\u001b[A\n",
            "Refining scale 2 using scale 1 ...current loss: nan:  47% 7/15 [00:05<00:06,  1.28it/s]\u001b[A\n",
            "Refining scale 2 using scale 1 ...current loss: nan:  47% 7/15 [00:05<00:06,  1.28it/s]\u001b[A\n",
            "Refining scale 2 using scale 1 ...current loss: nan:  53% 8/15 [00:06<00:05,  1.28it/s]\u001b[A\n",
            "Refining scale 2 using scale 1 ...current loss: nan:  53% 8/15 [00:06<00:05,  1.28it/s]\u001b[A\n",
            "Refining scale 2 using scale 1 ...current loss: nan:  60% 9/15 [00:06<00:04,  1.28it/s]\u001b[A\n",
            "Refining scale 2 using scale 1 ...current loss: nan:  60% 9/15 [00:07<00:04,  1.28it/s]\u001b[A\n",
            "Refining scale 2 using scale 1 ...current loss: nan:  67% 10/15 [00:07<00:03,  1.28it/s]\u001b[A\n",
            "Refining scale 2 using scale 1 ...current loss: nan:  67% 10/15 [00:08<00:03,  1.28it/s]\u001b[A\n",
            "Refining scale 2 using scale 1 ...current loss: nan:  73% 11/15 [00:08<00:03,  1.28it/s]\u001b[A\n",
            "Refining scale 2 using scale 1 ...current loss: nan:  73% 11/15 [00:09<00:03,  1.28it/s]\u001b[A\n",
            "Refining scale 2 using scale 1 ...current loss: nan:  80% 12/15 [00:09<00:02,  1.28it/s]\u001b[A\n",
            "Refining scale 2 using scale 1 ...current loss: nan:  80% 12/15 [00:09<00:02,  1.28it/s]\u001b[A\n",
            "Refining scale 2 using scale 1 ...current loss: nan:  87% 13/15 [00:10<00:01,  1.28it/s]\u001b[A\n",
            "Refining scale 2 using scale 1 ...current loss: nan:  87% 13/15 [00:10<00:01,  1.28it/s]\u001b[A\n",
            "Refining scale 2 using scale 1 ...current loss: nan:  93% 14/15 [00:10<00:00,  1.28it/s]\u001b[A\n",
            "Refining scale 2 using scale 1 ...current loss: nan:  93% 14/15 [00:11<00:00,  1.28it/s]\u001b[A\n",
            "Refining scale 2 using scale 1 ...current loss: nan: 100% 15/15 [00:11<00:00,  1.42it/s]\u001b[A\n",
            " 93% 693/746 [2:15:18<10:18, 11.67s/it]\n",
            "  0% 0/15 [00:00<?, ?it/s]\u001b[A\n",
            "                          \u001b[A\n",
            "  0% 0/15 [00:00<?, ?it/s]\u001b[A\n",
            "Refining scale 2 using scale 1 ...current loss: 0.0650:   0% 0/15 [00:00<?, ?it/s]\u001b[A\n",
            "Refining scale 2 using scale 1 ...current loss: 0.0650:   7% 1/15 [00:00<00:08,  1.58it/s]\u001b[A\n",
            "Refining scale 2 using scale 1 ...current loss: 0.0522:   7% 1/15 [00:01<00:08,  1.58it/s]\u001b[A\n",
            "Refining scale 2 using scale 1 ...current loss: 0.0522:  13% 2/15 [00:01<00:09,  1.38it/s]\u001b[A\n",
            "Refining scale 2 using scale 1 ...current loss: 0.0476:  13% 2/15 [00:01<00:09,  1.38it/s]\u001b[A\n",
            "Refining scale 2 using scale 1 ...current loss: 0.0476:  20% 3/15 [00:02<00:09,  1.33it/s]\u001b[A\n",
            "Refining scale 2 using scale 1 ...current loss: 0.0432:  20% 3/15 [00:02<00:09,  1.33it/s]\u001b[A\n",
            "Refining scale 2 using scale 1 ...current loss: 0.0432:  27% 4/15 [00:02<00:08,  1.31it/s]\u001b[A\n",
            "Refining scale 2 using scale 1 ...current loss: 0.0396:  27% 4/15 [00:03<00:08,  1.31it/s]\u001b[A\n",
            "Refining scale 2 using scale 1 ...current loss: 0.0396:  33% 5/15 [00:03<00:07,  1.30it/s]\u001b[A\n",
            "Refining scale 2 using scale 1 ...current loss: 0.0374:  33% 5/15 [00:04<00:07,  1.30it/s]\u001b[A\n",
            "Refining scale 2 using scale 1 ...current loss: 0.0374:  40% 6/15 [00:04<00:06,  1.29it/s]\u001b[A\n",
            "Refining scale 2 using scale 1 ...current loss: 0.0361:  40% 6/15 [00:05<00:06,  1.29it/s]\u001b[A\n",
            "Refining scale 2 using scale 1 ...current loss: 0.0361:  47% 7/15 [00:05<00:06,  1.28it/s]\u001b[A\n",
            "Refining scale 2 using scale 1 ...current loss: 0.0347:  47% 7/15 [00:05<00:06,  1.28it/s]\u001b[A\n",
            "Refining scale 2 using scale 1 ...current loss: 0.0347:  53% 8/15 [00:06<00:05,  1.28it/s]\u001b[A\n",
            "Refining scale 2 using scale 1 ...current loss: 0.0333:  53% 8/15 [00:06<00:05,  1.28it/s]\u001b[A\n",
            "Refining scale 2 using scale 1 ...current loss: 0.0333:  60% 9/15 [00:06<00:04,  1.28it/s]\u001b[A\n",
            "Refining scale 2 using scale 1 ...current loss: 0.0319:  60% 9/15 [00:07<00:04,  1.28it/s]\u001b[A\n",
            "Refining scale 2 using scale 1 ...current loss: 0.0319:  67% 10/15 [00:07<00:03,  1.27it/s]\u001b[A\n",
            "Refining scale 2 using scale 1 ...current loss: 0.0308:  67% 10/15 [00:08<00:03,  1.27it/s]\u001b[A\n",
            "Refining scale 2 using scale 1 ...current loss: 0.0308:  73% 11/15 [00:08<00:03,  1.27it/s]\u001b[A\n",
            "Refining scale 2 using scale 1 ...current loss: 0.0295:  73% 11/15 [00:09<00:03,  1.27it/s]\u001b[A\n",
            "Refining scale 2 using scale 1 ...current loss: 0.0295:  80% 12/15 [00:09<00:02,  1.27it/s]\u001b[A\n",
            "Refining scale 2 using scale 1 ...current loss: 0.0284:  80% 12/15 [00:09<00:02,  1.27it/s]\u001b[A\n",
            "Refining scale 2 using scale 1 ...current loss: 0.0284:  87% 13/15 [00:10<00:01,  1.28it/s]\u001b[A\n",
            "Refining scale 2 using scale 1 ...current loss: 0.0275:  87% 13/15 [00:10<00:01,  1.28it/s]\u001b[A\n",
            "Refining scale 2 using scale 1 ...current loss: 0.0275:  93% 14/15 [00:10<00:00,  1.27it/s]\u001b[A\n",
            "Refining scale 2 using scale 1 ...current loss: 0.0265:  93% 14/15 [00:11<00:00,  1.27it/s]\u001b[A\n",
            "Refining scale 2 using scale 1 ...current loss: 0.0265: 100% 15/15 [00:11<00:00,  1.42it/s]\u001b[A\n",
            " 93% 694/746 [2:15:30<10:06, 11.67s/it]\n",
            "  0% 0/15 [00:00<?, ?it/s]\u001b[A\n",
            "                          \u001b[A\n",
            "  0% 0/15 [00:00<?, ?it/s]\u001b[A\n",
            "Refining scale 2 using scale 1 ...current loss: nan:   0% 0/15 [00:00<?, ?it/s]\u001b[A\n",
            "Refining scale 2 using scale 1 ...current loss: nan:   7% 1/15 [00:00<00:08,  1.58it/s]\u001b[A\n",
            "Refining scale 2 using scale 1 ...current loss: nan:   7% 1/15 [00:01<00:08,  1.58it/s]\u001b[A\n",
            "Refining scale 2 using scale 1 ...current loss: nan:  13% 2/15 [00:01<00:09,  1.38it/s]\u001b[A\n",
            "Refining scale 2 using scale 1 ...current loss: nan:  13% 2/15 [00:01<00:09,  1.38it/s]\u001b[A\n",
            "Refining scale 2 using scale 1 ...current loss: nan:  20% 3/15 [00:02<00:09,  1.33it/s]\u001b[A\n",
            "Refining scale 2 using scale 1 ...current loss: nan:  20% 3/15 [00:02<00:09,  1.33it/s]\u001b[A\n",
            "Refining scale 2 using scale 1 ...current loss: nan:  27% 4/15 [00:02<00:08,  1.31it/s]\u001b[A\n",
            "Refining scale 2 using scale 1 ...current loss: nan:  27% 4/15 [00:03<00:08,  1.31it/s]\u001b[A\n",
            "Refining scale 2 using scale 1 ...current loss: nan:  33% 5/15 [00:03<00:07,  1.30it/s]\u001b[A\n",
            "Refining scale 2 using scale 1 ...current loss: nan:  33% 5/15 [00:04<00:07,  1.30it/s]\u001b[A\n",
            "Refining scale 2 using scale 1 ...current loss: nan:  40% 6/15 [00:04<00:06,  1.29it/s]\u001b[A\n",
            "Refining scale 2 using scale 1 ...current loss: nan:  40% 6/15 [00:05<00:06,  1.29it/s]\u001b[A\n",
            "Refining scale 2 using scale 1 ...current loss: nan:  47% 7/15 [00:05<00:06,  1.29it/s]\u001b[A\n",
            "Refining scale 2 using scale 1 ...current loss: nan:  47% 7/15 [00:05<00:06,  1.29it/s]\u001b[A\n",
            "Refining scale 2 using scale 1 ...current loss: nan:  53% 8/15 [00:06<00:05,  1.28it/s]\u001b[A\n",
            "Refining scale 2 using scale 1 ...current loss: nan:  53% 8/15 [00:06<00:05,  1.28it/s]\u001b[A\n",
            "Refining scale 2 using scale 1 ...current loss: nan:  60% 9/15 [00:06<00:04,  1.28it/s]\u001b[A\n",
            "Refining scale 2 using scale 1 ...current loss: nan:  60% 9/15 [00:07<00:04,  1.28it/s]\u001b[A\n",
            "Refining scale 2 using scale 1 ...current loss: nan:  67% 10/15 [00:07<00:03,  1.28it/s]\u001b[A\n",
            "Refining scale 2 using scale 1 ...current loss: nan:  67% 10/15 [00:08<00:03,  1.28it/s]\u001b[A\n",
            "Refining scale 2 using scale 1 ...current loss: nan:  73% 11/15 [00:08<00:03,  1.27it/s]\u001b[A\n",
            "Refining scale 2 using scale 1 ...current loss: nan:  73% 11/15 [00:09<00:03,  1.27it/s]\u001b[A\n",
            "Refining scale 2 using scale 1 ...current loss: nan:  80% 12/15 [00:09<00:02,  1.27it/s]\u001b[A\n",
            "Refining scale 2 using scale 1 ...current loss: nan:  80% 12/15 [00:09<00:02,  1.27it/s]\u001b[A\n",
            "Refining scale 2 using scale 1 ...current loss: nan:  87% 13/15 [00:10<00:01,  1.27it/s]\u001b[A\n",
            "Refining scale 2 using scale 1 ...current loss: nan:  87% 13/15 [00:10<00:01,  1.27it/s]\u001b[A\n",
            "Refining scale 2 using scale 1 ...current loss: nan:  93% 14/15 [00:10<00:00,  1.27it/s]\u001b[A\n",
            "Refining scale 2 using scale 1 ...current loss: nan:  93% 14/15 [00:11<00:00,  1.27it/s]\u001b[A\n",
            "Refining scale 2 using scale 1 ...current loss: nan: 100% 15/15 [00:11<00:00,  1.41it/s]\u001b[A\n",
            " 93% 695/746 [2:15:41<09:55, 11.67s/it]\n",
            "  0% 0/15 [00:00<?, ?it/s]\u001b[A\n",
            "                          \u001b[A\n",
            "  0% 0/15 [00:00<?, ?it/s]\u001b[A\n",
            "Refining scale 2 using scale 1 ...current loss: nan:   0% 0/15 [00:00<?, ?it/s]\u001b[A\n",
            "Refining scale 2 using scale 1 ...current loss: nan:   7% 1/15 [00:00<00:08,  1.58it/s]\u001b[A\n",
            "Refining scale 2 using scale 1 ...current loss: nan:   7% 1/15 [00:01<00:08,  1.58it/s]\u001b[A\n",
            "Refining scale 2 using scale 1 ...current loss: nan:  13% 2/15 [00:01<00:09,  1.38it/s]\u001b[A\n",
            "Refining scale 2 using scale 1 ...current loss: nan:  13% 2/15 [00:01<00:09,  1.38it/s]\u001b[A\n",
            "Refining scale 2 using scale 1 ...current loss: nan:  20% 3/15 [00:02<00:09,  1.33it/s]\u001b[A\n",
            "Refining scale 2 using scale 1 ...current loss: nan:  20% 3/15 [00:02<00:09,  1.33it/s]\u001b[A\n",
            "Refining scale 2 using scale 1 ...current loss: nan:  27% 4/15 [00:02<00:08,  1.31it/s]\u001b[A\n",
            "Refining scale 2 using scale 1 ...current loss: nan:  27% 4/15 [00:03<00:08,  1.31it/s]\u001b[A\n",
            "Refining scale 2 using scale 1 ...current loss: nan:  33% 5/15 [00:03<00:07,  1.30it/s]\u001b[A\n",
            "Refining scale 2 using scale 1 ...current loss: nan:  33% 5/15 [00:04<00:07,  1.30it/s]\u001b[A\n",
            "Refining scale 2 using scale 1 ...current loss: nan:  40% 6/15 [00:04<00:06,  1.29it/s]\u001b[A\n",
            "Refining scale 2 using scale 1 ...current loss: nan:  40% 6/15 [00:05<00:06,  1.29it/s]\u001b[A\n",
            "Refining scale 2 using scale 1 ...current loss: nan:  47% 7/15 [00:05<00:06,  1.28it/s]\u001b[A\n",
            "Refining scale 2 using scale 1 ...current loss: nan:  47% 7/15 [00:05<00:06,  1.28it/s]\u001b[A\n",
            "Refining scale 2 using scale 1 ...current loss: nan:  53% 8/15 [00:06<00:05,  1.28it/s]\u001b[A\n",
            "Refining scale 2 using scale 1 ...current loss: nan:  53% 8/15 [00:06<00:05,  1.28it/s]\u001b[A\n",
            "Refining scale 2 using scale 1 ...current loss: nan:  60% 9/15 [00:06<00:04,  1.28it/s]\u001b[A\n",
            "Refining scale 2 using scale 1 ...current loss: nan:  60% 9/15 [00:07<00:04,  1.28it/s]\u001b[A\n",
            "Refining scale 2 using scale 1 ...current loss: nan:  67% 10/15 [00:07<00:03,  1.28it/s]\u001b[A\n",
            "Refining scale 2 using scale 1 ...current loss: nan:  67% 10/15 [00:08<00:03,  1.28it/s]\u001b[A\n",
            "Refining scale 2 using scale 1 ...current loss: nan:  73% 11/15 [00:08<00:03,  1.28it/s]\u001b[A\n",
            "Refining scale 2 using scale 1 ...current loss: nan:  73% 11/15 [00:09<00:03,  1.28it/s]\u001b[A\n",
            "Refining scale 2 using scale 1 ...current loss: nan:  80% 12/15 [00:09<00:02,  1.28it/s]\u001b[A\n",
            "Refining scale 2 using scale 1 ...current loss: nan:  80% 12/15 [00:09<00:02,  1.28it/s]\u001b[A\n",
            "Refining scale 2 using scale 1 ...current loss: nan:  87% 13/15 [00:10<00:01,  1.28it/s]\u001b[A\n",
            "Refining scale 2 using scale 1 ...current loss: nan:  87% 13/15 [00:10<00:01,  1.28it/s]\u001b[A\n",
            "Refining scale 2 using scale 1 ...current loss: nan:  93% 14/15 [00:10<00:00,  1.27it/s]\u001b[A\n",
            "Refining scale 2 using scale 1 ...current loss: nan:  93% 14/15 [00:11<00:00,  1.27it/s]\u001b[A\n",
            "Refining scale 2 using scale 1 ...current loss: nan: 100% 15/15 [00:11<00:00,  1.41it/s]\u001b[A\n",
            " 93% 696/746 [2:15:53<09:44, 11.68s/it]\n",
            "  0% 0/15 [00:00<?, ?it/s]\u001b[A\n",
            "                          \u001b[A\n",
            "  0% 0/15 [00:00<?, ?it/s]\u001b[A\n",
            "Refining scale 2 using scale 1 ...current loss: 0.0364:   0% 0/15 [00:00<?, ?it/s]\u001b[A\n",
            "Refining scale 2 using scale 1 ...current loss: 0.0364:   7% 1/15 [00:00<00:08,  1.56it/s]\u001b[A\n",
            "Refining scale 2 using scale 1 ...current loss: 0.0323:   7% 1/15 [00:01<00:08,  1.56it/s]\u001b[A\n",
            "Refining scale 2 using scale 1 ...current loss: 0.0323:  13% 2/15 [00:01<00:09,  1.36it/s]\u001b[A\n",
            "Refining scale 2 using scale 1 ...current loss: 0.0284:  13% 2/15 [00:01<00:09,  1.36it/s]\u001b[A\n",
            "Refining scale 2 using scale 1 ...current loss: 0.0284:  20% 3/15 [00:02<00:09,  1.32it/s]\u001b[A\n",
            "Refining scale 2 using scale 1 ...current loss: 0.0254:  20% 3/15 [00:02<00:09,  1.32it/s]\u001b[A\n",
            "Refining scale 2 using scale 1 ...current loss: 0.0254:  27% 4/15 [00:03<00:08,  1.30it/s]\u001b[A\n",
            "Refining scale 2 using scale 1 ...current loss: 0.0238:  27% 4/15 [00:03<00:08,  1.30it/s]\u001b[A\n",
            "Refining scale 2 using scale 1 ...current loss: 0.0238:  33% 5/15 [00:03<00:07,  1.29it/s]\u001b[A\n",
            "Refining scale 2 using scale 1 ...current loss: 0.0226:  33% 5/15 [00:04<00:07,  1.29it/s]\u001b[A\n",
            "Refining scale 2 using scale 1 ...current loss: 0.0226:  40% 6/15 [00:04<00:07,  1.28it/s]\u001b[A\n",
            "Refining scale 2 using scale 1 ...current loss: 0.0212:  40% 6/15 [00:05<00:07,  1.28it/s]\u001b[A\n",
            "Refining scale 2 using scale 1 ...current loss: 0.0212:  47% 7/15 [00:05<00:06,  1.28it/s]\u001b[A\n",
            "Refining scale 2 using scale 1 ...current loss: 0.0206:  47% 7/15 [00:05<00:06,  1.28it/s]\u001b[A\n",
            "Refining scale 2 using scale 1 ...current loss: 0.0206:  53% 8/15 [00:06<00:05,  1.28it/s]\u001b[A\n",
            "Refining scale 2 using scale 1 ...current loss: 0.0198:  53% 8/15 [00:06<00:05,  1.28it/s]\u001b[A\n",
            "Refining scale 2 using scale 1 ...current loss: 0.0198:  60% 9/15 [00:06<00:04,  1.28it/s]\u001b[A\n",
            "Refining scale 2 using scale 1 ...current loss: 0.0191:  60% 9/15 [00:07<00:04,  1.28it/s]\u001b[A\n",
            "Refining scale 2 using scale 1 ...current loss: 0.0191:  67% 10/15 [00:07<00:03,  1.27it/s]\u001b[A\n",
            "Refining scale 2 using scale 1 ...current loss: 0.0186:  67% 10/15 [00:08<00:03,  1.27it/s]\u001b[A\n",
            "Refining scale 2 using scale 1 ...current loss: 0.0186:  73% 11/15 [00:08<00:03,  1.27it/s]\u001b[A\n",
            "Refining scale 2 using scale 1 ...current loss: 0.0180:  73% 11/15 [00:09<00:03,  1.27it/s]\u001b[A\n",
            "Refining scale 2 using scale 1 ...current loss: 0.0180:  80% 12/15 [00:09<00:02,  1.27it/s]\u001b[A\n",
            "Refining scale 2 using scale 1 ...current loss: 0.0175:  80% 12/15 [00:09<00:02,  1.27it/s]\u001b[A\n",
            "Refining scale 2 using scale 1 ...current loss: 0.0175:  87% 13/15 [00:10<00:01,  1.27it/s]\u001b[A\n",
            "Refining scale 2 using scale 1 ...current loss: 0.0170:  87% 13/15 [00:10<00:01,  1.27it/s]\u001b[A\n",
            "Refining scale 2 using scale 1 ...current loss: 0.0170:  93% 14/15 [00:10<00:00,  1.27it/s]\u001b[A\n",
            "Refining scale 2 using scale 1 ...current loss: 0.0165:  93% 14/15 [00:11<00:00,  1.27it/s]\u001b[A\n",
            "Refining scale 2 using scale 1 ...current loss: 0.0165: 100% 15/15 [00:11<00:00,  1.41it/s]\u001b[A\n",
            " 93% 697/746 [2:16:05<09:33, 11.71s/it]\n",
            "  0% 0/15 [00:00<?, ?it/s]\u001b[A\n",
            "                          \u001b[A\n",
            "  0% 0/15 [00:00<?, ?it/s]\u001b[A\n",
            "Refining scale 2 using scale 1 ...current loss: 0.0512:   0% 0/15 [00:00<?, ?it/s]\u001b[A\n",
            "Refining scale 2 using scale 1 ...current loss: 0.0512:   7% 1/15 [00:00<00:08,  1.58it/s]\u001b[A\n",
            "Refining scale 2 using scale 1 ...current loss: 0.0310:   7% 1/15 [00:01<00:08,  1.58it/s]\u001b[A\n",
            "Refining scale 2 using scale 1 ...current loss: 0.0310:  13% 2/15 [00:01<00:09,  1.38it/s]\u001b[A\n",
            "Refining scale 2 using scale 1 ...current loss: 0.0283:  13% 2/15 [00:01<00:09,  1.38it/s]\u001b[A\n",
            "Refining scale 2 using scale 1 ...current loss: 0.0283:  20% 3/15 [00:02<00:09,  1.33it/s]\u001b[A\n",
            "Refining scale 2 using scale 1 ...current loss: 0.0261:  20% 3/15 [00:02<00:09,  1.33it/s]\u001b[A\n",
            "Refining scale 2 using scale 1 ...current loss: 0.0261:  27% 4/15 [00:02<00:08,  1.31it/s]\u001b[A\n",
            "Refining scale 2 using scale 1 ...current loss: 0.0233:  27% 4/15 [00:03<00:08,  1.31it/s]\u001b[A\n",
            "Refining scale 2 using scale 1 ...current loss: 0.0233:  33% 5/15 [00:03<00:07,  1.29it/s]\u001b[A\n",
            "Refining scale 2 using scale 1 ...current loss: 0.0219:  33% 5/15 [00:04<00:07,  1.29it/s]\u001b[A\n",
            "Refining scale 2 using scale 1 ...current loss: 0.0219:  40% 6/15 [00:04<00:07,  1.29it/s]\u001b[A\n",
            "Refining scale 2 using scale 1 ...current loss: 0.0210:  40% 6/15 [00:05<00:07,  1.29it/s]\u001b[A\n",
            "Refining scale 2 using scale 1 ...current loss: 0.0210:  47% 7/15 [00:05<00:06,  1.28it/s]\u001b[A\n",
            "Refining scale 2 using scale 1 ...current loss: 0.0201:  47% 7/15 [00:05<00:06,  1.28it/s]\u001b[A\n",
            "Refining scale 2 using scale 1 ...current loss: 0.0201:  53% 8/15 [00:06<00:05,  1.28it/s]\u001b[A\n",
            "Refining scale 2 using scale 1 ...current loss: 0.0193:  53% 8/15 [00:06<00:05,  1.28it/s]\u001b[A\n",
            "Refining scale 2 using scale 1 ...current loss: 0.0193:  60% 9/15 [00:06<00:04,  1.27it/s]\u001b[A\n",
            "Refining scale 2 using scale 1 ...current loss: 0.0186:  60% 9/15 [00:07<00:04,  1.27it/s]\u001b[A\n",
            "Refining scale 2 using scale 1 ...current loss: 0.0186:  67% 10/15 [00:07<00:03,  1.27it/s]\u001b[A\n",
            "Refining scale 2 using scale 1 ...current loss: 0.0178:  67% 10/15 [00:08<00:03,  1.27it/s]\u001b[A\n",
            "Refining scale 2 using scale 1 ...current loss: 0.0178:  73% 11/15 [00:08<00:03,  1.27it/s]\u001b[A\n",
            "Refining scale 2 using scale 1 ...current loss: 0.0171:  73% 11/15 [00:09<00:03,  1.27it/s]\u001b[A\n",
            "Refining scale 2 using scale 1 ...current loss: 0.0171:  80% 12/15 [00:09<00:02,  1.27it/s]\u001b[A\n",
            "Refining scale 2 using scale 1 ...current loss: 0.0165:  80% 12/15 [00:09<00:02,  1.27it/s]\u001b[A\n",
            "Refining scale 2 using scale 1 ...current loss: 0.0165:  87% 13/15 [00:10<00:01,  1.27it/s]\u001b[A\n",
            "Refining scale 2 using scale 1 ...current loss: 0.0160:  87% 13/15 [00:10<00:01,  1.27it/s]\u001b[A\n",
            "Refining scale 2 using scale 1 ...current loss: 0.0160:  93% 14/15 [00:10<00:00,  1.27it/s]\u001b[A\n",
            "Refining scale 2 using scale 1 ...current loss: 0.0155:  93% 14/15 [00:11<00:00,  1.27it/s]\u001b[A\n",
            "Refining scale 2 using scale 1 ...current loss: 0.0155: 100% 15/15 [00:11<00:00,  1.41it/s]\u001b[A\n",
            " 94% 698/746 [2:16:16<09:21, 11.69s/it]\n",
            "  0% 0/15 [00:00<?, ?it/s]\u001b[A\n",
            "                          \u001b[A\n",
            "  0% 0/15 [00:00<?, ?it/s]\u001b[A\n",
            "Refining scale 2 using scale 1 ...current loss: nan:   0% 0/15 [00:00<?, ?it/s]\u001b[A\n",
            "Refining scale 2 using scale 1 ...current loss: nan:   7% 1/15 [00:00<00:08,  1.58it/s]\u001b[A\n",
            "Refining scale 2 using scale 1 ...current loss: nan:   7% 1/15 [00:01<00:08,  1.58it/s]\u001b[A\n",
            "Refining scale 2 using scale 1 ...current loss: nan:  13% 2/15 [00:01<00:09,  1.38it/s]\u001b[A\n",
            "Refining scale 2 using scale 1 ...current loss: nan:  13% 2/15 [00:01<00:09,  1.38it/s]\u001b[A\n",
            "Refining scale 2 using scale 1 ...current loss: nan:  20% 3/15 [00:02<00:09,  1.33it/s]\u001b[A\n",
            "Refining scale 2 using scale 1 ...current loss: nan:  20% 3/15 [00:02<00:09,  1.33it/s]\u001b[A\n",
            "Refining scale 2 using scale 1 ...current loss: nan:  27% 4/15 [00:02<00:08,  1.31it/s]\u001b[A\n",
            "Refining scale 2 using scale 1 ...current loss: nan:  27% 4/15 [00:03<00:08,  1.31it/s]\u001b[A\n",
            "Refining scale 2 using scale 1 ...current loss: nan:  33% 5/15 [00:03<00:07,  1.30it/s]\u001b[A\n",
            "Refining scale 2 using scale 1 ...current loss: nan:  33% 5/15 [00:04<00:07,  1.30it/s]\u001b[A\n",
            "Refining scale 2 using scale 1 ...current loss: nan:  40% 6/15 [00:04<00:06,  1.29it/s]\u001b[A\n",
            "Refining scale 2 using scale 1 ...current loss: nan:  40% 6/15 [00:05<00:06,  1.29it/s]\u001b[A\n",
            "Refining scale 2 using scale 1 ...current loss: nan:  47% 7/15 [00:05<00:06,  1.28it/s]\u001b[A\n",
            "Refining scale 2 using scale 1 ...current loss: nan:  47% 7/15 [00:05<00:06,  1.28it/s]\u001b[A\n",
            "Refining scale 2 using scale 1 ...current loss: nan:  53% 8/15 [00:06<00:05,  1.28it/s]\u001b[A\n",
            "Refining scale 2 using scale 1 ...current loss: nan:  53% 8/15 [00:06<00:05,  1.28it/s]\u001b[A\n",
            "Refining scale 2 using scale 1 ...current loss: nan:  60% 9/15 [00:06<00:04,  1.28it/s]\u001b[A\n",
            "Refining scale 2 using scale 1 ...current loss: nan:  60% 9/15 [00:07<00:04,  1.28it/s]\u001b[A\n",
            "Refining scale 2 using scale 1 ...current loss: nan:  67% 10/15 [00:07<00:03,  1.28it/s]\u001b[A\n",
            "Refining scale 2 using scale 1 ...current loss: nan:  67% 10/15 [00:08<00:03,  1.28it/s]\u001b[A\n",
            "Refining scale 2 using scale 1 ...current loss: nan:  73% 11/15 [00:08<00:03,  1.28it/s]\u001b[A\n",
            "Refining scale 2 using scale 1 ...current loss: nan:  73% 11/15 [00:09<00:03,  1.28it/s]\u001b[A\n",
            "Refining scale 2 using scale 1 ...current loss: nan:  80% 12/15 [00:09<00:02,  1.28it/s]\u001b[A\n",
            "Refining scale 2 using scale 1 ...current loss: nan:  80% 12/15 [00:09<00:02,  1.28it/s]\u001b[A\n",
            "Refining scale 2 using scale 1 ...current loss: nan:  87% 13/15 [00:10<00:01,  1.27it/s]\u001b[A\n",
            "Refining scale 2 using scale 1 ...current loss: nan:  87% 13/15 [00:10<00:01,  1.27it/s]\u001b[A\n",
            "Refining scale 2 using scale 1 ...current loss: nan:  93% 14/15 [00:10<00:00,  1.27it/s]\u001b[A\n",
            "Refining scale 2 using scale 1 ...current loss: nan:  93% 14/15 [00:11<00:00,  1.27it/s]\u001b[A\n",
            "Refining scale 2 using scale 1 ...current loss: nan: 100% 15/15 [00:11<00:00,  1.41it/s]\u001b[A\n",
            " 94% 699/746 [2:16:28<09:09, 11.69s/it]\n",
            "  0% 0/15 [00:00<?, ?it/s]\u001b[A\n",
            "                          \u001b[A\n",
            "  0% 0/15 [00:00<?, ?it/s]\u001b[A\n",
            "Refining scale 2 using scale 1 ...current loss: 0.0935:   0% 0/15 [00:00<?, ?it/s]\u001b[A\n",
            "Refining scale 2 using scale 1 ...current loss: 0.0935:   7% 1/15 [00:00<00:08,  1.56it/s]\u001b[A\n",
            "Refining scale 2 using scale 1 ...current loss: 0.0699:   7% 1/15 [00:01<00:08,  1.56it/s]\u001b[A\n",
            "Refining scale 2 using scale 1 ...current loss: 0.0699:  13% 2/15 [00:01<00:09,  1.38it/s]\u001b[A\n",
            "Refining scale 2 using scale 1 ...current loss: 0.0635:  13% 2/15 [00:01<00:09,  1.38it/s]\u001b[A\n",
            "Refining scale 2 using scale 1 ...current loss: 0.0635:  20% 3/15 [00:02<00:09,  1.33it/s]\u001b[A\n",
            "Refining scale 2 using scale 1 ...current loss: 0.0581:  20% 3/15 [00:02<00:09,  1.33it/s]\u001b[A\n",
            "Refining scale 2 using scale 1 ...current loss: 0.0581:  27% 4/15 [00:02<00:08,  1.31it/s]\u001b[A\n",
            "Refining scale 2 using scale 1 ...current loss: 0.0533:  27% 4/15 [00:03<00:08,  1.31it/s]\u001b[A\n",
            "Refining scale 2 using scale 1 ...current loss: 0.0533:  33% 5/15 [00:03<00:07,  1.30it/s]\u001b[A\n",
            "Refining scale 2 using scale 1 ...current loss: 0.0506:  33% 5/15 [00:04<00:07,  1.30it/s]\u001b[A\n",
            "Refining scale 2 using scale 1 ...current loss: 0.0506:  40% 6/15 [00:04<00:06,  1.29it/s]\u001b[A\n",
            "Refining scale 2 using scale 1 ...current loss: 0.0474:  40% 6/15 [00:05<00:06,  1.29it/s]\u001b[A\n",
            "Refining scale 2 using scale 1 ...current loss: 0.0474:  47% 7/15 [00:05<00:06,  1.28it/s]\u001b[A\n",
            "Refining scale 2 using scale 1 ...current loss: 0.0447:  47% 7/15 [00:05<00:06,  1.28it/s]\u001b[A\n",
            "Refining scale 2 using scale 1 ...current loss: 0.0447:  53% 8/15 [00:06<00:05,  1.28it/s]\u001b[A\n",
            "Refining scale 2 using scale 1 ...current loss: 0.0431:  53% 8/15 [00:06<00:05,  1.28it/s]\u001b[A\n",
            "Refining scale 2 using scale 1 ...current loss: 0.0431:  60% 9/15 [00:06<00:04,  1.28it/s]\u001b[A\n",
            "Refining scale 2 using scale 1 ...current loss: 0.0417:  60% 9/15 [00:07<00:04,  1.28it/s]\u001b[A\n",
            "Refining scale 2 using scale 1 ...current loss: 0.0417:  67% 10/15 [00:07<00:03,  1.28it/s]\u001b[A\n",
            "Refining scale 2 using scale 1 ...current loss: 0.0403:  67% 10/15 [00:08<00:03,  1.28it/s]\u001b[A\n",
            "Refining scale 2 using scale 1 ...current loss: 0.0403:  73% 11/15 [00:08<00:03,  1.28it/s]\u001b[A\n",
            "Refining scale 2 using scale 1 ...current loss: 0.0391:  73% 11/15 [00:09<00:03,  1.28it/s]\u001b[A\n",
            "Refining scale 2 using scale 1 ...current loss: 0.0391:  80% 12/15 [00:09<00:02,  1.28it/s]\u001b[A\n",
            "Refining scale 2 using scale 1 ...current loss: 0.0379:  80% 12/15 [00:09<00:02,  1.28it/s]\u001b[A\n",
            "Refining scale 2 using scale 1 ...current loss: 0.0379:  87% 13/15 [00:10<00:01,  1.27it/s]\u001b[A\n",
            "Refining scale 2 using scale 1 ...current loss: 0.0367:  87% 13/15 [00:10<00:01,  1.27it/s]\u001b[A\n",
            "Refining scale 2 using scale 1 ...current loss: 0.0367:  93% 14/15 [00:10<00:00,  1.27it/s]\u001b[A\n",
            "Refining scale 2 using scale 1 ...current loss: 0.0357:  93% 14/15 [00:11<00:00,  1.27it/s]\u001b[A\n",
            "Refining scale 2 using scale 1 ...current loss: 0.0357: 100% 15/15 [00:11<00:00,  1.41it/s]\u001b[A\n",
            " 94% 700/746 [2:16:40<08:58, 11.71s/it]\n",
            "  0% 0/15 [00:00<?, ?it/s]\u001b[A\n",
            "                          \u001b[A\n",
            "  0% 0/15 [00:00<?, ?it/s]\u001b[A\n",
            "Refining scale 2 using scale 1 ...current loss: 0.0604:   0% 0/15 [00:00<?, ?it/s]\u001b[A\n",
            "Refining scale 2 using scale 1 ...current loss: 0.0604:   7% 1/15 [00:00<00:08,  1.56it/s]\u001b[A\n",
            "Refining scale 2 using scale 1 ...current loss: 0.0495:   7% 1/15 [00:01<00:08,  1.56it/s]\u001b[A\n",
            "Refining scale 2 using scale 1 ...current loss: 0.0495:  13% 2/15 [00:01<00:09,  1.37it/s]\u001b[A\n",
            "Refining scale 2 using scale 1 ...current loss: 0.0426:  13% 2/15 [00:01<00:09,  1.37it/s]\u001b[A\n",
            "Refining scale 2 using scale 1 ...current loss: 0.0426:  20% 3/15 [00:02<00:09,  1.32it/s]\u001b[A\n",
            "Refining scale 2 using scale 1 ...current loss: 0.0406:  20% 3/15 [00:02<00:09,  1.32it/s]\u001b[A\n",
            "Refining scale 2 using scale 1 ...current loss: 0.0406:  27% 4/15 [00:03<00:08,  1.30it/s]\u001b[A\n",
            "Refining scale 2 using scale 1 ...current loss: 0.0355:  27% 4/15 [00:03<00:08,  1.30it/s]\u001b[A\n",
            "Refining scale 2 using scale 1 ...current loss: 0.0355:  33% 5/15 [00:03<00:07,  1.29it/s]\u001b[A\n",
            "Refining scale 2 using scale 1 ...current loss: 0.0329:  33% 5/15 [00:04<00:07,  1.29it/s]\u001b[A\n",
            "Refining scale 2 using scale 1 ...current loss: 0.0329:  40% 6/15 [00:04<00:07,  1.28it/s]\u001b[A\n",
            "Refining scale 2 using scale 1 ...current loss: 0.0315:  40% 6/15 [00:05<00:07,  1.28it/s]\u001b[A\n",
            "Refining scale 2 using scale 1 ...current loss: 0.0315:  47% 7/15 [00:05<00:06,  1.28it/s]\u001b[A\n",
            "Refining scale 2 using scale 1 ...current loss: 0.0296:  47% 7/15 [00:05<00:06,  1.28it/s]\u001b[A\n",
            "Refining scale 2 using scale 1 ...current loss: 0.0296:  53% 8/15 [00:06<00:05,  1.28it/s]\u001b[A\n",
            "Refining scale 2 using scale 1 ...current loss: 0.0277:  53% 8/15 [00:06<00:05,  1.28it/s]\u001b[A\n",
            "Refining scale 2 using scale 1 ...current loss: 0.0277:  60% 9/15 [00:06<00:04,  1.28it/s]\u001b[A\n",
            "Refining scale 2 using scale 1 ...current loss: 0.0264:  60% 9/15 [00:07<00:04,  1.28it/s]\u001b[A\n",
            "Refining scale 2 using scale 1 ...current loss: 0.0264:  67% 10/15 [00:07<00:03,  1.28it/s]\u001b[A\n",
            "Refining scale 2 using scale 1 ...current loss: 0.0249:  67% 10/15 [00:08<00:03,  1.28it/s]\u001b[A\n",
            "Refining scale 2 using scale 1 ...current loss: 0.0249:  73% 11/15 [00:08<00:03,  1.28it/s]\u001b[A\n",
            "Refining scale 2 using scale 1 ...current loss: 0.0235:  73% 11/15 [00:09<00:03,  1.28it/s]\u001b[A\n",
            "Refining scale 2 using scale 1 ...current loss: 0.0235:  80% 12/15 [00:09<00:02,  1.28it/s]\u001b[A\n",
            "Refining scale 2 using scale 1 ...current loss: 0.0225:  80% 12/15 [00:09<00:02,  1.28it/s]\u001b[A\n",
            "Refining scale 2 using scale 1 ...current loss: 0.0225:  87% 13/15 [00:10<00:01,  1.28it/s]\u001b[A\n",
            "Refining scale 2 using scale 1 ...current loss: 0.0215:  87% 13/15 [00:10<00:01,  1.28it/s]\u001b[A\n",
            "Refining scale 2 using scale 1 ...current loss: 0.0215:  93% 14/15 [00:10<00:00,  1.27it/s]\u001b[A\n",
            "Refining scale 2 using scale 1 ...current loss: 0.0207:  93% 14/15 [00:11<00:00,  1.27it/s]\u001b[A\n",
            "Refining scale 2 using scale 1 ...current loss: 0.0207: 100% 15/15 [00:11<00:00,  1.42it/s]\u001b[A\n",
            " 94% 701/746 [2:16:52<08:47, 11.72s/it]\n",
            "  0% 0/15 [00:00<?, ?it/s]\u001b[A\n",
            "                          \u001b[A\n",
            "  0% 0/15 [00:00<?, ?it/s]\u001b[A\n",
            "Refining scale 2 using scale 1 ...current loss: nan:   0% 0/15 [00:00<?, ?it/s]\u001b[A\n",
            "Refining scale 2 using scale 1 ...current loss: nan:   7% 1/15 [00:00<00:08,  1.58it/s]\u001b[A\n",
            "Refining scale 2 using scale 1 ...current loss: nan:   7% 1/15 [00:01<00:08,  1.58it/s]\u001b[A\n",
            "Refining scale 2 using scale 1 ...current loss: nan:  13% 2/15 [00:01<00:09,  1.38it/s]\u001b[A\n",
            "Refining scale 2 using scale 1 ...current loss: nan:  13% 2/15 [00:01<00:09,  1.38it/s]\u001b[A\n",
            "Refining scale 2 using scale 1 ...current loss: nan:  20% 3/15 [00:02<00:09,  1.33it/s]\u001b[A\n",
            "Refining scale 2 using scale 1 ...current loss: nan:  20% 3/15 [00:02<00:09,  1.33it/s]\u001b[A\n",
            "Refining scale 2 using scale 1 ...current loss: nan:  27% 4/15 [00:02<00:08,  1.31it/s]\u001b[A\n",
            "Refining scale 2 using scale 1 ...current loss: nan:  27% 4/15 [00:03<00:08,  1.31it/s]\u001b[A\n",
            "Refining scale 2 using scale 1 ...current loss: nan:  33% 5/15 [00:03<00:07,  1.29it/s]\u001b[A\n",
            "Refining scale 2 using scale 1 ...current loss: nan:  33% 5/15 [00:04<00:07,  1.29it/s]\u001b[A\n",
            "Refining scale 2 using scale 1 ...current loss: nan:  40% 6/15 [00:04<00:06,  1.29it/s]\u001b[A\n",
            "Refining scale 2 using scale 1 ...current loss: nan:  40% 6/15 [00:05<00:06,  1.29it/s]\u001b[A\n",
            "Refining scale 2 using scale 1 ...current loss: nan:  47% 7/15 [00:05<00:06,  1.28it/s]\u001b[A\n",
            "Refining scale 2 using scale 1 ...current loss: nan:  47% 7/15 [00:05<00:06,  1.28it/s]\u001b[A\n",
            "Refining scale 2 using scale 1 ...current loss: nan:  53% 8/15 [00:06<00:05,  1.28it/s]\u001b[A\n",
            "Refining scale 2 using scale 1 ...current loss: nan:  53% 8/15 [00:06<00:05,  1.28it/s]\u001b[A\n",
            "Refining scale 2 using scale 1 ...current loss: nan:  60% 9/15 [00:06<00:04,  1.27it/s]\u001b[A\n",
            "Refining scale 2 using scale 1 ...current loss: nan:  60% 9/15 [00:07<00:04,  1.27it/s]\u001b[A\n",
            "Refining scale 2 using scale 1 ...current loss: nan:  67% 10/15 [00:07<00:03,  1.28it/s]\u001b[A\n",
            "Refining scale 2 using scale 1 ...current loss: nan:  67% 10/15 [00:08<00:03,  1.28it/s]\u001b[A\n",
            "Refining scale 2 using scale 1 ...current loss: nan:  73% 11/15 [00:08<00:03,  1.28it/s]\u001b[A\n",
            "Refining scale 2 using scale 1 ...current loss: nan:  73% 11/15 [00:09<00:03,  1.28it/s]\u001b[A\n",
            "Refining scale 2 using scale 1 ...current loss: nan:  80% 12/15 [00:09<00:02,  1.27it/s]\u001b[A\n",
            "Refining scale 2 using scale 1 ...current loss: nan:  80% 12/15 [00:09<00:02,  1.27it/s]\u001b[A\n",
            "Refining scale 2 using scale 1 ...current loss: nan:  87% 13/15 [00:10<00:01,  1.27it/s]\u001b[A\n",
            "Refining scale 2 using scale 1 ...current loss: nan:  87% 13/15 [00:10<00:01,  1.27it/s]\u001b[A\n",
            "Refining scale 2 using scale 1 ...current loss: nan:  93% 14/15 [00:10<00:00,  1.27it/s]\u001b[A\n",
            "Refining scale 2 using scale 1 ...current loss: nan:  93% 14/15 [00:11<00:00,  1.27it/s]\u001b[A\n",
            "Refining scale 2 using scale 1 ...current loss: nan: 100% 15/15 [00:11<00:00,  1.42it/s]\u001b[A\n",
            " 94% 702/746 [2:17:03<08:34, 11.70s/it]\n",
            "  0% 0/15 [00:00<?, ?it/s]\u001b[A\n",
            "                          \u001b[A\n",
            "  0% 0/15 [00:00<?, ?it/s]\u001b[A\n",
            "Refining scale 2 using scale 1 ...current loss: nan:   0% 0/15 [00:00<?, ?it/s]\u001b[A\n",
            "Refining scale 2 using scale 1 ...current loss: nan:   7% 1/15 [00:00<00:08,  1.58it/s]\u001b[A\n",
            "Refining scale 2 using scale 1 ...current loss: nan:   7% 1/15 [00:01<00:08,  1.58it/s]\u001b[A\n",
            "Refining scale 2 using scale 1 ...current loss: nan:  13% 2/15 [00:01<00:09,  1.38it/s]\u001b[A\n",
            "Refining scale 2 using scale 1 ...current loss: nan:  13% 2/15 [00:01<00:09,  1.38it/s]\u001b[A\n",
            "Refining scale 2 using scale 1 ...current loss: nan:  20% 3/15 [00:02<00:09,  1.33it/s]\u001b[A\n",
            "Refining scale 2 using scale 1 ...current loss: nan:  20% 3/15 [00:02<00:09,  1.33it/s]\u001b[A\n",
            "Refining scale 2 using scale 1 ...current loss: nan:  27% 4/15 [00:02<00:08,  1.31it/s]\u001b[A\n",
            "Refining scale 2 using scale 1 ...current loss: nan:  27% 4/15 [00:03<00:08,  1.31it/s]\u001b[A\n",
            "Refining scale 2 using scale 1 ...current loss: nan:  33% 5/15 [00:03<00:07,  1.30it/s]\u001b[A\n",
            "Refining scale 2 using scale 1 ...current loss: nan:  33% 5/15 [00:04<00:07,  1.30it/s]\u001b[A\n",
            "Refining scale 2 using scale 1 ...current loss: nan:  40% 6/15 [00:04<00:06,  1.29it/s]\u001b[A\n",
            "Refining scale 2 using scale 1 ...current loss: nan:  40% 6/15 [00:05<00:06,  1.29it/s]\u001b[A\n",
            "Refining scale 2 using scale 1 ...current loss: nan:  47% 7/15 [00:05<00:06,  1.28it/s]\u001b[A\n",
            "Refining scale 2 using scale 1 ...current loss: nan:  47% 7/15 [00:05<00:06,  1.28it/s]\u001b[A\n",
            "Refining scale 2 using scale 1 ...current loss: nan:  53% 8/15 [00:06<00:05,  1.28it/s]\u001b[A\n",
            "Refining scale 2 using scale 1 ...current loss: nan:  53% 8/15 [00:06<00:05,  1.28it/s]\u001b[A\n",
            "Refining scale 2 using scale 1 ...current loss: nan:  60% 9/15 [00:06<00:04,  1.27it/s]\u001b[A\n",
            "Refining scale 2 using scale 1 ...current loss: nan:  60% 9/15 [00:07<00:04,  1.27it/s]\u001b[A\n",
            "Refining scale 2 using scale 1 ...current loss: nan:  67% 10/15 [00:07<00:03,  1.28it/s]\u001b[A\n",
            "Refining scale 2 using scale 1 ...current loss: nan:  67% 10/15 [00:08<00:03,  1.28it/s]\u001b[A\n",
            "Refining scale 2 using scale 1 ...current loss: nan:  73% 11/15 [00:08<00:03,  1.27it/s]\u001b[A\n",
            "Refining scale 2 using scale 1 ...current loss: nan:  73% 11/15 [00:09<00:03,  1.27it/s]\u001b[A\n",
            "Refining scale 2 using scale 1 ...current loss: nan:  80% 12/15 [00:09<00:02,  1.27it/s]\u001b[A\n",
            "Refining scale 2 using scale 1 ...current loss: nan:  80% 12/15 [00:09<00:02,  1.27it/s]\u001b[A\n",
            "Refining scale 2 using scale 1 ...current loss: nan:  87% 13/15 [00:10<00:01,  1.27it/s]\u001b[A\n",
            "Refining scale 2 using scale 1 ...current loss: nan:  87% 13/15 [00:10<00:01,  1.27it/s]\u001b[A\n",
            "Refining scale 2 using scale 1 ...current loss: nan:  93% 14/15 [00:10<00:00,  1.27it/s]\u001b[A\n",
            "Refining scale 2 using scale 1 ...current loss: nan:  93% 14/15 [00:11<00:00,  1.27it/s]\u001b[A\n",
            "Refining scale 2 using scale 1 ...current loss: nan: 100% 15/15 [00:11<00:00,  1.41it/s]\u001b[A\n",
            " 94% 703/746 [2:17:15<08:22, 11.69s/it]\n",
            "  0% 0/15 [00:00<?, ?it/s]\u001b[A\n",
            "                          \u001b[A\n",
            "  0% 0/15 [00:00<?, ?it/s]\u001b[A\n",
            "Refining scale 2 using scale 1 ...current loss: 0.0454:   0% 0/15 [00:00<?, ?it/s]\u001b[A\n",
            "Refining scale 2 using scale 1 ...current loss: 0.0454:   7% 1/15 [00:00<00:08,  1.58it/s]\u001b[A\n",
            "Refining scale 2 using scale 1 ...current loss: 0.0327:   7% 1/15 [00:01<00:08,  1.58it/s]\u001b[A\n",
            "Refining scale 2 using scale 1 ...current loss: 0.0327:  13% 2/15 [00:01<00:09,  1.38it/s]\u001b[A\n",
            "Refining scale 2 using scale 1 ...current loss: 0.0303:  13% 2/15 [00:01<00:09,  1.38it/s]\u001b[A\n",
            "Refining scale 2 using scale 1 ...current loss: 0.0303:  20% 3/15 [00:02<00:09,  1.33it/s]\u001b[A\n",
            "Refining scale 2 using scale 1 ...current loss: 0.0261:  20% 3/15 [00:02<00:09,  1.33it/s]\u001b[A\n",
            "Refining scale 2 using scale 1 ...current loss: 0.0261:  27% 4/15 [00:02<00:08,  1.31it/s]\u001b[A\n",
            "Refining scale 2 using scale 1 ...current loss: 0.0233:  27% 4/15 [00:03<00:08,  1.31it/s]\u001b[A\n",
            "Refining scale 2 using scale 1 ...current loss: 0.0233:  33% 5/15 [00:03<00:07,  1.30it/s]\u001b[A\n",
            "Refining scale 2 using scale 1 ...current loss: 0.0216:  33% 5/15 [00:04<00:07,  1.30it/s]\u001b[A\n",
            "Refining scale 2 using scale 1 ...current loss: 0.0216:  40% 6/15 [00:04<00:06,  1.29it/s]\u001b[A\n",
            "Refining scale 2 using scale 1 ...current loss: 0.0204:  40% 6/15 [00:05<00:06,  1.29it/s]\u001b[A\n",
            "Refining scale 2 using scale 1 ...current loss: 0.0204:  47% 7/15 [00:05<00:06,  1.28it/s]\u001b[A\n",
            "Refining scale 2 using scale 1 ...current loss: 0.0194:  47% 7/15 [00:05<00:06,  1.28it/s]\u001b[A\n",
            "Refining scale 2 using scale 1 ...current loss: 0.0194:  53% 8/15 [00:06<00:05,  1.28it/s]\u001b[A\n",
            "Refining scale 2 using scale 1 ...current loss: 0.0185:  53% 8/15 [00:06<00:05,  1.28it/s]\u001b[A\n",
            "Refining scale 2 using scale 1 ...current loss: 0.0185:  60% 9/15 [00:06<00:04,  1.28it/s]\u001b[A\n",
            "Refining scale 2 using scale 1 ...current loss: 0.0174:  60% 9/15 [00:07<00:04,  1.28it/s]\u001b[A\n",
            "Refining scale 2 using scale 1 ...current loss: 0.0174:  67% 10/15 [00:07<00:03,  1.28it/s]\u001b[A\n",
            "Refining scale 2 using scale 1 ...current loss: 0.0165:  67% 10/15 [00:08<00:03,  1.28it/s]\u001b[A\n",
            "Refining scale 2 using scale 1 ...current loss: 0.0165:  73% 11/15 [00:08<00:03,  1.28it/s]\u001b[A\n",
            "Refining scale 2 using scale 1 ...current loss: 0.0160:  73% 11/15 [00:09<00:03,  1.28it/s]\u001b[A\n",
            "Refining scale 2 using scale 1 ...current loss: 0.0160:  80% 12/15 [00:09<00:02,  1.28it/s]\u001b[A\n",
            "Refining scale 2 using scale 1 ...current loss: 0.0154:  80% 12/15 [00:09<00:02,  1.28it/s]\u001b[A\n",
            "Refining scale 2 using scale 1 ...current loss: 0.0154:  87% 13/15 [00:10<00:01,  1.28it/s]\u001b[A\n",
            "Refining scale 2 using scale 1 ...current loss: 0.0150:  87% 13/15 [00:10<00:01,  1.28it/s]\u001b[A\n",
            "Refining scale 2 using scale 1 ...current loss: 0.0150:  93% 14/15 [00:10<00:00,  1.27it/s]\u001b[A\n",
            "Refining scale 2 using scale 1 ...current loss: 0.0146:  93% 14/15 [00:11<00:00,  1.27it/s]\u001b[A\n",
            "Refining scale 2 using scale 1 ...current loss: 0.0146: 100% 15/15 [00:11<00:00,  1.41it/s]\u001b[A\n",
            " 94% 704/746 [2:17:27<08:10, 11.68s/it]\n",
            "  0% 0/15 [00:00<?, ?it/s]\u001b[A\n",
            "                          \u001b[A\n",
            "  0% 0/15 [00:00<?, ?it/s]\u001b[A\n",
            "Refining scale 2 using scale 1 ...current loss: nan:   0% 0/15 [00:00<?, ?it/s]\u001b[A\n",
            "Refining scale 2 using scale 1 ...current loss: nan:   7% 1/15 [00:00<00:08,  1.56it/s]\u001b[A\n",
            "Refining scale 2 using scale 1 ...current loss: nan:   7% 1/15 [00:01<00:08,  1.56it/s]\u001b[A\n",
            "Refining scale 2 using scale 1 ...current loss: nan:  13% 2/15 [00:01<00:09,  1.37it/s]\u001b[A\n",
            "Refining scale 2 using scale 1 ...current loss: nan:  13% 2/15 [00:01<00:09,  1.37it/s]\u001b[A\n",
            "Refining scale 2 using scale 1 ...current loss: nan:  20% 3/15 [00:02<00:09,  1.32it/s]\u001b[A\n",
            "Refining scale 2 using scale 1 ...current loss: nan:  20% 3/15 [00:02<00:09,  1.32it/s]\u001b[A\n",
            "Refining scale 2 using scale 1 ...current loss: nan:  27% 4/15 [00:03<00:08,  1.30it/s]\u001b[A\n",
            "Refining scale 2 using scale 1 ...current loss: nan:  27% 4/15 [00:03<00:08,  1.30it/s]\u001b[A\n",
            "Refining scale 2 using scale 1 ...current loss: nan:  33% 5/15 [00:03<00:07,  1.29it/s]\u001b[A\n",
            "Refining scale 2 using scale 1 ...current loss: nan:  33% 5/15 [00:04<00:07,  1.29it/s]\u001b[A\n",
            "Refining scale 2 using scale 1 ...current loss: nan:  40% 6/15 [00:04<00:06,  1.29it/s]\u001b[A\n",
            "Refining scale 2 using scale 1 ...current loss: nan:  40% 6/15 [00:05<00:06,  1.29it/s]\u001b[A\n",
            "Refining scale 2 using scale 1 ...current loss: nan:  47% 7/15 [00:05<00:06,  1.28it/s]\u001b[A\n",
            "Refining scale 2 using scale 1 ...current loss: nan:  47% 7/15 [00:05<00:06,  1.28it/s]\u001b[A\n",
            "Refining scale 2 using scale 1 ...current loss: nan:  53% 8/15 [00:06<00:05,  1.28it/s]\u001b[A\n",
            "Refining scale 2 using scale 1 ...current loss: nan:  53% 8/15 [00:06<00:05,  1.28it/s]\u001b[A\n",
            "Refining scale 2 using scale 1 ...current loss: nan:  60% 9/15 [00:06<00:04,  1.28it/s]\u001b[A\n",
            "Refining scale 2 using scale 1 ...current loss: nan:  60% 9/15 [00:07<00:04,  1.28it/s]\u001b[A\n",
            "Refining scale 2 using scale 1 ...current loss: nan:  67% 10/15 [00:07<00:03,  1.28it/s]\u001b[A\n",
            "Refining scale 2 using scale 1 ...current loss: nan:  67% 10/15 [00:08<00:03,  1.28it/s]\u001b[A\n",
            "Refining scale 2 using scale 1 ...current loss: nan:  73% 11/15 [00:08<00:03,  1.28it/s]\u001b[A\n",
            "Refining scale 2 using scale 1 ...current loss: nan:  73% 11/15 [00:09<00:03,  1.28it/s]\u001b[A\n",
            "Refining scale 2 using scale 1 ...current loss: nan:  80% 12/15 [00:09<00:02,  1.28it/s]\u001b[A\n",
            "Refining scale 2 using scale 1 ...current loss: nan:  80% 12/15 [00:09<00:02,  1.28it/s]\u001b[A\n",
            "Refining scale 2 using scale 1 ...current loss: nan:  87% 13/15 [00:10<00:01,  1.28it/s]\u001b[A\n",
            "Refining scale 2 using scale 1 ...current loss: nan:  87% 13/15 [00:10<00:01,  1.28it/s]\u001b[A\n",
            "Refining scale 2 using scale 1 ...current loss: nan:  93% 14/15 [00:10<00:00,  1.28it/s]\u001b[A\n",
            "Refining scale 2 using scale 1 ...current loss: nan:  93% 14/15 [00:11<00:00,  1.28it/s]\u001b[A\n",
            "Refining scale 2 using scale 1 ...current loss: nan: 100% 15/15 [00:11<00:00,  1.42it/s]\u001b[A\n",
            " 95% 705/746 [2:17:38<07:59, 11.68s/it]\n",
            "  0% 0/15 [00:00<?, ?it/s]\u001b[A\n",
            "                          \u001b[A\n",
            "  0% 0/15 [00:00<?, ?it/s]\u001b[A\n",
            "Refining scale 2 using scale 1 ...current loss: 0.0574:   0% 0/15 [00:00<?, ?it/s]\u001b[A\n",
            "Refining scale 2 using scale 1 ...current loss: 0.0574:   7% 1/15 [00:00<00:08,  1.58it/s]\u001b[A\n",
            "Refining scale 2 using scale 1 ...current loss: 0.0464:   7% 1/15 [00:01<00:08,  1.58it/s]\u001b[A\n",
            "Refining scale 2 using scale 1 ...current loss: 0.0464:  13% 2/15 [00:01<00:09,  1.38it/s]\u001b[A\n",
            "Refining scale 2 using scale 1 ...current loss: 0.0402:  13% 2/15 [00:01<00:09,  1.38it/s]\u001b[A\n",
            "Refining scale 2 using scale 1 ...current loss: 0.0402:  20% 3/15 [00:02<00:09,  1.33it/s]\u001b[A\n",
            "Refining scale 2 using scale 1 ...current loss: 0.0367:  20% 3/15 [00:02<00:09,  1.33it/s]\u001b[A\n",
            "Refining scale 2 using scale 1 ...current loss: 0.0367:  27% 4/15 [00:02<00:08,  1.31it/s]\u001b[A\n",
            "Refining scale 2 using scale 1 ...current loss: 0.0330:  27% 4/15 [00:03<00:08,  1.31it/s]\u001b[A\n",
            "Refining scale 2 using scale 1 ...current loss: 0.0330:  33% 5/15 [00:03<00:07,  1.29it/s]\u001b[A\n",
            "Refining scale 2 using scale 1 ...current loss: 0.0309:  33% 5/15 [00:04<00:07,  1.29it/s]\u001b[A\n",
            "Refining scale 2 using scale 1 ...current loss: 0.0309:  40% 6/15 [00:04<00:07,  1.29it/s]\u001b[A\n",
            "Refining scale 2 using scale 1 ...current loss: 0.0288:  40% 6/15 [00:05<00:07,  1.29it/s]\u001b[A\n",
            "Refining scale 2 using scale 1 ...current loss: 0.0288:  47% 7/15 [00:05<00:06,  1.28it/s]\u001b[A\n",
            "Refining scale 2 using scale 1 ...current loss: 0.0271:  47% 7/15 [00:05<00:06,  1.28it/s]\u001b[A\n",
            "Refining scale 2 using scale 1 ...current loss: 0.0271:  53% 8/15 [00:06<00:05,  1.28it/s]\u001b[A\n",
            "Refining scale 2 using scale 1 ...current loss: 0.0259:  53% 8/15 [00:06<00:05,  1.28it/s]\u001b[A\n",
            "Refining scale 2 using scale 1 ...current loss: 0.0259:  60% 9/15 [00:06<00:04,  1.28it/s]\u001b[A\n",
            "Refining scale 2 using scale 1 ...current loss: 0.0249:  60% 9/15 [00:07<00:04,  1.28it/s]\u001b[A\n",
            "Refining scale 2 using scale 1 ...current loss: 0.0249:  67% 10/15 [00:07<00:03,  1.28it/s]\u001b[A\n",
            "Refining scale 2 using scale 1 ...current loss: 0.0237:  67% 10/15 [00:08<00:03,  1.28it/s]\u001b[A\n",
            "Refining scale 2 using scale 1 ...current loss: 0.0237:  73% 11/15 [00:08<00:03,  1.28it/s]\u001b[A\n",
            "Refining scale 2 using scale 1 ...current loss: 0.0227:  73% 11/15 [00:09<00:03,  1.28it/s]\u001b[A\n",
            "Refining scale 2 using scale 1 ...current loss: 0.0227:  80% 12/15 [00:09<00:02,  1.28it/s]\u001b[A\n",
            "Refining scale 2 using scale 1 ...current loss: 0.0220:  80% 12/15 [00:09<00:02,  1.28it/s]\u001b[A\n",
            "Refining scale 2 using scale 1 ...current loss: 0.0220:  87% 13/15 [00:10<00:01,  1.28it/s]\u001b[A\n",
            "Refining scale 2 using scale 1 ...current loss: 0.0215:  87% 13/15 [00:10<00:01,  1.28it/s]\u001b[A\n",
            "Refining scale 2 using scale 1 ...current loss: 0.0215:  93% 14/15 [00:10<00:00,  1.28it/s]\u001b[A\n",
            "Refining scale 2 using scale 1 ...current loss: 0.0207:  93% 14/15 [00:11<00:00,  1.28it/s]\u001b[A\n",
            "Refining scale 2 using scale 1 ...current loss: 0.0207: 100% 15/15 [00:11<00:00,  1.42it/s]\u001b[A\n",
            " 95% 706/746 [2:17:50<07:46, 11.67s/it]\n",
            "  0% 0/15 [00:00<?, ?it/s]\u001b[A\n",
            "                          \u001b[A\n",
            "  0% 0/15 [00:00<?, ?it/s]\u001b[A\n",
            "Refining scale 2 using scale 1 ...current loss: 0.0293:   0% 0/15 [00:00<?, ?it/s]\u001b[A\n",
            "Refining scale 2 using scale 1 ...current loss: 0.0293:   7% 1/15 [00:00<00:08,  1.58it/s]\u001b[A\n",
            "Refining scale 2 using scale 1 ...current loss: 0.0229:   7% 1/15 [00:01<00:08,  1.58it/s]\u001b[A\n",
            "Refining scale 2 using scale 1 ...current loss: 0.0229:  13% 2/15 [00:01<00:09,  1.38it/s]\u001b[A\n",
            "Refining scale 2 using scale 1 ...current loss: 0.0206:  13% 2/15 [00:01<00:09,  1.38it/s]\u001b[A\n",
            "Refining scale 2 using scale 1 ...current loss: 0.0206:  20% 3/15 [00:02<00:09,  1.33it/s]\u001b[A\n",
            "Refining scale 2 using scale 1 ...current loss: 0.0206:  20% 3/15 [00:02<00:09,  1.33it/s]\u001b[A\n",
            "Refining scale 2 using scale 1 ...current loss: 0.0206:  27% 4/15 [00:02<00:08,  1.31it/s]\u001b[A\n",
            "Refining scale 2 using scale 1 ...current loss: 0.0195:  27% 4/15 [00:03<00:08,  1.31it/s]\u001b[A\n",
            "Refining scale 2 using scale 1 ...current loss: 0.0195:  33% 5/15 [00:03<00:07,  1.30it/s]\u001b[A\n",
            "Refining scale 2 using scale 1 ...current loss: 0.0179:  33% 5/15 [00:04<00:07,  1.30it/s]\u001b[A\n",
            "Refining scale 2 using scale 1 ...current loss: 0.0179:  40% 6/15 [00:04<00:06,  1.29it/s]\u001b[A\n",
            "Refining scale 2 using scale 1 ...current loss: 0.0177:  40% 6/15 [00:05<00:06,  1.29it/s]\u001b[A\n",
            "Refining scale 2 using scale 1 ...current loss: 0.0177:  47% 7/15 [00:05<00:06,  1.28it/s]\u001b[A\n",
            "Refining scale 2 using scale 1 ...current loss: 0.0165:  47% 7/15 [00:05<00:06,  1.28it/s]\u001b[A\n",
            "Refining scale 2 using scale 1 ...current loss: 0.0165:  53% 8/15 [00:06<00:05,  1.28it/s]\u001b[A\n",
            "Refining scale 2 using scale 1 ...current loss: 0.0159:  53% 8/15 [00:06<00:05,  1.28it/s]\u001b[A\n",
            "Refining scale 2 using scale 1 ...current loss: 0.0159:  60% 9/15 [00:06<00:04,  1.28it/s]\u001b[A\n",
            "Refining scale 2 using scale 1 ...current loss: 0.0151:  60% 9/15 [00:07<00:04,  1.28it/s]\u001b[A\n",
            "Refining scale 2 using scale 1 ...current loss: 0.0151:  67% 10/15 [00:07<00:03,  1.28it/s]\u001b[A\n",
            "Refining scale 2 using scale 1 ...current loss: 0.0146:  67% 10/15 [00:08<00:03,  1.28it/s]\u001b[A\n",
            "Refining scale 2 using scale 1 ...current loss: 0.0146:  73% 11/15 [00:08<00:03,  1.27it/s]\u001b[A\n",
            "Refining scale 2 using scale 1 ...current loss: 0.0140:  73% 11/15 [00:09<00:03,  1.27it/s]\u001b[A\n",
            "Refining scale 2 using scale 1 ...current loss: 0.0140:  80% 12/15 [00:09<00:02,  1.27it/s]\u001b[A\n",
            "Refining scale 2 using scale 1 ...current loss: 0.0136:  80% 12/15 [00:09<00:02,  1.27it/s]\u001b[A\n",
            "Refining scale 2 using scale 1 ...current loss: 0.0136:  87% 13/15 [00:10<00:01,  1.27it/s]\u001b[A\n",
            "Refining scale 2 using scale 1 ...current loss: 0.0132:  87% 13/15 [00:10<00:01,  1.27it/s]\u001b[A\n",
            "Refining scale 2 using scale 1 ...current loss: 0.0132:  93% 14/15 [00:10<00:00,  1.27it/s]\u001b[A\n",
            "Refining scale 2 using scale 1 ...current loss: 0.0129:  93% 14/15 [00:11<00:00,  1.27it/s]\u001b[A\n",
            "Refining scale 2 using scale 1 ...current loss: 0.0129: 100% 15/15 [00:11<00:00,  1.42it/s]\u001b[A\n",
            " 95% 707/746 [2:18:02<07:35, 11.67s/it]\n",
            "  0% 0/15 [00:00<?, ?it/s]\u001b[A\n",
            "                          \u001b[A\n",
            "  0% 0/15 [00:00<?, ?it/s]\u001b[A\n",
            "Refining scale 2 using scale 1 ...current loss: 0.0453:   0% 0/15 [00:00<?, ?it/s]\u001b[A\n",
            "Refining scale 2 using scale 1 ...current loss: 0.0453:   7% 1/15 [00:00<00:08,  1.58it/s]\u001b[A\n",
            "Refining scale 2 using scale 1 ...current loss: 0.0344:   7% 1/15 [00:01<00:08,  1.58it/s]\u001b[A\n",
            "Refining scale 2 using scale 1 ...current loss: 0.0344:  13% 2/15 [00:01<00:09,  1.38it/s]\u001b[A\n",
            "Refining scale 2 using scale 1 ...current loss: 0.0324:  13% 2/15 [00:01<00:09,  1.38it/s]\u001b[A\n",
            "Refining scale 2 using scale 1 ...current loss: 0.0324:  20% 3/15 [00:02<00:09,  1.33it/s]\u001b[A\n",
            "Refining scale 2 using scale 1 ...current loss: 0.0307:  20% 3/15 [00:02<00:09,  1.33it/s]\u001b[A\n",
            "Refining scale 2 using scale 1 ...current loss: 0.0307:  27% 4/15 [00:02<00:08,  1.31it/s]\u001b[A\n",
            "Refining scale 2 using scale 1 ...current loss: 0.0290:  27% 4/15 [00:03<00:08,  1.31it/s]\u001b[A\n",
            "Refining scale 2 using scale 1 ...current loss: 0.0290:  33% 5/15 [00:03<00:07,  1.30it/s]\u001b[A\n",
            "Refining scale 2 using scale 1 ...current loss: 0.0283:  33% 5/15 [00:04<00:07,  1.30it/s]\u001b[A\n",
            "Refining scale 2 using scale 1 ...current loss: 0.0283:  40% 6/15 [00:04<00:06,  1.29it/s]\u001b[A\n",
            "Refining scale 2 using scale 1 ...current loss: 0.0273:  40% 6/15 [00:05<00:06,  1.29it/s]\u001b[A\n",
            "Refining scale 2 using scale 1 ...current loss: 0.0273:  47% 7/15 [00:05<00:06,  1.29it/s]\u001b[A\n",
            "Refining scale 2 using scale 1 ...current loss: 0.0266:  47% 7/15 [00:05<00:06,  1.29it/s]\u001b[A\n",
            "Refining scale 2 using scale 1 ...current loss: 0.0266:  53% 8/15 [00:06<00:05,  1.28it/s]\u001b[A\n",
            "Refining scale 2 using scale 1 ...current loss: 0.0259:  53% 8/15 [00:06<00:05,  1.28it/s]\u001b[A\n",
            "Refining scale 2 using scale 1 ...current loss: 0.0259:  60% 9/15 [00:06<00:04,  1.28it/s]\u001b[A\n",
            "Refining scale 2 using scale 1 ...current loss: 0.0254:  60% 9/15 [00:07<00:04,  1.28it/s]\u001b[A\n",
            "Refining scale 2 using scale 1 ...current loss: 0.0254:  67% 10/15 [00:07<00:03,  1.28it/s]\u001b[A\n",
            "Refining scale 2 using scale 1 ...current loss: 0.0249:  67% 10/15 [00:08<00:03,  1.28it/s]\u001b[A\n",
            "Refining scale 2 using scale 1 ...current loss: 0.0249:  73% 11/15 [00:08<00:03,  1.28it/s]\u001b[A\n",
            "Refining scale 2 using scale 1 ...current loss: 0.0245:  73% 11/15 [00:08<00:03,  1.28it/s]\u001b[A\n",
            "Refining scale 2 using scale 1 ...current loss: 0.0245:  80% 12/15 [00:09<00:02,  1.28it/s]\u001b[A\n",
            "Refining scale 2 using scale 1 ...current loss: 0.0242:  80% 12/15 [00:09<00:02,  1.28it/s]\u001b[A\n",
            "Refining scale 2 using scale 1 ...current loss: 0.0242:  87% 13/15 [00:10<00:01,  1.27it/s]\u001b[A\n",
            "Refining scale 2 using scale 1 ...current loss: 0.0237:  87% 13/15 [00:10<00:01,  1.27it/s]\u001b[A\n",
            "Refining scale 2 using scale 1 ...current loss: 0.0237:  93% 14/15 [00:10<00:00,  1.27it/s]\u001b[A\n",
            "Refining scale 2 using scale 1 ...current loss: 0.0233:  93% 14/15 [00:11<00:00,  1.27it/s]\u001b[A\n",
            "Refining scale 2 using scale 1 ...current loss: 0.0233: 100% 15/15 [00:11<00:00,  1.41it/s]\u001b[A\n",
            " 95% 708/746 [2:18:13<07:23, 11.66s/it]\n",
            "  0% 0/15 [00:00<?, ?it/s]\u001b[A\n",
            "                          \u001b[A\n",
            "  0% 0/15 [00:00<?, ?it/s]\u001b[A\n",
            "Refining scale 2 using scale 1 ...current loss: nan:   0% 0/15 [00:00<?, ?it/s]\u001b[A\n",
            "Refining scale 2 using scale 1 ...current loss: nan:   7% 1/15 [00:00<00:08,  1.57it/s]\u001b[A\n",
            "Refining scale 2 using scale 1 ...current loss: nan:   7% 1/15 [00:01<00:08,  1.57it/s]\u001b[A\n",
            "Refining scale 2 using scale 1 ...current loss: nan:  13% 2/15 [00:01<00:09,  1.38it/s]\u001b[A\n",
            "Refining scale 2 using scale 1 ...current loss: nan:  13% 2/15 [00:01<00:09,  1.38it/s]\u001b[A\n",
            "Refining scale 2 using scale 1 ...current loss: nan:  20% 3/15 [00:02<00:09,  1.33it/s]\u001b[A\n",
            "Refining scale 2 using scale 1 ...current loss: nan:  20% 3/15 [00:02<00:09,  1.33it/s]\u001b[A\n",
            "Refining scale 2 using scale 1 ...current loss: nan:  27% 4/15 [00:02<00:08,  1.31it/s]\u001b[A\n",
            "Refining scale 2 using scale 1 ...current loss: nan:  27% 4/15 [00:03<00:08,  1.31it/s]\u001b[A\n",
            "Refining scale 2 using scale 1 ...current loss: nan:  33% 5/15 [00:03<00:07,  1.29it/s]\u001b[A\n",
            "Refining scale 2 using scale 1 ...current loss: nan:  33% 5/15 [00:04<00:07,  1.29it/s]\u001b[A\n",
            "Refining scale 2 using scale 1 ...current loss: nan:  40% 6/15 [00:04<00:06,  1.29it/s]\u001b[A\n",
            "Refining scale 2 using scale 1 ...current loss: nan:  40% 6/15 [00:05<00:06,  1.29it/s]\u001b[A\n",
            "Refining scale 2 using scale 1 ...current loss: nan:  47% 7/15 [00:05<00:06,  1.29it/s]\u001b[A\n",
            "Refining scale 2 using scale 1 ...current loss: nan:  47% 7/15 [00:05<00:06,  1.29it/s]\u001b[A\n",
            "Refining scale 2 using scale 1 ...current loss: nan:  53% 8/15 [00:06<00:05,  1.28it/s]\u001b[A\n",
            "Refining scale 2 using scale 1 ...current loss: nan:  53% 8/15 [00:06<00:05,  1.28it/s]\u001b[A\n",
            "Refining scale 2 using scale 1 ...current loss: nan:  60% 9/15 [00:06<00:04,  1.28it/s]\u001b[A\n",
            "Refining scale 2 using scale 1 ...current loss: nan:  60% 9/15 [00:07<00:04,  1.28it/s]\u001b[A\n",
            "Refining scale 2 using scale 1 ...current loss: nan:  67% 10/15 [00:07<00:03,  1.28it/s]\u001b[A\n",
            "Refining scale 2 using scale 1 ...current loss: nan:  67% 10/15 [00:08<00:03,  1.28it/s]\u001b[A\n",
            "Refining scale 2 using scale 1 ...current loss: nan:  73% 11/15 [00:08<00:03,  1.28it/s]\u001b[A\n",
            "Refining scale 2 using scale 1 ...current loss: nan:  73% 11/15 [00:09<00:03,  1.28it/s]\u001b[A\n",
            "Refining scale 2 using scale 1 ...current loss: nan:  80% 12/15 [00:09<00:02,  1.28it/s]\u001b[A\n",
            "Refining scale 2 using scale 1 ...current loss: nan:  80% 12/15 [00:09<00:02,  1.28it/s]\u001b[A\n",
            "Refining scale 2 using scale 1 ...current loss: nan:  87% 13/15 [00:10<00:01,  1.28it/s]\u001b[A\n",
            "Refining scale 2 using scale 1 ...current loss: nan:  87% 13/15 [00:10<00:01,  1.28it/s]\u001b[A\n",
            "Refining scale 2 using scale 1 ...current loss: nan:  93% 14/15 [00:10<00:00,  1.28it/s]\u001b[A\n",
            "Refining scale 2 using scale 1 ...current loss: nan:  93% 14/15 [00:11<00:00,  1.28it/s]\u001b[A\n",
            "Refining scale 2 using scale 1 ...current loss: nan: 100% 15/15 [00:11<00:00,  1.42it/s]\u001b[A\n",
            " 95% 709/746 [2:18:25<07:11, 11.67s/it]\n",
            "  0% 0/15 [00:00<?, ?it/s]\u001b[A\n",
            "                          \u001b[A\n",
            "  0% 0/15 [00:00<?, ?it/s]\u001b[A\n",
            "Refining scale 2 using scale 1 ...current loss: 0.0511:   0% 0/15 [00:00<?, ?it/s]\u001b[A\n",
            "Refining scale 2 using scale 1 ...current loss: 0.0511:   7% 1/15 [00:00<00:08,  1.56it/s]\u001b[A\n",
            "Refining scale 2 using scale 1 ...current loss: 0.0408:   7% 1/15 [00:01<00:08,  1.56it/s]\u001b[A\n",
            "Refining scale 2 using scale 1 ...current loss: 0.0408:  13% 2/15 [00:01<00:09,  1.37it/s]\u001b[A\n",
            "Refining scale 2 using scale 1 ...current loss: 0.0348:  13% 2/15 [00:01<00:09,  1.37it/s]\u001b[A\n",
            "Refining scale 2 using scale 1 ...current loss: 0.0348:  20% 3/15 [00:02<00:09,  1.32it/s]\u001b[A\n",
            "Refining scale 2 using scale 1 ...current loss: 0.0310:  20% 3/15 [00:02<00:09,  1.32it/s]\u001b[A\n",
            "Refining scale 2 using scale 1 ...current loss: 0.0310:  27% 4/15 [00:03<00:08,  1.30it/s]\u001b[A\n",
            "Refining scale 2 using scale 1 ...current loss: 0.0290:  27% 4/15 [00:03<00:08,  1.30it/s]\u001b[A\n",
            "Refining scale 2 using scale 1 ...current loss: 0.0290:  33% 5/15 [00:03<00:07,  1.29it/s]\u001b[A\n",
            "Refining scale 2 using scale 1 ...current loss: 0.0273:  33% 5/15 [00:04<00:07,  1.29it/s]\u001b[A\n",
            "Refining scale 2 using scale 1 ...current loss: 0.0273:  40% 6/15 [00:04<00:07,  1.28it/s]\u001b[A\n",
            "Refining scale 2 using scale 1 ...current loss: 0.0256:  40% 6/15 [00:05<00:07,  1.28it/s]\u001b[A\n",
            "Refining scale 2 using scale 1 ...current loss: 0.0256:  47% 7/15 [00:05<00:06,  1.28it/s]\u001b[A\n",
            "Refining scale 2 using scale 1 ...current loss: 0.0246:  47% 7/15 [00:05<00:06,  1.28it/s]\u001b[A\n",
            "Refining scale 2 using scale 1 ...current loss: 0.0246:  53% 8/15 [00:06<00:05,  1.28it/s]\u001b[A\n",
            "Refining scale 2 using scale 1 ...current loss: 0.0233:  53% 8/15 [00:06<00:05,  1.28it/s]\u001b[A\n",
            "Refining scale 2 using scale 1 ...current loss: 0.0233:  60% 9/15 [00:06<00:04,  1.28it/s]\u001b[A\n",
            "Refining scale 2 using scale 1 ...current loss: 0.0230:  60% 9/15 [00:07<00:04,  1.28it/s]\u001b[A\n",
            "Refining scale 2 using scale 1 ...current loss: 0.0230:  67% 10/15 [00:07<00:03,  1.28it/s]\u001b[A\n",
            "Refining scale 2 using scale 1 ...current loss: 0.0224:  67% 10/15 [00:08<00:03,  1.28it/s]\u001b[A\n",
            "Refining scale 2 using scale 1 ...current loss: 0.0224:  73% 11/15 [00:08<00:03,  1.28it/s]\u001b[A\n",
            "Refining scale 2 using scale 1 ...current loss: 0.0216:  73% 11/15 [00:09<00:03,  1.28it/s]\u001b[A\n",
            "Refining scale 2 using scale 1 ...current loss: 0.0216:  80% 12/15 [00:09<00:02,  1.28it/s]\u001b[A\n",
            "Refining scale 2 using scale 1 ...current loss: 0.0214:  80% 12/15 [00:09<00:02,  1.28it/s]\u001b[A\n",
            "Refining scale 2 using scale 1 ...current loss: 0.0214:  87% 13/15 [00:10<00:01,  1.28it/s]\u001b[A\n",
            "Refining scale 2 using scale 1 ...current loss: 0.0205:  87% 13/15 [00:10<00:01,  1.28it/s]\u001b[A\n",
            "Refining scale 2 using scale 1 ...current loss: 0.0205:  93% 14/15 [00:10<00:00,  1.27it/s]\u001b[A\n",
            "Refining scale 2 using scale 1 ...current loss: 0.0202:  93% 14/15 [00:11<00:00,  1.27it/s]\u001b[A\n",
            "Refining scale 2 using scale 1 ...current loss: 0.0202: 100% 15/15 [00:11<00:00,  1.42it/s]\u001b[A\n",
            " 95% 710/746 [2:18:37<06:59, 11.67s/it]\n",
            "  0% 0/15 [00:00<?, ?it/s]\u001b[A\n",
            "                          \u001b[A\n",
            "  0% 0/15 [00:00<?, ?it/s]\u001b[A\n",
            "Refining scale 2 using scale 1 ...current loss: nan:   0% 0/15 [00:00<?, ?it/s]\u001b[A\n",
            "Refining scale 2 using scale 1 ...current loss: nan:   7% 1/15 [00:00<00:08,  1.57it/s]\u001b[A\n",
            "Refining scale 2 using scale 1 ...current loss: nan:   7% 1/15 [00:01<00:08,  1.57it/s]\u001b[A\n",
            "Refining scale 2 using scale 1 ...current loss: nan:  13% 2/15 [00:01<00:09,  1.38it/s]\u001b[A\n",
            "Refining scale 2 using scale 1 ...current loss: nan:  13% 2/15 [00:01<00:09,  1.38it/s]\u001b[A\n",
            "Refining scale 2 using scale 1 ...current loss: nan:  20% 3/15 [00:02<00:09,  1.33it/s]\u001b[A\n",
            "Refining scale 2 using scale 1 ...current loss: nan:  20% 3/15 [00:02<00:09,  1.33it/s]\u001b[A\n",
            "Refining scale 2 using scale 1 ...current loss: nan:  27% 4/15 [00:02<00:08,  1.31it/s]\u001b[A\n",
            "Refining scale 2 using scale 1 ...current loss: nan:  27% 4/15 [00:03<00:08,  1.31it/s]\u001b[A\n",
            "Refining scale 2 using scale 1 ...current loss: nan:  33% 5/15 [00:03<00:07,  1.30it/s]\u001b[A\n",
            "Refining scale 2 using scale 1 ...current loss: nan:  33% 5/15 [00:04<00:07,  1.30it/s]\u001b[A\n",
            "Refining scale 2 using scale 1 ...current loss: nan:  40% 6/15 [00:04<00:06,  1.29it/s]\u001b[A\n",
            "Refining scale 2 using scale 1 ...current loss: nan:  40% 6/15 [00:05<00:06,  1.29it/s]\u001b[A\n",
            "Refining scale 2 using scale 1 ...current loss: nan:  47% 7/15 [00:05<00:06,  1.28it/s]\u001b[A\n",
            "Refining scale 2 using scale 1 ...current loss: nan:  47% 7/15 [00:05<00:06,  1.28it/s]\u001b[A\n",
            "Refining scale 2 using scale 1 ...current loss: nan:  53% 8/15 [00:06<00:05,  1.28it/s]\u001b[A\n",
            "Refining scale 2 using scale 1 ...current loss: nan:  53% 8/15 [00:06<00:05,  1.28it/s]\u001b[A\n",
            "Refining scale 2 using scale 1 ...current loss: nan:  60% 9/15 [00:06<00:04,  1.28it/s]\u001b[A\n",
            "Refining scale 2 using scale 1 ...current loss: nan:  60% 9/15 [00:07<00:04,  1.28it/s]\u001b[A\n",
            "Refining scale 2 using scale 1 ...current loss: nan:  67% 10/15 [00:07<00:03,  1.28it/s]\u001b[A\n",
            "Refining scale 2 using scale 1 ...current loss: nan:  67% 10/15 [00:08<00:03,  1.28it/s]\u001b[A\n",
            "Refining scale 2 using scale 1 ...current loss: nan:  73% 11/15 [00:08<00:03,  1.27it/s]\u001b[A\n",
            "Refining scale 2 using scale 1 ...current loss: nan:  73% 11/15 [00:09<00:03,  1.27it/s]\u001b[A\n",
            "Refining scale 2 using scale 1 ...current loss: nan:  80% 12/15 [00:09<00:02,  1.27it/s]\u001b[A\n",
            "Refining scale 2 using scale 1 ...current loss: nan:  80% 12/15 [00:09<00:02,  1.27it/s]\u001b[A\n",
            "Refining scale 2 using scale 1 ...current loss: nan:  87% 13/15 [00:10<00:01,  1.27it/s]\u001b[A\n",
            "Refining scale 2 using scale 1 ...current loss: nan:  87% 13/15 [00:10<00:01,  1.27it/s]\u001b[A\n",
            "Refining scale 2 using scale 1 ...current loss: nan:  93% 14/15 [00:10<00:00,  1.28it/s]\u001b[A\n",
            "Refining scale 2 using scale 1 ...current loss: nan:  93% 14/15 [00:11<00:00,  1.28it/s]\u001b[A\n",
            "Refining scale 2 using scale 1 ...current loss: nan: 100% 15/15 [00:11<00:00,  1.42it/s]\u001b[A\n",
            " 95% 711/746 [2:18:48<06:47, 11.65s/it]\n",
            "  0% 0/15 [00:00<?, ?it/s]\u001b[A\n",
            "                          \u001b[A\n",
            "  0% 0/15 [00:00<?, ?it/s]\u001b[A\n",
            "Refining scale 2 using scale 1 ...current loss: 0.0163:   0% 0/15 [00:00<?, ?it/s]\u001b[A\n",
            "Refining scale 2 using scale 1 ...current loss: 0.0163:   7% 1/15 [00:00<00:08,  1.58it/s]\u001b[A\n",
            "Refining scale 2 using scale 1 ...current loss: 0.0150:   7% 1/15 [00:01<00:08,  1.58it/s]\u001b[A\n",
            "Refining scale 2 using scale 1 ...current loss: 0.0150:  13% 2/15 [00:01<00:09,  1.38it/s]\u001b[A\n",
            "Refining scale 2 using scale 1 ...current loss: 0.0139:  13% 2/15 [00:01<00:09,  1.38it/s]\u001b[A\n",
            "Refining scale 2 using scale 1 ...current loss: 0.0139:  20% 3/15 [00:02<00:09,  1.33it/s]\u001b[A\n",
            "Refining scale 2 using scale 1 ...current loss: 0.0131:  20% 3/15 [00:02<00:09,  1.33it/s]\u001b[A\n",
            "Refining scale 2 using scale 1 ...current loss: 0.0131:  27% 4/15 [00:02<00:08,  1.31it/s]\u001b[A\n",
            "Refining scale 2 using scale 1 ...current loss: 0.0123:  27% 4/15 [00:03<00:08,  1.31it/s]\u001b[A\n",
            "Refining scale 2 using scale 1 ...current loss: 0.0123:  33% 5/15 [00:03<00:07,  1.30it/s]\u001b[A\n",
            "Refining scale 2 using scale 1 ...current loss: 0.0116:  33% 5/15 [00:04<00:07,  1.30it/s]\u001b[A\n",
            "Refining scale 2 using scale 1 ...current loss: 0.0116:  40% 6/15 [00:04<00:06,  1.29it/s]\u001b[A\n",
            "Refining scale 2 using scale 1 ...current loss: 0.0110:  40% 6/15 [00:05<00:06,  1.29it/s]\u001b[A\n",
            "Refining scale 2 using scale 1 ...current loss: 0.0110:  47% 7/15 [00:05<00:06,  1.28it/s]\u001b[A\n",
            "Refining scale 2 using scale 1 ...current loss: 0.0104:  47% 7/15 [00:05<00:06,  1.28it/s]\u001b[A\n",
            "Refining scale 2 using scale 1 ...current loss: 0.0104:  53% 8/15 [00:06<00:05,  1.28it/s]\u001b[A\n",
            "Refining scale 2 using scale 1 ...current loss: 0.0100:  53% 8/15 [00:06<00:05,  1.28it/s]\u001b[A\n",
            "Refining scale 2 using scale 1 ...current loss: 0.0100:  60% 9/15 [00:06<00:04,  1.28it/s]\u001b[A\n",
            "Refining scale 2 using scale 1 ...current loss: 0.0096:  60% 9/15 [00:07<00:04,  1.28it/s]\u001b[A\n",
            "Refining scale 2 using scale 1 ...current loss: 0.0096:  67% 10/15 [00:07<00:03,  1.28it/s]\u001b[A\n",
            "Refining scale 2 using scale 1 ...current loss: 0.0093:  67% 10/15 [00:08<00:03,  1.28it/s]\u001b[A\n",
            "Refining scale 2 using scale 1 ...current loss: 0.0093:  73% 11/15 [00:08<00:03,  1.28it/s]\u001b[A\n",
            "Refining scale 2 using scale 1 ...current loss: 0.0090:  73% 11/15 [00:08<00:03,  1.28it/s]\u001b[A\n",
            "Refining scale 2 using scale 1 ...current loss: 0.0090:  80% 12/15 [00:09<00:02,  1.27it/s]\u001b[A\n",
            "Refining scale 2 using scale 1 ...current loss: 0.0088:  80% 12/15 [00:09<00:02,  1.27it/s]\u001b[A\n",
            "Refining scale 2 using scale 1 ...current loss: 0.0088:  87% 13/15 [00:10<00:01,  1.27it/s]\u001b[A\n",
            "Refining scale 2 using scale 1 ...current loss: 0.0085:  87% 13/15 [00:10<00:01,  1.27it/s]\u001b[A\n",
            "Refining scale 2 using scale 1 ...current loss: 0.0085:  93% 14/15 [00:10<00:00,  1.27it/s]\u001b[A\n",
            "Refining scale 2 using scale 1 ...current loss: 0.0083:  93% 14/15 [00:11<00:00,  1.27it/s]\u001b[A\n",
            "Refining scale 2 using scale 1 ...current loss: 0.0083: 100% 15/15 [00:11<00:00,  1.41it/s]\u001b[A\n",
            " 95% 712/746 [2:19:00<06:36, 11.66s/it]\n",
            "  0% 0/15 [00:00<?, ?it/s]\u001b[A\n",
            "                          \u001b[A\n",
            "  0% 0/15 [00:00<?, ?it/s]\u001b[A\n",
            "Refining scale 2 using scale 1 ...current loss: 0.0413:   0% 0/15 [00:00<?, ?it/s]\u001b[A\n",
            "Refining scale 2 using scale 1 ...current loss: 0.0413:   7% 1/15 [00:00<00:08,  1.57it/s]\u001b[A\n",
            "Refining scale 2 using scale 1 ...current loss: 0.0343:   7% 1/15 [00:01<00:08,  1.57it/s]\u001b[A\n",
            "Refining scale 2 using scale 1 ...current loss: 0.0343:  13% 2/15 [00:01<00:09,  1.38it/s]\u001b[A\n",
            "Refining scale 2 using scale 1 ...current loss: 0.0284:  13% 2/15 [00:01<00:09,  1.38it/s]\u001b[A\n",
            "Refining scale 2 using scale 1 ...current loss: 0.0284:  20% 3/15 [00:02<00:09,  1.33it/s]\u001b[A\n",
            "Refining scale 2 using scale 1 ...current loss: 0.0266:  20% 3/15 [00:02<00:09,  1.33it/s]\u001b[A\n",
            "Refining scale 2 using scale 1 ...current loss: 0.0266:  27% 4/15 [00:02<00:08,  1.31it/s]\u001b[A\n",
            "Refining scale 2 using scale 1 ...current loss: 0.0245:  27% 4/15 [00:03<00:08,  1.31it/s]\u001b[A\n",
            "Refining scale 2 using scale 1 ...current loss: 0.0245:  33% 5/15 [00:03<00:07,  1.30it/s]\u001b[A\n",
            "Refining scale 2 using scale 1 ...current loss: 0.0230:  33% 5/15 [00:04<00:07,  1.30it/s]\u001b[A\n",
            "Refining scale 2 using scale 1 ...current loss: 0.0230:  40% 6/15 [00:04<00:06,  1.29it/s]\u001b[A\n",
            "Refining scale 2 using scale 1 ...current loss: 0.0213:  40% 6/15 [00:05<00:06,  1.29it/s]\u001b[A\n",
            "Refining scale 2 using scale 1 ...current loss: 0.0213:  47% 7/15 [00:05<00:06,  1.28it/s]\u001b[A\n",
            "Refining scale 2 using scale 1 ...current loss: 0.0201:  47% 7/15 [00:05<00:06,  1.28it/s]\u001b[A\n",
            "Refining scale 2 using scale 1 ...current loss: 0.0201:  53% 8/15 [00:06<00:05,  1.28it/s]\u001b[A\n",
            "Refining scale 2 using scale 1 ...current loss: 0.0191:  53% 8/15 [00:06<00:05,  1.28it/s]\u001b[A\n",
            "Refining scale 2 using scale 1 ...current loss: 0.0191:  60% 9/15 [00:06<00:04,  1.28it/s]\u001b[A\n",
            "Refining scale 2 using scale 1 ...current loss: 0.0182:  60% 9/15 [00:07<00:04,  1.28it/s]\u001b[A\n",
            "Refining scale 2 using scale 1 ...current loss: 0.0182:  67% 10/15 [00:07<00:03,  1.28it/s]\u001b[A\n",
            "Refining scale 2 using scale 1 ...current loss: 0.0176:  67% 10/15 [00:08<00:03,  1.28it/s]\u001b[A\n",
            "Refining scale 2 using scale 1 ...current loss: 0.0176:  73% 11/15 [00:08<00:03,  1.28it/s]\u001b[A\n",
            "Refining scale 2 using scale 1 ...current loss: 0.0169:  73% 11/15 [00:09<00:03,  1.28it/s]\u001b[A\n",
            "Refining scale 2 using scale 1 ...current loss: 0.0169:  80% 12/15 [00:09<00:02,  1.28it/s]\u001b[A\n",
            "Refining scale 2 using scale 1 ...current loss: 0.0163:  80% 12/15 [00:09<00:02,  1.28it/s]\u001b[A\n",
            "Refining scale 2 using scale 1 ...current loss: 0.0163:  87% 13/15 [00:10<00:01,  1.28it/s]\u001b[A\n",
            "Refining scale 2 using scale 1 ...current loss: 0.0157:  87% 13/15 [00:10<00:01,  1.28it/s]\u001b[A\n",
            "Refining scale 2 using scale 1 ...current loss: 0.0157:  93% 14/15 [00:10<00:00,  1.27it/s]\u001b[A\n",
            "Refining scale 2 using scale 1 ...current loss: 0.0152:  93% 14/15 [00:11<00:00,  1.27it/s]\u001b[A\n",
            "Refining scale 2 using scale 1 ...current loss: 0.0152: 100% 15/15 [00:11<00:00,  1.42it/s]\u001b[A\n",
            " 96% 713/746 [2:19:12<06:24, 11.67s/it]\n",
            "  0% 0/15 [00:00<?, ?it/s]\u001b[A\n",
            "                          \u001b[A\n",
            "  0% 0/15 [00:00<?, ?it/s]\u001b[A\n",
            "Refining scale 2 using scale 1 ...current loss: 0.0737:   0% 0/15 [00:00<?, ?it/s]\u001b[A\n",
            "Refining scale 2 using scale 1 ...current loss: 0.0737:   7% 1/15 [00:00<00:08,  1.57it/s]\u001b[A\n",
            "Refining scale 2 using scale 1 ...current loss: 0.0514:   7% 1/15 [00:01<00:08,  1.57it/s]\u001b[A\n",
            "Refining scale 2 using scale 1 ...current loss: 0.0514:  13% 2/15 [00:01<00:09,  1.37it/s]\u001b[A\n",
            "Refining scale 2 using scale 1 ...current loss: 0.0418:  13% 2/15 [00:01<00:09,  1.37it/s]\u001b[A\n",
            "Refining scale 2 using scale 1 ...current loss: 0.0418:  20% 3/15 [00:02<00:09,  1.32it/s]\u001b[A\n",
            "Refining scale 2 using scale 1 ...current loss: 0.0382:  20% 3/15 [00:02<00:09,  1.32it/s]\u001b[A\n",
            "Refining scale 2 using scale 1 ...current loss: 0.0382:  27% 4/15 [00:03<00:08,  1.30it/s]\u001b[A\n",
            "Refining scale 2 using scale 1 ...current loss: 0.0344:  27% 4/15 [00:03<00:08,  1.30it/s]\u001b[A\n",
            "Refining scale 2 using scale 1 ...current loss: 0.0344:  33% 5/15 [00:03<00:07,  1.29it/s]\u001b[A\n",
            "Refining scale 2 using scale 1 ...current loss: 0.0328:  33% 5/15 [00:04<00:07,  1.29it/s]\u001b[A\n",
            "Refining scale 2 using scale 1 ...current loss: 0.0328:  40% 6/15 [00:04<00:07,  1.28it/s]\u001b[A\n",
            "Refining scale 2 using scale 1 ...current loss: 0.0309:  40% 6/15 [00:05<00:07,  1.28it/s]\u001b[A\n",
            "Refining scale 2 using scale 1 ...current loss: 0.0309:  47% 7/15 [00:05<00:06,  1.28it/s]\u001b[A\n",
            "Refining scale 2 using scale 1 ...current loss: 0.0299:  47% 7/15 [00:05<00:06,  1.28it/s]\u001b[A\n",
            "Refining scale 2 using scale 1 ...current loss: 0.0299:  53% 8/15 [00:06<00:05,  1.28it/s]\u001b[A\n",
            "Refining scale 2 using scale 1 ...current loss: 0.0287:  53% 8/15 [00:06<00:05,  1.28it/s]\u001b[A\n",
            "Refining scale 2 using scale 1 ...current loss: 0.0287:  60% 9/15 [00:06<00:04,  1.28it/s]\u001b[A\n",
            "Refining scale 2 using scale 1 ...current loss: 0.0278:  60% 9/15 [00:07<00:04,  1.28it/s]\u001b[A\n",
            "Refining scale 2 using scale 1 ...current loss: 0.0278:  67% 10/15 [00:07<00:03,  1.28it/s]\u001b[A\n",
            "Refining scale 2 using scale 1 ...current loss: 0.0271:  67% 10/15 [00:08<00:03,  1.28it/s]\u001b[A\n",
            "Refining scale 2 using scale 1 ...current loss: 0.0271:  73% 11/15 [00:08<00:03,  1.28it/s]\u001b[A\n",
            "Refining scale 2 using scale 1 ...current loss: 0.0259:  73% 11/15 [00:09<00:03,  1.28it/s]\u001b[A\n",
            "Refining scale 2 using scale 1 ...current loss: 0.0259:  80% 12/15 [00:09<00:02,  1.28it/s]\u001b[A\n",
            "Refining scale 2 using scale 1 ...current loss: 0.0249:  80% 12/15 [00:09<00:02,  1.28it/s]\u001b[A\n",
            "Refining scale 2 using scale 1 ...current loss: 0.0249:  87% 13/15 [00:10<00:01,  1.28it/s]\u001b[A\n",
            "Refining scale 2 using scale 1 ...current loss: 0.0242:  87% 13/15 [00:10<00:01,  1.28it/s]\u001b[A\n",
            "Refining scale 2 using scale 1 ...current loss: 0.0242:  93% 14/15 [00:10<00:00,  1.28it/s]\u001b[A\n",
            "Refining scale 2 using scale 1 ...current loss: 0.0235:  93% 14/15 [00:11<00:00,  1.28it/s]\u001b[A\n",
            "Refining scale 2 using scale 1 ...current loss: 0.0235: 100% 15/15 [00:11<00:00,  1.42it/s]\u001b[A\n",
            " 96% 714/746 [2:19:23<06:13, 11.67s/it]\n",
            "  0% 0/15 [00:00<?, ?it/s]\u001b[A\n",
            "                          \u001b[A\n",
            "  0% 0/15 [00:00<?, ?it/s]\u001b[A\n",
            "Refining scale 2 using scale 1 ...current loss: nan:   0% 0/15 [00:00<?, ?it/s]\u001b[A\n",
            "Refining scale 2 using scale 1 ...current loss: nan:   7% 1/15 [00:00<00:08,  1.58it/s]\u001b[A\n",
            "Refining scale 2 using scale 1 ...current loss: nan:   7% 1/15 [00:01<00:08,  1.58it/s]\u001b[A\n",
            "Refining scale 2 using scale 1 ...current loss: nan:  13% 2/15 [00:01<00:09,  1.38it/s]\u001b[A\n",
            "Refining scale 2 using scale 1 ...current loss: nan:  13% 2/15 [00:01<00:09,  1.38it/s]\u001b[A\n",
            "Refining scale 2 using scale 1 ...current loss: nan:  20% 3/15 [00:02<00:09,  1.33it/s]\u001b[A\n",
            "Refining scale 2 using scale 1 ...current loss: nan:  20% 3/15 [00:02<00:09,  1.33it/s]\u001b[A\n",
            "Refining scale 2 using scale 1 ...current loss: nan:  27% 4/15 [00:02<00:08,  1.31it/s]\u001b[A\n",
            "Refining scale 2 using scale 1 ...current loss: nan:  27% 4/15 [00:03<00:08,  1.31it/s]\u001b[A\n",
            "Refining scale 2 using scale 1 ...current loss: nan:  33% 5/15 [00:03<00:07,  1.30it/s]\u001b[A\n",
            "Refining scale 2 using scale 1 ...current loss: nan:  33% 5/15 [00:04<00:07,  1.30it/s]\u001b[A\n",
            "Refining scale 2 using scale 1 ...current loss: nan:  40% 6/15 [00:04<00:06,  1.29it/s]\u001b[A\n",
            "Refining scale 2 using scale 1 ...current loss: nan:  40% 6/15 [00:05<00:06,  1.29it/s]\u001b[A\n",
            "Refining scale 2 using scale 1 ...current loss: nan:  47% 7/15 [00:05<00:06,  1.28it/s]\u001b[A\n",
            "Refining scale 2 using scale 1 ...current loss: nan:  47% 7/15 [00:05<00:06,  1.28it/s]\u001b[A\n",
            "Refining scale 2 using scale 1 ...current loss: nan:  53% 8/15 [00:06<00:05,  1.28it/s]\u001b[A\n",
            "Refining scale 2 using scale 1 ...current loss: nan:  53% 8/15 [00:06<00:05,  1.28it/s]\u001b[A\n",
            "Refining scale 2 using scale 1 ...current loss: nan:  60% 9/15 [00:06<00:04,  1.28it/s]\u001b[A\n",
            "Refining scale 2 using scale 1 ...current loss: nan:  60% 9/15 [00:07<00:04,  1.28it/s]\u001b[A\n",
            "Refining scale 2 using scale 1 ...current loss: nan:  67% 10/15 [00:07<00:03,  1.28it/s]\u001b[A\n",
            "Refining scale 2 using scale 1 ...current loss: nan:  67% 10/15 [00:08<00:03,  1.28it/s]\u001b[A\n",
            "Refining scale 2 using scale 1 ...current loss: nan:  73% 11/15 [00:08<00:03,  1.27it/s]\u001b[A\n",
            "Refining scale 2 using scale 1 ...current loss: nan:  73% 11/15 [00:09<00:03,  1.27it/s]\u001b[A\n",
            "Refining scale 2 using scale 1 ...current loss: nan:  80% 12/15 [00:09<00:02,  1.27it/s]\u001b[A\n",
            "Refining scale 2 using scale 1 ...current loss: nan:  80% 12/15 [00:09<00:02,  1.27it/s]\u001b[A\n",
            "Refining scale 2 using scale 1 ...current loss: nan:  87% 13/15 [00:10<00:01,  1.27it/s]\u001b[A\n",
            "Refining scale 2 using scale 1 ...current loss: nan:  87% 13/15 [00:10<00:01,  1.27it/s]\u001b[A\n",
            "Refining scale 2 using scale 1 ...current loss: nan:  93% 14/15 [00:10<00:00,  1.27it/s]\u001b[A\n",
            "Refining scale 2 using scale 1 ...current loss: nan:  93% 14/15 [00:11<00:00,  1.27it/s]\u001b[A\n",
            "Refining scale 2 using scale 1 ...current loss: nan: 100% 15/15 [00:11<00:00,  1.42it/s]\u001b[A\n",
            " 96% 715/746 [2:19:35<06:01, 11.66s/it]\n",
            "  0% 0/15 [00:00<?, ?it/s]\u001b[A\n",
            "                          \u001b[A\n",
            "  0% 0/15 [00:00<?, ?it/s]\u001b[A\n",
            "Refining scale 2 using scale 1 ...current loss: 0.1044:   0% 0/15 [00:00<?, ?it/s]\u001b[A\n",
            "Refining scale 2 using scale 1 ...current loss: 0.1044:   7% 1/15 [00:00<00:08,  1.58it/s]\u001b[A\n",
            "Refining scale 2 using scale 1 ...current loss: 0.0882:   7% 1/15 [00:01<00:08,  1.58it/s]\u001b[A\n",
            "Refining scale 2 using scale 1 ...current loss: 0.0882:  13% 2/15 [00:01<00:09,  1.38it/s]\u001b[A\n",
            "Refining scale 2 using scale 1 ...current loss: 0.0767:  13% 2/15 [00:01<00:09,  1.38it/s]\u001b[A\n",
            "Refining scale 2 using scale 1 ...current loss: 0.0767:  20% 3/15 [00:02<00:09,  1.33it/s]\u001b[A\n",
            "Refining scale 2 using scale 1 ...current loss: 0.0710:  20% 3/15 [00:02<00:09,  1.33it/s]\u001b[A\n",
            "Refining scale 2 using scale 1 ...current loss: 0.0710:  27% 4/15 [00:02<00:08,  1.31it/s]\u001b[A\n",
            "Refining scale 2 using scale 1 ...current loss: 0.0633:  27% 4/15 [00:03<00:08,  1.31it/s]\u001b[A\n",
            "Refining scale 2 using scale 1 ...current loss: 0.0633:  33% 5/15 [00:03<00:07,  1.29it/s]\u001b[A\n",
            "Refining scale 2 using scale 1 ...current loss: 0.0608:  33% 5/15 [00:04<00:07,  1.29it/s]\u001b[A\n",
            "Refining scale 2 using scale 1 ...current loss: 0.0608:  40% 6/15 [00:04<00:06,  1.29it/s]\u001b[A\n",
            "Refining scale 2 using scale 1 ...current loss: 0.0569:  40% 6/15 [00:05<00:06,  1.29it/s]\u001b[A\n",
            "Refining scale 2 using scale 1 ...current loss: 0.0569:  47% 7/15 [00:05<00:06,  1.28it/s]\u001b[A\n",
            "Refining scale 2 using scale 1 ...current loss: 0.0547:  47% 7/15 [00:05<00:06,  1.28it/s]\u001b[A\n",
            "Refining scale 2 using scale 1 ...current loss: 0.0547:  53% 8/15 [00:06<00:05,  1.28it/s]\u001b[A\n",
            "Refining scale 2 using scale 1 ...current loss: 0.0533:  53% 8/15 [00:06<00:05,  1.28it/s]\u001b[A\n",
            "Refining scale 2 using scale 1 ...current loss: 0.0533:  60% 9/15 [00:06<00:04,  1.28it/s]\u001b[A\n",
            "Refining scale 2 using scale 1 ...current loss: 0.0511:  60% 9/15 [00:07<00:04,  1.28it/s]\u001b[A\n",
            "Refining scale 2 using scale 1 ...current loss: 0.0511:  67% 10/15 [00:07<00:03,  1.28it/s]\u001b[A\n",
            "Refining scale 2 using scale 1 ...current loss: 0.0496:  67% 10/15 [00:08<00:03,  1.28it/s]\u001b[A\n",
            "Refining scale 2 using scale 1 ...current loss: 0.0496:  73% 11/15 [00:08<00:03,  1.27it/s]\u001b[A\n",
            "Refining scale 2 using scale 1 ...current loss: 0.0479:  73% 11/15 [00:09<00:03,  1.27it/s]\u001b[A\n",
            "Refining scale 2 using scale 1 ...current loss: 0.0479:  80% 12/15 [00:09<00:02,  1.27it/s]\u001b[A\n",
            "Refining scale 2 using scale 1 ...current loss: 0.0464:  80% 12/15 [00:09<00:02,  1.27it/s]\u001b[A\n",
            "Refining scale 2 using scale 1 ...current loss: 0.0464:  87% 13/15 [00:10<00:01,  1.27it/s]\u001b[A\n",
            "Refining scale 2 using scale 1 ...current loss: 0.0452:  87% 13/15 [00:10<00:01,  1.27it/s]\u001b[A\n",
            "Refining scale 2 using scale 1 ...current loss: 0.0452:  93% 14/15 [00:10<00:00,  1.27it/s]\u001b[A\n",
            "Refining scale 2 using scale 1 ...current loss: 0.0442:  93% 14/15 [00:11<00:00,  1.27it/s]\u001b[A\n",
            "Refining scale 2 using scale 1 ...current loss: 0.0442: 100% 15/15 [00:11<00:00,  1.41it/s]\u001b[A\n",
            " 96% 716/746 [2:19:47<05:50, 11.67s/it]\n",
            "  0% 0/15 [00:00<?, ?it/s]\u001b[A\n",
            "                          \u001b[A\n",
            "  0% 0/15 [00:00<?, ?it/s]\u001b[A\n",
            "Refining scale 2 using scale 1 ...current loss: 0.0404:   0% 0/15 [00:00<?, ?it/s]\u001b[A\n",
            "Refining scale 2 using scale 1 ...current loss: 0.0404:   7% 1/15 [00:00<00:08,  1.57it/s]\u001b[A\n",
            "Refining scale 2 using scale 1 ...current loss: 0.0338:   7% 1/15 [00:01<00:08,  1.57it/s]\u001b[A\n",
            "Refining scale 2 using scale 1 ...current loss: 0.0338:  13% 2/15 [00:01<00:09,  1.38it/s]\u001b[A\n",
            "Refining scale 2 using scale 1 ...current loss: 0.0311:  13% 2/15 [00:01<00:09,  1.38it/s]\u001b[A\n",
            "Refining scale 2 using scale 1 ...current loss: 0.0311:  20% 3/15 [00:02<00:09,  1.33it/s]\u001b[A\n",
            "Refining scale 2 using scale 1 ...current loss: 0.0291:  20% 3/15 [00:02<00:09,  1.33it/s]\u001b[A\n",
            "Refining scale 2 using scale 1 ...current loss: 0.0291:  27% 4/15 [00:02<00:08,  1.31it/s]\u001b[A\n",
            "Refining scale 2 using scale 1 ...current loss: 0.0277:  27% 4/15 [00:03<00:08,  1.31it/s]\u001b[A\n",
            "Refining scale 2 using scale 1 ...current loss: 0.0277:  33% 5/15 [00:03<00:07,  1.29it/s]\u001b[A\n",
            "Refining scale 2 using scale 1 ...current loss: 0.0262:  33% 5/15 [00:04<00:07,  1.29it/s]\u001b[A\n",
            "Refining scale 2 using scale 1 ...current loss: 0.0262:  40% 6/15 [00:04<00:06,  1.29it/s]\u001b[A\n",
            "Refining scale 2 using scale 1 ...current loss: 0.0250:  40% 6/15 [00:05<00:06,  1.29it/s]\u001b[A\n",
            "Refining scale 2 using scale 1 ...current loss: 0.0250:  47% 7/15 [00:05<00:06,  1.28it/s]\u001b[A\n",
            "Refining scale 2 using scale 1 ...current loss: 0.0240:  47% 7/15 [00:05<00:06,  1.28it/s]\u001b[A\n",
            "Refining scale 2 using scale 1 ...current loss: 0.0240:  53% 8/15 [00:06<00:05,  1.28it/s]\u001b[A\n",
            "Refining scale 2 using scale 1 ...current loss: 0.0232:  53% 8/15 [00:06<00:05,  1.28it/s]\u001b[A\n",
            "Refining scale 2 using scale 1 ...current loss: 0.0232:  60% 9/15 [00:06<00:04,  1.28it/s]\u001b[A\n",
            "Refining scale 2 using scale 1 ...current loss: 0.0225:  60% 9/15 [00:07<00:04,  1.28it/s]\u001b[A\n",
            "Refining scale 2 using scale 1 ...current loss: 0.0225:  67% 10/15 [00:07<00:03,  1.28it/s]\u001b[A\n",
            "Refining scale 2 using scale 1 ...current loss: 0.0219:  67% 10/15 [00:08<00:03,  1.28it/s]\u001b[A\n",
            "Refining scale 2 using scale 1 ...current loss: 0.0219:  73% 11/15 [00:08<00:03,  1.28it/s]\u001b[A\n",
            "Refining scale 2 using scale 1 ...current loss: 0.0213:  73% 11/15 [00:09<00:03,  1.28it/s]\u001b[A\n",
            "Refining scale 2 using scale 1 ...current loss: 0.0213:  80% 12/15 [00:09<00:02,  1.28it/s]\u001b[A\n",
            "Refining scale 2 using scale 1 ...current loss: 0.0206:  80% 12/15 [00:09<00:02,  1.28it/s]\u001b[A\n",
            "Refining scale 2 using scale 1 ...current loss: 0.0206:  87% 13/15 [00:10<00:01,  1.28it/s]\u001b[A\n",
            "Refining scale 2 using scale 1 ...current loss: 0.0200:  87% 13/15 [00:10<00:01,  1.28it/s]\u001b[A\n",
            "Refining scale 2 using scale 1 ...current loss: 0.0200:  93% 14/15 [00:10<00:00,  1.28it/s]\u001b[A\n",
            "Refining scale 2 using scale 1 ...current loss: 0.0195:  93% 14/15 [00:11<00:00,  1.28it/s]\u001b[A\n",
            "Refining scale 2 using scale 1 ...current loss: 0.0195: 100% 15/15 [00:11<00:00,  1.42it/s]\u001b[A\n",
            " 96% 717/746 [2:19:58<05:38, 11.69s/it]\n",
            "  0% 0/15 [00:00<?, ?it/s]\u001b[A\n",
            "                          \u001b[A\n",
            "  0% 0/15 [00:00<?, ?it/s]\u001b[A\n",
            "Refining scale 2 using scale 1 ...current loss: 0.0316:   0% 0/15 [00:00<?, ?it/s]\u001b[A\n",
            "Refining scale 2 using scale 1 ...current loss: 0.0316:   7% 1/15 [00:00<00:08,  1.58it/s]\u001b[A\n",
            "Refining scale 2 using scale 1 ...current loss: 0.0263:   7% 1/15 [00:01<00:08,  1.58it/s]\u001b[A\n",
            "Refining scale 2 using scale 1 ...current loss: 0.0263:  13% 2/15 [00:01<00:09,  1.38it/s]\u001b[A\n",
            "Refining scale 2 using scale 1 ...current loss: 0.0240:  13% 2/15 [00:01<00:09,  1.38it/s]\u001b[A\n",
            "Refining scale 2 using scale 1 ...current loss: 0.0240:  20% 3/15 [00:02<00:09,  1.33it/s]\u001b[A\n",
            "Refining scale 2 using scale 1 ...current loss: 0.0223:  20% 3/15 [00:02<00:09,  1.33it/s]\u001b[A\n",
            "Refining scale 2 using scale 1 ...current loss: 0.0223:  27% 4/15 [00:02<00:08,  1.30it/s]\u001b[A\n",
            "Refining scale 2 using scale 1 ...current loss: 0.0209:  27% 4/15 [00:03<00:08,  1.30it/s]\u001b[A\n",
            "Refining scale 2 using scale 1 ...current loss: 0.0209:  33% 5/15 [00:03<00:07,  1.29it/s]\u001b[A\n",
            "Refining scale 2 using scale 1 ...current loss: 0.0198:  33% 5/15 [00:04<00:07,  1.29it/s]\u001b[A\n",
            "Refining scale 2 using scale 1 ...current loss: 0.0198:  40% 6/15 [00:04<00:07,  1.29it/s]\u001b[A\n",
            "Refining scale 2 using scale 1 ...current loss: 0.0191:  40% 6/15 [00:05<00:07,  1.29it/s]\u001b[A\n",
            "Refining scale 2 using scale 1 ...current loss: 0.0191:  47% 7/15 [00:05<00:06,  1.28it/s]\u001b[A\n",
            "Refining scale 2 using scale 1 ...current loss: 0.0182:  47% 7/15 [00:05<00:06,  1.28it/s]\u001b[A\n",
            "Refining scale 2 using scale 1 ...current loss: 0.0182:  53% 8/15 [00:06<00:05,  1.28it/s]\u001b[A\n",
            "Refining scale 2 using scale 1 ...current loss: 0.0177:  53% 8/15 [00:06<00:05,  1.28it/s]\u001b[A\n",
            "Refining scale 2 using scale 1 ...current loss: 0.0177:  60% 9/15 [00:06<00:04,  1.28it/s]\u001b[A\n",
            "Refining scale 2 using scale 1 ...current loss: 0.0171:  60% 9/15 [00:07<00:04,  1.28it/s]\u001b[A\n",
            "Refining scale 2 using scale 1 ...current loss: 0.0171:  67% 10/15 [00:07<00:03,  1.28it/s]\u001b[A\n",
            "Refining scale 2 using scale 1 ...current loss: 0.0165:  67% 10/15 [00:08<00:03,  1.28it/s]\u001b[A\n",
            "Refining scale 2 using scale 1 ...current loss: 0.0165:  73% 11/15 [00:08<00:03,  1.28it/s]\u001b[A\n",
            "Refining scale 2 using scale 1 ...current loss: 0.0160:  73% 11/15 [00:09<00:03,  1.28it/s]\u001b[A\n",
            "Refining scale 2 using scale 1 ...current loss: 0.0160:  80% 12/15 [00:09<00:02,  1.28it/s]\u001b[A\n",
            "Refining scale 2 using scale 1 ...current loss: 0.0155:  80% 12/15 [00:09<00:02,  1.28it/s]\u001b[A\n",
            "Refining scale 2 using scale 1 ...current loss: 0.0155:  87% 13/15 [00:10<00:01,  1.28it/s]\u001b[A\n",
            "Refining scale 2 using scale 1 ...current loss: 0.0150:  87% 13/15 [00:10<00:01,  1.28it/s]\u001b[A\n",
            "Refining scale 2 using scale 1 ...current loss: 0.0150:  93% 14/15 [00:10<00:00,  1.27it/s]\u001b[A\n",
            "Refining scale 2 using scale 1 ...current loss: 0.0146:  93% 14/15 [00:11<00:00,  1.27it/s]\u001b[A\n",
            "Refining scale 2 using scale 1 ...current loss: 0.0146: 100% 15/15 [00:11<00:00,  1.42it/s]\u001b[A\n",
            " 96% 718/746 [2:20:10<05:27, 11.69s/it]\n",
            "  0% 0/15 [00:00<?, ?it/s]\u001b[A\n",
            "                          \u001b[A\n",
            "  0% 0/15 [00:00<?, ?it/s]\u001b[A\n",
            "Refining scale 2 using scale 1 ...current loss: 0.0161:   0% 0/15 [00:00<?, ?it/s]\u001b[A\n",
            "Refining scale 2 using scale 1 ...current loss: 0.0161:   7% 1/15 [00:00<00:08,  1.58it/s]\u001b[A\n",
            "Refining scale 2 using scale 1 ...current loss: 0.0164:   7% 1/15 [00:01<00:08,  1.58it/s]\u001b[A\n",
            "Refining scale 2 using scale 1 ...current loss: 0.0164:  13% 2/15 [00:01<00:09,  1.38it/s]\u001b[A\n",
            "Refining scale 2 using scale 1 ...current loss: 0.0124:  13% 2/15 [00:01<00:09,  1.38it/s]\u001b[A\n",
            "Refining scale 2 using scale 1 ...current loss: 0.0124:  20% 3/15 [00:02<00:08,  1.33it/s]\u001b[A\n",
            "Refining scale 2 using scale 1 ...current loss: 0.0111:  20% 3/15 [00:02<00:08,  1.33it/s]\u001b[A\n",
            "Refining scale 2 using scale 1 ...current loss: 0.0111:  27% 4/15 [00:02<00:08,  1.31it/s]\u001b[A\n",
            "Refining scale 2 using scale 1 ...current loss: 0.0105:  27% 4/15 [00:03<00:08,  1.31it/s]\u001b[A\n",
            "Refining scale 2 using scale 1 ...current loss: 0.0105:  33% 5/15 [00:03<00:07,  1.30it/s]\u001b[A\n",
            "Refining scale 2 using scale 1 ...current loss: 0.0093:  33% 5/15 [00:04<00:07,  1.30it/s]\u001b[A\n",
            "Refining scale 2 using scale 1 ...current loss: 0.0093:  40% 6/15 [00:04<00:06,  1.29it/s]\u001b[A\n",
            "Refining scale 2 using scale 1 ...current loss: 0.0088:  40% 6/15 [00:05<00:06,  1.29it/s]\u001b[A\n",
            "Refining scale 2 using scale 1 ...current loss: 0.0088:  47% 7/15 [00:05<00:06,  1.28it/s]\u001b[A\n",
            "Refining scale 2 using scale 1 ...current loss: 0.0084:  47% 7/15 [00:05<00:06,  1.28it/s]\u001b[A\n",
            "Refining scale 2 using scale 1 ...current loss: 0.0084:  53% 8/15 [00:06<00:05,  1.28it/s]\u001b[A\n",
            "Refining scale 2 using scale 1 ...current loss: 0.0081:  53% 8/15 [00:06<00:05,  1.28it/s]\u001b[A\n",
            "Refining scale 2 using scale 1 ...current loss: 0.0081:  60% 9/15 [00:06<00:04,  1.27it/s]\u001b[A\n",
            "Refining scale 2 using scale 1 ...current loss: 0.0078:  60% 9/15 [00:07<00:04,  1.27it/s]\u001b[A\n",
            "Refining scale 2 using scale 1 ...current loss: 0.0078:  67% 10/15 [00:07<00:03,  1.27it/s]\u001b[A\n",
            "Refining scale 2 using scale 1 ...current loss: 0.0075:  67% 10/15 [00:08<00:03,  1.27it/s]\u001b[A\n",
            "Refining scale 2 using scale 1 ...current loss: 0.0075:  73% 11/15 [00:08<00:03,  1.27it/s]\u001b[A\n",
            "Refining scale 2 using scale 1 ...current loss: 0.0073:  73% 11/15 [00:09<00:03,  1.27it/s]\u001b[A\n",
            "Refining scale 2 using scale 1 ...current loss: 0.0073:  80% 12/15 [00:09<00:02,  1.27it/s]\u001b[A\n",
            "Refining scale 2 using scale 1 ...current loss: 0.0070:  80% 12/15 [00:09<00:02,  1.27it/s]\u001b[A\n",
            "Refining scale 2 using scale 1 ...current loss: 0.0070:  87% 13/15 [00:10<00:01,  1.27it/s]\u001b[A\n",
            "Refining scale 2 using scale 1 ...current loss: 0.0069:  87% 13/15 [00:10<00:01,  1.27it/s]\u001b[A\n",
            "Refining scale 2 using scale 1 ...current loss: 0.0069:  93% 14/15 [00:10<00:00,  1.27it/s]\u001b[A\n",
            "Refining scale 2 using scale 1 ...current loss: 0.0065:  93% 14/15 [00:11<00:00,  1.27it/s]\u001b[A\n",
            "Refining scale 2 using scale 1 ...current loss: 0.0065: 100% 15/15 [00:11<00:00,  1.41it/s]\u001b[A\n",
            " 96% 719/746 [2:20:22<05:15, 11.68s/it]\n",
            "  0% 0/15 [00:00<?, ?it/s]\u001b[A\n",
            "                          \u001b[A\n",
            "  0% 0/15 [00:00<?, ?it/s]\u001b[A\n",
            "Refining scale 2 using scale 1 ...current loss: 0.0382:   0% 0/15 [00:00<?, ?it/s]\u001b[A\n",
            "Refining scale 2 using scale 1 ...current loss: 0.0382:   7% 1/15 [00:00<00:08,  1.58it/s]\u001b[A\n",
            "Refining scale 2 using scale 1 ...current loss: 0.0205:   7% 1/15 [00:01<00:08,  1.58it/s]\u001b[A\n",
            "Refining scale 2 using scale 1 ...current loss: 0.0205:  13% 2/15 [00:01<00:09,  1.38it/s]\u001b[A\n",
            "Refining scale 2 using scale 1 ...current loss: 0.0211:  13% 2/15 [00:01<00:09,  1.38it/s]\u001b[A\n",
            "Refining scale 2 using scale 1 ...current loss: 0.0211:  20% 3/15 [00:02<00:09,  1.33it/s]\u001b[A\n",
            "Refining scale 2 using scale 1 ...current loss: 0.0196:  20% 3/15 [00:02<00:09,  1.33it/s]\u001b[A\n",
            "Refining scale 2 using scale 1 ...current loss: 0.0196:  27% 4/15 [00:02<00:08,  1.31it/s]\u001b[A\n",
            "Refining scale 2 using scale 1 ...current loss: 0.0173:  27% 4/15 [00:03<00:08,  1.31it/s]\u001b[A\n",
            "Refining scale 2 using scale 1 ...current loss: 0.0173:  33% 5/15 [00:03<00:07,  1.30it/s]\u001b[A\n",
            "Refining scale 2 using scale 1 ...current loss: 0.0169:  33% 5/15 [00:04<00:07,  1.30it/s]\u001b[A\n",
            "Refining scale 2 using scale 1 ...current loss: 0.0169:  40% 6/15 [00:04<00:06,  1.29it/s]\u001b[A\n",
            "Refining scale 2 using scale 1 ...current loss: 0.0166:  40% 6/15 [00:05<00:06,  1.29it/s]\u001b[A\n",
            "Refining scale 2 using scale 1 ...current loss: 0.0166:  47% 7/15 [00:05<00:06,  1.28it/s]\u001b[A\n",
            "Refining scale 2 using scale 1 ...current loss: 0.0155:  47% 7/15 [00:05<00:06,  1.28it/s]\u001b[A\n",
            "Refining scale 2 using scale 1 ...current loss: 0.0155:  53% 8/15 [00:06<00:05,  1.28it/s]\u001b[A\n",
            "Refining scale 2 using scale 1 ...current loss: 0.0150:  53% 8/15 [00:06<00:05,  1.28it/s]\u001b[A\n",
            "Refining scale 2 using scale 1 ...current loss: 0.0150:  60% 9/15 [00:06<00:04,  1.28it/s]\u001b[A\n",
            "Refining scale 2 using scale 1 ...current loss: 0.0148:  60% 9/15 [00:07<00:04,  1.28it/s]\u001b[A\n",
            "Refining scale 2 using scale 1 ...current loss: 0.0148:  67% 10/15 [00:07<00:03,  1.28it/s]\u001b[A\n",
            "Refining scale 2 using scale 1 ...current loss: 0.0142:  67% 10/15 [00:08<00:03,  1.28it/s]\u001b[A\n",
            "Refining scale 2 using scale 1 ...current loss: 0.0142:  73% 11/15 [00:08<00:03,  1.28it/s]\u001b[A\n",
            "Refining scale 2 using scale 1 ...current loss: 0.0139:  73% 11/15 [00:09<00:03,  1.28it/s]\u001b[A\n",
            "Refining scale 2 using scale 1 ...current loss: 0.0139:  80% 12/15 [00:09<00:02,  1.28it/s]\u001b[A\n",
            "Refining scale 2 using scale 1 ...current loss: 0.0137:  80% 12/15 [00:09<00:02,  1.28it/s]\u001b[A\n",
            "Refining scale 2 using scale 1 ...current loss: 0.0137:  87% 13/15 [00:10<00:01,  1.27it/s]\u001b[A\n",
            "Refining scale 2 using scale 1 ...current loss: 0.0132:  87% 13/15 [00:10<00:01,  1.27it/s]\u001b[A\n",
            "Refining scale 2 using scale 1 ...current loss: 0.0132:  93% 14/15 [00:10<00:00,  1.27it/s]\u001b[A\n",
            "Refining scale 2 using scale 1 ...current loss: 0.0129:  93% 14/15 [00:11<00:00,  1.27it/s]\u001b[A\n",
            "Refining scale 2 using scale 1 ...current loss: 0.0129: 100% 15/15 [00:11<00:00,  1.41it/s]\u001b[A\n",
            " 97% 720/746 [2:20:33<05:03, 11.68s/it]\n",
            "  0% 0/15 [00:00<?, ?it/s]\u001b[A\n",
            "                          \u001b[A\n",
            "  0% 0/15 [00:00<?, ?it/s]\u001b[A\n",
            "Refining scale 2 using scale 1 ...current loss: 0.0447:   0% 0/15 [00:00<?, ?it/s]\u001b[A\n",
            "Refining scale 2 using scale 1 ...current loss: 0.0447:   7% 1/15 [00:00<00:08,  1.57it/s]\u001b[A\n",
            "Refining scale 2 using scale 1 ...current loss: 0.0351:   7% 1/15 [00:01<00:08,  1.57it/s]\u001b[A\n",
            "Refining scale 2 using scale 1 ...current loss: 0.0351:  13% 2/15 [00:01<00:09,  1.38it/s]\u001b[A\n",
            "Refining scale 2 using scale 1 ...current loss: 0.0315:  13% 2/15 [00:01<00:09,  1.38it/s]\u001b[A\n",
            "Refining scale 2 using scale 1 ...current loss: 0.0315:  20% 3/15 [00:02<00:09,  1.33it/s]\u001b[A\n",
            "Refining scale 2 using scale 1 ...current loss: 0.0281:  20% 3/15 [00:02<00:09,  1.33it/s]\u001b[A\n",
            "Refining scale 2 using scale 1 ...current loss: 0.0281:  27% 4/15 [00:02<00:08,  1.31it/s]\u001b[A\n",
            "Refining scale 2 using scale 1 ...current loss: 0.0259:  27% 4/15 [00:03<00:08,  1.31it/s]\u001b[A\n",
            "Refining scale 2 using scale 1 ...current loss: 0.0259:  33% 5/15 [00:03<00:07,  1.30it/s]\u001b[A\n",
            "Refining scale 2 using scale 1 ...current loss: 0.0243:  33% 5/15 [00:04<00:07,  1.30it/s]\u001b[A\n",
            "Refining scale 2 using scale 1 ...current loss: 0.0243:  40% 6/15 [00:04<00:06,  1.29it/s]\u001b[A\n",
            "Refining scale 2 using scale 1 ...current loss: 0.0228:  40% 6/15 [00:05<00:06,  1.29it/s]\u001b[A\n",
            "Refining scale 2 using scale 1 ...current loss: 0.0228:  47% 7/15 [00:05<00:06,  1.28it/s]\u001b[A\n",
            "Refining scale 2 using scale 1 ...current loss: 0.0219:  47% 7/15 [00:05<00:06,  1.28it/s]\u001b[A\n",
            "Refining scale 2 using scale 1 ...current loss: 0.0219:  53% 8/15 [00:06<00:05,  1.28it/s]\u001b[A\n",
            "Refining scale 2 using scale 1 ...current loss: 0.0209:  53% 8/15 [00:06<00:05,  1.28it/s]\u001b[A\n",
            "Refining scale 2 using scale 1 ...current loss: 0.0209:  60% 9/15 [00:06<00:04,  1.28it/s]\u001b[A\n",
            "Refining scale 2 using scale 1 ...current loss: 0.0200:  60% 9/15 [00:07<00:04,  1.28it/s]\u001b[A\n",
            "Refining scale 2 using scale 1 ...current loss: 0.0200:  67% 10/15 [00:07<00:03,  1.28it/s]\u001b[A\n",
            "Refining scale 2 using scale 1 ...current loss: 0.0194:  67% 10/15 [00:08<00:03,  1.28it/s]\u001b[A\n",
            "Refining scale 2 using scale 1 ...current loss: 0.0194:  73% 11/15 [00:08<00:03,  1.28it/s]\u001b[A\n",
            "Refining scale 2 using scale 1 ...current loss: 0.0189:  73% 11/15 [00:09<00:03,  1.28it/s]\u001b[A\n",
            "Refining scale 2 using scale 1 ...current loss: 0.0189:  80% 12/15 [00:09<00:02,  1.27it/s]\u001b[A\n",
            "Refining scale 2 using scale 1 ...current loss: 0.0184:  80% 12/15 [00:09<00:02,  1.27it/s]\u001b[A\n",
            "Refining scale 2 using scale 1 ...current loss: 0.0184:  87% 13/15 [00:10<00:01,  1.27it/s]\u001b[A\n",
            "Refining scale 2 using scale 1 ...current loss: 0.0178:  87% 13/15 [00:10<00:01,  1.27it/s]\u001b[A\n",
            "Refining scale 2 using scale 1 ...current loss: 0.0178:  93% 14/15 [00:10<00:00,  1.27it/s]\u001b[A\n",
            "Refining scale 2 using scale 1 ...current loss: 0.0174:  93% 14/15 [00:11<00:00,  1.27it/s]\u001b[A\n",
            "Refining scale 2 using scale 1 ...current loss: 0.0174: 100% 15/15 [00:11<00:00,  1.42it/s]\u001b[A\n",
            " 97% 721/746 [2:20:45<04:52, 11.69s/it]\n",
            "  0% 0/15 [00:00<?, ?it/s]\u001b[A\n",
            "                          \u001b[A\n",
            "  0% 0/15 [00:00<?, ?it/s]\u001b[A\n",
            "Refining scale 2 using scale 1 ...current loss: nan:   0% 0/15 [00:00<?, ?it/s]\u001b[A\n",
            "Refining scale 2 using scale 1 ...current loss: nan:   7% 1/15 [00:00<00:08,  1.57it/s]\u001b[A\n",
            "Refining scale 2 using scale 1 ...current loss: nan:   7% 1/15 [00:01<00:08,  1.57it/s]\u001b[A\n",
            "Refining scale 2 using scale 1 ...current loss: nan:  13% 2/15 [00:01<00:09,  1.37it/s]\u001b[A\n",
            "Refining scale 2 using scale 1 ...current loss: nan:  13% 2/15 [00:01<00:09,  1.37it/s]\u001b[A\n",
            "Refining scale 2 using scale 1 ...current loss: nan:  20% 3/15 [00:02<00:09,  1.32it/s]\u001b[A\n",
            "Refining scale 2 using scale 1 ...current loss: nan:  20% 3/15 [00:02<00:09,  1.32it/s]\u001b[A\n",
            "Refining scale 2 using scale 1 ...current loss: nan:  27% 4/15 [00:03<00:08,  1.30it/s]\u001b[A\n",
            "Refining scale 2 using scale 1 ...current loss: nan:  27% 4/15 [00:03<00:08,  1.30it/s]\u001b[A\n",
            "Refining scale 2 using scale 1 ...current loss: nan:  33% 5/15 [00:03<00:07,  1.29it/s]\u001b[A\n",
            "Refining scale 2 using scale 1 ...current loss: nan:  33% 5/15 [00:04<00:07,  1.29it/s]\u001b[A\n",
            "Refining scale 2 using scale 1 ...current loss: nan:  40% 6/15 [00:04<00:07,  1.28it/s]\u001b[A\n",
            "Refining scale 2 using scale 1 ...current loss: nan:  40% 6/15 [00:05<00:07,  1.28it/s]\u001b[A\n",
            "Refining scale 2 using scale 1 ...current loss: nan:  47% 7/15 [00:05<00:06,  1.28it/s]\u001b[A\n",
            "Refining scale 2 using scale 1 ...current loss: nan:  47% 7/15 [00:05<00:06,  1.28it/s]\u001b[A\n",
            "Refining scale 2 using scale 1 ...current loss: nan:  53% 8/15 [00:06<00:05,  1.28it/s]\u001b[A\n",
            "Refining scale 2 using scale 1 ...current loss: nan:  53% 8/15 [00:06<00:05,  1.28it/s]\u001b[A\n",
            "Refining scale 2 using scale 1 ...current loss: nan:  60% 9/15 [00:06<00:04,  1.28it/s]\u001b[A\n",
            "Refining scale 2 using scale 1 ...current loss: nan:  60% 9/15 [00:07<00:04,  1.28it/s]\u001b[A\n",
            "Refining scale 2 using scale 1 ...current loss: nan:  67% 10/15 [00:07<00:03,  1.28it/s]\u001b[A\n",
            "Refining scale 2 using scale 1 ...current loss: nan:  67% 10/15 [00:08<00:03,  1.28it/s]\u001b[A\n",
            "Refining scale 2 using scale 1 ...current loss: nan:  73% 11/15 [00:08<00:03,  1.28it/s]\u001b[A\n",
            "Refining scale 2 using scale 1 ...current loss: nan:  73% 11/15 [00:09<00:03,  1.28it/s]\u001b[A\n",
            "Refining scale 2 using scale 1 ...current loss: nan:  80% 12/15 [00:09<00:02,  1.28it/s]\u001b[A\n",
            "Refining scale 2 using scale 1 ...current loss: nan:  80% 12/15 [00:09<00:02,  1.28it/s]\u001b[A\n",
            "Refining scale 2 using scale 1 ...current loss: nan:  87% 13/15 [00:10<00:01,  1.28it/s]\u001b[A\n",
            "Refining scale 2 using scale 1 ...current loss: nan:  87% 13/15 [00:10<00:01,  1.28it/s]\u001b[A\n",
            "Refining scale 2 using scale 1 ...current loss: nan:  93% 14/15 [00:10<00:00,  1.28it/s]\u001b[A\n",
            "Refining scale 2 using scale 1 ...current loss: nan:  93% 14/15 [00:11<00:00,  1.28it/s]\u001b[A\n",
            "Refining scale 2 using scale 1 ...current loss: nan: 100% 15/15 [00:11<00:00,  1.42it/s]\u001b[A\n",
            " 97% 722/746 [2:20:57<04:40, 11.69s/it]\n",
            "  0% 0/15 [00:00<?, ?it/s]\u001b[A\n",
            "                          \u001b[A\n",
            "  0% 0/15 [00:00<?, ?it/s]\u001b[A\n",
            "Refining scale 2 using scale 1 ...current loss: 0.0644:   0% 0/15 [00:00<?, ?it/s]\u001b[A\n",
            "Refining scale 2 using scale 1 ...current loss: 0.0644:   7% 1/15 [00:00<00:08,  1.58it/s]\u001b[A\n",
            "Refining scale 2 using scale 1 ...current loss: 0.0512:   7% 1/15 [00:01<00:08,  1.58it/s]\u001b[A\n",
            "Refining scale 2 using scale 1 ...current loss: 0.0512:  13% 2/15 [00:01<00:09,  1.38it/s]\u001b[A\n",
            "Refining scale 2 using scale 1 ...current loss: 0.0463:  13% 2/15 [00:01<00:09,  1.38it/s]\u001b[A\n",
            "Refining scale 2 using scale 1 ...current loss: 0.0463:  20% 3/15 [00:02<00:09,  1.33it/s]\u001b[A\n",
            "Refining scale 2 using scale 1 ...current loss: 0.0412:  20% 3/15 [00:02<00:09,  1.33it/s]\u001b[A\n",
            "Refining scale 2 using scale 1 ...current loss: 0.0412:  27% 4/15 [00:02<00:08,  1.31it/s]\u001b[A\n",
            "Refining scale 2 using scale 1 ...current loss: 0.0382:  27% 4/15 [00:03<00:08,  1.31it/s]\u001b[A\n",
            "Refining scale 2 using scale 1 ...current loss: 0.0382:  33% 5/15 [00:03<00:07,  1.29it/s]\u001b[A\n",
            "Refining scale 2 using scale 1 ...current loss: 0.0356:  33% 5/15 [00:04<00:07,  1.29it/s]\u001b[A\n",
            "Refining scale 2 using scale 1 ...current loss: 0.0356:  40% 6/15 [00:04<00:06,  1.29it/s]\u001b[A\n",
            "Refining scale 2 using scale 1 ...current loss: 0.0337:  40% 6/15 [00:05<00:06,  1.29it/s]\u001b[A\n",
            "Refining scale 2 using scale 1 ...current loss: 0.0337:  47% 7/15 [00:05<00:06,  1.28it/s]\u001b[A\n",
            "Refining scale 2 using scale 1 ...current loss: 0.0320:  47% 7/15 [00:05<00:06,  1.28it/s]\u001b[A\n",
            "Refining scale 2 using scale 1 ...current loss: 0.0320:  53% 8/15 [00:06<00:05,  1.28it/s]\u001b[A\n",
            "Refining scale 2 using scale 1 ...current loss: 0.0310:  53% 8/15 [00:06<00:05,  1.28it/s]\u001b[A\n",
            "Refining scale 2 using scale 1 ...current loss: 0.0310:  60% 9/15 [00:06<00:04,  1.28it/s]\u001b[A\n",
            "Refining scale 2 using scale 1 ...current loss: 0.0298:  60% 9/15 [00:07<00:04,  1.28it/s]\u001b[A\n",
            "Refining scale 2 using scale 1 ...current loss: 0.0298:  67% 10/15 [00:07<00:03,  1.27it/s]\u001b[A\n",
            "Refining scale 2 using scale 1 ...current loss: 0.0289:  67% 10/15 [00:08<00:03,  1.27it/s]\u001b[A\n",
            "Refining scale 2 using scale 1 ...current loss: 0.0289:  73% 11/15 [00:08<00:03,  1.27it/s]\u001b[A\n",
            "Refining scale 2 using scale 1 ...current loss: 0.0281:  73% 11/15 [00:09<00:03,  1.27it/s]\u001b[A\n",
            "Refining scale 2 using scale 1 ...current loss: 0.0281:  80% 12/15 [00:09<00:02,  1.28it/s]\u001b[A\n",
            "Refining scale 2 using scale 1 ...current loss: 0.0271:  80% 12/15 [00:09<00:02,  1.28it/s]\u001b[A\n",
            "Refining scale 2 using scale 1 ...current loss: 0.0271:  87% 13/15 [00:10<00:01,  1.27it/s]\u001b[A\n",
            "Refining scale 2 using scale 1 ...current loss: 0.0263:  87% 13/15 [00:10<00:01,  1.27it/s]\u001b[A\n",
            "Refining scale 2 using scale 1 ...current loss: 0.0263:  93% 14/15 [00:10<00:00,  1.28it/s]\u001b[A\n",
            "Refining scale 2 using scale 1 ...current loss: 0.0256:  93% 14/15 [00:11<00:00,  1.28it/s]\u001b[A\n",
            "Refining scale 2 using scale 1 ...current loss: 0.0256: 100% 15/15 [00:11<00:00,  1.42it/s]\u001b[A\n",
            " 97% 723/746 [2:21:08<04:28, 11.68s/it]\n",
            "  0% 0/15 [00:00<?, ?it/s]\u001b[A\n",
            "                          \u001b[A\n",
            "  0% 0/15 [00:00<?, ?it/s]\u001b[A\n",
            "Refining scale 2 using scale 1 ...current loss: 0.0672:   0% 0/15 [00:00<?, ?it/s]\u001b[A\n",
            "Refining scale 2 using scale 1 ...current loss: 0.0672:   7% 1/15 [00:00<00:08,  1.58it/s]\u001b[A\n",
            "Refining scale 2 using scale 1 ...current loss: 0.0550:   7% 1/15 [00:01<00:08,  1.58it/s]\u001b[A\n",
            "Refining scale 2 using scale 1 ...current loss: 0.0550:  13% 2/15 [00:01<00:09,  1.38it/s]\u001b[A\n",
            "Refining scale 2 using scale 1 ...current loss: 0.0476:  13% 2/15 [00:01<00:09,  1.38it/s]\u001b[A\n",
            "Refining scale 2 using scale 1 ...current loss: 0.0476:  20% 3/15 [00:02<00:09,  1.33it/s]\u001b[A\n",
            "Refining scale 2 using scale 1 ...current loss: 0.0434:  20% 3/15 [00:02<00:09,  1.33it/s]\u001b[A\n",
            "Refining scale 2 using scale 1 ...current loss: 0.0434:  27% 4/15 [00:02<00:08,  1.31it/s]\u001b[A\n",
            "Refining scale 2 using scale 1 ...current loss: 0.0406:  27% 4/15 [00:03<00:08,  1.31it/s]\u001b[A\n",
            "Refining scale 2 using scale 1 ...current loss: 0.0406:  33% 5/15 [00:03<00:07,  1.30it/s]\u001b[A\n",
            "Refining scale 2 using scale 1 ...current loss: 0.0382:  33% 5/15 [00:04<00:07,  1.30it/s]\u001b[A\n",
            "Refining scale 2 using scale 1 ...current loss: 0.0382:  40% 6/15 [00:04<00:06,  1.29it/s]\u001b[A\n",
            "Refining scale 2 using scale 1 ...current loss: 0.0361:  40% 6/15 [00:05<00:06,  1.29it/s]\u001b[A\n",
            "Refining scale 2 using scale 1 ...current loss: 0.0361:  47% 7/15 [00:05<00:06,  1.28it/s]\u001b[A\n",
            "Refining scale 2 using scale 1 ...current loss: 0.0341:  47% 7/15 [00:05<00:06,  1.28it/s]\u001b[A\n",
            "Refining scale 2 using scale 1 ...current loss: 0.0341:  53% 8/15 [00:06<00:05,  1.28it/s]\u001b[A\n",
            "Refining scale 2 using scale 1 ...current loss: 0.0326:  53% 8/15 [00:06<00:05,  1.28it/s]\u001b[A\n",
            "Refining scale 2 using scale 1 ...current loss: 0.0326:  60% 9/15 [00:06<00:04,  1.28it/s]\u001b[A\n",
            "Refining scale 2 using scale 1 ...current loss: 0.0313:  60% 9/15 [00:07<00:04,  1.28it/s]\u001b[A\n",
            "Refining scale 2 using scale 1 ...current loss: 0.0313:  67% 10/15 [00:07<00:03,  1.28it/s]\u001b[A\n",
            "Refining scale 2 using scale 1 ...current loss: 0.0300:  67% 10/15 [00:08<00:03,  1.28it/s]\u001b[A\n",
            "Refining scale 2 using scale 1 ...current loss: 0.0300:  73% 11/15 [00:08<00:03,  1.28it/s]\u001b[A\n",
            "Refining scale 2 using scale 1 ...current loss: 0.0289:  73% 11/15 [00:09<00:03,  1.28it/s]\u001b[A\n",
            "Refining scale 2 using scale 1 ...current loss: 0.0289:  80% 12/15 [00:09<00:02,  1.27it/s]\u001b[A\n",
            "Refining scale 2 using scale 1 ...current loss: 0.0278:  80% 12/15 [00:09<00:02,  1.27it/s]\u001b[A\n",
            "Refining scale 2 using scale 1 ...current loss: 0.0278:  87% 13/15 [00:10<00:01,  1.27it/s]\u001b[A\n",
            "Refining scale 2 using scale 1 ...current loss: 0.0270:  87% 13/15 [00:10<00:01,  1.27it/s]\u001b[A\n",
            "Refining scale 2 using scale 1 ...current loss: 0.0270:  93% 14/15 [00:10<00:00,  1.27it/s]\u001b[A\n",
            "Refining scale 2 using scale 1 ...current loss: 0.0261:  93% 14/15 [00:11<00:00,  1.27it/s]\u001b[A\n",
            "Refining scale 2 using scale 1 ...current loss: 0.0261: 100% 15/15 [00:11<00:00,  1.41it/s]\u001b[A\n",
            " 97% 724/746 [2:21:20<04:16, 11.67s/it]\n",
            "  0% 0/15 [00:00<?, ?it/s]\u001b[A\n",
            "                          \u001b[A\n",
            "  0% 0/15 [00:00<?, ?it/s]\u001b[A\n",
            "Refining scale 2 using scale 1 ...current loss: nan:   0% 0/15 [00:00<?, ?it/s]\u001b[A\n",
            "Refining scale 2 using scale 1 ...current loss: nan:   7% 1/15 [00:00<00:08,  1.58it/s]\u001b[A\n",
            "Refining scale 2 using scale 1 ...current loss: nan:   7% 1/15 [00:01<00:08,  1.58it/s]\u001b[A\n",
            "Refining scale 2 using scale 1 ...current loss: nan:  13% 2/15 [00:01<00:09,  1.39it/s]\u001b[A\n",
            "Refining scale 2 using scale 1 ...current loss: nan:  13% 2/15 [00:01<00:09,  1.39it/s]\u001b[A\n",
            "Refining scale 2 using scale 1 ...current loss: nan:  20% 3/15 [00:02<00:08,  1.33it/s]\u001b[A\n",
            "Refining scale 2 using scale 1 ...current loss: nan:  20% 3/15 [00:02<00:08,  1.33it/s]\u001b[A\n",
            "Refining scale 2 using scale 1 ...current loss: nan:  27% 4/15 [00:02<00:08,  1.31it/s]\u001b[A\n",
            "Refining scale 2 using scale 1 ...current loss: nan:  27% 4/15 [00:03<00:08,  1.31it/s]\u001b[A\n",
            "Refining scale 2 using scale 1 ...current loss: nan:  33% 5/15 [00:03<00:07,  1.30it/s]\u001b[A\n",
            "Refining scale 2 using scale 1 ...current loss: nan:  33% 5/15 [00:04<00:07,  1.30it/s]\u001b[A\n",
            "Refining scale 2 using scale 1 ...current loss: nan:  40% 6/15 [00:04<00:06,  1.29it/s]\u001b[A\n",
            "Refining scale 2 using scale 1 ...current loss: nan:  40% 6/15 [00:05<00:06,  1.29it/s]\u001b[A\n",
            "Refining scale 2 using scale 1 ...current loss: nan:  47% 7/15 [00:05<00:06,  1.29it/s]\u001b[A\n",
            "Refining scale 2 using scale 1 ...current loss: nan:  47% 7/15 [00:05<00:06,  1.29it/s]\u001b[A\n",
            "Refining scale 2 using scale 1 ...current loss: nan:  53% 8/15 [00:06<00:05,  1.28it/s]\u001b[A\n",
            "Refining scale 2 using scale 1 ...current loss: nan:  53% 8/15 [00:06<00:05,  1.28it/s]\u001b[A\n",
            "Refining scale 2 using scale 1 ...current loss: nan:  60% 9/15 [00:06<00:04,  1.28it/s]\u001b[A\n",
            "Refining scale 2 using scale 1 ...current loss: nan:  60% 9/15 [00:07<00:04,  1.28it/s]\u001b[A\n",
            "Refining scale 2 using scale 1 ...current loss: nan:  67% 10/15 [00:07<00:03,  1.28it/s]\u001b[A\n",
            "Refining scale 2 using scale 1 ...current loss: nan:  67% 10/15 [00:08<00:03,  1.28it/s]\u001b[A\n",
            "Refining scale 2 using scale 1 ...current loss: nan:  73% 11/15 [00:08<00:03,  1.28it/s]\u001b[A\n",
            "Refining scale 2 using scale 1 ...current loss: nan:  73% 11/15 [00:08<00:03,  1.28it/s]\u001b[A\n",
            "Refining scale 2 using scale 1 ...current loss: nan:  80% 12/15 [00:09<00:02,  1.28it/s]\u001b[A\n",
            "Refining scale 2 using scale 1 ...current loss: nan:  80% 12/15 [00:09<00:02,  1.28it/s]\u001b[A\n",
            "Refining scale 2 using scale 1 ...current loss: nan:  87% 13/15 [00:10<00:01,  1.28it/s]\u001b[A\n",
            "Refining scale 2 using scale 1 ...current loss: nan:  87% 13/15 [00:10<00:01,  1.28it/s]\u001b[A\n",
            "Refining scale 2 using scale 1 ...current loss: nan:  93% 14/15 [00:10<00:00,  1.27it/s]\u001b[A\n",
            "Refining scale 2 using scale 1 ...current loss: nan:  93% 14/15 [00:11<00:00,  1.27it/s]\u001b[A\n",
            "Refining scale 2 using scale 1 ...current loss: nan: 100% 15/15 [00:11<00:00,  1.41it/s]\u001b[A\n",
            " 97% 725/746 [2:21:32<04:05, 11.69s/it]\n",
            "  0% 0/15 [00:00<?, ?it/s]\u001b[A\n",
            "                          \u001b[A\n",
            "  0% 0/15 [00:00<?, ?it/s]\u001b[A\n",
            "Refining scale 2 using scale 1 ...current loss: 0.0384:   0% 0/15 [00:00<?, ?it/s]\u001b[A\n",
            "Refining scale 2 using scale 1 ...current loss: 0.0384:   7% 1/15 [00:00<00:08,  1.56it/s]\u001b[A\n",
            "Refining scale 2 using scale 1 ...current loss: 0.0217:   7% 1/15 [00:01<00:08,  1.56it/s]\u001b[A\n",
            "Refining scale 2 using scale 1 ...current loss: 0.0217:  13% 2/15 [00:01<00:09,  1.37it/s]\u001b[A\n",
            "Refining scale 2 using scale 1 ...current loss: 0.0187:  13% 2/15 [00:01<00:09,  1.37it/s]\u001b[A\n",
            "Refining scale 2 using scale 1 ...current loss: 0.0187:  20% 3/15 [00:02<00:09,  1.32it/s]\u001b[A\n",
            "Refining scale 2 using scale 1 ...current loss: 0.0160:  20% 3/15 [00:02<00:09,  1.32it/s]\u001b[A\n",
            "Refining scale 2 using scale 1 ...current loss: 0.0160:  27% 4/15 [00:03<00:08,  1.30it/s]\u001b[A\n",
            "Refining scale 2 using scale 1 ...current loss: 0.0147:  27% 4/15 [00:03<00:08,  1.30it/s]\u001b[A\n",
            "Refining scale 2 using scale 1 ...current loss: 0.0147:  33% 5/15 [00:03<00:07,  1.29it/s]\u001b[A\n",
            "Refining scale 2 using scale 1 ...current loss: 0.0140:  33% 5/15 [00:04<00:07,  1.29it/s]\u001b[A\n",
            "Refining scale 2 using scale 1 ...current loss: 0.0140:  40% 6/15 [00:04<00:07,  1.28it/s]\u001b[A\n",
            "Refining scale 2 using scale 1 ...current loss: 0.0133:  40% 6/15 [00:05<00:07,  1.28it/s]\u001b[A\n",
            "Refining scale 2 using scale 1 ...current loss: 0.0133:  47% 7/15 [00:05<00:06,  1.28it/s]\u001b[A\n",
            "Refining scale 2 using scale 1 ...current loss: 0.0127:  47% 7/15 [00:05<00:06,  1.28it/s]\u001b[A\n",
            "Refining scale 2 using scale 1 ...current loss: 0.0127:  53% 8/15 [00:06<00:05,  1.28it/s]\u001b[A\n",
            "Refining scale 2 using scale 1 ...current loss: 0.0122:  53% 8/15 [00:06<00:05,  1.28it/s]\u001b[A\n",
            "Refining scale 2 using scale 1 ...current loss: 0.0122:  60% 9/15 [00:06<00:04,  1.28it/s]\u001b[A\n",
            "Refining scale 2 using scale 1 ...current loss: 0.0117:  60% 9/15 [00:07<00:04,  1.28it/s]\u001b[A\n",
            "Refining scale 2 using scale 1 ...current loss: 0.0117:  67% 10/15 [00:07<00:03,  1.28it/s]\u001b[A\n",
            "Refining scale 2 using scale 1 ...current loss: 0.0113:  67% 10/15 [00:08<00:03,  1.28it/s]\u001b[A\n",
            "Refining scale 2 using scale 1 ...current loss: 0.0113:  73% 11/15 [00:08<00:03,  1.28it/s]\u001b[A\n",
            "Refining scale 2 using scale 1 ...current loss: 0.0110:  73% 11/15 [00:09<00:03,  1.28it/s]\u001b[A\n",
            "Refining scale 2 using scale 1 ...current loss: 0.0110:  80% 12/15 [00:09<00:02,  1.28it/s]\u001b[A\n",
            "Refining scale 2 using scale 1 ...current loss: 0.0107:  80% 12/15 [00:09<00:02,  1.28it/s]\u001b[A\n",
            "Refining scale 2 using scale 1 ...current loss: 0.0107:  87% 13/15 [00:10<00:01,  1.28it/s]\u001b[A\n",
            "Refining scale 2 using scale 1 ...current loss: 0.0104:  87% 13/15 [00:10<00:01,  1.28it/s]\u001b[A\n",
            "Refining scale 2 using scale 1 ...current loss: 0.0104:  93% 14/15 [00:10<00:00,  1.28it/s]\u001b[A\n",
            "Refining scale 2 using scale 1 ...current loss: 0.0101:  93% 14/15 [00:11<00:00,  1.28it/s]\u001b[A\n",
            "Refining scale 2 using scale 1 ...current loss: 0.0101: 100% 15/15 [00:11<00:00,  1.42it/s]\u001b[A\n",
            " 97% 726/746 [2:21:44<03:53, 11.69s/it]\n",
            "  0% 0/15 [00:00<?, ?it/s]\u001b[A\n",
            "                          \u001b[A\n",
            "  0% 0/15 [00:00<?, ?it/s]\u001b[A\n",
            "Refining scale 2 using scale 1 ...current loss: 0.1532:   0% 0/15 [00:00<?, ?it/s]\u001b[A\n",
            "Refining scale 2 using scale 1 ...current loss: 0.1532:   7% 1/15 [00:00<00:08,  1.57it/s]\u001b[A\n",
            "Refining scale 2 using scale 1 ...current loss: 0.0764:   7% 1/15 [00:01<00:08,  1.57it/s]\u001b[A\n",
            "Refining scale 2 using scale 1 ...current loss: 0.0764:  13% 2/15 [00:01<00:09,  1.38it/s]\u001b[A\n",
            "Refining scale 2 using scale 1 ...current loss: 0.0590:  13% 2/15 [00:01<00:09,  1.38it/s]\u001b[A\n",
            "Refining scale 2 using scale 1 ...current loss: 0.0590:  20% 3/15 [00:02<00:09,  1.33it/s]\u001b[A\n",
            "Refining scale 2 using scale 1 ...current loss: 0.0491:  20% 3/15 [00:02<00:09,  1.33it/s]\u001b[A\n",
            "Refining scale 2 using scale 1 ...current loss: 0.0491:  27% 4/15 [00:02<00:08,  1.31it/s]\u001b[A\n",
            "Refining scale 2 using scale 1 ...current loss: 0.0350:  27% 4/15 [00:03<00:08,  1.31it/s]\u001b[A\n",
            "Refining scale 2 using scale 1 ...current loss: 0.0350:  33% 5/15 [00:03<00:07,  1.29it/s]\u001b[A\n",
            "Refining scale 2 using scale 1 ...current loss: 0.0284:  33% 5/15 [00:04<00:07,  1.29it/s]\u001b[A\n",
            "Refining scale 2 using scale 1 ...current loss: 0.0284:  40% 6/15 [00:04<00:07,  1.28it/s]\u001b[A\n",
            "Refining scale 2 using scale 1 ...current loss: 0.0291:  40% 6/15 [00:05<00:07,  1.28it/s]\u001b[A\n",
            "Refining scale 2 using scale 1 ...current loss: 0.0291:  47% 7/15 [00:05<00:06,  1.28it/s]\u001b[A\n",
            "Refining scale 2 using scale 1 ...current loss: 0.0238:  47% 7/15 [00:05<00:06,  1.28it/s]\u001b[A\n",
            "Refining scale 2 using scale 1 ...current loss: 0.0238:  53% 8/15 [00:06<00:05,  1.28it/s]\u001b[A\n",
            "Refining scale 2 using scale 1 ...current loss: 0.0191:  53% 8/15 [00:06<00:05,  1.28it/s]\u001b[A\n",
            "Refining scale 2 using scale 1 ...current loss: 0.0191:  60% 9/15 [00:06<00:04,  1.27it/s]\u001b[A\n",
            "Refining scale 2 using scale 1 ...current loss: 0.0165:  60% 9/15 [00:07<00:04,  1.27it/s]\u001b[A\n",
            "Refining scale 2 using scale 1 ...current loss: 0.0165:  67% 10/15 [00:07<00:03,  1.27it/s]\u001b[A\n",
            "Refining scale 2 using scale 1 ...current loss: 0.0139:  67% 10/15 [00:08<00:03,  1.27it/s]\u001b[A\n",
            "Refining scale 2 using scale 1 ...current loss: 0.0139:  73% 11/15 [00:08<00:03,  1.27it/s]\u001b[A\n",
            "Refining scale 2 using scale 1 ...current loss: 0.0110:  73% 11/15 [00:09<00:03,  1.27it/s]\u001b[A\n",
            "Refining scale 2 using scale 1 ...current loss: 0.0110:  80% 12/15 [00:09<00:02,  1.27it/s]\u001b[A\n",
            "Refining scale 2 using scale 1 ...current loss: 0.0110:  80% 12/15 [00:09<00:02,  1.27it/s]\u001b[A\n",
            "Refining scale 2 using scale 1 ...current loss: 0.0110:  87% 13/15 [00:10<00:01,  1.27it/s]\u001b[A\n",
            "Refining scale 2 using scale 1 ...current loss: 0.0107:  87% 13/15 [00:10<00:01,  1.27it/s]\u001b[A\n",
            "Refining scale 2 using scale 1 ...current loss: 0.0107:  93% 14/15 [00:10<00:00,  1.27it/s]\u001b[A\n",
            "Refining scale 2 using scale 1 ...current loss: 0.0094:  93% 14/15 [00:11<00:00,  1.27it/s]\u001b[A\n",
            "Refining scale 2 using scale 1 ...current loss: 0.0094: 100% 15/15 [00:11<00:00,  1.42it/s]\u001b[A\n",
            " 97% 727/746 [2:21:55<03:41, 11.68s/it]\n",
            "  0% 0/15 [00:00<?, ?it/s]\u001b[A\n",
            "                          \u001b[A\n",
            "  0% 0/15 [00:00<?, ?it/s]\u001b[A\n",
            "Refining scale 2 using scale 1 ...current loss: nan:   0% 0/15 [00:00<?, ?it/s]\u001b[A\n",
            "Refining scale 2 using scale 1 ...current loss: nan:   7% 1/15 [00:00<00:08,  1.57it/s]\u001b[A\n",
            "Refining scale 2 using scale 1 ...current loss: nan:   7% 1/15 [00:01<00:08,  1.57it/s]\u001b[A\n",
            "Refining scale 2 using scale 1 ...current loss: nan:  13% 2/15 [00:01<00:09,  1.38it/s]\u001b[A\n",
            "Refining scale 2 using scale 1 ...current loss: nan:  13% 2/15 [00:01<00:09,  1.38it/s]\u001b[A\n",
            "Refining scale 2 using scale 1 ...current loss: nan:  20% 3/15 [00:02<00:09,  1.33it/s]\u001b[A\n",
            "Refining scale 2 using scale 1 ...current loss: nan:  20% 3/15 [00:02<00:09,  1.33it/s]\u001b[A\n",
            "Refining scale 2 using scale 1 ...current loss: nan:  27% 4/15 [00:02<00:08,  1.31it/s]\u001b[A\n",
            "Refining scale 2 using scale 1 ...current loss: nan:  27% 4/15 [00:03<00:08,  1.31it/s]\u001b[A\n",
            "Refining scale 2 using scale 1 ...current loss: nan:  33% 5/15 [00:03<00:07,  1.30it/s]\u001b[A\n",
            "Refining scale 2 using scale 1 ...current loss: nan:  33% 5/15 [00:04<00:07,  1.30it/s]\u001b[A\n",
            "Refining scale 2 using scale 1 ...current loss: nan:  40% 6/15 [00:04<00:06,  1.29it/s]\u001b[A\n",
            "Refining scale 2 using scale 1 ...current loss: nan:  40% 6/15 [00:05<00:06,  1.29it/s]\u001b[A\n",
            "Refining scale 2 using scale 1 ...current loss: nan:  47% 7/15 [00:05<00:06,  1.28it/s]\u001b[A\n",
            "Refining scale 2 using scale 1 ...current loss: nan:  47% 7/15 [00:05<00:06,  1.28it/s]\u001b[A\n",
            "Refining scale 2 using scale 1 ...current loss: nan:  53% 8/15 [00:06<00:05,  1.28it/s]\u001b[A\n",
            "Refining scale 2 using scale 1 ...current loss: nan:  53% 8/15 [00:06<00:05,  1.28it/s]\u001b[A\n",
            "Refining scale 2 using scale 1 ...current loss: nan:  60% 9/15 [00:06<00:04,  1.28it/s]\u001b[A\n",
            "Refining scale 2 using scale 1 ...current loss: nan:  60% 9/15 [00:07<00:04,  1.28it/s]\u001b[A\n",
            "Refining scale 2 using scale 1 ...current loss: nan:  67% 10/15 [00:07<00:03,  1.28it/s]\u001b[A\n",
            "Refining scale 2 using scale 1 ...current loss: nan:  67% 10/15 [00:08<00:03,  1.28it/s]\u001b[A\n",
            "Refining scale 2 using scale 1 ...current loss: nan:  73% 11/15 [00:08<00:03,  1.28it/s]\u001b[A\n",
            "Refining scale 2 using scale 1 ...current loss: nan:  73% 11/15 [00:09<00:03,  1.28it/s]\u001b[A\n",
            "Refining scale 2 using scale 1 ...current loss: nan:  80% 12/15 [00:09<00:02,  1.27it/s]\u001b[A\n",
            "Refining scale 2 using scale 1 ...current loss: nan:  80% 12/15 [00:09<00:02,  1.27it/s]\u001b[A\n",
            "Refining scale 2 using scale 1 ...current loss: nan:  87% 13/15 [00:10<00:01,  1.27it/s]\u001b[A\n",
            "Refining scale 2 using scale 1 ...current loss: nan:  87% 13/15 [00:10<00:01,  1.27it/s]\u001b[A\n",
            "Refining scale 2 using scale 1 ...current loss: nan:  93% 14/15 [00:10<00:00,  1.27it/s]\u001b[A\n",
            "Refining scale 2 using scale 1 ...current loss: nan:  93% 14/15 [00:11<00:00,  1.27it/s]\u001b[A\n",
            "Refining scale 2 using scale 1 ...current loss: nan: 100% 15/15 [00:11<00:00,  1.41it/s]\u001b[A\n",
            " 98% 728/746 [2:22:07<03:30, 11.67s/it]\n",
            "  0% 0/15 [00:00<?, ?it/s]\u001b[A\n",
            "                          \u001b[A\n",
            "  0% 0/15 [00:00<?, ?it/s]\u001b[A\n",
            "Refining scale 2 using scale 1 ...current loss: 0.0382:   0% 0/15 [00:00<?, ?it/s]\u001b[A\n",
            "Refining scale 2 using scale 1 ...current loss: 0.0382:   7% 1/15 [00:00<00:08,  1.58it/s]\u001b[A\n",
            "Refining scale 2 using scale 1 ...current loss: 0.0347:   7% 1/15 [00:01<00:08,  1.58it/s]\u001b[A\n",
            "Refining scale 2 using scale 1 ...current loss: 0.0347:  13% 2/15 [00:01<00:09,  1.38it/s]\u001b[A\n",
            "Refining scale 2 using scale 1 ...current loss: 0.0303:  13% 2/15 [00:01<00:09,  1.38it/s]\u001b[A\n",
            "Refining scale 2 using scale 1 ...current loss: 0.0303:  20% 3/15 [00:02<00:09,  1.33it/s]\u001b[A\n",
            "Refining scale 2 using scale 1 ...current loss: 0.0283:  20% 3/15 [00:02<00:09,  1.33it/s]\u001b[A\n",
            "Refining scale 2 using scale 1 ...current loss: 0.0283:  27% 4/15 [00:02<00:08,  1.31it/s]\u001b[A\n",
            "Refining scale 2 using scale 1 ...current loss: 0.0262:  27% 4/15 [00:03<00:08,  1.31it/s]\u001b[A\n",
            "Refining scale 2 using scale 1 ...current loss: 0.0262:  33% 5/15 [00:03<00:07,  1.30it/s]\u001b[A\n",
            "Refining scale 2 using scale 1 ...current loss: 0.0248:  33% 5/15 [00:04<00:07,  1.30it/s]\u001b[A\n",
            "Refining scale 2 using scale 1 ...current loss: 0.0248:  40% 6/15 [00:04<00:06,  1.29it/s]\u001b[A\n",
            "Refining scale 2 using scale 1 ...current loss: 0.0238:  40% 6/15 [00:05<00:06,  1.29it/s]\u001b[A\n",
            "Refining scale 2 using scale 1 ...current loss: 0.0238:  47% 7/15 [00:05<00:06,  1.29it/s]\u001b[A\n",
            "Refining scale 2 using scale 1 ...current loss: 0.0229:  47% 7/15 [00:05<00:06,  1.29it/s]\u001b[A\n",
            "Refining scale 2 using scale 1 ...current loss: 0.0229:  53% 8/15 [00:06<00:05,  1.28it/s]\u001b[A\n",
            "Refining scale 2 using scale 1 ...current loss: 0.0217:  53% 8/15 [00:06<00:05,  1.28it/s]\u001b[A\n",
            "Refining scale 2 using scale 1 ...current loss: 0.0217:  60% 9/15 [00:06<00:04,  1.28it/s]\u001b[A\n",
            "Refining scale 2 using scale 1 ...current loss: 0.0206:  60% 9/15 [00:07<00:04,  1.28it/s]\u001b[A\n",
            "Refining scale 2 using scale 1 ...current loss: 0.0206:  67% 10/15 [00:07<00:03,  1.28it/s]\u001b[A\n",
            "Refining scale 2 using scale 1 ...current loss: 0.0197:  67% 10/15 [00:08<00:03,  1.28it/s]\u001b[A\n",
            "Refining scale 2 using scale 1 ...current loss: 0.0197:  73% 11/15 [00:08<00:03,  1.28it/s]\u001b[A\n",
            "Refining scale 2 using scale 1 ...current loss: 0.0189:  73% 11/15 [00:08<00:03,  1.28it/s]\u001b[A\n",
            "Refining scale 2 using scale 1 ...current loss: 0.0189:  80% 12/15 [00:09<00:02,  1.28it/s]\u001b[A\n",
            "Refining scale 2 using scale 1 ...current loss: 0.0182:  80% 12/15 [00:09<00:02,  1.28it/s]\u001b[A\n",
            "Refining scale 2 using scale 1 ...current loss: 0.0182:  87% 13/15 [00:10<00:01,  1.28it/s]\u001b[A\n",
            "Refining scale 2 using scale 1 ...current loss: 0.0174:  87% 13/15 [00:10<00:01,  1.28it/s]\u001b[A\n",
            "Refining scale 2 using scale 1 ...current loss: 0.0174:  93% 14/15 [00:10<00:00,  1.27it/s]\u001b[A\n",
            "Refining scale 2 using scale 1 ...current loss: 0.0169:  93% 14/15 [00:11<00:00,  1.27it/s]\u001b[A\n",
            "Refining scale 2 using scale 1 ...current loss: 0.0169: 100% 15/15 [00:11<00:00,  1.41it/s]\u001b[A\n",
            " 98% 729/746 [2:22:18<03:18, 11.66s/it]\n",
            "  0% 0/15 [00:00<?, ?it/s]\u001b[A\n",
            "                          \u001b[A\n",
            "  0% 0/15 [00:00<?, ?it/s]\u001b[A\n",
            "Refining scale 2 using scale 1 ...current loss: 0.2151:   0% 0/15 [00:00<?, ?it/s]\u001b[A\n",
            "Refining scale 2 using scale 1 ...current loss: 0.2151:   7% 1/15 [00:00<00:08,  1.57it/s]\u001b[A\n",
            "Refining scale 2 using scale 1 ...current loss: 0.0912:   7% 1/15 [00:01<00:08,  1.57it/s]\u001b[A\n",
            "Refining scale 2 using scale 1 ...current loss: 0.0912:  13% 2/15 [00:01<00:09,  1.38it/s]\u001b[A\n",
            "Refining scale 2 using scale 1 ...current loss: 0.0586:  13% 2/15 [00:01<00:09,  1.38it/s]\u001b[A\n",
            "Refining scale 2 using scale 1 ...current loss: 0.0586:  20% 3/15 [00:02<00:09,  1.32it/s]\u001b[A\n",
            "Refining scale 2 using scale 1 ...current loss: 0.0502:  20% 3/15 [00:02<00:09,  1.32it/s]\u001b[A\n",
            "Refining scale 2 using scale 1 ...current loss: 0.0502:  27% 4/15 [00:03<00:08,  1.30it/s]\u001b[A\n",
            "Refining scale 2 using scale 1 ...current loss: 0.0426:  27% 4/15 [00:03<00:08,  1.30it/s]\u001b[A\n",
            "Refining scale 2 using scale 1 ...current loss: 0.0426:  33% 5/15 [00:03<00:07,  1.29it/s]\u001b[A\n",
            "Refining scale 2 using scale 1 ...current loss: 0.0398:  33% 5/15 [00:04<00:07,  1.29it/s]\u001b[A\n",
            "Refining scale 2 using scale 1 ...current loss: 0.0398:  40% 6/15 [00:04<00:06,  1.29it/s]\u001b[A\n",
            "Refining scale 2 using scale 1 ...current loss: 0.0386:  40% 6/15 [00:05<00:06,  1.29it/s]\u001b[A\n",
            "Refining scale 2 using scale 1 ...current loss: 0.0386:  47% 7/15 [00:05<00:06,  1.28it/s]\u001b[A\n",
            "Refining scale 2 using scale 1 ...current loss: 0.0376:  47% 7/15 [00:05<00:06,  1.28it/s]\u001b[A\n",
            "Refining scale 2 using scale 1 ...current loss: 0.0376:  53% 8/15 [00:06<00:05,  1.28it/s]\u001b[A\n",
            "Refining scale 2 using scale 1 ...current loss: 0.0359:  53% 8/15 [00:06<00:05,  1.28it/s]\u001b[A\n",
            "Refining scale 2 using scale 1 ...current loss: 0.0359:  60% 9/15 [00:06<00:04,  1.28it/s]\u001b[A\n",
            "Refining scale 2 using scale 1 ...current loss: 0.0351:  60% 9/15 [00:07<00:04,  1.28it/s]\u001b[A\n",
            "Refining scale 2 using scale 1 ...current loss: 0.0351:  67% 10/15 [00:07<00:03,  1.28it/s]\u001b[A\n",
            "Refining scale 2 using scale 1 ...current loss: 0.0329:  67% 10/15 [00:08<00:03,  1.28it/s]\u001b[A\n",
            "Refining scale 2 using scale 1 ...current loss: 0.0329:  73% 11/15 [00:08<00:03,  1.28it/s]\u001b[A\n",
            "Refining scale 2 using scale 1 ...current loss: 0.0321:  73% 11/15 [00:09<00:03,  1.28it/s]\u001b[A\n",
            "Refining scale 2 using scale 1 ...current loss: 0.0321:  80% 12/15 [00:09<00:02,  1.28it/s]\u001b[A\n",
            "Refining scale 2 using scale 1 ...current loss: 0.0310:  80% 12/15 [00:09<00:02,  1.28it/s]\u001b[A\n",
            "Refining scale 2 using scale 1 ...current loss: 0.0310:  87% 13/15 [00:10<00:01,  1.28it/s]\u001b[A\n",
            "Refining scale 2 using scale 1 ...current loss: 0.0301:  87% 13/15 [00:10<00:01,  1.28it/s]\u001b[A\n",
            "Refining scale 2 using scale 1 ...current loss: 0.0301:  93% 14/15 [00:10<00:00,  1.28it/s]\u001b[A\n",
            "Refining scale 2 using scale 1 ...current loss: 0.0294:  93% 14/15 [00:11<00:00,  1.28it/s]\u001b[A\n",
            "Refining scale 2 using scale 1 ...current loss: 0.0294: 100% 15/15 [00:11<00:00,  1.42it/s]\u001b[A\n",
            " 98% 730/746 [2:22:30<03:06, 11.67s/it]\n",
            "  0% 0/15 [00:00<?, ?it/s]\u001b[A\n",
            "                          \u001b[A\n",
            "  0% 0/15 [00:00<?, ?it/s]\u001b[A\n",
            "Refining scale 2 using scale 1 ...current loss: 0.0171:   0% 0/15 [00:00<?, ?it/s]\u001b[A\n",
            "Refining scale 2 using scale 1 ...current loss: 0.0171:   7% 1/15 [00:00<00:08,  1.58it/s]\u001b[A\n",
            "Refining scale 2 using scale 1 ...current loss: 0.0192:   7% 1/15 [00:01<00:08,  1.58it/s]\u001b[A\n",
            "Refining scale 2 using scale 1 ...current loss: 0.0192:  13% 2/15 [00:01<00:09,  1.38it/s]\u001b[A\n",
            "Refining scale 2 using scale 1 ...current loss: 0.0185:  13% 2/15 [00:01<00:09,  1.38it/s]\u001b[A\n",
            "Refining scale 2 using scale 1 ...current loss: 0.0185:  20% 3/15 [00:02<00:09,  1.33it/s]\u001b[A\n",
            "Refining scale 2 using scale 1 ...current loss: 0.0169:  20% 3/15 [00:02<00:09,  1.33it/s]\u001b[A\n",
            "Refining scale 2 using scale 1 ...current loss: 0.0169:  27% 4/15 [00:02<00:08,  1.31it/s]\u001b[A\n",
            "Refining scale 2 using scale 1 ...current loss: 0.0152:  27% 4/15 [00:03<00:08,  1.31it/s]\u001b[A\n",
            "Refining scale 2 using scale 1 ...current loss: 0.0152:  33% 5/15 [00:03<00:07,  1.29it/s]\u001b[A\n",
            "Refining scale 2 using scale 1 ...current loss: 0.0131:  33% 5/15 [00:04<00:07,  1.29it/s]\u001b[A\n",
            "Refining scale 2 using scale 1 ...current loss: 0.0131:  40% 6/15 [00:04<00:06,  1.29it/s]\u001b[A\n",
            "Refining scale 2 using scale 1 ...current loss: 0.0111:  40% 6/15 [00:05<00:06,  1.29it/s]\u001b[A\n",
            "Refining scale 2 using scale 1 ...current loss: 0.0111:  47% 7/15 [00:05<00:06,  1.28it/s]\u001b[A\n",
            "Refining scale 2 using scale 1 ...current loss: 0.0105:  47% 7/15 [00:05<00:06,  1.28it/s]\u001b[A\n",
            "Refining scale 2 using scale 1 ...current loss: 0.0105:  53% 8/15 [00:06<00:05,  1.28it/s]\u001b[A\n",
            "Refining scale 2 using scale 1 ...current loss: 0.0091:  53% 8/15 [00:06<00:05,  1.28it/s]\u001b[A\n",
            "Refining scale 2 using scale 1 ...current loss: 0.0091:  60% 9/15 [00:06<00:04,  1.28it/s]\u001b[A\n",
            "Refining scale 2 using scale 1 ...current loss: 0.0091:  60% 9/15 [00:07<00:04,  1.28it/s]\u001b[A\n",
            "Refining scale 2 using scale 1 ...current loss: 0.0091:  67% 10/15 [00:07<00:03,  1.28it/s]\u001b[A\n",
            "Refining scale 2 using scale 1 ...current loss: 0.0090:  67% 10/15 [00:08<00:03,  1.28it/s]\u001b[A\n",
            "Refining scale 2 using scale 1 ...current loss: 0.0090:  73% 11/15 [00:08<00:03,  1.28it/s]\u001b[A\n",
            "Refining scale 2 using scale 1 ...current loss: 0.0086:  73% 11/15 [00:09<00:03,  1.28it/s]\u001b[A\n",
            "Refining scale 2 using scale 1 ...current loss: 0.0086:  80% 12/15 [00:09<00:02,  1.27it/s]\u001b[A\n",
            "Refining scale 2 using scale 1 ...current loss: 0.0086:  80% 12/15 [00:09<00:02,  1.27it/s]\u001b[A\n",
            "Refining scale 2 using scale 1 ...current loss: 0.0086:  87% 13/15 [00:10<00:01,  1.28it/s]\u001b[A\n",
            "Refining scale 2 using scale 1 ...current loss: 0.0080:  87% 13/15 [00:10<00:01,  1.28it/s]\u001b[A\n",
            "Refining scale 2 using scale 1 ...current loss: 0.0080:  93% 14/15 [00:10<00:00,  1.28it/s]\u001b[A\n",
            "Refining scale 2 using scale 1 ...current loss: 0.0081:  93% 14/15 [00:11<00:00,  1.28it/s]\u001b[A\n",
            "Refining scale 2 using scale 1 ...current loss: 0.0081: 100% 15/15 [00:11<00:00,  1.42it/s]\u001b[A\n",
            " 98% 731/746 [2:22:42<02:54, 11.66s/it]\n",
            "  0% 0/15 [00:00<?, ?it/s]\u001b[A\n",
            "                          \u001b[A\n",
            "  0% 0/15 [00:00<?, ?it/s]\u001b[A\n",
            "Refining scale 2 using scale 1 ...current loss: 0.0957:   0% 0/15 [00:00<?, ?it/s]\u001b[A\n",
            "Refining scale 2 using scale 1 ...current loss: 0.0957:   7% 1/15 [00:00<00:08,  1.58it/s]\u001b[A\n",
            "Refining scale 2 using scale 1 ...current loss: 0.0760:   7% 1/15 [00:01<00:08,  1.58it/s]\u001b[A\n",
            "Refining scale 2 using scale 1 ...current loss: 0.0760:  13% 2/15 [00:01<00:09,  1.38it/s]\u001b[A\n",
            "Refining scale 2 using scale 1 ...current loss: 0.0627:  13% 2/15 [00:01<00:09,  1.38it/s]\u001b[A\n",
            "Refining scale 2 using scale 1 ...current loss: 0.0627:  20% 3/15 [00:02<00:08,  1.34it/s]\u001b[A\n",
            "Refining scale 2 using scale 1 ...current loss: 0.0537:  20% 3/15 [00:02<00:08,  1.34it/s]\u001b[A\n",
            "Refining scale 2 using scale 1 ...current loss: 0.0537:  27% 4/15 [00:02<00:08,  1.31it/s]\u001b[A\n",
            "Refining scale 2 using scale 1 ...current loss: 0.0479:  27% 4/15 [00:03<00:08,  1.31it/s]\u001b[A\n",
            "Refining scale 2 using scale 1 ...current loss: 0.0479:  33% 5/15 [00:03<00:07,  1.30it/s]\u001b[A\n",
            "Refining scale 2 using scale 1 ...current loss: 0.0430:  33% 5/15 [00:04<00:07,  1.30it/s]\u001b[A\n",
            "Refining scale 2 using scale 1 ...current loss: 0.0430:  40% 6/15 [00:04<00:06,  1.29it/s]\u001b[A\n",
            "Refining scale 2 using scale 1 ...current loss: 0.0403:  40% 6/15 [00:05<00:06,  1.29it/s]\u001b[A\n",
            "Refining scale 2 using scale 1 ...current loss: 0.0403:  47% 7/15 [00:05<00:06,  1.29it/s]\u001b[A\n",
            "Refining scale 2 using scale 1 ...current loss: 0.0377:  47% 7/15 [00:05<00:06,  1.29it/s]\u001b[A\n",
            "Refining scale 2 using scale 1 ...current loss: 0.0377:  53% 8/15 [00:06<00:05,  1.28it/s]\u001b[A\n",
            "Refining scale 2 using scale 1 ...current loss: 0.0360:  53% 8/15 [00:06<00:05,  1.28it/s]\u001b[A\n",
            "Refining scale 2 using scale 1 ...current loss: 0.0360:  60% 9/15 [00:06<00:04,  1.28it/s]\u001b[A\n",
            "Refining scale 2 using scale 1 ...current loss: 0.0338:  60% 9/15 [00:07<00:04,  1.28it/s]\u001b[A\n",
            "Refining scale 2 using scale 1 ...current loss: 0.0338:  67% 10/15 [00:07<00:03,  1.28it/s]\u001b[A\n",
            "Refining scale 2 using scale 1 ...current loss: 0.0328:  67% 10/15 [00:08<00:03,  1.28it/s]\u001b[A\n",
            "Refining scale 2 using scale 1 ...current loss: 0.0328:  73% 11/15 [00:08<00:03,  1.27it/s]\u001b[A\n",
            "Refining scale 2 using scale 1 ...current loss: 0.0318:  73% 11/15 [00:09<00:03,  1.27it/s]\u001b[A\n",
            "Refining scale 2 using scale 1 ...current loss: 0.0318:  80% 12/15 [00:09<00:02,  1.27it/s]\u001b[A\n",
            "Refining scale 2 using scale 1 ...current loss: 0.0310:  80% 12/15 [00:09<00:02,  1.27it/s]\u001b[A\n",
            "Refining scale 2 using scale 1 ...current loss: 0.0310:  87% 13/15 [00:10<00:01,  1.27it/s]\u001b[A\n",
            "Refining scale 2 using scale 1 ...current loss: 0.0302:  87% 13/15 [00:10<00:01,  1.27it/s]\u001b[A\n",
            "Refining scale 2 using scale 1 ...current loss: 0.0302:  93% 14/15 [00:10<00:00,  1.27it/s]\u001b[A\n",
            "Refining scale 2 using scale 1 ...current loss: 0.0294:  93% 14/15 [00:11<00:00,  1.27it/s]\u001b[A\n",
            "Refining scale 2 using scale 1 ...current loss: 0.0294: 100% 15/15 [00:11<00:00,  1.41it/s]\u001b[A\n",
            " 98% 732/746 [2:22:53<02:43, 11.66s/it]\n",
            "  0% 0/15 [00:00<?, ?it/s]\u001b[A\n",
            "                          \u001b[A\n",
            "  0% 0/15 [00:00<?, ?it/s]\u001b[A\n",
            "Refining scale 2 using scale 1 ...current loss: 0.0386:   0% 0/15 [00:00<?, ?it/s]\u001b[A\n",
            "Refining scale 2 using scale 1 ...current loss: 0.0386:   7% 1/15 [00:00<00:08,  1.58it/s]\u001b[A\n",
            "Refining scale 2 using scale 1 ...current loss: 0.0321:   7% 1/15 [00:01<00:08,  1.58it/s]\u001b[A\n",
            "Refining scale 2 using scale 1 ...current loss: 0.0321:  13% 2/15 [00:01<00:09,  1.38it/s]\u001b[A\n",
            "Refining scale 2 using scale 1 ...current loss: 0.0286:  13% 2/15 [00:01<00:09,  1.38it/s]\u001b[A\n",
            "Refining scale 2 using scale 1 ...current loss: 0.0286:  20% 3/15 [00:02<00:09,  1.33it/s]\u001b[A\n",
            "Refining scale 2 using scale 1 ...current loss: 0.0287:  20% 3/15 [00:02<00:09,  1.33it/s]\u001b[A\n",
            "Refining scale 2 using scale 1 ...current loss: 0.0287:  27% 4/15 [00:02<00:08,  1.31it/s]\u001b[A\n",
            "Refining scale 2 using scale 1 ...current loss: 0.0263:  27% 4/15 [00:03<00:08,  1.31it/s]\u001b[A\n",
            "Refining scale 2 using scale 1 ...current loss: 0.0263:  33% 5/15 [00:03<00:07,  1.30it/s]\u001b[A\n",
            "Refining scale 2 using scale 1 ...current loss: 0.0257:  33% 5/15 [00:04<00:07,  1.30it/s]\u001b[A\n",
            "Refining scale 2 using scale 1 ...current loss: 0.0257:  40% 6/15 [00:04<00:06,  1.29it/s]\u001b[A\n",
            "Refining scale 2 using scale 1 ...current loss: 0.0238:  40% 6/15 [00:05<00:06,  1.29it/s]\u001b[A\n",
            "Refining scale 2 using scale 1 ...current loss: 0.0238:  47% 7/15 [00:05<00:06,  1.29it/s]\u001b[A\n",
            "Refining scale 2 using scale 1 ...current loss: 0.0223:  47% 7/15 [00:05<00:06,  1.29it/s]\u001b[A\n",
            "Refining scale 2 using scale 1 ...current loss: 0.0223:  53% 8/15 [00:06<00:05,  1.28it/s]\u001b[A\n",
            "Refining scale 2 using scale 1 ...current loss: 0.0219:  53% 8/15 [00:06<00:05,  1.28it/s]\u001b[A\n",
            "Refining scale 2 using scale 1 ...current loss: 0.0219:  60% 9/15 [00:06<00:04,  1.28it/s]\u001b[A\n",
            "Refining scale 2 using scale 1 ...current loss: 0.0210:  60% 9/15 [00:07<00:04,  1.28it/s]\u001b[A\n",
            "Refining scale 2 using scale 1 ...current loss: 0.0210:  67% 10/15 [00:07<00:03,  1.28it/s]\u001b[A\n",
            "Refining scale 2 using scale 1 ...current loss: 0.0200:  67% 10/15 [00:08<00:03,  1.28it/s]\u001b[A\n",
            "Refining scale 2 using scale 1 ...current loss: 0.0200:  73% 11/15 [00:08<00:03,  1.28it/s]\u001b[A\n",
            "Refining scale 2 using scale 1 ...current loss: 0.0194:  73% 11/15 [00:08<00:03,  1.28it/s]\u001b[A\n",
            "Refining scale 2 using scale 1 ...current loss: 0.0194:  80% 12/15 [00:09<00:02,  1.28it/s]\u001b[A\n",
            "Refining scale 2 using scale 1 ...current loss: 0.0186:  80% 12/15 [00:09<00:02,  1.28it/s]\u001b[A\n",
            "Refining scale 2 using scale 1 ...current loss: 0.0186:  87% 13/15 [00:10<00:01,  1.28it/s]\u001b[A\n",
            "Refining scale 2 using scale 1 ...current loss: 0.0180:  87% 13/15 [00:10<00:01,  1.28it/s]\u001b[A\n",
            "Refining scale 2 using scale 1 ...current loss: 0.0180:  93% 14/15 [00:10<00:00,  1.27it/s]\u001b[A\n",
            "Refining scale 2 using scale 1 ...current loss: 0.0178:  93% 14/15 [00:11<00:00,  1.27it/s]\u001b[A\n",
            "Refining scale 2 using scale 1 ...current loss: 0.0178: 100% 15/15 [00:11<00:00,  1.41it/s]\u001b[A\n",
            " 98% 733/746 [2:23:05<02:31, 11.66s/it]\n",
            "  0% 0/15 [00:00<?, ?it/s]\u001b[A\n",
            "                          \u001b[A\n",
            "  0% 0/15 [00:00<?, ?it/s]\u001b[A\n",
            "Refining scale 2 using scale 1 ...current loss: nan:   0% 0/15 [00:00<?, ?it/s]\u001b[A\n",
            "Refining scale 2 using scale 1 ...current loss: nan:   7% 1/15 [00:00<00:08,  1.57it/s]\u001b[A\n",
            "Refining scale 2 using scale 1 ...current loss: nan:   7% 1/15 [00:01<00:08,  1.57it/s]\u001b[A\n",
            "Refining scale 2 using scale 1 ...current loss: nan:  13% 2/15 [00:01<00:09,  1.37it/s]\u001b[A\n",
            "Refining scale 2 using scale 1 ...current loss: nan:  13% 2/15 [00:01<00:09,  1.37it/s]\u001b[A\n",
            "Refining scale 2 using scale 1 ...current loss: nan:  20% 3/15 [00:02<00:09,  1.32it/s]\u001b[A\n",
            "Refining scale 2 using scale 1 ...current loss: nan:  20% 3/15 [00:02<00:09,  1.32it/s]\u001b[A\n",
            "Refining scale 2 using scale 1 ...current loss: nan:  27% 4/15 [00:02<00:08,  1.30it/s]\u001b[A\n",
            "Refining scale 2 using scale 1 ...current loss: nan:  27% 4/15 [00:03<00:08,  1.30it/s]\u001b[A\n",
            "Refining scale 2 using scale 1 ...current loss: nan:  33% 5/15 [00:03<00:07,  1.30it/s]\u001b[A\n",
            "Refining scale 2 using scale 1 ...current loss: nan:  33% 5/15 [00:04<00:07,  1.30it/s]\u001b[A\n",
            "Refining scale 2 using scale 1 ...current loss: nan:  40% 6/15 [00:04<00:06,  1.29it/s]\u001b[A\n",
            "Refining scale 2 using scale 1 ...current loss: nan:  40% 6/15 [00:05<00:06,  1.29it/s]\u001b[A\n",
            "Refining scale 2 using scale 1 ...current loss: nan:  47% 7/15 [00:05<00:06,  1.28it/s]\u001b[A\n",
            "Refining scale 2 using scale 1 ...current loss: nan:  47% 7/15 [00:05<00:06,  1.28it/s]\u001b[A\n",
            "Refining scale 2 using scale 1 ...current loss: nan:  53% 8/15 [00:06<00:05,  1.28it/s]\u001b[A\n",
            "Refining scale 2 using scale 1 ...current loss: nan:  53% 8/15 [00:06<00:05,  1.28it/s]\u001b[A\n",
            "Refining scale 2 using scale 1 ...current loss: nan:  60% 9/15 [00:06<00:04,  1.28it/s]\u001b[A\n",
            "Refining scale 2 using scale 1 ...current loss: nan:  60% 9/15 [00:07<00:04,  1.28it/s]\u001b[A\n",
            "Refining scale 2 using scale 1 ...current loss: nan:  67% 10/15 [00:07<00:03,  1.28it/s]\u001b[A\n",
            "Refining scale 2 using scale 1 ...current loss: nan:  67% 10/15 [00:08<00:03,  1.28it/s]\u001b[A\n",
            "Refining scale 2 using scale 1 ...current loss: nan:  73% 11/15 [00:08<00:03,  1.28it/s]\u001b[A\n",
            "Refining scale 2 using scale 1 ...current loss: nan:  73% 11/15 [00:09<00:03,  1.28it/s]\u001b[A\n",
            "Refining scale 2 using scale 1 ...current loss: nan:  80% 12/15 [00:09<00:02,  1.28it/s]\u001b[A\n",
            "Refining scale 2 using scale 1 ...current loss: nan:  80% 12/15 [00:09<00:02,  1.28it/s]\u001b[A\n",
            "Refining scale 2 using scale 1 ...current loss: nan:  87% 13/15 [00:10<00:01,  1.28it/s]\u001b[A\n",
            "Refining scale 2 using scale 1 ...current loss: nan:  87% 13/15 [00:10<00:01,  1.28it/s]\u001b[A\n",
            "Refining scale 2 using scale 1 ...current loss: nan:  93% 14/15 [00:10<00:00,  1.28it/s]\u001b[A\n",
            "Refining scale 2 using scale 1 ...current loss: nan:  93% 14/15 [00:11<00:00,  1.28it/s]\u001b[A\n",
            "Refining scale 2 using scale 1 ...current loss: nan: 100% 15/15 [00:11<00:00,  1.42it/s]\u001b[A\n",
            " 98% 734/746 [2:23:17<02:19, 11.66s/it]\n",
            "  0% 0/15 [00:00<?, ?it/s]\u001b[A\n",
            "                          \u001b[A\n",
            "  0% 0/15 [00:00<?, ?it/s]\u001b[A\n",
            "Refining scale 2 using scale 1 ...current loss: 0.0539:   0% 0/15 [00:00<?, ?it/s]\u001b[A\n",
            "Refining scale 2 using scale 1 ...current loss: 0.0539:   7% 1/15 [00:00<00:08,  1.58it/s]\u001b[A\n",
            "Refining scale 2 using scale 1 ...current loss: 0.0347:   7% 1/15 [00:01<00:08,  1.58it/s]\u001b[A\n",
            "Refining scale 2 using scale 1 ...current loss: 0.0347:  13% 2/15 [00:01<00:09,  1.38it/s]\u001b[A\n",
            "Refining scale 2 using scale 1 ...current loss: 0.0289:  13% 2/15 [00:01<00:09,  1.38it/s]\u001b[A\n",
            "Refining scale 2 using scale 1 ...current loss: 0.0289:  20% 3/15 [00:02<00:09,  1.33it/s]\u001b[A\n",
            "Refining scale 2 using scale 1 ...current loss: 0.0260:  20% 3/15 [00:02<00:09,  1.33it/s]\u001b[A\n",
            "Refining scale 2 using scale 1 ...current loss: 0.0260:  27% 4/15 [00:02<00:08,  1.30it/s]\u001b[A\n",
            "Refining scale 2 using scale 1 ...current loss: 0.0246:  27% 4/15 [00:03<00:08,  1.30it/s]\u001b[A\n",
            "Refining scale 2 using scale 1 ...current loss: 0.0246:  33% 5/15 [00:03<00:07,  1.29it/s]\u001b[A\n",
            "Refining scale 2 using scale 1 ...current loss: 0.0237:  33% 5/15 [00:04<00:07,  1.29it/s]\u001b[A\n",
            "Refining scale 2 using scale 1 ...current loss: 0.0237:  40% 6/15 [00:04<00:07,  1.28it/s]\u001b[A\n",
            "Refining scale 2 using scale 1 ...current loss: 0.0223:  40% 6/15 [00:05<00:07,  1.28it/s]\u001b[A\n",
            "Refining scale 2 using scale 1 ...current loss: 0.0223:  47% 7/15 [00:05<00:06,  1.28it/s]\u001b[A\n",
            "Refining scale 2 using scale 1 ...current loss: 0.0213:  47% 7/15 [00:05<00:06,  1.28it/s]\u001b[A\n",
            "Refining scale 2 using scale 1 ...current loss: 0.0213:  53% 8/15 [00:06<00:05,  1.27it/s]\u001b[A\n",
            "Refining scale 2 using scale 1 ...current loss: 0.0213:  53% 8/15 [00:06<00:05,  1.27it/s]\u001b[A\n",
            "Refining scale 2 using scale 1 ...current loss: 0.0213:  60% 9/15 [00:06<00:04,  1.27it/s]\u001b[A\n",
            "Refining scale 2 using scale 1 ...current loss: 0.0201:  60% 9/15 [00:07<00:04,  1.27it/s]\u001b[A\n",
            "Refining scale 2 using scale 1 ...current loss: 0.0201:  67% 10/15 [00:07<00:03,  1.27it/s]\u001b[A\n",
            "Refining scale 2 using scale 1 ...current loss: 0.0192:  67% 10/15 [00:08<00:03,  1.27it/s]\u001b[A\n",
            "Refining scale 2 using scale 1 ...current loss: 0.0192:  73% 11/15 [00:08<00:03,  1.28it/s]\u001b[A\n",
            "Refining scale 2 using scale 1 ...current loss: 0.0190:  73% 11/15 [00:09<00:03,  1.28it/s]\u001b[A\n",
            "Refining scale 2 using scale 1 ...current loss: 0.0190:  80% 12/15 [00:09<00:02,  1.28it/s]\u001b[A\n",
            "Refining scale 2 using scale 1 ...current loss: 0.0180:  80% 12/15 [00:09<00:02,  1.28it/s]\u001b[A\n",
            "Refining scale 2 using scale 1 ...current loss: 0.0180:  87% 13/15 [00:10<00:01,  1.28it/s]\u001b[A\n",
            "Refining scale 2 using scale 1 ...current loss: 0.0185:  87% 13/15 [00:10<00:01,  1.28it/s]\u001b[A\n",
            "Refining scale 2 using scale 1 ...current loss: 0.0185:  93% 14/15 [00:10<00:00,  1.28it/s]\u001b[A\n",
            "Refining scale 2 using scale 1 ...current loss: 0.0176:  93% 14/15 [00:11<00:00,  1.28it/s]\u001b[A\n",
            "Refining scale 2 using scale 1 ...current loss: 0.0176: 100% 15/15 [00:11<00:00,  1.42it/s]\u001b[A\n",
            " 99% 735/746 [2:23:28<02:08, 11.66s/it]\n",
            "  0% 0/15 [00:00<?, ?it/s]\u001b[A\n",
            "                          \u001b[A\n",
            "  0% 0/15 [00:00<?, ?it/s]\u001b[A\n",
            "Refining scale 2 using scale 1 ...current loss: nan:   0% 0/15 [00:00<?, ?it/s]\u001b[A\n",
            "Refining scale 2 using scale 1 ...current loss: nan:   7% 1/15 [00:00<00:08,  1.58it/s]\u001b[A\n",
            "Refining scale 2 using scale 1 ...current loss: nan:   7% 1/15 [00:01<00:08,  1.58it/s]\u001b[A\n",
            "Refining scale 2 using scale 1 ...current loss: nan:  13% 2/15 [00:01<00:09,  1.38it/s]\u001b[A\n",
            "Refining scale 2 using scale 1 ...current loss: nan:  13% 2/15 [00:01<00:09,  1.38it/s]\u001b[A\n",
            "Refining scale 2 using scale 1 ...current loss: nan:  20% 3/15 [00:02<00:09,  1.33it/s]\u001b[A\n",
            "Refining scale 2 using scale 1 ...current loss: nan:  20% 3/15 [00:02<00:09,  1.33it/s]\u001b[A\n",
            "Refining scale 2 using scale 1 ...current loss: nan:  27% 4/15 [00:02<00:08,  1.31it/s]\u001b[A\n",
            "Refining scale 2 using scale 1 ...current loss: nan:  27% 4/15 [00:03<00:08,  1.31it/s]\u001b[A\n",
            "Refining scale 2 using scale 1 ...current loss: nan:  33% 5/15 [00:03<00:07,  1.30it/s]\u001b[A\n",
            "Refining scale 2 using scale 1 ...current loss: nan:  33% 5/15 [00:04<00:07,  1.30it/s]\u001b[A\n",
            "Refining scale 2 using scale 1 ...current loss: nan:  40% 6/15 [00:04<00:06,  1.29it/s]\u001b[A\n",
            "Refining scale 2 using scale 1 ...current loss: nan:  40% 6/15 [00:05<00:06,  1.29it/s]\u001b[A\n",
            "Refining scale 2 using scale 1 ...current loss: nan:  47% 7/15 [00:05<00:06,  1.28it/s]\u001b[A\n",
            "Refining scale 2 using scale 1 ...current loss: nan:  47% 7/15 [00:05<00:06,  1.28it/s]\u001b[A\n",
            "Refining scale 2 using scale 1 ...current loss: nan:  53% 8/15 [00:06<00:05,  1.28it/s]\u001b[A\n",
            "Refining scale 2 using scale 1 ...current loss: nan:  53% 8/15 [00:06<00:05,  1.28it/s]\u001b[A\n",
            "Refining scale 2 using scale 1 ...current loss: nan:  60% 9/15 [00:06<00:04,  1.28it/s]\u001b[A\n",
            "Refining scale 2 using scale 1 ...current loss: nan:  60% 9/15 [00:07<00:04,  1.28it/s]\u001b[A\n",
            "Refining scale 2 using scale 1 ...current loss: nan:  67% 10/15 [00:07<00:03,  1.27it/s]\u001b[A\n",
            "Refining scale 2 using scale 1 ...current loss: nan:  67% 10/15 [00:08<00:03,  1.27it/s]\u001b[A\n",
            "Refining scale 2 using scale 1 ...current loss: nan:  73% 11/15 [00:08<00:03,  1.27it/s]\u001b[A\n",
            "Refining scale 2 using scale 1 ...current loss: nan:  73% 11/15 [00:09<00:03,  1.27it/s]\u001b[A\n",
            "Refining scale 2 using scale 1 ...current loss: nan:  80% 12/15 [00:09<00:02,  1.27it/s]\u001b[A\n",
            "Refining scale 2 using scale 1 ...current loss: nan:  80% 12/15 [00:09<00:02,  1.27it/s]\u001b[A\n",
            "Refining scale 2 using scale 1 ...current loss: nan:  87% 13/15 [00:10<00:01,  1.27it/s]\u001b[A\n",
            "Refining scale 2 using scale 1 ...current loss: nan:  87% 13/15 [00:10<00:01,  1.27it/s]\u001b[A\n",
            "Refining scale 2 using scale 1 ...current loss: nan:  93% 14/15 [00:10<00:00,  1.27it/s]\u001b[A\n",
            "Refining scale 2 using scale 1 ...current loss: nan:  93% 14/15 [00:11<00:00,  1.27it/s]\u001b[A\n",
            "Refining scale 2 using scale 1 ...current loss: nan: 100% 15/15 [00:11<00:00,  1.42it/s]\u001b[A\n",
            " 99% 736/746 [2:23:40<01:56, 11.66s/it]\n",
            "  0% 0/15 [00:00<?, ?it/s]\u001b[A\n",
            "                          \u001b[A\n",
            "  0% 0/15 [00:00<?, ?it/s]\u001b[A\n",
            "Refining scale 2 using scale 1 ...current loss: nan:   0% 0/15 [00:00<?, ?it/s]\u001b[A\n",
            "Refining scale 2 using scale 1 ...current loss: nan:   7% 1/15 [00:00<00:08,  1.58it/s]\u001b[A\n",
            "Refining scale 2 using scale 1 ...current loss: nan:   7% 1/15 [00:01<00:08,  1.58it/s]\u001b[A\n",
            "Refining scale 2 using scale 1 ...current loss: nan:  13% 2/15 [00:01<00:09,  1.39it/s]\u001b[A\n",
            "Refining scale 2 using scale 1 ...current loss: nan:  13% 2/15 [00:01<00:09,  1.39it/s]\u001b[A\n",
            "Refining scale 2 using scale 1 ...current loss: nan:  20% 3/15 [00:02<00:08,  1.34it/s]\u001b[A\n",
            "Refining scale 2 using scale 1 ...current loss: nan:  20% 3/15 [00:02<00:08,  1.34it/s]\u001b[A\n",
            "Refining scale 2 using scale 1 ...current loss: nan:  27% 4/15 [00:02<00:08,  1.31it/s]\u001b[A\n",
            "Refining scale 2 using scale 1 ...current loss: nan:  27% 4/15 [00:03<00:08,  1.31it/s]\u001b[A\n",
            "Refining scale 2 using scale 1 ...current loss: nan:  33% 5/15 [00:03<00:07,  1.30it/s]\u001b[A\n",
            "Refining scale 2 using scale 1 ...current loss: nan:  33% 5/15 [00:04<00:07,  1.30it/s]\u001b[A\n",
            "Refining scale 2 using scale 1 ...current loss: nan:  40% 6/15 [00:04<00:06,  1.29it/s]\u001b[A\n",
            "Refining scale 2 using scale 1 ...current loss: nan:  40% 6/15 [00:05<00:06,  1.29it/s]\u001b[A\n",
            "Refining scale 2 using scale 1 ...current loss: nan:  47% 7/15 [00:05<00:06,  1.28it/s]\u001b[A\n",
            "Refining scale 2 using scale 1 ...current loss: nan:  47% 7/15 [00:05<00:06,  1.28it/s]\u001b[A\n",
            "Refining scale 2 using scale 1 ...current loss: nan:  53% 8/15 [00:06<00:05,  1.28it/s]\u001b[A\n",
            "Refining scale 2 using scale 1 ...current loss: nan:  53% 8/15 [00:06<00:05,  1.28it/s]\u001b[A\n",
            "Refining scale 2 using scale 1 ...current loss: nan:  60% 9/15 [00:06<00:04,  1.28it/s]\u001b[A\n",
            "Refining scale 2 using scale 1 ...current loss: nan:  60% 9/15 [00:07<00:04,  1.28it/s]\u001b[A\n",
            "Refining scale 2 using scale 1 ...current loss: nan:  67% 10/15 [00:07<00:03,  1.28it/s]\u001b[A\n",
            "Refining scale 2 using scale 1 ...current loss: nan:  67% 10/15 [00:08<00:03,  1.28it/s]\u001b[A\n",
            "Refining scale 2 using scale 1 ...current loss: nan:  73% 11/15 [00:08<00:03,  1.28it/s]\u001b[A\n",
            "Refining scale 2 using scale 1 ...current loss: nan:  73% 11/15 [00:08<00:03,  1.28it/s]\u001b[A\n",
            "Refining scale 2 using scale 1 ...current loss: nan:  80% 12/15 [00:09<00:02,  1.27it/s]\u001b[A\n",
            "Refining scale 2 using scale 1 ...current loss: nan:  80% 12/15 [00:09<00:02,  1.27it/s]\u001b[A\n",
            "Refining scale 2 using scale 1 ...current loss: nan:  87% 13/15 [00:10<00:01,  1.27it/s]\u001b[A\n",
            "Refining scale 2 using scale 1 ...current loss: nan:  87% 13/15 [00:10<00:01,  1.27it/s]\u001b[A\n",
            "Refining scale 2 using scale 1 ...current loss: nan:  93% 14/15 [00:10<00:00,  1.27it/s]\u001b[A\n",
            "Refining scale 2 using scale 1 ...current loss: nan:  93% 14/15 [00:11<00:00,  1.27it/s]\u001b[A\n",
            "Refining scale 2 using scale 1 ...current loss: nan: 100% 15/15 [00:11<00:00,  1.41it/s]\u001b[A\n",
            " 99% 737/746 [2:23:52<01:44, 11.66s/it]\n",
            "  0% 0/15 [00:00<?, ?it/s]\u001b[A\n",
            "                          \u001b[A\n",
            "  0% 0/15 [00:00<?, ?it/s]\u001b[A\n",
            "Refining scale 2 using scale 1 ...current loss: nan:   0% 0/15 [00:00<?, ?it/s]\u001b[A\n",
            "Refining scale 2 using scale 1 ...current loss: nan:   7% 1/15 [00:00<00:09,  1.54it/s]\u001b[A\n",
            "Refining scale 2 using scale 1 ...current loss: nan:   7% 1/15 [00:01<00:09,  1.54it/s]\u001b[A\n",
            "Refining scale 2 using scale 1 ...current loss: nan:  13% 2/15 [00:01<00:09,  1.37it/s]\u001b[A\n",
            "Refining scale 2 using scale 1 ...current loss: nan:  13% 2/15 [00:01<00:09,  1.37it/s]\u001b[A\n",
            "Refining scale 2 using scale 1 ...current loss: nan:  20% 3/15 [00:02<00:09,  1.32it/s]\u001b[A\n",
            "Refining scale 2 using scale 1 ...current loss: nan:  20% 3/15 [00:02<00:09,  1.32it/s]\u001b[A\n",
            "Refining scale 2 using scale 1 ...current loss: nan:  27% 4/15 [00:03<00:08,  1.30it/s]\u001b[A\n",
            "Refining scale 2 using scale 1 ...current loss: nan:  27% 4/15 [00:03<00:08,  1.30it/s]\u001b[A\n",
            "Refining scale 2 using scale 1 ...current loss: nan:  33% 5/15 [00:03<00:07,  1.30it/s]\u001b[A\n",
            "Refining scale 2 using scale 1 ...current loss: nan:  33% 5/15 [00:04<00:07,  1.30it/s]\u001b[A\n",
            "Refining scale 2 using scale 1 ...current loss: nan:  40% 6/15 [00:04<00:06,  1.29it/s]\u001b[A\n",
            "Refining scale 2 using scale 1 ...current loss: nan:  40% 6/15 [00:05<00:06,  1.29it/s]\u001b[A\n",
            "Refining scale 2 using scale 1 ...current loss: nan:  47% 7/15 [00:05<00:06,  1.29it/s]\u001b[A\n",
            "Refining scale 2 using scale 1 ...current loss: nan:  47% 7/15 [00:05<00:06,  1.29it/s]\u001b[A\n",
            "Refining scale 2 using scale 1 ...current loss: nan:  53% 8/15 [00:06<00:05,  1.28it/s]\u001b[A\n",
            "Refining scale 2 using scale 1 ...current loss: nan:  53% 8/15 [00:06<00:05,  1.28it/s]\u001b[A\n",
            "Refining scale 2 using scale 1 ...current loss: nan:  60% 9/15 [00:06<00:04,  1.28it/s]\u001b[A\n",
            "Refining scale 2 using scale 1 ...current loss: nan:  60% 9/15 [00:07<00:04,  1.28it/s]\u001b[A\n",
            "Refining scale 2 using scale 1 ...current loss: nan:  67% 10/15 [00:07<00:03,  1.28it/s]\u001b[A\n",
            "Refining scale 2 using scale 1 ...current loss: nan:  67% 10/15 [00:08<00:03,  1.28it/s]\u001b[A\n",
            "Refining scale 2 using scale 1 ...current loss: nan:  73% 11/15 [00:08<00:03,  1.28it/s]\u001b[A\n",
            "Refining scale 2 using scale 1 ...current loss: nan:  73% 11/15 [00:09<00:03,  1.28it/s]\u001b[A\n",
            "Refining scale 2 using scale 1 ...current loss: nan:  80% 12/15 [00:09<00:02,  1.27it/s]\u001b[A\n",
            "Refining scale 2 using scale 1 ...current loss: nan:  80% 12/15 [00:09<00:02,  1.27it/s]\u001b[A\n",
            "Refining scale 2 using scale 1 ...current loss: nan:  87% 13/15 [00:10<00:01,  1.27it/s]\u001b[A\n",
            "Refining scale 2 using scale 1 ...current loss: nan:  87% 13/15 [00:10<00:01,  1.27it/s]\u001b[A\n",
            "Refining scale 2 using scale 1 ...current loss: nan:  93% 14/15 [00:10<00:00,  1.27it/s]\u001b[A\n",
            "Refining scale 2 using scale 1 ...current loss: nan:  93% 14/15 [00:11<00:00,  1.27it/s]\u001b[A\n",
            "Refining scale 2 using scale 1 ...current loss: nan: 100% 15/15 [00:11<00:00,  1.42it/s]\u001b[A\n",
            " 99% 738/746 [2:24:03<01:33, 11.67s/it]\n",
            "  0% 0/15 [00:00<?, ?it/s]\u001b[A\n",
            "                          \u001b[A\n",
            "  0% 0/15 [00:00<?, ?it/s]\u001b[A\n",
            "Refining scale 2 using scale 1 ...current loss: 0.0804:   0% 0/15 [00:00<?, ?it/s]\u001b[A\n",
            "Refining scale 2 using scale 1 ...current loss: 0.0804:   7% 1/15 [00:00<00:08,  1.58it/s]\u001b[A\n",
            "Refining scale 2 using scale 1 ...current loss: 0.0613:   7% 1/15 [00:01<00:08,  1.58it/s]\u001b[A\n",
            "Refining scale 2 using scale 1 ...current loss: 0.0613:  13% 2/15 [00:01<00:09,  1.38it/s]\u001b[A\n",
            "Refining scale 2 using scale 1 ...current loss: 0.0576:  13% 2/15 [00:01<00:09,  1.38it/s]\u001b[A\n",
            "Refining scale 2 using scale 1 ...current loss: 0.0576:  20% 3/15 [00:02<00:09,  1.32it/s]\u001b[A\n",
            "Refining scale 2 using scale 1 ...current loss: 0.0530:  20% 3/15 [00:02<00:09,  1.32it/s]\u001b[A\n",
            "Refining scale 2 using scale 1 ...current loss: 0.0530:  27% 4/15 [00:03<00:08,  1.30it/s]\u001b[A\n",
            "Refining scale 2 using scale 1 ...current loss: 0.0477:  27% 4/15 [00:03<00:08,  1.30it/s]\u001b[A\n",
            "Refining scale 2 using scale 1 ...current loss: 0.0477:  33% 5/15 [00:03<00:07,  1.29it/s]\u001b[A\n",
            "Refining scale 2 using scale 1 ...current loss: 0.0444:  33% 5/15 [00:04<00:07,  1.29it/s]\u001b[A\n",
            "Refining scale 2 using scale 1 ...current loss: 0.0444:  40% 6/15 [00:04<00:06,  1.29it/s]\u001b[A\n",
            "Refining scale 2 using scale 1 ...current loss: 0.0423:  40% 6/15 [00:05<00:06,  1.29it/s]\u001b[A\n",
            "Refining scale 2 using scale 1 ...current loss: 0.0423:  47% 7/15 [00:05<00:06,  1.28it/s]\u001b[A\n",
            "Refining scale 2 using scale 1 ...current loss: 0.0398:  47% 7/15 [00:05<00:06,  1.28it/s]\u001b[A\n",
            "Refining scale 2 using scale 1 ...current loss: 0.0398:  53% 8/15 [00:06<00:05,  1.28it/s]\u001b[A\n",
            "Refining scale 2 using scale 1 ...current loss: 0.0377:  53% 8/15 [00:06<00:05,  1.28it/s]\u001b[A\n",
            "Refining scale 2 using scale 1 ...current loss: 0.0377:  60% 9/15 [00:06<00:04,  1.28it/s]\u001b[A\n",
            "Refining scale 2 using scale 1 ...current loss: 0.0361:  60% 9/15 [00:07<00:04,  1.28it/s]\u001b[A\n",
            "Refining scale 2 using scale 1 ...current loss: 0.0361:  67% 10/15 [00:07<00:03,  1.28it/s]\u001b[A\n",
            "Refining scale 2 using scale 1 ...current loss: 0.0348:  67% 10/15 [00:08<00:03,  1.28it/s]\u001b[A\n",
            "Refining scale 2 using scale 1 ...current loss: 0.0348:  73% 11/15 [00:08<00:03,  1.28it/s]\u001b[A\n",
            "Refining scale 2 using scale 1 ...current loss: 0.0334:  73% 11/15 [00:09<00:03,  1.28it/s]\u001b[A\n",
            "Refining scale 2 using scale 1 ...current loss: 0.0334:  80% 12/15 [00:09<00:02,  1.28it/s]\u001b[A\n",
            "Refining scale 2 using scale 1 ...current loss: 0.0320:  80% 12/15 [00:09<00:02,  1.28it/s]\u001b[A\n",
            "Refining scale 2 using scale 1 ...current loss: 0.0320:  87% 13/15 [00:10<00:01,  1.28it/s]\u001b[A\n",
            "Refining scale 2 using scale 1 ...current loss: 0.0310:  87% 13/15 [00:10<00:01,  1.28it/s]\u001b[A\n",
            "Refining scale 2 using scale 1 ...current loss: 0.0310:  93% 14/15 [00:10<00:00,  1.28it/s]\u001b[A\n",
            "Refining scale 2 using scale 1 ...current loss: 0.0298:  93% 14/15 [00:11<00:00,  1.28it/s]\u001b[A\n",
            "Refining scale 2 using scale 1 ...current loss: 0.0298: 100% 15/15 [00:11<00:00,  1.42it/s]\u001b[A\n",
            " 99% 739/746 [2:24:15<01:21, 11.67s/it]\n",
            "  0% 0/15 [00:00<?, ?it/s]\u001b[A\n",
            "                          \u001b[A\n",
            "  0% 0/15 [00:00<?, ?it/s]\u001b[A\n",
            "Refining scale 2 using scale 1 ...current loss: nan:   0% 0/15 [00:00<?, ?it/s]\u001b[A\n",
            "Refining scale 2 using scale 1 ...current loss: nan:   7% 1/15 [00:00<00:08,  1.58it/s]\u001b[A\n",
            "Refining scale 2 using scale 1 ...current loss: nan:   7% 1/15 [00:01<00:08,  1.58it/s]\u001b[A\n",
            "Refining scale 2 using scale 1 ...current loss: nan:  13% 2/15 [00:01<00:09,  1.38it/s]\u001b[A\n",
            "Refining scale 2 using scale 1 ...current loss: nan:  13% 2/15 [00:01<00:09,  1.38it/s]\u001b[A\n",
            "Refining scale 2 using scale 1 ...current loss: nan:  20% 3/15 [00:02<00:08,  1.33it/s]\u001b[A\n",
            "Refining scale 2 using scale 1 ...current loss: nan:  20% 3/15 [00:02<00:08,  1.33it/s]\u001b[A\n",
            "Refining scale 2 using scale 1 ...current loss: nan:  27% 4/15 [00:02<00:08,  1.31it/s]\u001b[A\n",
            "Refining scale 2 using scale 1 ...current loss: nan:  27% 4/15 [00:03<00:08,  1.31it/s]\u001b[A\n",
            "Refining scale 2 using scale 1 ...current loss: nan:  33% 5/15 [00:03<00:07,  1.30it/s]\u001b[A\n",
            "Refining scale 2 using scale 1 ...current loss: nan:  33% 5/15 [00:04<00:07,  1.30it/s]\u001b[A\n",
            "Refining scale 2 using scale 1 ...current loss: nan:  40% 6/15 [00:04<00:06,  1.29it/s]\u001b[A\n",
            "Refining scale 2 using scale 1 ...current loss: nan:  40% 6/15 [00:05<00:06,  1.29it/s]\u001b[A\n",
            "Refining scale 2 using scale 1 ...current loss: nan:  47% 7/15 [00:05<00:06,  1.28it/s]\u001b[A\n",
            "Refining scale 2 using scale 1 ...current loss: nan:  47% 7/15 [00:05<00:06,  1.28it/s]\u001b[A\n",
            "Refining scale 2 using scale 1 ...current loss: nan:  53% 8/15 [00:06<00:05,  1.28it/s]\u001b[A\n",
            "Refining scale 2 using scale 1 ...current loss: nan:  53% 8/15 [00:06<00:05,  1.28it/s]\u001b[A\n",
            "Refining scale 2 using scale 1 ...current loss: nan:  60% 9/15 [00:06<00:04,  1.27it/s]\u001b[A\n",
            "Refining scale 2 using scale 1 ...current loss: nan:  60% 9/15 [00:07<00:04,  1.27it/s]\u001b[A\n",
            "Refining scale 2 using scale 1 ...current loss: nan:  67% 10/15 [00:07<00:03,  1.27it/s]\u001b[A\n",
            "Refining scale 2 using scale 1 ...current loss: nan:  67% 10/15 [00:08<00:03,  1.27it/s]\u001b[A\n",
            "Refining scale 2 using scale 1 ...current loss: nan:  73% 11/15 [00:08<00:03,  1.27it/s]\u001b[A\n",
            "Refining scale 2 using scale 1 ...current loss: nan:  73% 11/15 [00:09<00:03,  1.27it/s]\u001b[A\n",
            "Refining scale 2 using scale 1 ...current loss: nan:  80% 12/15 [00:09<00:02,  1.27it/s]\u001b[A\n",
            "Refining scale 2 using scale 1 ...current loss: nan:  80% 12/15 [00:09<00:02,  1.27it/s]\u001b[A\n",
            "Refining scale 2 using scale 1 ...current loss: nan:  87% 13/15 [00:10<00:01,  1.27it/s]\u001b[A\n",
            "Refining scale 2 using scale 1 ...current loss: nan:  87% 13/15 [00:10<00:01,  1.27it/s]\u001b[A\n",
            "Refining scale 2 using scale 1 ...current loss: nan:  93% 14/15 [00:10<00:00,  1.27it/s]\u001b[A\n",
            "Refining scale 2 using scale 1 ...current loss: nan:  93% 14/15 [00:11<00:00,  1.27it/s]\u001b[A\n",
            "Refining scale 2 using scale 1 ...current loss: nan: 100% 15/15 [00:11<00:00,  1.42it/s]\u001b[A\n",
            " 99% 740/746 [2:24:27<01:09, 11.66s/it]\n",
            "  0% 0/15 [00:00<?, ?it/s]\u001b[A\n",
            "                          \u001b[A\n",
            "  0% 0/15 [00:00<?, ?it/s]\u001b[A\n",
            "Refining scale 2 using scale 1 ...current loss: 0.0297:   0% 0/15 [00:00<?, ?it/s]\u001b[A\n",
            "Refining scale 2 using scale 1 ...current loss: 0.0297:   7% 1/15 [00:00<00:08,  1.57it/s]\u001b[A\n",
            "Refining scale 2 using scale 1 ...current loss: 0.0128:   7% 1/15 [00:01<00:08,  1.57it/s]\u001b[A\n",
            "Refining scale 2 using scale 1 ...current loss: 0.0128:  13% 2/15 [00:01<00:09,  1.38it/s]\u001b[A\n",
            "Refining scale 2 using scale 1 ...current loss: 0.0122:  13% 2/15 [00:01<00:09,  1.38it/s]\u001b[A\n",
            "Refining scale 2 using scale 1 ...current loss: 0.0122:  20% 3/15 [00:02<00:09,  1.33it/s]\u001b[A\n",
            "Refining scale 2 using scale 1 ...current loss: 0.0117:  20% 3/15 [00:02<00:09,  1.33it/s]\u001b[A\n",
            "Refining scale 2 using scale 1 ...current loss: 0.0117:  27% 4/15 [00:02<00:08,  1.31it/s]\u001b[A\n",
            "Refining scale 2 using scale 1 ...current loss: 0.0113:  27% 4/15 [00:03<00:08,  1.31it/s]\u001b[A\n",
            "Refining scale 2 using scale 1 ...current loss: 0.0113:  33% 5/15 [00:03<00:07,  1.30it/s]\u001b[A\n",
            "Refining scale 2 using scale 1 ...current loss: 0.0108:  33% 5/15 [00:04<00:07,  1.30it/s]\u001b[A\n",
            "Refining scale 2 using scale 1 ...current loss: 0.0108:  40% 6/15 [00:04<00:06,  1.29it/s]\u001b[A\n",
            "Refining scale 2 using scale 1 ...current loss: 0.0101:  40% 6/15 [00:05<00:06,  1.29it/s]\u001b[A\n",
            "Refining scale 2 using scale 1 ...current loss: 0.0101:  47% 7/15 [00:05<00:06,  1.29it/s]\u001b[A\n",
            "Refining scale 2 using scale 1 ...current loss: 0.0095:  47% 7/15 [00:05<00:06,  1.29it/s]\u001b[A\n",
            "Refining scale 2 using scale 1 ...current loss: 0.0095:  53% 8/15 [00:06<00:05,  1.28it/s]\u001b[A\n",
            "Refining scale 2 using scale 1 ...current loss: 0.0092:  53% 8/15 [00:06<00:05,  1.28it/s]\u001b[A\n",
            "Refining scale 2 using scale 1 ...current loss: 0.0092:  60% 9/15 [00:06<00:04,  1.28it/s]\u001b[A\n",
            "Refining scale 2 using scale 1 ...current loss: 0.0090:  60% 9/15 [00:07<00:04,  1.28it/s]\u001b[A\n",
            "Refining scale 2 using scale 1 ...current loss: 0.0090:  67% 10/15 [00:07<00:03,  1.28it/s]\u001b[A\n",
            "Refining scale 2 using scale 1 ...current loss: 0.0088:  67% 10/15 [00:08<00:03,  1.28it/s]\u001b[A\n",
            "Refining scale 2 using scale 1 ...current loss: 0.0088:  73% 11/15 [00:08<00:03,  1.28it/s]\u001b[A\n",
            "Refining scale 2 using scale 1 ...current loss: 0.0085:  73% 11/15 [00:08<00:03,  1.28it/s]\u001b[A\n",
            "Refining scale 2 using scale 1 ...current loss: 0.0085:  80% 12/15 [00:09<00:02,  1.28it/s]\u001b[A\n",
            "Refining scale 2 using scale 1 ...current loss: 0.0083:  80% 12/15 [00:09<00:02,  1.28it/s]\u001b[A\n",
            "Refining scale 2 using scale 1 ...current loss: 0.0083:  87% 13/15 [00:10<00:01,  1.27it/s]\u001b[A\n",
            "Refining scale 2 using scale 1 ...current loss: 0.0082:  87% 13/15 [00:10<00:01,  1.27it/s]\u001b[A\n",
            "Refining scale 2 using scale 1 ...current loss: 0.0082:  93% 14/15 [00:10<00:00,  1.27it/s]\u001b[A\n",
            "Refining scale 2 using scale 1 ...current loss: 0.0081:  93% 14/15 [00:11<00:00,  1.27it/s]\u001b[A\n",
            "Refining scale 2 using scale 1 ...current loss: 0.0081: 100% 15/15 [00:11<00:00,  1.41it/s]\u001b[A\n",
            " 99% 741/746 [2:24:38<00:58, 11.66s/it]\n",
            "  0% 0/15 [00:00<?, ?it/s]\u001b[A\n",
            "                          \u001b[A\n",
            "  0% 0/15 [00:00<?, ?it/s]\u001b[A\n",
            "Refining scale 2 using scale 1 ...current loss: 0.0937:   0% 0/15 [00:00<?, ?it/s]\u001b[A\n",
            "Refining scale 2 using scale 1 ...current loss: 0.0937:   7% 1/15 [00:00<00:08,  1.57it/s]\u001b[A\n",
            "Refining scale 2 using scale 1 ...current loss: 0.0772:   7% 1/15 [00:01<00:08,  1.57it/s]\u001b[A\n",
            "Refining scale 2 using scale 1 ...current loss: 0.0772:  13% 2/15 [00:01<00:09,  1.38it/s]\u001b[A\n",
            "Refining scale 2 using scale 1 ...current loss: 0.0660:  13% 2/15 [00:01<00:09,  1.38it/s]\u001b[A\n",
            "Refining scale 2 using scale 1 ...current loss: 0.0660:  20% 3/15 [00:02<00:09,  1.33it/s]\u001b[A\n",
            "Refining scale 2 using scale 1 ...current loss: 0.0533:  20% 3/15 [00:02<00:09,  1.33it/s]\u001b[A\n",
            "Refining scale 2 using scale 1 ...current loss: 0.0533:  27% 4/15 [00:02<00:08,  1.31it/s]\u001b[A\n",
            "Refining scale 2 using scale 1 ...current loss: 0.0407:  27% 4/15 [00:03<00:08,  1.31it/s]\u001b[A\n",
            "Refining scale 2 using scale 1 ...current loss: 0.0407:  33% 5/15 [00:03<00:07,  1.30it/s]\u001b[A\n",
            "Refining scale 2 using scale 1 ...current loss: 0.0358:  33% 5/15 [00:04<00:07,  1.30it/s]\u001b[A\n",
            "Refining scale 2 using scale 1 ...current loss: 0.0358:  40% 6/15 [00:04<00:06,  1.29it/s]\u001b[A\n",
            "Refining scale 2 using scale 1 ...current loss: 0.0341:  40% 6/15 [00:05<00:06,  1.29it/s]\u001b[A\n",
            "Refining scale 2 using scale 1 ...current loss: 0.0341:  47% 7/15 [00:05<00:06,  1.29it/s]\u001b[A\n",
            "Refining scale 2 using scale 1 ...current loss: 0.0331:  47% 7/15 [00:05<00:06,  1.29it/s]\u001b[A\n",
            "Refining scale 2 using scale 1 ...current loss: 0.0331:  53% 8/15 [00:06<00:05,  1.28it/s]\u001b[A\n",
            "Refining scale 2 using scale 1 ...current loss: 0.0318:  53% 8/15 [00:06<00:05,  1.28it/s]\u001b[A\n",
            "Refining scale 2 using scale 1 ...current loss: 0.0318:  60% 9/15 [00:06<00:04,  1.28it/s]\u001b[A\n",
            "Refining scale 2 using scale 1 ...current loss: 0.0300:  60% 9/15 [00:07<00:04,  1.28it/s]\u001b[A\n",
            "Refining scale 2 using scale 1 ...current loss: 0.0300:  67% 10/15 [00:07<00:03,  1.28it/s]\u001b[A\n",
            "Refining scale 2 using scale 1 ...current loss: 0.0288:  67% 10/15 [00:08<00:03,  1.28it/s]\u001b[A\n",
            "Refining scale 2 using scale 1 ...current loss: 0.0288:  73% 11/15 [00:08<00:03,  1.28it/s]\u001b[A\n",
            "Refining scale 2 using scale 1 ...current loss: 0.0279:  73% 11/15 [00:08<00:03,  1.28it/s]\u001b[A\n",
            "Refining scale 2 using scale 1 ...current loss: 0.0279:  80% 12/15 [00:09<00:02,  1.28it/s]\u001b[A\n",
            "Refining scale 2 using scale 1 ...current loss: 0.0269:  80% 12/15 [00:09<00:02,  1.28it/s]\u001b[A\n",
            "Refining scale 2 using scale 1 ...current loss: 0.0269:  87% 13/15 [00:10<00:01,  1.28it/s]\u001b[A\n",
            "Refining scale 2 using scale 1 ...current loss: 0.0258:  87% 13/15 [00:10<00:01,  1.28it/s]\u001b[A\n",
            "Refining scale 2 using scale 1 ...current loss: 0.0258:  93% 14/15 [00:10<00:00,  1.28it/s]\u001b[A\n",
            "Refining scale 2 using scale 1 ...current loss: 0.0248:  93% 14/15 [00:11<00:00,  1.28it/s]\u001b[A\n",
            "Refining scale 2 using scale 1 ...current loss: 0.0248: 100% 15/15 [00:11<00:00,  1.42it/s]\u001b[A\n",
            " 99% 742/746 [2:24:50<00:46, 11.67s/it]\n",
            "  0% 0/15 [00:00<?, ?it/s]\u001b[A\n",
            "                          \u001b[A\n",
            "  0% 0/15 [00:00<?, ?it/s]\u001b[A\n",
            "Refining scale 2 using scale 1 ...current loss: 0.0138:   0% 0/15 [00:00<?, ?it/s]\u001b[A\n",
            "Refining scale 2 using scale 1 ...current loss: 0.0138:   7% 1/15 [00:00<00:08,  1.57it/s]\u001b[A\n",
            "Refining scale 2 using scale 1 ...current loss: 0.0144:   7% 1/15 [00:01<00:08,  1.57it/s]\u001b[A\n",
            "Refining scale 2 using scale 1 ...current loss: 0.0144:  13% 2/15 [00:01<00:09,  1.38it/s]\u001b[A\n",
            "Refining scale 2 using scale 1 ...current loss: 0.0119:  13% 2/15 [00:01<00:09,  1.38it/s]\u001b[A\n",
            "Refining scale 2 using scale 1 ...current loss: 0.0119:  20% 3/15 [00:02<00:09,  1.32it/s]\u001b[A\n",
            "Refining scale 2 using scale 1 ...current loss: 0.0102:  20% 3/15 [00:02<00:09,  1.32it/s]\u001b[A\n",
            "Refining scale 2 using scale 1 ...current loss: 0.0102:  27% 4/15 [00:03<00:08,  1.30it/s]\u001b[A\n",
            "Refining scale 2 using scale 1 ...current loss: 0.0096:  27% 4/15 [00:03<00:08,  1.30it/s]\u001b[A\n",
            "Refining scale 2 using scale 1 ...current loss: 0.0096:  33% 5/15 [00:03<00:07,  1.29it/s]\u001b[A\n",
            "Refining scale 2 using scale 1 ...current loss: 0.0094:  33% 5/15 [00:04<00:07,  1.29it/s]\u001b[A\n",
            "Refining scale 2 using scale 1 ...current loss: 0.0094:  40% 6/15 [00:04<00:07,  1.28it/s]\u001b[A\n",
            "Refining scale 2 using scale 1 ...current loss: 0.0087:  40% 6/15 [00:05<00:07,  1.28it/s]\u001b[A\n",
            "Refining scale 2 using scale 1 ...current loss: 0.0087:  47% 7/15 [00:05<00:06,  1.28it/s]\u001b[A\n",
            "Refining scale 2 using scale 1 ...current loss: 0.0080:  47% 7/15 [00:05<00:06,  1.28it/s]\u001b[A\n",
            "Refining scale 2 using scale 1 ...current loss: 0.0080:  53% 8/15 [00:06<00:05,  1.28it/s]\u001b[A\n",
            "Refining scale 2 using scale 1 ...current loss: 0.0078:  53% 8/15 [00:06<00:05,  1.28it/s]\u001b[A\n",
            "Refining scale 2 using scale 1 ...current loss: 0.0078:  60% 9/15 [00:06<00:04,  1.28it/s]\u001b[A\n",
            "Refining scale 2 using scale 1 ...current loss: 0.0075:  60% 9/15 [00:07<00:04,  1.28it/s]\u001b[A\n",
            "Refining scale 2 using scale 1 ...current loss: 0.0075:  67% 10/15 [00:07<00:03,  1.28it/s]\u001b[A\n",
            "Refining scale 2 using scale 1 ...current loss: 0.0071:  67% 10/15 [00:08<00:03,  1.28it/s]\u001b[A\n",
            "Refining scale 2 using scale 1 ...current loss: 0.0071:  73% 11/15 [00:08<00:03,  1.28it/s]\u001b[A\n",
            "Refining scale 2 using scale 1 ...current loss: 0.0068:  73% 11/15 [00:09<00:03,  1.28it/s]\u001b[A\n",
            "Refining scale 2 using scale 1 ...current loss: 0.0068:  80% 12/15 [00:09<00:02,  1.28it/s]\u001b[A\n",
            "Refining scale 2 using scale 1 ...current loss: 0.0067:  80% 12/15 [00:09<00:02,  1.28it/s]\u001b[A\n",
            "Refining scale 2 using scale 1 ...current loss: 0.0067:  87% 13/15 [00:10<00:01,  1.28it/s]\u001b[A\n",
            "Refining scale 2 using scale 1 ...current loss: 0.0064:  87% 13/15 [00:10<00:01,  1.28it/s]\u001b[A\n",
            "Refining scale 2 using scale 1 ...current loss: 0.0064:  93% 14/15 [00:10<00:00,  1.28it/s]\u001b[A\n",
            "Refining scale 2 using scale 1 ...current loss: 0.0062:  93% 14/15 [00:11<00:00,  1.28it/s]\u001b[A\n",
            "Refining scale 2 using scale 1 ...current loss: 0.0062: 100% 15/15 [00:11<00:00,  1.42it/s]\u001b[A\n",
            "100% 743/746 [2:25:02<00:34, 11.66s/it]\n",
            "  0% 0/15 [00:00<?, ?it/s]\u001b[A\n",
            "                          \u001b[A\n",
            "  0% 0/15 [00:00<?, ?it/s]\u001b[A\n",
            "Refining scale 2 using scale 1 ...current loss: nan:   0% 0/15 [00:00<?, ?it/s]\u001b[A\n",
            "Refining scale 2 using scale 1 ...current loss: nan:   7% 1/15 [00:00<00:08,  1.58it/s]\u001b[A\n",
            "Refining scale 2 using scale 1 ...current loss: nan:   7% 1/15 [00:01<00:08,  1.58it/s]\u001b[A\n",
            "Refining scale 2 using scale 1 ...current loss: nan:  13% 2/15 [00:01<00:09,  1.39it/s]\u001b[A\n",
            "Refining scale 2 using scale 1 ...current loss: nan:  13% 2/15 [00:01<00:09,  1.39it/s]\u001b[A\n",
            "Refining scale 2 using scale 1 ...current loss: nan:  20% 3/15 [00:02<00:08,  1.33it/s]\u001b[A\n",
            "Refining scale 2 using scale 1 ...current loss: nan:  20% 3/15 [00:02<00:08,  1.33it/s]\u001b[A\n",
            "Refining scale 2 using scale 1 ...current loss: nan:  27% 4/15 [00:02<00:08,  1.31it/s]\u001b[A\n",
            "Refining scale 2 using scale 1 ...current loss: nan:  27% 4/15 [00:03<00:08,  1.31it/s]\u001b[A\n",
            "Refining scale 2 using scale 1 ...current loss: nan:  33% 5/15 [00:03<00:07,  1.30it/s]\u001b[A\n",
            "Refining scale 2 using scale 1 ...current loss: nan:  33% 5/15 [00:04<00:07,  1.30it/s]\u001b[A\n",
            "Refining scale 2 using scale 1 ...current loss: nan:  40% 6/15 [00:04<00:06,  1.29it/s]\u001b[A\n",
            "Refining scale 2 using scale 1 ...current loss: nan:  40% 6/15 [00:05<00:06,  1.29it/s]\u001b[A\n",
            "Refining scale 2 using scale 1 ...current loss: nan:  47% 7/15 [00:05<00:06,  1.28it/s]\u001b[A\n",
            "Refining scale 2 using scale 1 ...current loss: nan:  47% 7/15 [00:05<00:06,  1.28it/s]\u001b[A\n",
            "Refining scale 2 using scale 1 ...current loss: nan:  53% 8/15 [00:06<00:05,  1.28it/s]\u001b[A\n",
            "Refining scale 2 using scale 1 ...current loss: nan:  53% 8/15 [00:06<00:05,  1.28it/s]\u001b[A\n",
            "Refining scale 2 using scale 1 ...current loss: nan:  60% 9/15 [00:06<00:04,  1.28it/s]\u001b[A\n",
            "Refining scale 2 using scale 1 ...current loss: nan:  60% 9/15 [00:07<00:04,  1.28it/s]\u001b[A\n",
            "Refining scale 2 using scale 1 ...current loss: nan:  67% 10/15 [00:07<00:03,  1.28it/s]\u001b[A\n",
            "Refining scale 2 using scale 1 ...current loss: nan:  67% 10/15 [00:08<00:03,  1.28it/s]\u001b[A\n",
            "Refining scale 2 using scale 1 ...current loss: nan:  73% 11/15 [00:08<00:03,  1.28it/s]\u001b[A\n",
            "Refining scale 2 using scale 1 ...current loss: nan:  73% 11/15 [00:09<00:03,  1.28it/s]\u001b[A\n",
            "Refining scale 2 using scale 1 ...current loss: nan:  80% 12/15 [00:09<00:02,  1.27it/s]\u001b[A\n",
            "Refining scale 2 using scale 1 ...current loss: nan:  80% 12/15 [00:09<00:02,  1.27it/s]\u001b[A\n",
            "Refining scale 2 using scale 1 ...current loss: nan:  87% 13/15 [00:10<00:01,  1.28it/s]\u001b[A\n",
            "Refining scale 2 using scale 1 ...current loss: nan:  87% 13/15 [00:10<00:01,  1.28it/s]\u001b[A\n",
            "Refining scale 2 using scale 1 ...current loss: nan:  93% 14/15 [00:10<00:00,  1.28it/s]\u001b[A\n",
            "Refining scale 2 using scale 1 ...current loss: nan:  93% 14/15 [00:11<00:00,  1.28it/s]\u001b[A\n",
            "Refining scale 2 using scale 1 ...current loss: nan: 100% 15/15 [00:11<00:00,  1.42it/s]\u001b[A\n",
            "100% 744/746 [2:25:13<00:23, 11.64s/it]\n",
            "  0% 0/15 [00:00<?, ?it/s]\u001b[A\n",
            "                          \u001b[A\n",
            "  0% 0/15 [00:00<?, ?it/s]\u001b[A\n",
            "Refining scale 2 using scale 1 ...current loss: 0.0497:   0% 0/15 [00:00<?, ?it/s]\u001b[A\n",
            "Refining scale 2 using scale 1 ...current loss: 0.0497:   7% 1/15 [00:00<00:08,  1.58it/s]\u001b[A\n",
            "Refining scale 2 using scale 1 ...current loss: 0.0333:   7% 1/15 [00:01<00:08,  1.58it/s]\u001b[A\n",
            "Refining scale 2 using scale 1 ...current loss: 0.0333:  13% 2/15 [00:01<00:09,  1.39it/s]\u001b[A\n",
            "Refining scale 2 using scale 1 ...current loss: 0.0211:  13% 2/15 [00:01<00:09,  1.39it/s]\u001b[A\n",
            "Refining scale 2 using scale 1 ...current loss: 0.0211:  20% 3/15 [00:02<00:08,  1.33it/s]\u001b[A\n",
            "Refining scale 2 using scale 1 ...current loss: 0.0159:  20% 3/15 [00:02<00:08,  1.33it/s]\u001b[A\n",
            "Refining scale 2 using scale 1 ...current loss: 0.0159:  27% 4/15 [00:02<00:08,  1.31it/s]\u001b[A\n",
            "Refining scale 2 using scale 1 ...current loss: 0.0158:  27% 4/15 [00:03<00:08,  1.31it/s]\u001b[A\n",
            "Refining scale 2 using scale 1 ...current loss: 0.0158:  33% 5/15 [00:03<00:07,  1.30it/s]\u001b[A\n",
            "Refining scale 2 using scale 1 ...current loss: 0.0140:  33% 5/15 [00:04<00:07,  1.30it/s]\u001b[A\n",
            "Refining scale 2 using scale 1 ...current loss: 0.0140:  40% 6/15 [00:04<00:06,  1.29it/s]\u001b[A\n",
            "Refining scale 2 using scale 1 ...current loss: 0.0126:  40% 6/15 [00:05<00:06,  1.29it/s]\u001b[A\n",
            "Refining scale 2 using scale 1 ...current loss: 0.0126:  47% 7/15 [00:05<00:06,  1.29it/s]\u001b[A\n",
            "Refining scale 2 using scale 1 ...current loss: 0.0122:  47% 7/15 [00:05<00:06,  1.29it/s]\u001b[A\n",
            "Refining scale 2 using scale 1 ...current loss: 0.0122:  53% 8/15 [00:06<00:05,  1.28it/s]\u001b[A\n",
            "Refining scale 2 using scale 1 ...current loss: 0.0120:  53% 8/15 [00:06<00:05,  1.28it/s]\u001b[A\n",
            "Refining scale 2 using scale 1 ...current loss: 0.0120:  60% 9/15 [00:06<00:04,  1.28it/s]\u001b[A\n",
            "Refining scale 2 using scale 1 ...current loss: 0.0117:  60% 9/15 [00:07<00:04,  1.28it/s]\u001b[A\n",
            "Refining scale 2 using scale 1 ...current loss: 0.0117:  67% 10/15 [00:07<00:03,  1.28it/s]\u001b[A\n",
            "Refining scale 2 using scale 1 ...current loss: 0.0113:  67% 10/15 [00:08<00:03,  1.28it/s]\u001b[A\n",
            "Refining scale 2 using scale 1 ...current loss: 0.0113:  73% 11/15 [00:08<00:03,  1.28it/s]\u001b[A\n",
            "Refining scale 2 using scale 1 ...current loss: 0.0108:  73% 11/15 [00:09<00:03,  1.28it/s]\u001b[A\n",
            "Refining scale 2 using scale 1 ...current loss: 0.0108:  80% 12/15 [00:09<00:02,  1.27it/s]\u001b[A\n",
            "Refining scale 2 using scale 1 ...current loss: 0.0105:  80% 12/15 [00:09<00:02,  1.27it/s]\u001b[A\n",
            "Refining scale 2 using scale 1 ...current loss: 0.0105:  87% 13/15 [00:10<00:01,  1.27it/s]\u001b[A\n",
            "Refining scale 2 using scale 1 ...current loss: 0.0104:  87% 13/15 [00:10<00:01,  1.27it/s]\u001b[A\n",
            "Refining scale 2 using scale 1 ...current loss: 0.0104:  93% 14/15 [00:10<00:00,  1.27it/s]\u001b[A\n",
            "Refining scale 2 using scale 1 ...current loss: 0.0102:  93% 14/15 [00:11<00:00,  1.27it/s]\u001b[A\n",
            "Refining scale 2 using scale 1 ...current loss: 0.0102: 100% 15/15 [00:11<00:00,  1.41it/s]\u001b[A\n",
            "100% 745/746 [2:25:25<00:11, 11.64s/it]\n",
            "  0% 0/15 [00:00<?, ?it/s]\u001b[A\n",
            "                          \u001b[A\n",
            "  0% 0/15 [00:00<?, ?it/s]\u001b[A\n",
            "Refining scale 2 using scale 1 ...current loss: 0.0173:   0% 0/15 [00:00<?, ?it/s]\u001b[A\n",
            "Refining scale 2 using scale 1 ...current loss: 0.0173:   7% 1/15 [00:00<00:08,  1.56it/s]\u001b[A\n",
            "Refining scale 2 using scale 1 ...current loss: 0.0164:   7% 1/15 [00:01<00:08,  1.56it/s]\u001b[A\n",
            "Refining scale 2 using scale 1 ...current loss: 0.0164:  13% 2/15 [00:01<00:09,  1.37it/s]\u001b[A\n",
            "Refining scale 2 using scale 1 ...current loss: 0.0149:  13% 2/15 [00:01<00:09,  1.37it/s]\u001b[A\n",
            "Refining scale 2 using scale 1 ...current loss: 0.0149:  20% 3/15 [00:02<00:09,  1.32it/s]\u001b[A\n",
            "Refining scale 2 using scale 1 ...current loss: 0.0133:  20% 3/15 [00:02<00:09,  1.32it/s]\u001b[A\n",
            "Refining scale 2 using scale 1 ...current loss: 0.0133:  27% 4/15 [00:02<00:08,  1.31it/s]\u001b[A\n",
            "Refining scale 2 using scale 1 ...current loss: 0.0119:  27% 4/15 [00:03<00:08,  1.31it/s]\u001b[A\n",
            "Refining scale 2 using scale 1 ...current loss: 0.0119:  33% 5/15 [00:03<00:07,  1.30it/s]\u001b[A\n",
            "Refining scale 2 using scale 1 ...current loss: 0.0119:  33% 5/15 [00:04<00:07,  1.30it/s]\u001b[A\n",
            "Refining scale 2 using scale 1 ...current loss: 0.0119:  40% 6/15 [00:04<00:06,  1.29it/s]\u001b[A\n",
            "Refining scale 2 using scale 1 ...current loss: 0.0115:  40% 6/15 [00:05<00:06,  1.29it/s]\u001b[A\n",
            "Refining scale 2 using scale 1 ...current loss: 0.0115:  47% 7/15 [00:05<00:06,  1.28it/s]\u001b[A\n",
            "Refining scale 2 using scale 1 ...current loss: 0.0106:  47% 7/15 [00:05<00:06,  1.28it/s]\u001b[A\n",
            "Refining scale 2 using scale 1 ...current loss: 0.0106:  53% 8/15 [00:06<00:05,  1.28it/s]\u001b[A\n",
            "Refining scale 2 using scale 1 ...current loss: 0.0098:  53% 8/15 [00:06<00:05,  1.28it/s]\u001b[A\n",
            "Refining scale 2 using scale 1 ...current loss: 0.0098:  60% 9/15 [00:06<00:04,  1.28it/s]\u001b[A\n",
            "Refining scale 2 using scale 1 ...current loss: 0.0096:  60% 9/15 [00:07<00:04,  1.28it/s]\u001b[A\n",
            "Refining scale 2 using scale 1 ...current loss: 0.0096:  67% 10/15 [00:07<00:03,  1.28it/s]\u001b[A\n",
            "Refining scale 2 using scale 1 ...current loss: 0.0092:  67% 10/15 [00:08<00:03,  1.28it/s]\u001b[A\n",
            "Refining scale 2 using scale 1 ...current loss: 0.0092:  73% 11/15 [00:08<00:03,  1.28it/s]\u001b[A\n",
            "Refining scale 2 using scale 1 ...current loss: 0.0087:  73% 11/15 [00:09<00:03,  1.28it/s]\u001b[A\n",
            "Refining scale 2 using scale 1 ...current loss: 0.0087:  80% 12/15 [00:09<00:02,  1.28it/s]\u001b[A\n",
            "Refining scale 2 using scale 1 ...current loss: 0.0085:  80% 12/15 [00:09<00:02,  1.28it/s]\u001b[A\n",
            "Refining scale 2 using scale 1 ...current loss: 0.0085:  87% 13/15 [00:10<00:01,  1.28it/s]\u001b[A\n",
            "Refining scale 2 using scale 1 ...current loss: 0.0085:  87% 13/15 [00:10<00:01,  1.28it/s]\u001b[A\n",
            "Refining scale 2 using scale 1 ...current loss: 0.0085:  93% 14/15 [00:10<00:00,  1.28it/s]\u001b[A\n",
            "Refining scale 2 using scale 1 ...current loss: 0.0083:  93% 14/15 [00:11<00:00,  1.28it/s]\u001b[A\n",
            "Refining scale 2 using scale 1 ...current loss: 0.0083: 100% 15/15 [00:11<00:00,  1.42it/s]\u001b[A\n",
            "100% 746/746 [2:25:37<00:00, 11.71s/it]\n"
          ]
        }
      ]
    },
    {
      "cell_type": "markdown",
      "source": [],
      "metadata": {
        "id": "jUFxE-rlhChk"
      }
    },
    {
      "cell_type": "markdown",
      "source": [],
      "metadata": {
        "id": "0DrXsOzRhf0p"
      }
    },
    {
      "cell_type": "markdown",
      "source": [],
      "metadata": {
        "id": "byd3Z98qh9Hr"
      }
    },
    {
      "cell_type": "markdown",
      "source": [],
      "metadata": {
        "id": "sC9ViYIUiaa6"
      }
    },
    {
      "cell_type": "markdown",
      "source": [],
      "metadata": {
        "id": "XKHe0NdZi3t_"
      }
    },
    {
      "cell_type": "markdown",
      "source": [],
      "metadata": {
        "id": "XE1y8684jVBD"
      }
    },
    {
      "cell_type": "markdown",
      "source": [],
      "metadata": {
        "id": "aYjwvYPxjyUF"
      }
    },
    {
      "cell_type": "markdown",
      "source": [],
      "metadata": {
        "id": "TlcIyo-akPm-"
      }
    },
    {
      "cell_type": "markdown",
      "source": [],
      "metadata": {
        "id": "5guuGuebks7J"
      }
    },
    {
      "cell_type": "markdown",
      "source": [],
      "metadata": {
        "id": "tu1mkIGIlKOM"
      }
    },
    {
      "cell_type": "markdown",
      "source": [],
      "metadata": {
        "id": "cWKEklq9lnhn"
      }
    },
    {
      "cell_type": "markdown",
      "source": [],
      "metadata": {
        "id": "TCjkJav3mE2r"
      }
    },
    {
      "cell_type": "markdown",
      "source": [],
      "metadata": {
        "id": "dlHVbcE3miJs"
      }
    },
    {
      "cell_type": "markdown",
      "source": [],
      "metadata": {
        "id": "cxPIdFQbm_dN"
      }
    },
    {
      "cell_type": "markdown",
      "source": [],
      "metadata": {
        "id": "nk_9bVxincyP"
      }
    },
    {
      "cell_type": "markdown",
      "source": [],
      "metadata": {
        "id": "9pyzHY7Vn6Gk"
      }
    },
    {
      "cell_type": "markdown",
      "source": [],
      "metadata": {
        "id": "s5Iw1Tg6oXb3"
      }
    },
    {
      "cell_type": "markdown",
      "source": [],
      "metadata": {
        "id": "pTaX0F9co0u4"
      }
    },
    {
      "cell_type": "markdown",
      "source": [],
      "metadata": {
        "id": "kVX1hpYppSCT"
      }
    },
    {
      "cell_type": "markdown",
      "source": [],
      "metadata": {
        "id": "A0PA3o9_pvVZ"
      }
    },
    {
      "cell_type": "markdown",
      "source": [],
      "metadata": {
        "id": "NWcZAlACqMob"
      }
    },
    {
      "cell_type": "markdown",
      "source": [],
      "metadata": {
        "id": "fADpHkTMqp7u"
      }
    },
    {
      "cell_type": "markdown",
      "source": [],
      "metadata": {
        "id": "EYlCNTRkrHO3"
      }
    },
    {
      "cell_type": "markdown",
      "source": [],
      "metadata": {
        "id": "GC6wrlogrkh3"
      }
    },
    {
      "cell_type": "markdown",
      "source": [],
      "metadata": {
        "id": "6MLavFYWsB0x"
      }
    },
    {
      "cell_type": "markdown",
      "source": [],
      "metadata": {
        "id": "baEfFaNvsfKA"
      }
    },
    {
      "cell_type": "markdown",
      "source": [],
      "metadata": {
        "id": "VE7RLDnMs8dB"
      }
    },
    {
      "cell_type": "markdown",
      "source": [],
      "metadata": {
        "id": "GVbtInN7tZwJ"
      }
    },
    {
      "cell_type": "markdown",
      "source": [],
      "metadata": {
        "id": "z07si4Est3DB"
      }
    },
    {
      "cell_type": "markdown",
      "source": [],
      "metadata": {
        "id": "GDjQGyrHuUWM"
      }
    },
    {
      "cell_type": "markdown",
      "source": [],
      "metadata": {
        "id": "IY_LT-a9uxpH"
      }
    },
    {
      "cell_type": "markdown",
      "source": [],
      "metadata": {
        "id": "JIHBNON-vO8M"
      }
    },
    {
      "cell_type": "markdown",
      "source": [],
      "metadata": {
        "id": "Hm3l3TtHvsPX"
      }
    },
    {
      "cell_type": "markdown",
      "source": [],
      "metadata": {
        "id": "O3WijmHnwJiZ"
      }
    },
    {
      "cell_type": "markdown",
      "source": [],
      "metadata": {
        "id": "MlCw2C5nwm1P"
      }
    },
    {
      "cell_type": "markdown",
      "source": [],
      "metadata": {
        "id": "_a4PqrEGxEI6"
      }
    },
    {
      "cell_type": "markdown",
      "source": [],
      "metadata": {
        "id": "QcFcJfZ0xhcR"
      }
    },
    {
      "cell_type": "markdown",
      "source": [],
      "metadata": {
        "id": "obTHP98wx-vZ"
      }
    },
    {
      "cell_type": "markdown",
      "source": [],
      "metadata": {
        "id": "E8Ay94fNycC7"
      }
    },
    {
      "cell_type": "markdown",
      "source": [],
      "metadata": {
        "id": "smkcZNzOy5Wv"
      }
    },
    {
      "cell_type": "markdown",
      "source": [],
      "metadata": {
        "id": "IkfDU-FRzWp9"
      }
    },
    {
      "cell_type": "markdown",
      "source": [],
      "metadata": {
        "id": "XgRUbqOyzz8w"
      }
    },
    {
      "cell_type": "markdown",
      "source": [],
      "metadata": {
        "id": "kLryFeUu0RP2"
      }
    },
    {
      "cell_type": "markdown",
      "source": [],
      "metadata": {
        "id": "kFo5NTV70uiy"
      }
    },
    {
      "cell_type": "markdown",
      "source": [],
      "metadata": {
        "id": "n55RlnvK1L12"
      }
    },
    {
      "cell_type": "markdown",
      "source": [],
      "metadata": {
        "id": "17BahH-d1pKV"
      }
    },
    {
      "cell_type": "markdown",
      "source": [],
      "metadata": {
        "id": "dZT4J_mi2Gdg"
      }
    },
    {
      "cell_type": "markdown",
      "source": [],
      "metadata": {
        "id": "OibPBlK12jw8"
      }
    },
    {
      "cell_type": "markdown",
      "source": [],
      "metadata": {
        "id": "7M3wLwfO3BEF"
      }
    },
    {
      "cell_type": "markdown",
      "source": [],
      "metadata": {
        "id": "MaXRegik3eXG"
      }
    },
    {
      "cell_type": "markdown",
      "source": [],
      "metadata": {
        "id": "apa10ug537qF"
      }
    },
    {
      "cell_type": "markdown",
      "source": [],
      "metadata": {
        "id": "hbavwFN04Y9J"
      }
    },
    {
      "cell_type": "markdown",
      "source": [],
      "metadata": {
        "id": "KQKwbAIX42Wo"
      }
    },
    {
      "cell_type": "markdown",
      "source": [],
      "metadata": {
        "id": "EfBf5sme5TrO"
      }
    },
    {
      "cell_type": "markdown",
      "source": [],
      "metadata": {
        "id": "JvgUYNPp5w-Y"
      }
    },
    {
      "cell_type": "markdown",
      "source": [],
      "metadata": {
        "id": "5ZcuDXvC6ORU"
      }
    },
    {
      "cell_type": "markdown",
      "source": [],
      "metadata": {
        "id": "r1D4lcbh6rkR"
      }
    },
    {
      "cell_type": "markdown",
      "source": [],
      "metadata": {
        "id": "9DmLkcid7I3Z"
      }
    },
    {
      "cell_type": "markdown",
      "source": [],
      "metadata": {
        "id": "7L5WtEsX7mMi"
      }
    },
    {
      "cell_type": "markdown",
      "source": [],
      "metadata": {
        "id": "2S6Pjo_w8Dfo"
      }
    },
    {
      "cell_type": "markdown",
      "source": [],
      "metadata": {
        "id": "5YVy27Vx8gym"
      }
    },
    {
      "cell_type": "markdown",
      "source": [],
      "metadata": {
        "id": "delzDMeb8-Fp"
      }
    },
    {
      "cell_type": "markdown",
      "source": [],
      "metadata": {
        "id": "S0SHyQ8u9bZd"
      }
    },
    {
      "cell_type": "markdown",
      "source": [],
      "metadata": {
        "id": "JsL6tpS694tZ"
      }
    },
    {
      "cell_type": "markdown",
      "source": [],
      "metadata": {
        "id": "hbhJZ3NM-WAi"
      }
    },
    {
      "cell_type": "markdown",
      "source": [],
      "metadata": {
        "id": "XmOCBkbB-zTd"
      }
    },
    {
      "cell_type": "markdown",
      "source": [],
      "metadata": {
        "id": "bATtWj2Q_Qnh"
      }
    },
    {
      "cell_type": "markdown",
      "source": [],
      "metadata": {
        "id": "hSUKRKQR_t6s"
      }
    },
    {
      "cell_type": "markdown",
      "source": [],
      "metadata": {
        "id": "X4kYuknHALNr"
      }
    },
    {
      "cell_type": "markdown",
      "source": [],
      "metadata": {
        "id": "WQDuRkzvAohj"
      }
    },
    {
      "cell_type": "markdown",
      "source": [],
      "metadata": {
        "id": "NDtVZWMfBF0f"
      }
    },
    {
      "cell_type": "markdown",
      "source": [],
      "metadata": {
        "id": "U1DharV4BjHp"
      }
    },
    {
      "cell_type": "markdown",
      "source": [],
      "metadata": {
        "id": "Rf_KWL8BCAah"
      }
    },
    {
      "cell_type": "markdown",
      "source": [],
      "metadata": {
        "id": "MdWHUY0qCdth"
      }
    },
    {
      "cell_type": "markdown",
      "source": [],
      "metadata": {
        "id": "duwFrNSeC7C-"
      }
    },
    {
      "cell_type": "markdown",
      "source": [],
      "metadata": {
        "id": "sLQ7TR30DYXQ"
      }
    },
    {
      "cell_type": "markdown",
      "source": [],
      "metadata": {
        "id": "WFo_R2QkD1rO"
      }
    },
    {
      "cell_type": "markdown",
      "source": [],
      "metadata": {
        "id": "OSIB_5XRES-c"
      }
    },
    {
      "cell_type": "markdown",
      "source": [],
      "metadata": {
        "id": "RnvhrT5sEwUT"
      }
    },
    {
      "cell_type": "markdown",
      "source": [],
      "metadata": {
        "id": "BFLd-TMiFNnR"
      }
    },
    {
      "cell_type": "markdown",
      "source": [],
      "metadata": {
        "id": "8vR49Nc1Fq6b"
      }
    },
    {
      "cell_type": "markdown",
      "source": [],
      "metadata": {
        "id": "IqP-AHmUGINU"
      }
    },
    {
      "cell_type": "markdown",
      "source": [],
      "metadata": {
        "id": "EPVssjajGlgf"
      }
    },
    {
      "cell_type": "markdown",
      "source": [],
      "metadata": {
        "id": "D8ufUPM1HF57"
      }
    },
    {
      "cell_type": "markdown",
      "source": [],
      "metadata": {
        "id": "4qPR-6CiHl9x"
      }
    },
    {
      "cell_type": "markdown",
      "source": [],
      "metadata": {
        "id": "QWcw68MFIHqk"
      }
    },
    {
      "cell_type": "markdown",
      "source": [],
      "metadata": {
        "id": "1t_A4YDfIm8r"
      }
    },
    {
      "cell_type": "markdown",
      "source": [],
      "metadata": {
        "id": "qW_VTLecJHML"
      }
    },
    {
      "cell_type": "markdown",
      "source": [],
      "metadata": {
        "id": "6iMrLsFvJmdQ"
      }
    },
    {
      "cell_type": "markdown",
      "source": [],
      "metadata": {
        "id": "8Qzs1aARKG01"
      }
    },
    {
      "cell_type": "markdown",
      "source": [],
      "metadata": {
        "id": "o7CvreCEKoeL"
      }
    },
    {
      "cell_type": "markdown",
      "source": [],
      "metadata": {
        "id": "3PXqiJjoLJVH"
      }
    },
    {
      "cell_type": "markdown",
      "source": [],
      "metadata": {
        "id": "c_LxKvGYLrjb"
      }
    },
    {
      "cell_type": "markdown",
      "source": [],
      "metadata": {
        "id": "jTTWFTyFML4T"
      }
    },
    {
      "cell_type": "markdown",
      "source": [],
      "metadata": {
        "id": "-wybGoKAMtg9"
      }
    },
    {
      "cell_type": "markdown",
      "source": [],
      "metadata": {
        "id": "Gov16nLZNPJl"
      }
    },
    {
      "cell_type": "markdown",
      "source": [],
      "metadata": {
        "id": "CLUx9xgHNvs8"
      }
    },
    {
      "cell_type": "markdown",
      "source": [],
      "metadata": {
        "id": "w4APyP1FORhG"
      }
    },
    {
      "cell_type": "markdown",
      "source": [],
      "metadata": {
        "id": "M4Dzrmg3Ow_s"
      }
    },
    {
      "cell_type": "markdown",
      "source": [],
      "metadata": {
        "id": "zE0VF3psPSYk"
      }
    },
    {
      "cell_type": "markdown",
      "source": [],
      "metadata": {
        "id": "mIp5BxenPyNF"
      }
    },
    {
      "cell_type": "markdown",
      "source": [],
      "metadata": {
        "id": "ypu4MgUHQR9N"
      }
    },
    {
      "cell_type": "markdown",
      "source": [],
      "metadata": {
        "id": "Xhd8WID6QyJr"
      }
    },
    {
      "cell_type": "markdown",
      "source": [],
      "metadata": {
        "id": "9GyJF1mbRPzg"
      }
    },
    {
      "cell_type": "markdown",
      "source": [],
      "metadata": {
        "id": "6wPfuBMkRtKL"
      }
    },
    {
      "cell_type": "markdown",
      "source": [],
      "metadata": {
        "id": "nFsMp1WZSK04"
      }
    },
    {
      "cell_type": "markdown",
      "source": [],
      "metadata": {
        "id": "Wfpa49b3SoPT"
      }
    },
    {
      "cell_type": "markdown",
      "source": [],
      "metadata": {
        "id": "1b__YP-ETFxB"
      }
    },
    {
      "cell_type": "markdown",
      "source": [],
      "metadata": {
        "id": "n9BfHxw1TjEf"
      }
    },
    {
      "cell_type": "markdown",
      "source": [],
      "metadata": {
        "id": "mfhUKv_eUAZU"
      }
    },
    {
      "cell_type": "markdown",
      "source": [],
      "metadata": {
        "id": "k_jTVXpWUd83"
      }
    },
    {
      "cell_type": "markdown",
      "source": [],
      "metadata": {
        "id": "e8kN3trTU7TF"
      }
    },
    {
      "cell_type": "markdown",
      "source": [],
      "metadata": {
        "id": "QXsDIOTAVY2e"
      }
    },
    {
      "cell_type": "markdown",
      "source": [],
      "metadata": {
        "id": "UblPR9bNV2M6"
      }
    },
    {
      "cell_type": "markdown",
      "source": [],
      "metadata": {
        "id": "mdUdXBFsWThZ"
      }
    },
    {
      "cell_type": "markdown",
      "source": [],
      "metadata": {
        "id": "zzTqe91nWw3h"
      }
    },
    {
      "cell_type": "markdown",
      "source": [],
      "metadata": {
        "id": "FUyxU-6LXOVf"
      }
    },
    {
      "cell_type": "markdown",
      "source": [],
      "metadata": {
        "id": "_6Ysz3FXXr-8"
      }
    },
    {
      "cell_type": "markdown",
      "source": [],
      "metadata": {
        "id": "X7-_shSbYJg4"
      }
    },
    {
      "cell_type": "markdown",
      "source": [],
      "metadata": {
        "id": "eWC_bLWiYm9X"
      }
    },
    {
      "cell_type": "markdown",
      "source": [],
      "metadata": {
        "id": "C7l_zOaPZESa"
      }
    },
    {
      "cell_type": "markdown",
      "source": [],
      "metadata": {
        "id": "m7ofJAKoZhzV"
      }
    },
    {
      "cell_type": "markdown",
      "source": [],
      "metadata": {
        "id": "5GpcmazvZ_Gk"
      }
    },
    {
      "cell_type": "markdown",
      "source": [],
      "metadata": {
        "id": "UAWRdzTeacfG"
      }
    },
    {
      "cell_type": "markdown",
      "source": [],
      "metadata": {
        "id": "fqD-abq9a546"
      }
    },
    {
      "cell_type": "markdown",
      "source": [],
      "metadata": {
        "id": "k7NsVJ_RbXRk"
      }
    },
    {
      "cell_type": "markdown",
      "source": [],
      "metadata": {
        "id": "wOBSzvEgb0xz"
      }
    },
    {
      "cell_type": "markdown",
      "source": [],
      "metadata": {
        "id": "qO30B5GCcSG0"
      }
    },
    {
      "cell_type": "markdown",
      "source": [],
      "metadata": {
        "id": "uaMhxGBOcved"
      }
    },
    {
      "cell_type": "markdown",
      "source": [],
      "metadata": {
        "id": "OlWXyfbhdM9r"
      }
    },
    {
      "cell_type": "markdown",
      "source": [],
      "metadata": {
        "id": "NNhDCHkEdqTd"
      }
    },
    {
      "cell_type": "markdown",
      "source": [],
      "metadata": {
        "id": "zKrNxc0VeHra"
      }
    },
    {
      "cell_type": "markdown",
      "source": [],
      "metadata": {
        "id": "2T2Muz9qelDY"
      }
    },
    {
      "cell_type": "markdown",
      "source": [],
      "metadata": {
        "id": "SqMUCTsxfCaT"
      }
    },
    {
      "cell_type": "markdown",
      "source": [],
      "metadata": {
        "id": "O5GRTJt2ff4e"
      }
    },
    {
      "cell_type": "markdown",
      "source": [],
      "metadata": {
        "id": "L8fM85rgf9Z3"
      }
    },
    {
      "cell_type": "markdown",
      "source": [],
      "metadata": {
        "id": "ayVEP4CAga49"
      }
    },
    {
      "cell_type": "markdown",
      "source": [],
      "metadata": {
        "id": "BdcWbrfag4MK"
      }
    },
    {
      "cell_type": "markdown",
      "source": [],
      "metadata": {
        "id": "4rIwd7YUhVgj"
      }
    },
    {
      "cell_type": "markdown",
      "source": [],
      "metadata": {
        "id": "IcAR_HoWhy9O"
      }
    },
    {
      "cell_type": "markdown",
      "source": [],
      "metadata": {
        "id": "n737daHliQXZ"
      }
    },
    {
      "cell_type": "markdown",
      "source": [],
      "metadata": {
        "id": "1OT_MTR6ityw"
      }
    },
    {
      "cell_type": "markdown",
      "source": [],
      "metadata": {
        "id": "9T8URA53jLUy"
      }
    },
    {
      "cell_type": "markdown",
      "source": [],
      "metadata": {
        "id": "XYpcB7qTjotG"
      }
    },
    {
      "cell_type": "markdown",
      "source": [],
      "metadata": {
        "id": "pPJ2pT30kGDk"
      }
    },
    {
      "cell_type": "markdown",
      "source": [],
      "metadata": {
        "id": "4qPNqAOtkjaW"
      }
    },
    {
      "cell_type": "markdown",
      "source": [],
      "metadata": {
        "id": "RpJuhVIrlAzI"
      }
    },
    {
      "cell_type": "markdown",
      "source": [],
      "metadata": {
        "id": "WcCT9anRleYq"
      }
    },
    {
      "cell_type": "markdown",
      "source": [],
      "metadata": {
        "id": "hiFu4jnal71n"
      }
    },
    {
      "cell_type": "markdown",
      "source": [],
      "metadata": {
        "id": "5bs0GIHOmZVx"
      }
    },
    {
      "cell_type": "markdown",
      "source": [],
      "metadata": {
        "id": "HfHbu2MPm2tB"
      }
    },
    {
      "cell_type": "markdown",
      "source": [],
      "metadata": {
        "id": "0Z6JiLUYnUNF"
      }
    },
    {
      "cell_type": "markdown",
      "source": [],
      "metadata": {
        "id": "xmwTDA1nnxnT"
      }
    },
    {
      "cell_type": "markdown",
      "source": [],
      "metadata": {
        "id": "WYJBgJBzoPTE"
      }
    },
    {
      "cell_type": "markdown",
      "source": [],
      "metadata": {
        "id": "BsH8Ffi1ossY"
      }
    },
    {
      "cell_type": "markdown",
      "source": [],
      "metadata": {
        "id": "TLzTz9o7pKG3"
      }
    },
    {
      "cell_type": "markdown",
      "source": [],
      "metadata": {
        "id": "GqG4z2xjpnaZ"
      }
    },
    {
      "cell_type": "markdown",
      "source": [],
      "metadata": {
        "id": "dfzC76ijqE35"
      }
    },
    {
      "cell_type": "markdown",
      "source": [],
      "metadata": {
        "id": "EfXB0RI1qiQ4"
      }
    },
    {
      "cell_type": "markdown",
      "source": [],
      "metadata": {
        "id": "XuoN68-Mq_mr"
      }
    },
    {
      "cell_type": "markdown",
      "source": [],
      "metadata": {
        "id": "BPrDYw5ardGg"
      }
    },
    {
      "cell_type": "markdown",
      "source": [],
      "metadata": {
        "id": "ntcgNS9Ur6Z3"
      }
    },
    {
      "cell_type": "markdown",
      "source": [],
      "metadata": {
        "id": "hoHRPtZisX1l"
      }
    },
    {
      "cell_type": "markdown",
      "source": [],
      "metadata": {
        "id": "_kUUMa7js1Ws"
      }
    },
    {
      "cell_type": "markdown",
      "source": [],
      "metadata": {
        "id": "yIexMsHKtSrm"
      }
    },
    {
      "cell_type": "markdown",
      "source": [],
      "metadata": {
        "id": "iuC1NkedtwJs"
      }
    },
    {
      "cell_type": "markdown",
      "source": [],
      "metadata": {
        "id": "x4Zd6XIruNmn"
      }
    },
    {
      "cell_type": "markdown",
      "source": [],
      "metadata": {
        "id": "D1F_vhf8urBg"
      }
    },
    {
      "cell_type": "markdown",
      "source": [],
      "metadata": {
        "id": "n_EqAVLJvIXZ"
      }
    },
    {
      "cell_type": "markdown",
      "source": [],
      "metadata": {
        "id": "LtzYA_Vfvl5G"
      }
    },
    {
      "cell_type": "markdown",
      "source": [],
      "metadata": {
        "id": "Uga09J5GwDT3"
      }
    },
    {
      "cell_type": "markdown",
      "source": [],
      "metadata": {
        "id": "vi4eBBOQwgtz"
      }
    },
    {
      "cell_type": "markdown",
      "source": [],
      "metadata": {
        "id": "eJNRGsJPw-JZ"
      }
    },
    {
      "cell_type": "markdown",
      "source": [],
      "metadata": {
        "id": "D6jTu_WPxblf"
      }
    },
    {
      "cell_type": "markdown",
      "source": [],
      "metadata": {
        "id": "aaKsv2Irx47W"
      }
    },
    {
      "cell_type": "markdown",
      "source": [],
      "metadata": {
        "id": "YlUFB0RmyWYn"
      }
    },
    {
      "cell_type": "markdown",
      "source": [],
      "metadata": {
        "id": "xfR_g2eYyzyt"
      }
    },
    {
      "cell_type": "markdown",
      "source": [],
      "metadata": {
        "id": "Xo6S6FCHzRVl"
      }
    },
    {
      "cell_type": "markdown",
      "source": [],
      "metadata": {
        "id": "lvbE2EN-zu6V"
      }
    },
    {
      "cell_type": "markdown",
      "source": [],
      "metadata": {
        "id": "mvLH6WWd0MT_"
      }
    },
    {
      "cell_type": "markdown",
      "source": [],
      "metadata": {
        "id": "pjT7Da890pxf"
      }
    },
    {
      "cell_type": "markdown",
      "source": [],
      "metadata": {
        "id": "fQj9x8uf1HQg"
      }
    },
    {
      "cell_type": "markdown",
      "source": [],
      "metadata": {
        "id": "xmPRBBEL1k1F"
      }
    },
    {
      "cell_type": "markdown",
      "source": [],
      "metadata": {
        "id": "8VYFLY0C2CRO"
      }
    },
    {
      "cell_type": "markdown",
      "source": [],
      "metadata": {
        "id": "UD7OygZe2fuU"
      }
    },
    {
      "cell_type": "markdown",
      "source": [],
      "metadata": {
        "id": "wlVOIZjx29Lx"
      }
    },
    {
      "cell_type": "markdown",
      "source": [],
      "metadata": {
        "id": "jIrvYbbH3anc"
      }
    },
    {
      "cell_type": "markdown",
      "source": [],
      "metadata": {
        "id": "eR9OLL6A34Pq"
      }
    },
    {
      "cell_type": "markdown",
      "source": [],
      "metadata": {
        "id": "sATXb1Th4V4K"
      }
    },
    {
      "cell_type": "markdown",
      "source": [],
      "metadata": {
        "id": "VCgYl6B64zem"
      }
    },
    {
      "cell_type": "markdown",
      "source": [],
      "metadata": {
        "id": "f_tniyv85RIR"
      }
    },
    {
      "cell_type": "markdown",
      "source": [],
      "metadata": {
        "id": "EuAoWDms5uqO"
      }
    },
    {
      "cell_type": "markdown",
      "source": [],
      "metadata": {
        "id": "OzjzPZr96MHD"
      }
    },
    {
      "cell_type": "markdown",
      "source": [],
      "metadata": {
        "id": "VeiLdxBI6pnC"
      }
    },
    {
      "cell_type": "markdown",
      "source": [],
      "metadata": {
        "id": "btw7fMrd7HOf"
      }
    },
    {
      "cell_type": "markdown",
      "source": [],
      "metadata": {
        "id": "Ou0bEtM77krw"
      }
    },
    {
      "cell_type": "markdown",
      "source": [],
      "metadata": {
        "id": "RGz0pxIC8CSF"
      }
    },
    {
      "cell_type": "markdown",
      "source": [],
      "metadata": {
        "id": "CcW092Ot8f-H"
      }
    },
    {
      "cell_type": "markdown",
      "source": [],
      "metadata": {
        "id": "yoV4uhPc89by"
      }
    },
    {
      "cell_type": "markdown",
      "source": [],
      "metadata": {
        "id": "vwxsy_-r9a6R"
      }
    },
    {
      "cell_type": "markdown",
      "source": [],
      "metadata": {
        "id": "ElZ9uBYg94UU"
      }
    },
    {
      "cell_type": "markdown",
      "source": [],
      "metadata": {
        "id": "Ul8OB23b-WB-"
      }
    },
    {
      "cell_type": "markdown",
      "source": [],
      "metadata": {
        "id": "7Sa033Xt-zxd"
      }
    },
    {
      "cell_type": "markdown",
      "source": [],
      "metadata": {
        "id": "R0piL1Em_RaU"
      }
    },
    {
      "cell_type": "markdown",
      "source": [],
      "metadata": {
        "id": "mEwH6bHm_u3n"
      }
    },
    {
      "cell_type": "markdown",
      "source": [],
      "metadata": {
        "id": "U08J3_YOAMcZ"
      }
    },
    {
      "cell_type": "markdown",
      "source": [],
      "metadata": {
        "id": "uQKg8RhAAqA5"
      }
    },
    {
      "cell_type": "markdown",
      "source": [],
      "metadata": {
        "id": "XfNVuMQvBHfk"
      }
    },
    {
      "cell_type": "markdown",
      "source": [],
      "metadata": {
        "id": "PcT-tUNMBk43"
      }
    },
    {
      "cell_type": "markdown",
      "source": [],
      "metadata": {
        "id": "0utVFq9TCChO"
      }
    },
    {
      "cell_type": "markdown",
      "source": [],
      "metadata": {
        "id": "U15G0Y0mCf8l"
      }
    },
    {
      "cell_type": "markdown",
      "source": [],
      "metadata": {
        "id": "A1VuhezmC9gh"
      }
    },
    {
      "cell_type": "markdown",
      "source": [],
      "metadata": {
        "id": "fxKWmSOGDbI4"
      }
    },
    {
      "cell_type": "markdown",
      "source": [],
      "metadata": {
        "id": "oq27AJ4DD4tK"
      }
    },
    {
      "cell_type": "markdown",
      "source": [],
      "metadata": {
        "id": "TJbBVqoDEWLq"
      }
    },
    {
      "cell_type": "markdown",
      "source": [],
      "metadata": {
        "id": "1OdltQfxEztd"
      }
    },
    {
      "cell_type": "markdown",
      "source": [],
      "metadata": {
        "id": "jGxwft0yFRWB"
      }
    },
    {
      "cell_type": "markdown",
      "source": [],
      "metadata": {
        "id": "9K96CgEuFu5G"
      }
    },
    {
      "cell_type": "markdown",
      "source": [],
      "metadata": {
        "id": "iQUaSTUNGMaH"
      }
    },
    {
      "cell_type": "markdown",
      "source": [],
      "metadata": {
        "id": "zjz2b7OTGp_3"
      }
    },
    {
      "cell_type": "markdown",
      "source": [],
      "metadata": {
        "id": "oGIN3B6uHHmH"
      }
    },
    {
      "cell_type": "markdown",
      "source": [],
      "metadata": {
        "id": "7JHh5DnAHlGI"
      }
    },
    {
      "cell_type": "markdown",
      "source": [],
      "metadata": {
        "id": "eio-BGQEICcw"
      }
    },
    {
      "cell_type": "markdown",
      "source": [],
      "metadata": {
        "id": "jHtGLcG9IgBt"
      }
    },
    {
      "cell_type": "markdown",
      "source": [],
      "metadata": {
        "id": "lf62BI_lI9c7"
      }
    },
    {
      "cell_type": "markdown",
      "source": [],
      "metadata": {
        "id": "i7qpz9fwJa5E"
      }
    },
    {
      "cell_type": "markdown",
      "source": [],
      "metadata": {
        "id": "JS5unHIzJ4ww"
      }
    },
    {
      "cell_type": "markdown",
      "source": [],
      "metadata": {
        "id": "PoH3U6VXKWOj"
      }
    },
    {
      "cell_type": "markdown",
      "source": [],
      "metadata": {
        "id": "HDKjGjd0Kz0i"
      }
    },
    {
      "cell_type": "markdown",
      "source": [],
      "metadata": {
        "id": "7YRl3IeQLRSN"
      }
    },
    {
      "cell_type": "markdown",
      "source": [],
      "metadata": {
        "id": "21iWjDpFLu1I"
      }
    },
    {
      "cell_type": "markdown",
      "source": [],
      "metadata": {
        "id": "f_IoqHKTMMbK"
      }
    },
    {
      "cell_type": "markdown",
      "source": [],
      "metadata": {
        "id": "viuLgx9nMqAV"
      }
    },
    {
      "cell_type": "markdown",
      "source": [],
      "metadata": {
        "id": "UuL30GVcNHdx"
      }
    },
    {
      "cell_type": "markdown",
      "source": [],
      "metadata": {
        "id": "GQbIalW7Nk8Z"
      }
    },
    {
      "cell_type": "markdown",
      "source": [],
      "metadata": {
        "id": "bxwzdckJOCad"
      }
    },
    {
      "cell_type": "markdown",
      "source": [],
      "metadata": {
        "id": "_Y5xbjCtOgDk"
      }
    },
    {
      "cell_type": "markdown",
      "source": [],
      "metadata": {
        "id": "9788eJ4EO9p0"
      }
    },
    {
      "cell_type": "markdown",
      "source": [],
      "metadata": {
        "id": "aIpLW5JNPbHD"
      }
    },
    {
      "cell_type": "markdown",
      "source": [],
      "metadata": {
        "id": "ghDS8yNbP4iH"
      }
    },
    {
      "cell_type": "markdown",
      "source": [],
      "metadata": {
        "id": "Bt2YtPFGQWJP"
      }
    },
    {
      "cell_type": "markdown",
      "source": [],
      "metadata": {
        "id": "fSVxgg0_QznE"
      }
    },
    {
      "cell_type": "markdown",
      "source": [],
      "metadata": {
        "id": "783A1ZGBRRPr"
      }
    },
    {
      "cell_type": "markdown",
      "source": [],
      "metadata": {
        "id": "3UnHySVpRu2Q"
      }
    },
    {
      "cell_type": "markdown",
      "source": [],
      "metadata": {
        "id": "mPkulT_rSMda"
      }
    },
    {
      "cell_type": "markdown",
      "source": [],
      "metadata": {
        "id": "lRx8oz5kSpwc"
      }
    },
    {
      "cell_type": "markdown",
      "source": [],
      "metadata": {
        "id": "eiGVgHN8THaC"
      }
    },
    {
      "cell_type": "markdown",
      "source": [],
      "metadata": {
        "id": "IrR-JD2cTk7e"
      }
    },
    {
      "cell_type": "markdown",
      "source": [],
      "metadata": {
        "id": "TsoMqKG2UCZw"
      }
    },
    {
      "cell_type": "markdown",
      "source": [],
      "metadata": {
        "id": "DMw42gZnUf30"
      }
    },
    {
      "cell_type": "markdown",
      "source": [],
      "metadata": {
        "id": "Yj_2jH0cU9XF"
      }
    },
    {
      "cell_type": "markdown",
      "source": [],
      "metadata": {
        "id": "7uf8MnSQVbEu"
      }
    },
    {
      "cell_type": "markdown",
      "source": [],
      "metadata": {
        "id": "n75Qyw42V4rf"
      }
    },
    {
      "cell_type": "markdown",
      "source": [],
      "metadata": {
        "id": "6mqt1FmuWWWB"
      }
    },
    {
      "cell_type": "markdown",
      "source": [],
      "metadata": {
        "id": "LqlnupnAWz47"
      }
    },
    {
      "cell_type": "markdown",
      "source": [],
      "metadata": {
        "id": "gPqVh9IHXRUf"
      }
    },
    {
      "cell_type": "markdown",
      "source": [],
      "metadata": {
        "id": "w-i5z5vJXu96"
      }
    },
    {
      "cell_type": "markdown",
      "source": [],
      "metadata": {
        "id": "rJR25mmGYM0M"
      }
    },
    {
      "cell_type": "markdown",
      "source": [],
      "metadata": {
        "id": "FG0PlnZRYqhg"
      }
    },
    {
      "cell_type": "markdown",
      "source": [],
      "metadata": {
        "id": "6pMJimvuZH-6"
      }
    },
    {
      "cell_type": "markdown",
      "source": [],
      "metadata": {
        "id": "CzXAq49ZZleZ"
      }
    },
    {
      "cell_type": "markdown",
      "source": [],
      "metadata": {
        "id": "pqaSEAAmaCyC"
      }
    },
    {
      "cell_type": "markdown",
      "source": [],
      "metadata": {
        "id": "G7gi48JpagZt"
      }
    },
    {
      "cell_type": "markdown",
      "source": [],
      "metadata": {
        "id": "i2M9IS7Sa-Is"
      }
    },
    {
      "cell_type": "markdown",
      "source": [],
      "metadata": {
        "id": "BInE-XFEbbm7"
      }
    },
    {
      "cell_type": "markdown",
      "source": [],
      "metadata": {
        "id": "yrrk5biJb5FB"
      }
    },
    {
      "cell_type": "markdown",
      "source": [],
      "metadata": {
        "id": "ckLIrzK9cWiF"
      }
    },
    {
      "cell_type": "markdown",
      "source": [],
      "metadata": {
        "id": "AAufuGIccz8m"
      }
    },
    {
      "cell_type": "markdown",
      "source": [],
      "metadata": {
        "id": "jRyIguvDdRaG"
      }
    },
    {
      "cell_type": "markdown",
      "source": [],
      "metadata": {
        "id": "HWfJmOJQdvKX"
      }
    },
    {
      "cell_type": "markdown",
      "source": [],
      "metadata": {
        "id": "29LxDCBleM4p"
      }
    },
    {
      "cell_type": "markdown",
      "source": [],
      "metadata": {
        "id": "JqVY1XhjeqXg"
      }
    },
    {
      "cell_type": "markdown",
      "source": [],
      "metadata": {
        "id": "04e14R-5fIGd"
      }
    },
    {
      "cell_type": "markdown",
      "source": [],
      "metadata": {
        "id": "V9kOCqhDfll3"
      }
    },
    {
      "cell_type": "markdown",
      "source": [],
      "metadata": {
        "id": "gM_Z_jqRgDEj"
      }
    },
    {
      "cell_type": "markdown",
      "source": [],
      "metadata": {
        "id": "d622Tg0Fggih"
      }
    },
    {
      "cell_type": "markdown",
      "source": [],
      "metadata": {
        "id": "SwX3gGk2g9-H"
      }
    },
    {
      "cell_type": "markdown",
      "source": [],
      "metadata": {
        "id": "Zb1_CfLUhbzT"
      }
    },
    {
      "cell_type": "markdown",
      "source": [],
      "metadata": {
        "id": "lGhHT2zfh5dX"
      }
    },
    {
      "cell_type": "markdown",
      "source": [],
      "metadata": {
        "id": "epivxHIfiW7J"
      }
    },
    {
      "cell_type": "markdown",
      "source": [],
      "metadata": {
        "id": "DfmQqQZfi0mG"
      }
    },
    {
      "cell_type": "markdown",
      "source": [],
      "metadata": {
        "id": "9sX0N9vmjSd0"
      }
    },
    {
      "cell_type": "markdown",
      "source": [],
      "metadata": {
        "id": "-B6VQhCqjv7N"
      }
    },
    {
      "cell_type": "markdown",
      "source": [],
      "metadata": {
        "id": "OFm9AqL5kNZ-"
      }
    },
    {
      "cell_type": "markdown",
      "source": [],
      "metadata": {
        "id": "ixfZGbU3kq5J"
      }
    },
    {
      "cell_type": "markdown",
      "source": [],
      "metadata": {
        "id": "4i-b-0ehlIXr"
      }
    },
    {
      "cell_type": "markdown",
      "source": [],
      "metadata": {
        "id": "9I27SJdzlmFg"
      }
    },
    {
      "cell_type": "markdown",
      "source": [],
      "metadata": {
        "id": "9mIeeMARmDyX"
      }
    },
    {
      "cell_type": "markdown",
      "source": [],
      "metadata": {
        "id": "yUDZJCpAmhof"
      }
    },
    {
      "cell_type": "markdown",
      "source": [],
      "metadata": {
        "id": "17qSyCv-m_L4"
      }
    },
    {
      "cell_type": "markdown",
      "source": [],
      "metadata": {
        "id": "EDdF9_7Jnc4P"
      }
    },
    {
      "cell_type": "markdown",
      "source": [],
      "metadata": {
        "id": "HVjg-n_Fn61F"
      }
    },
    {
      "cell_type": "markdown",
      "source": [],
      "metadata": {
        "id": "UKk0YVHpoYYV"
      }
    },
    {
      "cell_type": "markdown",
      "source": [],
      "metadata": {
        "id": "LW2PFQnDo2Gg"
      }
    },
    {
      "cell_type": "markdown",
      "source": [],
      "metadata": {
        "id": "Euyku8WgpT2G"
      }
    },
    {
      "cell_type": "markdown",
      "source": [],
      "metadata": {
        "id": "iaEhuqKPpxVH"
      }
    },
    {
      "cell_type": "markdown",
      "source": [],
      "metadata": {
        "id": "daJ2RFcnqOzR"
      }
    },
    {
      "cell_type": "markdown",
      "source": [],
      "metadata": {
        "id": "sOSV-bAsqsU4"
      }
    },
    {
      "cell_type": "markdown",
      "source": [],
      "metadata": {
        "id": "Jb1jyaQ4rJ9h"
      }
    },
    {
      "cell_type": "markdown",
      "source": [],
      "metadata": {
        "id": "vjpS0777rn1N"
      }
    },
    {
      "cell_type": "markdown",
      "source": [],
      "metadata": {
        "id": "K2TNQ15qsFo3"
      }
    },
    {
      "cell_type": "markdown",
      "source": [],
      "metadata": {
        "id": "vkLgA7OAsjZj"
      }
    },
    {
      "cell_type": "markdown",
      "source": [],
      "metadata": {
        "id": "-FkkPmj7tBEU"
      }
    },
    {
      "cell_type": "markdown",
      "source": [],
      "metadata": {
        "id": "VaxhuQEIteiL"
      }
    },
    {
      "cell_type": "markdown",
      "source": [],
      "metadata": {
        "id": "tFCcLjurt8XA"
      }
    },
    {
      "cell_type": "markdown",
      "source": [],
      "metadata": {
        "id": "cGclO7_1uaP8"
      }
    },
    {
      "cell_type": "markdown",
      "source": [],
      "metadata": {
        "id": "umb5Zrvmu3vb"
      }
    },
    {
      "cell_type": "markdown",
      "source": [],
      "metadata": {
        "id": "spIIYynsvVej"
      }
    },
    {
      "cell_type": "markdown",
      "source": [],
      "metadata": {
        "id": "5s9WYg5avzbl"
      }
    },
    {
      "cell_type": "markdown",
      "source": [],
      "metadata": {
        "id": "DhgWmvDxwQ8C"
      }
    },
    {
      "cell_type": "markdown",
      "source": [],
      "metadata": {
        "id": "tx81QmP0wuY0"
      }
    },
    {
      "cell_type": "markdown",
      "source": [],
      "metadata": {
        "id": "36UzGMaIxMWi"
      }
    },
    {
      "cell_type": "markdown",
      "source": [],
      "metadata": {
        "id": "N_1x9gQbxp4f"
      }
    },
    {
      "cell_type": "markdown",
      "source": [],
      "metadata": {
        "id": "i64sS0_5yHss"
      }
    },
    {
      "cell_type": "markdown",
      "source": [],
      "metadata": {
        "id": "VhzZ52txylaU"
      }
    },
    {
      "cell_type": "markdown",
      "source": [],
      "metadata": {
        "id": "qCNnyEopzDCP"
      }
    },
    {
      "cell_type": "markdown",
      "source": [],
      "metadata": {
        "id": "BYORPiTPzg74"
      }
    },
    {
      "cell_type": "markdown",
      "source": [],
      "metadata": {
        "id": "R98g0GNvz-qc"
      }
    },
    {
      "cell_type": "markdown",
      "source": [],
      "metadata": {
        "id": "PQKx8q8j0cid"
      }
    },
    {
      "cell_type": "markdown",
      "source": [],
      "metadata": {
        "id": "e6BPJxMM06As"
      }
    },
    {
      "cell_type": "markdown",
      "source": [],
      "metadata": {
        "id": "egtklS2h1Xvo"
      }
    },
    {
      "cell_type": "markdown",
      "source": [],
      "metadata": {
        "id": "Gz6rez7-11gs"
      }
    },
    {
      "cell_type": "markdown",
      "source": [],
      "metadata": {
        "id": "9KjXV0KM2TPr"
      }
    },
    {
      "cell_type": "markdown",
      "source": [],
      "metadata": {
        "id": "8deujzsZ2w-O"
      }
    },
    {
      "cell_type": "markdown",
      "source": [],
      "metadata": {
        "id": "eltOxKZt3Odq"
      }
    },
    {
      "cell_type": "markdown",
      "source": [],
      "metadata": {
        "id": "_3hZZUk23sQL"
      }
    },
    {
      "cell_type": "markdown",
      "source": [],
      "metadata": {
        "id": "IPyjHsI44J6a"
      }
    },
    {
      "cell_type": "markdown",
      "source": [],
      "metadata": {
        "id": "ij-nJUp74nrq"
      }
    },
    {
      "cell_type": "markdown",
      "source": [],
      "metadata": {
        "id": "r4OVpj5a5FhV"
      }
    },
    {
      "cell_type": "markdown",
      "source": [],
      "metadata": {
        "id": "LwIQI75G5jSh"
      }
    },
    {
      "cell_type": "markdown",
      "source": [],
      "metadata": {
        "id": "FD4ZH4SS6BKD"
      }
    },
    {
      "cell_type": "markdown",
      "source": [],
      "metadata": {
        "id": "w5yyU-K06fH4"
      }
    },
    {
      "cell_type": "markdown",
      "source": [],
      "metadata": {
        "id": "2Ncyj9uh69WY"
      }
    },
    {
      "cell_type": "markdown",
      "source": [],
      "metadata": {
        "id": "JJRq0Ew_7bE5"
      }
    },
    {
      "cell_type": "markdown",
      "source": [],
      "metadata": {
        "id": "s6mrnorI740Z"
      }
    },
    {
      "cell_type": "markdown",
      "source": [],
      "metadata": {
        "id": "8pw-gnfr8WTu"
      }
    },
    {
      "cell_type": "markdown",
      "source": [],
      "metadata": {
        "id": "lYfLRizT80Cl"
      }
    },
    {
      "cell_type": "markdown",
      "source": [],
      "metadata": {
        "id": "n3_WR2JZ9R5I"
      }
    },
    {
      "cell_type": "markdown",
      "source": [],
      "metadata": {
        "id": "t9ZuQwQ79vrF"
      }
    },
    {
      "cell_type": "markdown",
      "source": [],
      "metadata": {
        "id": "tCOAKBva-NVK"
      }
    },
    {
      "cell_type": "markdown",
      "source": [],
      "metadata": {
        "id": "bU8Sh5L8-rDl"
      }
    },
    {
      "cell_type": "markdown",
      "source": [],
      "metadata": {
        "id": "iiO01uR5_I0z"
      }
    },
    {
      "cell_type": "markdown",
      "source": [],
      "metadata": {
        "id": "KuTElpCc_muF"
      }
    },
    {
      "cell_type": "markdown",
      "source": [],
      "metadata": {
        "id": "fVggOHLmAEnX"
      }
    },
    {
      "cell_type": "markdown",
      "source": [],
      "metadata": {
        "id": "EeHxrornAinT"
      }
    },
    {
      "cell_type": "markdown",
      "source": [],
      "metadata": {
        "id": "EkXW1smBBAfc"
      }
    },
    {
      "cell_type": "markdown",
      "source": [],
      "metadata": {
        "id": "iw0qIlo_BeNS"
      }
    },
    {
      "cell_type": "markdown",
      "source": [],
      "metadata": {
        "id": "HLvPPB8AB79l"
      }
    },
    {
      "cell_type": "markdown",
      "source": [],
      "metadata": {
        "id": "RKGHZ5EzCZra"
      }
    },
    {
      "cell_type": "markdown",
      "source": [],
      "metadata": {
        "id": "psz3w61yC3jf"
      }
    },
    {
      "cell_type": "markdown",
      "source": [],
      "metadata": {
        "id": "7fZzDIEmDVRY"
      }
    },
    {
      "cell_type": "markdown",
      "source": [],
      "metadata": {
        "id": "a9BjXDStDzQK"
      }
    },
    {
      "cell_type": "markdown",
      "source": [],
      "metadata": {
        "id": "fnRhZJDPERPP"
      }
    },
    {
      "cell_type": "markdown",
      "source": [],
      "metadata": {
        "id": "p-PqMjLaEu-8"
      }
    },
    {
      "cell_type": "markdown",
      "source": [],
      "metadata": {
        "id": "6oxmRdJWFMyv"
      }
    },
    {
      "cell_type": "markdown",
      "source": [],
      "metadata": {
        "id": "bl05_WQwFqvS"
      }
    },
    {
      "cell_type": "markdown",
      "source": [],
      "metadata": {
        "id": "OUB9WqFIGIlA"
      }
    },
    {
      "cell_type": "markdown",
      "source": [],
      "metadata": {
        "id": "0DqM7oAjGmSo"
      }
    },
    {
      "cell_type": "markdown",
      "source": [],
      "metadata": {
        "id": "Bm0qXwLrHEKT"
      }
    },
    {
      "cell_type": "markdown",
      "source": [],
      "metadata": {
        "id": "0PL8cZmLHhzH"
      }
    },
    {
      "cell_type": "markdown",
      "source": [],
      "metadata": {
        "id": "f3nY1-oBH_tI"
      }
    },
    {
      "cell_type": "markdown",
      "source": [],
      "metadata": {
        "id": "3g7eza1yIdcL"
      }
    },
    {
      "cell_type": "markdown",
      "source": [],
      "metadata": {
        "id": "4BNUN8GBI7Q_"
      }
    },
    {
      "cell_type": "markdown",
      "source": [],
      "metadata": {
        "id": "x0518X5NJZOH"
      }
    },
    {
      "cell_type": "markdown",
      "source": [],
      "metadata": {
        "id": "p9iiF2aiJ285"
      }
    },
    {
      "cell_type": "markdown",
      "source": [],
      "metadata": {
        "id": "SU82GyfkKUr2"
      }
    },
    {
      "cell_type": "markdown",
      "source": [],
      "metadata": {
        "id": "m_o4NRiAKyN6"
      }
    },
    {
      "cell_type": "markdown",
      "source": [],
      "metadata": {
        "id": "BthH7UStLQMZ"
      }
    },
    {
      "cell_type": "markdown",
      "source": [],
      "metadata": {
        "id": "TJkcs65sLuZr"
      }
    },
    {
      "cell_type": "markdown",
      "source": [],
      "metadata": {
        "id": "BqxICeVCMMZB"
      }
    },
    {
      "cell_type": "markdown",
      "source": [],
      "metadata": {
        "id": "gdadrBVaMqbE"
      }
    },
    {
      "cell_type": "markdown",
      "source": [],
      "metadata": {
        "id": "ccwzXe6iNIQb"
      }
    },
    {
      "cell_type": "markdown",
      "source": [],
      "metadata": {
        "id": "A6wF980yNlw9"
      }
    },
    {
      "cell_type": "markdown",
      "source": [],
      "metadata": {
        "id": "oSez-ZCqODiM"
      }
    },
    {
      "cell_type": "markdown",
      "source": [],
      "metadata": {
        "id": "D10MJoSCOhsC"
      }
    },
    {
      "cell_type": "markdown",
      "source": [],
      "metadata": {
        "id": "avhKAFLDO_dZ"
      }
    },
    {
      "cell_type": "markdown",
      "source": [],
      "metadata": {
        "id": "aJXT2duNPdMC"
      }
    },
    {
      "cell_type": "markdown",
      "source": [],
      "metadata": {
        "id": "qJJD5M9uP65-"
      }
    },
    {
      "cell_type": "markdown",
      "source": [],
      "metadata": {
        "id": "R443rE6SQYoI"
      }
    },
    {
      "cell_type": "markdown",
      "source": [],
      "metadata": {
        "id": "vp9_27CSQ2St"
      }
    },
    {
      "cell_type": "markdown",
      "source": [],
      "metadata": {
        "id": "TpylgsYGRUT8"
      }
    },
    {
      "cell_type": "markdown",
      "source": [],
      "metadata": {
        "id": "1Uj8JWzlRyTX"
      }
    },
    {
      "cell_type": "markdown",
      "source": [],
      "metadata": {
        "id": "LOAijFVbSQZd"
      }
    },
    {
      "cell_type": "markdown",
      "source": [],
      "metadata": {
        "id": "UfoGsk6oSuIl"
      }
    },
    {
      "cell_type": "markdown",
      "source": [],
      "metadata": {
        "id": "uDF6bMzfTMVv"
      }
    },
    {
      "cell_type": "markdown",
      "source": [],
      "metadata": {
        "id": "mJJMCXohTp7j"
      }
    },
    {
      "cell_type": "markdown",
      "source": [],
      "metadata": {
        "id": "WHm9aHy5UHwZ"
      }
    },
    {
      "cell_type": "markdown",
      "source": [],
      "metadata": {
        "id": "yvoaTSf5UlgL"
      }
    },
    {
      "cell_type": "markdown",
      "source": [],
      "metadata": {
        "id": "SUjSLJQRVDp8"
      }
    },
    {
      "cell_type": "markdown",
      "source": [],
      "metadata": {
        "id": "PKuI_RN0VhvU"
      }
    },
    {
      "cell_type": "markdown",
      "source": [],
      "metadata": {
        "id": "AV8-EZT2V_zL"
      }
    },
    {
      "cell_type": "markdown",
      "source": [],
      "metadata": {
        "id": "KxmLoEW8WdsY"
      }
    },
    {
      "cell_type": "markdown",
      "source": [],
      "metadata": {
        "id": "oOeps6vcW7f2"
      }
    },
    {
      "cell_type": "markdown",
      "source": [],
      "metadata": {
        "id": "oZZbdpvpXY_g"
      }
    },
    {
      "cell_type": "markdown",
      "source": [],
      "metadata": {
        "id": "l3VeFD9OX294"
      }
    },
    {
      "cell_type": "markdown",
      "source": [],
      "metadata": {
        "id": "1_yYeY36YUtW"
      }
    },
    {
      "cell_type": "markdown",
      "source": [],
      "metadata": {
        "id": "zG3AuQjPYydF"
      }
    },
    {
      "cell_type": "markdown",
      "source": [],
      "metadata": {
        "id": "KEP7AqKZZQME"
      }
    },
    {
      "cell_type": "markdown",
      "source": [],
      "metadata": {
        "id": "aY7KMxfIZt4A"
      }
    },
    {
      "cell_type": "markdown",
      "source": [],
      "metadata": {
        "id": "Hftfb8XvaLxL"
      }
    },
    {
      "cell_type": "markdown",
      "source": [],
      "metadata": {
        "id": "hhWge2uHaqGG"
      }
    },
    {
      "cell_type": "markdown",
      "source": [],
      "metadata": {
        "id": "RXXqQ12hbIbz"
      }
    },
    {
      "cell_type": "markdown",
      "source": [],
      "metadata": {
        "id": "_2uC2tCNbmJH"
      }
    },
    {
      "cell_type": "markdown",
      "source": [],
      "metadata": {
        "id": "Ue1aFerYcDq9"
      }
    },
    {
      "cell_type": "markdown",
      "source": [],
      "metadata": {
        "id": "AS5o3m0wchXd"
      }
    },
    {
      "cell_type": "markdown",
      "source": [],
      "metadata": {
        "id": "NNbBJs-9c_2w"
      }
    },
    {
      "cell_type": "markdown",
      "source": [],
      "metadata": {
        "id": "l-sPBahjdd1R"
      }
    },
    {
      "cell_type": "markdown",
      "source": [],
      "metadata": {
        "id": "lJsrX2PNd8Cg"
      }
    },
    {
      "cell_type": "markdown",
      "source": [],
      "metadata": {
        "id": "AU0OHaIreZ7b"
      }
    },
    {
      "cell_type": "markdown",
      "source": [],
      "metadata": {
        "id": "Six4LF5De3u2"
      }
    },
    {
      "cell_type": "markdown",
      "source": [],
      "metadata": {
        "id": "Wk0mOTpIfVdz"
      }
    },
    {
      "cell_type": "markdown",
      "source": [],
      "metadata": {
        "id": "J_PLm3TDfzNF"
      }
    },
    {
      "cell_type": "markdown",
      "source": [],
      "metadata": {
        "id": "MXZfgyOkgRMD"
      }
    },
    {
      "cell_type": "markdown",
      "source": [],
      "metadata": {
        "id": "Dkumba5JgvKi"
      }
    },
    {
      "cell_type": "markdown",
      "source": [],
      "metadata": {
        "id": "_LdnjVXEhNH-"
      }
    },
    {
      "cell_type": "markdown",
      "source": [],
      "metadata": {
        "id": "k0x9xhpchrbf"
      }
    },
    {
      "cell_type": "markdown",
      "source": [],
      "metadata": {
        "id": "unGPgg5RiJd-"
      }
    },
    {
      "cell_type": "markdown",
      "source": [],
      "metadata": {
        "id": "7CUqiZC2in0t"
      }
    },
    {
      "cell_type": "markdown",
      "source": [],
      "metadata": {
        "id": "3Ahj2JGajGIH"
      }
    },
    {
      "cell_type": "markdown",
      "source": [],
      "metadata": {
        "id": "LeJS40ivjkPB"
      }
    },
    {
      "cell_type": "markdown",
      "source": [],
      "metadata": {
        "id": "g-6zEd8ckCBL"
      }
    },
    {
      "cell_type": "markdown",
      "source": [],
      "metadata": {
        "id": "pz9x3wBukgHr"
      }
    },
    {
      "cell_type": "markdown",
      "source": [],
      "metadata": {
        "id": "BRgLgZDAk-OV"
      }
    },
    {
      "cell_type": "markdown",
      "source": [],
      "metadata": {
        "id": "tVckJW5tlb3z"
      }
    },
    {
      "cell_type": "markdown",
      "source": [],
      "metadata": {
        "id": "fszSOO9jl5n1"
      }
    },
    {
      "cell_type": "markdown",
      "source": [],
      "metadata": {
        "id": "IjWJVTqbmXnE"
      }
    },
    {
      "cell_type": "markdown",
      "source": [],
      "metadata": {
        "id": "YjXOQIHOm12Q"
      }
    },
    {
      "cell_type": "markdown",
      "source": [],
      "metadata": {
        "id": "i9gL0yVonT0y"
      }
    },
    {
      "cell_type": "markdown",
      "source": [],
      "metadata": {
        "id": "6nXxH5S3nxoN"
      }
    },
    {
      "cell_type": "markdown",
      "source": [],
      "metadata": {
        "id": "mm0xXe0coPl7"
      }
    },
    {
      "cell_type": "markdown",
      "source": [],
      "metadata": {
        "id": "RZdpR3AcotV-"
      }
    },
    {
      "cell_type": "markdown",
      "source": [],
      "metadata": {
        "id": "64imu4nwpLbg"
      }
    },
    {
      "cell_type": "markdown",
      "source": [],
      "metadata": {
        "id": "Ga_PM8F3ppt_"
      }
    },
    {
      "cell_type": "markdown",
      "source": [],
      "metadata": {
        "id": "DW_GXZA0qH_V"
      }
    },
    {
      "cell_type": "markdown",
      "source": [],
      "metadata": {
        "id": "Y9NnxMDlql_3"
      }
    },
    {
      "cell_type": "markdown",
      "source": [],
      "metadata": {
        "id": "j6egisJJrEEV"
      }
    },
    {
      "cell_type": "markdown",
      "source": [],
      "metadata": {
        "id": "XNAaCEl-riBz"
      }
    },
    {
      "cell_type": "markdown",
      "source": [],
      "metadata": {
        "id": "s2sQyFDHr_wp"
      }
    },
    {
      "cell_type": "markdown",
      "source": [],
      "metadata": {
        "id": "eipWoUN5sd6A"
      }
    },
    {
      "cell_type": "markdown",
      "source": [],
      "metadata": {
        "id": "ENmLbqdBs8hA"
      }
    },
    {
      "cell_type": "markdown",
      "source": [],
      "metadata": {
        "id": "bEmGfSZ0tbAA"
      }
    },
    {
      "cell_type": "markdown",
      "source": [],
      "metadata": {
        "id": "LpB-stTjt4_S"
      }
    },
    {
      "cell_type": "markdown",
      "source": [],
      "metadata": {
        "id": "c8o0_BUluXNK"
      }
    },
    {
      "cell_type": "markdown",
      "source": [],
      "metadata": {
        "id": "WbtRRKxbu1KX"
      }
    },
    {
      "cell_type": "markdown",
      "source": [],
      "metadata": {
        "id": "Ik44LbxmvS_x"
      }
    },
    {
      "cell_type": "markdown",
      "source": [],
      "metadata": {
        "id": "145A9Z6Yvw03"
      }
    },
    {
      "cell_type": "markdown",
      "source": [],
      "metadata": {
        "id": "EWKHO9pqwPB1"
      }
    },
    {
      "cell_type": "markdown",
      "source": [],
      "metadata": {
        "id": "Re1RPayjwtIY"
      }
    },
    {
      "cell_type": "markdown",
      "source": [],
      "metadata": {
        "id": "LWzjiD9PxLDz"
      }
    },
    {
      "cell_type": "markdown",
      "source": [],
      "metadata": {
        "id": "0rd3MfSVxpGZ"
      }
    },
    {
      "cell_type": "markdown",
      "source": [],
      "metadata": {
        "id": "MDbmxnQLyHFI"
      }
    },
    {
      "cell_type": "markdown",
      "source": [],
      "metadata": {
        "id": "7llf0H16ylLN"
      }
    },
    {
      "cell_type": "markdown",
      "source": [],
      "metadata": {
        "id": "QYlPlXTvzDJ9"
      }
    },
    {
      "cell_type": "markdown",
      "source": [],
      "metadata": {
        "id": "AiPrxOPGzhIE"
      }
    },
    {
      "cell_type": "markdown",
      "source": [],
      "metadata": {
        "id": "wfKow8Srz_II"
      }
    },
    {
      "cell_type": "markdown",
      "source": [],
      "metadata": {
        "id": "Vpiam4ZT0dFw"
      }
    },
    {
      "cell_type": "markdown",
      "source": [],
      "metadata": {
        "id": "3Y0Asiqb07dF"
      }
    },
    {
      "cell_type": "markdown",
      "source": [],
      "metadata": {
        "id": "YPgwWlyp1ZM3"
      }
    },
    {
      "cell_type": "markdown",
      "source": [],
      "metadata": {
        "id": "cWMc9XvN123o"
      }
    },
    {
      "cell_type": "markdown",
      "source": [],
      "metadata": {
        "id": "foDAUEXz2U9o"
      }
    },
    {
      "cell_type": "markdown",
      "source": [],
      "metadata": {
        "id": "HM9ZaOQV2zBF"
      }
    },
    {
      "cell_type": "markdown",
      "source": [],
      "metadata": {
        "id": "-GZUpl5k3Q_1"
      }
    },
    {
      "cell_type": "markdown",
      "source": [],
      "metadata": {
        "id": "hvCskxBB3vSt"
      }
    },
    {
      "cell_type": "markdown",
      "source": [],
      "metadata": {
        "id": "1e1_JFuL4NRh"
      }
    },
    {
      "cell_type": "markdown",
      "source": [],
      "metadata": {
        "id": "dmAesES34q_p"
      }
    },
    {
      "cell_type": "markdown",
      "source": [],
      "metadata": {
        "id": "fl6dRkKn5I9J"
      }
    },
    {
      "cell_type": "markdown",
      "source": [],
      "metadata": {
        "id": "ildhNPSJ5nV2"
      }
    },
    {
      "cell_type": "markdown",
      "source": [],
      "metadata": {
        "id": "JhQNjvDy6Fis"
      }
    },
    {
      "cell_type": "markdown",
      "source": [],
      "metadata": {
        "id": "vXCQSkxs6kEI"
      }
    },
    {
      "cell_type": "markdown",
      "source": [],
      "metadata": {
        "id": "kO79eclb7CDs"
      }
    },
    {
      "cell_type": "markdown",
      "source": [],
      "metadata": {
        "id": "758LSL8g7f1u"
      }
    },
    {
      "cell_type": "markdown",
      "source": [],
      "metadata": {
        "id": "uBafsJPS7901"
      }
    },
    {
      "cell_type": "markdown",
      "source": [],
      "metadata": {
        "id": "u3z_SMZm8cSB"
      }
    },
    {
      "cell_type": "markdown",
      "source": [],
      "metadata": {
        "id": "aSyKtJTh86fE"
      }
    },
    {
      "cell_type": "markdown",
      "source": [],
      "metadata": {
        "id": "TcSwcIiM9Ycc"
      }
    },
    {
      "cell_type": "markdown",
      "source": [],
      "metadata": {
        "id": "pEaihzSD92aF"
      }
    },
    {
      "cell_type": "markdown",
      "source": [],
      "metadata": {
        "id": "c27ZIa2y-UqY"
      }
    },
    {
      "cell_type": "markdown",
      "source": [],
      "metadata": {
        "id": "jC7BI3jq-yYZ"
      }
    },
    {
      "cell_type": "markdown",
      "source": [],
      "metadata": {
        "id": "DR2C47ph_QDa"
      }
    },
    {
      "cell_type": "markdown",
      "source": [],
      "metadata": {
        "id": "mkyZ1Fp9_uLk"
      }
    },
    {
      "cell_type": "markdown",
      "source": [],
      "metadata": {
        "id": "DzEDqiEwAMqw"
      }
    },
    {
      "cell_type": "markdown",
      "source": [],
      "metadata": {
        "id": "9I-riHSrAqYt"
      }
    },
    {
      "cell_type": "markdown",
      "source": [],
      "metadata": {
        "id": "O7jwVgcIBIkc"
      }
    },
    {
      "cell_type": "markdown",
      "source": [],
      "metadata": {
        "id": "mh4EYoDQBmeV"
      }
    },
    {
      "cell_type": "markdown",
      "source": [],
      "metadata": {
        "id": "nwcBlGODCEN-"
      }
    },
    {
      "cell_type": "markdown",
      "source": [],
      "metadata": {
        "id": "PTavvXfSCiuU"
      }
    },
    {
      "cell_type": "markdown",
      "source": [],
      "metadata": {
        "id": "eVk1t-ZzDA9Q"
      }
    },
    {
      "cell_type": "markdown",
      "source": [],
      "metadata": {
        "id": "HSeQ2fdsDfOg"
      }
    },
    {
      "cell_type": "markdown",
      "source": [],
      "metadata": {
        "id": "tKVIb-yOD88a"
      }
    },
    {
      "cell_type": "markdown",
      "source": [],
      "metadata": {
        "id": "bZKrsWE6Ea5q"
      }
    },
    {
      "cell_type": "markdown",
      "source": [],
      "metadata": {
        "id": "YcJ4UaStE43j"
      }
    },
    {
      "cell_type": "markdown",
      "source": [],
      "metadata": {
        "id": "NZrd50ynFW1h"
      }
    },
    {
      "cell_type": "markdown",
      "source": [],
      "metadata": {
        "id": "q20cyfUFF1EN"
      }
    },
    {
      "cell_type": "markdown",
      "source": [],
      "metadata": {
        "id": "b2ZWR5q7GTRd"
      }
    },
    {
      "cell_type": "markdown",
      "source": [],
      "metadata": {
        "id": "dsCnXm0yGxci"
      }
    },
    {
      "cell_type": "markdown",
      "source": [],
      "metadata": {
        "id": "qbl7BvBqHQD6"
      }
    },
    {
      "cell_type": "markdown",
      "source": [],
      "metadata": {
        "id": "UK-0RtpEHuql"
      }
    },
    {
      "cell_type": "markdown",
      "source": [],
      "metadata": {
        "id": "n9E8DdBDINMc"
      }
    },
    {
      "cell_type": "markdown",
      "source": [],
      "metadata": {
        "id": "-xiuAn7iIrL3"
      }
    },
    {
      "cell_type": "markdown",
      "source": [],
      "metadata": {
        "id": "CwapO0-wJJLi"
      }
    },
    {
      "cell_type": "markdown",
      "source": [],
      "metadata": {
        "id": "_nF_5ov0JnZZ"
      }
    },
    {
      "cell_type": "markdown",
      "source": [],
      "metadata": {
        "id": "TeyVrhJsKFXW"
      }
    },
    {
      "cell_type": "markdown",
      "source": [],
      "metadata": {
        "id": "Ix8NNgkmKjkc"
      }
    },
    {
      "cell_type": "markdown",
      "source": [],
      "metadata": {
        "id": "wo4BEQUqLByC"
      }
    },
    {
      "cell_type": "markdown",
      "source": [],
      "metadata": {
        "id": "sjTLLfTZLffP"
      }
    },
    {
      "cell_type": "markdown",
      "source": [],
      "metadata": {
        "id": "e16lE6E7L9s0"
      }
    },
    {
      "cell_type": "markdown",
      "source": [],
      "metadata": {
        "id": "dJ6MklrbMcHp"
      }
    },
    {
      "cell_type": "markdown",
      "source": [],
      "metadata": {
        "id": "v-vCCwuEM6lK"
      }
    },
    {
      "cell_type": "markdown",
      "source": [],
      "metadata": {
        "id": "8Qz7-B-_NYyf"
      }
    },
    {
      "cell_type": "markdown",
      "source": [],
      "metadata": {
        "id": "vry2LsCpN2qK"
      }
    },
    {
      "cell_type": "markdown",
      "source": [],
      "metadata": {
        "id": "aMcqVpZXOU_S"
      }
    },
    {
      "cell_type": "markdown",
      "source": [],
      "metadata": {
        "id": "_0adIAdYOy_E"
      }
    },
    {
      "cell_type": "markdown",
      "source": [],
      "metadata": {
        "id": "5iskjODCPROO"
      }
    },
    {
      "cell_type": "markdown",
      "source": [],
      "metadata": {
        "id": "rmyohY3LPvdt"
      }
    },
    {
      "cell_type": "markdown",
      "source": [],
      "metadata": {
        "id": "sywO5oYlQNs3"
      }
    },
    {
      "cell_type": "markdown",
      "source": [],
      "metadata": {
        "id": "k6Q3fHzuQr60"
      }
    },
    {
      "cell_type": "markdown",
      "source": [],
      "metadata": {
        "id": "diDj9iRwRKIS"
      }
    },
    {
      "cell_type": "markdown",
      "source": [],
      "metadata": {
        "id": "dhZC00_WRoWB"
      }
    },
    {
      "cell_type": "markdown",
      "source": [],
      "metadata": {
        "id": "t_WpTZ6ISGUQ"
      }
    },
    {
      "cell_type": "markdown",
      "source": [],
      "metadata": {
        "id": "_oRBWN19Skh6"
      }
    },
    {
      "cell_type": "markdown",
      "source": [],
      "metadata": {
        "id": "JOHDyvt9TCvz"
      }
    },
    {
      "cell_type": "markdown",
      "source": [],
      "metadata": {
        "id": "jJnRvqKhTg9e"
      }
    },
    {
      "cell_type": "markdown",
      "source": [],
      "metadata": {
        "id": "SnrRucmGT_V6"
      }
    },
    {
      "cell_type": "markdown",
      "source": [],
      "metadata": {
        "id": "JGEH2ZThUdTa"
      }
    },
    {
      "cell_type": "markdown",
      "source": [],
      "metadata": {
        "id": "bre3OYGGU7hR"
      }
    },
    {
      "cell_type": "markdown",
      "source": [],
      "metadata": {
        "id": "i1NZwKMjVZfo"
      }
    },
    {
      "cell_type": "markdown",
      "source": [],
      "metadata": {
        "id": "0wf5KVkVV3vy"
      }
    },
    {
      "cell_type": "markdown",
      "source": [],
      "metadata": {
        "id": "wRSLOU2xWWPk"
      }
    },
    {
      "cell_type": "markdown",
      "source": [],
      "metadata": {
        "id": "RRjPs4o6W0fh"
      }
    },
    {
      "cell_type": "markdown",
      "source": [],
      "metadata": {
        "id": "9ZMw66BOXStY"
      }
    },
    {
      "cell_type": "markdown",
      "source": [],
      "metadata": {
        "id": "j3CLVwGFXw67"
      }
    },
    {
      "cell_type": "markdown",
      "source": [],
      "metadata": {
        "id": "F8A6MJUxYPXq"
      }
    },
    {
      "cell_type": "markdown",
      "source": [],
      "metadata": {
        "id": "sCSLpjD7YtVR"
      }
    },
    {
      "cell_type": "markdown",
      "source": [],
      "metadata": {
        "id": "JOfrnC3cZLqW"
      }
    },
    {
      "cell_type": "markdown",
      "source": [],
      "metadata": {
        "id": "BfVDsjzIZp3i"
      }
    },
    {
      "cell_type": "markdown",
      "source": [],
      "metadata": {
        "id": "9N51xb1KaH10"
      }
    },
    {
      "cell_type": "markdown",
      "source": [],
      "metadata": {
        "id": "wcMZxPSbamEI"
      }
    },
    {
      "cell_type": "markdown",
      "source": [],
      "metadata": {
        "id": "DLP6SohkbESH"
      }
    },
    {
      "cell_type": "markdown",
      "source": [],
      "metadata": {
        "id": "QVbZoMh8bieA"
      }
    },
    {
      "cell_type": "markdown",
      "source": [],
      "metadata": {
        "id": "t2tHaSK5cArm"
      }
    },
    {
      "cell_type": "markdown",
      "source": [],
      "metadata": {
        "id": "Cym9y_C0ceqT"
      }
    },
    {
      "cell_type": "markdown",
      "source": [],
      "metadata": {
        "id": "Ok_CqzPsc9fT"
      }
    },
    {
      "cell_type": "markdown",
      "source": [],
      "metadata": {
        "id": "LzDOExUAdb8k"
      }
    },
    {
      "cell_type": "markdown",
      "source": [],
      "metadata": {
        "id": "8iAvBnqrd6KJ"
      }
    },
    {
      "cell_type": "markdown",
      "source": [],
      "metadata": {
        "id": "ZhipEURWeYXs"
      }
    },
    {
      "cell_type": "markdown",
      "source": [],
      "metadata": {
        "id": "Lk8d1rCTe2Vx"
      }
    },
    {
      "cell_type": "markdown",
      "source": [],
      "metadata": {
        "id": "0oj7U0elfUjw"
      }
    },
    {
      "cell_type": "markdown",
      "source": [],
      "metadata": {
        "id": "Vm8OuNvEfyCL"
      }
    },
    {
      "cell_type": "markdown",
      "source": [],
      "metadata": {
        "id": "p9w5Ux8RgQPd"
      }
    },
    {
      "cell_type": "markdown",
      "source": [],
      "metadata": {
        "id": "loNbY9pXgusc"
      }
    },
    {
      "cell_type": "markdown",
      "source": [],
      "metadata": {
        "id": "n8NmwJTbhNY6"
      }
    },
    {
      "cell_type": "markdown",
      "source": [],
      "metadata": {
        "id": "oos-zyzWhr2l"
      }
    },
    {
      "cell_type": "markdown",
      "source": [],
      "metadata": {
        "id": "3yQESKeBiKEo"
      }
    },
    {
      "cell_type": "markdown",
      "source": [],
      "metadata": {
        "id": "pajn1lcbioT3"
      }
    },
    {
      "cell_type": "markdown",
      "source": [],
      "metadata": {
        "id": "w-nQVohJjGSb"
      }
    },
    {
      "cell_type": "markdown",
      "source": [],
      "metadata": {
        "id": "9spyrxP-jkwZ"
      }
    },
    {
      "cell_type": "markdown",
      "source": [],
      "metadata": {
        "id": "hxxX5V5bkDOa"
      }
    },
    {
      "cell_type": "markdown",
      "source": [],
      "metadata": {
        "id": "_bHvyICFkhOO"
      }
    },
    {
      "cell_type": "markdown",
      "source": [],
      "metadata": {
        "id": "1aCLyRZgk_tb"
      }
    },
    {
      "cell_type": "markdown",
      "source": [],
      "metadata": {
        "id": "VDmM3QISld99"
      }
    },
    {
      "cell_type": "markdown",
      "source": [],
      "metadata": {
        "id": "YB5eCG7Zl8dg"
      }
    },
    {
      "cell_type": "markdown",
      "source": [],
      "metadata": {
        "id": "qfBhLvtemabb"
      }
    },
    {
      "cell_type": "markdown",
      "source": [],
      "metadata": {
        "id": "xSlFnMPLm4Zs"
      }
    },
    {
      "cell_type": "markdown",
      "source": [],
      "metadata": {
        "id": "Yq19uqwTnWnP"
      }
    },
    {
      "cell_type": "markdown",
      "source": [],
      "metadata": {
        "id": "JMTSuj5rn1UX"
      }
    },
    {
      "cell_type": "markdown",
      "source": [],
      "metadata": {
        "id": "PWRBmI7coTxn"
      }
    },
    {
      "cell_type": "markdown",
      "source": [],
      "metadata": {
        "id": "WUVgwirJox-6"
      }
    },
    {
      "cell_type": "markdown",
      "source": [],
      "metadata": {
        "id": "HVJHdrVhpQb4"
      }
    },
    {
      "cell_type": "markdown",
      "source": [],
      "metadata": {
        "id": "-f2xNRurpu48"
      }
    },
    {
      "cell_type": "markdown",
      "source": [],
      "metadata": {
        "id": "4npR0WD7qM20"
      }
    },
    {
      "cell_type": "markdown",
      "source": [],
      "metadata": {
        "id": "XjrZZRUJqrEE"
      }
    },
    {
      "cell_type": "markdown",
      "source": [],
      "metadata": {
        "id": "hSvjWCW6rJiV"
      }
    },
    {
      "cell_type": "markdown",
      "source": [],
      "metadata": {
        "id": "UrR7atfDrnxM"
      }
    },
    {
      "cell_type": "markdown",
      "source": [],
      "metadata": {
        "id": "zbps1bQEsF9F"
      }
    },
    {
      "cell_type": "markdown",
      "source": [],
      "metadata": {
        "id": "RFx8oNCAskLO"
      }
    },
    {
      "cell_type": "markdown",
      "source": [],
      "metadata": {
        "id": "-JpDUN3CtCYs"
      }
    },
    {
      "cell_type": "markdown",
      "source": [],
      "metadata": {
        "id": "4zLinUs0tgmJ"
      }
    },
    {
      "cell_type": "markdown",
      "source": [],
      "metadata": {
        "id": "emo3D3_ot-kN"
      }
    },
    {
      "cell_type": "markdown",
      "source": [],
      "metadata": {
        "id": "pXjyZA-_udB7"
      }
    },
    {
      "cell_type": "markdown",
      "source": [],
      "metadata": {
        "id": "Duqlw5BHu7Pj"
      }
    },
    {
      "cell_type": "markdown",
      "source": [],
      "metadata": {
        "id": "j1GUxB2tvZs3"
      }
    },
    {
      "cell_type": "markdown",
      "source": [],
      "metadata": {
        "id": "ClQkCMd_v4KC"
      }
    },
    {
      "cell_type": "markdown",
      "source": [],
      "metadata": {
        "id": "WO69oGfIwWny"
      }
    },
    {
      "cell_type": "markdown",
      "source": [],
      "metadata": {
        "id": "XQiFPI3Qw01T"
      }
    },
    {
      "cell_type": "markdown",
      "source": [],
      "metadata": {
        "id": "QNuGvuNNxTCn"
      }
    },
    {
      "cell_type": "markdown",
      "source": [],
      "metadata": {
        "id": "lShBUyOyxxgi"
      }
    },
    {
      "cell_type": "markdown",
      "source": [],
      "metadata": {
        "id": "am5vXoSkyPwj"
      }
    },
    {
      "cell_type": "markdown",
      "source": [],
      "metadata": {
        "id": "-XUQefL-yt_p"
      }
    },
    {
      "cell_type": "markdown",
      "source": [],
      "metadata": {
        "id": "5khoBYEBzMu3"
      }
    },
    {
      "cell_type": "markdown",
      "source": [],
      "metadata": {
        "id": "OOUkf8uDzrdH"
      }
    },
    {
      "cell_type": "markdown",
      "source": [],
      "metadata": {
        "id": "d6QJ5yDb0JrI"
      }
    },
    {
      "cell_type": "markdown",
      "source": [],
      "metadata": {
        "id": "R3OQ1LWq0n5Q"
      }
    },
    {
      "cell_type": "markdown",
      "source": [],
      "metadata": {
        "id": "5W-9rfTX1GW_"
      }
    },
    {
      "cell_type": "markdown",
      "source": [],
      "metadata": {
        "id": "v6qjxlcb1klT"
      }
    },
    {
      "cell_type": "markdown",
      "source": [],
      "metadata": {
        "id": "MDbm60vC2DCa"
      }
    },
    {
      "cell_type": "markdown",
      "source": [],
      "metadata": {
        "id": "DjCc2tGw2hAW"
      }
    },
    {
      "cell_type": "markdown",
      "source": [],
      "metadata": {
        "id": "x5jnGlyZ2_N8"
      }
    },
    {
      "cell_type": "markdown",
      "source": [],
      "metadata": {
        "id": "l5clWvk93d6r"
      }
    },
    {
      "cell_type": "markdown",
      "source": [],
      "metadata": {
        "id": "ox1JrzRa38X_"
      }
    },
    {
      "cell_type": "markdown",
      "source": [],
      "metadata": {
        "id": "s8zvpGMf4a1n"
      }
    },
    {
      "cell_type": "markdown",
      "source": [],
      "metadata": {
        "id": "SJglu5-J45DM"
      }
    },
    {
      "cell_type": "markdown",
      "source": [],
      "metadata": {
        "id": "xC9JrYlJ5XQc"
      }
    },
    {
      "cell_type": "markdown",
      "source": [],
      "metadata": {
        "id": "wOfh6loV51ve"
      }
    },
    {
      "cell_type": "markdown",
      "source": [],
      "metadata": {
        "id": "poFNnEZJ6Tu5"
      }
    },
    {
      "cell_type": "markdown",
      "source": [],
      "metadata": {
        "id": "c-kEvmwN6x9C"
      }
    },
    {
      "cell_type": "markdown",
      "source": [],
      "metadata": {
        "id": "yo0JcJZN7QK0"
      }
    },
    {
      "cell_type": "markdown",
      "source": [],
      "metadata": {
        "id": "EJ-uTSKW7uYp"
      }
    },
    {
      "cell_type": "markdown",
      "source": [],
      "metadata": {
        "id": "oJfat1sv8Mmz"
      }
    },
    {
      "cell_type": "markdown",
      "source": [],
      "metadata": {
        "id": "XESFghjb8rEE"
      }
    },
    {
      "cell_type": "markdown",
      "source": [],
      "metadata": {
        "id": "Wj8bLJHx9Jh7"
      }
    },
    {
      "cell_type": "markdown",
      "source": [],
      "metadata": {
        "id": "kJ7yLKi89nf0"
      }
    },
    {
      "cell_type": "markdown",
      "source": [],
      "metadata": {
        "id": "ouXo1sfG-GNC"
      }
    },
    {
      "cell_type": "markdown",
      "source": [],
      "metadata": {
        "id": "35CdYR0F-kbH"
      }
    },
    {
      "cell_type": "markdown",
      "source": [],
      "metadata": {
        "id": "gOTjgH6m_Co4"
      }
    },
    {
      "cell_type": "markdown",
      "source": [],
      "metadata": {
        "id": "36fHsTid_hmW"
      }
    },
    {
      "cell_type": "markdown",
      "source": [],
      "metadata": {
        "id": "QrmnHHQ3AAF5"
      }
    },
    {
      "cell_type": "markdown",
      "source": [],
      "metadata": {
        "id": "n5rEvNktAeVt"
      }
    },
    {
      "cell_type": "markdown",
      "source": [],
      "metadata": {
        "id": "aSSq0jQGA8UK"
      }
    },
    {
      "cell_type": "markdown",
      "source": [],
      "metadata": {
        "id": "5DIHIR3DBah9"
      }
    },
    {
      "cell_type": "markdown",
      "source": [],
      "metadata": {
        "id": "FQAsE5QGB4gX"
      }
    },
    {
      "cell_type": "markdown",
      "source": [],
      "metadata": {
        "id": "Svkk0czgCW-A"
      }
    },
    {
      "cell_type": "markdown",
      "source": [],
      "metadata": {
        "id": "snM-lr2MC1bH"
      }
    },
    {
      "cell_type": "markdown",
      "source": [],
      "metadata": {
        "id": "iX6g7J6GDT4X"
      }
    },
    {
      "cell_type": "markdown",
      "source": [],
      "metadata": {
        "id": "WLiy4MElDyWR"
      }
    },
    {
      "cell_type": "markdown",
      "source": [],
      "metadata": {
        "id": "-_Jt5J17EQj5"
      }
    },
    {
      "cell_type": "markdown",
      "source": [],
      "metadata": {
        "id": "H59AovgtEvB4"
      }
    },
    {
      "cell_type": "markdown",
      "source": [],
      "metadata": {
        "id": "vLtjvexjFNfm"
      }
    },
    {
      "cell_type": "markdown",
      "source": [],
      "metadata": {
        "id": "__nIVdpvFr8_"
      }
    },
    {
      "cell_type": "markdown",
      "source": [],
      "metadata": {
        "id": "maEkZExlGKaT"
      }
    },
    {
      "cell_type": "markdown",
      "source": [],
      "metadata": {
        "id": "bad84BjzGops"
      }
    },
    {
      "cell_type": "markdown",
      "source": [],
      "metadata": {
        "id": "MlZ0T5bbHHI6"
      }
    },
    {
      "cell_type": "markdown",
      "source": [],
      "metadata": {
        "id": "C9OypOTKHlXr"
      }
    },
    {
      "cell_type": "markdown",
      "source": [],
      "metadata": {
        "id": "pKcgWYY0IDWg"
      }
    },
    {
      "cell_type": "markdown",
      "source": [],
      "metadata": {
        "id": "S6WHc_HqIhzv"
      }
    },
    {
      "cell_type": "markdown",
      "source": [],
      "metadata": {
        "id": "kCLGnyjXJAhM"
      }
    },
    {
      "cell_type": "markdown",
      "source": [],
      "metadata": {
        "id": "Hktm1gkhJeu2"
      }
    },
    {
      "cell_type": "markdown",
      "source": [],
      "metadata": {
        "id": "Wufvzon5J9MX"
      }
    },
    {
      "cell_type": "markdown",
      "source": [],
      "metadata": {
        "id": "SikdVp_rKbp1"
      }
    },
    {
      "cell_type": "markdown",
      "source": [],
      "metadata": {
        "id": "Q1RKBM76K6G_"
      }
    },
    {
      "cell_type": "markdown",
      "source": [],
      "metadata": {
        "id": "jBMDj04ELYFP"
      }
    },
    {
      "cell_type": "markdown",
      "source": [],
      "metadata": {
        "id": "n2KehmfGL2ir"
      }
    },
    {
      "cell_type": "markdown",
      "source": [],
      "metadata": {
        "id": "NIdadCs4MUwM"
      }
    },
    {
      "cell_type": "markdown",
      "source": [],
      "metadata": {
        "id": "woBepKEHMzNG"
      }
    },
    {
      "cell_type": "markdown",
      "source": [],
      "metadata": {
        "id": "v2cXNBI-NR7d"
      }
    },
    {
      "cell_type": "markdown",
      "source": [],
      "metadata": {
        "id": "3OpC_M7KNwqW"
      }
    },
    {
      "cell_type": "markdown",
      "source": [],
      "metadata": {
        "id": "m6EeD-K9OPLt"
      }
    },
    {
      "cell_type": "markdown",
      "source": [],
      "metadata": {
        "id": "BXTHSsYFOuK6"
      }
    },
    {
      "cell_type": "markdown",
      "source": [],
      "metadata": {
        "id": "iv4pLjN1PMqW"
      }
    },
    {
      "cell_type": "markdown",
      "source": [],
      "metadata": {
        "id": "Uuf_OD5ZPq5D"
      }
    },
    {
      "cell_type": "markdown",
      "source": [],
      "metadata": {
        "id": "D7crDultQJWp"
      }
    },
    {
      "cell_type": "markdown",
      "source": [],
      "metadata": {
        "id": "bng1WSD6Qn0T"
      }
    },
    {
      "cell_type": "markdown",
      "source": [],
      "metadata": {
        "id": "M-O6RcGTRGR0"
      }
    },
    {
      "cell_type": "markdown",
      "source": [],
      "metadata": {
        "id": "wG-CvzmTRkvo"
      }
    },
    {
      "cell_type": "markdown",
      "source": [],
      "metadata": {
        "id": "d2OfLwlJSDc5"
      }
    },
    {
      "cell_type": "markdown",
      "source": [],
      "metadata": {
        "id": "wmrQyehISh6-"
      }
    },
    {
      "cell_type": "markdown",
      "source": [],
      "metadata": {
        "id": "m7ZYaFiJTAJI"
      }
    },
    {
      "cell_type": "markdown",
      "source": [],
      "metadata": {
        "id": "yRre_9qVTe2M"
      }
    },
    {
      "cell_type": "markdown",
      "source": [],
      "metadata": {
        "id": "Zrdza2A1T9EF"
      }
    },
    {
      "cell_type": "markdown",
      "source": [],
      "metadata": {
        "id": "pg0GIYuCUbhI"
      }
    },
    {
      "cell_type": "markdown",
      "source": [],
      "metadata": {
        "id": "U-m1ooMtU5-c"
      }
    },
    {
      "cell_type": "markdown",
      "source": [],
      "metadata": {
        "id": "kztWqErIVYsO"
      }
    },
    {
      "cell_type": "markdown",
      "source": [],
      "metadata": {
        "id": "rc5OpLOgV3bd"
      }
    },
    {
      "cell_type": "markdown",
      "source": [],
      "metadata": {
        "id": "m6bDmn3CWVp8"
      }
    },
    {
      "cell_type": "markdown",
      "source": [],
      "metadata": {
        "id": "dqVyEG5gWzou"
      }
    },
    {
      "cell_type": "markdown",
      "source": [],
      "metadata": {
        "id": "cVHkMnmuXSGh"
      }
    },
    {
      "cell_type": "markdown",
      "source": [],
      "metadata": {
        "id": "1CqOutaHXwUb"
      }
    },
    {
      "cell_type": "markdown",
      "source": [],
      "metadata": {
        "id": "FBrQlJkFYOx1"
      }
    },
    {
      "cell_type": "markdown",
      "source": [],
      "metadata": {
        "id": "t8IImnywYs_Y"
      }
    },
    {
      "cell_type": "markdown",
      "source": [],
      "metadata": {
        "id": "WOEmsw75ZLsj"
      }
    },
    {
      "cell_type": "markdown",
      "source": [],
      "metadata": {
        "id": "vTCpuoMuZqKH"
      }
    },
    {
      "cell_type": "markdown",
      "source": [],
      "metadata": {
        "id": "6JARwMbmaIX7"
      }
    },
    {
      "cell_type": "markdown",
      "source": [],
      "metadata": {
        "id": "MyBjzscEanVf"
      }
    },
    {
      "cell_type": "markdown",
      "source": [],
      "metadata": {
        "id": "VsoxDmfNbGFg"
      }
    },
    {
      "cell_type": "markdown",
      "source": [],
      "metadata": {
        "id": "4YvHM-mnbk0T"
      }
    },
    {
      "cell_type": "markdown",
      "source": [],
      "metadata": {
        "id": "I-0MKX3fcDik"
      }
    },
    {
      "cell_type": "markdown",
      "source": [],
      "metadata": {
        "id": "2cw8A7_Lchw5"
      }
    },
    {
      "cell_type": "markdown",
      "source": [],
      "metadata": {
        "id": "fazGQc9UdAeS"
      }
    },
    {
      "cell_type": "markdown",
      "source": [],
      "metadata": {
        "id": "2M5L8NfBdfLp"
      }
    },
    {
      "cell_type": "markdown",
      "source": [],
      "metadata": {
        "id": "PhfcZX4fd9pB"
      }
    },
    {
      "cell_type": "markdown",
      "source": [],
      "metadata": {
        "id": "8uwU_-dYecG6"
      }
    },
    {
      "cell_type": "markdown",
      "source": [],
      "metadata": {
        "id": "viaxdMrZe6lJ"
      }
    },
    {
      "cell_type": "markdown",
      "source": [],
      "metadata": {
        "id": "EAksyu1GfZC5"
      }
    },
    {
      "cell_type": "markdown",
      "source": [],
      "metadata": {
        "id": "lBESIZARf3hB"
      }
    },
    {
      "cell_type": "markdown",
      "source": [],
      "metadata": {
        "id": "_mLZuSbFgVvJ"
      }
    },
    {
      "cell_type": "markdown",
      "source": [],
      "metadata": {
        "id": "7Rn06c6Ig0ci"
      }
    },
    {
      "cell_type": "markdown",
      "source": [],
      "metadata": {
        "id": "wJSFR9zvhTZy"
      }
    },
    {
      "cell_type": "markdown",
      "source": [],
      "metadata": {
        "id": "VqF_4VqChxZa"
      }
    },
    {
      "cell_type": "markdown",
      "source": [],
      "metadata": {
        "id": "TXfCh3J4iP7S"
      }
    },
    {
      "cell_type": "markdown",
      "source": [],
      "metadata": {
        "id": "ZXnIDGaPiuqU"
      }
    },
    {
      "cell_type": "markdown",
      "source": [],
      "metadata": {
        "id": "wbQmfEivjNYJ"
      }
    },
    {
      "cell_type": "markdown",
      "source": [],
      "metadata": {
        "id": "QB18cMyYjsFo"
      }
    },
    {
      "cell_type": "markdown",
      "source": [],
      "metadata": {
        "id": "d7nrumIUkKy-"
      }
    },
    {
      "cell_type": "markdown",
      "source": [],
      "metadata": {
        "id": "4DCnD5u-kpg0"
      }
    },
    {
      "cell_type": "markdown",
      "source": [],
      "metadata": {
        "id": "91cb7i0ulH-8"
      }
    },
    {
      "cell_type": "markdown",
      "source": [],
      "metadata": {
        "id": "5ZSFvRVzll86"
      }
    },
    {
      "cell_type": "markdown",
      "source": [],
      "metadata": {
        "id": "Iftp-3r-mEbM"
      }
    },
    {
      "cell_type": "markdown",
      "source": [],
      "metadata": {
        "id": "fX4VR6RBmi45"
      }
    },
    {
      "cell_type": "markdown",
      "source": [],
      "metadata": {
        "id": "m-L3dVYKnBmL"
      }
    },
    {
      "cell_type": "markdown",
      "source": [],
      "metadata": {
        "id": "F0BtpJHwngDy"
      }
    },
    {
      "cell_type": "markdown",
      "source": [],
      "metadata": {
        "id": "bySoXxS4n-hN"
      }
    },
    {
      "cell_type": "markdown",
      "source": [],
      "metadata": {
        "id": "rIE0THBvodOX"
      }
    },
    {
      "cell_type": "markdown",
      "source": [],
      "metadata": {
        "id": "PkxqWihdo7vg"
      }
    },
    {
      "cell_type": "markdown",
      "source": [],
      "metadata": {
        "id": "2czZRMhxpZgu"
      }
    },
    {
      "cell_type": "markdown",
      "source": [],
      "metadata": {
        "id": "M5_WZJrlp3gz"
      }
    },
    {
      "cell_type": "markdown",
      "source": [],
      "metadata": {
        "id": "IwxulYaAqWOk"
      }
    },
    {
      "cell_type": "markdown",
      "source": [],
      "metadata": {
        "id": "oQyt2hnIq08g"
      }
    },
    {
      "cell_type": "markdown",
      "source": [],
      "metadata": {
        "id": "Vl8nChi6rTqr"
      }
    },
    {
      "cell_type": "markdown",
      "source": [],
      "metadata": {
        "id": "ivEKVeGgrx4r"
      }
    },
    {
      "cell_type": "markdown",
      "source": [],
      "metadata": {
        "id": "Ey2Bvw1rsQWb"
      }
    },
    {
      "cell_type": "markdown",
      "source": [],
      "metadata": {
        "id": "SZgBj3ocsuk6"
      }
    },
    {
      "cell_type": "markdown",
      "source": [],
      "metadata": {
        "id": "v_oHQ_OPtNS3"
      }
    },
    {
      "cell_type": "markdown",
      "source": [],
      "metadata": {
        "id": "IheAORMLtsQL"
      }
    },
    {
      "cell_type": "markdown",
      "source": [],
      "metadata": {
        "id": "NK8U0J8UuKtg"
      }
    },
    {
      "cell_type": "markdown",
      "source": [],
      "metadata": {
        "id": "5CPc1yzIupa-"
      }
    },
    {
      "cell_type": "markdown",
      "source": [],
      "metadata": {
        "id": "RTO9RLEZvHo9"
      }
    },
    {
      "cell_type": "markdown",
      "source": [],
      "metadata": {
        "id": "JRTTZOrEvmGb"
      }
    },
    {
      "cell_type": "markdown",
      "source": [],
      "metadata": {
        "id": "-eWE26NZwEzr"
      }
    },
    {
      "cell_type": "markdown",
      "source": [],
      "metadata": {
        "id": "GdkTC-VgwjSG"
      }
    },
    {
      "cell_type": "markdown",
      "source": [],
      "metadata": {
        "id": "dKoCwAtAxCBn"
      }
    },
    {
      "cell_type": "markdown",
      "source": [],
      "metadata": {
        "id": "OOAIpdYixgv0"
      }
    },
    {
      "cell_type": "markdown",
      "source": [],
      "metadata": {
        "id": "FWlwLWkCx--Q"
      }
    },
    {
      "cell_type": "markdown",
      "source": [],
      "metadata": {
        "id": "SyiVXN0QydsR"
      }
    },
    {
      "cell_type": "markdown",
      "source": [],
      "metadata": {
        "id": "igv4P7v8y8Z-"
      }
    },
    {
      "cell_type": "markdown",
      "source": [],
      "metadata": {
        "id": "Btk6Uq1_zan_"
      }
    },
    {
      "cell_type": "markdown",
      "source": [],
      "metadata": {
        "id": "6Dj43QqQz5Fl"
      }
    },
    {
      "cell_type": "markdown",
      "source": [],
      "metadata": {
        "id": "xwgVsq7l0XTv"
      }
    },
    {
      "cell_type": "markdown",
      "source": [],
      "metadata": {
        "id": "IzO8QFnQ02Be"
      }
    },
    {
      "cell_type": "markdown",
      "source": [],
      "metadata": {
        "id": "SDhl9-Xd1UvG"
      }
    },
    {
      "cell_type": "markdown",
      "source": [],
      "metadata": {
        "id": "EY9blHet1zNZ"
      }
    },
    {
      "cell_type": "markdown",
      "source": [],
      "metadata": {
        "id": "KpN_gYjX2R7N"
      }
    },
    {
      "cell_type": "markdown",
      "source": [],
      "metadata": {
        "id": "J4iTHKQX2w8R"
      }
    },
    {
      "cell_type": "markdown",
      "source": [],
      "metadata": {
        "id": "ftc2iiQr3PM1"
      }
    },
    {
      "cell_type": "markdown",
      "source": [],
      "metadata": {
        "id": "CaHEwCiy3td4"
      }
    },
    {
      "cell_type": "markdown",
      "source": [],
      "metadata": {
        "id": "W28RV4HK4Lvl"
      }
    },
    {
      "cell_type": "markdown",
      "source": [],
      "metadata": {
        "id": "f8EXMqJw4qh7"
      }
    },
    {
      "cell_type": "markdown",
      "source": [],
      "metadata": {
        "id": "tvHCSQtF5Jhz"
      }
    },
    {
      "cell_type": "markdown",
      "source": [],
      "metadata": {
        "id": "Y3tpun2c5oBZ"
      }
    },
    {
      "cell_type": "markdown",
      "source": [],
      "metadata": {
        "id": "-yKC6XeG6Gvs"
      }
    },
    {
      "cell_type": "markdown",
      "source": [],
      "metadata": {
        "id": "NlMIumRb6ldP"
      }
    },
    {
      "cell_type": "markdown",
      "source": [],
      "metadata": {
        "id": "xuFksz7O7DsP"
      }
    },
    {
      "cell_type": "markdown",
      "source": [],
      "metadata": {
        "id": "C70J09_W7h7A"
      }
    },
    {
      "cell_type": "markdown",
      "source": [],
      "metadata": {
        "id": "kC6Rsj1C8AZd"
      }
    },
    {
      "cell_type": "markdown",
      "source": [],
      "metadata": {
        "id": "PaGy-fJF8e3T"
      }
    },
    {
      "cell_type": "markdown",
      "source": [],
      "metadata": {
        "id": "z-1GDR2k89kn"
      }
    },
    {
      "cell_type": "markdown",
      "source": [],
      "metadata": {
        "id": "UnUCLrhZ9cR2"
      }
    },
    {
      "cell_type": "markdown",
      "source": [],
      "metadata": {
        "id": "NvQcy0Fn96_3"
      }
    },
    {
      "cell_type": "markdown",
      "source": [],
      "metadata": {
        "id": "Uo-yFzTu-ZeI"
      }
    },
    {
      "cell_type": "markdown",
      "source": [],
      "metadata": {
        "id": "ccQBQxpz-4Lk"
      }
    },
    {
      "cell_type": "markdown",
      "source": [],
      "metadata": {
        "id": "2j6IOw-p_WpV"
      }
    },
    {
      "cell_type": "markdown",
      "source": [],
      "metadata": {
        "id": "6CUCGOR1_1Hq"
      }
    },
    {
      "cell_type": "markdown",
      "source": [],
      "metadata": {
        "id": "dfLOGJPpAT1p"
      }
    },
    {
      "cell_type": "markdown",
      "source": [],
      "metadata": {
        "id": "D81mBFhHAyyz"
      }
    },
    {
      "cell_type": "markdown",
      "source": [],
      "metadata": {
        "id": "aBK2-c_xBRRE"
      }
    },
    {
      "cell_type": "markdown",
      "source": [],
      "metadata": {
        "id": "4XoEHfJHBvRj"
      }
    },
    {
      "cell_type": "markdown",
      "source": [],
      "metadata": {
        "id": "tD62bH4nCNv1"
      }
    },
    {
      "cell_type": "markdown",
      "source": [],
      "metadata": {
        "id": "BCuWnLNaCstt"
      }
    },
    {
      "cell_type": "markdown",
      "source": [],
      "metadata": {
        "id": "_DWE0ScnDLMI"
      }
    },
    {
      "cell_type": "markdown",
      "source": [],
      "metadata": {
        "id": "WPxRWc5tDp6a"
      }
    },
    {
      "cell_type": "markdown",
      "source": [],
      "metadata": {
        "id": "7fAw9QYVEIZk"
      }
    },
    {
      "cell_type": "markdown",
      "source": [],
      "metadata": {
        "id": "GAVWjX0mEnKG"
      }
    },
    {
      "cell_type": "markdown",
      "source": [],
      "metadata": {
        "id": "OBFLyEbFFF68"
      }
    },
    {
      "cell_type": "markdown",
      "source": [],
      "metadata": {
        "id": "PDfbXwCBFk4j"
      }
    },
    {
      "cell_type": "markdown",
      "source": [],
      "metadata": {
        "id": "TvoHQ7YmGD2R"
      }
    },
    {
      "cell_type": "markdown",
      "source": [],
      "metadata": {
        "id": "ReusCKcRGikT"
      }
    },
    {
      "cell_type": "markdown",
      "source": [],
      "metadata": {
        "id": "zlCUe9eEHBSp"
      }
    },
    {
      "cell_type": "markdown",
      "source": [],
      "metadata": {
        "id": "WJTW42E4Hfwy"
      }
    },
    {
      "cell_type": "markdown",
      "source": [],
      "metadata": {
        "id": "SV4GxD5LH-uO"
      }
    },
    {
      "cell_type": "markdown",
      "source": [],
      "metadata": {
        "id": "6ATu0-DIIdb3"
      }
    },
    {
      "cell_type": "markdown",
      "source": [],
      "metadata": {
        "id": "-j9S8xKMI8JZ"
      }
    },
    {
      "cell_type": "markdown",
      "source": [],
      "metadata": {
        "id": "Ya6XqqJdJaXu"
      }
    },
    {
      "cell_type": "markdown",
      "source": [],
      "metadata": {
        "id": "zCKd1yEnJ5Ft"
      }
    },
    {
      "cell_type": "markdown",
      "source": [],
      "metadata": {
        "id": "l_IdQEqkKYCu"
      }
    },
    {
      "cell_type": "markdown",
      "source": [],
      "metadata": {
        "id": "CHCh7z2nK2wE"
      }
    },
    {
      "cell_type": "markdown",
      "source": [],
      "metadata": {
        "id": "zsMnIPL9LU-B"
      }
    },
    {
      "cell_type": "markdown",
      "source": [],
      "metadata": {
        "id": "r9MZfCnvLzcQ"
      }
    },
    {
      "cell_type": "markdown",
      "source": [],
      "metadata": {
        "id": "dTlkIzyNMSnM"
      }
    },
    {
      "cell_type": "markdown",
      "source": [],
      "metadata": {
        "id": "hfB2ncNGMxXp"
      }
    },
    {
      "cell_type": "markdown",
      "source": [],
      "metadata": {
        "id": "oGC8JAtZNQYa"
      }
    },
    {
      "cell_type": "markdown",
      "source": [],
      "metadata": {
        "id": "rjWtnp-5NvZJ"
      }
    },
    {
      "cell_type": "markdown",
      "source": [],
      "metadata": {
        "id": "Yw-9TX91OOpv"
      }
    },
    {
      "cell_type": "markdown",
      "source": [],
      "metadata": {
        "id": "SLAwIzQNOtT7"
      }
    },
    {
      "cell_type": "markdown",
      "source": [],
      "metadata": {
        "id": "qJbvxCmUPMTV"
      }
    },
    {
      "cell_type": "markdown",
      "source": [],
      "metadata": {
        "id": "e9uyev6MPq58"
      }
    },
    {
      "cell_type": "markdown",
      "source": [],
      "metadata": {
        "id": "UIUIhVbaQJoY"
      }
    },
    {
      "cell_type": "markdown",
      "source": [],
      "metadata": {
        "id": "hGipe4J2Qomc"
      }
    },
    {
      "cell_type": "markdown",
      "source": [],
      "metadata": {
        "id": "1bN6TXb_RHkX"
      }
    },
    {
      "cell_type": "markdown",
      "source": [],
      "metadata": {
        "id": "EcMFJdKrRmTR"
      }
    },
    {
      "cell_type": "markdown",
      "source": [],
      "metadata": {
        "id": "KW7mWVbQSFTg"
      }
    },
    {
      "cell_type": "markdown",
      "source": [],
      "metadata": {
        "id": "nSDgBt3_SkTU"
      }
    },
    {
      "cell_type": "markdown",
      "source": [],
      "metadata": {
        "id": "Pj5MrYfUTDij"
      }
    },
    {
      "cell_type": "markdown",
      "source": [],
      "metadata": {
        "id": "MRLUOBpoTiR-"
      }
    },
    {
      "cell_type": "markdown",
      "source": [],
      "metadata": {
        "id": "ozeHNAJqUAgi"
      }
    },
    {
      "cell_type": "markdown",
      "source": [],
      "metadata": {
        "id": "SgQ_M1Z7UfOm"
      }
    },
    {
      "cell_type": "markdown",
      "source": [],
      "metadata": {
        "id": "7kVto2K6U99E"
      }
    },
    {
      "cell_type": "markdown",
      "source": [],
      "metadata": {
        "id": "aIuYK-vTVdaA"
      }
    },
    {
      "cell_type": "markdown",
      "source": [],
      "metadata": {
        "id": "5UT9rOs3V74P"
      }
    },
    {
      "cell_type": "markdown",
      "source": [],
      "metadata": {
        "id": "gfS01193WaWF"
      }
    },
    {
      "cell_type": "markdown",
      "source": [],
      "metadata": {
        "id": "t_mPa0GDW5D6"
      }
    },
    {
      "cell_type": "markdown",
      "source": [],
      "metadata": {
        "id": "-2eOOPLMXYB-"
      }
    },
    {
      "cell_type": "markdown",
      "source": [],
      "metadata": {
        "id": "-EgiITYgX2io"
      }
    },
    {
      "cell_type": "markdown",
      "source": [],
      "metadata": {
        "id": "D1uNWrQBYVA2"
      }
    },
    {
      "cell_type": "markdown",
      "source": [],
      "metadata": {
        "id": "ck8fBzKeYzun"
      }
    },
    {
      "cell_type": "markdown",
      "source": [],
      "metadata": {
        "id": "S_tHaX0WZSr7"
      }
    },
    {
      "cell_type": "markdown",
      "source": [],
      "metadata": {
        "id": "TfPujhYYZxZV"
      }
    },
    {
      "cell_type": "markdown",
      "source": [],
      "metadata": {
        "id": "kBjvrNaFaQXd"
      }
    },
    {
      "cell_type": "markdown",
      "source": [],
      "metadata": {
        "id": "MkMYYvs3avG7"
      }
    },
    {
      "cell_type": "markdown",
      "source": [],
      "metadata": {
        "id": "nyvitQqibN1s"
      }
    },
    {
      "cell_type": "markdown",
      "source": [],
      "metadata": {
        "id": "AsUxeN-Lbs0J"
      }
    },
    {
      "cell_type": "markdown",
      "source": [],
      "metadata": {
        "id": "EcDaZO19cLSe"
      }
    },
    {
      "cell_type": "markdown",
      "source": [],
      "metadata": {
        "id": "s-XgY-s1cqQz"
      }
    },
    {
      "cell_type": "markdown",
      "source": [],
      "metadata": {
        "id": "XXVuZW3hdI_H"
      }
    },
    {
      "cell_type": "markdown",
      "source": [],
      "metadata": {
        "id": "uLAlEFKvdn8w"
      }
    },
    {
      "cell_type": "markdown",
      "source": [],
      "metadata": {
        "id": "vb90llQ7eHKp"
      }
    },
    {
      "cell_type": "markdown",
      "source": [],
      "metadata": {
        "id": "mRpbxRAQemIh"
      }
    },
    {
      "cell_type": "markdown",
      "source": [],
      "metadata": {
        "id": "Lt6h-_x9fFV1"
      }
    },
    {
      "cell_type": "markdown",
      "source": [],
      "metadata": {
        "id": "UdB3HLP3fk3Y"
      }
    },
    {
      "cell_type": "markdown",
      "source": [],
      "metadata": {
        "id": "9x3KviY-gEam"
      }
    },
    {
      "cell_type": "markdown",
      "source": [],
      "metadata": {
        "id": "99RvEsT1gjam"
      }
    },
    {
      "cell_type": "markdown",
      "source": [],
      "metadata": {
        "id": "nkOJCjrghCJc"
      }
    },
    {
      "cell_type": "markdown",
      "source": [],
      "metadata": {
        "id": "p7FtPuY_hg3k"
      }
    },
    {
      "cell_type": "markdown",
      "source": [],
      "metadata": {
        "id": "eCr7C0bch_1-"
      }
    },
    {
      "cell_type": "markdown",
      "source": [],
      "metadata": {
        "id": "mJIv_rPaifD6"
      }
    },
    {
      "cell_type": "markdown",
      "source": [],
      "metadata": {
        "id": "lVZ4Z_L4i-CA"
      }
    },
    {
      "cell_type": "markdown",
      "source": [],
      "metadata": {
        "id": "imd0HXWajcwJ"
      }
    },
    {
      "cell_type": "markdown",
      "source": [],
      "metadata": {
        "id": "pQPGLmnaj79W"
      }
    },
    {
      "cell_type": "markdown",
      "source": [],
      "metadata": {
        "id": "fm1S8pa8karJ"
      }
    },
    {
      "cell_type": "markdown",
      "source": [],
      "metadata": {
        "id": "jqlj4_Rhk5o4"
      }
    },
    {
      "cell_type": "markdown",
      "source": [],
      "metadata": {
        "id": "L8ykWIoylYnM"
      }
    },
    {
      "cell_type": "markdown",
      "source": [],
      "metadata": {
        "id": "Vd5rxaVrl3Vf"
      }
    },
    {
      "cell_type": "markdown",
      "source": [],
      "metadata": {
        "id": "ydlruYjZmWTS"
      }
    },
    {
      "cell_type": "markdown",
      "source": [],
      "metadata": {
        "id": "Oi7VIP2xm1Q6"
      }
    },
    {
      "cell_type": "markdown",
      "source": [],
      "metadata": {
        "id": "JgkXN3TFnT-_"
      }
    },
    {
      "cell_type": "markdown",
      "source": [],
      "metadata": {
        "id": "A8EH7aAdny84"
      }
    },
    {
      "cell_type": "markdown",
      "source": [],
      "metadata": {
        "id": "ju1tDgCeoRq_"
      }
    },
    {
      "cell_type": "markdown",
      "source": [],
      "metadata": {
        "id": "7lz_HSJeow5i"
      }
    },
    {
      "cell_type": "markdown",
      "source": [],
      "metadata": {
        "id": "O0a33WwDpP6Z"
      }
    },
    {
      "cell_type": "markdown",
      "source": [],
      "metadata": {
        "id": "0rBbOfv3pvKa"
      }
    },
    {
      "cell_type": "markdown",
      "source": [],
      "metadata": {
        "id": "1EDctJ4SqNbW"
      }
    },
    {
      "cell_type": "markdown",
      "source": [],
      "metadata": {
        "id": "TGe8zicsqsZ1"
      }
    },
    {
      "cell_type": "markdown",
      "source": [],
      "metadata": {
        "id": "pELXARCKrLYE"
      }
    },
    {
      "cell_type": "markdown",
      "source": [],
      "metadata": {
        "id": "ukEreifzrqmW"
      }
    },
    {
      "cell_type": "markdown",
      "source": [],
      "metadata": {
        "id": "P2hv2BNysKDz"
      }
    },
    {
      "cell_type": "markdown",
      "source": [],
      "metadata": {
        "id": "5pLfnW1XsoyW"
      }
    },
    {
      "cell_type": "markdown",
      "source": [],
      "metadata": {
        "id": "jQ8hdVxEtHhD"
      }
    },
    {
      "cell_type": "markdown",
      "source": [],
      "metadata": {
        "id": "fnjhLFXxtml5"
      }
    },
    {
      "cell_type": "markdown",
      "source": [],
      "metadata": {
        "id": "ugPKJm7zuFoB"
      }
    },
    {
      "cell_type": "markdown",
      "source": [],
      "metadata": {
        "id": "CXz9GlJqukFl"
      }
    },
    {
      "cell_type": "markdown",
      "source": [],
      "metadata": {
        "id": "b-IsdrT0vDDc"
      }
    },
    {
      "cell_type": "markdown",
      "source": [],
      "metadata": {
        "id": "0FBN2LqoviRT"
      }
    },
    {
      "cell_type": "markdown",
      "source": [],
      "metadata": {
        "id": "TPDzrygVwBfC"
      }
    },
    {
      "cell_type": "markdown",
      "source": [],
      "metadata": {
        "id": "08SfmIyfwgN9"
      }
    },
    {
      "cell_type": "markdown",
      "source": [],
      "metadata": {
        "id": "vudbSoyTw_jy"
      }
    },
    {
      "cell_type": "markdown",
      "source": [],
      "metadata": {
        "id": "TjVgAMy9xfA-"
      }
    },
    {
      "cell_type": "markdown",
      "source": [],
      "metadata": {
        "id": "tFE8NfsHx-Ok"
      }
    },
    {
      "cell_type": "markdown",
      "source": [],
      "metadata": {
        "id": "iwqvnaqYydcO"
      }
    },
    {
      "cell_type": "markdown",
      "source": [],
      "metadata": {
        "id": "nh-5ncojy8p_"
      }
    },
    {
      "cell_type": "markdown",
      "source": [],
      "metadata": {
        "id": "gBYGUTQ0zbZV"
      }
    },
    {
      "cell_type": "markdown",
      "source": [],
      "metadata": {
        "id": "_GFj09wVz6Hu"
      }
    },
    {
      "cell_type": "markdown",
      "source": [],
      "metadata": {
        "id": "ls7q5AFr0Y2Y"
      }
    },
    {
      "cell_type": "markdown",
      "source": [],
      "metadata": {
        "id": "8jFgSxpG030s"
      }
    },
    {
      "cell_type": "markdown",
      "source": [],
      "metadata": {
        "id": "oeCg3xxI1Wyq"
      }
    },
    {
      "cell_type": "markdown",
      "source": [],
      "metadata": {
        "id": "eG1_DAEO11wd"
      }
    },
    {
      "cell_type": "markdown",
      "source": [],
      "metadata": {
        "id": "45o5BK1p2UuR"
      }
    },
    {
      "cell_type": "markdown",
      "source": [],
      "metadata": {
        "id": "1hyOUEpi2z97"
      }
    },
    {
      "cell_type": "markdown",
      "source": [],
      "metadata": {
        "id": "jQ-1saWK3TNf"
      }
    },
    {
      "cell_type": "markdown",
      "source": [],
      "metadata": {
        "id": "GjBKAbrq3xsj"
      }
    },
    {
      "cell_type": "markdown",
      "source": [],
      "metadata": {
        "id": "TuRcBjRX4Qbx"
      }
    },
    {
      "cell_type": "markdown",
      "source": [],
      "metadata": {
        "id": "vF20wxkw4vqC"
      }
    },
    {
      "cell_type": "markdown",
      "source": [],
      "metadata": {
        "id": "T5Nx0EkM5O4S"
      }
    },
    {
      "cell_type": "markdown",
      "source": [],
      "metadata": {
        "id": "M1VPYv0p5t2Z"
      }
    },
    {
      "cell_type": "markdown",
      "source": [],
      "metadata": {
        "id": "LELXaf0B6M0L"
      }
    },
    {
      "cell_type": "markdown",
      "source": [],
      "metadata": {
        "id": "keY55iPH6sCE"
      }
    },
    {
      "cell_type": "markdown",
      "source": [],
      "metadata": {
        "id": "l82ghlTv7LRN"
      }
    },
    {
      "cell_type": "markdown",
      "source": [],
      "metadata": {
        "id": "d23HfRAY7qyN"
      }
    },
    {
      "cell_type": "markdown",
      "source": [],
      "metadata": {
        "id": "uuSGXg-U8KEu"
      }
    },
    {
      "cell_type": "markdown",
      "source": [],
      "metadata": {
        "id": "K2SZbyBk8omD"
      }
    },
    {
      "cell_type": "markdown",
      "source": [],
      "metadata": {
        "id": "Mh2E0Dik9Hmn"
      }
    },
    {
      "cell_type": "markdown",
      "source": [],
      "metadata": {
        "id": "suwIWbbs9m20"
      }
    },
    {
      "cell_type": "markdown",
      "source": [],
      "metadata": {
        "id": "mvKPLjDC-FmV"
      }
    },
    {
      "cell_type": "markdown",
      "source": [],
      "metadata": {
        "id": "Wxrnceyq-k05"
      }
    },
    {
      "cell_type": "markdown",
      "source": [],
      "metadata": {
        "id": "AJg3zf8C_EDO"
      }
    },
    {
      "cell_type": "markdown",
      "source": [],
      "metadata": {
        "id": "F5H7Rr-x_jRR"
      }
    },
    {
      "cell_type": "markdown",
      "source": [],
      "metadata": {
        "id": "wvN_D55zACvC"
      }
    },
    {
      "cell_type": "markdown",
      "source": [],
      "metadata": {
        "id": "4moeqz27AhtQ"
      }
    },
    {
      "cell_type": "markdown",
      "source": [],
      "metadata": {
        "id": "seLUi8lABAd4"
      }
    },
    {
      "cell_type": "markdown",
      "source": [],
      "metadata": {
        "id": "WGaE-kaHBfMz"
      }
    },
    {
      "cell_type": "markdown",
      "source": [],
      "metadata": {
        "id": "e7HGI3HUB-LO"
      }
    },
    {
      "cell_type": "markdown",
      "source": [],
      "metadata": {
        "id": "BcBhCOj2CdJ2"
      }
    },
    {
      "cell_type": "markdown",
      "source": [],
      "metadata": {
        "id": "rphutymTC8ni"
      }
    },
    {
      "cell_type": "markdown",
      "source": [],
      "metadata": {
        "id": "WUjRIjIlDcE1"
      }
    },
    {
      "cell_type": "markdown",
      "source": [],
      "metadata": {
        "id": "iSgf3rHQD6zK"
      }
    },
    {
      "cell_type": "markdown",
      "source": [],
      "metadata": {
        "id": "-kKZvKKQEZhi"
      }
    },
    {
      "cell_type": "markdown",
      "source": [],
      "metadata": {
        "id": "3GKAvxHXE4fR"
      }
    },
    {
      "cell_type": "markdown",
      "source": [],
      "metadata": {
        "id": "kzhyUyKdFXNn"
      }
    },
    {
      "cell_type": "markdown",
      "source": [],
      "metadata": {
        "id": "OtJf00B6F18K"
      }
    },
    {
      "cell_type": "markdown",
      "source": [],
      "metadata": {
        "id": "oTEditv7GVtg"
      }
    },
    {
      "cell_type": "markdown",
      "source": [],
      "metadata": {
        "id": "ehNB_Ss1G09s"
      }
    },
    {
      "cell_type": "markdown",
      "source": [],
      "metadata": {
        "id": "0WCYQP9YHUVh"
      }
    },
    {
      "cell_type": "markdown",
      "source": [],
      "metadata": {
        "id": "VwG2_fm8Hzkv"
      }
    },
    {
      "cell_type": "markdown",
      "source": [],
      "metadata": {
        "id": "bILT9Xl1ISy-"
      }
    },
    {
      "cell_type": "markdown",
      "source": [],
      "metadata": {
        "id": "L6VHaEUxIyhE"
      }
    },
    {
      "cell_type": "markdown",
      "source": [],
      "metadata": {
        "id": "lN7gd-fRJSir"
      }
    },
    {
      "cell_type": "markdown",
      "source": [],
      "metadata": {
        "id": "ecuGTP_CJyCT"
      }
    },
    {
      "cell_type": "markdown",
      "source": [],
      "metadata": {
        "id": "T3Mc4OKnKQvR"
      }
    },
    {
      "cell_type": "markdown",
      "source": [],
      "metadata": {
        "id": "avlMNTbFKv9U"
      }
    },
    {
      "cell_type": "markdown",
      "source": [],
      "metadata": {
        "id": "XJtnA2bZLPEr"
      }
    },
    {
      "cell_type": "markdown",
      "source": [],
      "metadata": {
        "id": "XjargXBlLt0w"
      }
    },
    {
      "cell_type": "markdown",
      "source": [],
      "metadata": {
        "id": "dRoS86rXMMjl"
      }
    },
    {
      "cell_type": "markdown",
      "source": [],
      "metadata": {
        "id": "W6qNQ5iOMriO"
      }
    },
    {
      "cell_type": "markdown",
      "source": [],
      "metadata": {
        "id": "qbSr2NKBNKgq"
      }
    },
    {
      "cell_type": "markdown",
      "source": [],
      "metadata": {
        "id": "GGA1sHc8NpEb"
      }
    },
    {
      "cell_type": "markdown",
      "source": [],
      "metadata": {
        "id": "CDzIIUHHOISa"
      }
    },
    {
      "cell_type": "markdown",
      "source": [],
      "metadata": {
        "id": "bRe5gQbFOngu"
      }
    },
    {
      "cell_type": "markdown",
      "source": [],
      "metadata": {
        "id": "adf6MMC3PG-1"
      }
    },
    {
      "cell_type": "markdown",
      "source": [],
      "metadata": {
        "id": "vrTF3qIvPluD"
      }
    },
    {
      "cell_type": "markdown",
      "source": [],
      "metadata": {
        "id": "5QbGOIbqQErz"
      }
    },
    {
      "cell_type": "markdown",
      "source": [],
      "metadata": {
        "id": "GJXtu6yTQkJz"
      }
    },
    {
      "cell_type": "markdown",
      "source": [],
      "metadata": {
        "id": "7nQOfl2GRCJm"
      }
    },
    {
      "cell_type": "markdown",
      "source": [],
      "metadata": {
        "id": "U2wYzvIGRhmM"
      }
    },
    {
      "cell_type": "markdown",
      "source": [],
      "metadata": {
        "id": "BuV8N6sWSBD4"
      }
    },
    {
      "cell_type": "markdown",
      "source": [],
      "metadata": {
        "id": "xX1RvDD5SgRp"
      }
    },
    {
      "cell_type": "markdown",
      "source": [],
      "metadata": {
        "id": "RLvcRBhFS_hD"
      }
    },
    {
      "cell_type": "markdown",
      "source": [],
      "metadata": {
        "id": "YNqMNzqOTfBc"
      }
    },
    {
      "cell_type": "markdown",
      "source": [],
      "metadata": {
        "id": "H7Xf7BsCT-Qm"
      }
    },
    {
      "cell_type": "markdown",
      "source": [],
      "metadata": {
        "id": "PL4YEITTUdA2"
      }
    },
    {
      "cell_type": "markdown",
      "source": [],
      "metadata": {
        "id": "IzsvH4fPU7wN"
      }
    },
    {
      "cell_type": "markdown",
      "source": [],
      "metadata": {
        "id": "3ig_YANxVa-t"
      }
    },
    {
      "cell_type": "markdown",
      "source": [],
      "metadata": {
        "id": "zXs2wie8V6M4"
      }
    },
    {
      "cell_type": "markdown",
      "source": [],
      "metadata": {
        "id": "uST6WDSfWZsN"
      }
    },
    {
      "cell_type": "markdown",
      "source": [],
      "metadata": {
        "id": "UBn41EOjW5eQ"
      }
    },
    {
      "cell_type": "markdown",
      "source": [],
      "metadata": {
        "id": "PlvwLf16XYyT"
      }
    },
    {
      "cell_type": "markdown",
      "source": [],
      "metadata": {
        "id": "45_Rucv4X3zc"
      }
    },
    {
      "cell_type": "markdown",
      "source": [],
      "metadata": {
        "id": "ykYkXzU7YXVS"
      }
    },
    {
      "cell_type": "markdown",
      "source": [],
      "metadata": {
        "id": "-vmWs6-WY2mO"
      }
    },
    {
      "cell_type": "markdown",
      "source": [],
      "metadata": {
        "id": "SWouTGV1ZV2Q"
      }
    },
    {
      "cell_type": "markdown",
      "source": [],
      "metadata": {
        "id": "7dXCA_YfZ00_"
      }
    },
    {
      "cell_type": "markdown",
      "source": [],
      "metadata": {
        "id": "Mq_QhNPaaTky"
      }
    },
    {
      "cell_type": "markdown",
      "source": [],
      "metadata": {
        "id": "d6Se40KZayzi"
      }
    },
    {
      "cell_type": "markdown",
      "source": [],
      "metadata": {
        "id": "hlBpxSZ-bSRy"
      }
    },
    {
      "cell_type": "markdown",
      "source": [],
      "metadata": {
        "id": "R93tV9m0bxgQ"
      }
    },
    {
      "cell_type": "markdown",
      "source": [],
      "metadata": {
        "id": "D63CI2AIcQ92"
      }
    },
    {
      "cell_type": "markdown",
      "source": [],
      "metadata": {
        "id": "xWgfVJBPcwbl"
      }
    },
    {
      "cell_type": "markdown",
      "source": [],
      "metadata": {
        "id": "GMAvffmwdPpx"
      }
    },
    {
      "cell_type": "markdown",
      "source": [],
      "metadata": {
        "id": "1QLwMhjxdvIG"
      }
    },
    {
      "cell_type": "markdown",
      "source": [],
      "metadata": {
        "id": "ss5nSnWWeOWq"
      }
    },
    {
      "cell_type": "markdown",
      "source": [],
      "metadata": {
        "id": "JmwbsobMetVM"
      }
    },
    {
      "cell_type": "markdown",
      "source": [],
      "metadata": {
        "id": "LERB903mfMDm"
      }
    },
    {
      "cell_type": "markdown",
      "source": [],
      "metadata": {
        "id": "xQt6zj6hfrBo"
      }
    },
    {
      "cell_type": "markdown",
      "source": [],
      "metadata": {
        "id": "TcEj_2TRgKvA"
      }
    },
    {
      "cell_type": "markdown",
      "source": [],
      "metadata": {
        "id": "ebcYVBnlgqNN"
      }
    },
    {
      "cell_type": "markdown",
      "source": [],
      "metadata": {
        "id": "RMwTFvqQhJcQ"
      }
    },
    {
      "cell_type": "markdown",
      "source": [],
      "metadata": {
        "id": "mIn4i7bRhoqv"
      }
    },
    {
      "cell_type": "markdown",
      "source": [],
      "metadata": {
        "id": "7zpxKN9KiIIH"
      }
    },
    {
      "cell_type": "markdown",
      "source": [],
      "metadata": {
        "id": "0IZNF2yHinl6"
      }
    },
    {
      "cell_type": "markdown",
      "source": [],
      "metadata": {
        "id": "Dax4klFXjGkO"
      }
    },
    {
      "cell_type": "markdown",
      "source": [],
      "metadata": {
        "id": "MUih4Nrdjly5"
      }
    },
    {
      "cell_type": "markdown",
      "source": [],
      "metadata": {
        "id": "wQj3zffFkE6R"
      }
    },
    {
      "cell_type": "markdown",
      "source": [],
      "metadata": {
        "id": "3yUnFr7ikjjT"
      }
    },
    {
      "cell_type": "markdown",
      "source": [],
      "metadata": {
        "id": "idoI1uxvlDkX"
      }
    },
    {
      "cell_type": "markdown",
      "source": [],
      "metadata": {
        "id": "a400gFmvli0Y"
      }
    },
    {
      "cell_type": "markdown",
      "source": [],
      "metadata": {
        "id": "t3GmEqtImBzU"
      }
    },
    {
      "cell_type": "markdown",
      "source": [],
      "metadata": {
        "id": "4zQl3VWHmhhb"
      }
    },
    {
      "cell_type": "markdown",
      "source": [],
      "metadata": {
        "id": "kdKm__XtnAvn"
      }
    },
    {
      "cell_type": "markdown",
      "source": [],
      "metadata": {
        "id": "2HphxG4-ngNm"
      }
    },
    {
      "cell_type": "markdown",
      "source": [],
      "metadata": {
        "id": "3wk5RtVbn_r6"
      }
    },
    {
      "cell_type": "markdown",
      "source": [],
      "metadata": {
        "id": "NF6jwfm5ofKV"
      }
    },
    {
      "cell_type": "markdown",
      "source": [],
      "metadata": {
        "id": "w8p8CWKPo-op"
      }
    },
    {
      "cell_type": "markdown",
      "source": [],
      "metadata": {
        "id": "4uz7h-rapeGy"
      }
    },
    {
      "cell_type": "markdown",
      "source": [],
      "metadata": {
        "id": "A0YhWUBXp9lL"
      }
    },
    {
      "cell_type": "markdown",
      "source": [],
      "metadata": {
        "id": "FV61_WB5qdDF"
      }
    },
    {
      "cell_type": "markdown",
      "source": [],
      "metadata": {
        "id": "9MT1z1QAq8hk"
      }
    },
    {
      "cell_type": "markdown",
      "source": [],
      "metadata": {
        "id": "z659GG3qrb_M"
      }
    },
    {
      "cell_type": "markdown",
      "source": [],
      "metadata": {
        "id": "AxJivdjbr7NQ"
      }
    },
    {
      "cell_type": "markdown",
      "source": [],
      "metadata": {
        "id": "a3PE-LFcsbQS"
      }
    },
    {
      "cell_type": "markdown",
      "source": [],
      "metadata": {
        "id": "eAABl7dMs6y4"
      }
    },
    {
      "cell_type": "markdown",
      "source": [],
      "metadata": {
        "id": "SKIeSxKPtaRe"
      }
    },
    {
      "cell_type": "markdown",
      "source": [],
      "metadata": {
        "id": "Xwk5Araft5u9"
      }
    },
    {
      "cell_type": "markdown",
      "source": [],
      "metadata": {
        "id": "RUbFo77iuZMt"
      }
    },
    {
      "cell_type": "markdown",
      "source": [],
      "metadata": {
        "id": "31RtY_mNu40m"
      }
    },
    {
      "cell_type": "markdown",
      "source": [],
      "metadata": {
        "id": "aWTbr3vmvYh9"
      }
    },
    {
      "cell_type": "markdown",
      "source": [],
      "metadata": {
        "id": "NDJr0vYtv3ga"
      }
    },
    {
      "cell_type": "markdown",
      "source": [],
      "metadata": {
        "id": "OjKS2Im7wWQd"
      }
    },
    {
      "cell_type": "markdown",
      "source": [],
      "metadata": {
        "id": "L35i1x-4w1wq"
      }
    },
    {
      "cell_type": "markdown",
      "source": [],
      "metadata": {
        "id": "ApBCruWpxVvA"
      }
    },
    {
      "cell_type": "markdown",
      "source": [],
      "metadata": {
        "id": "SwM1G3Tex1t0"
      }
    },
    {
      "cell_type": "markdown",
      "source": [],
      "metadata": {
        "id": "7G3Blq2ByV9Z"
      }
    },
    {
      "cell_type": "markdown",
      "source": [],
      "metadata": {
        "id": "5FaV0tHcy105"
      }
    },
    {
      "cell_type": "markdown",
      "source": [],
      "metadata": {
        "id": "ZrLXBeMxzVlN"
      }
    },
    {
      "cell_type": "markdown",
      "source": [],
      "metadata": {
        "id": "_AbO8RMUz1Xu"
      }
    },
    {
      "cell_type": "markdown",
      "source": [],
      "metadata": {
        "id": "Q5sNBqhi0U39"
      }
    },
    {
      "cell_type": "markdown",
      "source": [],
      "metadata": {
        "id": "JgwGxgJz00nQ"
      }
    },
    {
      "cell_type": "markdown",
      "source": [],
      "metadata": {
        "id": "JdiEM-mI1UGI"
      }
    },
    {
      "cell_type": "markdown",
      "source": [],
      "metadata": {
        "id": "MYSSqule1ztd"
      }
    },
    {
      "cell_type": "markdown",
      "source": [],
      "metadata": {
        "id": "oir_w1Xb2TLu"
      }
    },
    {
      "cell_type": "markdown",
      "source": [],
      "metadata": {
        "id": "ChZQWE312y5k"
      }
    },
    {
      "cell_type": "markdown",
      "source": [],
      "metadata": {
        "id": "1qSSI9_S3Roo"
      }
    },
    {
      "cell_type": "markdown",
      "source": [],
      "metadata": {
        "id": "fFf5aZCE3w3N"
      }
    },
    {
      "cell_type": "markdown",
      "source": [],
      "metadata": {
        "id": "HFlgr3vW4QFP"
      }
    },
    {
      "cell_type": "markdown",
      "source": [],
      "metadata": {
        "id": "ltFn62Hz4v5N"
      }
    },
    {
      "cell_type": "markdown",
      "source": [],
      "metadata": {
        "id": "l73N3rU05PoM"
      }
    },
    {
      "cell_type": "markdown",
      "source": [],
      "metadata": {
        "id": "lThQ0XKS5vWj"
      }
    },
    {
      "cell_type": "markdown",
      "source": [],
      "metadata": {
        "id": "iWlifc896OFe"
      }
    },
    {
      "cell_type": "markdown",
      "source": [],
      "metadata": {
        "id": "4b9YATLJ6tTs"
      }
    },
    {
      "cell_type": "markdown",
      "source": [],
      "metadata": {
        "id": "eXErpw957NQ7"
      }
    },
    {
      "cell_type": "markdown",
      "source": [],
      "metadata": {
        "id": "ulJMAl457sfM"
      }
    },
    {
      "cell_type": "markdown",
      "source": [],
      "metadata": {
        "id": "E99q7pXZ8MMx"
      }
    },
    {
      "cell_type": "markdown",
      "source": [],
      "metadata": {
        "id": "rg2UvxS18rqZ"
      }
    },
    {
      "cell_type": "markdown",
      "source": [],
      "metadata": {
        "id": "r-FXY9us9Ko-"
      }
    },
    {
      "cell_type": "markdown",
      "source": [],
      "metadata": {
        "id": "Yso4_nL29p3H"
      }
    },
    {
      "cell_type": "markdown",
      "source": [],
      "metadata": {
        "id": "ppoT31Jy-JF8"
      }
    },
    {
      "cell_type": "markdown",
      "source": [],
      "metadata": {
        "id": "orKW1AzK-oUy"
      }
    },
    {
      "cell_type": "markdown",
      "source": [],
      "metadata": {
        "id": "etNmwDh5_IDr"
      }
    },
    {
      "cell_type": "markdown",
      "source": [],
      "metadata": {
        "id": "kYmBESB0_nky"
      }
    },
    {
      "cell_type": "markdown",
      "source": [],
      "metadata": {
        "id": "0gAF3l0dAHmB"
      }
    },
    {
      "cell_type": "markdown",
      "source": [],
      "metadata": {
        "id": "HJCWUXn5Am3d"
      }
    },
    {
      "cell_type": "markdown",
      "source": [],
      "metadata": {
        "id": "rgGwnMrGBGMW"
      }
    },
    {
      "cell_type": "markdown",
      "source": [],
      "metadata": {
        "id": "tGaQu6qxBlrC"
      }
    },
    {
      "cell_type": "markdown",
      "source": [],
      "metadata": {
        "id": "0qH6ddpMCFZ4"
      }
    },
    {
      "cell_type": "markdown",
      "source": [],
      "metadata": {
        "id": "qiq33BMSCkoo"
      }
    },
    {
      "cell_type": "markdown",
      "source": [],
      "metadata": {
        "id": "LyklyN2IDDnj"
      }
    },
    {
      "cell_type": "markdown",
      "source": [],
      "metadata": {
        "id": "rQavhMw0DiWb"
      }
    },
    {
      "cell_type": "markdown",
      "source": [],
      "metadata": {
        "id": "iSqmaH-dECEr"
      }
    },
    {
      "cell_type": "markdown",
      "source": [],
      "metadata": {
        "id": "iacITV1BEiCs"
      }
    },
    {
      "cell_type": "markdown",
      "source": [],
      "metadata": {
        "id": "gtQ4fQPuFBhe"
      }
    },
    {
      "cell_type": "markdown",
      "source": [],
      "metadata": {
        "id": "fGMcEKedFhBA"
      }
    },
    {
      "cell_type": "markdown",
      "source": [],
      "metadata": {
        "id": "1UyU7flFGAPd"
      }
    },
    {
      "cell_type": "markdown",
      "source": [],
      "metadata": {
        "id": "Pbdo3dbiGf9b"
      }
    },
    {
      "cell_type": "markdown",
      "source": [],
      "metadata": {
        "id": "TfcidikqG_bX"
      }
    },
    {
      "cell_type": "markdown",
      "source": [],
      "metadata": {
        "id": "f6u9Kd5NHeai"
      }
    },
    {
      "cell_type": "markdown",
      "source": [],
      "metadata": {
        "id": "VbBStSLCH-Iz"
      }
    },
    {
      "cell_type": "markdown",
      "source": [],
      "metadata": {
        "id": "8pDpe00CIdHh"
      }
    },
    {
      "cell_type": "markdown",
      "source": [],
      "metadata": {
        "id": "uLkNwxE9I8l0"
      }
    },
    {
      "cell_type": "markdown",
      "source": [],
      "metadata": {
        "id": "tleTwkWIJbkv"
      }
    },
    {
      "cell_type": "markdown",
      "source": [],
      "metadata": {
        "id": "DWJbGJLfJ7S9"
      }
    },
    {
      "cell_type": "markdown",
      "source": [],
      "metadata": {
        "id": "uGF0F144KbAj"
      }
    },
    {
      "cell_type": "markdown",
      "source": [],
      "metadata": {
        "id": "Vlvl1h62K6u3"
      }
    },
    {
      "cell_type": "markdown",
      "source": [],
      "metadata": {
        "id": "l2JdqLx2LaNH"
      }
    },
    {
      "cell_type": "markdown",
      "source": [],
      "metadata": {
        "id": "UcJL_O0hL5ef"
      }
    },
    {
      "cell_type": "markdown",
      "source": [],
      "metadata": {
        "id": "qGwFgwb5MYv8"
      }
    },
    {
      "cell_type": "markdown",
      "source": [],
      "metadata": {
        "id": "Ip1hSXpPM4Bn"
      }
    },
    {
      "cell_type": "markdown",
      "source": [],
      "metadata": {
        "id": "3UkWj3HBNXii"
      }
    },
    {
      "cell_type": "markdown",
      "source": [],
      "metadata": {
        "id": "vE5xwBWIN3WK"
      }
    },
    {
      "cell_type": "markdown",
      "source": [],
      "metadata": {
        "id": "fX73dB8TOWbp"
      }
    },
    {
      "cell_type": "markdown",
      "source": [],
      "metadata": {
        "id": "vp5U8pqJO1dL"
      }
    },
    {
      "cell_type": "markdown",
      "source": [],
      "metadata": {
        "id": "cuzG6ppXPU8a"
      }
    },
    {
      "cell_type": "markdown",
      "source": [],
      "metadata": {
        "id": "EOltcbYmP0a6"
      }
    },
    {
      "cell_type": "markdown",
      "source": [],
      "metadata": {
        "id": "L7OEP-bXQUJL"
      }
    },
    {
      "cell_type": "markdown",
      "source": [],
      "metadata": {
        "id": "7-v-2Pf2Q0Hy"
      }
    },
    {
      "cell_type": "markdown",
      "source": [],
      "metadata": {
        "id": "hBe4x2yqRT2T"
      }
    },
    {
      "cell_type": "markdown",
      "source": [],
      "metadata": {
        "id": "QKOWA_TBRz0O"
      }
    },
    {
      "cell_type": "markdown",
      "source": [],
      "metadata": {
        "id": "59pTo0RYSTYT"
      }
    },
    {
      "cell_type": "markdown",
      "source": [],
      "metadata": {
        "id": "lOfRYdXMSy2_"
      }
    },
    {
      "cell_type": "markdown",
      "source": [],
      "metadata": {
        "id": "frcNDlxXTS18"
      }
    },
    {
      "cell_type": "markdown",
      "source": [],
      "metadata": {
        "id": "EGpPoOwiTyze"
      }
    },
    {
      "cell_type": "markdown",
      "source": [],
      "metadata": {
        "id": "khBccSGpURzE"
      }
    },
    {
      "cell_type": "markdown",
      "source": [],
      "metadata": {
        "id": "vyOkHSt6UwyP"
      }
    },
    {
      "cell_type": "markdown",
      "source": [],
      "metadata": {
        "id": "c-HglH13VPxT"
      }
    },
    {
      "cell_type": "markdown",
      "source": [],
      "metadata": {
        "id": "q79W7dIUVvuv"
      }
    },
    {
      "cell_type": "markdown",
      "source": [],
      "metadata": {
        "id": "mmUwwjFTWPsz"
      }
    },
    {
      "cell_type": "markdown",
      "source": [],
      "metadata": {
        "id": "WB-6enzbWvae"
      }
    },
    {
      "cell_type": "markdown",
      "source": [],
      "metadata": {
        "id": "SBSUrjZpXPRu"
      }
    },
    {
      "cell_type": "markdown",
      "source": [],
      "metadata": {
        "id": "2mh5NvI5Xvey"
      }
    },
    {
      "cell_type": "markdown",
      "source": [],
      "metadata": {
        "id": "J2JtRWtgYPco"
      }
    },
    {
      "cell_type": "markdown",
      "source": [],
      "metadata": {
        "id": "I4MRs0JiYvKu"
      }
    },
    {
      "cell_type": "markdown",
      "source": [],
      "metadata": {
        "id": "XEBao_25ZOZx"
      }
    },
    {
      "cell_type": "markdown",
      "source": [],
      "metadata": {
        "id": "ACFaeOiCZuHv"
      }
    },
    {
      "cell_type": "markdown",
      "source": [],
      "metadata": {
        "id": "YPyYmf9ZaN1n"
      }
    },
    {
      "cell_type": "markdown",
      "source": [],
      "metadata": {
        "id": "EUV_4DBSatDz"
      }
    },
    {
      "cell_type": "markdown",
      "source": [],
      "metadata": {
        "id": "fNFAPhfobMtR"
      }
    },
    {
      "cell_type": "markdown",
      "source": [],
      "metadata": {
        "id": "lWv_XS4pbrwf"
      }
    },
    {
      "cell_type": "markdown",
      "source": [],
      "metadata": {
        "id": "SoUqbSqTcLFr"
      }
    },
    {
      "cell_type": "markdown",
      "source": [],
      "metadata": {
        "id": "yYdvwmtJcquz"
      }
    },
    {
      "cell_type": "markdown",
      "source": [],
      "metadata": {
        "id": "5mH2FOfmdK81"
      }
    },
    {
      "cell_type": "markdown",
      "source": [],
      "metadata": {
        "id": "yRWYvU8Rdq68"
      }
    },
    {
      "cell_type": "markdown",
      "source": [],
      "metadata": {
        "id": "HiH9ugNreK0S"
      }
    },
    {
      "cell_type": "markdown",
      "source": [],
      "metadata": {
        "id": "gwLX--32eqjO"
      }
    },
    {
      "cell_type": "markdown",
      "source": [],
      "metadata": {
        "id": "QXBDN-l_fJyE"
      }
    },
    {
      "cell_type": "markdown",
      "source": [],
      "metadata": {
        "id": "gTZfY-xgfpQi"
      }
    },
    {
      "cell_type": "markdown",
      "source": [],
      "metadata": {
        "id": "erdJXjvGgJeF"
      }
    },
    {
      "cell_type": "markdown",
      "source": [],
      "metadata": {
        "id": "fNPudSj0gpMV"
      }
    },
    {
      "cell_type": "markdown",
      "source": [],
      "metadata": {
        "id": "1veYg1FxhJKb"
      }
    },
    {
      "cell_type": "markdown",
      "source": [],
      "metadata": {
        "id": "cNkoPLAnhpIf"
      }
    },
    {
      "cell_type": "markdown",
      "source": [],
      "metadata": {
        "id": "JiOJH9oWiIDS"
      }
    },
    {
      "cell_type": "markdown",
      "source": [],
      "metadata": {
        "id": "9xrERxLiimjF"
      }
    },
    {
      "cell_type": "markdown",
      "source": [],
      "metadata": {
        "id": "NebY_wK2jGg2"
      }
    },
    {
      "cell_type": "markdown",
      "source": [],
      "metadata": {
        "id": "MUWSq5uWjmPU"
      }
    },
    {
      "cell_type": "markdown",
      "source": [],
      "metadata": {
        "id": "EwC9kjm3kGNY"
      }
    },
    {
      "cell_type": "markdown",
      "source": [],
      "metadata": {
        "id": "GTj_1yalkl7k"
      }
    },
    {
      "cell_type": "markdown",
      "source": [],
      "metadata": {
        "id": "2MD78Gu9lFyB"
      }
    },
    {
      "cell_type": "markdown",
      "source": [],
      "metadata": {
        "id": "kHQK-pN1lkxb"
      }
    },
    {
      "cell_type": "markdown",
      "source": [],
      "metadata": {
        "id": "-ptoG-TVmEPm"
      }
    },
    {
      "cell_type": "markdown",
      "source": [],
      "metadata": {
        "id": "5o51OAsamjuS"
      }
    },
    {
      "cell_type": "markdown",
      "source": [],
      "metadata": {
        "id": "bkpowZdJnDcW"
      }
    },
    {
      "cell_type": "markdown",
      "source": [],
      "metadata": {
        "id": "IsXtslB-ni61"
      }
    },
    {
      "cell_type": "markdown",
      "source": [],
      "metadata": {
        "id": "cmwoSO5moB7b"
      }
    },
    {
      "cell_type": "markdown",
      "source": [],
      "metadata": {
        "id": "1qUCSRe-ohVy"
      }
    },
    {
      "cell_type": "markdown",
      "source": [],
      "metadata": {
        "id": "4jv7_gGCpBmE"
      }
    },
    {
      "cell_type": "markdown",
      "source": [],
      "metadata": {
        "id": "6LtjJL7uphTd"
      }
    },
    {
      "cell_type": "markdown",
      "source": [],
      "metadata": {
        "id": "O2xLeV6qqBj5"
      }
    },
    {
      "cell_type": "markdown",
      "source": [],
      "metadata": {
        "id": "Vl79LXwUqhSV"
      }
    },
    {
      "cell_type": "markdown",
      "source": [],
      "metadata": {
        "id": "On2nZoW3rAhv"
      }
    },
    {
      "cell_type": "markdown",
      "source": [],
      "metadata": {
        "id": "YjUun_ZHrgQe"
      }
    },
    {
      "cell_type": "markdown",
      "source": [],
      "metadata": {
        "id": "fokGGrrer_Pr"
      }
    },
    {
      "cell_type": "markdown",
      "source": [],
      "metadata": {
        "id": "dWgYB5nYsefG"
      }
    },
    {
      "cell_type": "markdown",
      "source": [],
      "metadata": {
        "id": "8WS218LMs-NS"
      }
    },
    {
      "cell_type": "markdown",
      "source": [],
      "metadata": {
        "id": "-3HzFM4Mtdcb"
      }
    },
    {
      "cell_type": "markdown",
      "source": [],
      "metadata": {
        "id": "h4QreKKTt8b3"
      }
    },
    {
      "cell_type": "markdown",
      "source": [],
      "metadata": {
        "id": "hv1wODDXubrD"
      }
    },
    {
      "cell_type": "markdown",
      "source": [],
      "metadata": {
        "id": "RUKiv3rIu7qo"
      }
    },
    {
      "cell_type": "markdown",
      "source": [],
      "metadata": {
        "id": "-DEObjBsvboe"
      }
    },
    {
      "cell_type": "markdown",
      "source": [],
      "metadata": {
        "id": "y1dJiNh7v7XB"
      }
    },
    {
      "cell_type": "markdown",
      "source": [],
      "metadata": {
        "id": "0pGT71zwwa11"
      }
    },
    {
      "cell_type": "markdown",
      "source": [],
      "metadata": {
        "id": "07ik7vIww60B"
      }
    },
    {
      "cell_type": "markdown",
      "source": [],
      "metadata": {
        "id": "6RpbaQNNxaid"
      }
    },
    {
      "cell_type": "markdown",
      "source": [],
      "metadata": {
        "id": "qegluVIPx6we"
      }
    },
    {
      "cell_type": "markdown",
      "source": [],
      "metadata": {
        "id": "vc7WY8_uyZ_G"
      }
    },
    {
      "cell_type": "markdown",
      "source": [],
      "metadata": {
        "id": "pEeN84p6y6EK"
      }
    },
    {
      "cell_type": "markdown",
      "source": [],
      "metadata": {
        "id": "2gAvr8oFzZyi"
      }
    },
    {
      "cell_type": "markdown",
      "source": [],
      "metadata": {
        "id": "3Xv4-Gjnz4x9"
      }
    },
    {
      "cell_type": "markdown",
      "source": [],
      "metadata": {
        "id": "mkMP-QDO0YQ1"
      }
    },
    {
      "cell_type": "markdown",
      "source": [],
      "metadata": {
        "id": "c8HDrl2o03QG"
      }
    },
    {
      "cell_type": "markdown",
      "source": [],
      "metadata": {
        "id": "b2wLsBnO1W-G"
      }
    },
    {
      "cell_type": "markdown",
      "source": [],
      "metadata": {
        "id": "VkuTa9wZ12dC"
      }
    },
    {
      "cell_type": "markdown",
      "source": [],
      "metadata": {
        "id": "97XjYqOH2W-0"
      }
    },
    {
      "cell_type": "markdown",
      "source": [],
      "metadata": {
        "id": "fs6_5P6423Ak"
      }
    },
    {
      "cell_type": "markdown",
      "source": [],
      "metadata": {
        "id": "bhxnDaT63XTj"
      }
    },
    {
      "cell_type": "markdown",
      "source": [],
      "metadata": {
        "id": "oWQQcwo033Ug"
      }
    },
    {
      "cell_type": "markdown",
      "source": [],
      "metadata": {
        "id": "YUrlqRmD4XXx"
      }
    },
    {
      "cell_type": "markdown",
      "source": [],
      "metadata": {
        "id": "UTiHbZZy43Ws"
      }
    },
    {
      "cell_type": "markdown",
      "source": [],
      "metadata": {
        "id": "jPuiyqIU5XFt"
      }
    },
    {
      "cell_type": "markdown",
      "source": [],
      "metadata": {
        "id": "PlVui8mV520W"
      }
    },
    {
      "cell_type": "markdown",
      "source": [],
      "metadata": {
        "id": "jRIKmn5a6Wy3"
      }
    },
    {
      "cell_type": "markdown",
      "source": [],
      "metadata": {
        "id": "eis2Acii62SS"
      }
    },
    {
      "cell_type": "markdown",
      "source": [],
      "metadata": {
        "id": "V4kB9MEj7WAx"
      }
    },
    {
      "cell_type": "markdown",
      "source": [],
      "metadata": {
        "id": "xwSKNYw-71Qd"
      }
    },
    {
      "cell_type": "markdown",
      "source": [],
      "metadata": {
        "id": "CJ4KVg0z8UgH"
      }
    },
    {
      "cell_type": "markdown",
      "source": [],
      "metadata": {
        "id": "VpDeJ8Wr80e5"
      }
    },
    {
      "cell_type": "markdown",
      "source": [],
      "metadata": {
        "id": "4iNLbOOe9Us5"
      }
    },
    {
      "cell_type": "markdown",
      "source": [],
      "metadata": {
        "id": "QKtW_EdJ90rf"
      }
    },
    {
      "cell_type": "markdown",
      "source": [],
      "metadata": {
        "id": "Yi88t4Mm-Upz"
      }
    },
    {
      "cell_type": "markdown",
      "source": [],
      "metadata": {
        "id": "HHjaWACC-0cO"
      }
    },
    {
      "cell_type": "markdown",
      "source": [],
      "metadata": {
        "id": "qLS5H-f8_UqG"
      }
    },
    {
      "cell_type": "markdown",
      "source": [],
      "metadata": {
        "id": "5ASKzTPh_0op"
      }
    },
    {
      "cell_type": "markdown",
      "source": [],
      "metadata": {
        "id": "F-0_hZKrAUXJ"
      }
    },
    {
      "cell_type": "markdown",
      "source": [],
      "metadata": {
        "id": "n-ezzsaNA0V_"
      }
    },
    {
      "cell_type": "markdown",
      "source": [],
      "metadata": {
        "id": "j6SRD_P7BUT-"
      }
    },
    {
      "cell_type": "markdown",
      "source": [],
      "metadata": {
        "id": "fnsRtnWLB0iL"
      }
    },
    {
      "cell_type": "markdown",
      "source": [],
      "metadata": {
        "id": "9v-h5zHqCUg1"
      }
    },
    {
      "cell_type": "markdown",
      "source": [],
      "metadata": {
        "id": "2HLErd5oC0e7"
      }
    },
    {
      "cell_type": "markdown",
      "source": [],
      "metadata": {
        "id": "bu4n1XEyDTOq"
      }
    },
    {
      "cell_type": "markdown",
      "source": [],
      "metadata": {
        "id": "Z_qig-eiDyes"
      }
    },
    {
      "cell_type": "markdown",
      "source": [],
      "metadata": {
        "id": "DKPw7VKeESeg"
      }
    },
    {
      "cell_type": "markdown",
      "source": [],
      "metadata": {
        "id": "CobSOodWEyT1"
      }
    },
    {
      "cell_type": "markdown",
      "source": [],
      "metadata": {
        "id": "OGHU_GLYFS0K"
      }
    },
    {
      "cell_type": "markdown",
      "source": [],
      "metadata": {
        "id": "KN71W0-LFy2p"
      }
    },
    {
      "cell_type": "markdown",
      "source": [],
      "metadata": {
        "id": "TPIFakDDGS3a"
      }
    },
    {
      "cell_type": "markdown",
      "source": [],
      "metadata": {
        "id": "ZtJVlvMeGyw9"
      }
    },
    {
      "cell_type": "markdown",
      "source": [],
      "metadata": {
        "id": "fkZB_wEAHTVL"
      }
    },
    {
      "cell_type": "markdown",
      "source": [],
      "metadata": {
        "id": "fvtJJDI3HzDw"
      }
    },
    {
      "cell_type": "markdown",
      "source": [],
      "metadata": {
        "id": "XNm7mJI8ITNv"
      }
    },
    {
      "cell_type": "markdown",
      "source": [],
      "metadata": {
        "id": "m0-RecXBIzcc"
      }
    },
    {
      "cell_type": "markdown",
      "source": [],
      "metadata": {
        "id": "osBTchD4JT6s"
      }
    },
    {
      "cell_type": "markdown",
      "source": [],
      "metadata": {
        "id": "CnE0Q6jIJ0Lr"
      }
    },
    {
      "cell_type": "markdown",
      "source": [],
      "metadata": {
        "id": "VLw0NugNKUaQ"
      }
    },
    {
      "cell_type": "markdown",
      "source": [],
      "metadata": {
        "id": "Z2GshuIEK0o4"
      }
    },
    {
      "cell_type": "markdown",
      "source": [],
      "metadata": {
        "id": "2r8CG2VCLU3T"
      }
    },
    {
      "cell_type": "markdown",
      "source": [],
      "metadata": {
        "id": "R4y1MTS4L0WP"
      }
    },
    {
      "cell_type": "markdown",
      "source": [],
      "metadata": {
        "id": "mXKqjDsRMUUt"
      }
    },
    {
      "cell_type": "markdown",
      "source": [],
      "metadata": {
        "id": "UeCC_HRfM0De"
      }
    },
    {
      "cell_type": "markdown",
      "source": [],
      "metadata": {
        "id": "4J19ASa2NTSn"
      }
    },
    {
      "cell_type": "markdown",
      "source": [],
      "metadata": {
        "id": "5PEVzItINyxh"
      }
    },
    {
      "cell_type": "markdown",
      "source": [],
      "metadata": {
        "id": "Bp7J9zBXOSwR"
      }
    },
    {
      "cell_type": "markdown",
      "source": [],
      "metadata": {
        "id": "UIiu9oBLOyfN"
      }
    },
    {
      "cell_type": "markdown",
      "source": [],
      "metadata": {
        "id": "qXpvEGc9PSd9"
      }
    },
    {
      "cell_type": "markdown",
      "source": [],
      "metadata": {
        "id": "CGrwxpD2Py8s"
      }
    },
    {
      "cell_type": "markdown",
      "source": [],
      "metadata": {
        "id": "0izCUUiqQSrc"
      }
    },
    {
      "cell_type": "markdown",
      "source": [],
      "metadata": {
        "id": "Ewd0doFvQyZ_"
      }
    },
    {
      "cell_type": "markdown",
      "source": [],
      "metadata": {
        "id": "fmZ1_SDKRSns"
      }
    },
    {
      "cell_type": "markdown",
      "source": [],
      "metadata": {
        "id": "GFToxiKKRyWb"
      }
    },
    {
      "cell_type": "markdown",
      "source": [],
      "metadata": {
        "id": "lsfScZ3uSSW-"
      }
    },
    {
      "cell_type": "markdown",
      "source": [],
      "metadata": {
        "id": "ge5flOe4SyB7"
      }
    },
    {
      "cell_type": "markdown",
      "source": [],
      "metadata": {
        "id": "BZv3XZE9TSDE"
      }
    },
    {
      "cell_type": "markdown",
      "source": [],
      "metadata": {
        "id": "Pz9Z_wzITxmz"
      }
    },
    {
      "cell_type": "markdown",
      "source": [],
      "metadata": {
        "id": "pZKTwWeVUQwq"
      }
    },
    {
      "cell_type": "markdown",
      "source": [],
      "metadata": {
        "id": "726bt-qnUwZR"
      }
    },
    {
      "cell_type": "markdown",
      "source": [],
      "metadata": {
        "id": "DYPS5OmIVQM0"
      }
    },
    {
      "cell_type": "markdown",
      "source": [],
      "metadata": {
        "id": "EE1WTQiiVwt_"
      }
    },
    {
      "cell_type": "markdown",
      "source": [],
      "metadata": {
        "id": "c2VJfnKXWQxB"
      }
    },
    {
      "cell_type": "markdown",
      "source": [],
      "metadata": {
        "id": "lSv4f5hsWxPa"
      }
    },
    {
      "cell_type": "markdown",
      "source": [],
      "metadata": {
        "id": "sCA0S8AqXRNy"
      }
    },
    {
      "cell_type": "markdown",
      "source": [],
      "metadata": {
        "id": "yBwyCLFvXxMj"
      }
    },
    {
      "cell_type": "markdown",
      "source": [],
      "metadata": {
        "id": "fJM8G5umYRLz"
      }
    },
    {
      "cell_type": "markdown",
      "source": [],
      "metadata": {
        "id": "AaQWxTo3YxqT"
      }
    },
    {
      "cell_type": "markdown",
      "source": [],
      "metadata": {
        "id": "PBF0_-JZZR5P"
      }
    },
    {
      "cell_type": "markdown",
      "source": [],
      "metadata": {
        "id": "SL_EY5LNZyHb"
      }
    },
    {
      "cell_type": "markdown",
      "source": [],
      "metadata": {
        "id": "qfwiC1uwaRW7"
      }
    },
    {
      "cell_type": "markdown",
      "source": [],
      "metadata": {
        "id": "jmu4ZXGhaxHf"
      }
    },
    {
      "cell_type": "markdown",
      "source": [],
      "metadata": {
        "id": "I26SyJA_bQ2Y"
      }
    },
    {
      "cell_type": "markdown",
      "source": [],
      "metadata": {
        "id": "V5sDYdX3bxUi"
      }
    },
    {
      "cell_type": "markdown",
      "source": [],
      "metadata": {
        "id": "qvNl5ToGcRir"
      }
    },
    {
      "cell_type": "markdown",
      "source": [],
      "metadata": {
        "id": "dy-dFUIycxhp"
      }
    },
    {
      "cell_type": "markdown",
      "source": [],
      "metadata": {
        "id": "uRMUg0GHdQxI"
      }
    },
    {
      "cell_type": "markdown",
      "source": [],
      "metadata": {
        "id": "s0cad1mWdwA_"
      }
    },
    {
      "cell_type": "markdown",
      "source": [],
      "metadata": {
        "id": "GkZq3YDjeQPI"
      }
    },
    {
      "cell_type": "markdown",
      "source": [],
      "metadata": {
        "id": "6WOzGDBWewdm"
      }
    },
    {
      "cell_type": "markdown",
      "source": [],
      "metadata": {
        "id": "dbQHkGuXfQsw"
      }
    },
    {
      "cell_type": "markdown",
      "source": [],
      "metadata": {
        "id": "PETiYBeifws9"
      }
    },
    {
      "cell_type": "markdown",
      "source": [],
      "metadata": {
        "id": "sLkWqYL2gRV3"
      }
    },
    {
      "cell_type": "markdown",
      "source": [],
      "metadata": {
        "id": "WmUSjjaIgw4G"
      }
    },
    {
      "cell_type": "markdown",
      "source": [],
      "metadata": {
        "id": "BUI9KUQehQ7-"
      }
    },
    {
      "cell_type": "markdown",
      "source": [],
      "metadata": {
        "id": "1plAzvZrhw0w"
      }
    },
    {
      "cell_type": "markdown",
      "source": [],
      "metadata": {
        "id": "iIMcI8BciQWK"
      }
    },
    {
      "cell_type": "markdown",
      "source": [],
      "metadata": {
        "id": "LlIXn9Weiwlv"
      }
    },
    {
      "cell_type": "markdown",
      "source": [],
      "metadata": {
        "id": "tpaZRJUPjRD-"
      }
    },
    {
      "cell_type": "markdown",
      "source": [],
      "metadata": {
        "id": "gRYJf00GjxDV"
      }
    },
    {
      "cell_type": "markdown",
      "source": [],
      "metadata": {
        "id": "2z-PsYT8kRZZ"
      }
    },
    {
      "cell_type": "markdown",
      "source": [],
      "metadata": {
        "id": "giWFzHlKkxn_"
      }
    },
    {
      "cell_type": "markdown",
      "source": [],
      "metadata": {
        "id": "awFbB9cdlRW4"
      }
    },
    {
      "cell_type": "markdown",
      "source": [],
      "metadata": {
        "id": "io_Mvx8llw0X"
      }
    },
    {
      "cell_type": "markdown",
      "source": [],
      "metadata": {
        "id": "84jfEyG8mQjy"
      }
    },
    {
      "cell_type": "markdown",
      "source": [],
      "metadata": {
        "id": "EhzAGgUnmwzD"
      }
    },
    {
      "cell_type": "markdown",
      "source": [],
      "metadata": {
        "id": "YRFCrznknRR3"
      }
    },
    {
      "cell_type": "markdown",
      "source": [],
      "metadata": {
        "id": "z9JultQSnyCf"
      }
    },
    {
      "cell_type": "markdown",
      "source": [],
      "metadata": {
        "id": "cxN2NCOJoSBG"
      }
    },
    {
      "cell_type": "markdown",
      "source": [],
      "metadata": {
        "id": "fb5EjK7Noyu1"
      }
    },
    {
      "cell_type": "markdown",
      "source": [],
      "metadata": {
        "id": "L5qfj_v5pS9e"
      }
    },
    {
      "cell_type": "markdown",
      "source": [],
      "metadata": {
        "id": "i0lLbKj4pzbV"
      }
    },
    {
      "cell_type": "markdown",
      "source": [],
      "metadata": {
        "id": "XDl7ltejqTqC"
      }
    },
    {
      "cell_type": "markdown",
      "source": [],
      "metadata": {
        "id": "q0gBC3RDqzaK"
      }
    },
    {
      "cell_type": "markdown",
      "source": [],
      "metadata": {
        "id": "2RSFyivArTY0"
      }
    },
    {
      "cell_type": "markdown",
      "source": [],
      "metadata": {
        "id": "mcqy8NK4rzHj"
      }
    },
    {
      "cell_type": "markdown",
      "source": [],
      "metadata": {
        "id": "FcRocK3lsTmB"
      }
    },
    {
      "cell_type": "markdown",
      "source": [],
      "metadata": {
        "id": "4rbKbx5PszkQ"
      }
    },
    {
      "cell_type": "markdown",
      "source": [],
      "metadata": {
        "id": "nQfU8JShtTyr"
      }
    },
    {
      "cell_type": "markdown",
      "source": [],
      "metadata": {
        "id": "g8NaE2-ttz0G"
      }
    },
    {
      "cell_type": "markdown",
      "source": [],
      "metadata": {
        "id": "VC--Xmo7uUk-"
      }
    },
    {
      "cell_type": "markdown",
      "source": [],
      "metadata": {
        "id": "ZdIETy8yu0I9"
      }
    },
    {
      "cell_type": "markdown",
      "source": [],
      "metadata": {
        "id": "JGqrwaFzvT8X"
      }
    },
    {
      "cell_type": "markdown",
      "source": [],
      "metadata": {
        "id": "SBsdxsPVvzPo"
      }
    },
    {
      "cell_type": "markdown",
      "source": [],
      "metadata": {
        "id": "h1Bl3V98wTSf"
      }
    },
    {
      "cell_type": "markdown",
      "source": [],
      "metadata": {
        "id": "oXNrhBjIwzVF"
      }
    },
    {
      "cell_type": "markdown",
      "source": [],
      "metadata": {
        "id": "n06eYNzNxT1L"
      }
    },
    {
      "cell_type": "markdown",
      "source": [],
      "metadata": {
        "id": "tNG8EbeMx0iN"
      }
    },
    {
      "cell_type": "markdown",
      "source": [],
      "metadata": {
        "id": "c6-uVr0myVQZ"
      }
    },
    {
      "cell_type": "markdown",
      "source": [],
      "metadata": {
        "id": "LpPX7pdiy1f2"
      }
    },
    {
      "cell_type": "markdown",
      "source": [],
      "metadata": {
        "id": "OUoOpcWuzV-3"
      }
    },
    {
      "cell_type": "markdown",
      "source": [],
      "metadata": {
        "id": "ZqvDi44Tz190"
      }
    },
    {
      "cell_type": "markdown",
      "source": [],
      "metadata": {
        "id": "qzK470480WsI"
      }
    },
    {
      "cell_type": "markdown",
      "source": [],
      "metadata": {
        "id": "XWpDr-Di027A"
      }
    },
    {
      "cell_type": "markdown",
      "source": [],
      "metadata": {
        "id": "hwsuoBdh1XZv"
      }
    },
    {
      "cell_type": "markdown",
      "source": [],
      "metadata": {
        "id": "26OpAQx-13JS"
      }
    },
    {
      "cell_type": "markdown",
      "source": [],
      "metadata": {
        "id": "aykaIhRo2Xn4"
      }
    },
    {
      "cell_type": "markdown",
      "source": [],
      "metadata": {
        "id": "uN1FKKL723mr"
      }
    },
    {
      "cell_type": "markdown",
      "source": [],
      "metadata": {
        "id": "iy_mJ5iD3X12"
      }
    },
    {
      "cell_type": "markdown",
      "source": [],
      "metadata": {
        "id": "raFIWZuR33FM"
      }
    },
    {
      "cell_type": "markdown",
      "source": [],
      "metadata": {
        "id": "T2-HinZi4W0f"
      }
    },
    {
      "cell_type": "markdown",
      "source": [],
      "metadata": {
        "id": "0vyc8O4n42EH"
      }
    },
    {
      "cell_type": "markdown",
      "source": [],
      "metadata": {
        "id": "x7JvC3X05Vjv"
      }
    },
    {
      "cell_type": "markdown",
      "source": [],
      "metadata": {
        "id": "c6DQ5XuZ52Bu"
      }
    },
    {
      "cell_type": "markdown",
      "source": [],
      "metadata": {
        "id": "rL0mSMN76WgY"
      }
    },
    {
      "cell_type": "markdown",
      "source": [],
      "metadata": {
        "id": "ePdDH54V62-r"
      }
    },
    {
      "cell_type": "markdown",
      "source": [],
      "metadata": {
        "id": "-A_xIseK7XvW"
      }
    },
    {
      "cell_type": "markdown",
      "source": [],
      "metadata": {
        "id": "D3mpCvgn75RV"
      }
    },
    {
      "cell_type": "markdown",
      "source": [],
      "metadata": {
        "id": "q2nmUQBr8aMq"
      }
    },
    {
      "cell_type": "markdown",
      "source": [],
      "metadata": {
        "id": "epmLTQDr86OD"
      }
    },
    {
      "cell_type": "markdown",
      "source": [],
      "metadata": {
        "id": "JPEJ-Fu79ame"
      }
    },
    {
      "cell_type": "markdown",
      "source": [],
      "metadata": {
        "id": "O99eowYo97FI"
      }
    },
    {
      "cell_type": "markdown",
      "source": [],
      "metadata": {
        "id": "E4FSAYwY-bEq"
      }
    },
    {
      "cell_type": "markdown",
      "source": [],
      "metadata": {
        "id": "him9naX6-7Dd"
      }
    },
    {
      "cell_type": "markdown",
      "source": [],
      "metadata": {
        "id": "LPjkclfh_bSh"
      }
    },
    {
      "cell_type": "markdown",
      "source": [],
      "metadata": {
        "id": "fjf0Ks6i_7xK"
      }
    },
    {
      "cell_type": "markdown",
      "source": [],
      "metadata": {
        "id": "AivwJHtRAcPy"
      }
    },
    {
      "cell_type": "markdown",
      "source": [],
      "metadata": {
        "id": "pKSrvrEwA8PB"
      }
    },
    {
      "cell_type": "markdown",
      "source": [],
      "metadata": {
        "id": "XGi294SLBcOR"
      }
    },
    {
      "cell_type": "markdown",
      "source": [],
      "metadata": {
        "id": "ZB8XKjaGB88t"
      }
    },
    {
      "cell_type": "markdown",
      "source": [],
      "metadata": {
        "id": "hdxU82sECdsb"
      }
    },
    {
      "cell_type": "markdown",
      "source": [],
      "metadata": {
        "id": "FSBJtrGhC97K"
      }
    },
    {
      "cell_type": "markdown",
      "source": [],
      "metadata": {
        "id": "LrB0-CEoDeJt"
      }
    },
    {
      "cell_type": "markdown",
      "source": [],
      "metadata": {
        "id": "LLgWN4jyD-X1"
      }
    },
    {
      "cell_type": "markdown",
      "source": [],
      "metadata": {
        "id": "NWZSRnMSEdoV"
      }
    },
    {
      "cell_type": "markdown",
      "source": [],
      "metadata": {
        "id": "b4RmwCY_E9X8"
      }
    },
    {
      "cell_type": "markdown",
      "source": [],
      "metadata": {
        "id": "VqyJ6oMjFd3H"
      }
    },
    {
      "cell_type": "markdown",
      "source": [],
      "metadata": {
        "id": "jWDCqdEiF92Q"
      }
    },
    {
      "cell_type": "markdown",
      "source": [],
      "metadata": {
        "id": "s4jZe4opGeFW"
      }
    },
    {
      "cell_type": "markdown",
      "source": [],
      "metadata": {
        "id": "uO1fNy9iG-zw"
      }
    },
    {
      "cell_type": "markdown",
      "source": [],
      "metadata": {
        "id": "oLTdP-evHfSk"
      }
    },
    {
      "cell_type": "markdown",
      "source": [],
      "metadata": {
        "id": "1x3lgJ2UH_ia"
      }
    },
    {
      "cell_type": "markdown",
      "source": [],
      "metadata": {
        "id": "hOhVDmR2IgA1"
      }
    },
    {
      "cell_type": "markdown",
      "source": [],
      "metadata": {
        "id": "c6hXSdM5JAgZ"
      }
    },
    {
      "cell_type": "markdown",
      "source": [],
      "metadata": {
        "id": "XxYEtLXoJhA8"
      }
    },
    {
      "cell_type": "markdown",
      "source": [],
      "metadata": {
        "id": "FJjed6cDKBNh"
      }
    },
    {
      "cell_type": "markdown",
      "source": [],
      "metadata": {
        "id": "xcYuG4n5Khhh"
      }
    },
    {
      "cell_type": "markdown",
      "source": [],
      "metadata": {
        "id": "oSqhVedjLCXK"
      }
    },
    {
      "cell_type": "markdown",
      "source": [],
      "metadata": {
        "id": "vkwtm1vKLiqC"
      }
    },
    {
      "cell_type": "markdown",
      "source": [],
      "metadata": {
        "id": "tVeWxlqwMDIz"
      }
    },
    {
      "cell_type": "markdown",
      "source": [],
      "metadata": {
        "id": "HDijcUSsMjIT"
      }
    },
    {
      "cell_type": "markdown",
      "source": [],
      "metadata": {
        "id": "3UcVazSlNDX5"
      }
    },
    {
      "cell_type": "markdown",
      "source": [],
      "metadata": {
        "id": "A4LTbgXSNjXR"
      }
    },
    {
      "cell_type": "markdown",
      "source": [],
      "metadata": {
        "id": "mnT8iQbSOEF3"
      }
    },
    {
      "cell_type": "markdown",
      "source": [],
      "metadata": {
        "id": "G7PmMSFOOkVI"
      }
    },
    {
      "cell_type": "markdown",
      "source": [],
      "metadata": {
        "id": "rwmd-YgOPFDX"
      }
    },
    {
      "cell_type": "markdown",
      "source": [],
      "metadata": {
        "id": "pul27n1qPlyO"
      }
    },
    {
      "cell_type": "markdown",
      "source": [],
      "metadata": {
        "id": "FTLWDHkrQFSU"
      }
    },
    {
      "cell_type": "markdown",
      "source": [],
      "metadata": {
        "id": "lUt9TNBxQlB_"
      }
    },
    {
      "cell_type": "markdown",
      "source": [],
      "metadata": {
        "id": "9aASs8FiRFQi"
      }
    },
    {
      "cell_type": "markdown",
      "source": [],
      "metadata": {
        "id": "k5f0N2pMRlAc"
      }
    },
    {
      "cell_type": "markdown",
      "source": [],
      "metadata": {
        "id": "KtYQp20tSFG1"
      }
    },
    {
      "cell_type": "markdown",
      "source": [],
      "metadata": {
        "id": "adbIEUkKSlfJ"
      }
    },
    {
      "cell_type": "markdown",
      "source": [],
      "metadata": {
        "id": "E986rt-GTFt8"
      }
    },
    {
      "cell_type": "markdown",
      "source": [],
      "metadata": {
        "id": "KowXDIP7TmMJ"
      }
    },
    {
      "cell_type": "markdown",
      "source": [],
      "metadata": {
        "id": "CJKt4Ua7UGmy"
      }
    },
    {
      "cell_type": "markdown",
      "source": [],
      "metadata": {
        "id": "DMUN4FG_Um1j"
      }
    },
    {
      "cell_type": "markdown",
      "source": [],
      "metadata": {
        "id": "mVILCk2yVHEW"
      }
    },
    {
      "cell_type": "markdown",
      "source": [],
      "metadata": {
        "id": "M74tmuw6Vni2"
      }
    },
    {
      "cell_type": "markdown",
      "source": [],
      "metadata": {
        "id": "5HXYl0RpWHSW"
      }
    },
    {
      "cell_type": "markdown",
      "source": [],
      "metadata": {
        "id": "qK6voekcWowQ"
      }
    },
    {
      "cell_type": "markdown",
      "source": [],
      "metadata": {
        "id": "yVAlmvP6XJyh"
      }
    },
    {
      "cell_type": "markdown",
      "source": [],
      "metadata": {
        "id": "FzLWjAhZXqig"
      }
    },
    {
      "cell_type": "markdown",
      "source": [],
      "metadata": {
        "id": "NqHrV4mnYMhX"
      }
    },
    {
      "cell_type": "markdown",
      "source": [],
      "metadata": {
        "id": "KO59l2neYtUF"
      }
    },
    {
      "cell_type": "markdown",
      "source": [],
      "metadata": {
        "id": "hvYdtqWJZOEt"
      }
    },
    {
      "cell_type": "markdown",
      "source": [],
      "metadata": {
        "id": "vfgGKR-lZu5h"
      }
    },
    {
      "cell_type": "markdown",
      "source": [],
      "metadata": {
        "id": "JK2vK5G6aPI4"
      }
    },
    {
      "cell_type": "markdown",
      "source": [],
      "metadata": {
        "id": "7ys5spjFawH7"
      }
    },
    {
      "cell_type": "markdown",
      "source": [],
      "metadata": {
        "id": "tn7IMF3rbQnf"
      }
    },
    {
      "cell_type": "markdown",
      "source": [],
      "metadata": {
        "id": "XTx7x_RubxWF"
      }
    },
    {
      "cell_type": "markdown",
      "source": [],
      "metadata": {
        "id": "4jBEBtU4cR1Z"
      }
    },
    {
      "cell_type": "markdown",
      "source": [],
      "metadata": {
        "id": "lYZCoC_wcyE2"
      }
    },
    {
      "cell_type": "markdown",
      "source": [],
      "metadata": {
        "id": "S_xDDZ5wdSzG"
      }
    },
    {
      "cell_type": "markdown",
      "source": [],
      "metadata": {
        "id": "hvosmjhTdzxU"
      }
    },
    {
      "cell_type": "markdown",
      "source": [],
      "metadata": {
        "id": "jD2Cx0aBeUK9"
      }
    },
    {
      "cell_type": "markdown",
      "source": [],
      "metadata": {
        "id": "P9hgcCh8e0pr"
      }
    },
    {
      "cell_type": "markdown",
      "source": [],
      "metadata": {
        "id": "ZA46UeSDfVVf"
      }
    },
    {
      "cell_type": "markdown",
      "source": [],
      "metadata": {
        "id": "enL6paY9f1k8"
      }
    },
    {
      "cell_type": "markdown",
      "source": [],
      "metadata": {
        "id": "BOD5mSc_gVWB"
      }
    },
    {
      "cell_type": "markdown",
      "source": [],
      "metadata": {
        "id": "6l42DJ-pg1VR"
      }
    },
    {
      "cell_type": "markdown",
      "source": [],
      "metadata": {
        "id": "uUdGdu7ThVF1"
      }
    },
    {
      "cell_type": "markdown",
      "source": [],
      "metadata": {
        "id": "gd_Ds4s-h1Uj"
      }
    },
    {
      "cell_type": "markdown",
      "source": [],
      "metadata": {
        "id": "wuOydBcgiVUT"
      }
    },
    {
      "cell_type": "markdown",
      "source": [],
      "metadata": {
        "id": "0BN9Q14ji1jB"
      }
    },
    {
      "cell_type": "markdown",
      "source": [],
      "metadata": {
        "id": "8V8Sxf9YjWDg"
      }
    },
    {
      "cell_type": "markdown",
      "source": [],
      "metadata": {
        "id": "aaoiho98j2Sp"
      }
    },
    {
      "cell_type": "markdown",
      "source": [],
      "metadata": {
        "id": "pSO9HJPRkYCb"
      }
    },
    {
      "cell_type": "markdown",
      "source": [],
      "metadata": {
        "id": "w60WT5gfk5Fi"
      }
    },
    {
      "cell_type": "markdown",
      "source": [],
      "metadata": {
        "id": "FFzYdEcalZxf"
      }
    },
    {
      "cell_type": "markdown",
      "source": [],
      "metadata": {
        "id": "T2wlwdEll601"
      }
    },
    {
      "cell_type": "markdown",
      "source": [],
      "metadata": {
        "id": "nu5QNwWsmcE3"
      }
    },
    {
      "cell_type": "markdown",
      "source": [],
      "metadata": {
        "id": "7ExHezMKm811"
      }
    },
    {
      "cell_type": "markdown",
      "source": [],
      "metadata": {
        "id": "nDp9xMJKndWa"
      }
    },
    {
      "cell_type": "markdown",
      "source": [],
      "metadata": {
        "id": "22X1qqbBn-Fa"
      }
    },
    {
      "cell_type": "markdown",
      "source": [],
      "metadata": {
        "id": "t6Dvg5eFoeNh"
      }
    },
    {
      "cell_type": "markdown",
      "source": [],
      "metadata": {
        "id": "RKzKuFz_o_W6"
      }
    },
    {
      "cell_type": "markdown",
      "source": [],
      "metadata": {
        "id": "0ddb2wNYpgA3"
      }
    },
    {
      "cell_type": "markdown",
      "source": [],
      "metadata": {
        "id": "v31DJLhiqA8p"
      }
    },
    {
      "cell_type": "markdown",
      "source": [],
      "metadata": {
        "id": "mLdPuQ30qhbO"
      }
    },
    {
      "cell_type": "markdown",
      "source": [],
      "metadata": {
        "id": "LCTmO5BXrCKP"
      }
    },
    {
      "cell_type": "markdown",
      "source": [],
      "metadata": {
        "id": "uB56vbdyrioP"
      }
    },
    {
      "cell_type": "markdown",
      "source": [],
      "metadata": {
        "id": "R-0qWSy5sDrj"
      }
    },
    {
      "cell_type": "markdown",
      "source": [],
      "metadata": {
        "id": "-VG85zIrskaW"
      }
    },
    {
      "cell_type": "markdown",
      "source": [],
      "metadata": {
        "id": "KBPoWEOmtE54"
      }
    },
    {
      "cell_type": "markdown",
      "source": [],
      "metadata": {
        "id": "5OU6JgjrtlYc"
      }
    },
    {
      "cell_type": "markdown",
      "source": [],
      "metadata": {
        "id": "tFp8Sp4SuFnU"
      }
    },
    {
      "cell_type": "markdown",
      "source": [],
      "metadata": {
        "id": "H6UPxaamul22"
      }
    },
    {
      "cell_type": "markdown",
      "source": [],
      "metadata": {
        "id": "efTlIzBzvGa5"
      }
    },
    {
      "cell_type": "markdown",
      "source": [],
      "metadata": {
        "id": "ZBeJcWeRvnaK"
      }
    },
    {
      "cell_type": "markdown",
      "source": [],
      "metadata": {
        "id": "TmOqj_C1wIY0"
      }
    },
    {
      "cell_type": "markdown",
      "source": [],
      "metadata": {
        "id": "BoMi_ofAwon1"
      }
    },
    {
      "cell_type": "markdown",
      "source": [],
      "metadata": {
        "id": "chyLoMazxI4y"
      }
    },
    {
      "cell_type": "markdown",
      "source": [],
      "metadata": {
        "id": "_tVUjM91xooz"
      }
    },
    {
      "cell_type": "markdown",
      "source": [],
      "metadata": {
        "id": "7Wteis37yKHw"
      }
    },
    {
      "cell_type": "markdown",
      "source": [],
      "metadata": {
        "id": "Emtsl3lsyqm6"
      }
    },
    {
      "cell_type": "markdown",
      "source": [],
      "metadata": {
        "id": "DRxPLT-DzL6U"
      }
    },
    {
      "cell_type": "markdown",
      "source": [],
      "metadata": {
        "id": "xAV8Aji9zsu-"
      }
    },
    {
      "cell_type": "markdown",
      "source": [],
      "metadata": {
        "id": "BwXp0YVM0OC6"
      }
    },
    {
      "cell_type": "markdown",
      "source": [],
      "metadata": {
        "id": "M7DlUdEZ0uo_"
      }
    },
    {
      "cell_type": "markdown",
      "source": [],
      "metadata": {
        "id": "Lqksrzjt1PqJ"
      }
    },
    {
      "cell_type": "markdown",
      "source": [],
      "metadata": {
        "id": "N5nre56U1vaw"
      }
    },
    {
      "cell_type": "markdown",
      "source": [],
      "metadata": {
        "id": "9sQfZSUB2QKb"
      }
    },
    {
      "cell_type": "markdown",
      "source": [],
      "metadata": {
        "id": "UywWIKKH2waB"
      }
    },
    {
      "cell_type": "markdown",
      "source": [],
      "metadata": {
        "id": "YWHO8cpX3QKa"
      }
    },
    {
      "cell_type": "markdown",
      "source": [],
      "metadata": {
        "id": "udVA8mFR3v88"
      }
    },
    {
      "cell_type": "markdown",
      "source": [],
      "metadata": {
        "id": "dmvRvcub4QMh"
      }
    },
    {
      "cell_type": "markdown",
      "source": [],
      "metadata": {
        "id": "csSwc3E94wMI"
      }
    },
    {
      "cell_type": "markdown",
      "source": [],
      "metadata": {
        "id": "2dv4pjsW5Q9I"
      }
    },
    {
      "cell_type": "markdown",
      "source": [],
      "metadata": {
        "id": "GAycGhD55xsu"
      }
    },
    {
      "cell_type": "markdown",
      "source": [],
      "metadata": {
        "id": "luG9OCAP6Sby"
      }
    },
    {
      "cell_type": "markdown",
      "source": [],
      "metadata": {
        "id": "cZRD6zqH6ybK"
      }
    },
    {
      "cell_type": "markdown",
      "source": [],
      "metadata": {
        "id": "pToz9mdk7Sa3"
      }
    },
    {
      "cell_type": "markdown",
      "source": [],
      "metadata": {
        "id": "9-r-dcbg7zJp"
      }
    },
    {
      "cell_type": "markdown",
      "source": [],
      "metadata": {
        "id": "RYBokipo8UHq"
      }
    },
    {
      "cell_type": "markdown",
      "source": [],
      "metadata": {
        "id": "jqDdgbOH81Wb"
      }
    },
    {
      "cell_type": "markdown",
      "source": [],
      "metadata": {
        "id": "fYNj2iLw9Ucj"
      }
    },
    {
      "cell_type": "markdown",
      "source": [],
      "metadata": {
        "id": "dbD3t35L9y2R"
      }
    },
    {
      "cell_type": "markdown",
      "source": [],
      "metadata": {
        "id": "ogWHX9tx-RZr"
      }
    },
    {
      "cell_type": "markdown",
      "source": [],
      "metadata": {
        "id": "UUQjO41O-2oG"
      }
    },
    {
      "cell_type": "markdown",
      "source": [],
      "metadata": {
        "id": "RpjbiR9A_VEc"
      }
    },
    {
      "cell_type": "code",
      "source": [],
      "metadata": {
        "id": "etS8h4xzJabi"
      },
      "execution_count": null,
      "outputs": []
    }
  ]
}